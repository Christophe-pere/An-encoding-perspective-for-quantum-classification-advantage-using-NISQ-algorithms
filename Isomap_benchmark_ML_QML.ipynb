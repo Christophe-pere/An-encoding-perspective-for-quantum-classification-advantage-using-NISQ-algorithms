{
 "cells": [
  {
   "cell_type": "markdown",
   "id": "d41d3fa6-0ae0-490d-a02b-0dbf81799488",
   "metadata": {},
   "source": [
    "# Quantum benchmark"
   ]
  },
  {
   "cell_type": "markdown",
   "id": "d6011e42-1fab-4f9f-ab99-f4f08607517e",
   "metadata": {},
   "source": [
    "## I - Introduction"
   ]
  },
  {
   "cell_type": "code",
   "execution_count": null,
   "id": "13b4f6b4-240b-4b7f-abe4-4e74b3b8cc8a",
   "metadata": {},
   "outputs": [],
   "source": []
  },
  {
   "cell_type": "markdown",
   "id": "bd5492ce-4f08-4755-b4c2-efd698139101",
   "metadata": {},
   "source": [
    "## II - Packages"
   ]
  },
  {
   "cell_type": "code",
   "execution_count": 1,
   "id": "90371200-0133-46ab-a205-d0f6b8858e55",
   "metadata": {},
   "outputs": [],
   "source": [
    "import pandas as pd\n",
    "import matplotlib.pyplot as plt\n",
    "import numpy as np\n",
    "from sklearn.model_selection import train_test_split\n",
    "from sklearn.preprocessing import StandardScaler\n",
    "from sklearn.decomposition import PCA\n",
    "from sklearn.discriminant_analysis import LinearDiscriminantAnalysis as LDA\n",
    "from sklearn.preprocessing import MinMaxScaler\n",
    "from sklearn.svm import SVC\n",
    "from sklearn import metrics\n",
    "from sklearn.ensemble import RandomForestClassifier\n",
    "from sklearn.linear_model import LogisticRegression\n",
    "from sklearn.tree import DecisionTreeClassifier\n",
    "from sklearn.preprocessing import normalize\n",
    "from sklearn.model_selection import cross_val_score, KFold\n",
    "#Import classical libraries\n",
    "from sklearn.neighbors import KNeighborsClassifier\n",
    "from sklearn.naive_bayes import GaussianNB\n",
    "from sklearn.svm import SVC\n",
    "from sklearn.ensemble import RandomForestClassifier\n",
    "from sklearn.model_selection import train_test_split\n",
    "from sklearn import datasets\n",
    "import matplotlib.pyplot as plt\n",
    "from sklearn.manifold import Isomap\n",
    "\n",
    "plt.style.use('ggplot')\n",
    "\n",
    "import functools\n",
    "\n",
    "from qiskit import BasicAer\n",
    "from qiskit.circuit.library import ZZFeatureMap\n",
    "from qiskit.utils import QuantumInstance, algorithm_globals\n",
    "from qiskit_machine_learning.algorithms import QSVC\n",
    "from qiskit_machine_learning.kernels import QuantumKernel\n",
    "from qiskit_machine_learning.datasets import ad_hoc_data\n",
    "import logging\n",
    "\n",
    "import pennylane as qml\n",
    "from pennylane.templates.embeddings import AngleEmbedding, AmplitudeEmbedding\n",
    "from pennylane.optimize import AdamOptimizer\n",
    "\n",
    "from qiskit.algorithms.optimizers import COBYLA\n",
    "from qiskit.circuit.library import TwoLocal, ZZFeatureMap\n",
    "import qiskit"
   ]
  },
  {
   "cell_type": "code",
   "execution_count": null,
   "id": "e2077ff5-51ef-489c-ad2c-a4450f279198",
   "metadata": {},
   "outputs": [],
   "source": [
    "import warnings\n",
    "warnings.filterwarnings('ignore')"
   ]
  },
  {
   "cell_type": "markdown",
   "id": "1598c94c-fdcf-41cd-a4ea-e262932c7e0f",
   "metadata": {},
   "source": [
    "## III - Data "
   ]
  },
  {
   "cell_type": "code",
   "execution_count": 2,
   "id": "e683f3b5-6021-4eb7-bc53-539a5cd79bfc",
   "metadata": {},
   "outputs": [],
   "source": [
    "# Read out CSV\n",
    "\n",
    "df = pd.read_csv('UCI_Credit_Card.csv', sep=',')"
   ]
  },
  {
   "cell_type": "code",
   "execution_count": 3,
   "id": "bf69c7f1-b10e-4b54-89ec-89dd5829ac42",
   "metadata": {},
   "outputs": [],
   "source": [
    "%%script false --no-raise-error\n",
    "\n",
    "import sweetviz as sv\n",
    "\n",
    "#EDA using Autoviz\n",
    "sweet_report = sv.analyze(df)\n",
    "\n",
    "#Saving results to HTML file\n",
    "sweet_report.show_html('sweet_report.html')"
   ]
  },
  {
   "cell_type": "markdown",
   "id": "c4ff48fa-d03b-435d-9343-67186c068b34",
   "metadata": {},
   "source": [
    "## IV - Modelisation"
   ]
  },
  {
   "cell_type": "markdown",
   "id": "3dbe1bb7-d7eb-412b-a291-bbeb654766f5",
   "metadata": {},
   "source": [
    "### Classical"
   ]
  },
  {
   "cell_type": "code",
   "execution_count": 3,
   "id": "d7f6037b-3b1c-4a2c-8a9e-df1d432cafa4",
   "metadata": {},
   "outputs": [],
   "source": [
    "df_labels = df['default.payment.next.month']\n",
    "df.drop(['default.payment.next.month'],axis = 1,inplace = True)"
   ]
  },
  {
   "cell_type": "code",
   "execution_count": 4,
   "id": "249ef3a0-7be3-4234-8be6-630db2cd267f",
   "metadata": {},
   "outputs": [],
   "source": [
    "X_train, X_test, y_train, y_test = train_test_split(df, df_labels, test_size=0.2, random_state=42)"
   ]
  },
  {
   "cell_type": "markdown",
   "id": "2cdd918a-57d8-443f-861d-77609bdb67a1",
   "metadata": {},
   "source": [
    "---"
   ]
  },
  {
   "cell_type": "markdown",
   "id": "b1251e3e-c8ed-4e57-a790-1fa8003f8c31",
   "metadata": {},
   "source": [
    "## Quantum Approaches"
   ]
  },
  {
   "cell_type": "code",
   "execution_count": 5,
   "id": "ee7dbe31-df83-4bcf-b16c-42e66a1716ec",
   "metadata": {},
   "outputs": [],
   "source": [
    "std_scale = StandardScaler().fit(X_train)\n",
    "sample_train = std_scale.transform(X_train)\n",
    "sample_test = std_scale.transform(X_test)\n"
   ]
  },
  {
   "cell_type": "code",
   "execution_count": 6,
   "id": "a948c1c2-cb55-49b2-bb4c-c2d2fdca527a",
   "metadata": {},
   "outputs": [],
   "source": [
    "iso = Isomap(n_components=2)"
   ]
  },
  {
   "cell_type": "code",
   "execution_count": 7,
   "id": "b921a949-e3bd-45b6-b0e0-a84f96788811",
   "metadata": {},
   "outputs": [],
   "source": [
    "df_iso = iso.fit(sample_train, y_train)"
   ]
  },
  {
   "cell_type": "code",
   "execution_count": 8,
   "id": "49a6d020-a773-40aa-8b33-4aa3109c81c0",
   "metadata": {},
   "outputs": [],
   "source": [
    "df_iso = iso.transform(sample_train)"
   ]
  },
  {
   "cell_type": "code",
   "execution_count": 9,
   "id": "1f4af8af-b3b5-4932-b5d2-a3ffa9b4d1aa",
   "metadata": {},
   "outputs": [],
   "source": [
    "df_iso_train = pd.DataFrame(data = df_iso\n",
    "             , columns = ['iso_1', 'iso_2'])\n"
   ]
  },
  {
   "cell_type": "code",
   "execution_count": 10,
   "id": "d44d3d2b-b4f7-42d8-9e7c-8cff06ef8ca2",
   "metadata": {},
   "outputs": [
    {
     "data": {
      "text/html": [
       "<div>\n",
       "<style scoped>\n",
       "    .dataframe tbody tr th:only-of-type {\n",
       "        vertical-align: middle;\n",
       "    }\n",
       "\n",
       "    .dataframe tbody tr th {\n",
       "        vertical-align: top;\n",
       "    }\n",
       "\n",
       "    .dataframe thead th {\n",
       "        text-align: right;\n",
       "    }\n",
       "</style>\n",
       "<table border=\"1\" class=\"dataframe\">\n",
       "  <thead>\n",
       "    <tr style=\"text-align: right;\">\n",
       "      <th></th>\n",
       "      <th>iso_1</th>\n",
       "      <th>iso_2</th>\n",
       "    </tr>\n",
       "  </thead>\n",
       "  <tbody>\n",
       "    <tr>\n",
       "      <th>0</th>\n",
       "      <td>-1.200149</td>\n",
       "      <td>-5.811421</td>\n",
       "    </tr>\n",
       "    <tr>\n",
       "      <th>1</th>\n",
       "      <td>3.949455</td>\n",
       "      <td>7.356078</td>\n",
       "    </tr>\n",
       "    <tr>\n",
       "      <th>2</th>\n",
       "      <td>-5.242927</td>\n",
       "      <td>0.317339</td>\n",
       "    </tr>\n",
       "    <tr>\n",
       "      <th>3</th>\n",
       "      <td>3.429907</td>\n",
       "      <td>6.341757</td>\n",
       "    </tr>\n",
       "    <tr>\n",
       "      <th>4</th>\n",
       "      <td>1.741190</td>\n",
       "      <td>-7.542940</td>\n",
       "    </tr>\n",
       "  </tbody>\n",
       "</table>\n",
       "</div>"
      ],
      "text/plain": [
       "      iso_1     iso_2\n",
       "0 -1.200149 -5.811421\n",
       "1  3.949455  7.356078\n",
       "2 -5.242927  0.317339\n",
       "3  3.429907  6.341757\n",
       "4  1.741190 -7.542940"
      ]
     },
     "execution_count": 10,
     "metadata": {},
     "output_type": "execute_result"
    }
   ],
   "source": [
    "df_iso_train.head()"
   ]
  },
  {
   "cell_type": "code",
   "execution_count": 11,
   "id": "a1de5099-55d4-4d2d-9ea4-eaf60c27b16c",
   "metadata": {},
   "outputs": [],
   "source": [
    "n_dim = len(df_iso_train.columns)"
   ]
  },
  {
   "cell_type": "markdown",
   "id": "bd626d5c-ff6a-443a-9700-10a93c24dc74",
   "metadata": {},
   "source": [
    "## Split train test "
   ]
  },
  {
   "cell_type": "code",
   "execution_count": 14,
   "id": "afaf0912-bdbf-4460-ae4c-43016d1f5a57",
   "metadata": {},
   "outputs": [],
   "source": [
    "# Split dataset into train and test\n",
    "\n",
    "sample_train, sample_test, label_train, label_test = train_test_split(\n",
    "     df_iso_train, y_train, test_size=0.2, random_state=22)\n",
    "\n",
    "sample_train = sample_train.to_numpy()\n",
    "sample_test = sample_test.to_numpy()\n",
    "# Normalize\n",
    "\n",
    "#std_scale = StandardScaler().fit(sample_train)\n",
    "#sample_train = std_scale.transform(sample_train)\n",
    "#sample_test = std_scale.transform(sample_test)\n",
    "\n",
    "# Scale for better fit within the feature map\n",
    "\n",
    "samples = np.append(sample_train, sample_test, axis=0)\n",
    "minmax_scale = MinMaxScaler((-1, 1)).fit(samples)\n",
    "sample_train = minmax_scale.transform(sample_train)\n",
    "sample_test = minmax_scale.transform(sample_test)\n",
    "\n",
    "# Select a sample for a better control of the research and wall time\n",
    "\n",
    "train_size = 800#160\n",
    "sample_train = sample_train[:train_size]\n",
    "label_train = y_train[:train_size]\n",
    "\n",
    "test_size = 200 #40\n",
    "sample_test = sample_test[:test_size]\n",
    "label_test = y_test[:test_size]"
   ]
  },
  {
   "cell_type": "code",
   "execution_count": 15,
   "id": "79bec8c4-ee94-40d4-8aa5-d9cd60ade5de",
   "metadata": {},
   "outputs": [
    {
     "data": {
      "text/plain": [
       "array([[-0.39243196, -0.16506998],\n",
       "       [ 0.04804465,  0.27907479]])"
      ]
     },
     "execution_count": 15,
     "metadata": {},
     "output_type": "execute_result"
    }
   ],
   "source": [
    "sample_train[:2]"
   ]
  },
  {
   "cell_type": "code",
   "execution_count": 16,
   "id": "e18ed934-25bb-4633-81ee-c31d971bafbd",
   "metadata": {},
   "outputs": [
    {
     "data": {
      "text/plain": [
       "((800, 2), (800,))"
      ]
     },
     "execution_count": 16,
     "metadata": {},
     "output_type": "execute_result"
    }
   ],
   "source": [
    "sample_train.shape, label_train.shape"
   ]
  },
  {
   "cell_type": "code",
   "execution_count": 17,
   "id": "d815edbe-c5e7-42d6-9489-39ebb940cda4",
   "metadata": {},
   "outputs": [],
   "source": [
    "# Basic parameters for hybrid model\n",
    "\n",
    "seed = 8500\n",
    "feature_dim = n_dim\n",
    "num_reps = 2\n",
    "num_shots =256 \n"
   ]
  },
  {
   "cell_type": "markdown",
   "id": "a17bc9af-4a1c-453d-be99-d54b9e045628",
   "metadata": {},
   "source": [
    "## Hybrid"
   ]
  },
  {
   "cell_type": "code",
   "execution_count": 39,
   "id": "c2ce7078-9255-4913-b6aa-7f05a0e077c3",
   "metadata": {
    "tags": []
   },
   "outputs": [],
   "source": [
    "# Define feature_map\n",
    "\n",
    "feature_map = ZZFeatureMap(feature_dimension=feature_dim, reps=num_reps)\n",
    "\n",
    "# Define the backend\n",
    "backend = QuantumInstance(\n",
    "    BasicAer.get_backend(\"qasm_simulator\"), shots=num_shots, seed_simulator=seed, seed_transpiler=seed\n",
    ")\n",
    "\n",
    "# Define the kernel\n",
    "\n",
    "kernel = QuantumKernel(feature_map=feature_map, quantum_instance=backend)\n",
    "\n",
    "# Model run\n",
    "svc = SVC(kernel=kernel.evaluate)\n",
    "#svc.fit(sample_train, label_train)\n",
    "#score = svc.score(sample_test, label_test)\n",
    "\n",
    "#print(f\"Callable kernel classification test score: {score}\")"
   ]
  },
  {
   "cell_type": "code",
   "execution_count": null,
   "id": "b8fd86d8-bec9-42ac-8543-c69c973a7f01",
   "metadata": {},
   "outputs": [],
   "source": [
    "#result_predict = svc.predict(sample_test)"
   ]
  },
  {
   "cell_type": "code",
   "execution_count": null,
   "id": "ee71fc2a-46dc-46d1-8f51-8e3df5723407",
   "metadata": {},
   "outputs": [],
   "source": [
    "#print(metrics.classification_report(label_test,result_predict))"
   ]
  },
  {
   "cell_type": "markdown",
   "id": "5fc1d4e4-599e-47ea-b53c-dc200ee4dec0",
   "metadata": {},
   "source": [
    "## Classical Approaches"
   ]
  },
  {
   "cell_type": "code",
   "execution_count": 40,
   "id": "d93f1b24-b419-4eb0-abb5-fd297fcec137",
   "metadata": {},
   "outputs": [],
   "source": [
    "models = []\n",
    "models.append(('LR', LogisticRegression(max_iter=1000)))\n",
    "models.append(('KNN', KNeighborsClassifier()))\n",
    "models.append(('CART', DecisionTreeClassifier()))\n",
    "models.append(('NB', GaussianNB()))\n",
    "models.append(('SVM', SVC()))\n",
    "models.append(('QSVC', svc))"
   ]
  },
  {
   "cell_type": "code",
   "execution_count": 41,
   "id": "a92689bc-07b9-4bdd-b25c-0b0bae45a976",
   "metadata": {},
   "outputs": [],
   "source": [
    "df_results = pd.DataFrame()"
   ]
  },
  {
   "cell_type": "code",
   "execution_count": 42,
   "id": "4c519768-4e1e-4e8a-9be6-823f501487a0",
   "metadata": {},
   "outputs": [],
   "source": [
    "_metrics = ['precision', 'recall', 'f1', 'accuracy',  'matthews_corrcoef','balanced_accuracy']"
   ]
  },
  {
   "cell_type": "code",
   "execution_count": null,
   "id": "daeb28b8-ff9d-4a62-9beb-2c4b23004b82",
   "metadata": {},
   "outputs": [
    {
     "name": "stderr",
     "output_type": "stream",
     "text": [
      " 83%|█████████████████████████████████████▌       | 5/6 [01:35<00:31, 31.83s/it]"
     ]
    }
   ],
   "source": [
    "df_results = evaluate_ml_model(models, X_train, y_train, n_fold=10, metric=_metrics)"
   ]
  },
  {
   "cell_type": "code",
   "execution_count": null,
   "id": "e45257d4-6da4-4266-9665-7f7bf5db89e5",
   "metadata": {},
   "outputs": [],
   "source": [
    "df_results"
   ]
  },
  {
   "cell_type": "code",
   "execution_count": 38,
   "id": "5bd332f9-cc4e-43eb-9cd9-0990b709ae83",
   "metadata": {},
   "outputs": [],
   "source": [
    "from sklearn.model_selection import cross_validate\n",
    "from tqdm import tqdm\n",
    "def evaluate_ml_model(_models, X, y, n_fold=10, metric='precision'):\n",
    "    ''' Function to evaluate a ML and QML model with a list of metrics\n",
    "    \n",
    "    \n",
    "    '''\n",
    "    results = pd.DataFrame()\n",
    "    kfold = KFold(n_splits=n_fold)\n",
    "    columns = []\n",
    "    for name, model in tqdm(_models):\n",
    "        # -------------------\n",
    "        # Variables initialization \n",
    "        _df = pd.DataFrame()\n",
    "        names = []\n",
    "        means = []\n",
    "        stds = []\n",
    "        \n",
    "        # -------------------\n",
    "        # k-fold Cross validation\n",
    "        cv_results = cross_validate(model, X, y, cv=kfold, scoring=metric)\n",
    "        \n",
    "        # -------------------\n",
    "        # Compute the mean and standard deviation \n",
    "        for _name, _array in cv_results.items():\n",
    "            names.append(_name)\n",
    "            means.append(round(100*_array.mean(), 2))\n",
    "            stds.append(round(100*_array.std(), 2))\n",
    "        # -------------------\n",
    "        # Save the results in a dataframe \n",
    "        _df =  pd.DataFrame([means, stds], columns=names)\n",
    "        columns.extend([name+' mean (%)', name+' std (%)'])\n",
    "        #results = results.join(_df, on=_df.index)\n",
    "        results = results.append(_df)\n",
    "    results.index = columns\n",
    "    print(results)\n",
    "    return results"
   ]
  },
  {
   "cell_type": "code",
   "execution_count": 41,
   "id": "89520867-4e75-4e63-ae1e-10842771f073",
   "metadata": {},
   "outputs": [
    {
     "name": "stderr",
     "output_type": "stream",
     "text": [
      "/opt/homebrew/lib/python3.9/site-packages/sklearn/metrics/_classification.py:1327: UndefinedMetricWarning: Precision is ill-defined and being set to 0.0 due to no predicted samples. Use `zero_division` parameter to control this behavior.\n",
      "  _warn_prf(average, modifier, msg_start, len(result))\n",
      "/opt/homebrew/lib/python3.9/site-packages/sklearn/metrics/_classification.py:1327: UndefinedMetricWarning: Precision is ill-defined and being set to 0.0 due to no predicted samples. Use `zero_division` parameter to control this behavior.\n",
      "  _warn_prf(average, modifier, msg_start, len(result))\n",
      "/opt/homebrew/lib/python3.9/site-packages/sklearn/metrics/_classification.py:1327: UndefinedMetricWarning: Precision is ill-defined and being set to 0.0 due to no predicted samples. Use `zero_division` parameter to control this behavior.\n",
      "  _warn_prf(average, modifier, msg_start, len(result))\n",
      "/opt/homebrew/lib/python3.9/site-packages/sklearn/metrics/_classification.py:1327: UndefinedMetricWarning: Precision is ill-defined and being set to 0.0 due to no predicted samples. Use `zero_division` parameter to control this behavior.\n",
      "  _warn_prf(average, modifier, msg_start, len(result))\n",
      "/opt/homebrew/lib/python3.9/site-packages/sklearn/metrics/_classification.py:1327: UndefinedMetricWarning: Precision is ill-defined and being set to 0.0 due to no predicted samples. Use `zero_division` parameter to control this behavior.\n",
      "  _warn_prf(average, modifier, msg_start, len(result))\n",
      "/opt/homebrew/lib/python3.9/site-packages/sklearn/metrics/_classification.py:1327: UndefinedMetricWarning: Precision is ill-defined and being set to 0.0 due to no predicted samples. Use `zero_division` parameter to control this behavior.\n",
      "  _warn_prf(average, modifier, msg_start, len(result))\n",
      "/opt/homebrew/lib/python3.9/site-packages/sklearn/metrics/_classification.py:1327: UndefinedMetricWarning: Precision is ill-defined and being set to 0.0 due to no predicted samples. Use `zero_division` parameter to control this behavior.\n",
      "  _warn_prf(average, modifier, msg_start, len(result))\n"
     ]
    }
   ],
   "source": [
    "_metrics = ['precision', 'recall', 'f1', 'accuracy', 'balanced_accuracy', 'matthews_corrcoef']\n",
    "for metric in _metrics:\n",
    "    df_results= pd.concat([df_results, evaluate_ml_model(models, sample_train, label_train, n_fold=10, metric=metric)], axis=1)"
   ]
  },
  {
   "cell_type": "code",
   "execution_count": 42,
   "id": "15d5c6b3-7172-430b-b803-f60126a12cdb",
   "metadata": {},
   "outputs": [],
   "source": [
    "df_results= pd.concat([df_results, evaluate_ml_model(models, sample_train, label_train, n_fold=10, metric='accuracy')], axis=1)"
   ]
  },
  {
   "cell_type": "code",
   "execution_count": 50,
   "id": "8561d92d-f3ee-4045-b6e5-98097a82f364",
   "metadata": {},
   "outputs": [
    {
     "data": {
      "text/html": [
       "<div>\n",
       "<style scoped>\n",
       "    .dataframe tbody tr th:only-of-type {\n",
       "        vertical-align: middle;\n",
       "    }\n",
       "\n",
       "    .dataframe tbody tr th {\n",
       "        vertical-align: top;\n",
       "    }\n",
       "\n",
       "    .dataframe thead th {\n",
       "        text-align: right;\n",
       "    }\n",
       "</style>\n",
       "<table border=\"1\" class=\"dataframe\">\n",
       "  <thead>\n",
       "    <tr style=\"text-align: right;\">\n",
       "      <th></th>\n",
       "      <th>precision mean (%)</th>\n",
       "      <th>precision std (%)</th>\n",
       "      <th>recall mean (%)</th>\n",
       "      <th>recall std (%)</th>\n",
       "      <th>f1 mean (%)</th>\n",
       "      <th>f1 std (%)</th>\n",
       "      <th>accuracy mean (%)</th>\n",
       "      <th>accuracy std (%)</th>\n",
       "      <th>balanced_accuracy mean (%)</th>\n",
       "      <th>balanced_accuracy std (%)</th>\n",
       "      <th>matthews_corrcoef mean (%)</th>\n",
       "      <th>matthews_corrcoef std (%)</th>\n",
       "      <th>accuracy mean (%)</th>\n",
       "      <th>accuracy std (%)</th>\n",
       "    </tr>\n",
       "  </thead>\n",
       "  <tbody>\n",
       "    <tr>\n",
       "      <th>LR</th>\n",
       "      <td>32.33</td>\n",
       "      <td>38.41</td>\n",
       "      <td>3.83</td>\n",
       "      <td>4.18</td>\n",
       "      <td>6.64</td>\n",
       "      <td>7.15</td>\n",
       "      <td>78.75</td>\n",
       "      <td>4.40</td>\n",
       "      <td>51.04</td>\n",
       "      <td>2.06</td>\n",
       "      <td>5.26</td>\n",
       "      <td>12.02</td>\n",
       "      <td>78.75</td>\n",
       "      <td>4.40</td>\n",
       "    </tr>\n",
       "    <tr>\n",
       "      <th>KNN</th>\n",
       "      <td>46.35</td>\n",
       "      <td>19.88</td>\n",
       "      <td>15.24</td>\n",
       "      <td>7.84</td>\n",
       "      <td>22.50</td>\n",
       "      <td>10.97</td>\n",
       "      <td>79.62</td>\n",
       "      <td>3.75</td>\n",
       "      <td>55.81</td>\n",
       "      <td>3.59</td>\n",
       "      <td>18.48</td>\n",
       "      <td>10.49</td>\n",
       "      <td>79.62</td>\n",
       "      <td>3.75</td>\n",
       "    </tr>\n",
       "    <tr>\n",
       "      <th>CART</th>\n",
       "      <td>36.26</td>\n",
       "      <td>8.58</td>\n",
       "      <td>40.86</td>\n",
       "      <td>12.95</td>\n",
       "      <td>40.95</td>\n",
       "      <td>8.92</td>\n",
       "      <td>72.12</td>\n",
       "      <td>7.23</td>\n",
       "      <td>59.73</td>\n",
       "      <td>8.02</td>\n",
       "      <td>23.63</td>\n",
       "      <td>13.51</td>\n",
       "      <td>72.75</td>\n",
       "      <td>7.02</td>\n",
       "    </tr>\n",
       "    <tr>\n",
       "      <th>NB</th>\n",
       "      <td>24.40</td>\n",
       "      <td>5.86</td>\n",
       "      <td>92.62</td>\n",
       "      <td>6.15</td>\n",
       "      <td>38.36</td>\n",
       "      <td>7.81</td>\n",
       "      <td>38.75</td>\n",
       "      <td>6.37</td>\n",
       "      <td>58.64</td>\n",
       "      <td>4.59</td>\n",
       "      <td>17.44</td>\n",
       "      <td>9.21</td>\n",
       "      <td>38.75</td>\n",
       "      <td>6.37</td>\n",
       "    </tr>\n",
       "    <tr>\n",
       "      <th>SVM</th>\n",
       "      <td>10.00</td>\n",
       "      <td>30.00</td>\n",
       "      <td>1.05</td>\n",
       "      <td>3.16</td>\n",
       "      <td>1.90</td>\n",
       "      <td>5.71</td>\n",
       "      <td>79.12</td>\n",
       "      <td>3.95</td>\n",
       "      <td>50.21</td>\n",
       "      <td>1.72</td>\n",
       "      <td>0.62</td>\n",
       "      <td>9.73</td>\n",
       "      <td>79.12</td>\n",
       "      <td>3.95</td>\n",
       "    </tr>\n",
       "  </tbody>\n",
       "</table>\n",
       "</div>"
      ],
      "text/plain": [
       "      precision mean (%)  precision std (%)  recall mean (%)  recall std (%)  \\\n",
       "LR                 32.33              38.41             3.83            4.18   \n",
       "KNN                46.35              19.88            15.24            7.84   \n",
       "CART               36.26               8.58            40.86           12.95   \n",
       "NB                 24.40               5.86            92.62            6.15   \n",
       "SVM                10.00              30.00             1.05            3.16   \n",
       "\n",
       "      f1 mean (%)  f1 std (%)  accuracy mean (%)  accuracy std (%)  \\\n",
       "LR           6.64        7.15              78.75              4.40   \n",
       "KNN         22.50       10.97              79.62              3.75   \n",
       "CART        40.95        8.92              72.12              7.23   \n",
       "NB          38.36        7.81              38.75              6.37   \n",
       "SVM          1.90        5.71              79.12              3.95   \n",
       "\n",
       "      balanced_accuracy mean (%)  balanced_accuracy std (%)  \\\n",
       "LR                         51.04                       2.06   \n",
       "KNN                        55.81                       3.59   \n",
       "CART                       59.73                       8.02   \n",
       "NB                         58.64                       4.59   \n",
       "SVM                        50.21                       1.72   \n",
       "\n",
       "      matthews_corrcoef mean (%)  matthews_corrcoef std (%)  \\\n",
       "LR                          5.26                      12.02   \n",
       "KNN                        18.48                      10.49   \n",
       "CART                       23.63                      13.51   \n",
       "NB                         17.44                       9.21   \n",
       "SVM                         0.62                       9.73   \n",
       "\n",
       "      accuracy mean (%)  accuracy std (%)  \n",
       "LR                78.75              4.40  \n",
       "KNN               79.62              3.75  \n",
       "CART              72.75              7.02  \n",
       "NB                38.75              6.37  \n",
       "SVM               79.12              3.95  "
      ]
     },
     "execution_count": 50,
     "metadata": {},
     "output_type": "execute_result"
    }
   ],
   "source": [
    "df_results"
   ]
  },
  {
   "cell_type": "markdown",
   "id": "3b70b837-4e39-4b65-83ca-8e82fc83efa1",
   "metadata": {},
   "source": [
    "## Pennylane"
   ]
  },
  {
   "cell_type": "code",
   "execution_count": 20,
   "id": "ff1d5656-f2f2-4d96-b210-a75a161cdb39",
   "metadata": {},
   "outputs": [],
   "source": [
    "from pennylane import numpy as np"
   ]
  },
  {
   "cell_type": "code",
   "execution_count": 21,
   "id": "07ec49f5-c401-4c36-aae3-57aad3eaa0ba",
   "metadata": {},
   "outputs": [],
   "source": [
    "# Angle Encoding\n",
    "\n",
    "num_qubits = n_dim\n",
    "\n",
    "dev = qml.device('default.qubit', wires = num_qubits)\n",
    "\n",
    "@qml.qnode(dev)\n",
    "def circuit(parameters, data):\n",
    "    for i in range(num_qubits):\n",
    "        qml.Hadamard(wires = i)\n",
    "    \n",
    "    AngleEmbedding(features = data, wires = range(num_qubits), rotation = 'Y')\n",
    "    \n",
    "    qml.StronglyEntanglingLayers(weights = parameters, wires = range(num_qubits))\n",
    "    \n",
    "    return qml.expval(qml.PauliZ(0))"
   ]
  },
  {
   "cell_type": "code",
   "execution_count": 22,
   "id": "ffcf8fdb-37a0-4b64-b73c-76be553995e8",
   "metadata": {},
   "outputs": [],
   "source": [
    "num_layers = 5\n",
    "weights_init = 0.01 * np.random.randn(num_layers, num_qubits, 3, requires_grad=True)\n",
    "bias_init = np.array(0.0, requires_grad=True)\n",
    "\n",
    "#print(weights_init, bias_init)"
   ]
  },
  {
   "cell_type": "code",
   "execution_count": 23,
   "id": "a42a8ff5-ca13-43a8-8773-3c739aa53b71",
   "metadata": {},
   "outputs": [
    {
     "data": {
      "text/plain": [
       "array([[-0.39243196, -0.16506998],\n",
       "       [ 0.04804465,  0.27907479],\n",
       "       [ 0.18141458, -0.43710395],\n",
       "       ...,\n",
       "       [-0.1980959 , -0.4089997 ],\n",
       "       [-0.45984055, -0.177832  ],\n",
       "       [-0.27884889,  0.27039532]])"
      ]
     },
     "execution_count": 23,
     "metadata": {},
     "output_type": "execute_result"
    }
   ],
   "source": [
    "sample_train"
   ]
  },
  {
   "cell_type": "code",
   "execution_count": 24,
   "id": "49568595-37ec-4749-a230-dc4c6dae2500",
   "metadata": {},
   "outputs": [
    {
     "data": {
      "text/plain": [
       "tensor(0.05181871, requires_grad=True)"
      ]
     },
     "execution_count": 24,
     "metadata": {},
     "output_type": "execute_result"
    }
   ],
   "source": [
    "circuit(weights_init, sample_train[0])"
   ]
  },
  {
   "cell_type": "code",
   "execution_count": 25,
   "id": "4febb380-0955-4f05-a872-326cc4e3a27c",
   "metadata": {},
   "outputs": [],
   "source": [
    "def variational_classifier(weights, bias, x):\n",
    "    return circuit(weights, x) + bias"
   ]
  },
  {
   "cell_type": "code",
   "execution_count": 26,
   "id": "c16a1f84-63e5-4fbb-a647-cba6db4c6c4c",
   "metadata": {},
   "outputs": [],
   "source": [
    "def square_loss(labels, predictions):\n",
    "    loss = 0\n",
    "    for l, p in zip(labels, predictions):\n",
    "        loss = loss + (l - p) ** 2\n",
    "\n",
    "    loss = loss / len(labels)\n",
    "    return loss"
   ]
  },
  {
   "cell_type": "code",
   "execution_count": 27,
   "id": "07412a53-c93b-4c73-bd0b-e7e144454435",
   "metadata": {},
   "outputs": [],
   "source": [
    "def accuracy(labels, predictions):\n",
    "\n",
    "    loss = 0\n",
    "    for l, p in zip(labels, predictions):\n",
    "        if abs(l - p) < 1e-5:\n",
    "            loss = loss + 1\n",
    "    loss = loss / len(labels)\n",
    "\n",
    "    return loss"
   ]
  },
  {
   "cell_type": "code",
   "execution_count": 28,
   "id": "1bf0b58e-38f3-4c45-a4d2-3d69af787ba3",
   "metadata": {},
   "outputs": [],
   "source": [
    "def cost(weights, bias, X, Y):\n",
    "    predictions = [variational_classifier(weights, bias, x) for x in X]\n",
    "    return square_loss(Y, predictions)"
   ]
  },
  {
   "cell_type": "code",
   "execution_count": 29,
   "id": "21ff4aa6-c15b-4a59-a718-67d8da2402dd",
   "metadata": {},
   "outputs": [
    {
     "name": "stdout",
     "output_type": "stream",
     "text": [
      "X = [tensor(-0.39243196, requires_grad=True), tensor(-0.16506998, requires_grad=True)], Y = -1\n",
      "X = [tensor(0.04804465, requires_grad=True), tensor(0.27907479, requires_grad=True)], Y = -1\n",
      "X = [tensor(0.18141458, requires_grad=True), tensor(-0.43710395, requires_grad=True)], Y = -1\n",
      "X = [tensor(-0.43049507, requires_grad=True), tensor(-0.14768104, requires_grad=True)], Y = -1\n",
      "X = [tensor(-0.15864416, requires_grad=True), tensor(0.39909446, requires_grad=True)], Y = -1\n"
     ]
    }
   ],
   "source": [
    "Y = np.array(label_train * 2 - np.ones(len(label_train)),requires_grad=True)  # shift label from {0, 1} to {-1, 1}\n",
    "X = np.array(sample_train, requires_grad=True)\n",
    "\n",
    "for i in range(5):\n",
    "    print(\"X = {}, Y = {: d}\".format(list(X[i]), int(Y[i])))"
   ]
  },
  {
   "cell_type": "code",
   "execution_count": 30,
   "id": "074f578a-1984-4814-9070-7b20063c8bd1",
   "metadata": {},
   "outputs": [],
   "source": [
    "opt = AdamOptimizer(stepsize=0.1, beta1=0.9, beta2=0.99, eps=1e-08)\n",
    "batch_size = 10"
   ]
  },
  {
   "cell_type": "code",
   "execution_count": 31,
   "id": "a78e0005-464d-46c0-86f4-946291d7586c",
   "metadata": {},
   "outputs": [],
   "source": [
    "import warnings\n",
    "warnings.filterwarnings('ignore')"
   ]
  },
  {
   "cell_type": "code",
   "execution_count": 32,
   "id": "2d31d6a7-74f4-4e63-b1cb-b92bfb610a5a",
   "metadata": {},
   "outputs": [
    {
     "name": "stdout",
     "output_type": "stream",
     "text": [
      "Iter:     1 | Cost: 0.7107961 | f1: 0.0000000 \n",
      "Iter:     2 | Cost: 0.6886945 | f1: 0.0000000 \n",
      "Iter:     3 | Cost: 0.8311803 | f1: 0.0000000 \n",
      "Iter:     4 | Cost: 0.8051708 | f1: 0.0000000 \n",
      "Iter:     5 | Cost: 0.7165882 | f1: 0.0000000 \n",
      "Iter:     6 | Cost: 0.6965390 | f1: 0.0000000 \n",
      "New best\n",
      "Iter:     7 | Cost: 0.7986648 | f1: 0.1908127 \n",
      "Iter:     8 | Cost: 0.7681767 | f1: 0.1105991 \n",
      "Iter:     9 | Cost: 0.6864613 | f1: 0.0000000 \n",
      "Iter:    10 | Cost: 0.7349488 | f1: 0.0000000 \n",
      "Iter:    11 | Cost: 0.8214495 | f1: 0.0000000 \n",
      "Iter:    12 | Cost: 0.8758459 | f1: 0.0000000 \n",
      "Iter:    13 | Cost: 0.8893280 | f1: 0.0000000 \n",
      "Iter:    14 | Cost: 0.8259435 | f1: 0.0000000 \n",
      "Iter:    15 | Cost: 0.7247371 | f1: 0.0000000 \n",
      "Iter:    16 | Cost: 0.6595238 | f1: 0.0000000 \n",
      "Iter:    17 | Cost: 0.6917144 | f1: 0.0000000 \n",
      "Iter:    18 | Cost: 0.8619374 | f1: 0.0000000 \n",
      "New best\n",
      "Iter:    19 | Cost: 0.9646267 | f1: 0.3144105 \n",
      "Iter:    20 | Cost: 0.9179635 | f1: 0.0531915 \n",
      "Iter:    21 | Cost: 0.8412988 | f1: 0.0000000 \n",
      "Iter:    22 | Cost: 0.7563338 | f1: 0.0000000 \n",
      "Iter:    23 | Cost: 0.6938175 | f1: 0.0000000 \n",
      "Iter:    24 | Cost: 0.6819087 | f1: 0.0000000 \n",
      "Iter:    25 | Cost: 0.6699740 | f1: 0.0000000 \n",
      "Iter:    26 | Cost: 0.6620269 | f1: 0.0000000 \n",
      "Iter:    27 | Cost: 0.6603252 | f1: 0.0000000 \n",
      "Iter:    28 | Cost: 0.6624220 | f1: 0.0000000 \n",
      "Iter:    29 | Cost: 0.6647508 | f1: 0.0000000 \n",
      "Iter:    30 | Cost: 0.6741912 | f1: 0.0000000 \n",
      "Iter:    31 | Cost: 0.6891760 | f1: 0.0000000 \n",
      "Iter:    32 | Cost: 0.7399334 | f1: 0.0000000 \n",
      "Iter:    33 | Cost: 0.7689231 | f1: 0.0000000 \n",
      "Iter:    34 | Cost: 0.7609101 | f1: 0.0000000 \n",
      "Iter:    35 | Cost: 0.6960058 | f1: 0.0000000 \n",
      "Iter:    36 | Cost: 0.6683212 | f1: 0.0000000 \n",
      "Iter:    37 | Cost: 0.6873325 | f1: 0.0000000 \n",
      "Iter:    38 | Cost: 0.7288105 | f1: 0.0000000 \n",
      "Iter:    39 | Cost: 0.7263646 | f1: 0.0000000 \n",
      "Iter:    40 | Cost: 0.6899983 | f1: 0.0000000 \n",
      "Iter:    41 | Cost: 0.6698876 | f1: 0.0000000 \n",
      "Iter:    42 | Cost: 0.6621687 | f1: 0.0000000 \n",
      "Iter:    43 | Cost: 0.6596303 | f1: 0.0000000 \n",
      "Iter:    44 | Cost: 0.6677841 | f1: 0.0000000 \n",
      "Iter:    45 | Cost: 0.6789686 | f1: 0.0000000 \n",
      "Iter:    46 | Cost: 0.6799319 | f1: 0.0000000 \n",
      "Iter:    47 | Cost: 0.6589730 | f1: 0.0000000 \n",
      "Iter:    48 | Cost: 0.6568716 | f1: 0.0000000 \n",
      "Iter:    49 | Cost: 0.6650334 | f1: 0.0000000 \n",
      "Iter:    50 | Cost: 0.6860500 | f1: 0.0000000 \n",
      "Iter:    51 | Cost: 0.7006810 | f1: 0.0000000 \n",
      "Iter:    52 | Cost: 0.6985074 | f1: 0.0000000 \n",
      "Iter:    53 | Cost: 0.6824850 | f1: 0.0000000 \n",
      "Iter:    54 | Cost: 0.6859564 | f1: 0.0000000 \n",
      "Iter:    55 | Cost: 0.6787785 | f1: 0.0000000 \n",
      "Iter:    56 | Cost: 0.6567475 | f1: 0.0000000 \n",
      "Iter:    57 | Cost: 0.6629017 | f1: 0.0000000 \n",
      "Iter:    58 | Cost: 0.6828808 | f1: 0.0000000 \n",
      "Iter:    59 | Cost: 0.6832031 | f1: 0.0000000 \n",
      "Iter:    60 | Cost: 0.6956571 | f1: 0.0000000 \n",
      "Iter:    61 | Cost: 0.6745747 | f1: 0.0000000 \n",
      "Iter:    62 | Cost: 0.6574063 | f1: 0.0000000 \n",
      "Iter:    63 | Cost: 0.6720951 | f1: 0.0000000 \n",
      "Iter:    64 | Cost: 0.7143423 | f1: 0.0000000 \n",
      "Iter:    65 | Cost: 0.7513161 | f1: 0.0000000 \n",
      "Iter:    66 | Cost: 0.8018251 | f1: 0.0000000 \n",
      "Iter:    67 | Cost: 0.7802539 | f1: 0.0000000 \n",
      "Iter:    68 | Cost: 0.7363765 | f1: 0.0000000 \n",
      "Iter:    69 | Cost: 0.7006024 | f1: 0.0000000 \n",
      "Iter:    70 | Cost: 0.6675936 | f1: 0.0000000 \n",
      "Iter:    71 | Cost: 0.6601266 | f1: 0.0000000 \n",
      "Iter:    72 | Cost: 0.6658877 | f1: 0.0000000 \n",
      "Iter:    73 | Cost: 0.6860948 | f1: 0.0000000 \n",
      "Iter:    74 | Cost: 0.6960795 | f1: 0.0000000 \n",
      "Iter:    75 | Cost: 0.6767048 | f1: 0.0000000 \n",
      "Iter:    76 | Cost: 0.6630428 | f1: 0.0000000 \n",
      "Iter:    77 | Cost: 0.6661801 | f1: 0.0000000 \n",
      "Iter:    78 | Cost: 0.6819356 | f1: 0.0000000 \n",
      "Iter:    79 | Cost: 0.6812162 | f1: 0.0000000 \n",
      "Iter:    80 | Cost: 0.6693194 | f1: 0.0000000 \n",
      "Iter:    81 | Cost: 0.6613965 | f1: 0.0000000 \n",
      "Iter:    82 | Cost: 0.6593990 | f1: 0.0000000 \n",
      "Iter:    83 | Cost: 0.6583493 | f1: 0.0000000 \n",
      "Iter:    84 | Cost: 0.6590198 | f1: 0.0000000 \n",
      "Iter:    85 | Cost: 0.6641694 | f1: 0.0000000 \n",
      "Iter:    86 | Cost: 0.6711177 | f1: 0.0000000 \n",
      "Iter:    87 | Cost: 0.6763786 | f1: 0.0000000 \n",
      "Iter:    88 | Cost: 0.6694489 | f1: 0.0000000 \n",
      "Iter:    89 | Cost: 0.6569550 | f1: 0.0000000 \n",
      "Iter:    90 | Cost: 0.6601632 | f1: 0.0000000 \n",
      "Iter:    91 | Cost: 0.6738896 | f1: 0.0000000 \n",
      "Iter:    92 | Cost: 0.7122142 | f1: 0.0000000 \n",
      "Iter:    93 | Cost: 0.7441152 | f1: 0.0000000 \n",
      "Iter:    94 | Cost: 0.7667953 | f1: 0.0000000 \n",
      "Iter:    95 | Cost: 0.7553090 | f1: 0.0000000 \n",
      "Iter:    96 | Cost: 0.7053712 | f1: 0.0000000 \n",
      "Iter:    97 | Cost: 0.6685104 | f1: 0.0000000 \n",
      "Iter:    98 | Cost: 0.6558898 | f1: 0.0000000 \n",
      "Iter:    99 | Cost: 0.6563761 | f1: 0.0000000 \n",
      "Iter:   100 | Cost: 0.6564382 | f1: 0.0000000 \n",
      "Iter:   101 | Cost: 0.6598394 | f1: 0.0000000 \n",
      "Iter:   102 | Cost: 0.6627104 | f1: 0.0000000 \n",
      "Iter:   103 | Cost: 0.6621450 | f1: 0.0000000 \n",
      "Iter:   104 | Cost: 0.6633523 | f1: 0.0000000 \n",
      "Iter:   105 | Cost: 0.6598311 | f1: 0.0000000 \n",
      "Iter:   106 | Cost: 0.6607144 | f1: 0.0000000 \n",
      "Iter:   107 | Cost: 0.6647944 | f1: 0.0000000 \n",
      "Iter:   108 | Cost: 0.6699128 | f1: 0.0000000 \n",
      "Iter:   109 | Cost: 0.6753411 | f1: 0.0000000 \n",
      "Iter:   110 | Cost: 0.6766276 | f1: 0.0000000 \n",
      "Iter:   111 | Cost: 0.6769860 | f1: 0.0000000 \n",
      "Iter:   112 | Cost: 0.6764874 | f1: 0.0000000 \n",
      "Iter:   113 | Cost: 0.6960237 | f1: 0.0000000 \n",
      "Iter:   114 | Cost: 0.7651527 | f1: 0.0540541 \n",
      "Iter:   115 | Cost: 0.8562233 | f1: 0.2493639 \n",
      "Iter:   116 | Cost: 0.9109202 | f1: 0.2476636 \n",
      "Iter:   117 | Cost: 0.9084055 | f1: 0.2511628 \n",
      "Iter:   118 | Cost: 0.8849567 | f1: 0.2434368 \n",
      "Iter:   119 | Cost: 0.8787391 | f1: 0.2518160 \n",
      "Iter:   120 | Cost: 0.8100665 | f1: 0.1993355 \n",
      "Iter:   121 | Cost: 0.7377696 | f1: 0.0000000 \n",
      "Iter:   122 | Cost: 0.6721457 | f1: 0.0000000 \n",
      "Iter:   123 | Cost: 0.7063417 | f1: 0.0000000 \n",
      "Iter:   124 | Cost: 0.7526236 | f1: 0.0000000 \n",
      "Iter:   125 | Cost: 0.7664438 | f1: 0.0000000 \n",
      "Iter:   126 | Cost: 0.7032251 | f1: 0.0000000 \n",
      "Iter:   127 | Cost: 0.6615587 | f1: 0.0000000 \n",
      "Iter:   128 | Cost: 0.6952681 | f1: 0.0000000 \n",
      "Iter:   129 | Cost: 0.7742212 | f1: 0.0000000 \n",
      "Iter:   130 | Cost: 0.8241700 | f1: 0.0000000 \n",
      "Iter:   131 | Cost: 0.8435405 | f1: 0.0222222 \n",
      "Iter:   132 | Cost: 0.8317655 | f1: 0.0000000 \n",
      "Iter:   133 | Cost: 0.7753489 | f1: 0.0000000 \n",
      "Iter:   134 | Cost: 0.7328116 | f1: 0.0000000 \n",
      "Iter:   135 | Cost: 0.6989814 | f1: 0.0000000 \n",
      "Iter:   136 | Cost: 0.6767255 | f1: 0.0000000 \n",
      "Iter:   137 | Cost: 0.6732067 | f1: 0.0000000 \n",
      "Iter:   138 | Cost: 0.6746651 | f1: 0.0000000 \n",
      "Iter:   139 | Cost: 0.7040068 | f1: 0.0000000 \n",
      "Iter:   140 | Cost: 0.7588709 | f1: 0.0000000 \n",
      "Iter:   141 | Cost: 0.8394374 | f1: 0.0000000 \n",
      "Iter:   142 | Cost: 0.9146586 | f1: 0.0000000 \n",
      "Iter:   143 | Cost: 0.8723746 | f1: 0.0000000 \n",
      "Iter:   144 | Cost: 0.7007227 | f1: 0.0000000 \n",
      "Iter:   145 | Cost: 0.6887567 | f1: 0.0000000 \n",
      "Iter:   146 | Cost: 0.8406088 | f1: 0.0000000 \n",
      "Iter:   147 | Cost: 0.8471495 | f1: 0.0000000 \n",
      "Iter:   148 | Cost: 0.7604029 | f1: 0.0000000 \n",
      "Iter:   149 | Cost: 0.6784271 | f1: 0.0000000 \n",
      "Iter:   150 | Cost: 0.6564212 | f1: 0.0000000 \n"
     ]
    }
   ],
   "source": [
    "weights = weights_init\n",
    "bias = bias_init\n",
    "\n",
    "wbest = 0\n",
    "bbest = 0\n",
    "abest = 0\n",
    "ccost = 0 \n",
    "for it in range(150):\n",
    "\n",
    "    # weights update by one optimizer step\n",
    "\n",
    "    batch_index = np.random.randint(0, len(X), (batch_size,))\n",
    "    X_batch = X[batch_index]\n",
    "    Y_batch = Y[batch_index]\n",
    "    weights, bias, _, _ = opt.step(cost, weights, bias, X_batch, Y_batch)\n",
    "\n",
    "    # Compute the accuracy\n",
    "    predictions = [np.sign(variational_classifier(weights, bias, x)) for x in X]\n",
    "    \n",
    "    '''if accuracy(Y, predictions) > abest:\n",
    "        wbest = weights\n",
    "        bbest = bias\n",
    "        abest = accuracy(Y, predictions)\n",
    "        print('New best')\n",
    "\n",
    "    acc = accuracy(Y, predictions)\n",
    "\n",
    "    print(\n",
    "        \"Iter: {:5d} | Cost: {:0.7f} | Accuracy: {:0.7f} \".format(\n",
    "            it + 1, cost(weights, bias, X, Y), acc\n",
    "        )\n",
    "    )'''\n",
    "    prec = metrics.f1_score(Y, predictions, average='binary', pos_label=1)\n",
    "    if  prec > abest or ((prec == abest) and (cost(weights, bias, X, Y) < ccost)):\n",
    "        wbest = weights\n",
    "        bbest = bias\n",
    "        abest = prec\n",
    "        ccost = cost(weights, bias, X, Y)\n",
    "        print('New best')\n",
    "    #prec = metrics.precision_score(Y, predictions, average='binary')\n",
    "    print(\n",
    "        \"Iter: {:5d} | Cost: {:0.7f} | f1: {:0.7f} \".format(\n",
    "            it + 1, cost(weights, bias, X, Y), prec\n",
    "        )\n",
    "    )\n",
    "    \n",
    "    "
   ]
  },
  {
   "cell_type": "code",
   "execution_count": 33,
   "id": "ee2dceeb-5b76-4ec7-9ebb-efb9e562cf8a",
   "metadata": {},
   "outputs": [],
   "source": [
    "Yte = np.array(label_test * 2 - np.ones(len(label_test)))\n",
    "Xte = np.array(normalize(sample_test))"
   ]
  },
  {
   "cell_type": "code",
   "execution_count": 34,
   "id": "4416ed73-4c7d-44e3-a539-9dba3191327d",
   "metadata": {},
   "outputs": [
    {
     "name": "stdout",
     "output_type": "stream",
     "text": [
      "Cost: 1.092605082863597, Accuracy: 44.0%\n"
     ]
    }
   ],
   "source": [
    "predictions = [np.sign(variational_classifier(wbest, bbest, x)) for x in Xte]\n",
    "pred = [np.sign(variational_classifier(wbest, bbest, x)) for x in X]\n",
    "acc = accuracy(Yte, predictions)\n",
    "\n",
    "print(f'Cost: {cost(wbest, bbest, Xte, Yte)}, Accuracy: {np.round(acc, 2) * 100}%')"
   ]
  },
  {
   "cell_type": "code",
   "execution_count": 35,
   "id": "8c50c097-603d-439b-84a9-cd649bcbeaa1",
   "metadata": {},
   "outputs": [
    {
     "name": "stdout",
     "output_type": "stream",
     "text": [
      "              precision    recall  f1-score   support\n",
      "\n",
      "        -1.0       0.39      0.78      0.52        76\n",
      "         1.0       0.64      0.24      0.35       124\n",
      "\n",
      "    accuracy                           0.45       200\n",
      "   macro avg       0.51      0.51      0.43       200\n",
      "weighted avg       0.54      0.45      0.41       200\n",
      "\n"
     ]
    }
   ],
   "source": [
    "print(metrics.classification_report(predictions,Yte))"
   ]
  },
  {
   "cell_type": "code",
   "execution_count": 36,
   "id": "a4a2955a-d877-4885-ad84-5f31458a7c94",
   "metadata": {},
   "outputs": [
    {
     "name": "stdout",
     "output_type": "stream",
     "text": [
      "              precision    recall  f1-score   support\n",
      "\n",
      "        -1.0       0.39      0.78      0.52        76\n",
      "         1.0       0.64      0.24      0.35       124\n",
      "\n",
      "    accuracy                           0.45       200\n",
      "   macro avg       0.51      0.51      0.43       200\n",
      "weighted avg       0.54      0.45      0.41       200\n",
      "\n"
     ]
    }
   ],
   "source": [
    "print(metrics.classification_report(predictions,Yte))"
   ]
  },
  {
   "cell_type": "code",
   "execution_count": 37,
   "id": "dcedeada-a82f-4e82-b738-6a862dc801c8",
   "metadata": {},
   "outputs": [
    {
     "name": "stdout",
     "output_type": "stream",
     "text": [
      "\n",
      "\n",
      "    Precision: 63.83%\n",
      "    Recall: 24.19%\n",
      "    f1: 35.09%\n",
      "    Accuracy: 44.5%\n",
      "    Balanced accuracy: 50.91%\n",
      "    Matthew corcorref: 2.09%\n",
      "    \n"
     ]
    }
   ],
   "source": [
    "print(f'''\n",
    "\n",
    "    Precision: {round(100*metrics.precision_score(predictions,Yte),2)}%\n",
    "    Recall: {round(100*metrics.recall_score(predictions,Yte),2)}%\n",
    "    f1: {round(100*metrics.f1_score(predictions,Yte),2)}%\n",
    "    Accuracy: {round(100*metrics.accuracy_score(predictions,Yte),2)}%\n",
    "    Balanced accuracy: {round(100*metrics.balanced_accuracy_score(predictions,Yte),2)}%\n",
    "    Matthew corcorref: {round(100*metrics.matthews_corrcoef(predictions,Yte),2)}%\n",
    "    ''')"
   ]
  },
  {
   "cell_type": "code",
   "execution_count": null,
   "id": "2e5308be-6630-4637-a387-b4f796aeb98d",
   "metadata": {},
   "outputs": [],
   "source": []
  },
  {
   "cell_type": "code",
   "execution_count": null,
   "id": "77acf9e4-6362-4daa-829c-a5c70138be5c",
   "metadata": {},
   "outputs": [],
   "source": []
  }
 ],
 "metadata": {
  "kernelspec": {
   "display_name": "Python 3 (ipykernel)",
   "language": "python",
   "name": "python3"
  },
  "language_info": {
   "codemirror_mode": {
    "name": "ipython",
    "version": 3
   },
   "file_extension": ".py",
   "mimetype": "text/x-python",
   "name": "python",
   "nbconvert_exporter": "python",
   "pygments_lexer": "ipython3",
   "version": "3.10.6"
  }
 },
 "nbformat": 4,
 "nbformat_minor": 5
}
