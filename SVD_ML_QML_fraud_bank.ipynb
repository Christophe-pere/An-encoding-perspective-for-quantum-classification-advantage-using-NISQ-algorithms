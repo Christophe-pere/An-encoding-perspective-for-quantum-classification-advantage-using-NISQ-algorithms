{
 "cells": [
  {
   "cell_type": "markdown",
   "id": "d41d3fa6-0ae0-490d-a02b-0dbf81799488",
   "metadata": {},
   "source": [
    "# Quantum benchmark"
   ]
  },
  {
   "cell_type": "markdown",
   "id": "d6011e42-1fab-4f9f-ab99-f4f08607517e",
   "metadata": {},
   "source": [
    "## I - Introduction"
   ]
  },
  {
   "cell_type": "code",
   "execution_count": null,
   "id": "13b4f6b4-240b-4b7f-abe4-4e74b3b8cc8a",
   "metadata": {},
   "outputs": [],
   "source": []
  },
  {
   "cell_type": "markdown",
   "id": "bd5492ce-4f08-4755-b4c2-efd698139101",
   "metadata": {},
   "source": [
    "## II - Packages"
   ]
  },
  {
   "cell_type": "code",
   "execution_count": 1,
   "id": "90371200-0133-46ab-a205-d0f6b8858e55",
   "metadata": {},
   "outputs": [],
   "source": [
    "import pandas as pd\n",
    "import matplotlib.pyplot as plt\n",
    "import numpy as np\n",
    "from sklearn.model_selection import train_test_split\n",
    "from sklearn.preprocessing import StandardScaler\n",
    "from sklearn.decomposition import PCA\n",
    "from sklearn.discriminant_analysis import LinearDiscriminantAnalysis as LDA\n",
    "from sklearn.preprocessing import MinMaxScaler\n",
    "from sklearn.svm import SVC\n",
    "from sklearn import metrics\n",
    "from sklearn.ensemble import RandomForestClassifier\n",
    "from sklearn.linear_model import LogisticRegression\n",
    "from sklearn.tree import DecisionTreeClassifier\n",
    "from sklearn.preprocessing import normalize\n",
    "from sklearn.model_selection import cross_val_score, KFold\n",
    "#Import classical libraries\n",
    "from sklearn.neighbors import KNeighborsClassifier\n",
    "from sklearn.naive_bayes import GaussianNB\n",
    "from sklearn.svm import SVC\n",
    "from sklearn.ensemble import RandomForestClassifier\n",
    "from sklearn.model_selection import train_test_split\n",
    "from sklearn import datasets\n",
    "import matplotlib.pyplot as plt\n",
    "\n",
    "plt.style.use('ggplot')\n",
    "\n",
    "import functools\n",
    "\n",
    "from qiskit import BasicAer\n",
    "from qiskit.circuit.library import ZZFeatureMap\n",
    "from qiskit.utils import QuantumInstance, algorithm_globals\n",
    "from qiskit_machine_learning.algorithms import QSVC\n",
    "from qiskit_machine_learning.kernels import QuantumKernel\n",
    "from qiskit_machine_learning.datasets import ad_hoc_data\n",
    "import logging\n",
    "\n",
    "import pennylane as qml\n",
    "from pennylane.templates.embeddings import AngleEmbedding, AmplitudeEmbedding\n",
    "from pennylane.optimize import AdamOptimizer\n",
    "\n",
    "from qiskit.algorithms.optimizers import COBYLA\n",
    "from qiskit.circuit.library import TwoLocal, ZZFeatureMap\n",
    "import qiskit"
   ]
  },
  {
   "cell_type": "code",
   "execution_count": 2,
   "id": "20fe0c02-3bc3-4367-8958-920db81351ad",
   "metadata": {},
   "outputs": [],
   "source": [
    "import warnings\n",
    "warnings.filterwarnings('ignore')"
   ]
  },
  {
   "cell_type": "markdown",
   "id": "1598c94c-fdcf-41cd-a4ea-e262932c7e0f",
   "metadata": {},
   "source": [
    "## III - Data "
   ]
  },
  {
   "cell_type": "code",
   "execution_count": 3,
   "id": "e683f3b5-6021-4eb7-bc53-539a5cd79bfc",
   "metadata": {},
   "outputs": [],
   "source": [
    "# Read out CSV\n",
    "\n"
   ]
  },
  {
   "cell_type": "code",
   "execution_count": 3,
   "id": "0e83e250-7b2e-4397-a1d6-b4b5df21e9eb",
   "metadata": {},
   "outputs": [],
   "source": [
    "df = pd.read_csv('fraud_detection_bank_dataset.csv', sep=',')\n",
    "df = df.sample(1400)\n",
    "df = df.drop(['Unnamed: 0'], axis = 1)\n",
    "df_labels = df['targets']\n",
    "df.drop(['targets'],axis = 1,inplace = True)\n",
    "X_train, X_test, y_train, y_test = train_test_split(df, df_labels, test_size=0.2, random_state=42)\n",
    "\n",
    "cols = ['col_8', 'col_9', 'col_10', 'col_11', 'col_12', 'col_18', 'col_19','col_20', 'col_21', 'col_35', \n",
    "        'col_51', 'col_52', 'col_53', 'col_70','col_71','col_7', 'col_22', 'col_54', 'col_56']\n",
    "\n",
    "X_train = X_train.drop(cols, axis=1)\n",
    "X_test = X_test.drop(cols, axis=1)"
   ]
  },
  {
   "cell_type": "code",
   "execution_count": 5,
   "id": "9fb7d25d-ab42-4e1e-b7a4-48d6a31cef84",
   "metadata": {},
   "outputs": [],
   "source": []
  },
  {
   "cell_type": "code",
   "execution_count": 4,
   "id": "bf69c7f1-b10e-4b54-89ec-89dd5829ac42",
   "metadata": {},
   "outputs": [],
   "source": [
    "%%script false --no-raise-error\n",
    "\n",
    "import sweetviz as sv\n",
    "\n",
    "#EDA using Autoviz\n",
    "sweet_report = sv.analyze(df)\n",
    "\n",
    "#Saving results to HTML file\n",
    "sweet_report.show_html('sweet_report.html')"
   ]
  },
  {
   "cell_type": "markdown",
   "id": "c4ff48fa-d03b-435d-9343-67186c068b34",
   "metadata": {},
   "source": [
    "## IV - Modelisation"
   ]
  },
  {
   "cell_type": "markdown",
   "id": "b1251e3e-c8ed-4e57-a790-1fa8003f8c31",
   "metadata": {},
   "source": [
    "## Quantum Approaches"
   ]
  },
  {
   "cell_type": "code",
   "execution_count": 4,
   "id": "687e30e4-b09c-4bd1-8365-5fc49a22c661",
   "metadata": {},
   "outputs": [],
   "source": [
    "from sklearn.decomposition import TruncatedSVD"
   ]
  },
  {
   "cell_type": "code",
   "execution_count": 5,
   "id": "a48d4b60-5675-473e-88a1-77dcff67374d",
   "metadata": {},
   "outputs": [],
   "source": [
    "from sklearn.preprocessing import StandardScaler"
   ]
  },
  {
   "cell_type": "code",
   "execution_count": 6,
   "id": "53c4b754-1ee5-42b6-a8ec-2d9f32b5762a",
   "metadata": {},
   "outputs": [],
   "source": [
    "# Standardizing the features\n",
    "std_scale = StandardScaler().fit(X_train)\n",
    "X_train = std_scale.transform(X_train)\n",
    "X_test = std_scale.transform(X_test)"
   ]
  },
  {
   "cell_type": "code",
   "execution_count": 7,
   "id": "a948c1c2-cb55-49b2-bb4c-c2d2fdca527a",
   "metadata": {},
   "outputs": [],
   "source": [
    "qla = TruncatedSVD(n_components=2)"
   ]
  },
  {
   "cell_type": "code",
   "execution_count": 8,
   "id": "b921a949-e3bd-45b6-b0e0-a84f96788811",
   "metadata": {},
   "outputs": [
    {
     "data": {
      "text/html": [
       "<style>#sk-container-id-1 {color: black;background-color: white;}#sk-container-id-1 pre{padding: 0;}#sk-container-id-1 div.sk-toggleable {background-color: white;}#sk-container-id-1 label.sk-toggleable__label {cursor: pointer;display: block;width: 100%;margin-bottom: 0;padding: 0.3em;box-sizing: border-box;text-align: center;}#sk-container-id-1 label.sk-toggleable__label-arrow:before {content: \"▸\";float: left;margin-right: 0.25em;color: #696969;}#sk-container-id-1 label.sk-toggleable__label-arrow:hover:before {color: black;}#sk-container-id-1 div.sk-estimator:hover label.sk-toggleable__label-arrow:before {color: black;}#sk-container-id-1 div.sk-toggleable__content {max-height: 0;max-width: 0;overflow: hidden;text-align: left;background-color: #f0f8ff;}#sk-container-id-1 div.sk-toggleable__content pre {margin: 0.2em;color: black;border-radius: 0.25em;background-color: #f0f8ff;}#sk-container-id-1 input.sk-toggleable__control:checked~div.sk-toggleable__content {max-height: 200px;max-width: 100%;overflow: auto;}#sk-container-id-1 input.sk-toggleable__control:checked~label.sk-toggleable__label-arrow:before {content: \"▾\";}#sk-container-id-1 div.sk-estimator input.sk-toggleable__control:checked~label.sk-toggleable__label {background-color: #d4ebff;}#sk-container-id-1 div.sk-label input.sk-toggleable__control:checked~label.sk-toggleable__label {background-color: #d4ebff;}#sk-container-id-1 input.sk-hidden--visually {border: 0;clip: rect(1px 1px 1px 1px);clip: rect(1px, 1px, 1px, 1px);height: 1px;margin: -1px;overflow: hidden;padding: 0;position: absolute;width: 1px;}#sk-container-id-1 div.sk-estimator {font-family: monospace;background-color: #f0f8ff;border: 1px dotted black;border-radius: 0.25em;box-sizing: border-box;margin-bottom: 0.5em;}#sk-container-id-1 div.sk-estimator:hover {background-color: #d4ebff;}#sk-container-id-1 div.sk-parallel-item::after {content: \"\";width: 100%;border-bottom: 1px solid gray;flex-grow: 1;}#sk-container-id-1 div.sk-label:hover label.sk-toggleable__label {background-color: #d4ebff;}#sk-container-id-1 div.sk-serial::before {content: \"\";position: absolute;border-left: 1px solid gray;box-sizing: border-box;top: 0;bottom: 0;left: 50%;z-index: 0;}#sk-container-id-1 div.sk-serial {display: flex;flex-direction: column;align-items: center;background-color: white;padding-right: 0.2em;padding-left: 0.2em;position: relative;}#sk-container-id-1 div.sk-item {position: relative;z-index: 1;}#sk-container-id-1 div.sk-parallel {display: flex;align-items: stretch;justify-content: center;background-color: white;position: relative;}#sk-container-id-1 div.sk-item::before, #sk-container-id-1 div.sk-parallel-item::before {content: \"\";position: absolute;border-left: 1px solid gray;box-sizing: border-box;top: 0;bottom: 0;left: 50%;z-index: -1;}#sk-container-id-1 div.sk-parallel-item {display: flex;flex-direction: column;z-index: 1;position: relative;background-color: white;}#sk-container-id-1 div.sk-parallel-item:first-child::after {align-self: flex-end;width: 50%;}#sk-container-id-1 div.sk-parallel-item:last-child::after {align-self: flex-start;width: 50%;}#sk-container-id-1 div.sk-parallel-item:only-child::after {width: 0;}#sk-container-id-1 div.sk-dashed-wrapped {border: 1px dashed gray;margin: 0 0.4em 0.5em 0.4em;box-sizing: border-box;padding-bottom: 0.4em;background-color: white;}#sk-container-id-1 div.sk-label label {font-family: monospace;font-weight: bold;display: inline-block;line-height: 1.2em;}#sk-container-id-1 div.sk-label-container {text-align: center;}#sk-container-id-1 div.sk-container {/* jupyter's `normalize.less` sets `[hidden] { display: none; }` but bootstrap.min.css set `[hidden] { display: none !important; }` so we also need the `!important` here to be able to override the default hidden behavior on the sphinx rendered scikit-learn.org. See: https://github.com/scikit-learn/scikit-learn/issues/21755 */display: inline-block !important;position: relative;}#sk-container-id-1 div.sk-text-repr-fallback {display: none;}</style><div id=\"sk-container-id-1\" class=\"sk-top-container\"><div class=\"sk-text-repr-fallback\"><pre>TruncatedSVD()</pre><b>In a Jupyter environment, please rerun this cell to show the HTML representation or trust the notebook. <br />On GitHub, the HTML representation is unable to render, please try loading this page with nbviewer.org.</b></div><div class=\"sk-container\" hidden><div class=\"sk-item\"><div class=\"sk-estimator sk-toggleable\"><input class=\"sk-toggleable__control sk-hidden--visually\" id=\"sk-estimator-id-1\" type=\"checkbox\" checked><label for=\"sk-estimator-id-1\" class=\"sk-toggleable__label sk-toggleable__label-arrow\">TruncatedSVD</label><div class=\"sk-toggleable__content\"><pre>TruncatedSVD()</pre></div></div></div></div></div>"
      ],
      "text/plain": [
       "TruncatedSVD()"
      ]
     },
     "execution_count": 8,
     "metadata": {},
     "output_type": "execute_result"
    }
   ],
   "source": [
    "qla.fit(X_train)"
   ]
  },
  {
   "cell_type": "code",
   "execution_count": 9,
   "id": "58737fde-c826-4acf-8c94-cb8f4df345bd",
   "metadata": {},
   "outputs": [],
   "source": [
    "df_qla = qla.transform(X_train)\n",
    "df_qla_test = qla.transform(X_test)"
   ]
  },
  {
   "cell_type": "code",
   "execution_count": 10,
   "id": "3228f8e5-9afe-4127-9b40-c70fbd78c63d",
   "metadata": {},
   "outputs": [],
   "source": [
    "svd_train = pd.DataFrame(data = df_qla\n",
    "             , columns = ['principal component 1', 'principal component 2'])\n",
    "svd_test = pd.DataFrame(data = df_qla_test\n",
    "             , columns = ['principal component 1', 'principal component 2'])\n"
   ]
  },
  {
   "cell_type": "code",
   "execution_count": 11,
   "id": "bb5a4c4a-13aa-4bcc-b388-f8641146ddca",
   "metadata": {},
   "outputs": [
    {
     "data": {
      "text/html": [
       "<div>\n",
       "<style scoped>\n",
       "    .dataframe tbody tr th:only-of-type {\n",
       "        vertical-align: middle;\n",
       "    }\n",
       "\n",
       "    .dataframe tbody tr th {\n",
       "        vertical-align: top;\n",
       "    }\n",
       "\n",
       "    .dataframe thead th {\n",
       "        text-align: right;\n",
       "    }\n",
       "</style>\n",
       "<table border=\"1\" class=\"dataframe\">\n",
       "  <thead>\n",
       "    <tr style=\"text-align: right;\">\n",
       "      <th></th>\n",
       "      <th>principal component 1</th>\n",
       "      <th>principal component 2</th>\n",
       "    </tr>\n",
       "  </thead>\n",
       "  <tbody>\n",
       "    <tr>\n",
       "      <th>0</th>\n",
       "      <td>-1.649110</td>\n",
       "      <td>-1.446749</td>\n",
       "    </tr>\n",
       "    <tr>\n",
       "      <th>1</th>\n",
       "      <td>-1.803710</td>\n",
       "      <td>-1.132774</td>\n",
       "    </tr>\n",
       "    <tr>\n",
       "      <th>2</th>\n",
       "      <td>-1.782214</td>\n",
       "      <td>-0.808175</td>\n",
       "    </tr>\n",
       "    <tr>\n",
       "      <th>3</th>\n",
       "      <td>-0.901135</td>\n",
       "      <td>0.459917</td>\n",
       "    </tr>\n",
       "    <tr>\n",
       "      <th>4</th>\n",
       "      <td>-1.792083</td>\n",
       "      <td>0.600791</td>\n",
       "    </tr>\n",
       "  </tbody>\n",
       "</table>\n",
       "</div>"
      ],
      "text/plain": [
       "   principal component 1  principal component 2\n",
       "0              -1.649110              -1.446749\n",
       "1              -1.803710              -1.132774\n",
       "2              -1.782214              -0.808175\n",
       "3              -0.901135               0.459917\n",
       "4              -1.792083               0.600791"
      ]
     },
     "execution_count": 11,
     "metadata": {},
     "output_type": "execute_result"
    }
   ],
   "source": [
    "svd_train.head()"
   ]
  },
  {
   "cell_type": "code",
   "execution_count": 12,
   "id": "3141a967-8c2f-472e-a934-5ad8ac0d9237",
   "metadata": {},
   "outputs": [
    {
     "data": {
      "text/plain": [
       "[<matplotlib.lines.Line2D at 0x177463c10>]"
      ]
     },
     "execution_count": 12,
     "metadata": {},
     "output_type": "execute_result"
    },
    {
     "data": {
      "image/png": "[encoded data removed]",
      "text/plain": [
       "<Figure size 1000x800 with 1 Axes>"
      ]
     },
     "metadata": {},
     "output_type": "display_data"
    }
   ],
   "source": [
    "plt.figure(figsize=(10,8))\n",
    "plt.plot(svd_train.iloc[:,0], svd_train.iloc[:,1], '+')\n",
    "#plt.plot(df.index, feature_2, 'g+')"
   ]
  },
  {
   "cell_type": "code",
   "execution_count": 13,
   "id": "a1de5099-55d4-4d2d-9ea4-eaf60c27b16c",
   "metadata": {},
   "outputs": [],
   "source": [
    "n_dim = len(svd_train.columns)"
   ]
  },
  {
   "cell_type": "markdown",
   "id": "bd626d5c-ff6a-443a-9700-10a93c24dc74",
   "metadata": {},
   "source": [
    "## Split train test "
   ]
  },
  {
   "cell_type": "code",
   "execution_count": 14,
   "id": "afaf0912-bdbf-4460-ae4c-43016d1f5a57",
   "metadata": {},
   "outputs": [],
   "source": [
    "# Split dataset into train and test\n",
    "\n",
    "#sample_train, sample_test, label_train, label_test = train_test_split(\n",
    "#     principalDf, y_train, test_size=0.2, random_state=22)\n",
    "\n",
    "sample_train = svd_train.to_numpy()\n",
    "sample_test = svd_test.to_numpy()\n",
    "label_train = y_train\n",
    "label_test = y_test\n",
    "# Normalize\n",
    "\n",
    "#std_scale = StandardScaler().fit(sample_train)\n",
    "#sample_train = std_scale.transform(sample_train)\n",
    "#sample_test = std_scale.transform(sample_test)\n",
    "\n",
    "# Scale for better fit within the feature map\n",
    "\n",
    "samples = np.append(sample_train, sample_test, axis=0)\n",
    "minmax_scale = MinMaxScaler((-1, 1)).fit(samples)\n",
    "sample_train = minmax_scale.transform(sample_train)\n",
    "sample_test = minmax_scale.transform(sample_test)\n",
    "\n",
    "# Select a sample for a better control of the research and wall time\n",
    "\n",
    "#train_size = 800#160\n",
    "#sample_train = sample_train[:train_size]\n",
    "#label_train = label_train[:train_size]\n",
    "\n",
    "#test_size = 200 #40\n",
    "#sample_test = sample_test[:test_size]\n",
    "#label_test = label_test[:test_size]"
   ]
  },
  {
   "cell_type": "code",
   "execution_count": 15,
   "id": "d815edbe-c5e7-42d6-9489-39ebb940cda4",
   "metadata": {},
   "outputs": [],
   "source": [
    "# Basic parameters for hybrid model\n",
    "\n",
    "seed = 8500\n",
    "feature_dim = n_dim\n",
    "num_reps = 2\n",
    "num_shots =256 \n"
   ]
  },
  {
   "cell_type": "markdown",
   "id": "a17bc9af-4a1c-453d-be99-d54b9e045628",
   "metadata": {},
   "source": [
    "## Hybrid"
   ]
  },
  {
   "cell_type": "code",
   "execution_count": 16,
   "id": "c2ce7078-9255-4913-b6aa-7f05a0e077c3",
   "metadata": {},
   "outputs": [],
   "source": [
    "# Define feature_map\n",
    "\n",
    "feature_map = ZZFeatureMap(feature_dimension=feature_dim, reps=num_reps)\n",
    "\n",
    "# Define the backend\n",
    "backend = QuantumInstance(\n",
    "    BasicAer.get_backend(\"qasm_simulator\"), shots=num_shots, seed_simulator=seed, seed_transpiler=seed\n",
    ")\n",
    "\n",
    "# Define the kernel\n",
    "\n",
    "kernel = QuantumKernel(feature_map=feature_map, quantum_instance=backend)\n",
    "\n",
    "# Model run\n",
    "svc = SVC(kernel=kernel.evaluate)\n",
    "#svc.fit(sample_train, label_train)\n",
    "#score = svc.score(sample_test, label_test)\n",
    "\n",
    "#print(f\"Callable kernel classification test score: {score}\")"
   ]
  },
  {
   "cell_type": "code",
   "execution_count": 20,
   "id": "b8fd86d8-bec9-42ac-8543-c69c973a7f01",
   "metadata": {},
   "outputs": [],
   "source": [
    "#result_predict = svc.predict(sample_test)"
   ]
  },
  {
   "cell_type": "code",
   "execution_count": 21,
   "id": "ee71fc2a-46dc-46d1-8f51-8e3df5723407",
   "metadata": {},
   "outputs": [],
   "source": [
    "#print(metrics.classification_report(label_test,result_predict))"
   ]
  },
  {
   "cell_type": "markdown",
   "id": "5fc1d4e4-599e-47ea-b53c-dc200ee4dec0",
   "metadata": {},
   "source": [
    "## Classical Approaches"
   ]
  },
  {
   "cell_type": "code",
   "execution_count": 17,
   "id": "5bd332f9-cc4e-43eb-9cd9-0990b709ae83",
   "metadata": {},
   "outputs": [],
   "source": [
    "from sklearn.model_selection import cross_validate\n",
    "from tqdm import tqdm\n",
    "def evaluate_ml_model(_models, X, y, n_fold=10, metric='precision'):\n",
    "    ''' Function to evaluate a ML and QML model with a list of metrics\n",
    "    \n",
    "    \n",
    "    '''\n",
    "    results = pd.DataFrame()\n",
    "    kfold = KFold(n_splits=n_fold)\n",
    "    columns = []\n",
    "    for name, model in tqdm(_models):\n",
    "        # -------------------\n",
    "        # Variables initialization \n",
    "        _df = pd.DataFrame()\n",
    "        names = []\n",
    "        means = []\n",
    "        stds = []\n",
    "        \n",
    "        # -------------------\n",
    "        # k-fold Cross validation\n",
    "        cv_results = cross_validate(model, X, y, cv=kfold, scoring=metric)\n",
    "        \n",
    "        # -------------------\n",
    "        # Compute the mean and standard deviation \n",
    "        for _name, _array in cv_results.items():\n",
    "            names.append(_name)\n",
    "            means.append(round(100*_array.mean(), 2))\n",
    "            stds.append(round(100*_array.std(), 2))\n",
    "        # -------------------\n",
    "        # Save the results in a dataframe \n",
    "        _df =  pd.DataFrame([means, stds], columns=names)\n",
    "        columns.extend([name+' mean (%)', name+' std (%)'])\n",
    "        #results = results.join(_df, on=_df.index)\n",
    "        results = results.append(_df)\n",
    "    results.index = columns\n",
    "    print(results)\n",
    "    return results"
   ]
  },
  {
   "cell_type": "code",
   "execution_count": 33,
   "id": "d93f1b24-b419-4eb0-abb5-fd297fcec137",
   "metadata": {},
   "outputs": [],
   "source": [
    "models = []\n",
    "#models.append(('LR', LogisticRegression(max_iter=1000, random_state=42)))\n",
    "#models.append(('KNN', KNeighborsClassifier(n_neighbors=7)))\n",
    "#models.append(('CART', DecisionTreeClassifier(random_state=42)))\n",
    "#models.append(('NB', GaussianNB()))\n",
    "#models.append(('SVM', SVC(random_state=42)))\n",
    "models.append(('QSVC', svc))\n",
    "_metrics = ['precision', 'recall', 'f1', 'accuracy',  'matthews_corrcoef','balanced_accuracy']"
   ]
  },
  {
   "cell_type": "code",
   "execution_count": 34,
   "id": "a92689bc-07b9-4bdd-b25c-0b0bae45a976",
   "metadata": {},
   "outputs": [],
   "source": [
    "df_results = pd.DataFrame()"
   ]
  },
  {
   "cell_type": "code",
   "execution_count": 35,
   "id": "15d5c6b3-7172-430b-b803-f60126a12cdb",
   "metadata": {
    "tags": []
   },
   "outputs": [
    {
     "name": "stderr",
     "output_type": "stream",
     "text": [
      "100%|█████████████████████████████████████████| 1/1 [1:33:09<00:00, 5589.49s/it]"
     ]
    },
    {
     "name": "stdout",
     "output_type": "stream",
     "text": [
      "               fit_time  score_time  test_precision  test_recall  test_f1  \\\n",
      "QSVC mean (%)  46154.22     9740.56           85.02        39.24    52.94   \n",
      "QSVC std (%)    4160.64      410.69           11.42         8.53     8.19   \n",
      "\n",
      "               test_accuracy  test_matthews_corrcoef  test_balanced_accuracy  \n",
      "QSVC mean (%)          82.50                   49.55                   68.45  \n",
      "QSVC std (%)            3.69                    7.54                    3.97  \n"
     ]
    },
    {
     "name": "stderr",
     "output_type": "stream",
     "text": [
      "\n"
     ]
    }
   ],
   "source": [
    "df_results = evaluate_ml_model(models, sample_train, label_train, n_fold=10, metric=_metrics)"
   ]
  },
  {
   "cell_type": "code",
   "execution_count": 22,
   "id": "8561d92d-f3ee-4045-b6e5-98097a82f364",
   "metadata": {},
   "outputs": [
    {
     "data": {
      "text/html": [
       "<div>\n",
       "<style scoped>\n",
       "    .dataframe tbody tr th:only-of-type {\n",
       "        vertical-align: middle;\n",
       "    }\n",
       "\n",
       "    .dataframe tbody tr th {\n",
       "        vertical-align: top;\n",
       "    }\n",
       "\n",
       "    .dataframe thead th {\n",
       "        text-align: right;\n",
       "    }\n",
       "</style>\n",
       "<table border=\"1\" class=\"dataframe\">\n",
       "  <thead>\n",
       "    <tr style=\"text-align: right;\">\n",
       "      <th></th>\n",
       "      <th>fit_time</th>\n",
       "      <th>score_time</th>\n",
       "      <th>test_precision</th>\n",
       "      <th>test_recall</th>\n",
       "      <th>test_f1</th>\n",
       "      <th>test_accuracy</th>\n",
       "      <th>test_matthews_corrcoef</th>\n",
       "      <th>test_balanced_accuracy</th>\n",
       "    </tr>\n",
       "  </thead>\n",
       "  <tbody>\n",
       "    <tr>\n",
       "      <th>LR mean (%)</th>\n",
       "      <td>0.21</td>\n",
       "      <td>0.15</td>\n",
       "      <td>0.00</td>\n",
       "      <td>0.00</td>\n",
       "      <td>0.00</td>\n",
       "      <td>73.93</td>\n",
       "      <td>0.00</td>\n",
       "      <td>50.00</td>\n",
       "    </tr>\n",
       "    <tr>\n",
       "      <th>LR std (%)</th>\n",
       "      <td>0.12</td>\n",
       "      <td>0.06</td>\n",
       "      <td>0.00</td>\n",
       "      <td>0.00</td>\n",
       "      <td>0.00</td>\n",
       "      <td>2.61</td>\n",
       "      <td>0.00</td>\n",
       "      <td>0.00</td>\n",
       "    </tr>\n",
       "    <tr>\n",
       "      <th>KNN mean (%)</th>\n",
       "      <td>0.05</td>\n",
       "      <td>0.22</td>\n",
       "      <td>72.68</td>\n",
       "      <td>39.64</td>\n",
       "      <td>51.07</td>\n",
       "      <td>80.45</td>\n",
       "      <td>43.15</td>\n",
       "      <td>67.16</td>\n",
       "    </tr>\n",
       "    <tr>\n",
       "      <th>KNN std (%)</th>\n",
       "      <td>0.05</td>\n",
       "      <td>0.01</td>\n",
       "      <td>12.47</td>\n",
       "      <td>7.18</td>\n",
       "      <td>8.42</td>\n",
       "      <td>2.72</td>\n",
       "      <td>10.07</td>\n",
       "      <td>4.12</td>\n",
       "    </tr>\n",
       "    <tr>\n",
       "      <th>CART mean (%)</th>\n",
       "      <td>0.19</td>\n",
       "      <td>0.11</td>\n",
       "      <td>51.43</td>\n",
       "      <td>52.18</td>\n",
       "      <td>51.46</td>\n",
       "      <td>74.64</td>\n",
       "      <td>34.59</td>\n",
       "      <td>67.36</td>\n",
       "    </tr>\n",
       "    <tr>\n",
       "      <th>CART std (%)</th>\n",
       "      <td>0.17</td>\n",
       "      <td>0.00</td>\n",
       "      <td>10.02</td>\n",
       "      <td>8.99</td>\n",
       "      <td>8.86</td>\n",
       "      <td>3.98</td>\n",
       "      <td>10.84</td>\n",
       "      <td>5.26</td>\n",
       "    </tr>\n",
       "    <tr>\n",
       "      <th>NB mean (%)</th>\n",
       "      <td>0.03</td>\n",
       "      <td>0.11</td>\n",
       "      <td>24.82</td>\n",
       "      <td>82.45</td>\n",
       "      <td>38.11</td>\n",
       "      <td>39.55</td>\n",
       "      <td>9.61</td>\n",
       "      <td>53.78</td>\n",
       "    </tr>\n",
       "    <tr>\n",
       "      <th>NB std (%)</th>\n",
       "      <td>0.01</td>\n",
       "      <td>0.01</td>\n",
       "      <td>8.84</td>\n",
       "      <td>28.21</td>\n",
       "      <td>13.41</td>\n",
       "      <td>10.71</td>\n",
       "      <td>9.35</td>\n",
       "      <td>3.82</td>\n",
       "    </tr>\n",
       "    <tr>\n",
       "      <th>SVM mean (%)</th>\n",
       "      <td>0.69</td>\n",
       "      <td>0.31</td>\n",
       "      <td>0.00</td>\n",
       "      <td>0.00</td>\n",
       "      <td>0.00</td>\n",
       "      <td>73.93</td>\n",
       "      <td>0.00</td>\n",
       "      <td>50.00</td>\n",
       "    </tr>\n",
       "    <tr>\n",
       "      <th>SVM std (%)</th>\n",
       "      <td>0.05</td>\n",
       "      <td>0.00</td>\n",
       "      <td>0.00</td>\n",
       "      <td>0.00</td>\n",
       "      <td>0.00</td>\n",
       "      <td>2.61</td>\n",
       "      <td>0.00</td>\n",
       "      <td>0.00</td>\n",
       "    </tr>\n",
       "  </tbody>\n",
       "</table>\n",
       "</div>"
      ],
      "text/plain": [
       "               fit_time  score_time  test_precision  test_recall  test_f1  \\\n",
       "LR mean (%)        0.21        0.15            0.00         0.00     0.00   \n",
       "LR std (%)         0.12        0.06            0.00         0.00     0.00   \n",
       "KNN mean (%)       0.05        0.22           72.68        39.64    51.07   \n",
       "KNN std (%)        0.05        0.01           12.47         7.18     8.42   \n",
       "CART mean (%)      0.19        0.11           51.43        52.18    51.46   \n",
       "CART std (%)       0.17        0.00           10.02         8.99     8.86   \n",
       "NB mean (%)        0.03        0.11           24.82        82.45    38.11   \n",
       "NB std (%)         0.01        0.01            8.84        28.21    13.41   \n",
       "SVM mean (%)       0.69        0.31            0.00         0.00     0.00   \n",
       "SVM std (%)        0.05        0.00            0.00         0.00     0.00   \n",
       "\n",
       "               test_accuracy  test_matthews_corrcoef  test_balanced_accuracy  \n",
       "LR mean (%)            73.93                    0.00                   50.00  \n",
       "LR std (%)              2.61                    0.00                    0.00  \n",
       "KNN mean (%)           80.45                   43.15                   67.16  \n",
       "KNN std (%)             2.72                   10.07                    4.12  \n",
       "CART mean (%)          74.64                   34.59                   67.36  \n",
       "CART std (%)            3.98                   10.84                    5.26  \n",
       "NB mean (%)            39.55                    9.61                   53.78  \n",
       "NB std (%)             10.71                    9.35                    3.82  \n",
       "SVM mean (%)           73.93                    0.00                   50.00  \n",
       "SVM std (%)             2.61                    0.00                    0.00  "
      ]
     },
     "execution_count": 22,
     "metadata": {},
     "output_type": "execute_result"
    }
   ],
   "source": [
    "df_results"
   ]
  },
  {
   "cell_type": "code",
   "execution_count": 36,
   "id": "2e0e0b5b-9e06-48f7-aec8-7752afe15195",
   "metadata": {},
   "outputs": [
    {
     "name": "stdout",
     "output_type": "stream",
     "text": [
      "QSVC & 85.02 (11.42) & 39.24 (8.53) &  52.94 (8.19) & 49.55 (7.54) & 68.45 (3.97) \\\n"
     ]
    }
   ],
   "source": [
    "j = 0\n",
    "for i in range(int(len(df_results.index)/2)):\n",
    "\n",
    "    print(f'{df_results.iloc[j].name.split()[0]} & {df_results.iloc[j][2]} ({df_results.iloc[j+1][2]}) & {df_results.iloc[j][3]} ({df_results.iloc[j+1][3]}) &  {df_results.iloc[j][4]} ({df_results.iloc[j+1][4]}) & {df_results.iloc[j][6]} ({df_results.iloc[j+1][6]}) & {df_results.iloc[j][7]} ({df_results.iloc[j+1][7]}) \\\\')\n",
    "    \n",
    "    j+=2"
   ]
  },
  {
   "cell_type": "markdown",
   "id": "3b70b837-4e39-4b65-83ca-8e82fc83efa1",
   "metadata": {},
   "source": [
    "## Pennylane"
   ]
  },
  {
   "cell_type": "code",
   "execution_count": 18,
   "id": "ff1d5656-f2f2-4d96-b210-a75a161cdb39",
   "metadata": {},
   "outputs": [],
   "source": [
    "from pennylane import numpy as np"
   ]
  },
  {
   "cell_type": "code",
   "execution_count": 19,
   "id": "07ec49f5-c401-4c36-aae3-57aad3eaa0ba",
   "metadata": {},
   "outputs": [],
   "source": [
    "# Angle Encoding\n",
    "\n",
    "num_qubits = n_dim\n",
    "\n",
    "dev = qml.device('default.qubit', wires = num_qubits)\n",
    "\n",
    "@qml.qnode(dev)\n",
    "def circuit(parameters, data):\n",
    "    for i in range(num_qubits):\n",
    "        qml.Hadamard(wires = i)\n",
    "    \n",
    "    AngleEmbedding(features = data, wires = range(num_qubits), rotation = 'Y')\n",
    "    \n",
    "    qml.StronglyEntanglingLayers(weights = parameters, wires = range(num_qubits))\n",
    "    \n",
    "    return qml.expval(qml.PauliZ(0))"
   ]
  },
  {
   "cell_type": "code",
   "execution_count": 20,
   "id": "ffcf8fdb-37a0-4b64-b73c-76be553995e8",
   "metadata": {},
   "outputs": [],
   "source": [
    "num_layers = 5\n",
    "weights_init = 0.01 * np.random.randn(num_layers, num_qubits, 3, requires_grad=True)\n",
    "bias_init = np.array(0.0, requires_grad=True)\n",
    "\n",
    "#print(weights_init, bias_init)"
   ]
  },
  {
   "cell_type": "code",
   "execution_count": 21,
   "id": "49568595-37ec-4749-a230-dc4c6dae2500",
   "metadata": {},
   "outputs": [
    {
     "data": {
      "text/plain": [
       "tensor(-0.11045783, requires_grad=True)"
      ]
     },
     "execution_count": 21,
     "metadata": {},
     "output_type": "execute_result"
    }
   ],
   "source": [
    "circuit(weights_init, sample_train[0])"
   ]
  },
  {
   "cell_type": "code",
   "execution_count": 22,
   "id": "4febb380-0955-4f05-a872-326cc4e3a27c",
   "metadata": {},
   "outputs": [],
   "source": [
    "def variational_classifier(weights, bias, x):\n",
    "    return circuit(weights, x) + bias"
   ]
  },
  {
   "cell_type": "code",
   "execution_count": 23,
   "id": "c16a1f84-63e5-4fbb-a647-cba6db4c6c4c",
   "metadata": {},
   "outputs": [],
   "source": [
    "def square_loss(labels, predictions):\n",
    "    loss = 0\n",
    "    for l, p in zip(labels, predictions):\n",
    "        loss = loss + (l - p) ** 2\n",
    "\n",
    "    loss = loss / len(labels)\n",
    "    return loss"
   ]
  },
  {
   "cell_type": "code",
   "execution_count": 24,
   "id": "07412a53-c93b-4c73-bd0b-e7e144454435",
   "metadata": {},
   "outputs": [],
   "source": [
    "def accuracy(labels, predictions):\n",
    "\n",
    "    loss = 0\n",
    "    for l, p in zip(labels, predictions):\n",
    "        if abs(l - p) < 1e-5:\n",
    "            loss = loss + 1\n",
    "    loss = loss / len(labels)\n",
    "\n",
    "    return loss"
   ]
  },
  {
   "cell_type": "code",
   "execution_count": 25,
   "id": "1bf0b58e-38f3-4c45-a4d2-3d69af787ba3",
   "metadata": {},
   "outputs": [],
   "source": [
    "def cost(weights, bias, X, Y):\n",
    "    predictions = [variational_classifier(weights, bias, x) for x in X]\n",
    "    return square_loss(Y, predictions)"
   ]
  },
  {
   "cell_type": "code",
   "execution_count": 26,
   "id": "21ff4aa6-c15b-4a59-a718-67d8da2402dd",
   "metadata": {},
   "outputs": [
    {
     "name": "stdout",
     "output_type": "stream",
     "text": [
      "X = [tensor(-0.98775499, requires_grad=True), tensor(0.1100003, requires_grad=True)], Y =  1\n",
      "X = [tensor(-0.9934898, requires_grad=True), tensor(0.12460691, requires_grad=True)], Y = -1\n",
      "X = [tensor(-0.99269242, requires_grad=True), tensor(0.13970777, requires_grad=True)], Y = -1\n",
      "X = [tensor(-0.96000939, requires_grad=True), tensor(0.19870147, requires_grad=True)], Y =  1\n",
      "X = [tensor(-0.99305848, requires_grad=True), tensor(0.20525516, requires_grad=True)], Y =  1\n"
     ]
    }
   ],
   "source": [
    "Y = np.array(label_train * 2 - np.ones(len(label_train)),requires_grad=True)  # shift label from {0, 1} to {-1, 1}\n",
    "X = np.array(sample_train, requires_grad=True)\n",
    "\n",
    "for i in range(5):\n",
    "    print(\"X = {}, Y = {: d}\".format(list(X[i]), int(Y[i])))"
   ]
  },
  {
   "cell_type": "code",
   "execution_count": 27,
   "id": "074f578a-1984-4814-9070-7b20063c8bd1",
   "metadata": {},
   "outputs": [],
   "source": [
    "opt = AdamOptimizer(stepsize=0.1, beta1=0.9, beta2=0.99, eps=1e-08)\n",
    "batch_size = 10"
   ]
  },
  {
   "cell_type": "code",
   "execution_count": 28,
   "id": "2d31d6a7-74f4-4e63-b1cb-b92bfb610a5a",
   "metadata": {},
   "outputs": [
    {
     "name": "stdout",
     "output_type": "stream",
     "text": [
      "Iter:     1 | Cost: 0.8137674 | f1: 0.0000000 \n",
      "Iter:     2 | Cost: 0.9344644 | f1: 0.0000000 \n",
      "Iter:     3 | Cost: 0.8554533 | f1: 0.0000000 \n",
      "Iter:     4 | Cost: 0.8063906 | f1: 0.0000000 \n",
      "Iter:     5 | Cost: 0.8055281 | f1: 0.0000000 \n",
      "Iter:     6 | Cost: 0.8064377 | f1: 0.0000000 \n",
      "Iter:     7 | Cost: 0.8221624 | f1: 0.0000000 \n",
      "Iter:     8 | Cost: 0.8761139 | f1: 0.0000000 \n",
      "Iter:     9 | Cost: 0.8793915 | f1: 0.0000000 \n",
      "Iter:    10 | Cost: 0.8840536 | f1: 0.0000000 \n",
      "Iter:    11 | Cost: 0.8376569 | f1: 0.0000000 \n",
      "Iter:    12 | Cost: 0.8204033 | f1: 0.0000000 \n",
      "Iter:    13 | Cost: 0.8091110 | f1: 0.0000000 \n",
      "Iter:    14 | Cost: 0.8960463 | f1: 0.0000000 \n",
      "Iter:    15 | Cost: 0.8836299 | f1: 0.0000000 \n",
      "Iter:    16 | Cost: 0.8260220 | f1: 0.0000000 \n",
      "Iter:    17 | Cost: 0.8099397 | f1: 0.0000000 \n",
      "Iter:    18 | Cost: 0.9567965 | f1: 0.0000000 \n",
      "Iter:    19 | Cost: 0.9926320 | f1: 0.0000000 \n",
      "Iter:    20 | Cost: 0.9727401 | f1: 0.0000000 \n",
      "Iter:    21 | Cost: 0.8939050 | f1: 0.0000000 \n",
      "Iter:    22 | Cost: 0.8155428 | f1: 0.0000000 \n",
      "Iter:    23 | Cost: 0.7976750 | f1: 0.0000000 \n",
      "Iter:    24 | Cost: 0.8118967 | f1: 0.0000000 \n",
      "Iter:    25 | Cost: 0.8562278 | f1: 0.0000000 \n",
      "Iter:    26 | Cost: 0.9009258 | f1: 0.0000000 \n",
      "Iter:    27 | Cost: 0.8737882 | f1: 0.0000000 \n",
      "Iter:    28 | Cost: 0.8364402 | f1: 0.0000000 \n",
      "Iter:    29 | Cost: 0.8095419 | f1: 0.0000000 \n",
      "Iter:    30 | Cost: 0.7991905 | f1: 0.0000000 \n",
      "Iter:    31 | Cost: 0.7986814 | f1: 0.0000000 \n",
      "Iter:    32 | Cost: 0.7991134 | f1: 0.0000000 \n",
      "Iter:    33 | Cost: 0.7967977 | f1: 0.0000000 \n",
      "Iter:    34 | Cost: 0.8034709 | f1: 0.0000000 \n",
      "Iter:    35 | Cost: 0.8204985 | f1: 0.0000000 \n",
      "Iter:    36 | Cost: 0.8392242 | f1: 0.0000000 \n",
      "Iter:    37 | Cost: 0.8724013 | f1: 0.0000000 \n",
      "Iter:    38 | Cost: 0.8753385 | f1: 0.0000000 \n",
      "Iter:    39 | Cost: 0.8495105 | f1: 0.0000000 \n",
      "Iter:    40 | Cost: 0.8302980 | f1: 0.0000000 \n",
      "Iter:    41 | Cost: 0.8058326 | f1: 0.0000000 \n",
      "Iter:    42 | Cost: 0.8011701 | f1: 0.0000000 \n",
      "Iter:    43 | Cost: 0.7905712 | f1: 0.0000000 \n",
      "Iter:    44 | Cost: 0.7951131 | f1: 0.0000000 \n",
      "Iter:    45 | Cost: 0.8338223 | f1: 0.0000000 \n",
      "Iter:    46 | Cost: 0.9127871 | f1: 0.0000000 \n",
      "Iter:    47 | Cost: 0.9404354 | f1: 0.0000000 \n",
      "Iter:    48 | Cost: 0.9079536 | f1: 0.0000000 \n",
      "Iter:    49 | Cost: 0.8645172 | f1: 0.0000000 \n",
      "Iter:    50 | Cost: 0.8176072 | f1: 0.0000000 \n",
      "Iter:    51 | Cost: 0.7905487 | f1: 0.0000000 \n",
      "Iter:    52 | Cost: 0.7793218 | f1: 0.0000000 \n",
      "Iter:    53 | Cost: 0.7820825 | f1: 0.0000000 \n",
      "Iter:    54 | Cost: 0.7845435 | f1: 0.0000000 \n",
      "Iter:    55 | Cost: 0.7866918 | f1: 0.0000000 \n",
      "Iter:    56 | Cost: 0.7968072 | f1: 0.0000000 \n",
      "Iter:    57 | Cost: 0.7935155 | f1: 0.0000000 \n",
      "Iter:    58 | Cost: 0.7982440 | f1: 0.0000000 \n",
      "Iter:    59 | Cost: 0.7975129 | f1: 0.0000000 \n",
      "Iter:    60 | Cost: 0.7806513 | f1: 0.0000000 \n",
      "Iter:    61 | Cost: 0.7596753 | f1: 0.0000000 \n",
      "New best\n",
      "Iter:    62 | Cost: 0.7880561 | f1: 0.0204082 \n",
      "New best\n",
      "Iter:    63 | Cost: 0.9176695 | f1: 0.2234043 \n",
      "Iter:    64 | Cost: 0.9074450 | f1: 0.2055556 \n",
      "Iter:    65 | Cost: 0.8084643 | f1: 0.0204082 \n",
      "Iter:    66 | Cost: 0.7531630 | f1: 0.0068493 \n",
      "Iter:    67 | Cost: 0.7823926 | f1: 0.0000000 \n",
      "Iter:    68 | Cost: 0.8673984 | f1: 0.0000000 \n",
      "Iter:    69 | Cost: 0.9126987 | f1: 0.0000000 \n",
      "Iter:    70 | Cost: 0.8233186 | f1: 0.0000000 \n",
      "Iter:    71 | Cost: 0.7784946 | f1: 0.0000000 \n",
      "Iter:    72 | Cost: 0.8726692 | f1: 0.0192926 \n",
      "New best\n",
      "Iter:    73 | Cost: 1.0165529 | f1: 0.2267081 \n",
      "Iter:    74 | Cost: 0.9961951 | f1: 0.1124498 \n",
      "Iter:    75 | Cost: 0.8853778 | f1: 0.0189873 \n",
      "Iter:    76 | Cost: 0.7948116 | f1: 0.0000000 \n",
      "Iter:    77 | Cost: 0.7854804 | f1: 0.0000000 \n",
      "Iter:    78 | Cost: 0.7959284 | f1: 0.0000000 \n",
      "Iter:    79 | Cost: 0.7904366 | f1: 0.0000000 \n",
      "Iter:    80 | Cost: 0.7810301 | f1: 0.0000000 \n",
      "Iter:    81 | Cost: 0.7736065 | f1: 0.0000000 \n",
      "Iter:    82 | Cost: 0.7793566 | f1: 0.0000000 \n",
      "Iter:    83 | Cost: 0.7880099 | f1: 0.0000000 \n",
      "Iter:    84 | Cost: 0.7952755 | f1: 0.0000000 \n",
      "Iter:    85 | Cost: 0.7979563 | f1: 0.0000000 \n",
      "Iter:    86 | Cost: 0.7783602 | f1: 0.0000000 \n",
      "Iter:    87 | Cost: 0.7637989 | f1: 0.0000000 \n",
      "Iter:    88 | Cost: 0.7645152 | f1: 0.0000000 \n",
      "Iter:    89 | Cost: 0.7572506 | f1: 0.0000000 \n",
      "Iter:    90 | Cost: 0.7502947 | f1: 0.0000000 \n",
      "Iter:    91 | Cost: 0.7480201 | f1: 0.0000000 \n",
      "Iter:    92 | Cost: 0.7597622 | f1: 0.0068493 \n",
      "Iter:    93 | Cost: 0.7604761 | f1: 0.0068493 \n",
      "Iter:    94 | Cost: 0.7563918 | f1: 0.0068493 \n",
      "Iter:    95 | Cost: 0.7675445 | f1: 0.0136519 \n",
      "Iter:    96 | Cost: 0.7486424 | f1: 0.0068729 \n",
      "Iter:    97 | Cost: 0.7396043 | f1: 0.0068729 \n",
      "Iter:    98 | Cost: 0.7417318 | f1: 0.0068729 \n",
      "Iter:    99 | Cost: 0.7361911 | f1: 0.0068729 \n",
      "Iter:   100 | Cost: 0.7531922 | f1: 0.0000000 \n",
      "Iter:   101 | Cost: 0.8028790 | f1: 0.0000000 \n",
      "Iter:   102 | Cost: 0.8396743 | f1: 0.0000000 \n",
      "Iter:   103 | Cost: 0.8449295 | f1: 0.0000000 \n",
      "Iter:   104 | Cost: 0.7636222 | f1: 0.0000000 \n",
      "Iter:   105 | Cost: 0.7325989 | f1: 0.0069204 \n",
      "Iter:   106 | Cost: 0.7274770 | f1: 0.0137931 \n",
      "Iter:   107 | Cost: 0.7320282 | f1: 0.0137931 \n",
      "Iter:   108 | Cost: 0.7302644 | f1: 0.0137931 \n",
      "Iter:   109 | Cost: 0.7391676 | f1: 0.0137931 \n",
      "Iter:   110 | Cost: 0.7350816 | f1: 0.0137931 \n",
      "Iter:   111 | Cost: 0.7241723 | f1: 0.0137931 \n",
      "Iter:   112 | Cost: 0.7194706 | f1: 0.0137931 \n",
      "Iter:   113 | Cost: 0.7275974 | f1: 0.0069204 \n",
      "Iter:   114 | Cost: 0.7317877 | f1: 0.0069204 \n",
      "Iter:   115 | Cost: 0.7364549 | f1: 0.0069204 \n",
      "Iter:   116 | Cost: 0.7230239 | f1: 0.0069204 \n",
      "Iter:   117 | Cost: 0.7206924 | f1: 0.0137931 \n",
      "Iter:   118 | Cost: 0.7185246 | f1: 0.0137931 \n",
      "Iter:   119 | Cost: 0.7155499 | f1: 0.0137931 \n",
      "Iter:   120 | Cost: 0.7162318 | f1: 0.0137931 \n",
      "Iter:   121 | Cost: 0.7169436 | f1: 0.0137931 \n",
      "Iter:   122 | Cost: 0.7138932 | f1: 0.0137931 \n",
      "Iter:   123 | Cost: 0.7308509 | f1: 0.0069204 \n",
      "Iter:   124 | Cost: 0.7627455 | f1: 0.0000000 \n",
      "Iter:   125 | Cost: 0.7759790 | f1: 0.0000000 \n",
      "Iter:   126 | Cost: 0.7738168 | f1: 0.0000000 \n",
      "Iter:   127 | Cost: 0.7906448 | f1: 0.0000000 \n",
      "Iter:   128 | Cost: 0.7750575 | f1: 0.0000000 \n",
      "Iter:   129 | Cost: 0.7652792 | f1: 0.0000000 \n",
      "Iter:   130 | Cost: 0.7370736 | f1: 0.0069204 \n",
      "Iter:   131 | Cost: 0.7162548 | f1: 0.0137931 \n",
      "Iter:   132 | Cost: 0.7115917 | f1: 0.0137931 \n",
      "Iter:   133 | Cost: 0.7106657 | f1: 0.0137931 \n",
      "Iter:   134 | Cost: 0.7164626 | f1: 0.0137931 \n",
      "Iter:   135 | Cost: 0.7256322 | f1: 0.0069204 \n",
      "Iter:   136 | Cost: 0.7436269 | f1: 0.0069204 \n",
      "Iter:   137 | Cost: 0.7453646 | f1: 0.0069204 \n",
      "Iter:   138 | Cost: 0.7564320 | f1: 0.0000000 \n",
      "Iter:   139 | Cost: 0.7729372 | f1: 0.0000000 \n",
      "Iter:   140 | Cost: 0.7661253 | f1: 0.0000000 \n",
      "Iter:   141 | Cost: 0.7414204 | f1: 0.0069204 \n",
      "Iter:   142 | Cost: 0.7165118 | f1: 0.0137931 \n",
      "Iter:   143 | Cost: 0.7068665 | f1: 0.0137931 \n",
      "Iter:   144 | Cost: 0.7098730 | f1: 0.0206186 \n",
      "Iter:   145 | Cost: 0.7189052 | f1: 0.0408163 \n",
      "Iter:   146 | Cost: 0.7412484 | f1: 0.0606061 \n",
      "New best\n",
      "Iter:   147 | Cost: 0.7989170 | f1: 0.2349398 \n",
      "New best\n",
      "Iter:   148 | Cost: 0.8205395 | f1: 0.3085714 \n",
      "Iter:   149 | Cost: 0.7948944 | f1: 0.2363636 \n",
      "Iter:   150 | Cost: 0.7723064 | f1: 0.1414791 \n"
     ]
    }
   ],
   "source": [
    "weights = weights_init\n",
    "bias = bias_init\n",
    "\n",
    "wbest = 0\n",
    "bbest = 0\n",
    "abest = 0\n",
    "ccost = 0 \n",
    "for it in range(150):\n",
    "\n",
    "    # weights update by one optimizer step\n",
    "\n",
    "    batch_index = np.random.randint(0, len(X), (batch_size,))\n",
    "    X_batch = X[batch_index]\n",
    "    Y_batch = Y[batch_index]\n",
    "    weights, bias, _, _ = opt.step(cost, weights, bias, X_batch, Y_batch)\n",
    "\n",
    "    # Compute the accuracy\n",
    "    predictions = [np.sign(variational_classifier(weights, bias, x)) for x in X]\n",
    "    \n",
    "    '''if accuracy(Y, predictions) > abest:\n",
    "        wbest = weights\n",
    "        bbest = bias\n",
    "        abest = accuracy(Y, predictions)\n",
    "        print('New best')\n",
    "\n",
    "    acc = accuracy(Y, predictions)\n",
    "\n",
    "    print(\n",
    "        \"Iter: {:5d} | Cost: {:0.7f} | Accuracy: {:0.7f} \".format(\n",
    "            it + 1, cost(weights, bias, X, Y), acc\n",
    "        )\n",
    "    )'''\n",
    "    prec = metrics.f1_score(Y, predictions, average='binary', pos_label=1)\n",
    "    if  prec > abest or ((prec == abest) and (cost(weights, bias, X, Y) < ccost)):\n",
    "        wbest = weights\n",
    "        bbest = bias\n",
    "        abest = prec\n",
    "        ccost = cost(weights, bias, X, Y)\n",
    "        print('New best')\n",
    "    #prec = metrics.precision_score(Y, predictions, average='binary')\n",
    "    print(\n",
    "        \"Iter: {:5d} | Cost: {:0.7f} | f1: {:0.7f} \".format(\n",
    "            it + 1, cost(weights, bias, X, Y), prec\n",
    "        )\n",
    "    )\n",
    "    \n",
    "    "
   ]
  },
  {
   "cell_type": "code",
   "execution_count": 29,
   "id": "ee2dceeb-5b76-4ec7-9ebb-efb9e562cf8a",
   "metadata": {},
   "outputs": [],
   "source": [
    "Yte = np.array(label_test * 2 - np.ones(len(label_test)))\n",
    "Xte = np.array(normalize(sample_test))"
   ]
  },
  {
   "cell_type": "code",
   "execution_count": 30,
   "id": "4416ed73-4c7d-44e3-a539-9dba3191327d",
   "metadata": {},
   "outputs": [
    {
     "name": "stdout",
     "output_type": "stream",
     "text": [
      "Cost: 0.8568597914829221, Accuracy: 76.0%\n"
     ]
    }
   ],
   "source": [
    "predictions = [np.sign(variational_classifier(wbest, bbest, x)) for x in Xte]\n",
    "pred = [np.sign(variational_classifier(wbest, bbest, x)) for x in X]\n",
    "acc = accuracy(Yte, predictions)\n",
    "\n",
    "print(f'Cost: {cost(wbest, bbest, Xte, Yte)}, Accuracy: {np.round(acc, 2) * 100}%')"
   ]
  },
  {
   "cell_type": "code",
   "execution_count": 31,
   "id": "a4a2955a-d877-4885-ad84-5f31458a7c94",
   "metadata": {},
   "outputs": [
    {
     "name": "stdout",
     "output_type": "stream",
     "text": [
      "              precision    recall  f1-score   support\n",
      "\n",
      "        -1.0       0.98      0.76      0.85       262\n",
      "         1.0       0.17      0.72      0.28        18\n",
      "\n",
      "    accuracy                           0.76       280\n",
      "   macro avg       0.57      0.74      0.57       280\n",
      "weighted avg       0.92      0.76      0.82       280\n",
      "\n"
     ]
    }
   ],
   "source": [
    "print(metrics.classification_report(predictions,Yte))"
   ]
  },
  {
   "cell_type": "code",
   "execution_count": 32,
   "id": "dcedeada-a82f-4e82-b738-6a862dc801c8",
   "metadata": {},
   "outputs": [
    {
     "name": "stdout",
     "output_type": "stream",
     "text": [
      "\n",
      "\n",
      "    Precision: 17.11%\n",
      "    Recall: 72.22%\n",
      "    f1: 27.66%\n",
      "    Accuracy: 75.71%\n",
      "    Balanced accuracy: 74.09%\n",
      "    Matthew corcorref: 26.57%\n",
      "    \n"
     ]
    }
   ],
   "source": [
    "print(f'''\n",
    "\n",
    "    Precision: {round(100*metrics.precision_score(predictions,Yte),2)}%\n",
    "    Recall: {round(100*metrics.recall_score(predictions,Yte),2)}%\n",
    "    f1: {round(100*metrics.f1_score(predictions,Yte),2)}%\n",
    "    Accuracy: {round(100*metrics.accuracy_score(predictions,Yte),2)}%\n",
    "    Balanced accuracy: {round(100*metrics.balanced_accuracy_score(predictions,Yte),2)}%\n",
    "    Matthew corcorref: {round(100*metrics.matthews_corrcoef(predictions,Yte),2)}%\n",
    "    ''')"
   ]
  },
  {
   "cell_type": "code",
   "execution_count": null,
   "id": "2e5308be-6630-4637-a387-b4f796aeb98d",
   "metadata": {},
   "outputs": [],
   "source": []
  },
  {
   "cell_type": "code",
   "execution_count": null,
   "id": "ec358b81-12a1-4f0d-8149-d30bdb49d51f",
   "metadata": {},
   "outputs": [],
   "source": []
  },
  {
   "cell_type": "code",
   "execution_count": null,
   "id": "29191a5c-c4c9-46dc-95a3-c4ac133c5878",
   "metadata": {},
   "outputs": [],
   "source": []
  }
 ],
 "metadata": {
  "kernelspec": {
   "display_name": "Python 3 (ipykernel)",
   "language": "python",
   "name": "python3"
  },
  "language_info": {
   "codemirror_mode": {
    "name": "ipython",
    "version": 3
   },
   "file_extension": ".py",
   "mimetype": "text/x-python",
   "name": "python",
   "nbconvert_exporter": "python",
   "pygments_lexer": "ipython3",
   "version": "3.10.6"
  }
 },
 "nbformat": 4,
 "nbformat_minor": 5
}
