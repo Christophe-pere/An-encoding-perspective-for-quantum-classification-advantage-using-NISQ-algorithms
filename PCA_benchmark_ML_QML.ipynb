{
 "cells": [
  {
   "cell_type": "markdown",
   "id": "d41d3fa6-0ae0-490d-a02b-0dbf81799488",
   "metadata": {},
   "source": [
    "# Quantum benchmark"
   ]
  },
  {
   "cell_type": "markdown",
   "id": "d6011e42-1fab-4f9f-ab99-f4f08607517e",
   "metadata": {},
   "source": [
    "## I - Introduction"
   ]
  },
  {
   "cell_type": "code",
   "execution_count": null,
   "id": "13b4f6b4-240b-4b7f-abe4-4e74b3b8cc8a",
   "metadata": {},
   "outputs": [],
   "source": []
  },
  {
   "cell_type": "markdown",
   "id": "bd5492ce-4f08-4755-b4c2-efd698139101",
   "metadata": {},
   "source": [
    "## II - Packages"
   ]
  },
  {
   "cell_type": "code",
   "execution_count": 1,
   "id": "90371200-0133-46ab-a205-d0f6b8858e55",
   "metadata": {},
   "outputs": [],
   "source": [
    "import pandas as pd\n",
    "import matplotlib.pyplot as plt\n",
    "import numpy as np\n",
    "from sklearn.model_selection import train_test_split\n",
    "from sklearn.preprocessing import StandardScaler\n",
    "from sklearn.decomposition import PCA\n",
    "from sklearn.discriminant_analysis import LinearDiscriminantAnalysis as LDA\n",
    "from sklearn.preprocessing import MinMaxScaler\n",
    "from sklearn.svm import SVC\n",
    "from sklearn import metrics\n",
    "from sklearn.ensemble import RandomForestClassifier\n",
    "from sklearn.linear_model import LogisticRegression\n",
    "from sklearn.tree import DecisionTreeClassifier\n",
    "from sklearn.preprocessing import normalize\n",
    "from sklearn.model_selection import cross_val_score, KFold\n",
    "#Import classical libraries\n",
    "from sklearn.neighbors import KNeighborsClassifier\n",
    "from sklearn.naive_bayes import GaussianNB\n",
    "from sklearn.svm import SVC\n",
    "from sklearn.ensemble import RandomForestClassifier\n",
    "from sklearn.model_selection import train_test_split\n",
    "from sklearn import datasets\n",
    "import matplotlib.pyplot as plt\n",
    "\n",
    "plt.style.use('ggplot')\n",
    "\n",
    "import functools\n",
    "\n",
    "from qiskit import BasicAer\n",
    "from qiskit.circuit.library import ZZFeatureMap\n",
    "from qiskit.utils import QuantumInstance, algorithm_globals\n",
    "from qiskit_machine_learning.algorithms import QSVC\n",
    "from qiskit_machine_learning.kernels import QuantumKernel\n",
    "from qiskit_machine_learning.datasets import ad_hoc_data\n",
    "import logging\n",
    "\n",
    "import pennylane as qml\n",
    "from pennylane.templates.embeddings import AngleEmbedding, AmplitudeEmbedding\n",
    "from pennylane.optimize import AdamOptimizer\n",
    "\n",
    "from qiskit.algorithms.optimizers import COBYLA\n",
    "from qiskit.circuit.library import TwoLocal, ZZFeatureMap\n",
    "import qiskit"
   ]
  },
  {
   "cell_type": "markdown",
   "id": "1598c94c-fdcf-41cd-a4ea-e262932c7e0f",
   "metadata": {},
   "source": [
    "## III - Data "
   ]
  },
  {
   "cell_type": "code",
   "execution_count": 2,
   "id": "e683f3b5-6021-4eb7-bc53-539a5cd79bfc",
   "metadata": {},
   "outputs": [],
   "source": [
    "# Read out CSV\n",
    "\n",
    "df = pd.read_csv('UCI_Credit_Card.csv', sep=',')"
   ]
  },
  {
   "cell_type": "code",
   "execution_count": 3,
   "id": "bf69c7f1-b10e-4b54-89ec-89dd5829ac42",
   "metadata": {},
   "outputs": [],
   "source": [
    "%%script false --no-raise-error\n",
    "\n",
    "import sweetviz as sv\n",
    "\n",
    "#EDA using Autoviz\n",
    "sweet_report = sv.analyze(df)\n",
    "\n",
    "#Saving results to HTML file\n",
    "sweet_report.show_html('sweet_report.html')"
   ]
  },
  {
   "cell_type": "markdown",
   "id": "c4ff48fa-d03b-435d-9343-67186c068b34",
   "metadata": {},
   "source": [
    "## IV - Modelisation"
   ]
  },
  {
   "cell_type": "markdown",
   "id": "3dbe1bb7-d7eb-412b-a291-bbeb654766f5",
   "metadata": {},
   "source": [
    "### Classical"
   ]
  },
  {
   "cell_type": "code",
   "execution_count": 5,
   "id": "d7f6037b-3b1c-4a2c-8a9e-df1d432cafa4",
   "metadata": {},
   "outputs": [],
   "source": [
    "df_labels = df['default.payment.next.month']\n",
    "df.drop(['default.payment.next.month'],axis = 1,inplace = True)"
   ]
  },
  {
   "cell_type": "code",
   "execution_count": 6,
   "id": "249ef3a0-7be3-4234-8be6-630db2cd267f",
   "metadata": {},
   "outputs": [],
   "source": [
    "X_train, X_test, y_train, y_test = train_test_split(df, df_labels, test_size=0.2, random_state=42)"
   ]
  },
  {
   "cell_type": "markdown",
   "id": "4f45105d-12bb-43b3-940d-32c1c66d6b83",
   "metadata": {},
   "source": [
    "### Decision Tree"
   ]
  },
  {
   "cell_type": "code",
   "execution_count": 6,
   "id": "da0a47b2-799a-4bf7-9233-465485759b55",
   "metadata": {},
   "outputs": [],
   "source": [
    "decision_tree = DecisionTreeClassifier( random_state=42) #max_depth=2,\n",
    "\n",
    "decision_tree.fit(X_train, y_train)\n",
    "y_pred = decision_tree.predict(X_test)"
   ]
  },
  {
   "cell_type": "code",
   "execution_count": 7,
   "id": "85fc748a-8bb9-463e-8d08-0669aa4568df",
   "metadata": {},
   "outputs": [
    {
     "name": "stdout",
     "output_type": "stream",
     "text": [
      "              precision    recall  f1-score   support\n",
      "\n",
      "           0       0.83      0.81      0.82      4687\n",
      "           1       0.37      0.40      0.39      1313\n",
      "\n",
      "    accuracy                           0.72      6000\n",
      "   macro avg       0.60      0.61      0.60      6000\n",
      "weighted avg       0.73      0.72      0.73      6000\n",
      "\n"
     ]
    }
   ],
   "source": [
    "print(metrics.classification_report(y_test, y_pred))"
   ]
  },
  {
   "cell_type": "markdown",
   "id": "8ae9e5cc-4f3f-4f4f-b575-123957b8d606",
   "metadata": {},
   "source": [
    "### RandomForest"
   ]
  },
  {
   "cell_type": "code",
   "execution_count": 8,
   "id": "b8f81c9a-552f-43de-8103-9d593cf0c09f",
   "metadata": {},
   "outputs": [],
   "source": [
    "classifier = RandomForestClassifier( random_state=42) #max_depth=2,\n",
    "\n",
    "classifier.fit(X_train, y_train)\n",
    "y_pred = classifier.predict(X_test)"
   ]
  },
  {
   "cell_type": "code",
   "execution_count": 9,
   "id": "b1b409d6-e35c-4710-a1b5-89ee9a88a042",
   "metadata": {},
   "outputs": [
    {
     "name": "stdout",
     "output_type": "stream",
     "text": [
      "              precision    recall  f1-score   support\n",
      "\n",
      "           0       0.84      0.94      0.89      4687\n",
      "           1       0.63      0.36      0.46      1313\n",
      "\n",
      "    accuracy                           0.81      6000\n",
      "   macro avg       0.74      0.65      0.67      6000\n",
      "weighted avg       0.79      0.81      0.79      6000\n",
      "\n"
     ]
    }
   ],
   "source": [
    "# Print the classification report and important metrics\n",
    "\n",
    "print(metrics.classification_report(y_test, y_pred))"
   ]
  },
  {
   "cell_type": "markdown",
   "id": "7e711026-7329-4b46-b3eb-859953fcdc07",
   "metadata": {},
   "source": [
    "### Logistic Regression"
   ]
  },
  {
   "cell_type": "code",
   "execution_count": 10,
   "id": "9ee380ae-bb33-42f4-aae8-92feb8827a8f",
   "metadata": {},
   "outputs": [],
   "source": [
    "lr = LogisticRegression(max_iter=1000, random_state=42) #max_depth=2,\n",
    "\n",
    "lr.fit(X_train, y_train)\n",
    "y_pred = lr.predict(X_test)"
   ]
  },
  {
   "cell_type": "code",
   "execution_count": 11,
   "id": "b2320684-bacb-442c-975a-9cf9039bfc82",
   "metadata": {},
   "outputs": [
    {
     "name": "stdout",
     "output_type": "stream",
     "text": [
      "              precision    recall  f1-score   support\n",
      "\n",
      "           0       0.78      1.00      0.88      4687\n",
      "           1       0.00      0.00      0.00      1313\n",
      "\n",
      "    accuracy                           0.78      6000\n",
      "   macro avg       0.39      0.50      0.44      6000\n",
      "weighted avg       0.61      0.78      0.69      6000\n",
      "\n"
     ]
    },
    {
     "name": "stderr",
     "output_type": "stream",
     "text": [
      "/opt/homebrew/lib/python3.9/site-packages/sklearn/metrics/_classification.py:1327: UndefinedMetricWarning: Precision and F-score are ill-defined and being set to 0.0 in labels with no predicted samples. Use `zero_division` parameter to control this behavior.\n",
      "  _warn_prf(average, modifier, msg_start, len(result))\n",
      "/opt/homebrew/lib/python3.9/site-packages/sklearn/metrics/_classification.py:1327: UndefinedMetricWarning: Precision and F-score are ill-defined and being set to 0.0 in labels with no predicted samples. Use `zero_division` parameter to control this behavior.\n",
      "  _warn_prf(average, modifier, msg_start, len(result))\n",
      "/opt/homebrew/lib/python3.9/site-packages/sklearn/metrics/_classification.py:1327: UndefinedMetricWarning: Precision and F-score are ill-defined and being set to 0.0 in labels with no predicted samples. Use `zero_division` parameter to control this behavior.\n",
      "  _warn_prf(average, modifier, msg_start, len(result))\n"
     ]
    }
   ],
   "source": [
    "print(metrics.classification_report(y_test, y_pred))"
   ]
  },
  {
   "cell_type": "markdown",
   "id": "64e47899-e42f-4daf-9a35-c2f1f4902139",
   "metadata": {},
   "source": [
    "### SVM"
   ]
  },
  {
   "cell_type": "code",
   "execution_count": 12,
   "id": "00edbaf9-55d0-49f3-afcb-fd6dcc98d5dd",
   "metadata": {},
   "outputs": [],
   "source": [
    "svm = SVC( random_state=42) #max_depth=2,\n",
    "\n",
    "svm.fit(X_train, y_train)\n",
    "y_pred = svm.predict(X_test)"
   ]
  },
  {
   "cell_type": "code",
   "execution_count": 13,
   "id": "3d3d2566-a1e1-4967-925f-228f2e7d1d5a",
   "metadata": {},
   "outputs": [
    {
     "name": "stdout",
     "output_type": "stream",
     "text": [
      "              precision    recall  f1-score   support\n",
      "\n",
      "           0       0.78      1.00      0.88      4687\n",
      "           1       0.00      0.00      0.00      1313\n",
      "\n",
      "    accuracy                           0.78      6000\n",
      "   macro avg       0.39      0.50      0.44      6000\n",
      "weighted avg       0.61      0.78      0.69      6000\n",
      "\n"
     ]
    },
    {
     "name": "stderr",
     "output_type": "stream",
     "text": [
      "/opt/homebrew/lib/python3.9/site-packages/sklearn/metrics/_classification.py:1327: UndefinedMetricWarning: Precision and F-score are ill-defined and being set to 0.0 in labels with no predicted samples. Use `zero_division` parameter to control this behavior.\n",
      "  _warn_prf(average, modifier, msg_start, len(result))\n",
      "/opt/homebrew/lib/python3.9/site-packages/sklearn/metrics/_classification.py:1327: UndefinedMetricWarning: Precision and F-score are ill-defined and being set to 0.0 in labels with no predicted samples. Use `zero_division` parameter to control this behavior.\n",
      "  _warn_prf(average, modifier, msg_start, len(result))\n",
      "/opt/homebrew/lib/python3.9/site-packages/sklearn/metrics/_classification.py:1327: UndefinedMetricWarning: Precision and F-score are ill-defined and being set to 0.0 in labels with no predicted samples. Use `zero_division` parameter to control this behavior.\n",
      "  _warn_prf(average, modifier, msg_start, len(result))\n"
     ]
    }
   ],
   "source": [
    "print(metrics.classification_report(y_test, y_pred))"
   ]
  },
  {
   "cell_type": "markdown",
   "id": "2cdd918a-57d8-443f-861d-77609bdb67a1",
   "metadata": {},
   "source": [
    "---"
   ]
  },
  {
   "cell_type": "markdown",
   "id": "b1251e3e-c8ed-4e57-a790-1fa8003f8c31",
   "metadata": {},
   "source": [
    "## Dimensionality reduction"
   ]
  },
  {
   "cell_type": "code",
   "execution_count": 14,
   "id": "12b4f425-f8b1-40b4-8c3f-4502a9a01a3c",
   "metadata": {},
   "outputs": [
    {
     "data": {
      "text/plain": [
       "array([0, 1])"
      ]
     },
     "execution_count": 14,
     "metadata": {},
     "output_type": "execute_result"
    }
   ],
   "source": [
    "np.unique(df_labels)"
   ]
  },
  {
   "cell_type": "code",
   "execution_count": null,
   "id": "a48d4b60-5675-473e-88a1-77dcff67374d",
   "metadata": {},
   "outputs": [],
   "source": [
    "from sklearn.preprocessing import StandardScaler"
   ]
  },
  {
   "cell_type": "code",
   "execution_count": 40,
   "id": "53c4b754-1ee5-42b6-a8ec-2d9f32b5762a",
   "metadata": {},
   "outputs": [],
   "source": [
    "# Standardizing the features\n",
    "x = StandardScaler().fit_transform(df)"
   ]
  },
  {
   "cell_type": "code",
   "execution_count": 3,
   "id": "a948c1c2-cb55-49b2-bb4c-c2d2fdca527a",
   "metadata": {},
   "outputs": [],
   "source": [
    "#pca = PCA(n_components=2)\n",
    "pca = PCA(n_components=1)"
   ]
  },
  {
   "cell_type": "code",
   "execution_count": 26,
   "id": "d6aa5d1d-2d9f-4623-925b-f36880763ebd",
   "metadata": {},
   "outputs": [],
   "source": [
    "feature_1 = pca.fit_transform(df.iloc[:, :12], df_labels)\n",
    "feature_2 = pca.fit_transform(df.iloc[:, 12:], df_labels)"
   ]
  },
  {
   "cell_type": "code",
   "execution_count": 28,
   "id": "5a9e8a30-22fe-446d-b911-142649f51b00",
   "metadata": {},
   "outputs": [
    {
     "data": {
      "text/plain": [
       "[<matplotlib.lines.Line2D at 0x2a2fdc850>,\n",
       " <matplotlib.lines.Line2D at 0x2a3ea3ee0>]"
      ]
     },
     "execution_count": 28,
     "metadata": {},
     "output_type": "execute_result"
    },
    {
     "data": {
      "image/png": "[encoded data removed]",
      "text/plain": [
       "<Figure size 720x576 with 1 Axes>"
      ]
     },
     "metadata": {
      "needs_background": "light"
     },
     "output_type": "display_data"
    }
   ],
   "source": [
    "plt.figure(figsize=(10,8))\n",
    "plt.plot(feature_1, feature_2, '+')\n"
   ]
  },
  {
   "cell_type": "code",
   "execution_count": 8,
   "id": "58737fde-c826-4acf-8c94-cb8f4df345bd",
   "metadata": {},
   "outputs": [],
   "source": [
    "df_pca_train = pca.transform(X_train)\n",
    "df_pca_test = pca.transform(X_test)"
   ]
  },
  {
   "cell_type": "code",
   "execution_count": 9,
   "id": "3228f8e5-9afe-4127-9b40-c70fbd78c63d",
   "metadata": {},
   "outputs": [],
   "source": [
    "df_pca_train = pd.DataFrame(data = df_pca_train\n",
    "             , columns = ['pc_1', 'pc_2'])\n",
    "\n",
    "df_pca_test = pd.DataFrame(data = df_pca_test\n",
    "             , columns = ['pc_1', 'pc_2'])"
   ]
  },
  {
   "cell_type": "code",
   "execution_count": 10,
   "id": "bb5a4c4a-13aa-4bcc-b388-f8641146ddca",
   "metadata": {},
   "outputs": [
    {
     "data": {
      "text/html": [
       "<div>\n",
       "<style scoped>\n",
       "    .dataframe tbody tr th:only-of-type {\n",
       "        vertical-align: middle;\n",
       "    }\n",
       "\n",
       "    .dataframe tbody tr th {\n",
       "        vertical-align: top;\n",
       "    }\n",
       "\n",
       "    .dataframe thead th {\n",
       "        text-align: right;\n",
       "    }\n",
       "</style>\n",
       "<table border=\"1\" class=\"dataframe\">\n",
       "  <thead>\n",
       "    <tr style=\"text-align: right;\">\n",
       "      <th></th>\n",
       "      <th>pc_1</th>\n",
       "      <th>pc_2</th>\n",
       "    </tr>\n",
       "  </thead>\n",
       "  <tbody>\n",
       "    <tr>\n",
       "      <th>0</th>\n",
       "      <td>-1109.007054</td>\n",
       "      <td>-100632.352768</td>\n",
       "    </tr>\n",
       "    <tr>\n",
       "      <th>1</th>\n",
       "      <td>-114869.926720</td>\n",
       "      <td>-92875.003777</td>\n",
       "    </tr>\n",
       "    <tr>\n",
       "      <th>2</th>\n",
       "      <td>-75666.722502</td>\n",
       "      <td>57968.240669</td>\n",
       "    </tr>\n",
       "    <tr>\n",
       "      <th>3</th>\n",
       "      <td>-53269.309334</td>\n",
       "      <td>-93427.802559</td>\n",
       "    </tr>\n",
       "    <tr>\n",
       "      <th>4</th>\n",
       "      <td>132483.901960</td>\n",
       "      <td>-118411.354062</td>\n",
       "    </tr>\n",
       "  </tbody>\n",
       "</table>\n",
       "</div>"
      ],
      "text/plain": [
       "            pc_1           pc_2\n",
       "0   -1109.007054 -100632.352768\n",
       "1 -114869.926720  -92875.003777\n",
       "2  -75666.722502   57968.240669\n",
       "3  -53269.309334  -93427.802559\n",
       "4  132483.901960 -118411.354062"
      ]
     },
     "execution_count": 10,
     "metadata": {},
     "output_type": "execute_result"
    }
   ],
   "source": [
    "df_pca_train.head()"
   ]
  },
  {
   "cell_type": "code",
   "execution_count": 12,
   "id": "3141a967-8c2f-472e-a934-5ad8ac0d9237",
   "metadata": {},
   "outputs": [
    {
     "data": {
      "text/plain": [
       "[<matplotlib.lines.Line2D at 0x17b0f3460>]"
      ]
     },
     "execution_count": 12,
     "metadata": {},
     "output_type": "execute_result"
    },
    {
     "data": {
      "image/png": "[encoded data removed]",
      "text/plain": [
       "<Figure size 720x576 with 1 Axes>"
      ]
     },
     "metadata": {
      "needs_background": "light"
     },
     "output_type": "display_data"
    }
   ],
   "source": [
    "plt.figure(figsize=(10,8))\n",
    "plt.plot(df_pca_train.iloc[:,0], df_pca_train.iloc[:,1], 'b+')\n",
    "plt.plot(df_pca_test.iloc[:,0], df_pca_test.iloc[:,1], 'g+')\n",
    "#plt.plot(df.index, feature_2, 'g+')"
   ]
  },
  {
   "cell_type": "code",
   "execution_count": 29,
   "id": "e4b4b4e7-4a73-4323-9424-a05d62cd8cee",
   "metadata": {},
   "outputs": [],
   "source": [
    "features_pca_1 = pd.DataFrame(feature_1)\n",
    "features_pca_2 = pd.DataFrame(feature_2)\n",
    "features_pca = features_pca_1.join(features_pca_2, lsuffix=\"_left\", rsuffix=\"_right\")"
   ]
  },
  {
   "cell_type": "code",
   "execution_count": 30,
   "id": "a1de5099-55d4-4d2d-9ea4-eaf60c27b16c",
   "metadata": {},
   "outputs": [],
   "source": [
    "#n_dim = len(df_pca_train.columns)\n",
    "n_dim = len(features_pca.columns)"
   ]
  },
  {
   "cell_type": "markdown",
   "id": "bd626d5c-ff6a-443a-9700-10a93c24dc74",
   "metadata": {},
   "source": [
    "## Split train test "
   ]
  },
  {
   "cell_type": "code",
   "execution_count": 31,
   "id": "afaf0912-bdbf-4460-ae4c-43016d1f5a57",
   "metadata": {},
   "outputs": [],
   "source": [
    "# Split dataset into train and test\n",
    "\n",
    "sample_train, sample_test, label_train, label_test = train_test_split(\n",
    "     features_pca, df_labels, test_size=0.2, random_state=22)\n",
    "\n",
    "# Normalize\n",
    "\n",
    "std_scale = StandardScaler().fit(sample_train)\n",
    "sample_train = std_scale.transform(sample_train)\n",
    "sample_test = std_scale.transform(sample_test)\n",
    "\n",
    "# Scale for better fit within the feature map\n",
    "\n",
    "samples = np.append(sample_train, sample_test, axis=0)\n",
    "minmax_scale = MinMaxScaler((-1, 1)).fit(samples)\n",
    "sample_train = minmax_scale.transform(sample_train)\n",
    "sample_test = minmax_scale.transform(sample_test)\n",
    "\n",
    "# Select a sample for a better control of the research and wall time\n",
    "\n",
    "train_size = 800#160\n",
    "sample_train = sample_train[:train_size]\n",
    "label_train = label_train[:train_size]\n",
    "\n",
    "test_size = 200 #40\n",
    "sample_test = sample_test[:test_size]\n",
    "label_test = label_test[:test_size]"
   ]
  },
  {
   "cell_type": "code",
   "execution_count": 32,
   "id": "d815edbe-c5e7-42d6-9489-39ebb940cda4",
   "metadata": {},
   "outputs": [],
   "source": [
    "# Basic parameters for hybrid model\n",
    "\n",
    "seed = 8500\n",
    "feature_dim = n_dim\n",
    "num_reps = 2\n",
    "num_shots =256 \n"
   ]
  },
  {
   "cell_type": "markdown",
   "id": "a17bc9af-4a1c-453d-be99-d54b9e045628",
   "metadata": {},
   "source": [
    "## Hybrid"
   ]
  },
  {
   "cell_type": "code",
   "execution_count": 33,
   "id": "c2ce7078-9255-4913-b6aa-7f05a0e077c3",
   "metadata": {},
   "outputs": [
    {
     "name": "stdout",
     "output_type": "stream",
     "text": [
      "Callable kernel classification test score: 0.775\n"
     ]
    }
   ],
   "source": [
    "# Define feature_map\n",
    "\n",
    "feature_map = ZZFeatureMap(feature_dimension=feature_dim, reps=num_reps)\n",
    "\n",
    "# Define the backend\n",
    "backend = QuantumInstance(\n",
    "    BasicAer.get_backend(\"qasm_simulator\"), shots=num_shots, seed_simulator=seed, seed_transpiler=seed\n",
    ")\n",
    "\n",
    "# Define the kernel\n",
    "\n",
    "kernel = QuantumKernel(feature_map=feature_map, quantum_instance=backend)\n",
    "\n",
    "# Model run\n",
    "svc = SVC(kernel=kernel.evaluate)\n",
    "svc.fit(sample_train, label_train)\n",
    "score = svc.score(sample_test, label_test)\n",
    "\n",
    "print(f\"Callable kernel classification test score: {score}\")"
   ]
  },
  {
   "cell_type": "code",
   "execution_count": 34,
   "id": "b8fd86d8-bec9-42ac-8543-c69c973a7f01",
   "metadata": {},
   "outputs": [],
   "source": [
    "result_predict = svc.predict(sample_test)"
   ]
  },
  {
   "cell_type": "code",
   "execution_count": 35,
   "id": "ee71fc2a-46dc-46d1-8f51-8e3df5723407",
   "metadata": {},
   "outputs": [
    {
     "name": "stdout",
     "output_type": "stream",
     "text": [
      "              precision    recall  f1-score   support\n",
      "\n",
      "           0       0.78      1.00      0.87       155\n",
      "           1       0.00      0.00      0.00        45\n",
      "\n",
      "    accuracy                           0.78       200\n",
      "   macro avg       0.39      0.50      0.44       200\n",
      "weighted avg       0.60      0.78      0.68       200\n",
      "\n"
     ]
    },
    {
     "name": "stderr",
     "output_type": "stream",
     "text": [
      "/opt/homebrew/lib/python3.9/site-packages/sklearn/metrics/_classification.py:1327: UndefinedMetricWarning: Precision and F-score are ill-defined and being set to 0.0 in labels with no predicted samples. Use `zero_division` parameter to control this behavior.\n",
      "  _warn_prf(average, modifier, msg_start, len(result))\n",
      "/opt/homebrew/lib/python3.9/site-packages/sklearn/metrics/_classification.py:1327: UndefinedMetricWarning: Precision and F-score are ill-defined and being set to 0.0 in labels with no predicted samples. Use `zero_division` parameter to control this behavior.\n",
      "  _warn_prf(average, modifier, msg_start, len(result))\n",
      "/opt/homebrew/lib/python3.9/site-packages/sklearn/metrics/_classification.py:1327: UndefinedMetricWarning: Precision and F-score are ill-defined and being set to 0.0 in labels with no predicted samples. Use `zero_division` parameter to control this behavior.\n",
      "  _warn_prf(average, modifier, msg_start, len(result))\n"
     ]
    }
   ],
   "source": [
    "print(metrics.classification_report(label_test,result_predict))"
   ]
  },
  {
   "cell_type": "code",
   "execution_count": 77,
   "id": "5e4c52bf-cdd9-42c7-b18b-91c017253b71",
   "metadata": {},
   "outputs": [],
   "source": [
    "_models = []\n",
    "_models.append(('qsvc',svc))\n",
    "_metrics = ['precision', 'recall', 'f1', 'accuracy',  'matthews_corrcoef','balanced_accuracy']\n",
    "for metric in _metrics:\n",
    "    df_results= pd.concat([df_results, evaluate_ml_model(_models, sample_train, label_train, n_fold=10, metric=metric)])"
   ]
  },
  {
   "cell_type": "code",
   "execution_count": 78,
   "id": "8903e329-7def-46d1-a5db-a4d7914b5beb",
   "metadata": {},
   "outputs": [
    {
     "data": {
      "text/html": [
       "<div>\n",
       "<style scoped>\n",
       "    .dataframe tbody tr th:only-of-type {\n",
       "        vertical-align: middle;\n",
       "    }\n",
       "\n",
       "    .dataframe tbody tr th {\n",
       "        vertical-align: top;\n",
       "    }\n",
       "\n",
       "    .dataframe thead th {\n",
       "        text-align: right;\n",
       "    }\n",
       "</style>\n",
       "<table border=\"1\" class=\"dataframe\">\n",
       "  <thead>\n",
       "    <tr style=\"text-align: right;\">\n",
       "      <th></th>\n",
       "      <th>precision mean (%)</th>\n",
       "      <th>precision mean (%)</th>\n",
       "      <th>precision std (%)</th>\n",
       "      <th>precision std (%)</th>\n",
       "      <th>recall mean (%)</th>\n",
       "      <th>recall mean (%)</th>\n",
       "      <th>recall std (%)</th>\n",
       "      <th>recall std (%)</th>\n",
       "      <th>f1 mean (%)</th>\n",
       "      <th>f1 mean (%)</th>\n",
       "      <th>f1 std (%)</th>\n",
       "      <th>f1 std (%)</th>\n",
       "      <th>balanced_accuracy mean (%)</th>\n",
       "      <th>balanced_accuracy mean (%)</th>\n",
       "      <th>matthews_corrcoef mean (%)</th>\n",
       "      <th>matthews_corrcoef mean (%)</th>\n",
       "      <th>matthews_corrcoef std (%)</th>\n",
       "      <th>matthews_corrcoef std (%)</th>\n",
       "      <th>balanced_accuracy std (%)</th>\n",
       "      <th>balanced_accuracy std (%)</th>\n",
       "    </tr>\n",
       "  </thead>\n",
       "  <tbody>\n",
       "    <tr>\n",
       "      <th>LR</th>\n",
       "      <td>0.00</td>\n",
       "      <td>NaN</td>\n",
       "      <td>0.00</td>\n",
       "      <td>NaN</td>\n",
       "      <td>0.00</td>\n",
       "      <td>NaN</td>\n",
       "      <td>0.00</td>\n",
       "      <td>NaN</td>\n",
       "      <td>0.00</td>\n",
       "      <td>NaN</td>\n",
       "      <td>0.00</td>\n",
       "      <td>NaN</td>\n",
       "      <td>50.00</td>\n",
       "      <td>NaN</td>\n",
       "      <td>0.00</td>\n",
       "      <td>NaN</td>\n",
       "      <td>0.00</td>\n",
       "      <td>NaN</td>\n",
       "      <td>0.00</td>\n",
       "      <td>NaN</td>\n",
       "    </tr>\n",
       "    <tr>\n",
       "      <th>KNN</th>\n",
       "      <td>35.70</td>\n",
       "      <td>NaN</td>\n",
       "      <td>7.98</td>\n",
       "      <td>NaN</td>\n",
       "      <td>20.98</td>\n",
       "      <td>NaN</td>\n",
       "      <td>7.05</td>\n",
       "      <td>NaN</td>\n",
       "      <td>26.07</td>\n",
       "      <td>NaN</td>\n",
       "      <td>7.78</td>\n",
       "      <td>NaN</td>\n",
       "      <td>54.49</td>\n",
       "      <td>NaN</td>\n",
       "      <td>10.72</td>\n",
       "      <td>NaN</td>\n",
       "      <td>9.61</td>\n",
       "      <td>NaN</td>\n",
       "      <td>3.98</td>\n",
       "      <td>NaN</td>\n",
       "    </tr>\n",
       "    <tr>\n",
       "      <th>CART</th>\n",
       "      <td>30.02</td>\n",
       "      <td>NaN</td>\n",
       "      <td>7.31</td>\n",
       "      <td>NaN</td>\n",
       "      <td>34.82</td>\n",
       "      <td>NaN</td>\n",
       "      <td>10.15</td>\n",
       "      <td>NaN</td>\n",
       "      <td>33.55</td>\n",
       "      <td>NaN</td>\n",
       "      <td>8.89</td>\n",
       "      <td>NaN</td>\n",
       "      <td>54.87</td>\n",
       "      <td>NaN</td>\n",
       "      <td>9.69</td>\n",
       "      <td>NaN</td>\n",
       "      <td>9.87</td>\n",
       "      <td>NaN</td>\n",
       "      <td>4.31</td>\n",
       "      <td>NaN</td>\n",
       "    </tr>\n",
       "    <tr>\n",
       "      <th>NB</th>\n",
       "      <td>18.33</td>\n",
       "      <td>NaN</td>\n",
       "      <td>18.93</td>\n",
       "      <td>NaN</td>\n",
       "      <td>8.63</td>\n",
       "      <td>NaN</td>\n",
       "      <td>12.14</td>\n",
       "      <td>NaN</td>\n",
       "      <td>10.22</td>\n",
       "      <td>NaN</td>\n",
       "      <td>12.45</td>\n",
       "      <td>NaN</td>\n",
       "      <td>51.61</td>\n",
       "      <td>NaN</td>\n",
       "      <td>4.01</td>\n",
       "      <td>NaN</td>\n",
       "      <td>6.56</td>\n",
       "      <td>NaN</td>\n",
       "      <td>2.38</td>\n",
       "      <td>NaN</td>\n",
       "    </tr>\n",
       "    <tr>\n",
       "      <th>SVM</th>\n",
       "      <td>0.00</td>\n",
       "      <td>NaN</td>\n",
       "      <td>0.00</td>\n",
       "      <td>NaN</td>\n",
       "      <td>0.00</td>\n",
       "      <td>NaN</td>\n",
       "      <td>0.00</td>\n",
       "      <td>NaN</td>\n",
       "      <td>0.00</td>\n",
       "      <td>NaN</td>\n",
       "      <td>0.00</td>\n",
       "      <td>NaN</td>\n",
       "      <td>50.00</td>\n",
       "      <td>NaN</td>\n",
       "      <td>0.00</td>\n",
       "      <td>NaN</td>\n",
       "      <td>0.00</td>\n",
       "      <td>NaN</td>\n",
       "      <td>0.00</td>\n",
       "      <td>NaN</td>\n",
       "    </tr>\n",
       "    <tr>\n",
       "      <th>qsvc</th>\n",
       "      <td>NaN</td>\n",
       "      <td>12.0</td>\n",
       "      <td>NaN</td>\n",
       "      <td>29.93</td>\n",
       "      <td>NaN</td>\n",
       "      <td>1.06</td>\n",
       "      <td>NaN</td>\n",
       "      <td>2.14</td>\n",
       "      <td>NaN</td>\n",
       "      <td>1.88</td>\n",
       "      <td>NaN</td>\n",
       "      <td>3.84</td>\n",
       "      <td>NaN</td>\n",
       "      <td>49.93</td>\n",
       "      <td>NaN</td>\n",
       "      <td>0.51</td>\n",
       "      <td>NaN</td>\n",
       "      <td>8.04</td>\n",
       "      <td>NaN</td>\n",
       "      <td>1.3</td>\n",
       "    </tr>\n",
       "  </tbody>\n",
       "</table>\n",
       "</div>"
      ],
      "text/plain": [
       "      precision mean (%)  precision mean (%)  precision std (%)  \\\n",
       "LR                  0.00                 NaN               0.00   \n",
       "KNN                35.70                 NaN               7.98   \n",
       "CART               30.02                 NaN               7.31   \n",
       "NB                 18.33                 NaN              18.93   \n",
       "SVM                 0.00                 NaN               0.00   \n",
       "qsvc                 NaN                12.0                NaN   \n",
       "\n",
       "      precision std (%)  recall mean (%)  recall mean (%)  recall std (%)  \\\n",
       "LR                  NaN             0.00              NaN            0.00   \n",
       "KNN                 NaN            20.98              NaN            7.05   \n",
       "CART                NaN            34.82              NaN           10.15   \n",
       "NB                  NaN             8.63              NaN           12.14   \n",
       "SVM                 NaN             0.00              NaN            0.00   \n",
       "qsvc              29.93              NaN             1.06             NaN   \n",
       "\n",
       "      recall std (%)  f1 mean (%)  f1 mean (%)  f1 std (%)  f1 std (%)  \\\n",
       "LR               NaN         0.00          NaN        0.00         NaN   \n",
       "KNN              NaN        26.07          NaN        7.78         NaN   \n",
       "CART             NaN        33.55          NaN        8.89         NaN   \n",
       "NB               NaN        10.22          NaN       12.45         NaN   \n",
       "SVM              NaN         0.00          NaN        0.00         NaN   \n",
       "qsvc            2.14          NaN         1.88         NaN        3.84   \n",
       "\n",
       "      balanced_accuracy mean (%)  balanced_accuracy mean (%)  \\\n",
       "LR                         50.00                         NaN   \n",
       "KNN                        54.49                         NaN   \n",
       "CART                       54.87                         NaN   \n",
       "NB                         51.61                         NaN   \n",
       "SVM                        50.00                         NaN   \n",
       "qsvc                         NaN                       49.93   \n",
       "\n",
       "      matthews_corrcoef mean (%)  matthews_corrcoef mean (%)  \\\n",
       "LR                          0.00                         NaN   \n",
       "KNN                        10.72                         NaN   \n",
       "CART                        9.69                         NaN   \n",
       "NB                          4.01                         NaN   \n",
       "SVM                         0.00                         NaN   \n",
       "qsvc                         NaN                        0.51   \n",
       "\n",
       "      matthews_corrcoef std (%)  matthews_corrcoef std (%)  \\\n",
       "LR                         0.00                        NaN   \n",
       "KNN                        9.61                        NaN   \n",
       "CART                       9.87                        NaN   \n",
       "NB                         6.56                        NaN   \n",
       "SVM                        0.00                        NaN   \n",
       "qsvc                        NaN                       8.04   \n",
       "\n",
       "      balanced_accuracy std (%)  balanced_accuracy std (%)  \n",
       "LR                         0.00                        NaN  \n",
       "KNN                        3.98                        NaN  \n",
       "CART                       4.31                        NaN  \n",
       "NB                         2.38                        NaN  \n",
       "SVM                        0.00                        NaN  \n",
       "qsvc                        NaN                        1.3  "
      ]
     },
     "execution_count": 78,
     "metadata": {},
     "output_type": "execute_result"
    }
   ],
   "source": [
    "df_results[['precision mean (%)', 'precision std (%)', 'recall mean (%)',\n",
    "       'recall std (%)', 'f1 mean (%)', 'f1 std (%)',  'balanced_accuracy mean (%)','matthews_corrcoef mean (%)',\n",
    "       'matthews_corrcoef std (%)',\n",
    "       'balanced_accuracy std (%)']]"
   ]
  },
  {
   "cell_type": "markdown",
   "id": "5fc1d4e4-599e-47ea-b53c-dc200ee4dec0",
   "metadata": {},
   "source": [
    "## Classical Approaches"
   ]
  },
  {
   "cell_type": "code",
   "execution_count": 36,
   "id": "d93f1b24-b419-4eb0-abb5-fd297fcec137",
   "metadata": {},
   "outputs": [],
   "source": [
    "models = []\n",
    "models.append(('LR', LogisticRegression(max_iter=1000)))\n",
    "models.append(('KNN', KNeighborsClassifier()))\n",
    "models.append(('CART', DecisionTreeClassifier()))\n",
    "models.append(('NB', GaussianNB()))\n",
    "models.append(('SVM', SVC()))"
   ]
  },
  {
   "cell_type": "code",
   "execution_count": 37,
   "id": "a92689bc-07b9-4bdd-b25c-0b0bae45a976",
   "metadata": {},
   "outputs": [],
   "source": [
    "df_results = pd.DataFrame()"
   ]
  },
  {
   "cell_type": "code",
   "execution_count": 38,
   "id": "5bd332f9-cc4e-43eb-9cd9-0990b709ae83",
   "metadata": {},
   "outputs": [],
   "source": [
    "def evaluate_ml_model(models, X, y, n_fold=10, metric='precision'):\n",
    "    \n",
    "    _df = pd.DataFrame()\n",
    "    #results = []\n",
    "    names = []\n",
    "    #scoring = 'accuracy'\n",
    "    for name, model in models:\n",
    "        kfold = KFold(n_splits=n_fold)\n",
    "        cv_results = cross_val_score(model, X, y, cv=kfold, scoring=metric)\n",
    "        #results.append(cv_results)\n",
    "        names.append(name)\n",
    "        msg = \"%s: %f (%f)\" % (name, cv_results.mean(), cv_results.std())\n",
    "        #print(msg)\n",
    "        _df =  pd.concat([_df, pd.DataFrame([round(100*cv_results.mean(), 2) , round(100*cv_results.std(), 2) ]).T])\n",
    "    _df.index = names\n",
    "    _df.columns=[metric+' mean (%)', metric+' std (%)']\n",
    "    return _df \n",
    "             \n",
    "        "
   ]
  },
  {
   "cell_type": "code",
   "execution_count": 39,
   "id": "89520867-4e75-4e63-ae1e-10842771f073",
   "metadata": {},
   "outputs": [
    {
     "name": "stderr",
     "output_type": "stream",
     "text": [
      "/opt/homebrew/lib/python3.9/site-packages/sklearn/metrics/_classification.py:1327: UndefinedMetricWarning: Precision is ill-defined and being set to 0.0 due to no predicted samples. Use `zero_division` parameter to control this behavior.\n",
      "  _warn_prf(average, modifier, msg_start, len(result))\n",
      "/opt/homebrew/lib/python3.9/site-packages/sklearn/metrics/_classification.py:1327: UndefinedMetricWarning: Precision is ill-defined and being set to 0.0 due to no predicted samples. Use `zero_division` parameter to control this behavior.\n",
      "  _warn_prf(average, modifier, msg_start, len(result))\n",
      "/opt/homebrew/lib/python3.9/site-packages/sklearn/metrics/_classification.py:1327: UndefinedMetricWarning: Precision is ill-defined and being set to 0.0 due to no predicted samples. Use `zero_division` parameter to control this behavior.\n",
      "  _warn_prf(average, modifier, msg_start, len(result))\n",
      "/opt/homebrew/lib/python3.9/site-packages/sklearn/metrics/_classification.py:1327: UndefinedMetricWarning: Precision is ill-defined and being set to 0.0 due to no predicted samples. Use `zero_division` parameter to control this behavior.\n",
      "  _warn_prf(average, modifier, msg_start, len(result))\n",
      "/opt/homebrew/lib/python3.9/site-packages/sklearn/metrics/_classification.py:1327: UndefinedMetricWarning: Precision is ill-defined and being set to 0.0 due to no predicted samples. Use `zero_division` parameter to control this behavior.\n",
      "  _warn_prf(average, modifier, msg_start, len(result))\n",
      "/opt/homebrew/lib/python3.9/site-packages/sklearn/metrics/_classification.py:1327: UndefinedMetricWarning: Precision is ill-defined and being set to 0.0 due to no predicted samples. Use `zero_division` parameter to control this behavior.\n",
      "  _warn_prf(average, modifier, msg_start, len(result))\n",
      "/opt/homebrew/lib/python3.9/site-packages/sklearn/metrics/_classification.py:1327: UndefinedMetricWarning: Precision is ill-defined and being set to 0.0 due to no predicted samples. Use `zero_division` parameter to control this behavior.\n",
      "  _warn_prf(average, modifier, msg_start, len(result))\n",
      "/opt/homebrew/lib/python3.9/site-packages/sklearn/metrics/_classification.py:1327: UndefinedMetricWarning: Precision is ill-defined and being set to 0.0 due to no predicted samples. Use `zero_division` parameter to control this behavior.\n",
      "  _warn_prf(average, modifier, msg_start, len(result))\n",
      "/opt/homebrew/lib/python3.9/site-packages/sklearn/metrics/_classification.py:1327: UndefinedMetricWarning: Precision is ill-defined and being set to 0.0 due to no predicted samples. Use `zero_division` parameter to control this behavior.\n",
      "  _warn_prf(average, modifier, msg_start, len(result))\n",
      "/opt/homebrew/lib/python3.9/site-packages/sklearn/metrics/_classification.py:1327: UndefinedMetricWarning: Precision is ill-defined and being set to 0.0 due to no predicted samples. Use `zero_division` parameter to control this behavior.\n",
      "  _warn_prf(average, modifier, msg_start, len(result))\n",
      "/opt/homebrew/lib/python3.9/site-packages/sklearn/metrics/_classification.py:1327: UndefinedMetricWarning: Precision is ill-defined and being set to 0.0 due to no predicted samples. Use `zero_division` parameter to control this behavior.\n",
      "  _warn_prf(average, modifier, msg_start, len(result))\n",
      "/opt/homebrew/lib/python3.9/site-packages/sklearn/metrics/_classification.py:1327: UndefinedMetricWarning: Precision is ill-defined and being set to 0.0 due to no predicted samples. Use `zero_division` parameter to control this behavior.\n",
      "  _warn_prf(average, modifier, msg_start, len(result))\n",
      "/opt/homebrew/lib/python3.9/site-packages/sklearn/metrics/_classification.py:1327: UndefinedMetricWarning: Precision is ill-defined and being set to 0.0 due to no predicted samples. Use `zero_division` parameter to control this behavior.\n",
      "  _warn_prf(average, modifier, msg_start, len(result))\n",
      "/opt/homebrew/lib/python3.9/site-packages/sklearn/metrics/_classification.py:1327: UndefinedMetricWarning: Precision is ill-defined and being set to 0.0 due to no predicted samples. Use `zero_division` parameter to control this behavior.\n",
      "  _warn_prf(average, modifier, msg_start, len(result))\n",
      "/opt/homebrew/lib/python3.9/site-packages/sklearn/metrics/_classification.py:1327: UndefinedMetricWarning: Precision is ill-defined and being set to 0.0 due to no predicted samples. Use `zero_division` parameter to control this behavior.\n",
      "  _warn_prf(average, modifier, msg_start, len(result))\n",
      "/opt/homebrew/lib/python3.9/site-packages/sklearn/metrics/_classification.py:1327: UndefinedMetricWarning: Precision is ill-defined and being set to 0.0 due to no predicted samples. Use `zero_division` parameter to control this behavior.\n",
      "  _warn_prf(average, modifier, msg_start, len(result))\n",
      "/opt/homebrew/lib/python3.9/site-packages/sklearn/metrics/_classification.py:1327: UndefinedMetricWarning: Precision is ill-defined and being set to 0.0 due to no predicted samples. Use `zero_division` parameter to control this behavior.\n",
      "  _warn_prf(average, modifier, msg_start, len(result))\n",
      "/opt/homebrew/lib/python3.9/site-packages/sklearn/metrics/_classification.py:1327: UndefinedMetricWarning: Precision is ill-defined and being set to 0.0 due to no predicted samples. Use `zero_division` parameter to control this behavior.\n",
      "  _warn_prf(average, modifier, msg_start, len(result))\n",
      "/opt/homebrew/lib/python3.9/site-packages/sklearn/metrics/_classification.py:1327: UndefinedMetricWarning: Precision is ill-defined and being set to 0.0 due to no predicted samples. Use `zero_division` parameter to control this behavior.\n",
      "  _warn_prf(average, modifier, msg_start, len(result))\n",
      "/opt/homebrew/lib/python3.9/site-packages/sklearn/metrics/_classification.py:1327: UndefinedMetricWarning: Precision is ill-defined and being set to 0.0 due to no predicted samples. Use `zero_division` parameter to control this behavior.\n",
      "  _warn_prf(average, modifier, msg_start, len(result))\n",
      "/opt/homebrew/lib/python3.9/site-packages/sklearn/metrics/_classification.py:1327: UndefinedMetricWarning: Precision is ill-defined and being set to 0.0 due to no predicted samples. Use `zero_division` parameter to control this behavior.\n",
      "  _warn_prf(average, modifier, msg_start, len(result))\n",
      "/opt/homebrew/lib/python3.9/site-packages/sklearn/metrics/_classification.py:1327: UndefinedMetricWarning: Precision is ill-defined and being set to 0.0 due to no predicted samples. Use `zero_division` parameter to control this behavior.\n",
      "  _warn_prf(average, modifier, msg_start, len(result))\n",
      "/opt/homebrew/lib/python3.9/site-packages/sklearn/metrics/_classification.py:1327: UndefinedMetricWarning: Precision is ill-defined and being set to 0.0 due to no predicted samples. Use `zero_division` parameter to control this behavior.\n",
      "  _warn_prf(average, modifier, msg_start, len(result))\n",
      "/opt/homebrew/lib/python3.9/site-packages/sklearn/metrics/_classification.py:1327: UndefinedMetricWarning: Precision is ill-defined and being set to 0.0 due to no predicted samples. Use `zero_division` parameter to control this behavior.\n",
      "  _warn_prf(average, modifier, msg_start, len(result))\n"
     ]
    }
   ],
   "source": [
    "_metrics = ['precision', 'recall', 'f1', 'accuracy', 'balanced_accuracy', 'matthews_corrcoef']\n",
    "for metric in _metrics:\n",
    "    df_results= pd.concat([df_results, evaluate_ml_model(models, sample_train, label_train, n_fold=10, metric=metric)], axis=1)"
   ]
  },
  {
   "cell_type": "code",
   "execution_count": 40,
   "id": "15d5c6b3-7172-430b-b803-f60126a12cdb",
   "metadata": {},
   "outputs": [],
   "source": [
    "df_results= pd.concat([df_results, evaluate_ml_model(models, sample_train, label_train, n_fold=10, metric='accuracy')], axis=1)"
   ]
  },
  {
   "cell_type": "code",
   "execution_count": 41,
   "id": "8561d92d-f3ee-4045-b6e5-98097a82f364",
   "metadata": {},
   "outputs": [
    {
     "data": {
      "text/html": [
       "<div>\n",
       "<style scoped>\n",
       "    .dataframe tbody tr th:only-of-type {\n",
       "        vertical-align: middle;\n",
       "    }\n",
       "\n",
       "    .dataframe tbody tr th {\n",
       "        vertical-align: top;\n",
       "    }\n",
       "\n",
       "    .dataframe thead th {\n",
       "        text-align: right;\n",
       "    }\n",
       "</style>\n",
       "<table border=\"1\" class=\"dataframe\">\n",
       "  <thead>\n",
       "    <tr style=\"text-align: right;\">\n",
       "      <th></th>\n",
       "      <th>precision mean (%)</th>\n",
       "      <th>precision std (%)</th>\n",
       "      <th>recall mean (%)</th>\n",
       "      <th>recall std (%)</th>\n",
       "      <th>f1 mean (%)</th>\n",
       "      <th>f1 std (%)</th>\n",
       "      <th>accuracy mean (%)</th>\n",
       "      <th>accuracy std (%)</th>\n",
       "      <th>balanced_accuracy mean (%)</th>\n",
       "      <th>balanced_accuracy std (%)</th>\n",
       "      <th>matthews_corrcoef mean (%)</th>\n",
       "      <th>matthews_corrcoef std (%)</th>\n",
       "      <th>accuracy mean (%)</th>\n",
       "      <th>accuracy std (%)</th>\n",
       "    </tr>\n",
       "  </thead>\n",
       "  <tbody>\n",
       "    <tr>\n",
       "      <th>LR</th>\n",
       "      <td>0.00</td>\n",
       "      <td>0.00</td>\n",
       "      <td>0.00</td>\n",
       "      <td>0.00</td>\n",
       "      <td>0.00</td>\n",
       "      <td>0.00</td>\n",
       "      <td>75.25</td>\n",
       "      <td>4.50</td>\n",
       "      <td>50.00</td>\n",
       "      <td>0.00</td>\n",
       "      <td>0.00</td>\n",
       "      <td>0.00</td>\n",
       "      <td>75.25</td>\n",
       "      <td>4.50</td>\n",
       "    </tr>\n",
       "    <tr>\n",
       "      <th>KNN</th>\n",
       "      <td>35.70</td>\n",
       "      <td>7.98</td>\n",
       "      <td>20.98</td>\n",
       "      <td>7.05</td>\n",
       "      <td>26.07</td>\n",
       "      <td>7.78</td>\n",
       "      <td>71.25</td>\n",
       "      <td>5.42</td>\n",
       "      <td>54.49</td>\n",
       "      <td>3.98</td>\n",
       "      <td>10.72</td>\n",
       "      <td>9.61</td>\n",
       "      <td>71.25</td>\n",
       "      <td>5.42</td>\n",
       "    </tr>\n",
       "    <tr>\n",
       "      <th>CART</th>\n",
       "      <td>30.02</td>\n",
       "      <td>7.31</td>\n",
       "      <td>34.82</td>\n",
       "      <td>10.15</td>\n",
       "      <td>33.55</td>\n",
       "      <td>8.89</td>\n",
       "      <td>64.88</td>\n",
       "      <td>5.11</td>\n",
       "      <td>54.87</td>\n",
       "      <td>4.31</td>\n",
       "      <td>9.69</td>\n",
       "      <td>9.87</td>\n",
       "      <td>64.62</td>\n",
       "      <td>5.36</td>\n",
       "    </tr>\n",
       "    <tr>\n",
       "      <th>NB</th>\n",
       "      <td>18.33</td>\n",
       "      <td>18.93</td>\n",
       "      <td>8.63</td>\n",
       "      <td>12.14</td>\n",
       "      <td>10.22</td>\n",
       "      <td>12.45</td>\n",
       "      <td>73.12</td>\n",
       "      <td>4.88</td>\n",
       "      <td>51.61</td>\n",
       "      <td>2.38</td>\n",
       "      <td>4.01</td>\n",
       "      <td>6.56</td>\n",
       "      <td>73.12</td>\n",
       "      <td>4.88</td>\n",
       "    </tr>\n",
       "    <tr>\n",
       "      <th>SVM</th>\n",
       "      <td>0.00</td>\n",
       "      <td>0.00</td>\n",
       "      <td>0.00</td>\n",
       "      <td>0.00</td>\n",
       "      <td>0.00</td>\n",
       "      <td>0.00</td>\n",
       "      <td>75.25</td>\n",
       "      <td>4.50</td>\n",
       "      <td>50.00</td>\n",
       "      <td>0.00</td>\n",
       "      <td>0.00</td>\n",
       "      <td>0.00</td>\n",
       "      <td>75.25</td>\n",
       "      <td>4.50</td>\n",
       "    </tr>\n",
       "  </tbody>\n",
       "</table>\n",
       "</div>"
      ],
      "text/plain": [
       "      precision mean (%)  precision std (%)  recall mean (%)  recall std (%)  \\\n",
       "LR                  0.00               0.00             0.00            0.00   \n",
       "KNN                35.70               7.98            20.98            7.05   \n",
       "CART               30.02               7.31            34.82           10.15   \n",
       "NB                 18.33              18.93             8.63           12.14   \n",
       "SVM                 0.00               0.00             0.00            0.00   \n",
       "\n",
       "      f1 mean (%)  f1 std (%)  accuracy mean (%)  accuracy std (%)  \\\n",
       "LR           0.00        0.00              75.25              4.50   \n",
       "KNN         26.07        7.78              71.25              5.42   \n",
       "CART        33.55        8.89              64.88              5.11   \n",
       "NB          10.22       12.45              73.12              4.88   \n",
       "SVM          0.00        0.00              75.25              4.50   \n",
       "\n",
       "      balanced_accuracy mean (%)  balanced_accuracy std (%)  \\\n",
       "LR                         50.00                       0.00   \n",
       "KNN                        54.49                       3.98   \n",
       "CART                       54.87                       4.31   \n",
       "NB                         51.61                       2.38   \n",
       "SVM                        50.00                       0.00   \n",
       "\n",
       "      matthews_corrcoef mean (%)  matthews_corrcoef std (%)  \\\n",
       "LR                          0.00                       0.00   \n",
       "KNN                        10.72                       9.61   \n",
       "CART                        9.69                       9.87   \n",
       "NB                          4.01                       6.56   \n",
       "SVM                         0.00                       0.00   \n",
       "\n",
       "      accuracy mean (%)  accuracy std (%)  \n",
       "LR                75.25              4.50  \n",
       "KNN               71.25              5.42  \n",
       "CART              64.62              5.36  \n",
       "NB                73.12              4.88  \n",
       "SVM               75.25              4.50  "
      ]
     },
     "execution_count": 41,
     "metadata": {},
     "output_type": "execute_result"
    }
   ],
   "source": [
    "df_results"
   ]
  },
  {
   "cell_type": "markdown",
   "id": "d339da61-ed6a-4195-a0a0-7d123474e9be",
   "metadata": {},
   "source": [
    "## QSVC"
   ]
  },
  {
   "cell_type": "code",
   "execution_count": null,
   "id": "b3b368ba-6fe2-4bac-ba5c-edd110015136",
   "metadata": {},
   "outputs": [],
   "source": [
    "# Be assure that your qiskit version is 0.4.0\n",
    "# run !pip install --upgrade qiskit==0.4.0 if not "
   ]
  },
  {
   "cell_type": "code",
   "execution_count": 28,
   "id": "9afa67d9-cf2d-47a5-8fe9-affe602f79cd",
   "metadata": {
    "tags": []
   },
   "outputs": [
    {
     "ename": "AttributeError",
     "evalue": "'QuantumInstance' object has no attribute 'evaluate'",
     "output_type": "error",
     "traceback": [
      "\u001b[0;31m---------------------------------------------------------------------------\u001b[0m",
      "\u001b[0;31mAttributeError\u001b[0m                            Traceback (most recent call last)",
      "Input \u001b[0;32mIn [28]\u001b[0m, in \u001b[0;36m<cell line: 18>\u001b[0;34m()\u001b[0m\n\u001b[1;32m     15\u001b[0m quantum_instance \u001b[38;5;241m=\u001b[39m QuantumInstance(backend, shots\u001b[38;5;241m=\u001b[39m\u001b[38;5;241m1024\u001b[39m, seed_simulator\u001b[38;5;241m=\u001b[39mseed, seed_transpiler\u001b[38;5;241m=\u001b[39mseed)\n\u001b[1;32m     17\u001b[0m \u001b[38;5;66;03m# Model run\u001b[39;00m\n\u001b[0;32m---> 18\u001b[0m vqc \u001b[38;5;241m=\u001b[39m \u001b[43mQSVC\u001b[49m\u001b[43m(\u001b[49m\u001b[43mquantum_kernel\u001b[49m\u001b[38;5;241;43m=\u001b[39;49m\u001b[43mquantum_instance\u001b[49m\u001b[43m)\u001b[49m\u001b[38;5;66;03m#optimizer, feature_map, var_form, training_input, test_input, datapoints[0])\u001b[39;00m\n\u001b[1;32m     21\u001b[0m result \u001b[38;5;241m=\u001b[39m vqc\u001b[38;5;241m.\u001b[39mfit(sample_train, label_train)\n",
      "File \u001b[0;32m/opt/homebrew/lib/python3.9/site-packages/qiskit_machine_learning/algorithms/classifiers/qsvc.py:73\u001b[0m, in \u001b[0;36mQSVC.__init__\u001b[0;34m(self, quantum_kernel, *args, **kwargs)\u001b[0m\n\u001b[1;32m     70\u001b[0m \u001b[38;5;28;01mif\u001b[39;00m \u001b[38;5;124m\"\u001b[39m\u001b[38;5;124mrandom_state\u001b[39m\u001b[38;5;124m\"\u001b[39m \u001b[38;5;129;01mnot\u001b[39;00m \u001b[38;5;129;01min\u001b[39;00m kwargs:\n\u001b[1;32m     71\u001b[0m     kwargs[\u001b[38;5;124m\"\u001b[39m\u001b[38;5;124mrandom_state\u001b[39m\u001b[38;5;124m\"\u001b[39m] \u001b[38;5;241m=\u001b[39m algorithm_globals\u001b[38;5;241m.\u001b[39mrandom_seed\n\u001b[0;32m---> 73\u001b[0m \u001b[38;5;28msuper\u001b[39m()\u001b[38;5;241m.\u001b[39m\u001b[38;5;21m__init__\u001b[39m(kernel\u001b[38;5;241m=\u001b[39m\u001b[38;5;28;43mself\u001b[39;49m\u001b[38;5;241;43m.\u001b[39;49m\u001b[43m_quantum_kernel\u001b[49m\u001b[38;5;241;43m.\u001b[39;49m\u001b[43mevaluate\u001b[49m, \u001b[38;5;241m*\u001b[39margs, \u001b[38;5;241m*\u001b[39m\u001b[38;5;241m*\u001b[39mkwargs)\n",
      "\u001b[0;31mAttributeError\u001b[0m: 'QuantumInstance' object has no attribute 'evaluate'"
     ]
    }
   ],
   "source": [
    "%%script false --no-raise-error\n",
    "# Define feature_map, optimizer and var_form\n",
    "\n",
    "feature_map = ZZFeatureMap(feature_dimension=feature_dim, reps=2)\n",
    "optimizer = COBYLA(maxiter=20, disp=True, rhobeg=1.0, tol=None)\n",
    "var_form = TwoLocal(feature_dim, ['ry', 'rz'], 'cz', reps=3)\n",
    "\n",
    "\n",
    "# Define the backend\n",
    "\n",
    "backend = qiskit.Aer.get_backend('qasm_simulator')\n",
    "\n",
    "# Define the instance\n",
    "\n",
    "quantum_instance = QuantumInstance(backend, shots=1024, seed_simulator=seed, seed_transpiler=seed)\n",
    "\n",
    "# Model run\n",
    "vqc = QSVC(quantum_kernel=quantum_instance)#optimizer, feature_map, var_form, training_input, test_input, datapoints[0])\n",
    "\n",
    "\n",
    "result = vqc.fit(sample_train, label_train)\n",
    "\n"
   ]
  },
  {
   "cell_type": "code",
   "execution_count": 1,
   "id": "3160da18-b47b-44af-8c84-15c7f3fd30c4",
   "metadata": {},
   "outputs": [
    {
     "data": {
      "text/plain": [
       "'0.21.1'"
      ]
     },
     "execution_count": 1,
     "metadata": {},
     "output_type": "execute_result"
    }
   ],
   "source": [
    "import qiskit\n",
    "qiskit.__version__"
   ]
  },
  {
   "cell_type": "code",
   "execution_count": 33,
   "id": "38c31acd-2c8f-41d4-a0ec-0427af9d908b",
   "metadata": {
    "collapsed": true,
    "jupyter": {
     "outputs_hidden": true
    },
    "tags": []
   },
   "outputs": [
    {
     "name": "stdout",
     "output_type": "stream",
     "text": [
      "\u001b[33mDEPRECATION: Configuring installation scheme with distutils config files is deprecated and will no longer work in the near future. If you are using a Homebrew or Linuxbrew Python, please see discussion at https://github.com/Homebrew/homebrew-core/issues/76621\u001b[0m\u001b[33m\n",
      "\u001b[0mRequirement already satisfied: qiskit in /opt/homebrew/lib/python3.9/site-packages (0.37.1)\n",
      "Requirement already satisfied: qiskit-aer==0.10.4 in /opt/homebrew/lib/python3.9/site-packages (from qiskit) (0.10.4)\n",
      "Requirement already satisfied: qiskit-ibmq-provider==0.19.2 in /opt/homebrew/lib/python3.9/site-packages (from qiskit) (0.19.2)\n",
      "Requirement already satisfied: qiskit-terra==0.21.1 in /opt/homebrew/lib/python3.9/site-packages (from qiskit) (0.21.1)\n",
      "Requirement already satisfied: scipy>=1.0 in /opt/homebrew/lib/python3.9/site-packages (from qiskit-aer==0.10.4->qiskit) (1.8.1)\n",
      "Requirement already satisfied: numpy>=1.16.3 in /opt/homebrew/lib/python3.9/site-packages (from qiskit-aer==0.10.4->qiskit) (1.23.1)\n",
      "Requirement already satisfied: websocket-client>=1.0.1 in /opt/homebrew/lib/python3.9/site-packages (from qiskit-ibmq-provider==0.19.2->qiskit) (1.3.3)\n",
      "Requirement already satisfied: urllib3>=1.21.1 in /opt/homebrew/lib/python3.9/site-packages (from qiskit-ibmq-provider==0.19.2->qiskit) (1.26.10)\n",
      "Requirement already satisfied: python-dateutil>=2.8.0 in /opt/homebrew/lib/python3.9/site-packages (from qiskit-ibmq-provider==0.19.2->qiskit) (2.8.2)\n",
      "Requirement already satisfied: websockets>=10.0 in /opt/homebrew/lib/python3.9/site-packages (from qiskit-ibmq-provider==0.19.2->qiskit) (10.3)\n",
      "Requirement already satisfied: requests>=2.19 in /opt/homebrew/lib/python3.9/site-packages (from qiskit-ibmq-provider==0.19.2->qiskit) (2.28.1)\n",
      "Requirement already satisfied: requests-ntlm>=1.1.0 in /opt/homebrew/lib/python3.9/site-packages (from qiskit-ibmq-provider==0.19.2->qiskit) (1.1.0)\n",
      "Requirement already satisfied: dill>=0.3 in /opt/homebrew/lib/python3.9/site-packages (from qiskit-terra==0.21.1->qiskit) (0.3.5.1)\n",
      "Requirement already satisfied: ply>=3.10 in /opt/homebrew/lib/python3.9/site-packages (from qiskit-terra==0.21.1->qiskit) (3.11)\n",
      "Requirement already satisfied: sympy>=1.3 in /opt/homebrew/lib/python3.9/site-packages (from qiskit-terra==0.21.1->qiskit) (1.10.1)\n",
      "Requirement already satisfied: tweedledum<2.0,>=1.1 in /opt/homebrew/lib/python3.9/site-packages (from qiskit-terra==0.21.1->qiskit) (1.1.1)\n",
      "Requirement already satisfied: symengine>=0.9 in /opt/homebrew/lib/python3.9/site-packages (from qiskit-terra==0.21.1->qiskit) (0.9.2)\n",
      "Requirement already satisfied: stevedore>=3.0.0 in /opt/homebrew/lib/python3.9/site-packages (from qiskit-terra==0.21.1->qiskit) (4.0.0)\n",
      "Requirement already satisfied: retworkx>=0.11.0 in /opt/homebrew/lib/python3.9/site-packages (from qiskit-terra==0.21.1->qiskit) (0.11.0)\n",
      "Requirement already satisfied: psutil>=5 in /opt/homebrew/lib/python3.9/site-packages (from qiskit-terra==0.21.1->qiskit) (5.9.1)\n",
      "Requirement already satisfied: six>=1.5 in /opt/homebrew/lib/python3.9/site-packages (from python-dateutil>=2.8.0->qiskit-ibmq-provider==0.19.2->qiskit) (1.16.0)\n",
      "Requirement already satisfied: charset-normalizer<3,>=2 in /opt/homebrew/lib/python3.9/site-packages (from requests>=2.19->qiskit-ibmq-provider==0.19.2->qiskit) (2.1.0)\n",
      "Requirement already satisfied: certifi>=2017.4.17 in /opt/homebrew/lib/python3.9/site-packages (from requests>=2.19->qiskit-ibmq-provider==0.19.2->qiskit) (2022.6.15)\n",
      "Requirement already satisfied: idna<4,>=2.5 in /opt/homebrew/lib/python3.9/site-packages (from requests>=2.19->qiskit-ibmq-provider==0.19.2->qiskit) (3.3)\n",
      "Requirement already satisfied: ntlm-auth>=1.0.2 in /opt/homebrew/lib/python3.9/site-packages (from requests-ntlm>=1.1.0->qiskit-ibmq-provider==0.19.2->qiskit) (1.5.0)\n",
      "Requirement already satisfied: cryptography>=1.3 in /opt/homebrew/lib/python3.9/site-packages (from requests-ntlm>=1.1.0->qiskit-ibmq-provider==0.19.2->qiskit) (37.0.4)\n",
      "Requirement already satisfied: pbr!=2.1.0,>=2.0.0 in /opt/homebrew/lib/python3.9/site-packages (from stevedore>=3.0.0->qiskit-terra==0.21.1->qiskit) (5.9.0)\n",
      "Requirement already satisfied: mpmath>=0.19 in /opt/homebrew/lib/python3.9/site-packages (from sympy>=1.3->qiskit-terra==0.21.1->qiskit) (1.2.1)\n",
      "Requirement already satisfied: cffi>=1.12 in /opt/homebrew/lib/python3.9/site-packages (from cryptography>=1.3->requests-ntlm>=1.1.0->qiskit-ibmq-provider==0.19.2->qiskit) (1.15.1)\n",
      "Requirement already satisfied: pycparser in /opt/homebrew/lib/python3.9/site-packages (from cffi>=1.12->cryptography>=1.3->requests-ntlm>=1.1.0->qiskit-ibmq-provider==0.19.2->qiskit) (2.21)\n",
      "\u001b[33mDEPRECATION: Configuring installation scheme with distutils config files is deprecated and will no longer work in the near future. If you are using a Homebrew or Linuxbrew Python, please see discussion at https://github.com/Homebrew/homebrew-core/issues/76621\u001b[0m\u001b[33m\n",
      "\u001b[0m"
     ]
    }
   ],
   "source": [
    "!pip3 install --upgrade qiskit #==0.4.0"
   ]
  },
  {
   "cell_type": "markdown",
   "id": "3b70b837-4e39-4b65-83ca-8e82fc83efa1",
   "metadata": {},
   "source": [
    "## Pennylane"
   ]
  },
  {
   "cell_type": "code",
   "execution_count": 42,
   "id": "ff1d5656-f2f2-4d96-b210-a75a161cdb39",
   "metadata": {},
   "outputs": [],
   "source": [
    "from pennylane import numpy as np"
   ]
  },
  {
   "cell_type": "code",
   "execution_count": 81,
   "id": "07ec49f5-c401-4c36-aae3-57aad3eaa0ba",
   "metadata": {},
   "outputs": [],
   "source": [
    "# Angle Encoding\n",
    "\n",
    "num_qubits = n_dim\n",
    "\n",
    "dev = qml.device('default.qubit', wires = num_qubits)\n",
    "\n",
    "@qml.qnode(dev)\n",
    "def circuit(parameters, data):\n",
    "    for i in range(num_qubits):\n",
    "        qml.Hadamard(wires = i)\n",
    "    \n",
    "    AngleEmbedding(features = data, wires = range(num_qubits), rotation = 'Y')\n",
    "    \n",
    "    qml.StronglyEntanglingLayers(weights = parameters, wires = range(num_qubits))\n",
    "    \n",
    "    return qml.expval(qml.PauliZ(0))"
   ]
  },
  {
   "cell_type": "code",
   "execution_count": 82,
   "id": "ffcf8fdb-37a0-4b64-b73c-76be553995e8",
   "metadata": {},
   "outputs": [],
   "source": [
    "num_layers = 5\n",
    "weights_init = 0.01 * np.random.randn(num_layers, num_qubits, 3, requires_grad=True)\n",
    "bias_init = np.array(0.0, requires_grad=True)\n",
    "\n",
    "#print(weights_init, bias_init)"
   ]
  },
  {
   "cell_type": "code",
   "execution_count": 83,
   "id": "49568595-37ec-4749-a230-dc4c6dae2500",
   "metadata": {},
   "outputs": [
    {
     "data": {
      "text/plain": [
       "tensor(0.09533556, requires_grad=True)"
      ]
     },
     "execution_count": 83,
     "metadata": {},
     "output_type": "execute_result"
    }
   ],
   "source": [
    "circuit(weights_init, sample_train[0])"
   ]
  },
  {
   "cell_type": "code",
   "execution_count": 84,
   "id": "4febb380-0955-4f05-a872-326cc4e3a27c",
   "metadata": {},
   "outputs": [],
   "source": [
    "def variational_classifier(weights, bias, x):\n",
    "    return circuit(weights, x) + bias"
   ]
  },
  {
   "cell_type": "code",
   "execution_count": 85,
   "id": "c16a1f84-63e5-4fbb-a647-cba6db4c6c4c",
   "metadata": {},
   "outputs": [],
   "source": [
    "def square_loss(labels, predictions):\n",
    "    loss = 0\n",
    "    for l, p in zip(labels, predictions):\n",
    "        loss = loss + (l - p) ** 2\n",
    "\n",
    "    loss = loss / len(labels)\n",
    "    return loss"
   ]
  },
  {
   "cell_type": "code",
   "execution_count": 86,
   "id": "07412a53-c93b-4c73-bd0b-e7e144454435",
   "metadata": {},
   "outputs": [],
   "source": [
    "def accuracy(labels, predictions):\n",
    "\n",
    "    loss = 0\n",
    "    for l, p in zip(labels, predictions):\n",
    "        if abs(l - p) < 1e-5:\n",
    "            loss = loss + 1\n",
    "    loss = loss / len(labels)\n",
    "\n",
    "    return loss"
   ]
  },
  {
   "cell_type": "code",
   "execution_count": 87,
   "id": "1bf0b58e-38f3-4c45-a4d2-3d69af787ba3",
   "metadata": {},
   "outputs": [],
   "source": [
    "def cost(weights, bias, X, Y):\n",
    "    predictions = [variational_classifier(weights, bias, x) for x in X]\n",
    "    return square_loss(Y, predictions)"
   ]
  },
  {
   "cell_type": "code",
   "execution_count": 88,
   "id": "21ff4aa6-c15b-4a59-a718-67d8da2402dd",
   "metadata": {},
   "outputs": [
    {
     "name": "stdout",
     "output_type": "stream",
     "text": [
      "X = [tensor(-0.91909396, requires_grad=True), tensor(-0.85141035, requires_grad=True), tensor(-0.8413354, requires_grad=True), tensor(-0.15509375, requires_grad=True)], Y =  1\n",
      "X = [tensor(-0.43432633, requires_grad=True), tensor(0.60996981, requires_grad=True), tensor(-0.53720983, requires_grad=True), tensor(-0.02666423, requires_grad=True)], Y =  1\n",
      "X = [tensor(-0.91914513, requires_grad=True), tensor(0.07757698, requires_grad=True), tensor(-0.88512148, requires_grad=True), tensor(-0.05817506, requires_grad=True)], Y =  1\n",
      "X = [tensor(-0.29287932, requires_grad=True), tensor(0.0112146, requires_grad=True), tensor(-0.90198535, requires_grad=True), tensor(-0.07133402, requires_grad=True)], Y = -1\n",
      "X = [tensor(-0.67671836, requires_grad=True), tensor(0.02830653, requires_grad=True), tensor(-0.7451524, requires_grad=True), tensor(-0.02198621, requires_grad=True)], Y = -1\n"
     ]
    }
   ],
   "source": [
    "Y = np.array(label_train * 2 - np.ones(len(label_train)),requires_grad=True)  # shift label from {0, 1} to {-1, 1}\n",
    "X = np.array(sample_train, requires_grad=True)\n",
    "\n",
    "for i in range(5):\n",
    "    print(\"X = {}, Y = {: d}\".format(list(X[i]), int(Y[i])))"
   ]
  },
  {
   "cell_type": "code",
   "execution_count": 89,
   "id": "074f578a-1984-4814-9070-7b20063c8bd1",
   "metadata": {},
   "outputs": [],
   "source": [
    "opt = AdamOptimizer(stepsize=0.1, beta1=0.9, beta2=0.99, eps=1e-08)\n",
    "batch_size = 10"
   ]
  },
  {
   "cell_type": "code",
   "execution_count": 90,
   "id": "e8b4bf5c-322d-43e2-ac30-3bf83e3e7f89",
   "metadata": {},
   "outputs": [],
   "source": [
    "import warnings\n",
    "warnings.filterwarnings('ignore')"
   ]
  },
  {
   "cell_type": "code",
   "execution_count": 91,
   "id": "2d31d6a7-74f4-4e63-b1cb-b92bfb610a5a",
   "metadata": {},
   "outputs": [
    {
     "name": "stdout",
     "output_type": "stream",
     "text": [
      "New Best:\n",
      "Iter:     1 | Cost: 0.7848240 | f1: 0.0000000 \n",
      "New Best:\n",
      "Iter:     2 | Cost: 0.7492710 | f1: 0.0000000 \n",
      "Iter:     3 | Cost: 0.8036114 | f1: 0.0000000 \n",
      "Iter:     4 | Cost: 0.7804185 | f1: 0.0000000 \n",
      "Iter:     5 | Cost: 0.7976124 | f1: 0.0000000 \n",
      "Iter:     6 | Cost: 0.7622071 | f1: 0.0000000 \n",
      "New Best:\n",
      "Iter:     7 | Cost: 0.7444048 | f1: 0.0000000 \n",
      "Iter:     8 | Cost: 0.7647834 | f1: 0.0000000 \n",
      "Iter:     9 | Cost: 0.7612798 | f1: 0.0000000 \n",
      "Iter:    10 | Cost: 0.7794172 | f1: 0.0000000 \n",
      "Iter:    11 | Cost: 0.8059817 | f1: 0.0000000 \n",
      "Iter:    12 | Cost: 0.7769853 | f1: 0.0000000 \n",
      "New Best:\n",
      "Iter:    13 | Cost: 0.7418115 | f1: 0.0000000 \n",
      "New Best:\n",
      "Iter:    14 | Cost: 0.7356064 | f1: 0.0000000 \n",
      "Iter:    15 | Cost: 0.7399033 | f1: 0.0000000 \n",
      "Iter:    16 | Cost: 0.7426077 | f1: 0.0000000 \n",
      "Iter:    17 | Cost: 0.7507875 | f1: 0.0000000 \n",
      "Iter:    18 | Cost: 0.7852386 | f1: 0.0000000 \n",
      "New Best:\n",
      "Iter:    19 | Cost: 0.9337671 | f1: 0.1338028 \n",
      "Iter:    20 | Cost: 0.8723643 | f1: 0.0284360 \n",
      "Iter:    21 | Cost: 0.7733060 | f1: 0.0100503 \n",
      "Iter:    22 | Cost: 0.7402723 | f1: 0.0000000 \n",
      "Iter:    23 | Cost: 0.7642722 | f1: 0.0000000 \n",
      "Iter:    24 | Cost: 0.8060770 | f1: 0.0000000 \n",
      "Iter:    25 | Cost: 0.8304867 | f1: 0.0000000 \n",
      "Iter:    26 | Cost: 0.8416139 | f1: 0.0000000 \n",
      "Iter:    27 | Cost: 0.8055019 | f1: 0.0000000 \n",
      "Iter:    28 | Cost: 0.7816342 | f1: 0.0000000 \n",
      "Iter:    29 | Cost: 0.7503784 | f1: 0.0000000 \n",
      "Iter:    30 | Cost: 0.7408609 | f1: 0.0000000 \n",
      "Iter:    31 | Cost: 0.7891482 | f1: 0.0100503 \n",
      "Iter:    32 | Cost: 0.8138981 | f1: 0.0100000 \n",
      "Iter:    33 | Cost: 0.7776204 | f1: 0.0100503 \n",
      "Iter:    34 | Cost: 0.7493494 | f1: 0.0000000 \n",
      "Iter:    35 | Cost: 0.7580348 | f1: 0.0000000 \n",
      "Iter:    36 | Cost: 0.7702529 | f1: 0.0000000 \n",
      "Iter:    37 | Cost: 0.7528250 | f1: 0.0000000 \n",
      "Iter:    38 | Cost: 0.7461418 | f1: 0.0000000 \n",
      "Iter:    39 | Cost: 0.7566643 | f1: 0.0000000 \n",
      "Iter:    40 | Cost: 0.7494711 | f1: 0.0000000 \n",
      "Iter:    41 | Cost: 0.7395474 | f1: 0.0000000 \n",
      "Iter:    42 | Cost: 0.7773517 | f1: 0.0000000 \n",
      "Iter:    43 | Cost: 0.8649603 | f1: 0.0000000 \n",
      "Iter:    44 | Cost: 0.8634365 | f1: 0.0000000 \n",
      "Iter:    45 | Cost: 0.7767271 | f1: 0.0000000 \n",
      "Iter:    46 | Cost: 0.7339136 | f1: 0.0000000 \n",
      "Iter:    47 | Cost: 0.7395110 | f1: 0.0000000 \n",
      "Iter:    48 | Cost: 0.7412777 | f1: 0.0000000 \n",
      "Iter:    49 | Cost: 0.7428635 | f1: 0.0000000 \n",
      "Iter:    50 | Cost: 0.7567606 | f1: 0.0000000 \n",
      "Iter:    51 | Cost: 0.7839691 | f1: 0.0000000 \n",
      "Iter:    52 | Cost: 0.7613972 | f1: 0.0000000 \n",
      "Iter:    53 | Cost: 0.7540737 | f1: 0.0000000 \n",
      "Iter:    54 | Cost: 0.7539441 | f1: 0.0000000 \n",
      "Iter:    55 | Cost: 0.7564610 | f1: 0.0000000 \n",
      "Iter:    56 | Cost: 0.7563271 | f1: 0.0000000 \n",
      "Iter:    57 | Cost: 0.7565390 | f1: 0.0000000 \n",
      "Iter:    58 | Cost: 0.7561557 | f1: 0.0000000 \n",
      "Iter:    59 | Cost: 0.7678780 | f1: 0.0000000 \n",
      "Iter:    60 | Cost: 0.7884238 | f1: 0.0000000 \n",
      "Iter:    61 | Cost: 0.8374428 | f1: 0.0000000 \n",
      "Iter:    62 | Cost: 0.8485775 | f1: 0.0000000 \n",
      "Iter:    63 | Cost: 0.8542102 | f1: 0.0000000 \n",
      "Iter:    64 | Cost: 0.8203555 | f1: 0.0000000 \n",
      "Iter:    65 | Cost: 0.7974170 | f1: 0.0000000 \n",
      "Iter:    66 | Cost: 0.7616548 | f1: 0.0000000 \n",
      "Iter:    67 | Cost: 0.7508341 | f1: 0.0000000 \n",
      "Iter:    68 | Cost: 0.7427872 | f1: 0.0000000 \n",
      "Iter:    69 | Cost: 0.7365737 | f1: 0.0000000 \n",
      "Iter:    70 | Cost: 0.7423285 | f1: 0.0000000 \n",
      "Iter:    71 | Cost: 0.7544928 | f1: 0.0000000 \n",
      "Iter:    72 | Cost: 0.7875807 | f1: 0.0000000 \n",
      "Iter:    73 | Cost: 0.8283650 | f1: 0.0000000 \n",
      "Iter:    74 | Cost: 0.8586538 | f1: 0.0000000 \n",
      "Iter:    75 | Cost: 0.7970413 | f1: 0.0000000 \n",
      "Iter:    76 | Cost: 0.7383752 | f1: 0.0000000 \n",
      "Iter:    77 | Cost: 0.7677245 | f1: 0.0000000 \n",
      "Iter:    78 | Cost: 0.8382124 | f1: 0.0000000 \n",
      "Iter:    79 | Cost: 0.8466972 | f1: 0.0000000 \n",
      "Iter:    80 | Cost: 0.8184880 | f1: 0.0000000 \n",
      "Iter:    81 | Cost: 0.7745587 | f1: 0.0000000 \n",
      "Iter:    82 | Cost: 0.7486606 | f1: 0.0000000 \n",
      "Iter:    83 | Cost: 0.7428041 | f1: 0.0000000 \n",
      "Iter:    84 | Cost: 0.7427610 | f1: 0.0000000 \n",
      "Iter:    85 | Cost: 0.7441051 | f1: 0.0000000 \n",
      "Iter:    86 | Cost: 0.7481060 | f1: 0.0000000 \n",
      "Iter:    87 | Cost: 0.7522490 | f1: 0.0000000 \n",
      "Iter:    88 | Cost: 0.7604086 | f1: 0.0000000 \n",
      "Iter:    89 | Cost: 0.7559161 | f1: 0.0000000 \n",
      "Iter:    90 | Cost: 0.7496532 | f1: 0.0000000 \n",
      "Iter:    91 | Cost: 0.7461509 | f1: 0.0000000 \n",
      "Iter:    92 | Cost: 0.7461539 | f1: 0.0000000 \n",
      "Iter:    93 | Cost: 0.7470126 | f1: 0.0000000 \n",
      "Iter:    94 | Cost: 0.7479755 | f1: 0.0000000 \n",
      "Iter:    95 | Cost: 0.7507025 | f1: 0.0000000 \n",
      "Iter:    96 | Cost: 0.7508551 | f1: 0.0000000 \n",
      "Iter:    97 | Cost: 0.7433557 | f1: 0.0000000 \n",
      "Iter:    98 | Cost: 0.7449203 | f1: 0.0000000 \n",
      "Iter:    99 | Cost: 0.7535612 | f1: 0.0000000 \n",
      "Iter:   100 | Cost: 0.7515798 | f1: 0.0000000 \n",
      "Iter:   101 | Cost: 0.7554852 | f1: 0.0000000 \n",
      "Iter:   102 | Cost: 0.7597466 | f1: 0.0000000 \n",
      "Iter:   103 | Cost: 0.7726094 | f1: 0.0000000 \n",
      "Iter:   104 | Cost: 0.7808664 | f1: 0.0000000 \n",
      "Iter:   105 | Cost: 0.7593515 | f1: 0.0000000 \n",
      "Iter:   106 | Cost: 0.7518329 | f1: 0.0000000 \n",
      "Iter:   107 | Cost: 0.7410108 | f1: 0.0000000 \n",
      "Iter:   108 | Cost: 0.7374699 | f1: 0.0000000 \n",
      "Iter:   109 | Cost: 0.7513512 | f1: 0.0000000 \n",
      "Iter:   110 | Cost: 0.7803938 | f1: 0.0000000 \n",
      "Iter:   111 | Cost: 0.8086762 | f1: 0.0000000 \n",
      "Iter:   112 | Cost: 0.8244950 | f1: 0.0000000 \n",
      "Iter:   113 | Cost: 0.8011748 | f1: 0.0000000 \n",
      "Iter:   114 | Cost: 0.7722977 | f1: 0.0000000 \n",
      "Iter:   115 | Cost: 0.7577035 | f1: 0.0000000 \n",
      "Iter:   116 | Cost: 0.7545593 | f1: 0.0000000 \n",
      "Iter:   117 | Cost: 0.7452844 | f1: 0.0000000 \n",
      "Iter:   118 | Cost: 0.7428457 | f1: 0.0000000 \n",
      "Iter:   119 | Cost: 0.7465781 | f1: 0.0000000 \n",
      "Iter:   120 | Cost: 0.7653680 | f1: 0.0000000 \n",
      "Iter:   121 | Cost: 0.8055082 | f1: 0.0000000 \n",
      "Iter:   122 | Cost: 0.8074309 | f1: 0.0000000 \n",
      "Iter:   123 | Cost: 0.7830614 | f1: 0.0000000 \n",
      "Iter:   124 | Cost: 0.7615752 | f1: 0.0000000 \n",
      "Iter:   125 | Cost: 0.7503897 | f1: 0.0000000 \n",
      "Iter:   126 | Cost: 0.7459199 | f1: 0.0000000 \n",
      "Iter:   127 | Cost: 0.7431195 | f1: 0.0000000 \n",
      "Iter:   128 | Cost: 0.7424150 | f1: 0.0000000 \n",
      "Iter:   129 | Cost: 0.7411340 | f1: 0.0000000 \n",
      "Iter:   130 | Cost: 0.7401490 | f1: 0.0000000 \n",
      "Iter:   131 | Cost: 0.7393992 | f1: 0.0000000 \n",
      "Iter:   132 | Cost: 0.7390020 | f1: 0.0000000 \n",
      "Iter:   133 | Cost: 0.7430536 | f1: 0.0000000 \n",
      "Iter:   134 | Cost: 0.7627766 | f1: 0.0000000 \n",
      "Iter:   135 | Cost: 0.8011215 | f1: 0.0000000 \n",
      "Iter:   136 | Cost: 0.8193810 | f1: 0.0000000 \n",
      "Iter:   137 | Cost: 0.8255655 | f1: 0.0000000 \n",
      "Iter:   138 | Cost: 0.8067525 | f1: 0.0000000 \n",
      "Iter:   139 | Cost: 0.7772413 | f1: 0.0000000 \n",
      "Iter:   140 | Cost: 0.7546423 | f1: 0.0000000 \n",
      "Iter:   141 | Cost: 0.7353381 | f1: 0.0000000 \n",
      "Iter:   142 | Cost: 0.7367906 | f1: 0.0000000 \n",
      "Iter:   143 | Cost: 0.7449508 | f1: 0.0000000 \n",
      "Iter:   144 | Cost: 0.7425950 | f1: 0.0000000 \n",
      "Iter:   145 | Cost: 0.7426166 | f1: 0.0000000 \n",
      "Iter:   146 | Cost: 0.7448327 | f1: 0.0000000 \n",
      "Iter:   147 | Cost: 0.7421913 | f1: 0.0000000 \n",
      "Iter:   148 | Cost: 0.7354933 | f1: 0.0000000 \n",
      "Iter:   149 | Cost: 0.7332796 | f1: 0.0000000 \n",
      "Iter:   150 | Cost: 0.7341893 | f1: 0.0000000 \n",
      "Iter:   151 | Cost: 0.7377562 | f1: 0.0000000 \n",
      "Iter:   152 | Cost: 0.7472531 | f1: 0.0000000 \n",
      "Iter:   153 | Cost: 0.7534225 | f1: 0.0000000 \n",
      "Iter:   154 | Cost: 0.7581776 | f1: 0.0000000 \n",
      "Iter:   155 | Cost: 0.7537005 | f1: 0.0000000 \n",
      "Iter:   156 | Cost: 0.7419290 | f1: 0.0000000 \n",
      "Iter:   157 | Cost: 0.7283636 | f1: 0.0000000 \n",
      "Iter:   158 | Cost: 0.7283554 | f1: 0.0000000 \n",
      "Iter:   159 | Cost: 0.7420289 | f1: 0.0000000 \n",
      "Iter:   160 | Cost: 0.7613486 | f1: 0.0000000 \n",
      "Iter:   161 | Cost: 0.7865902 | f1: 0.0000000 \n",
      "Iter:   162 | Cost: 0.8304145 | f1: 0.0000000 \n",
      "Iter:   163 | Cost: 0.8423175 | f1: 0.0000000 \n",
      "Iter:   164 | Cost: 0.8053777 | f1: 0.0000000 \n",
      "Iter:   165 | Cost: 0.7887233 | f1: 0.0000000 \n",
      "Iter:   166 | Cost: 0.7860987 | f1: 0.0000000 \n",
      "Iter:   167 | Cost: 0.7782612 | f1: 0.0000000 \n",
      "Iter:   168 | Cost: 0.7658756 | f1: 0.0000000 \n",
      "Iter:   169 | Cost: 0.7425475 | f1: 0.0000000 \n",
      "Iter:   170 | Cost: 0.7311002 | f1: 0.0000000 \n",
      "Iter:   171 | Cost: 0.7370460 | f1: 0.0000000 \n",
      "Iter:   172 | Cost: 0.7390486 | f1: 0.0000000 \n",
      "Iter:   173 | Cost: 0.7495149 | f1: 0.0000000 \n",
      "Iter:   174 | Cost: 0.7456605 | f1: 0.0000000 \n",
      "Iter:   175 | Cost: 0.7459261 | f1: 0.0000000 \n",
      "Iter:   176 | Cost: 0.7455473 | f1: 0.0000000 \n",
      "Iter:   177 | Cost: 0.7512265 | f1: 0.0000000 \n",
      "Iter:   178 | Cost: 0.7319002 | f1: 0.0000000 \n",
      "Iter:   179 | Cost: 0.7459212 | f1: 0.0000000 \n",
      "Iter:   180 | Cost: 0.7495630 | f1: 0.0000000 \n",
      "Iter:   181 | Cost: 0.7433363 | f1: 0.0000000 \n",
      "Iter:   182 | Cost: 0.7334154 | f1: 0.0000000 \n",
      "Iter:   183 | Cost: 0.7338827 | f1: 0.0000000 \n",
      "Iter:   184 | Cost: 0.7371011 | f1: 0.0000000 \n",
      "Iter:   185 | Cost: 0.7400382 | f1: 0.0000000 \n",
      "Iter:   186 | Cost: 0.7418924 | f1: 0.0000000 \n",
      "Iter:   187 | Cost: 0.7415389 | f1: 0.0000000 \n",
      "Iter:   188 | Cost: 0.7426799 | f1: 0.0000000 \n",
      "Iter:   189 | Cost: 0.7442407 | f1: 0.0000000 \n",
      "Iter:   190 | Cost: 0.7523316 | f1: 0.0000000 \n",
      "Iter:   191 | Cost: 0.7740244 | f1: 0.0000000 \n",
      "Iter:   192 | Cost: 0.7739696 | f1: 0.0000000 \n",
      "Iter:   193 | Cost: 0.7547286 | f1: 0.0000000 \n",
      "Iter:   194 | Cost: 0.7370310 | f1: 0.0000000 \n",
      "Iter:   195 | Cost: 0.7405029 | f1: 0.0000000 \n",
      "Iter:   196 | Cost: 0.7531845 | f1: 0.0000000 \n",
      "Iter:   197 | Cost: 0.7614688 | f1: 0.0000000 \n",
      "Iter:   198 | Cost: 0.7735002 | f1: 0.0000000 \n",
      "Iter:   199 | Cost: 0.7809605 | f1: 0.0000000 \n",
      "Iter:   200 | Cost: 0.7828220 | f1: 0.0000000 \n",
      "Iter:   201 | Cost: 0.7845070 | f1: 0.0000000 \n",
      "Iter:   202 | Cost: 0.7747542 | f1: 0.0000000 \n",
      "Iter:   203 | Cost: 0.7585496 | f1: 0.0000000 \n",
      "Iter:   204 | Cost: 0.7445398 | f1: 0.0000000 \n",
      "Iter:   205 | Cost: 0.7324787 | f1: 0.0000000 \n",
      "Iter:   206 | Cost: 0.7290128 | f1: 0.0000000 \n",
      "Iter:   207 | Cost: 0.7372722 | f1: 0.0000000 \n",
      "Iter:   208 | Cost: 0.7445494 | f1: 0.0000000 \n",
      "Iter:   209 | Cost: 0.7453411 | f1: 0.0000000 \n",
      "Iter:   210 | Cost: 0.7313406 | f1: 0.0000000 \n",
      "Iter:   211 | Cost: 0.7280901 | f1: 0.0000000 \n",
      "Iter:   212 | Cost: 0.7277571 | f1: 0.0000000 \n",
      "Iter:   213 | Cost: 0.7276992 | f1: 0.0000000 \n",
      "Iter:   214 | Cost: 0.7313338 | f1: 0.0000000 \n",
      "Iter:   215 | Cost: 0.7331761 | f1: 0.0000000 \n",
      "Iter:   216 | Cost: 0.7353587 | f1: 0.0000000 \n",
      "Iter:   217 | Cost: 0.7364680 | f1: 0.0000000 \n",
      "Iter:   218 | Cost: 0.7350529 | f1: 0.0000000 \n",
      "Iter:   219 | Cost: 0.7308827 | f1: 0.0000000 \n",
      "Iter:   220 | Cost: 0.7288619 | f1: 0.0000000 \n",
      "Iter:   221 | Cost: 0.7267069 | f1: 0.0000000 \n",
      "Iter:   222 | Cost: 0.7266331 | f1: 0.0000000 \n",
      "Iter:   223 | Cost: 0.7266458 | f1: 0.0000000 \n",
      "Iter:   224 | Cost: 0.7281611 | f1: 0.0000000 \n",
      "Iter:   225 | Cost: 0.7356990 | f1: 0.0000000 \n",
      "Iter:   226 | Cost: 0.7519169 | f1: 0.0000000 \n",
      "Iter:   227 | Cost: 0.7504108 | f1: 0.0000000 \n",
      "Iter:   228 | Cost: 0.7460431 | f1: 0.0000000 \n",
      "Iter:   229 | Cost: 0.7454798 | f1: 0.0000000 \n",
      "Iter:   230 | Cost: 0.7437327 | f1: 0.0000000 \n",
      "Iter:   231 | Cost: 0.7367272 | f1: 0.0000000 \n",
      "Iter:   232 | Cost: 0.7348316 | f1: 0.0000000 \n",
      "Iter:   233 | Cost: 0.7338833 | f1: 0.0000000 \n",
      "Iter:   234 | Cost: 0.7321047 | f1: 0.0000000 \n",
      "Iter:   235 | Cost: 0.7304937 | f1: 0.0000000 \n",
      "Iter:   236 | Cost: 0.7329809 | f1: 0.0000000 \n",
      "Iter:   237 | Cost: 0.7431609 | f1: 0.0000000 \n",
      "Iter:   238 | Cost: 0.7607360 | f1: 0.0000000 \n",
      "Iter:   239 | Cost: 0.7578170 | f1: 0.0000000 \n",
      "Iter:   240 | Cost: 0.7545616 | f1: 0.0000000 \n",
      "Iter:   241 | Cost: 0.7418346 | f1: 0.0000000 \n",
      "Iter:   242 | Cost: 0.7385271 | f1: 0.0000000 \n",
      "Iter:   243 | Cost: 0.7435653 | f1: 0.0000000 \n",
      "Iter:   244 | Cost: 0.7464894 | f1: 0.0000000 \n",
      "Iter:   245 | Cost: 0.7460858 | f1: 0.0000000 \n",
      "Iter:   246 | Cost: 0.7457210 | f1: 0.0000000 \n",
      "Iter:   247 | Cost: 0.7456820 | f1: 0.0000000 \n",
      "Iter:   248 | Cost: 0.7534464 | f1: 0.0000000 \n",
      "Iter:   249 | Cost: 0.7602157 | f1: 0.0000000 \n",
      "Iter:   250 | Cost: 0.7569116 | f1: 0.0000000 \n"
     ]
    }
   ],
   "source": [
    "weights = weights_init\n",
    "bias = bias_init\n",
    "\n",
    "wbest = 0\n",
    "bbest = 0\n",
    "abest = 0\n",
    "\n",
    "for it in range(250):\n",
    "\n",
    "    # weights update by one optimizer step\n",
    "\n",
    "    batch_index = np.random.randint(0, len(X), (batch_size,))\n",
    "    X_batch = X[batch_index]\n",
    "    Y_batch = Y[batch_index]\n",
    "    weights, bias, _, _ = opt.step(cost, weights, bias, X_batch, Y_batch)\n",
    "\n",
    "    # Compute the accuracy\n",
    "    predictions = [np.sign(variational_classifier(weights, bias, x)) for x in X]\n",
    "    \n",
    "    '''if accuracy(Y, predictions) > abest:\n",
    "        wbest = weights\n",
    "        bbest = bias\n",
    "        abest = accuracy(Y, predictions)\n",
    "        print('New best')\n",
    "\n",
    "    acc = accuracy(Y, predictions)\n",
    "\n",
    "    print(\n",
    "        \"Iter: {:5d} | Cost: {:0.7f} | Accuracy: {:0.7f} \".format(\n",
    "            it + 1, cost(weights, bias, X, Y), acc\n",
    "        )\n",
    "    )'''\n",
    "    prec = metrics.f1_score(Y, predictions, average='binary', pos_label=1)\n",
    "    if  prec > abest or ((prec == abest) and (cost(weights, bias, X, Y) < ccost)):\n",
    "        wbest = weights\n",
    "        bbest = bias\n",
    "        abest = prec\n",
    "        ccost = cost(weights, bias, X, Y)\n",
    "        print(\"New Best:\")\n",
    "    print(\n",
    "        \"Iter: {:5d} | Cost: {:0.7f} | f1: {:0.7f} \".format(\n",
    "            it + 1, cost(weights, bias, X, Y), prec\n",
    "        )\n",
    "    )\n",
    "    \n",
    "    "
   ]
  },
  {
   "cell_type": "code",
   "execution_count": 92,
   "id": "ee2dceeb-5b76-4ec7-9ebb-efb9e562cf8a",
   "metadata": {},
   "outputs": [],
   "source": [
    "Yte = np.array(label_test * 2 - np.ones(len(label_test)))\n",
    "Xte = np.array(normalize(sample_test))"
   ]
  },
  {
   "cell_type": "code",
   "execution_count": 93,
   "id": "4416ed73-4c7d-44e3-a539-9dba3191327d",
   "metadata": {},
   "outputs": [
    {
     "name": "stdout",
     "output_type": "stream",
     "text": [
      "Cost: 0.9452906248208346, Accuracy: 60.0%\n"
     ]
    }
   ],
   "source": [
    "predictions = [np.sign(variational_classifier(wbest, bbest, x)) for x in Xte]\n",
    "pred = [np.sign(variational_classifier(wbest, bbest, x)) for x in X]\n",
    "acc = accuracy(Yte, predictions)\n",
    "\n",
    "print(f'Cost: {cost(wbest, bbest, Xte, Yte)}, Accuracy: {np.round(acc, 2) * 100}%')"
   ]
  },
  {
   "cell_type": "code",
   "execution_count": 94,
   "id": "4d2c6851-a0ea-4637-9f25-22a4a0b80c53",
   "metadata": {},
   "outputs": [
    {
     "name": "stdout",
     "output_type": "stream",
     "text": [
      "              precision    recall  f1-score   support\n",
      "\n",
      "        -1.0       0.71      0.76      0.73       145\n",
      "         1.0       0.22      0.18      0.20        55\n",
      "\n",
      "    accuracy                           0.60       200\n",
      "   macro avg       0.47      0.47      0.47       200\n",
      "weighted avg       0.58      0.60      0.59       200\n",
      "\n"
     ]
    }
   ],
   "source": [
    "print(metrics.classification_report(predictions,Yte))"
   ]
  },
  {
   "cell_type": "code",
   "execution_count": 95,
   "id": "a4a2955a-d877-4885-ad84-5f31458a7c94",
   "metadata": {},
   "outputs": [
    {
     "name": "stdout",
     "output_type": "stream",
     "text": [
      "              precision    recall  f1-score   support\n",
      "\n",
      "        -1.0       0.71      0.76      0.73       145\n",
      "         1.0       0.22      0.18      0.20        55\n",
      "\n",
      "    accuracy                           0.60       200\n",
      "   macro avg       0.47      0.47      0.47       200\n",
      "weighted avg       0.58      0.60      0.59       200\n",
      "\n"
     ]
    }
   ],
   "source": [
    "print(metrics.classification_report(predictions,Yte))"
   ]
  },
  {
   "cell_type": "code",
   "execution_count": 96,
   "id": "dcedeada-a82f-4e82-b738-6a862dc801c8",
   "metadata": {},
   "outputs": [
    {
     "name": "stdout",
     "output_type": "stream",
     "text": [
      "\n",
      "\n",
      "    Precision: 22.22%\n",
      "    Recall: 18.18%\n",
      "    f1: 20.0%\n",
      "    Accuracy: 60.0%\n",
      "    Balanced accuracy: 47.02%\n",
      "    Matthew corcorref: -6.37%\n",
      "    \n"
     ]
    }
   ],
   "source": [
    "print(f'''\n",
    "\n",
    "    Precision: {round(100*metrics.precision_score(predictions,Yte),2)}%\n",
    "    Recall: {round(100*metrics.recall_score(predictions,Yte),2)}%\n",
    "    f1: {round(100*metrics.f1_score(predictions,Yte),2)}%\n",
    "    Accuracy: {round(100*metrics.accuracy_score(predictions,Yte),2)}%\n",
    "    Balanced accuracy: {round(100*metrics.balanced_accuracy_score(predictions,Yte),2)}%\n",
    "    Matthew corcorref: {round(100*metrics.matthews_corrcoef(predictions,Yte),2)}%\n",
    "    ''')"
   ]
  },
  {
   "cell_type": "code",
   "execution_count": null,
   "id": "2e5308be-6630-4637-a387-b4f796aeb98d",
   "metadata": {},
   "outputs": [],
   "source": []
  }
 ],
 "metadata": {
  "kernelspec": {
   "display_name": "Python 3 (ipykernel)",
   "language": "python",
   "name": "python3"
  },
  "language_info": {
   "codemirror_mode": {
    "name": "ipython",
    "version": 3
   },
   "file_extension": ".py",
   "mimetype": "text/x-python",
   "name": "python",
   "nbconvert_exporter": "python",
   "pygments_lexer": "ipython3",
   "version": "3.9.13"
  }
 },
 "nbformat": 4,
 "nbformat_minor": 5
}
