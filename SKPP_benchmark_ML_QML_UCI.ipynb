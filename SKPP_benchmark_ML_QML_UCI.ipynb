{
 "cells": [
  {
   "cell_type": "markdown",
   "id": "d41d3fa6-0ae0-490d-a02b-0dbf81799488",
   "metadata": {},
   "source": [
    "# Quantum benchmark"
   ]
  },
  {
   "cell_type": "markdown",
   "id": "d6011e42-1fab-4f9f-ab99-f4f08607517e",
   "metadata": {},
   "source": [
    "## I - Introduction"
   ]
  },
  {
   "cell_type": "code",
   "execution_count": null,
   "id": "13b4f6b4-240b-4b7f-abe4-4e74b3b8cc8a",
   "metadata": {},
   "outputs": [],
   "source": []
  },
  {
   "cell_type": "markdown",
   "id": "bd5492ce-4f08-4755-b4c2-efd698139101",
   "metadata": {},
   "source": [
    "## II - Packages"
   ]
  },
  {
   "cell_type": "code",
   "execution_count": 1,
   "id": "90371200-0133-46ab-a205-d0f6b8858e55",
   "metadata": {},
   "outputs": [],
   "source": [
    "import pandas as pd\n",
    "import matplotlib.pyplot as plt\n",
    "import numpy as np\n",
    "from sklearn.model_selection import train_test_split\n",
    "from sklearn.preprocessing import StandardScaler\n",
    "from sklearn.decomposition import PCA\n",
    "from sklearn.discriminant_analysis import LinearDiscriminantAnalysis as LDA\n",
    "from sklearn.preprocessing import MinMaxScaler\n",
    "from sklearn.svm import SVC\n",
    "from sklearn import metrics\n",
    "from sklearn.ensemble import RandomForestClassifier\n",
    "from sklearn.linear_model import LogisticRegression\n",
    "from sklearn.tree import DecisionTreeClassifier\n",
    "from sklearn.preprocessing import normalize\n",
    "from sklearn.model_selection import cross_val_score, KFold\n",
    "#Import classical libraries\n",
    "from sklearn.neighbors import KNeighborsClassifier\n",
    "from sklearn.naive_bayes import GaussianNB\n",
    "from sklearn.svm import SVC\n",
    "from sklearn.ensemble import RandomForestClassifier\n",
    "from sklearn.model_selection import train_test_split\n",
    "from sklearn import datasets\n",
    "import matplotlib.pyplot as plt\n",
    "from skpp import ProjectionPursuitRegressor\n",
    "\n",
    "plt.style.use('ggplot')\n",
    "\n",
    "import functools\n",
    "\n",
    "from qiskit import BasicAer\n",
    "from qiskit.circuit.library import ZZFeatureMap\n",
    "from qiskit.utils import QuantumInstance, algorithm_globals\n",
    "from qiskit_machine_learning.algorithms import QSVC\n",
    "from qiskit_machine_learning.kernels import QuantumKernel\n",
    "from qiskit_machine_learning.datasets import ad_hoc_data\n",
    "import logging\n",
    "\n",
    "import pennylane as qml\n",
    "from pennylane.templates.embeddings import AngleEmbedding, AmplitudeEmbedding\n",
    "from pennylane.optimize import AdamOptimizer\n",
    "\n",
    "from qiskit.algorithms.optimizers import COBYLA\n",
    "from qiskit.circuit.library import TwoLocal, ZZFeatureMap\n",
    "import qiskit"
   ]
  },
  {
   "cell_type": "code",
   "execution_count": 2,
   "id": "c4552ad2-d5ac-4904-8e45-eafa355e4594",
   "metadata": {},
   "outputs": [],
   "source": [
    "import warnings\n",
    "warnings.filterwarnings('ignore')"
   ]
  },
  {
   "cell_type": "markdown",
   "id": "1598c94c-fdcf-41cd-a4ea-e262932c7e0f",
   "metadata": {},
   "source": [
    "## III - Data "
   ]
  },
  {
   "cell_type": "code",
   "execution_count": 3,
   "id": "e683f3b5-6021-4eb7-bc53-539a5cd79bfc",
   "metadata": {},
   "outputs": [],
   "source": [
    "# Read out CSV\n",
    "\n",
    "df = pd.read_csv('UCI_Credit_Card.csv', sep=',')"
   ]
  },
  {
   "cell_type": "code",
   "execution_count": 4,
   "id": "bc0eccf2-3599-4e41-9371-fe644e3af6a5",
   "metadata": {},
   "outputs": [
    {
     "data": {
      "text/plain": [
       "Index(['ID', 'LIMIT_BAL', 'SEX', 'EDUCATION', 'MARRIAGE', 'AGE', 'PAY_0',\n",
       "       'PAY_2', 'PAY_3', 'PAY_4', 'PAY_5', 'PAY_6', 'BILL_AMT1', 'BILL_AMT2',\n",
       "       'BILL_AMT3', 'BILL_AMT4', 'BILL_AMT5', 'BILL_AMT6', 'PAY_AMT1',\n",
       "       'PAY_AMT2', 'PAY_AMT3', 'PAY_AMT4', 'PAY_AMT5', 'PAY_AMT6',\n",
       "       'default.payment.next.month'],\n",
       "      dtype='object')"
      ]
     },
     "execution_count": 4,
     "metadata": {},
     "output_type": "execute_result"
    }
   ],
   "source": [
    "df.columns"
   ]
  },
  {
   "cell_type": "code",
   "execution_count": 9,
   "id": "10255383-ae13-42c1-8d19-b5cf9eca4d17",
   "metadata": {},
   "outputs": [
    {
     "data": {
      "text/plain": [
       "(20468, 114)"
      ]
     },
     "execution_count": 9,
     "metadata": {},
     "output_type": "execute_result"
    }
   ],
   "source": [
    "df.shape"
   ]
  },
  {
   "cell_type": "code",
   "execution_count": 10,
   "id": "bf69c7f1-b10e-4b54-89ec-89dd5829ac42",
   "metadata": {},
   "outputs": [],
   "source": [
    "%%script false --no-raise-error\n",
    "\n",
    "import sweetviz as sv\n",
    "\n",
    "#EDA using Autoviz\n",
    "sweet_report = sv.analyze(df)\n",
    "\n",
    "#Saving results to HTML file\n",
    "sweet_report.show_html('sweet_report.html')"
   ]
  },
  {
   "cell_type": "markdown",
   "id": "c4ff48fa-d03b-435d-9343-67186c068b34",
   "metadata": {},
   "source": [
    "## IV - Modelisation"
   ]
  },
  {
   "cell_type": "markdown",
   "id": "3dbe1bb7-d7eb-412b-a291-bbeb654766f5",
   "metadata": {},
   "source": [
    "### Classical"
   ]
  },
  {
   "cell_type": "code",
   "execution_count": 5,
   "id": "d7f6037b-3b1c-4a2c-8a9e-df1d432cafa4",
   "metadata": {},
   "outputs": [],
   "source": [
    "df_labels = df['default.payment.next.month']\n",
    "df.drop(['default.payment.next.month'],axis = 1,inplace = True)"
   ]
  },
  {
   "cell_type": "code",
   "execution_count": 6,
   "id": "249ef3a0-7be3-4234-8be6-630db2cd267f",
   "metadata": {},
   "outputs": [],
   "source": [
    "X_train, X_test, y_train, y_test = train_test_split(df, df_labels, test_size=0.2, random_state=42)"
   ]
  },
  {
   "cell_type": "markdown",
   "id": "b1251e3e-c8ed-4e57-a790-1fa8003f8c31",
   "metadata": {},
   "source": [
    "## Quantum Approaches"
   ]
  },
  {
   "cell_type": "code",
   "execution_count": 13,
   "id": "12b4f425-f8b1-40b4-8c3f-4502a9a01a3c",
   "metadata": {},
   "outputs": [
    {
     "data": {
      "text/plain": [
       "array([0, 1])"
      ]
     },
     "execution_count": 13,
     "metadata": {},
     "output_type": "execute_result"
    }
   ],
   "source": [
    "np.unique(df_labels)"
   ]
  },
  {
   "cell_type": "code",
   "execution_count": 16,
   "id": "0dbfa6ef-34cd-4463-8aa3-a20e7a2ddbad",
   "metadata": {},
   "outputs": [
    {
     "data": {
      "text/plain": [
       "(16374, 93)"
      ]
     },
     "execution_count": 16,
     "metadata": {},
     "output_type": "execute_result"
    }
   ],
   "source": [
    "np.shape(X_train)"
   ]
  },
  {
   "cell_type": "code",
   "execution_count": 7,
   "id": "a948c1c2-cb55-49b2-bb4c-c2d2fdca527a",
   "metadata": {},
   "outputs": [],
   "source": [
    "skpp = ProjectionPursuitRegressor(r=2, fit_type='spline', opt_level='medium').fit(X_train, y_train)"
   ]
  },
  {
   "cell_type": "code",
   "execution_count": 8,
   "id": "b921a949-e3bd-45b6-b0e0-a84f96788811",
   "metadata": {},
   "outputs": [],
   "source": [
    "# SKPP validate transformation (using train fit)\n",
    "x_train_skpp = skpp.transform(X_train)\n",
    "x_test_skpp = skpp.transform(X_test)"
   ]
  },
  {
   "cell_type": "code",
   "execution_count": 9,
   "id": "38d2ce7a-6c7e-49d8-8bcc-fd22530bcf2b",
   "metadata": {},
   "outputs": [],
   "source": [
    "# Arrays to dataframe for join in a single df\n",
    "x_train_skpp = pd.DataFrame(x_train_skpp)\n",
    "x_test_skpp = pd.DataFrame(x_test_skpp)"
   ]
  },
  {
   "cell_type": "code",
   "execution_count": 10,
   "id": "bf9d1f27-ae3b-4bc2-90c7-40754d2728bc",
   "metadata": {},
   "outputs": [],
   "source": [
    "# Second standard scaler normalization (using train fit)\n",
    "std_scale = StandardScaler().fit(x_train_skpp)\n",
    "X_train_skpp_norm = std_scale.transform(x_train_skpp)\n",
    "x_test_skpp_norn = std_scale.transform(x_test_skpp)\n",
    "#x_validate_lda_n = std_scale.transform(x_validate_skpp)"
   ]
  },
  {
   "cell_type": "code",
   "execution_count": 11,
   "id": "8920e169-7d06-46a1-b30e-af7eee11539e",
   "metadata": {},
   "outputs": [
    {
     "data": {
      "text/plain": [
       "2"
      ]
     },
     "execution_count": 11,
     "metadata": {},
     "output_type": "execute_result"
    }
   ],
   "source": [
    "# Dimensions definition for QML\n",
    "n_dim = len(x_train_skpp.columns)\n",
    "n_dim"
   ]
  },
  {
   "cell_type": "code",
   "execution_count": 12,
   "id": "3141a967-8c2f-472e-a934-5ad8ac0d9237",
   "metadata": {},
   "outputs": [
    {
     "data": {
      "text/plain": [
       "[<matplotlib.lines.Line2D at 0x285851630>,\n",
       " <matplotlib.lines.Line2D at 0x285851720>]"
      ]
     },
     "execution_count": 12,
     "metadata": {},
     "output_type": "execute_result"
    },
    {
     "data": {
      "image/png": "[encoded data removed]",
      "text/plain": [
       "<Figure size 1000x800 with 1 Axes>"
      ]
     },
     "metadata": {},
     "output_type": "display_data"
    }
   ],
   "source": [
    "plt.figure(figsize=(10,8))\n",
    "plt.plot(x_train_skpp, '+')\n"
   ]
  },
  {
   "cell_type": "markdown",
   "id": "bd626d5c-ff6a-443a-9700-10a93c24dc74",
   "metadata": {},
   "source": [
    "## Split train test "
   ]
  },
  {
   "cell_type": "code",
   "execution_count": 13,
   "id": "afaf0912-bdbf-4460-ae4c-43016d1f5a57",
   "metadata": {},
   "outputs": [],
   "source": [
    "# Split dataset into train and test\n",
    "\n",
    "sample_train, sample_test, label_train, label_test = train_test_split(\n",
    "     X_train_skpp_norm, y_train, test_size=0.2, random_state=22)\n",
    "\n",
    "# Normalize\n",
    "\n",
    "# Select a sample for a better control of the research and wall time\n",
    "\n",
    "train_size = 800#160\n",
    "sample_train = sample_train[:train_size]\n",
    "label_train = label_train[:train_size]\n",
    "\n",
    "test_size = 200 #40\n",
    "sample_test = sample_test[:test_size]\n",
    "label_test = label_test[:test_size]"
   ]
  },
  {
   "cell_type": "code",
   "execution_count": 14,
   "id": "d815edbe-c5e7-42d6-9489-39ebb940cda4",
   "metadata": {},
   "outputs": [],
   "source": [
    "# Basic parameters for hybrid model\n",
    "\n",
    "seed = 8500\n",
    "feature_dim = n_dim\n",
    "num_reps = 2\n",
    "num_shots =256 \n"
   ]
  },
  {
   "cell_type": "markdown",
   "id": "a17bc9af-4a1c-453d-be99-d54b9e045628",
   "metadata": {},
   "source": [
    "## Hybrid"
   ]
  },
  {
   "cell_type": "code",
   "execution_count": 22,
   "id": "c2ce7078-9255-4913-b6aa-7f05a0e077c3",
   "metadata": {},
   "outputs": [],
   "source": [
    "# Define feature_map\n",
    "\n",
    "feature_map = ZZFeatureMap(feature_dimension=feature_dim, reps=num_reps)\n",
    "\n",
    "# Define the backend\n",
    "backend = QuantumInstance(\n",
    "    BasicAer.get_backend(\"qasm_simulator\"), shots=num_shots, seed_simulator=seed, seed_transpiler=seed\n",
    ")\n",
    "\n",
    "# Define the kernel\n",
    "\n",
    "kernel = QuantumKernel(feature_map=feature_map, quantum_instance=backend)\n",
    "\n",
    "# Model run\n",
    "svc = SVC(kernel=kernel.evaluate)\n",
    "#svc.fit(sample_train, label_train)\n",
    "#score = svc.score(sample_test, label_test)\n",
    "\n",
    "#print(f\"Callable kernel classification test score: {score}\")"
   ]
  },
  {
   "cell_type": "code",
   "execution_count": 19,
   "id": "b8fd86d8-bec9-42ac-8543-c69c973a7f01",
   "metadata": {},
   "outputs": [],
   "source": [
    "#result_predict = svc.predict(sample_test)"
   ]
  },
  {
   "cell_type": "code",
   "execution_count": 16,
   "id": "f8cffebe-cf70-4328-8b69-5b0da24914df",
   "metadata": {},
   "outputs": [],
   "source": [
    "from sklearn.model_selection import cross_validate\n",
    "from tqdm import tqdm\n",
    "def evaluate_ml_model(_models, X, y, n_fold=10, metric='precision'):\n",
    "    ''' Function to evaluate a ML and QML model with a list of metrics\n",
    "    \n",
    "    \n",
    "    '''\n",
    "    results = pd.DataFrame()\n",
    "    kfold = KFold(n_splits=n_fold)\n",
    "    columns = []\n",
    "    for name, model in tqdm(_models):\n",
    "        # -------------------\n",
    "        # Variables initialization \n",
    "        _df = pd.DataFrame()\n",
    "        names = []\n",
    "        means = []\n",
    "        stds = []\n",
    "        \n",
    "        # -------------------\n",
    "        # k-fold Cross validation\n",
    "        cv_results = cross_validate(model, X, y, cv=kfold, scoring=metric)\n",
    "        \n",
    "        # -------------------\n",
    "        # Compute the mean and standard deviation \n",
    "        for _name, _array in cv_results.items():\n",
    "            names.append(_name)\n",
    "            means.append(round(100*_array.mean(), 2))\n",
    "            stds.append(round(100*_array.std(), 2))\n",
    "        # -------------------\n",
    "        # Save the results in a dataframe \n",
    "        _df =  pd.DataFrame([means, stds], columns=names)\n",
    "        columns.extend([name+' mean (%)', name+' std (%)'])\n",
    "        #results = results.join(_df, on=_df.index)\n",
    "        results = results.append(_df)\n",
    "    results.index = columns\n",
    "    print(results)\n",
    "    return results"
   ]
  },
  {
   "cell_type": "code",
   "execution_count": 23,
   "id": "cdf4a1b8-99c3-4674-9ee9-f4f8177d11f8",
   "metadata": {},
   "outputs": [],
   "source": [
    "models = []\n",
    "models.append(('LR', LogisticRegression(max_iter=1000)))\n",
    "models.append(('KNN', KNeighborsClassifier()))\n",
    "models.append(('CART', DecisionTreeClassifier()))\n",
    "models.append(('NB', GaussianNB()))\n",
    "models.append(('SVM', SVC()))\n",
    "models.append(('qsvc', svc))\n",
    "_metrics = ['precision', 'recall', 'f1', 'accuracy',  'matthews_corrcoef','balanced_accuracy']"
   ]
  },
  {
   "cell_type": "code",
   "execution_count": 24,
   "id": "c3d9c241-b0b8-4730-8b2f-58e38c247ec7",
   "metadata": {},
   "outputs": [],
   "source": [
    "df_results = pd.DataFrame()"
   ]
  },
  {
   "cell_type": "code",
   "execution_count": 25,
   "id": "ed9d682b-6c17-452f-9625-adbf9abd8215",
   "metadata": {},
   "outputs": [
    {
     "name": "stderr",
     "output_type": "stream",
     "text": [
      "100%|████████████████████████████████████████████| 6/6 [49:22<00:00, 493.69s/it]"
     ]
    },
    {
     "name": "stdout",
     "output_type": "stream",
     "text": [
      "               fit_time  score_time  test_precision  test_recall  test_f1  \\\n",
      "LR mean (%)        0.08        0.11           77.33        12.08    19.78   \n",
      "LR std (%)         0.03        0.01           20.21         7.66    10.81   \n",
      "KNN mean (%)       0.03        0.20           53.13        32.99    39.18   \n",
      "KNN std (%)        0.01        0.01           16.69        15.74    14.03   \n",
      "CART mean (%)      0.12        0.12           34.65        33.94    33.58   \n",
      "CART std (%)       0.01        0.01           11.17        11.15     8.85   \n",
      "NB mean (%)        0.03        0.11           64.69        29.33    39.30   \n",
      "NB std (%)         0.00        0.00           14.15         9.80     9.75   \n",
      "SVM mean (%)       0.54        0.20           69.51        24.33    34.70   \n",
      "SVM std (%)        0.03        0.01           15.50        11.98    13.28   \n",
      "qsvc mean (%)  24328.93     5290.51            0.00         0.00     0.00   \n",
      "qsvc std (%)     487.18       86.87            0.00         0.00     0.00   \n",
      "\n",
      "               test_accuracy  test_matthews_corrcoef  test_balanced_accuracy  \n",
      "LR mean (%)            78.25                   23.12                   55.38  \n",
      "LR std (%)              5.04                    9.70                    3.61  \n",
      "KNN mean (%)           77.38                   28.70                   62.25  \n",
      "KNN std (%)             5.85                   16.39                    8.00  \n",
      "CART mean (%)          69.38                   14.22                   57.14  \n",
      "CART std (%)            5.31                   11.67                    5.82  \n",
      "NB mean (%)            79.38                   33.01                   62.13  \n",
      "NB std (%)              4.65                   10.61                    4.98  \n",
      "SVM mean (%)           79.62                   31.84                   60.52  \n",
      "SVM std (%)             4.97                   13.04                    5.93  \n",
      "qsvc mean (%)          76.50                    0.00                   50.00  \n",
      "qsvc std (%)            5.15                    0.00                    0.00  \n"
     ]
    },
    {
     "name": "stderr",
     "output_type": "stream",
     "text": [
      "\n"
     ]
    }
   ],
   "source": [
    "df_results = evaluate_ml_model(models, sample_train, label_train, n_fold=10, metric=_metrics)"
   ]
  },
  {
   "cell_type": "code",
   "execution_count": 26,
   "id": "8561d92d-f3ee-4045-b6e5-98097a82f364",
   "metadata": {},
   "outputs": [
    {
     "data": {
      "text/html": [
       "<div>\n",
       "<style scoped>\n",
       "    .dataframe tbody tr th:only-of-type {\n",
       "        vertical-align: middle;\n",
       "    }\n",
       "\n",
       "    .dataframe tbody tr th {\n",
       "        vertical-align: top;\n",
       "    }\n",
       "\n",
       "    .dataframe thead th {\n",
       "        text-align: right;\n",
       "    }\n",
       "</style>\n",
       "<table border=\"1\" class=\"dataframe\">\n",
       "  <thead>\n",
       "    <tr style=\"text-align: right;\">\n",
       "      <th></th>\n",
       "      <th>fit_time</th>\n",
       "      <th>score_time</th>\n",
       "      <th>test_precision</th>\n",
       "      <th>test_recall</th>\n",
       "      <th>test_f1</th>\n",
       "      <th>test_accuracy</th>\n",
       "      <th>test_matthews_corrcoef</th>\n",
       "      <th>test_balanced_accuracy</th>\n",
       "    </tr>\n",
       "  </thead>\n",
       "  <tbody>\n",
       "    <tr>\n",
       "      <th>LR mean (%)</th>\n",
       "      <td>0.08</td>\n",
       "      <td>0.11</td>\n",
       "      <td>77.33</td>\n",
       "      <td>12.08</td>\n",
       "      <td>19.78</td>\n",
       "      <td>78.25</td>\n",
       "      <td>23.12</td>\n",
       "      <td>55.38</td>\n",
       "    </tr>\n",
       "    <tr>\n",
       "      <th>LR std (%)</th>\n",
       "      <td>0.03</td>\n",
       "      <td>0.01</td>\n",
       "      <td>20.21</td>\n",
       "      <td>7.66</td>\n",
       "      <td>10.81</td>\n",
       "      <td>5.04</td>\n",
       "      <td>9.70</td>\n",
       "      <td>3.61</td>\n",
       "    </tr>\n",
       "    <tr>\n",
       "      <th>KNN mean (%)</th>\n",
       "      <td>0.03</td>\n",
       "      <td>0.20</td>\n",
       "      <td>53.13</td>\n",
       "      <td>32.99</td>\n",
       "      <td>39.18</td>\n",
       "      <td>77.38</td>\n",
       "      <td>28.70</td>\n",
       "      <td>62.25</td>\n",
       "    </tr>\n",
       "    <tr>\n",
       "      <th>KNN std (%)</th>\n",
       "      <td>0.01</td>\n",
       "      <td>0.01</td>\n",
       "      <td>16.69</td>\n",
       "      <td>15.74</td>\n",
       "      <td>14.03</td>\n",
       "      <td>5.85</td>\n",
       "      <td>16.39</td>\n",
       "      <td>8.00</td>\n",
       "    </tr>\n",
       "    <tr>\n",
       "      <th>CART mean (%)</th>\n",
       "      <td>0.12</td>\n",
       "      <td>0.12</td>\n",
       "      <td>34.65</td>\n",
       "      <td>33.94</td>\n",
       "      <td>33.58</td>\n",
       "      <td>69.38</td>\n",
       "      <td>14.22</td>\n",
       "      <td>57.14</td>\n",
       "    </tr>\n",
       "    <tr>\n",
       "      <th>CART std (%)</th>\n",
       "      <td>0.01</td>\n",
       "      <td>0.01</td>\n",
       "      <td>11.17</td>\n",
       "      <td>11.15</td>\n",
       "      <td>8.85</td>\n",
       "      <td>5.31</td>\n",
       "      <td>11.67</td>\n",
       "      <td>5.82</td>\n",
       "    </tr>\n",
       "    <tr>\n",
       "      <th>NB mean (%)</th>\n",
       "      <td>0.03</td>\n",
       "      <td>0.11</td>\n",
       "      <td>64.69</td>\n",
       "      <td>29.33</td>\n",
       "      <td>39.30</td>\n",
       "      <td>79.38</td>\n",
       "      <td>33.01</td>\n",
       "      <td>62.13</td>\n",
       "    </tr>\n",
       "    <tr>\n",
       "      <th>NB std (%)</th>\n",
       "      <td>0.00</td>\n",
       "      <td>0.00</td>\n",
       "      <td>14.15</td>\n",
       "      <td>9.80</td>\n",
       "      <td>9.75</td>\n",
       "      <td>4.65</td>\n",
       "      <td>10.61</td>\n",
       "      <td>4.98</td>\n",
       "    </tr>\n",
       "    <tr>\n",
       "      <th>SVM mean (%)</th>\n",
       "      <td>0.54</td>\n",
       "      <td>0.20</td>\n",
       "      <td>69.51</td>\n",
       "      <td>24.33</td>\n",
       "      <td>34.70</td>\n",
       "      <td>79.62</td>\n",
       "      <td>31.84</td>\n",
       "      <td>60.52</td>\n",
       "    </tr>\n",
       "    <tr>\n",
       "      <th>SVM std (%)</th>\n",
       "      <td>0.03</td>\n",
       "      <td>0.01</td>\n",
       "      <td>15.50</td>\n",
       "      <td>11.98</td>\n",
       "      <td>13.28</td>\n",
       "      <td>4.97</td>\n",
       "      <td>13.04</td>\n",
       "      <td>5.93</td>\n",
       "    </tr>\n",
       "    <tr>\n",
       "      <th>qsvc mean (%)</th>\n",
       "      <td>24328.93</td>\n",
       "      <td>5290.51</td>\n",
       "      <td>0.00</td>\n",
       "      <td>0.00</td>\n",
       "      <td>0.00</td>\n",
       "      <td>76.50</td>\n",
       "      <td>0.00</td>\n",
       "      <td>50.00</td>\n",
       "    </tr>\n",
       "    <tr>\n",
       "      <th>qsvc std (%)</th>\n",
       "      <td>487.18</td>\n",
       "      <td>86.87</td>\n",
       "      <td>0.00</td>\n",
       "      <td>0.00</td>\n",
       "      <td>0.00</td>\n",
       "      <td>5.15</td>\n",
       "      <td>0.00</td>\n",
       "      <td>0.00</td>\n",
       "    </tr>\n",
       "  </tbody>\n",
       "</table>\n",
       "</div>"
      ],
      "text/plain": [
       "               fit_time  score_time  test_precision  test_recall  test_f1  \\\n",
       "LR mean (%)        0.08        0.11           77.33        12.08    19.78   \n",
       "LR std (%)         0.03        0.01           20.21         7.66    10.81   \n",
       "KNN mean (%)       0.03        0.20           53.13        32.99    39.18   \n",
       "KNN std (%)        0.01        0.01           16.69        15.74    14.03   \n",
       "CART mean (%)      0.12        0.12           34.65        33.94    33.58   \n",
       "CART std (%)       0.01        0.01           11.17        11.15     8.85   \n",
       "NB mean (%)        0.03        0.11           64.69        29.33    39.30   \n",
       "NB std (%)         0.00        0.00           14.15         9.80     9.75   \n",
       "SVM mean (%)       0.54        0.20           69.51        24.33    34.70   \n",
       "SVM std (%)        0.03        0.01           15.50        11.98    13.28   \n",
       "qsvc mean (%)  24328.93     5290.51            0.00         0.00     0.00   \n",
       "qsvc std (%)     487.18       86.87            0.00         0.00     0.00   \n",
       "\n",
       "               test_accuracy  test_matthews_corrcoef  test_balanced_accuracy  \n",
       "LR mean (%)            78.25                   23.12                   55.38  \n",
       "LR std (%)              5.04                    9.70                    3.61  \n",
       "KNN mean (%)           77.38                   28.70                   62.25  \n",
       "KNN std (%)             5.85                   16.39                    8.00  \n",
       "CART mean (%)          69.38                   14.22                   57.14  \n",
       "CART std (%)            5.31                   11.67                    5.82  \n",
       "NB mean (%)            79.38                   33.01                   62.13  \n",
       "NB std (%)              4.65                   10.61                    4.98  \n",
       "SVM mean (%)           79.62                   31.84                   60.52  \n",
       "SVM std (%)             4.97                   13.04                    5.93  \n",
       "qsvc mean (%)          76.50                    0.00                   50.00  \n",
       "qsvc std (%)            5.15                    0.00                    0.00  "
      ]
     },
     "execution_count": 26,
     "metadata": {},
     "output_type": "execute_result"
    }
   ],
   "source": [
    "df_results"
   ]
  },
  {
   "cell_type": "markdown",
   "id": "3b70b837-4e39-4b65-83ca-8e82fc83efa1",
   "metadata": {},
   "source": [
    "## Pennylane"
   ]
  },
  {
   "cell_type": "code",
   "execution_count": 27,
   "id": "ff1d5656-f2f2-4d96-b210-a75a161cdb39",
   "metadata": {},
   "outputs": [],
   "source": [
    "from pennylane import numpy as np"
   ]
  },
  {
   "cell_type": "code",
   "execution_count": 28,
   "id": "07ec49f5-c401-4c36-aae3-57aad3eaa0ba",
   "metadata": {},
   "outputs": [],
   "source": [
    "# Angle Encoding\n",
    "\n",
    "num_qubits = n_dim\n",
    "\n",
    "dev = qml.device('default.qubit', wires = num_qubits)\n",
    "\n",
    "@qml.qnode(dev)\n",
    "def circuit(parameters, data):\n",
    "    for i in range(num_qubits):\n",
    "        qml.Hadamard(wires = i)\n",
    "    \n",
    "    AngleEmbedding(features = data, wires = range(num_qubits), rotation = 'Y')\n",
    "    \n",
    "    qml.StronglyEntanglingLayers(weights = parameters, wires = range(num_qubits))\n",
    "    \n",
    "    return qml.expval(qml.PauliZ(0))"
   ]
  },
  {
   "cell_type": "code",
   "execution_count": 29,
   "id": "ffcf8fdb-37a0-4b64-b73c-76be553995e8",
   "metadata": {},
   "outputs": [],
   "source": [
    "num_layers = 5\n",
    "weights_init = 0.01 * np.random.randn(num_layers, num_qubits, 3, requires_grad=True)\n",
    "bias_init = np.array(0.0, requires_grad=True)\n",
    "\n",
    "#print(weights_init, bias_init)"
   ]
  },
  {
   "cell_type": "code",
   "execution_count": 30,
   "id": "49568595-37ec-4749-a230-dc4c6dae2500",
   "metadata": {},
   "outputs": [
    {
     "data": {
      "text/plain": [
       "tensor(0.07463944, requires_grad=True)"
      ]
     },
     "execution_count": 30,
     "metadata": {},
     "output_type": "execute_result"
    }
   ],
   "source": [
    "circuit(weights_init, sample_train[0])"
   ]
  },
  {
   "cell_type": "code",
   "execution_count": 31,
   "id": "4febb380-0955-4f05-a872-326cc4e3a27c",
   "metadata": {},
   "outputs": [],
   "source": [
    "def variational_classifier(weights, bias, x):\n",
    "    return circuit(weights, x) + bias"
   ]
  },
  {
   "cell_type": "code",
   "execution_count": 32,
   "id": "c16a1f84-63e5-4fbb-a647-cba6db4c6c4c",
   "metadata": {},
   "outputs": [],
   "source": [
    "def square_loss(labels, predictions):\n",
    "    loss = 0\n",
    "    for l, p in zip(labels, predictions):\n",
    "        loss = loss + (l - p) ** 2\n",
    "\n",
    "    loss = loss / len(labels)\n",
    "    return loss"
   ]
  },
  {
   "cell_type": "code",
   "execution_count": 33,
   "id": "07412a53-c93b-4c73-bd0b-e7e144454435",
   "metadata": {},
   "outputs": [],
   "source": [
    "def accuracy(labels, predictions):\n",
    "\n",
    "    loss = 0\n",
    "    for l, p in zip(labels, predictions):\n",
    "        if abs(l - p) < 1e-5:\n",
    "            loss = loss + 1\n",
    "    loss = loss / len(labels)\n",
    "\n",
    "    return loss"
   ]
  },
  {
   "cell_type": "code",
   "execution_count": 34,
   "id": "1bf0b58e-38f3-4c45-a4d2-3d69af787ba3",
   "metadata": {},
   "outputs": [],
   "source": [
    "def cost(weights, bias, X, Y):\n",
    "    predictions = [variational_classifier(weights, bias, x) for x in X]\n",
    "    return square_loss(Y, predictions)"
   ]
  },
  {
   "cell_type": "code",
   "execution_count": 35,
   "id": "7543fccb-ef55-49cb-8508-5ae8fdfcbc58",
   "metadata": {},
   "outputs": [
    {
     "data": {
      "text/plain": [
       "0    160\n",
       "1     40\n",
       "Name: default.payment.next.month, dtype: int64"
      ]
     },
     "execution_count": 35,
     "metadata": {},
     "output_type": "execute_result"
    }
   ],
   "source": [
    "pd.Series(label_test).value_counts()"
   ]
  },
  {
   "cell_type": "code",
   "execution_count": 36,
   "id": "21ff4aa6-c15b-4a59-a718-67d8da2402dd",
   "metadata": {},
   "outputs": [
    {
     "name": "stdout",
     "output_type": "stream",
     "text": [
      "X = [tensor(-0.39068622, requires_grad=True), tensor(-0.18070349, requires_grad=True)], Y = -1\n",
      "X = [tensor(0.09405912, requires_grad=True), tensor(0.16668751, requires_grad=True)], Y = -1\n",
      "X = [tensor(1.74385517, requires_grad=True), tensor(-0.33009306, requires_grad=True)], Y = -1\n",
      "X = [tensor(-1.55640658, requires_grad=True), tensor(0.76701601, requires_grad=True)], Y =  1\n",
      "X = [tensor(-0.01655657, requires_grad=True), tensor(0.38955782, requires_grad=True)], Y = -1\n"
     ]
    }
   ],
   "source": [
    "Y = np.array(label_train * 2 - np.ones(len(label_train)),requires_grad=True)  # shift label from {0, 1} to {-1, 1}\n",
    "X = np.array(sample_train, requires_grad=True)\n",
    "\n",
    "for i in range(5):\n",
    "    print(\"X = {}, Y = {: d}\".format(list(X[i]), int(Y[i])))"
   ]
  },
  {
   "cell_type": "code",
   "execution_count": 37,
   "id": "074f578a-1984-4814-9070-7b20063c8bd1",
   "metadata": {},
   "outputs": [],
   "source": [
    "opt = AdamOptimizer(stepsize=0.1, beta1=0.9, beta2=0.99, eps=1e-08)\n",
    "batch_size = 10"
   ]
  },
  {
   "cell_type": "code",
   "execution_count": null,
   "id": "a78e0005-464d-46c0-86f4-946291d7586c",
   "metadata": {},
   "outputs": [],
   "source": []
  },
  {
   "cell_type": "code",
   "execution_count": 38,
   "id": "2d31d6a7-74f4-4e63-b1cb-b92bfb610a5a",
   "metadata": {
    "tags": []
   },
   "outputs": [
    {
     "name": "stdout",
     "output_type": "stream",
     "text": [
      "New best\n",
      "Iter:     1 | Cost: 1.0377405 | f1: 0.2709924 \n",
      "New best\n",
      "Iter:     2 | Cost: 0.8436001 | f1: 0.3071672 \n",
      "Iter:     3 | Cost: 0.7082811 | f1: 0.3023256 \n",
      "New best\n",
      "Iter:     4 | Cost: 0.6753058 | f1: 0.3461538 \n",
      "New best\n",
      "Iter:     5 | Cost: 0.6855097 | f1: 0.4087591 \n",
      "Iter:     6 | Cost: 0.6873320 | f1: 0.4083045 \n",
      "New best\n",
      "Iter:     7 | Cost: 0.7280494 | f1: 0.4152249 \n",
      "Iter:     8 | Cost: 0.7216149 | f1: 0.4000000 \n",
      "Iter:     9 | Cost: 0.7243142 | f1: 0.3985240 \n",
      "Iter:    10 | Cost: 0.7457690 | f1: 0.3924528 \n",
      "Iter:    11 | Cost: 0.7713289 | f1: 0.3478261 \n",
      "Iter:    12 | Cost: 0.7969042 | f1: 0.3037975 \n",
      "Iter:    13 | Cost: 0.8110066 | f1: 0.3037975 \n",
      "Iter:    14 | Cost: 0.8137326 | f1: 0.2543860 \n",
      "Iter:    15 | Cost: 0.7904915 | f1: 0.2844828 \n",
      "Iter:    16 | Cost: 0.7511756 | f1: 0.3577236 \n",
      "Iter:    17 | Cost: 0.7061483 | f1: 0.3754789 \n",
      "Iter:    18 | Cost: 0.6813411 | f1: 0.4130435 \n",
      "Iter:    19 | Cost: 0.6914920 | f1: 0.4137931 \n",
      "Iter:    20 | Cost: 0.7114406 | f1: 0.4144737 \n",
      "New best\n",
      "Iter:    21 | Cost: 0.7257050 | f1: 0.4180064 \n",
      "Iter:    22 | Cost: 0.7144516 | f1: 0.4117647 \n",
      "Iter:    23 | Cost: 0.6950559 | f1: 0.4161074 \n",
      "Iter:    24 | Cost: 0.6689749 | f1: 0.4109589 \n",
      "Iter:    25 | Cost: 0.6603267 | f1: 0.4166667 \n",
      "New best\n",
      "Iter:    26 | Cost: 0.6505367 | f1: 0.4240283 \n",
      "Iter:    27 | Cost: 0.6493584 | f1: 0.4184397 \n",
      "Iter:    28 | Cost: 0.6574212 | f1: 0.4104478 \n",
      "Iter:    29 | Cost: 0.6727177 | f1: 0.3206107 \n",
      "Iter:    30 | Cost: 0.6957015 | f1: 0.2952030 \n",
      "Iter:    31 | Cost: 0.7028637 | f1: 0.2792453 \n",
      "Iter:    32 | Cost: 0.7030965 | f1: 0.2790698 \n",
      "Iter:    33 | Cost: 0.6999342 | f1: 0.2459016 \n",
      "Iter:    34 | Cost: 0.7001712 | f1: 0.2489270 \n",
      "Iter:    35 | Cost: 0.7156523 | f1: 0.2424242 \n",
      "Iter:    36 | Cost: 0.7100280 | f1: 0.2424242 \n",
      "Iter:    37 | Cost: 0.6960148 | f1: 0.2542373 \n",
      "Iter:    38 | Cost: 0.6920257 | f1: 0.2845528 \n",
      "Iter:    39 | Cost: 0.7111705 | f1: 0.3259259 \n",
      "Iter:    40 | Cost: 0.7345788 | f1: 0.3432343 \n",
      "Iter:    41 | Cost: 0.7123059 | f1: 0.3611111 \n",
      "Iter:    42 | Cost: 0.6786091 | f1: 0.3636364 \n",
      "Iter:    43 | Cost: 0.6677156 | f1: 0.2868852 \n",
      "Iter:    44 | Cost: 0.6833680 | f1: 0.2510460 \n",
      "Iter:    45 | Cost: 0.7015315 | f1: 0.2983871 \n",
      "Iter:    46 | Cost: 0.7090664 | f1: 0.3712121 \n",
      "Iter:    47 | Cost: 0.7024439 | f1: 0.3759398 \n",
      "Iter:    48 | Cost: 0.6980996 | f1: 0.3849057 \n",
      "Iter:    49 | Cost: 0.6948522 | f1: 0.3895131 \n",
      "Iter:    50 | Cost: 0.6934059 | f1: 0.3925926 \n",
      "Iter:    51 | Cost: 0.6904941 | f1: 0.3870968 \n",
      "Iter:    52 | Cost: 0.6867702 | f1: 0.3917526 \n",
      "Iter:    53 | Cost: 0.6854901 | f1: 0.3812709 \n",
      "Iter:    54 | Cost: 0.7082758 | f1: 0.3788820 \n",
      "Iter:    55 | Cost: 0.7587915 | f1: 0.3988270 \n",
      "Iter:    56 | Cost: 0.8644491 | f1: 0.4000000 \n",
      "Iter:    57 | Cost: 0.8460528 | f1: 0.3897912 \n",
      "Iter:    58 | Cost: 0.7862064 | f1: 0.3852243 \n",
      "Iter:    59 | Cost: 0.7743276 | f1: 0.3820225 \n",
      "Iter:    60 | Cost: 0.7527225 | f1: 0.3738872 \n",
      "Iter:    61 | Cost: 0.7246822 | f1: 0.3768997 \n",
      "Iter:    62 | Cost: 0.7014374 | f1: 0.3726708 \n",
      "Iter:    63 | Cost: 0.6771223 | f1: 0.3892617 \n",
      "Iter:    64 | Cost: 0.6577717 | f1: 0.4055944 \n",
      "Iter:    65 | Cost: 0.6485037 | f1: 0.4056940 \n",
      "Iter:    66 | Cost: 0.6634088 | f1: 0.4221453 \n",
      "New best\n",
      "Iter:    67 | Cost: 0.7085671 | f1: 0.4367089 \n",
      "Iter:    68 | Cost: 0.7675694 | f1: 0.4141689 \n",
      "Iter:    69 | Cost: 0.7806182 | f1: 0.4166667 \n",
      "Iter:    70 | Cost: 0.7802390 | f1: 0.4186047 \n",
      "New best\n",
      "Iter:    71 | Cost: 0.7324453 | f1: 0.4451039 \n",
      "New best\n",
      "Iter:    72 | Cost: 0.6821360 | f1: 0.4473684 \n",
      "Iter:    73 | Cost: 0.6648638 | f1: 0.4246575 \n",
      "Iter:    74 | Cost: 0.6572434 | f1: 0.4195804 \n",
      "Iter:    75 | Cost: 0.6534772 | f1: 0.4195804 \n",
      "Iter:    76 | Cost: 0.6512886 | f1: 0.4240283 \n",
      "Iter:    77 | Cost: 0.6526741 | f1: 0.4240283 \n",
      "Iter:    78 | Cost: 0.6562653 | f1: 0.4265734 \n",
      "Iter:    79 | Cost: 0.6639192 | f1: 0.4192440 \n",
      "Iter:    80 | Cost: 0.6834869 | f1: 0.4104235 \n",
      "Iter:    81 | Cost: 0.7018081 | f1: 0.4097859 \n",
      "Iter:    82 | Cost: 0.7284868 | f1: 0.4235925 \n",
      "Iter:    83 | Cost: 0.7813570 | f1: 0.4101266 \n",
      "Iter:    84 | Cost: 0.8019782 | f1: 0.4079602 \n",
      "Iter:    85 | Cost: 0.7995742 | f1: 0.4129353 \n",
      "Iter:    86 | Cost: 0.7645281 | f1: 0.4081633 \n",
      "Iter:    87 | Cost: 0.7343076 | f1: 0.4000000 \n",
      "Iter:    88 | Cost: 0.7168491 | f1: 0.3929619 \n",
      "Iter:    89 | Cost: 0.7078527 | f1: 0.3815385 \n",
      "Iter:    90 | Cost: 0.7153892 | f1: 0.3833866 \n",
      "Iter:    91 | Cost: 0.7302758 | f1: 0.3828383 \n",
      "Iter:    92 | Cost: 0.7428268 | f1: 0.3789474 \n",
      "Iter:    93 | Cost: 0.7529876 | f1: 0.3695652 \n",
      "Iter:    94 | Cost: 0.7512797 | f1: 0.3773585 \n",
      "Iter:    95 | Cost: 0.7400705 | f1: 0.3787879 \n",
      "Iter:    96 | Cost: 0.7173256 | f1: 0.3820225 \n",
      "Iter:    97 | Cost: 0.7008866 | f1: 0.3911439 \n",
      "Iter:    98 | Cost: 0.6826001 | f1: 0.3851852 \n",
      "Iter:    99 | Cost: 0.6696271 | f1: 0.4014599 \n",
      "Iter:   100 | Cost: 0.6738102 | f1: 0.4100719 \n",
      "Iter:   101 | Cost: 0.6938667 | f1: 0.3914591 \n",
      "Iter:   102 | Cost: 0.6972469 | f1: 0.3870968 \n",
      "Iter:   103 | Cost: 0.6876485 | f1: 0.3731343 \n",
      "Iter:   104 | Cost: 0.6815478 | f1: 0.3636364 \n",
      "Iter:   105 | Cost: 0.6824311 | f1: 0.3664122 \n",
      "Iter:   106 | Cost: 0.6796532 | f1: 0.3664122 \n",
      "Iter:   107 | Cost: 0.6801948 | f1: 0.3664122 \n",
      "Iter:   108 | Cost: 0.6817517 | f1: 0.3664122 \n",
      "Iter:   109 | Cost: 0.6769960 | f1: 0.3664122 \n",
      "Iter:   110 | Cost: 0.6719243 | f1: 0.3664122 \n",
      "Iter:   111 | Cost: 0.6713588 | f1: 0.3712121 \n",
      "Iter:   112 | Cost: 0.6766086 | f1: 0.3726236 \n",
      "Iter:   113 | Cost: 0.6584899 | f1: 0.3629344 \n",
      "Iter:   114 | Cost: 0.6509993 | f1: 0.3643411 \n",
      "Iter:   115 | Cost: 0.6451160 | f1: 0.3706564 \n",
      "Iter:   116 | Cost: 0.6529662 | f1: 0.3692308 \n",
      "Iter:   117 | Cost: 0.6660803 | f1: 0.3692308 \n",
      "Iter:   118 | Cost: 0.6782895 | f1: 0.3692308 \n",
      "Iter:   119 | Cost: 0.6875931 | f1: 0.3720930 \n",
      "Iter:   120 | Cost: 0.6887715 | f1: 0.3720930 \n",
      "Iter:   121 | Cost: 0.6862201 | f1: 0.3720930 \n",
      "Iter:   122 | Cost: 0.6798759 | f1: 0.3657588 \n",
      "Iter:   123 | Cost: 0.6695941 | f1: 0.3769231 \n",
      "Iter:   124 | Cost: 0.6514782 | f1: 0.3726236 \n",
      "Iter:   125 | Cost: 0.6422465 | f1: 0.3866171 \n",
      "Iter:   126 | Cost: 0.6409754 | f1: 0.4100719 \n",
      "Iter:   127 | Cost: 0.6463917 | f1: 0.4214286 \n",
      "Iter:   128 | Cost: 0.6564297 | f1: 0.4199288 \n",
      "Iter:   129 | Cost: 0.6642871 | f1: 0.4169611 \n",
      "Iter:   130 | Cost: 0.6734700 | f1: 0.4199288 \n",
      "Iter:   131 | Cost: 0.6847836 | f1: 0.4214286 \n",
      "Iter:   132 | Cost: 0.6967171 | f1: 0.4130435 \n",
      "Iter:   133 | Cost: 0.7149092 | f1: 0.3897059 \n",
      "Iter:   134 | Cost: 0.7213060 | f1: 0.3787879 \n",
      "Iter:   135 | Cost: 0.7131024 | f1: 0.3726236 \n",
      "Iter:   136 | Cost: 0.6871504 | f1: 0.4000000 \n",
      "Iter:   137 | Cost: 0.6677594 | f1: 0.4100719 \n",
      "Iter:   138 | Cost: 0.6567267 | f1: 0.4100719 \n",
      "Iter:   139 | Cost: 0.6523289 | f1: 0.4113475 \n",
      "Iter:   140 | Cost: 0.6507754 | f1: 0.4086022 \n",
      "Iter:   141 | Cost: 0.6465825 | f1: 0.4100719 \n",
      "Iter:   142 | Cost: 0.6429526 | f1: 0.4115523 \n",
      "Iter:   143 | Cost: 0.6434702 | f1: 0.4057971 \n",
      "Iter:   144 | Cost: 0.6483913 | f1: 0.4057971 \n",
      "Iter:   145 | Cost: 0.6532203 | f1: 0.3895131 \n",
      "Iter:   146 | Cost: 0.6564455 | f1: 0.4014870 \n",
      "Iter:   147 | Cost: 0.6653766 | f1: 0.3955224 \n",
      "Iter:   148 | Cost: 0.6705504 | f1: 0.4044944 \n",
      "Iter:   149 | Cost: 0.6769649 | f1: 0.4102564 \n",
      "Iter:   150 | Cost: 0.6852067 | f1: 0.4043321 \n"
     ]
    }
   ],
   "source": [
    "weights = weights_init\n",
    "bias = bias_init\n",
    "\n",
    "wbest = 0\n",
    "bbest = 0\n",
    "abest = 0\n",
    "ccost = 0 \n",
    "for it in range(150):\n",
    "\n",
    "    # weights update by one optimizer step\n",
    "\n",
    "    batch_index = np.random.randint(0, len(X), (batch_size,))\n",
    "    X_batch = X[batch_index]\n",
    "    Y_batch = Y[batch_index]\n",
    "    weights, bias, _, _ = opt.step(cost, weights, bias, X_batch, Y_batch)\n",
    "\n",
    "    # Compute the accuracy\n",
    "    predictions = [np.sign(variational_classifier(weights, bias, x)) for x in X]\n",
    "    \n",
    "    '''if accuracy(Y, predictions) > abest:\n",
    "        wbest = weights\n",
    "        bbest = bias\n",
    "        abest = accuracy(Y, predictions)\n",
    "        print('New best')\n",
    "\n",
    "    acc = accuracy(Y, predictions)\n",
    "\n",
    "    print(\n",
    "        \"Iter: {:5d} | Cost: {:0.7f} | Accuracy: {:0.7f} \".format(\n",
    "            it + 1, cost(weights, bias, X, Y), acc\n",
    "        )\n",
    "    )'''\n",
    "    prec = metrics.f1_score(Y, predictions, average='binary', pos_label=1)\n",
    "    if  prec > abest or ((prec == abest) and (cost(weights, bias, X, Y) < ccost)):\n",
    "        wbest = weights\n",
    "        bbest = bias\n",
    "        abest = prec\n",
    "        ccost = cost(weights, bias, X, Y)\n",
    "        print('New best')\n",
    "    #prec = metrics.precision_score(Y, predictions, average='binary')\n",
    "    print(\n",
    "        \"Iter: {:5d} | Cost: {:0.7f} | f1: {:0.7f} \".format(\n",
    "            it + 1, cost(weights, bias, X, Y), prec\n",
    "        )\n",
    "    )\n",
    "    \n",
    "    "
   ]
  },
  {
   "cell_type": "code",
   "execution_count": 39,
   "id": "ee2dceeb-5b76-4ec7-9ebb-efb9e562cf8a",
   "metadata": {},
   "outputs": [],
   "source": [
    "Yte = np.array(label_test * 2 - np.ones(len(label_test)))\n",
    "Xte = np.array(normalize(sample_test))"
   ]
  },
  {
   "cell_type": "code",
   "execution_count": 40,
   "id": "03ecd991-b560-4868-9e42-1dcfe09d58ac",
   "metadata": {},
   "outputs": [
    {
     "data": {
      "text/plain": [
       "-1.0    160\n",
       " 1.0     40\n",
       "dtype: int64"
      ]
     },
     "execution_count": 40,
     "metadata": {},
     "output_type": "execute_result"
    }
   ],
   "source": [
    "pd.Series(Yte).value_counts()"
   ]
  },
  {
   "cell_type": "code",
   "execution_count": 41,
   "id": "4416ed73-4c7d-44e3-a539-9dba3191327d",
   "metadata": {},
   "outputs": [
    {
     "name": "stdout",
     "output_type": "stream",
     "text": [
      "Cost: 0.6596831537318946, Accuracy: 72.0%\n"
     ]
    }
   ],
   "source": [
    "predictions = [np.sign(variational_classifier(wbest, bbest, x)) for x in Xte]\n",
    "pred = [np.sign(variational_classifier(wbest, bbest, x)) for x in X]\n",
    "acc = accuracy(Yte, predictions)\n",
    "\n",
    "print(f'Cost: {cost(wbest, bbest, Xte, Yte)}, Accuracy: {np.round(acc, 2) * 100}%')"
   ]
  },
  {
   "cell_type": "code",
   "execution_count": 42,
   "id": "8c50c097-603d-439b-84a9-cd649bcbeaa1",
   "metadata": {},
   "outputs": [
    {
     "name": "stdout",
     "output_type": "stream",
     "text": [
      "              precision    recall  f1-score   support\n",
      "\n",
      "        -1.0       0.84      0.81      0.83       160\n",
      "         1.0       0.33      0.38      0.35        40\n",
      "\n",
      "    accuracy                           0.73       200\n",
      "   macro avg       0.59      0.59      0.59       200\n",
      "weighted avg       0.74      0.72      0.73       200\n",
      "\n"
     ]
    }
   ],
   "source": [
    "print(metrics.classification_report(Yte,predictions))"
   ]
  },
  {
   "cell_type": "code",
   "execution_count": 43,
   "id": "dcedeada-a82f-4e82-b738-6a862dc801c8",
   "metadata": {},
   "outputs": [
    {
     "name": "stdout",
     "output_type": "stream",
     "text": [
      "\n",
      "\n",
      "    Precision: 37.5%\n",
      "    Recall: 33.33%\n",
      "    f1: 35.29%\n",
      "    Accuracy: 72.5%\n",
      "    Matthew corcorref: 17.96%\n",
      "    Balanced accuracy: 58.6%\n",
      "    \n"
     ]
    }
   ],
   "source": [
    "print(f'''\n",
    "\n",
    "    Precision: {round(100*metrics.precision_score(predictions,Yte),2)}%\n",
    "    Recall: {round(100*metrics.recall_score(predictions,Yte),2)}%\n",
    "    f1: {round(100*metrics.f1_score(predictions,Yte),2)}%\n",
    "    Accuracy: {round(100*metrics.accuracy_score(predictions,Yte),2)}%\n",
    "    Matthew corcorref: {round(100*metrics.matthews_corrcoef(predictions,Yte),2)}%\n",
    "    Balanced accuracy: {round(100*metrics.balanced_accuracy_score(predictions,Yte),2)}%\n",
    "    ''')"
   ]
  },
  {
   "cell_type": "code",
   "execution_count": 44,
   "id": "77acf9e4-6362-4daa-829c-a5c70138be5c",
   "metadata": {
    "tags": []
   },
   "outputs": [
    {
     "name": "stdout",
     "output_type": "stream",
     "text": [
      "New best\n",
      "Iter:     1 | Cost: 0.9704825 | Accuracy: 0.6837500 \n",
      "New best\n",
      "Iter:     2 | Cost: 0.9061978 | Accuracy: 0.7287500 \n",
      "New best\n",
      "Iter:     3 | Cost: 0.8109473 | Accuracy: 0.7675000 \n",
      "New best\n",
      "Iter:     4 | Cost: 0.7620751 | Accuracy: 0.7737500 \n",
      "Iter:     5 | Cost: 0.7626517 | Accuracy: 0.7712500 \n",
      "Iter:     6 | Cost: 0.7759584 | Accuracy: 0.7725000 \n",
      "New best\n",
      "Iter:     7 | Cost: 0.7870926 | Accuracy: 0.7775000 \n",
      "New best\n",
      "Iter:     8 | Cost: 0.7953279 | Accuracy: 0.7812500 \n",
      "New best\n",
      "Iter:     9 | Cost: 0.7899940 | Accuracy: 0.7875000 \n",
      "New best\n",
      "Iter:    10 | Cost: 0.7661932 | Accuracy: 0.7962500 \n",
      "Iter:    11 | Cost: 0.7139245 | Accuracy: 0.7950000 \n",
      "New best\n",
      "Iter:    12 | Cost: 0.6770194 | Accuracy: 0.7962500 \n",
      "Iter:    13 | Cost: 0.7016225 | Accuracy: 0.7787500 \n",
      "Iter:    14 | Cost: 0.7375408 | Accuracy: 0.7737500 \n",
      "Iter:    15 | Cost: 0.7144126 | Accuracy: 0.7762500 \n",
      "Iter:    16 | Cost: 0.6924015 | Accuracy: 0.7862500 \n",
      "Iter:    17 | Cost: 0.6851140 | Accuracy: 0.7687500 \n",
      "Iter:    18 | Cost: 0.7103224 | Accuracy: 0.7400000 \n",
      "Iter:    19 | Cost: 0.7536561 | Accuracy: 0.7425000 \n",
      "Iter:    20 | Cost: 0.7854349 | Accuracy: 0.7412500 \n",
      "Iter:    21 | Cost: 0.7835886 | Accuracy: 0.7412500 \n",
      "Iter:    22 | Cost: 0.7619741 | Accuracy: 0.7637500 \n",
      "Iter:    23 | Cost: 0.7485770 | Accuracy: 0.7937500 \n",
      "Iter:    24 | Cost: 0.7604096 | Accuracy: 0.7950000 \n",
      "Iter:    25 | Cost: 0.7599579 | Accuracy: 0.7887500 \n",
      "Iter:    26 | Cost: 0.7541848 | Accuracy: 0.7887500 \n",
      "Iter:    27 | Cost: 0.7375096 | Accuracy: 0.7887500 \n",
      "Iter:    28 | Cost: 0.7158711 | Accuracy: 0.7900000 \n",
      "Iter:    29 | Cost: 0.6863947 | Accuracy: 0.7925000 \n",
      "New best\n",
      "Iter:    30 | Cost: 0.6628229 | Accuracy: 0.7975000 \n",
      "New best\n",
      "Iter:    31 | Cost: 0.6729913 | Accuracy: 0.7987500 \n",
      "Iter:    32 | Cost: 0.7315702 | Accuracy: 0.7425000 \n",
      "Iter:    33 | Cost: 0.7548336 | Accuracy: 0.7337500 \n",
      "Iter:    34 | Cost: 0.7636528 | Accuracy: 0.7350000 \n",
      "Iter:    35 | Cost: 0.7700093 | Accuracy: 0.7375000 \n",
      "Iter:    36 | Cost: 0.7664141 | Accuracy: 0.7387500 \n",
      "Iter:    37 | Cost: 0.7856236 | Accuracy: 0.7362500 \n",
      "Iter:    38 | Cost: 0.7818926 | Accuracy: 0.7362500 \n",
      "Iter:    39 | Cost: 0.7498347 | Accuracy: 0.7387500 \n",
      "Iter:    40 | Cost: 0.7036155 | Accuracy: 0.7387500 \n",
      "Iter:    41 | Cost: 0.6658375 | Accuracy: 0.7612500 \n",
      "New best\n",
      "Iter:    42 | Cost: 0.6538058 | Accuracy: 0.7987500 \n",
      "Iter:    43 | Cost: 0.6791957 | Accuracy: 0.7850000 \n",
      "Iter:    44 | Cost: 0.7168192 | Accuracy: 0.7787500 \n",
      "Iter:    45 | Cost: 0.7434917 | Accuracy: 0.7787500 \n",
      "Iter:    46 | Cost: 0.7608133 | Accuracy: 0.7662500 \n",
      "Iter:    47 | Cost: 0.7631242 | Accuracy: 0.7587500 \n",
      "Iter:    48 | Cost: 0.7468436 | Accuracy: 0.7625000 \n",
      "Iter:    49 | Cost: 0.7091643 | Accuracy: 0.7775000 \n",
      "Iter:    50 | Cost: 0.6913290 | Accuracy: 0.7825000 \n",
      "Iter:    51 | Cost: 0.6971641 | Accuracy: 0.7812500 \n",
      "Iter:    52 | Cost: 0.7097706 | Accuracy: 0.7775000 \n",
      "Iter:    53 | Cost: 0.7216819 | Accuracy: 0.7862500 \n",
      "Iter:    54 | Cost: 0.7193807 | Accuracy: 0.7925000 \n",
      "Iter:    55 | Cost: 0.7089102 | Accuracy: 0.7900000 \n",
      "Iter:    56 | Cost: 0.6997497 | Accuracy: 0.7937500 \n",
      "Iter:    57 | Cost: 0.6890186 | Accuracy: 0.7862500 \n",
      "Iter:    58 | Cost: 0.6767388 | Accuracy: 0.7850000 \n",
      "Iter:    59 | Cost: 0.7422735 | Accuracy: 0.7637500 \n",
      "Iter:    60 | Cost: 0.7984802 | Accuracy: 0.7637500 \n",
      "Iter:    61 | Cost: 0.7519082 | Accuracy: 0.7712500 \n",
      "Iter:    62 | Cost: 0.6614532 | Accuracy: 0.7900000 \n",
      "Iter:    63 | Cost: 0.6444433 | Accuracy: 0.7887500 \n",
      "Iter:    64 | Cost: 0.6640985 | Accuracy: 0.7987500 \n",
      "Iter:    65 | Cost: 0.6664880 | Accuracy: 0.7825000 \n",
      "Iter:    66 | Cost: 0.6632295 | Accuracy: 0.7850000 \n",
      "Iter:    67 | Cost: 0.6718382 | Accuracy: 0.7812500 \n",
      "Iter:    68 | Cost: 0.6841297 | Accuracy: 0.7825000 \n",
      "Iter:    69 | Cost: 0.7002093 | Accuracy: 0.7850000 \n",
      "Iter:    70 | Cost: 0.7188347 | Accuracy: 0.7900000 \n",
      "Iter:    71 | Cost: 0.7285226 | Accuracy: 0.7900000 \n",
      "Iter:    72 | Cost: 0.7389487 | Accuracy: 0.7900000 \n",
      "Iter:    73 | Cost: 0.7338366 | Accuracy: 0.7900000 \n",
      "Iter:    74 | Cost: 0.7280050 | Accuracy: 0.7900000 \n",
      "Iter:    75 | Cost: 0.7217514 | Accuracy: 0.7887500 \n",
      "Iter:    76 | Cost: 0.7149124 | Accuracy: 0.7925000 \n",
      "Iter:    77 | Cost: 0.7081510 | Accuracy: 0.7875000 \n",
      "Iter:    78 | Cost: 0.7001123 | Accuracy: 0.7850000 \n",
      "Iter:    79 | Cost: 0.6946747 | Accuracy: 0.7875000 \n",
      "Iter:    80 | Cost: 0.6924257 | Accuracy: 0.7875000 \n",
      "Iter:    81 | Cost: 0.6857456 | Accuracy: 0.7887500 \n",
      "Iter:    82 | Cost: 0.6789355 | Accuracy: 0.7887500 \n",
      "Iter:    83 | Cost: 0.6705695 | Accuracy: 0.7950000 \n",
      "Iter:    84 | Cost: 0.6588859 | Accuracy: 0.7962500 \n",
      "Iter:    85 | Cost: 0.6517526 | Accuracy: 0.7887500 \n",
      "Iter:    86 | Cost: 0.6593945 | Accuracy: 0.7762500 \n",
      "Iter:    87 | Cost: 0.6793904 | Accuracy: 0.7575000 \n",
      "Iter:    88 | Cost: 0.7075254 | Accuracy: 0.7437500 \n",
      "Iter:    89 | Cost: 0.7226095 | Accuracy: 0.7412500 \n",
      "Iter:    90 | Cost: 0.7389843 | Accuracy: 0.7400000 \n",
      "Iter:    91 | Cost: 0.7363257 | Accuracy: 0.7400000 \n",
      "Iter:    92 | Cost: 0.7285199 | Accuracy: 0.7375000 \n",
      "Iter:    93 | Cost: 0.7262321 | Accuracy: 0.7325000 \n",
      "Iter:    94 | Cost: 0.7041902 | Accuracy: 0.7425000 \n",
      "Iter:    95 | Cost: 0.6973511 | Accuracy: 0.7762500 \n",
      "Iter:    96 | Cost: 0.6987121 | Accuracy: 0.7812500 \n",
      "Iter:    97 | Cost: 0.7094924 | Accuracy: 0.7775000 \n",
      "Iter:    98 | Cost: 0.7147048 | Accuracy: 0.7787500 \n",
      "Iter:    99 | Cost: 0.7223660 | Accuracy: 0.7737500 \n",
      "Iter:   100 | Cost: 0.7155518 | Accuracy: 0.7762500 \n",
      "Iter:   101 | Cost: 0.7036484 | Accuracy: 0.7812500 \n",
      "Iter:   102 | Cost: 0.6924116 | Accuracy: 0.7825000 \n",
      "Iter:   103 | Cost: 0.6795914 | Accuracy: 0.7862500 \n",
      "Iter:   104 | Cost: 0.6683575 | Accuracy: 0.7925000 \n",
      "Iter:   105 | Cost: 0.6624127 | Accuracy: 0.7937500 \n",
      "Iter:   106 | Cost: 0.6671175 | Accuracy: 0.7837500 \n",
      "Iter:   107 | Cost: 0.6763090 | Accuracy: 0.7800000 \n",
      "Iter:   108 | Cost: 0.6833493 | Accuracy: 0.7700000 \n",
      "Iter:   109 | Cost: 0.6917573 | Accuracy: 0.7500000 \n",
      "Iter:   110 | Cost: 0.7049443 | Accuracy: 0.7337500 \n",
      "Iter:   111 | Cost: 0.7232812 | Accuracy: 0.7262500 \n",
      "Iter:   112 | Cost: 0.7729056 | Accuracy: 0.7112500 \n",
      "Iter:   113 | Cost: 0.8312344 | Accuracy: 0.6775000 \n",
      "Iter:   114 | Cost: 0.8572863 | Accuracy: 0.6587500 \n",
      "Iter:   115 | Cost: 0.8469261 | Accuracy: 0.6712500 \n",
      "Iter:   116 | Cost: 0.8004449 | Accuracy: 0.7100000 \n",
      "Iter:   117 | Cost: 0.7655079 | Accuracy: 0.7150000 \n",
      "Iter:   118 | Cost: 0.7489139 | Accuracy: 0.7200000 \n",
      "Iter:   119 | Cost: 0.7463152 | Accuracy: 0.7600000 \n",
      "Iter:   120 | Cost: 0.7441666 | Accuracy: 0.7787500 \n",
      "Iter:   121 | Cost: 0.7367905 | Accuracy: 0.7850000 \n",
      "Iter:   122 | Cost: 0.7260823 | Accuracy: 0.7937500 \n",
      "Iter:   123 | Cost: 0.7131680 | Accuracy: 0.7975000 \n",
      "Iter:   124 | Cost: 0.7049369 | Accuracy: 0.7937500 \n",
      "Iter:   125 | Cost: 0.6958857 | Accuracy: 0.7937500 \n",
      "Iter:   126 | Cost: 0.6878830 | Accuracy: 0.7962500 \n",
      "Iter:   127 | Cost: 0.6840597 | Accuracy: 0.7925000 \n",
      "Iter:   128 | Cost: 0.6826017 | Accuracy: 0.7850000 \n",
      "Iter:   129 | Cost: 0.6849800 | Accuracy: 0.7850000 \n",
      "Iter:   130 | Cost: 0.6965380 | Accuracy: 0.7837500 \n",
      "Iter:   131 | Cost: 0.7043688 | Accuracy: 0.7837500 \n",
      "Iter:   132 | Cost: 0.7051012 | Accuracy: 0.7825000 \n",
      "Iter:   133 | Cost: 0.7079171 | Accuracy: 0.7825000 \n",
      "Iter:   134 | Cost: 0.7070739 | Accuracy: 0.7837500 \n",
      "Iter:   135 | Cost: 0.7036570 | Accuracy: 0.7825000 \n",
      "Iter:   136 | Cost: 0.6999123 | Accuracy: 0.7825000 \n",
      "Iter:   137 | Cost: 0.7011263 | Accuracy: 0.7825000 \n",
      "Iter:   138 | Cost: 0.6946146 | Accuracy: 0.7812500 \n",
      "Iter:   139 | Cost: 0.6844924 | Accuracy: 0.7787500 \n",
      "Iter:   140 | Cost: 0.6789146 | Accuracy: 0.7825000 \n",
      "Iter:   141 | Cost: 0.6768201 | Accuracy: 0.7812500 \n",
      "Iter:   142 | Cost: 0.6819012 | Accuracy: 0.7837500 \n",
      "Iter:   143 | Cost: 0.6923455 | Accuracy: 0.7850000 \n",
      "Iter:   144 | Cost: 0.7064000 | Accuracy: 0.7912500 \n",
      "Iter:   145 | Cost: 0.7164091 | Accuracy: 0.7925000 \n",
      "Iter:   146 | Cost: 0.7223160 | Accuracy: 0.7925000 \n",
      "Iter:   147 | Cost: 0.7195528 | Accuracy: 0.7912500 \n",
      "Iter:   148 | Cost: 0.7055251 | Accuracy: 0.7925000 \n",
      "Iter:   149 | Cost: 0.6932840 | Accuracy: 0.7962500 \n",
      "Iter:   150 | Cost: 0.6801622 | Accuracy: 0.7925000 \n"
     ]
    }
   ],
   "source": [
    "weights = weights_init\n",
    "bias = bias_init\n",
    "\n",
    "wbest = 0\n",
    "bbest = 0\n",
    "abest = 0\n",
    "ccost = 1 \n",
    "for it in range(150):\n",
    "\n",
    "    # weights update by one optimizer step\n",
    "\n",
    "    batch_index = np.random.randint(0, len(X), (batch_size,))\n",
    "    X_batch = X[batch_index]\n",
    "    Y_batch = Y[batch_index]\n",
    "    weights, bias, _, _ = opt.step(cost, weights, bias, X_batch, Y_batch)\n",
    "\n",
    "    # Compute the accuracy\n",
    "    predictions = [np.sign(variational_classifier(weights, bias, x)) for x in X]\n",
    "    \n",
    "    '''if accuracy(Y, predictions) > abest:\n",
    "        wbest = weights\n",
    "        bbest = bias\n",
    "        abest = accuracy(Y, predictions)\n",
    "        print('New best')\n",
    "\n",
    "    acc = accuracy(Y, predictions)\n",
    "\n",
    "    print(\n",
    "        \"Iter: {:5d} | Cost: {:0.7f} | Accuracy: {:0.7f} \".format(\n",
    "            it + 1, cost(weights, bias, X, Y), acc\n",
    "        )\n",
    "    )'''\n",
    "    prec = accuracy(Y, predictions)\n",
    "    if  prec > abest or ((prec == abest) and (cost(weights, bias, X, Y) < ccost)):\n",
    "        wbest = weights\n",
    "        bbest = bias\n",
    "        abest = prec\n",
    "        ccost = cost(weights, bias, X, Y)\n",
    "        print('New best')\n",
    "    #prec = metrics.precision_score(Y, predictions, average='binary')\n",
    "    print(\n",
    "        \"Iter: {:5d} | Cost: {:0.7f} | Accuracy: {:0.7f} \".format(\n",
    "            it + 1, cost(weights, bias, X, Y), prec\n",
    "        )\n",
    "    )\n",
    "    \n",
    "    "
   ]
  },
  {
   "cell_type": "code",
   "execution_count": 45,
   "id": "615e6410-5955-469d-8ccd-32517ba8ec3f",
   "metadata": {},
   "outputs": [
    {
     "name": "stdout",
     "output_type": "stream",
     "text": [
      "Cost: 0.5575790059067254, Accuracy: 80.0%\n"
     ]
    }
   ],
   "source": [
    "predictions = [np.sign(variational_classifier(wbest, bbest, x)) for x in Xte]\n",
    "pred = [np.sign(variational_classifier(wbest, bbest, x)) for x in X]\n",
    "acc = accuracy(Yte, predictions)\n",
    "\n",
    "print(f'Cost: {cost(wbest, bbest, Xte, Yte)}, Accuracy: {np.round(acc, 2) * 100}%')"
   ]
  },
  {
   "cell_type": "code",
   "execution_count": 46,
   "id": "694c231f-ce47-4bdb-be6a-eb1308ebc00e",
   "metadata": {},
   "outputs": [
    {
     "name": "stdout",
     "output_type": "stream",
     "text": [
      "              precision    recall  f1-score   support\n",
      "\n",
      "        -1.0       0.80      1.00      0.89       160\n",
      "         1.0       0.00      0.00      0.00        40\n",
      "\n",
      "    accuracy                           0.80       200\n",
      "   macro avg       0.40      0.50      0.44       200\n",
      "weighted avg       0.64      0.80      0.71       200\n",
      "\n"
     ]
    }
   ],
   "source": [
    "print(metrics.classification_report(Yte, predictions))"
   ]
  },
  {
   "cell_type": "code",
   "execution_count": 47,
   "id": "660c69a6-87da-400e-99ba-739d49627088",
   "metadata": {},
   "outputs": [
    {
     "name": "stdout",
     "output_type": "stream",
     "text": [
      "\n",
      "\n",
      "    Precision: 0.0%\n",
      "    Recall: 0.0%\n",
      "    f1: 0.0%\n",
      "    Accuracy: 80.0%\n",
      "    Balanced accuracy: 80.0%\n",
      "    Matthew corcorref: 0.0%\n",
      "    \n"
     ]
    }
   ],
   "source": [
    "print(f'''\n",
    "\n",
    "    Precision: {round(100*metrics.precision_score(predictions,Yte),2)}%\n",
    "    Recall: {round(100*metrics.recall_score(predictions,Yte),2)}%\n",
    "    f1: {round(100*metrics.f1_score(predictions,Yte),2)}%\n",
    "    Accuracy: {round(100*metrics.accuracy_score(predictions,Yte),2)}%\n",
    "    Balanced accuracy: {round(100*metrics.balanced_accuracy_score(predictions,Yte),2)}%\n",
    "    Matthew corcorref: {round(100*metrics.matthews_corrcoef(predictions,Yte),2)}%\n",
    "    ''')"
   ]
  },
  {
   "cell_type": "code",
   "execution_count": null,
   "id": "5ee63f17-2adf-48b6-9106-fb542ed641d6",
   "metadata": {},
   "outputs": [],
   "source": []
  },
  {
   "cell_type": "code",
   "execution_count": null,
   "id": "b697c8a2-32ea-4488-a4a5-d40c89115e8d",
   "metadata": {},
   "outputs": [],
   "source": []
  },
  {
   "cell_type": "code",
   "execution_count": null,
   "id": "3733572a-30eb-4080-bb3e-7201605149c8",
   "metadata": {},
   "outputs": [],
   "source": []
  },
  {
   "cell_type": "code",
   "execution_count": null,
   "id": "8f19289f-ce71-4aa8-8504-ac6564f69660",
   "metadata": {},
   "outputs": [],
   "source": []
  },
  {
   "cell_type": "code",
   "execution_count": null,
   "id": "984d88c4-592e-44cc-8695-6032b16f7617",
   "metadata": {},
   "outputs": [],
   "source": []
  }
 ],
 "metadata": {
  "kernelspec": {
   "display_name": "Python 3 (ipykernel)",
   "language": "python",
   "name": "python3"
  },
  "language_info": {
   "codemirror_mode": {
    "name": "ipython",
    "version": 3
   },
   "file_extension": ".py",
   "mimetype": "text/x-python",
   "name": "python",
   "nbconvert_exporter": "python",
   "pygments_lexer": "ipython3",
   "version": "3.10.6"
  }
 },
 "nbformat": 4,
 "nbformat_minor": 5
}
