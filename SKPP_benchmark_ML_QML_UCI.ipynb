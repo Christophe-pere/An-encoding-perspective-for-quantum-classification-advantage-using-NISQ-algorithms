{
 "cells": [
  {
   "cell_type": "markdown",
   "id": "d41d3fa6-0ae0-490d-a02b-0dbf81799488",
   "metadata": {},
   "source": [
    "# Quantum benchmark"
   ]
  },
  {
   "cell_type": "markdown",
   "id": "d6011e42-1fab-4f9f-ab99-f4f08607517e",
   "metadata": {},
   "source": [
    "## I - Introduction"
   ]
  },
  {
   "cell_type": "code",
   "execution_count": null,
   "id": "13b4f6b4-240b-4b7f-abe4-4e74b3b8cc8a",
   "metadata": {},
   "outputs": [],
   "source": []
  },
  {
   "cell_type": "markdown",
   "id": "bd5492ce-4f08-4755-b4c2-efd698139101",
   "metadata": {},
   "source": [
    "## II - Packages"
   ]
  },
  {
   "cell_type": "code",
   "execution_count": 1,
   "id": "90371200-0133-46ab-a205-d0f6b8858e55",
   "metadata": {},
   "outputs": [],
   "source": [
    "import pandas as pd\n",
    "import matplotlib.pyplot as plt\n",
    "import numpy as np\n",
    "from sklearn.model_selection import train_test_split\n",
    "from sklearn.preprocessing import StandardScaler\n",
    "from sklearn.decomposition import PCA\n",
    "from sklearn.discriminant_analysis import LinearDiscriminantAnalysis as LDA\n",
    "from sklearn.preprocessing import MinMaxScaler\n",
    "from sklearn.svm import SVC\n",
    "from sklearn import metrics\n",
    "from sklearn.ensemble import RandomForestClassifier\n",
    "from sklearn.linear_model import LogisticRegression\n",
    "from sklearn.tree import DecisionTreeClassifier\n",
    "from sklearn.preprocessing import normalize\n",
    "from sklearn.model_selection import cross_val_score, KFold\n",
    "#Import classical libraries\n",
    "from sklearn.neighbors import KNeighborsClassifier\n",
    "from sklearn.naive_bayes import GaussianNB\n",
    "from sklearn.svm import SVC\n",
    "from sklearn.ensemble import RandomForestClassifier\n",
    "from sklearn.model_selection import train_test_split\n",
    "from sklearn import datasets\n",
    "import matplotlib.pyplot as plt\n",
    "from skpp import ProjectionPursuitRegressor\n",
    "\n",
    "plt.style.use('ggplot')\n",
    "\n",
    "import functools\n",
    "\n",
    "from qiskit import BasicAer\n",
    "from qiskit.circuit.library import ZZFeatureMap\n",
    "from qiskit.utils import QuantumInstance, algorithm_globals\n",
    "from qiskit_machine_learning.algorithms import QSVC\n",
    "from qiskit_machine_learning.kernels import QuantumKernel\n",
    "from qiskit_machine_learning.datasets import ad_hoc_data\n",
    "import logging\n",
    "\n",
    "import pennylane as qml\n",
    "from pennylane.templates.embeddings import AngleEmbedding, AmplitudeEmbedding\n",
    "from pennylane.optimize import AdamOptimizer\n",
    "\n",
    "from qiskit.algorithms.optimizers import COBYLA\n",
    "from qiskit.circuit.library import TwoLocal, ZZFeatureMap\n",
    "import qiskit"
   ]
  },
  {
   "cell_type": "code",
   "execution_count": 2,
   "id": "c4552ad2-d5ac-4904-8e45-eafa355e4594",
   "metadata": {},
   "outputs": [],
   "source": [
    "import warnings\n",
    "warnings.filterwarnings('ignore')"
   ]
  },
  {
   "cell_type": "markdown",
   "id": "1598c94c-fdcf-41cd-a4ea-e262932c7e0f",
   "metadata": {},
   "source": [
    "## III - Data "
   ]
  },
  {
   "cell_type": "code",
   "execution_count": 3,
   "id": "e683f3b5-6021-4eb7-bc53-539a5cd79bfc",
   "metadata": {},
   "outputs": [],
   "source": [
    "# Read out CSV\n",
    "\n",
    "df = pd.read_csv('UCI_Credit_Card.csv', sep=',')"
   ]
  },
  {
   "cell_type": "code",
   "execution_count": 4,
   "id": "bc0eccf2-3599-4e41-9371-fe644e3af6a5",
   "metadata": {},
   "outputs": [
    {
     "data": {
      "text/plain": [
       "Index(['ID', 'LIMIT_BAL', 'SEX', 'EDUCATION', 'MARRIAGE', 'AGE', 'PAY_0',\n",
       "       'PAY_2', 'PAY_3', 'PAY_4', 'PAY_5', 'PAY_6', 'BILL_AMT1', 'BILL_AMT2',\n",
       "       'BILL_AMT3', 'BILL_AMT4', 'BILL_AMT5', 'BILL_AMT6', 'PAY_AMT1',\n",
       "       'PAY_AMT2', 'PAY_AMT3', 'PAY_AMT4', 'PAY_AMT5', 'PAY_AMT6',\n",
       "       'default.payment.next.month'],\n",
       "      dtype='object')"
      ]
     },
     "execution_count": 4,
     "metadata": {},
     "output_type": "execute_result"
    }
   ],
   "source": [
    "df.columns"
   ]
  },
  {
   "cell_type": "code",
   "execution_count": 5,
   "id": "efd59558-d800-4da9-858d-b7bb9801b17f",
   "metadata": {
    "collapsed": true,
    "jupyter": {
     "outputs_hidden": true
    },
    "tags": []
   },
   "outputs": [
    {
     "ename": "KeyError",
     "evalue": "'Unnamed: 0'",
     "output_type": "error",
     "traceback": [
      "\u001b[0;31m---------------------------------------------------------------------------\u001b[0m",
      "\u001b[0;31mKeyError\u001b[0m                                  Traceback (most recent call last)",
      "File \u001b[0;32m/opt/homebrew/lib/python3.10/site-packages/pandas/core/indexes/base.py:3621\u001b[0m, in \u001b[0;36mIndex.get_loc\u001b[0;34m(self, key, method, tolerance)\u001b[0m\n\u001b[1;32m   3620\u001b[0m \u001b[38;5;28;01mtry\u001b[39;00m:\n\u001b[0;32m-> 3621\u001b[0m     \u001b[38;5;28;01mreturn\u001b[39;00m \u001b[38;5;28;43mself\u001b[39;49m\u001b[38;5;241;43m.\u001b[39;49m\u001b[43m_engine\u001b[49m\u001b[38;5;241;43m.\u001b[39;49m\u001b[43mget_loc\u001b[49m\u001b[43m(\u001b[49m\u001b[43mcasted_key\u001b[49m\u001b[43m)\u001b[49m\n\u001b[1;32m   3622\u001b[0m \u001b[38;5;28;01mexcept\u001b[39;00m \u001b[38;5;167;01mKeyError\u001b[39;00m \u001b[38;5;28;01mas\u001b[39;00m err:\n",
      "File \u001b[0;32m/opt/homebrew/lib/python3.10/site-packages/pandas/_libs/index.pyx:136\u001b[0m, in \u001b[0;36mpandas._libs.index.IndexEngine.get_loc\u001b[0;34m()\u001b[0m\n",
      "File \u001b[0;32m/opt/homebrew/lib/python3.10/site-packages/pandas/_libs/index.pyx:163\u001b[0m, in \u001b[0;36mpandas._libs.index.IndexEngine.get_loc\u001b[0;34m()\u001b[0m\n",
      "File \u001b[0;32mpandas/_libs/hashtable_class_helper.pxi:5198\u001b[0m, in \u001b[0;36mpandas._libs.hashtable.PyObjectHashTable.get_item\u001b[0;34m()\u001b[0m\n",
      "File \u001b[0;32mpandas/_libs/hashtable_class_helper.pxi:5206\u001b[0m, in \u001b[0;36mpandas._libs.hashtable.PyObjectHashTable.get_item\u001b[0;34m()\u001b[0m\n",
      "\u001b[0;31mKeyError\u001b[0m: 'Unnamed: 0'",
      "\nThe above exception was the direct cause of the following exception:\n",
      "\u001b[0;31mKeyError\u001b[0m                                  Traceback (most recent call last)",
      "Input \u001b[0;32mIn [5]\u001b[0m, in \u001b[0;36m<cell line: 1>\u001b[0;34m()\u001b[0m\n\u001b[0;32m----> 1\u001b[0m \u001b[43mdf\u001b[49m\u001b[43m[\u001b[49m\u001b[38;5;124;43m'\u001b[39;49m\u001b[38;5;124;43mUnnamed: 0\u001b[39;49m\u001b[38;5;124;43m'\u001b[39;49m\u001b[43m]\u001b[49m\n",
      "File \u001b[0;32m/opt/homebrew/lib/python3.10/site-packages/pandas/core/frame.py:3505\u001b[0m, in \u001b[0;36mDataFrame.__getitem__\u001b[0;34m(self, key)\u001b[0m\n\u001b[1;32m   3503\u001b[0m \u001b[38;5;28;01mif\u001b[39;00m \u001b[38;5;28mself\u001b[39m\u001b[38;5;241m.\u001b[39mcolumns\u001b[38;5;241m.\u001b[39mnlevels \u001b[38;5;241m>\u001b[39m \u001b[38;5;241m1\u001b[39m:\n\u001b[1;32m   3504\u001b[0m     \u001b[38;5;28;01mreturn\u001b[39;00m \u001b[38;5;28mself\u001b[39m\u001b[38;5;241m.\u001b[39m_getitem_multilevel(key)\n\u001b[0;32m-> 3505\u001b[0m indexer \u001b[38;5;241m=\u001b[39m \u001b[38;5;28;43mself\u001b[39;49m\u001b[38;5;241;43m.\u001b[39;49m\u001b[43mcolumns\u001b[49m\u001b[38;5;241;43m.\u001b[39;49m\u001b[43mget_loc\u001b[49m\u001b[43m(\u001b[49m\u001b[43mkey\u001b[49m\u001b[43m)\u001b[49m\n\u001b[1;32m   3506\u001b[0m \u001b[38;5;28;01mif\u001b[39;00m is_integer(indexer):\n\u001b[1;32m   3507\u001b[0m     indexer \u001b[38;5;241m=\u001b[39m [indexer]\n",
      "File \u001b[0;32m/opt/homebrew/lib/python3.10/site-packages/pandas/core/indexes/base.py:3623\u001b[0m, in \u001b[0;36mIndex.get_loc\u001b[0;34m(self, key, method, tolerance)\u001b[0m\n\u001b[1;32m   3621\u001b[0m     \u001b[38;5;28;01mreturn\u001b[39;00m \u001b[38;5;28mself\u001b[39m\u001b[38;5;241m.\u001b[39m_engine\u001b[38;5;241m.\u001b[39mget_loc(casted_key)\n\u001b[1;32m   3622\u001b[0m \u001b[38;5;28;01mexcept\u001b[39;00m \u001b[38;5;167;01mKeyError\u001b[39;00m \u001b[38;5;28;01mas\u001b[39;00m err:\n\u001b[0;32m-> 3623\u001b[0m     \u001b[38;5;28;01mraise\u001b[39;00m \u001b[38;5;167;01mKeyError\u001b[39;00m(key) \u001b[38;5;28;01mfrom\u001b[39;00m \u001b[38;5;21;01merr\u001b[39;00m\n\u001b[1;32m   3624\u001b[0m \u001b[38;5;28;01mexcept\u001b[39;00m \u001b[38;5;167;01mTypeError\u001b[39;00m:\n\u001b[1;32m   3625\u001b[0m     \u001b[38;5;66;03m# If we have a listlike key, _check_indexing_error will raise\u001b[39;00m\n\u001b[1;32m   3626\u001b[0m     \u001b[38;5;66;03m#  InvalidIndexError. Otherwise we fall through and re-raise\u001b[39;00m\n\u001b[1;32m   3627\u001b[0m     \u001b[38;5;66;03m#  the TypeError.\u001b[39;00m\n\u001b[1;32m   3628\u001b[0m     \u001b[38;5;28mself\u001b[39m\u001b[38;5;241m.\u001b[39m_check_indexing_error(key)\n",
      "\u001b[0;31mKeyError\u001b[0m: 'Unnamed: 0'"
     ]
    }
   ],
   "source": [
    "df['Unnamed: 0']"
   ]
  },
  {
   "cell_type": "code",
   "execution_count": 9,
   "id": "10255383-ae13-42c1-8d19-b5cf9eca4d17",
   "metadata": {},
   "outputs": [
    {
     "data": {
      "text/plain": [
       "(20468, 114)"
      ]
     },
     "execution_count": 9,
     "metadata": {},
     "output_type": "execute_result"
    }
   ],
   "source": [
    "df.shape"
   ]
  },
  {
   "cell_type": "code",
   "execution_count": 10,
   "id": "bf69c7f1-b10e-4b54-89ec-89dd5829ac42",
   "metadata": {},
   "outputs": [],
   "source": [
    "%%script false --no-raise-error\n",
    "\n",
    "import sweetviz as sv\n",
    "\n",
    "#EDA using Autoviz\n",
    "sweet_report = sv.analyze(df)\n",
    "\n",
    "#Saving results to HTML file\n",
    "sweet_report.show_html('sweet_report.html')"
   ]
  },
  {
   "cell_type": "markdown",
   "id": "c4ff48fa-d03b-435d-9343-67186c068b34",
   "metadata": {},
   "source": [
    "## IV - Modelisation"
   ]
  },
  {
   "cell_type": "markdown",
   "id": "3dbe1bb7-d7eb-412b-a291-bbeb654766f5",
   "metadata": {},
   "source": [
    "### Classical"
   ]
  },
  {
   "cell_type": "code",
   "execution_count": 6,
   "id": "d7f6037b-3b1c-4a2c-8a9e-df1d432cafa4",
   "metadata": {},
   "outputs": [],
   "source": [
    "df_labels = df['default.payment.next.month']\n",
    "df.drop(['default.payment.next.month'],axis = 1,inplace = True)"
   ]
  },
  {
   "cell_type": "code",
   "execution_count": 7,
   "id": "249ef3a0-7be3-4234-8be6-630db2cd267f",
   "metadata": {},
   "outputs": [],
   "source": [
    "X_train, X_test, y_train, y_test = train_test_split(df, df_labels, test_size=0.2, random_state=42)"
   ]
  },
  {
   "cell_type": "markdown",
   "id": "b1251e3e-c8ed-4e57-a790-1fa8003f8c31",
   "metadata": {},
   "source": [
    "## Quantum Approaches"
   ]
  },
  {
   "cell_type": "code",
   "execution_count": 13,
   "id": "12b4f425-f8b1-40b4-8c3f-4502a9a01a3c",
   "metadata": {},
   "outputs": [
    {
     "data": {
      "text/plain": [
       "array([0, 1])"
      ]
     },
     "execution_count": 13,
     "metadata": {},
     "output_type": "execute_result"
    }
   ],
   "source": [
    "np.unique(df_labels)"
   ]
  },
  {
   "cell_type": "code",
   "execution_count": 16,
   "id": "0dbfa6ef-34cd-4463-8aa3-a20e7a2ddbad",
   "metadata": {},
   "outputs": [
    {
     "data": {
      "text/plain": [
       "(16374, 93)"
      ]
     },
     "execution_count": 16,
     "metadata": {},
     "output_type": "execute_result"
    }
   ],
   "source": [
    "np.shape(X_train)"
   ]
  },
  {
   "cell_type": "code",
   "execution_count": 8,
   "id": "a948c1c2-cb55-49b2-bb4c-c2d2fdca527a",
   "metadata": {},
   "outputs": [],
   "source": [
    "skpp = ProjectionPursuitRegressor(r=2, fit_type='spline', opt_level='medium').fit(X_train, y_train)"
   ]
  },
  {
   "cell_type": "code",
   "execution_count": 9,
   "id": "b921a949-e3bd-45b6-b0e0-a84f96788811",
   "metadata": {},
   "outputs": [],
   "source": [
    "# SKPP validate transformation (using train fit)\n",
    "x_train_skpp = skpp.transform(X_train)\n",
    "x_test_skpp = skpp.transform(X_test)"
   ]
  },
  {
   "cell_type": "code",
   "execution_count": 10,
   "id": "38d2ce7a-6c7e-49d8-8bcc-fd22530bcf2b",
   "metadata": {},
   "outputs": [],
   "source": [
    "# Arrays to dataframe for join in a single df\n",
    "x_train_skpp = pd.DataFrame(x_train_skpp)\n",
    "x_test_skpp = pd.DataFrame(x_test_skpp)"
   ]
  },
  {
   "cell_type": "code",
   "execution_count": 11,
   "id": "bf9d1f27-ae3b-4bc2-90c7-40754d2728bc",
   "metadata": {},
   "outputs": [],
   "source": [
    "# Second standard scaler normalization (using train fit)\n",
    "std_scale = StandardScaler().fit(x_train_skpp)\n",
    "X_train_skpp_norm = std_scale.transform(x_train_skpp)\n",
    "x_test_skpp_norn = std_scale.transform(x_test_skpp)\n",
    "#x_validate_lda_n = std_scale.transform(x_validate_skpp)"
   ]
  },
  {
   "cell_type": "code",
   "execution_count": 12,
   "id": "8920e169-7d06-46a1-b30e-af7eee11539e",
   "metadata": {},
   "outputs": [
    {
     "data": {
      "text/plain": [
       "2"
      ]
     },
     "execution_count": 12,
     "metadata": {},
     "output_type": "execute_result"
    }
   ],
   "source": [
    "# Dimensions definition for QML\n",
    "n_dim = len(x_train_skpp.columns)\n",
    "n_dim"
   ]
  },
  {
   "cell_type": "code",
   "execution_count": 13,
   "id": "3141a967-8c2f-472e-a934-5ad8ac0d9237",
   "metadata": {},
   "outputs": [
    {
     "data": {
      "text/plain": [
       "[<matplotlib.lines.Line2D at 0x287e7cf40>,\n",
       " <matplotlib.lines.Line2D at 0x287e7d090>]"
      ]
     },
     "execution_count": 13,
     "metadata": {},
     "output_type": "execute_result"
    },
    {
     "data": {
      "image/png": "[encoded data removed]",
      "text/plain": [
       "<Figure size 1000x800 with 1 Axes>"
      ]
     },
     "metadata": {},
     "output_type": "display_data"
    }
   ],
   "source": [
    "plt.figure(figsize=(10,8))\n",
    "plt.plot(x_train_skpp, '+')\n"
   ]
  },
  {
   "cell_type": "markdown",
   "id": "bd626d5c-ff6a-443a-9700-10a93c24dc74",
   "metadata": {},
   "source": [
    "## Split train test "
   ]
  },
  {
   "cell_type": "code",
   "execution_count": 14,
   "id": "afaf0912-bdbf-4460-ae4c-43016d1f5a57",
   "metadata": {},
   "outputs": [],
   "source": [
    "# Split dataset into train and test\n",
    "\n",
    "sample_train, sample_test, label_train, label_test = train_test_split(\n",
    "     X_train_skpp_norm, y_train, test_size=0.2, random_state=22)\n",
    "\n",
    "# Normalize\n",
    "\n",
    "# Select a sample for a better control of the research and wall time\n",
    "\n",
    "train_size = 800#160\n",
    "sample_train = sample_train[:train_size]\n",
    "label_train = label_train[:train_size]\n",
    "\n",
    "test_size = 200 #40\n",
    "sample_test = sample_test[:test_size]\n",
    "label_test = label_test[:test_size]"
   ]
  },
  {
   "cell_type": "code",
   "execution_count": 15,
   "id": "d815edbe-c5e7-42d6-9489-39ebb940cda4",
   "metadata": {},
   "outputs": [],
   "source": [
    "# Basic parameters for hybrid model\n",
    "\n",
    "seed = 8500\n",
    "feature_dim = n_dim\n",
    "num_reps = 2\n",
    "num_shots =256 \n"
   ]
  },
  {
   "cell_type": "markdown",
   "id": "a17bc9af-4a1c-453d-be99-d54b9e045628",
   "metadata": {},
   "source": [
    "## Hybrid"
   ]
  },
  {
   "cell_type": "code",
   "execution_count": 17,
   "id": "c2ce7078-9255-4913-b6aa-7f05a0e077c3",
   "metadata": {},
   "outputs": [],
   "source": [
    "# Define feature_map\n",
    "\n",
    "feature_map = ZZFeatureMap(feature_dimension=feature_dim, reps=num_reps)\n",
    "\n",
    "# Define the backend\n",
    "backend = QuantumInstance(\n",
    "    BasicAer.get_backend(\"qasm_simulator\"), shots=num_shots, seed_simulator=seed, seed_transpiler=seed\n",
    ")\n",
    "\n",
    "# Define the kernel\n",
    "\n",
    "kernel = QuantumKernel(feature_map=feature_map, quantum_instance=backend)\n",
    "\n",
    "# Model run\n",
    "svc = SVC(kernel=kernel.evaluate)\n",
    "#svc.fit(sample_train, label_train)\n",
    "#score = svc.score(sample_test, label_test)\n",
    "\n",
    "#print(f\"Callable kernel classification test score: {score}\")"
   ]
  },
  {
   "cell_type": "code",
   "execution_count": 19,
   "id": "b8fd86d8-bec9-42ac-8543-c69c973a7f01",
   "metadata": {},
   "outputs": [],
   "source": [
    "#result_predict = svc.predict(sample_test)"
   ]
  },
  {
   "cell_type": "code",
   "execution_count": null,
   "id": "ee71fc2a-46dc-46d1-8f51-8e3df5723407",
   "metadata": {},
   "outputs": [],
   "source": [
    "print(metrics.classification_report(label_test,result_predict))"
   ]
  },
  {
   "cell_type": "code",
   "execution_count": 20,
   "id": "f8cffebe-cf70-4328-8b69-5b0da24914df",
   "metadata": {},
   "outputs": [],
   "source": [
    "from sklearn.model_selection import cross_validate\n",
    "from tqdm import tqdm\n",
    "def evaluate_ml_model(_models, X, y, n_fold=10, metric='precision'):\n",
    "    ''' Function to evaluate a ML and QML model with a list of metrics\n",
    "    \n",
    "    \n",
    "    '''\n",
    "    results = pd.DataFrame()\n",
    "    kfold = KFold(n_splits=n_fold)\n",
    "    columns = []\n",
    "    for name, model in tqdm(_models):\n",
    "        # -------------------\n",
    "        # Variables initialization \n",
    "        _df = pd.DataFrame()\n",
    "        names = []\n",
    "        means = []\n",
    "        stds = []\n",
    "        \n",
    "        # -------------------\n",
    "        # k-fold Cross validation\n",
    "        cv_results = cross_validate(model, X, y, cv=kfold, scoring=metric)\n",
    "        \n",
    "        # -------------------\n",
    "        # Compute the mean and standard deviation \n",
    "        for _name, _array in cv_results.items():\n",
    "            names.append(_name)\n",
    "            means.append(round(100*_array.mean(), 2))\n",
    "            stds.append(round(100*_array.std(), 2))\n",
    "        # -------------------\n",
    "        # Save the results in a dataframe \n",
    "        _df =  pd.DataFrame([means, stds], columns=names)\n",
    "        columns.extend([name+' mean (%)', name+' std (%)'])\n",
    "        #results = results.join(_df, on=_df.index)\n",
    "        results = results.append(_df)\n",
    "    results.index = columns\n",
    "    print(results)\n",
    "    return results"
   ]
  },
  {
   "cell_type": "code",
   "execution_count": 21,
   "id": "cdf4a1b8-99c3-4674-9ee9-f4f8177d11f8",
   "metadata": {},
   "outputs": [],
   "source": [
    "models = []\n",
    "models.append(('LR', LogisticRegression(max_iter=1000)))\n",
    "models.append(('KNN', KNeighborsClassifier()))\n",
    "models.append(('CART', DecisionTreeClassifier()))\n",
    "models.append(('NB', GaussianNB()))\n",
    "models.append(('SVM', SVC()))\n",
    "models.append(('qsvc', svc))\n",
    "_metrics = ['precision', 'recall', 'f1', 'accuracy',  'matthews_corrcoef','balanced_accuracy']"
   ]
  },
  {
   "cell_type": "code",
   "execution_count": 22,
   "id": "c3d9c241-b0b8-4730-8b2f-58e38c247ec7",
   "metadata": {},
   "outputs": [],
   "source": [
    "df_results = pd.DataFrame()"
   ]
  },
  {
   "cell_type": "code",
   "execution_count": 23,
   "id": "ed9d682b-6c17-452f-9625-adbf9abd8215",
   "metadata": {},
   "outputs": [
    {
     "name": "stderr",
     "output_type": "stream",
     "text": [
      "100%|████████████████████████████████████████████| 6/6 [50:33<00:00, 505.52s/it]"
     ]
    },
    {
     "name": "stdout",
     "output_type": "stream",
     "text": [
      "               fit_time  score_time  test_precision  test_recall  test_f1  \\\n",
      "LR mean (%)        0.12        0.14           77.33        12.08    19.78   \n",
      "LR std (%)         0.09        0.03           20.21         7.66    10.81   \n",
      "KNN mean (%)       0.03        0.20           55.84        33.11    39.96   \n",
      "KNN std (%)        0.01        0.02           16.82        15.39    13.59   \n",
      "CART mean (%)      0.12        0.11           36.60        36.91    35.69   \n",
      "CART std (%)       0.01        0.01           10.04        13.19     8.78   \n",
      "NB mean (%)        0.02        0.11           64.69        29.33    39.30   \n",
      "NB std (%)         0.00        0.01           14.15         9.80     9.75   \n",
      "SVM mean (%)       0.57        0.21           68.08        24.33    34.50   \n",
      "SVM std (%)        0.03        0.01           13.09        11.98    13.06   \n",
      "qsvc mean (%)  25148.00     5181.01            0.00         0.00     0.00   \n",
      "qsvc std (%)     600.76       93.80            0.00         0.00     0.00   \n",
      "\n",
      "               test_accuracy  test_matthews_corrcoef  test_balanced_accuracy  \n",
      "LR mean (%)            78.25                   23.12                   55.38  \n",
      "LR std (%)              5.04                    9.70                    3.61  \n",
      "KNN mean (%)           77.88                   30.26                   62.63  \n",
      "KNN std (%)             6.07                   16.12                    7.85  \n",
      "CART mean (%)          70.00                   17.15                   58.78  \n",
      "CART std (%)            4.81                   12.11                    6.91  \n",
      "NB mean (%)            79.38                   33.01                   62.13  \n",
      "NB std (%)              4.65                   10.61                    4.98  \n",
      "SVM mean (%)           79.50                   31.25                   60.44  \n",
      "SVM std (%)             4.85                   12.17                    5.85  \n",
      "qsvc mean (%)          76.50                    0.00                   50.00  \n",
      "qsvc std (%)            5.15                    0.00                    0.00  \n"
     ]
    },
    {
     "name": "stderr",
     "output_type": "stream",
     "text": [
      "\n"
     ]
    }
   ],
   "source": [
    "df_results = evaluate_ml_model(models, sample_train, label_train, n_fold=10, metric=_metrics)"
   ]
  },
  {
   "cell_type": "code",
   "execution_count": 24,
   "id": "8561d92d-f3ee-4045-b6e5-98097a82f364",
   "metadata": {},
   "outputs": [
    {
     "data": {
      "text/html": [
       "<div>\n",
       "<style scoped>\n",
       "    .dataframe tbody tr th:only-of-type {\n",
       "        vertical-align: middle;\n",
       "    }\n",
       "\n",
       "    .dataframe tbody tr th {\n",
       "        vertical-align: top;\n",
       "    }\n",
       "\n",
       "    .dataframe thead th {\n",
       "        text-align: right;\n",
       "    }\n",
       "</style>\n",
       "<table border=\"1\" class=\"dataframe\">\n",
       "  <thead>\n",
       "    <tr style=\"text-align: right;\">\n",
       "      <th></th>\n",
       "      <th>fit_time</th>\n",
       "      <th>score_time</th>\n",
       "      <th>test_precision</th>\n",
       "      <th>test_recall</th>\n",
       "      <th>test_f1</th>\n",
       "      <th>test_accuracy</th>\n",
       "      <th>test_matthews_corrcoef</th>\n",
       "      <th>test_balanced_accuracy</th>\n",
       "    </tr>\n",
       "  </thead>\n",
       "  <tbody>\n",
       "    <tr>\n",
       "      <th>LR mean (%)</th>\n",
       "      <td>0.12</td>\n",
       "      <td>0.14</td>\n",
       "      <td>77.33</td>\n",
       "      <td>12.08</td>\n",
       "      <td>19.78</td>\n",
       "      <td>78.25</td>\n",
       "      <td>23.12</td>\n",
       "      <td>55.38</td>\n",
       "    </tr>\n",
       "    <tr>\n",
       "      <th>LR std (%)</th>\n",
       "      <td>0.09</td>\n",
       "      <td>0.03</td>\n",
       "      <td>20.21</td>\n",
       "      <td>7.66</td>\n",
       "      <td>10.81</td>\n",
       "      <td>5.04</td>\n",
       "      <td>9.70</td>\n",
       "      <td>3.61</td>\n",
       "    </tr>\n",
       "    <tr>\n",
       "      <th>KNN mean (%)</th>\n",
       "      <td>0.03</td>\n",
       "      <td>0.20</td>\n",
       "      <td>55.84</td>\n",
       "      <td>33.11</td>\n",
       "      <td>39.96</td>\n",
       "      <td>77.88</td>\n",
       "      <td>30.26</td>\n",
       "      <td>62.63</td>\n",
       "    </tr>\n",
       "    <tr>\n",
       "      <th>KNN std (%)</th>\n",
       "      <td>0.01</td>\n",
       "      <td>0.02</td>\n",
       "      <td>16.82</td>\n",
       "      <td>15.39</td>\n",
       "      <td>13.59</td>\n",
       "      <td>6.07</td>\n",
       "      <td>16.12</td>\n",
       "      <td>7.85</td>\n",
       "    </tr>\n",
       "    <tr>\n",
       "      <th>CART mean (%)</th>\n",
       "      <td>0.12</td>\n",
       "      <td>0.11</td>\n",
       "      <td>36.60</td>\n",
       "      <td>36.91</td>\n",
       "      <td>35.69</td>\n",
       "      <td>70.00</td>\n",
       "      <td>17.15</td>\n",
       "      <td>58.78</td>\n",
       "    </tr>\n",
       "    <tr>\n",
       "      <th>CART std (%)</th>\n",
       "      <td>0.01</td>\n",
       "      <td>0.01</td>\n",
       "      <td>10.04</td>\n",
       "      <td>13.19</td>\n",
       "      <td>8.78</td>\n",
       "      <td>4.81</td>\n",
       "      <td>12.11</td>\n",
       "      <td>6.91</td>\n",
       "    </tr>\n",
       "    <tr>\n",
       "      <th>NB mean (%)</th>\n",
       "      <td>0.02</td>\n",
       "      <td>0.11</td>\n",
       "      <td>64.69</td>\n",
       "      <td>29.33</td>\n",
       "      <td>39.30</td>\n",
       "      <td>79.38</td>\n",
       "      <td>33.01</td>\n",
       "      <td>62.13</td>\n",
       "    </tr>\n",
       "    <tr>\n",
       "      <th>NB std (%)</th>\n",
       "      <td>0.00</td>\n",
       "      <td>0.01</td>\n",
       "      <td>14.15</td>\n",
       "      <td>9.80</td>\n",
       "      <td>9.75</td>\n",
       "      <td>4.65</td>\n",
       "      <td>10.61</td>\n",
       "      <td>4.98</td>\n",
       "    </tr>\n",
       "    <tr>\n",
       "      <th>SVM mean (%)</th>\n",
       "      <td>0.57</td>\n",
       "      <td>0.21</td>\n",
       "      <td>68.08</td>\n",
       "      <td>24.33</td>\n",
       "      <td>34.50</td>\n",
       "      <td>79.50</td>\n",
       "      <td>31.25</td>\n",
       "      <td>60.44</td>\n",
       "    </tr>\n",
       "    <tr>\n",
       "      <th>SVM std (%)</th>\n",
       "      <td>0.03</td>\n",
       "      <td>0.01</td>\n",
       "      <td>13.09</td>\n",
       "      <td>11.98</td>\n",
       "      <td>13.06</td>\n",
       "      <td>4.85</td>\n",
       "      <td>12.17</td>\n",
       "      <td>5.85</td>\n",
       "    </tr>\n",
       "    <tr>\n",
       "      <th>qsvc mean (%)</th>\n",
       "      <td>25148.00</td>\n",
       "      <td>5181.01</td>\n",
       "      <td>0.00</td>\n",
       "      <td>0.00</td>\n",
       "      <td>0.00</td>\n",
       "      <td>76.50</td>\n",
       "      <td>0.00</td>\n",
       "      <td>50.00</td>\n",
       "    </tr>\n",
       "    <tr>\n",
       "      <th>qsvc std (%)</th>\n",
       "      <td>600.76</td>\n",
       "      <td>93.80</td>\n",
       "      <td>0.00</td>\n",
       "      <td>0.00</td>\n",
       "      <td>0.00</td>\n",
       "      <td>5.15</td>\n",
       "      <td>0.00</td>\n",
       "      <td>0.00</td>\n",
       "    </tr>\n",
       "  </tbody>\n",
       "</table>\n",
       "</div>"
      ],
      "text/plain": [
       "               fit_time  score_time  test_precision  test_recall  test_f1  \\\n",
       "LR mean (%)        0.12        0.14           77.33        12.08    19.78   \n",
       "LR std (%)         0.09        0.03           20.21         7.66    10.81   \n",
       "KNN mean (%)       0.03        0.20           55.84        33.11    39.96   \n",
       "KNN std (%)        0.01        0.02           16.82        15.39    13.59   \n",
       "CART mean (%)      0.12        0.11           36.60        36.91    35.69   \n",
       "CART std (%)       0.01        0.01           10.04        13.19     8.78   \n",
       "NB mean (%)        0.02        0.11           64.69        29.33    39.30   \n",
       "NB std (%)         0.00        0.01           14.15         9.80     9.75   \n",
       "SVM mean (%)       0.57        0.21           68.08        24.33    34.50   \n",
       "SVM std (%)        0.03        0.01           13.09        11.98    13.06   \n",
       "qsvc mean (%)  25148.00     5181.01            0.00         0.00     0.00   \n",
       "qsvc std (%)     600.76       93.80            0.00         0.00     0.00   \n",
       "\n",
       "               test_accuracy  test_matthews_corrcoef  test_balanced_accuracy  \n",
       "LR mean (%)            78.25                   23.12                   55.38  \n",
       "LR std (%)              5.04                    9.70                    3.61  \n",
       "KNN mean (%)           77.88                   30.26                   62.63  \n",
       "KNN std (%)             6.07                   16.12                    7.85  \n",
       "CART mean (%)          70.00                   17.15                   58.78  \n",
       "CART std (%)            4.81                   12.11                    6.91  \n",
       "NB mean (%)            79.38                   33.01                   62.13  \n",
       "NB std (%)              4.65                   10.61                    4.98  \n",
       "SVM mean (%)           79.50                   31.25                   60.44  \n",
       "SVM std (%)             4.85                   12.17                    5.85  \n",
       "qsvc mean (%)          76.50                    0.00                   50.00  \n",
       "qsvc std (%)            5.15                    0.00                    0.00  "
      ]
     },
     "execution_count": 24,
     "metadata": {},
     "output_type": "execute_result"
    }
   ],
   "source": [
    "df_results"
   ]
  },
  {
   "cell_type": "markdown",
   "id": "d339da61-ed6a-4195-a0a0-7d123474e9be",
   "metadata": {},
   "source": [
    "## QSVC"
   ]
  },
  {
   "cell_type": "code",
   "execution_count": null,
   "id": "b3b368ba-6fe2-4bac-ba5c-edd110015136",
   "metadata": {},
   "outputs": [],
   "source": [
    "# Be assure that your qiskit version is 0.4.0\n",
    "# run !pip install --upgrade qiskit==0.4.0 if not "
   ]
  },
  {
   "cell_type": "code",
   "execution_count": 24,
   "id": "9afa67d9-cf2d-47a5-8fe9-affe602f79cd",
   "metadata": {
    "collapsed": true,
    "jupyter": {
     "outputs_hidden": true
    },
    "tags": []
   },
   "outputs": [
    {
     "ename": "AttributeError",
     "evalue": "'QuantumInstance' object has no attribute 'evaluate'",
     "output_type": "error",
     "traceback": [
      "\u001b[0;31m---------------------------------------------------------------------------\u001b[0m",
      "\u001b[0;31mAttributeError\u001b[0m                            Traceback (most recent call last)",
      "Input \u001b[0;32mIn [24]\u001b[0m, in \u001b[0;36m<cell line: 18>\u001b[0;34m()\u001b[0m\n\u001b[1;32m     15\u001b[0m quantum_instance \u001b[38;5;241m=\u001b[39m QuantumInstance(backend, shots\u001b[38;5;241m=\u001b[39m\u001b[38;5;241m1024\u001b[39m, seed_simulator\u001b[38;5;241m=\u001b[39mseed, seed_transpiler\u001b[38;5;241m=\u001b[39mseed)\n\u001b[1;32m     17\u001b[0m \u001b[38;5;66;03m# Model run\u001b[39;00m\n\u001b[0;32m---> 18\u001b[0m vqc \u001b[38;5;241m=\u001b[39m \u001b[43mQSVC\u001b[49m\u001b[43m(\u001b[49m\u001b[43mquantum_kernel\u001b[49m\u001b[38;5;241;43m=\u001b[39;49m\u001b[43mquantum_instance\u001b[49m\u001b[43m)\u001b[49m\u001b[38;5;66;03m#optimizer, feature_map, var_form, training_input, test_input, datapoints[0])\u001b[39;00m\n\u001b[1;32m     21\u001b[0m result \u001b[38;5;241m=\u001b[39m vqc\u001b[38;5;241m.\u001b[39mfit(sample_train, label_train)\n",
      "File \u001b[0;32m/opt/homebrew/lib/python3.9/site-packages/qiskit_machine_learning/algorithms/classifiers/qsvc.py:73\u001b[0m, in \u001b[0;36mQSVC.__init__\u001b[0;34m(self, quantum_kernel, *args, **kwargs)\u001b[0m\n\u001b[1;32m     70\u001b[0m \u001b[38;5;28;01mif\u001b[39;00m \u001b[38;5;124m\"\u001b[39m\u001b[38;5;124mrandom_state\u001b[39m\u001b[38;5;124m\"\u001b[39m \u001b[38;5;129;01mnot\u001b[39;00m \u001b[38;5;129;01min\u001b[39;00m kwargs:\n\u001b[1;32m     71\u001b[0m     kwargs[\u001b[38;5;124m\"\u001b[39m\u001b[38;5;124mrandom_state\u001b[39m\u001b[38;5;124m\"\u001b[39m] \u001b[38;5;241m=\u001b[39m algorithm_globals\u001b[38;5;241m.\u001b[39mrandom_seed\n\u001b[0;32m---> 73\u001b[0m \u001b[38;5;28msuper\u001b[39m()\u001b[38;5;241m.\u001b[39m\u001b[38;5;21m__init__\u001b[39m(kernel\u001b[38;5;241m=\u001b[39m\u001b[38;5;28;43mself\u001b[39;49m\u001b[38;5;241;43m.\u001b[39;49m\u001b[43m_quantum_kernel\u001b[49m\u001b[38;5;241;43m.\u001b[39;49m\u001b[43mevaluate\u001b[49m, \u001b[38;5;241m*\u001b[39margs, \u001b[38;5;241m*\u001b[39m\u001b[38;5;241m*\u001b[39mkwargs)\n",
      "\u001b[0;31mAttributeError\u001b[0m: 'QuantumInstance' object has no attribute 'evaluate'"
     ]
    }
   ],
   "source": [
    "%%script false --no-raise-error\n",
    "# Define feature_map, optimizer and var_form\n",
    "\n",
    "feature_map = ZZFeatureMap(feature_dimension=feature_dim, reps=2)\n",
    "optimizer = COBYLA(maxiter=20, disp=True, rhobeg=1.0, tol=None)\n",
    "var_form = TwoLocal(feature_dim, ['ry', 'rz'], 'cz', reps=3)\n",
    "\n",
    "\n",
    "# Define the backend\n",
    "\n",
    "#backend = qiskit.Aer.get_backend('qasm_simulator')\n",
    "backend = BasicAer.get_backend(\"qasm_simulator\")\n",
    "# Define the instance\n",
    "\n",
    "quantum_instance = QuantumInstance(backend, shots=1024, seed_simulator=seed, seed_transpiler=seed)\n",
    "\n",
    "# Model run\n",
    "vqc = QSVC(quantum_kernel=quantum_instance)#optimizer, feature_map, var_form, training_input, test_input, datapoints[0])\n",
    "\n",
    "\n",
    "result = vqc.fit(sample_train, label_train)\n",
    "\n"
   ]
  },
  {
   "cell_type": "code",
   "execution_count": 1,
   "id": "3160da18-b47b-44af-8c84-15c7f3fd30c4",
   "metadata": {},
   "outputs": [
    {
     "data": {
      "text/plain": [
       "'0.21.1'"
      ]
     },
     "execution_count": 1,
     "metadata": {},
     "output_type": "execute_result"
    }
   ],
   "source": [
    "import qiskit\n",
    "qiskit.__version__"
   ]
  },
  {
   "cell_type": "code",
   "execution_count": 33,
   "id": "38c31acd-2c8f-41d4-a0ec-0427af9d908b",
   "metadata": {
    "collapsed": true,
    "jupyter": {
     "outputs_hidden": true
    },
    "tags": []
   },
   "outputs": [
    {
     "name": "stdout",
     "output_type": "stream",
     "text": [
      "\u001b[33mDEPRECATION: Configuring installation scheme with distutils config files is deprecated and will no longer work in the near future. If you are using a Homebrew or Linuxbrew Python, please see discussion at https://github.com/Homebrew/homebrew-core/issues/76621\u001b[0m\u001b[33m\n",
      "\u001b[0mRequirement already satisfied: qiskit in /opt/homebrew/lib/python3.9/site-packages (0.37.1)\n",
      "Requirement already satisfied: qiskit-aer==0.10.4 in /opt/homebrew/lib/python3.9/site-packages (from qiskit) (0.10.4)\n",
      "Requirement already satisfied: qiskit-ibmq-provider==0.19.2 in /opt/homebrew/lib/python3.9/site-packages (from qiskit) (0.19.2)\n",
      "Requirement already satisfied: qiskit-terra==0.21.1 in /opt/homebrew/lib/python3.9/site-packages (from qiskit) (0.21.1)\n",
      "Requirement already satisfied: scipy>=1.0 in /opt/homebrew/lib/python3.9/site-packages (from qiskit-aer==0.10.4->qiskit) (1.8.1)\n",
      "Requirement already satisfied: numpy>=1.16.3 in /opt/homebrew/lib/python3.9/site-packages (from qiskit-aer==0.10.4->qiskit) (1.23.1)\n",
      "Requirement already satisfied: websocket-client>=1.0.1 in /opt/homebrew/lib/python3.9/site-packages (from qiskit-ibmq-provider==0.19.2->qiskit) (1.3.3)\n",
      "Requirement already satisfied: urllib3>=1.21.1 in /opt/homebrew/lib/python3.9/site-packages (from qiskit-ibmq-provider==0.19.2->qiskit) (1.26.10)\n",
      "Requirement already satisfied: python-dateutil>=2.8.0 in /opt/homebrew/lib/python3.9/site-packages (from qiskit-ibmq-provider==0.19.2->qiskit) (2.8.2)\n",
      "Requirement already satisfied: websockets>=10.0 in /opt/homebrew/lib/python3.9/site-packages (from qiskit-ibmq-provider==0.19.2->qiskit) (10.3)\n",
      "Requirement already satisfied: requests>=2.19 in /opt/homebrew/lib/python3.9/site-packages (from qiskit-ibmq-provider==0.19.2->qiskit) (2.28.1)\n",
      "Requirement already satisfied: requests-ntlm>=1.1.0 in /opt/homebrew/lib/python3.9/site-packages (from qiskit-ibmq-provider==0.19.2->qiskit) (1.1.0)\n",
      "Requirement already satisfied: dill>=0.3 in /opt/homebrew/lib/python3.9/site-packages (from qiskit-terra==0.21.1->qiskit) (0.3.5.1)\n",
      "Requirement already satisfied: ply>=3.10 in /opt/homebrew/lib/python3.9/site-packages (from qiskit-terra==0.21.1->qiskit) (3.11)\n",
      "Requirement already satisfied: sympy>=1.3 in /opt/homebrew/lib/python3.9/site-packages (from qiskit-terra==0.21.1->qiskit) (1.10.1)\n",
      "Requirement already satisfied: tweedledum<2.0,>=1.1 in /opt/homebrew/lib/python3.9/site-packages (from qiskit-terra==0.21.1->qiskit) (1.1.1)\n",
      "Requirement already satisfied: symengine>=0.9 in /opt/homebrew/lib/python3.9/site-packages (from qiskit-terra==0.21.1->qiskit) (0.9.2)\n",
      "Requirement already satisfied: stevedore>=3.0.0 in /opt/homebrew/lib/python3.9/site-packages (from qiskit-terra==0.21.1->qiskit) (4.0.0)\n",
      "Requirement already satisfied: retworkx>=0.11.0 in /opt/homebrew/lib/python3.9/site-packages (from qiskit-terra==0.21.1->qiskit) (0.11.0)\n",
      "Requirement already satisfied: psutil>=5 in /opt/homebrew/lib/python3.9/site-packages (from qiskit-terra==0.21.1->qiskit) (5.9.1)\n",
      "Requirement already satisfied: six>=1.5 in /opt/homebrew/lib/python3.9/site-packages (from python-dateutil>=2.8.0->qiskit-ibmq-provider==0.19.2->qiskit) (1.16.0)\n",
      "Requirement already satisfied: charset-normalizer<3,>=2 in /opt/homebrew/lib/python3.9/site-packages (from requests>=2.19->qiskit-ibmq-provider==0.19.2->qiskit) (2.1.0)\n",
      "Requirement already satisfied: certifi>=2017.4.17 in /opt/homebrew/lib/python3.9/site-packages (from requests>=2.19->qiskit-ibmq-provider==0.19.2->qiskit) (2022.6.15)\n",
      "Requirement already satisfied: idna<4,>=2.5 in /opt/homebrew/lib/python3.9/site-packages (from requests>=2.19->qiskit-ibmq-provider==0.19.2->qiskit) (3.3)\n",
      "Requirement already satisfied: ntlm-auth>=1.0.2 in /opt/homebrew/lib/python3.9/site-packages (from requests-ntlm>=1.1.0->qiskit-ibmq-provider==0.19.2->qiskit) (1.5.0)\n",
      "Requirement already satisfied: cryptography>=1.3 in /opt/homebrew/lib/python3.9/site-packages (from requests-ntlm>=1.1.0->qiskit-ibmq-provider==0.19.2->qiskit) (37.0.4)\n",
      "Requirement already satisfied: pbr!=2.1.0,>=2.0.0 in /opt/homebrew/lib/python3.9/site-packages (from stevedore>=3.0.0->qiskit-terra==0.21.1->qiskit) (5.9.0)\n",
      "Requirement already satisfied: mpmath>=0.19 in /opt/homebrew/lib/python3.9/site-packages (from sympy>=1.3->qiskit-terra==0.21.1->qiskit) (1.2.1)\n",
      "Requirement already satisfied: cffi>=1.12 in /opt/homebrew/lib/python3.9/site-packages (from cryptography>=1.3->requests-ntlm>=1.1.0->qiskit-ibmq-provider==0.19.2->qiskit) (1.15.1)\n",
      "Requirement already satisfied: pycparser in /opt/homebrew/lib/python3.9/site-packages (from cffi>=1.12->cryptography>=1.3->requests-ntlm>=1.1.0->qiskit-ibmq-provider==0.19.2->qiskit) (2.21)\n",
      "\u001b[33mDEPRECATION: Configuring installation scheme with distutils config files is deprecated and will no longer work in the near future. If you are using a Homebrew or Linuxbrew Python, please see discussion at https://github.com/Homebrew/homebrew-core/issues/76621\u001b[0m\u001b[33m\n",
      "\u001b[0m"
     ]
    }
   ],
   "source": [
    "!pip3 install --upgrade qiskit #==0.4.0"
   ]
  },
  {
   "cell_type": "markdown",
   "id": "3b70b837-4e39-4b65-83ca-8e82fc83efa1",
   "metadata": {},
   "source": [
    "## Pennylane"
   ]
  },
  {
   "cell_type": "code",
   "execution_count": 25,
   "id": "ff1d5656-f2f2-4d96-b210-a75a161cdb39",
   "metadata": {},
   "outputs": [],
   "source": [
    "from pennylane import numpy as np"
   ]
  },
  {
   "cell_type": "code",
   "execution_count": 26,
   "id": "07ec49f5-c401-4c36-aae3-57aad3eaa0ba",
   "metadata": {},
   "outputs": [],
   "source": [
    "# Angle Encoding\n",
    "\n",
    "num_qubits = n_dim\n",
    "\n",
    "dev = qml.device('default.qubit', wires = num_qubits)\n",
    "\n",
    "@qml.qnode(dev)\n",
    "def circuit(parameters, data):\n",
    "    for i in range(num_qubits):\n",
    "        qml.Hadamard(wires = i)\n",
    "    \n",
    "    AngleEmbedding(features = data, wires = range(num_qubits), rotation = 'Y')\n",
    "    \n",
    "    qml.StronglyEntanglingLayers(weights = parameters, wires = range(num_qubits))\n",
    "    \n",
    "    return qml.expval(qml.PauliZ(0))"
   ]
  },
  {
   "cell_type": "code",
   "execution_count": 27,
   "id": "ffcf8fdb-37a0-4b64-b73c-76be553995e8",
   "metadata": {},
   "outputs": [],
   "source": [
    "num_layers = 5\n",
    "weights_init = 0.01 * np.random.randn(num_layers, num_qubits, 3, requires_grad=True)\n",
    "bias_init = np.array(0.0, requires_grad=True)\n",
    "\n",
    "#print(weights_init, bias_init)"
   ]
  },
  {
   "cell_type": "code",
   "execution_count": 28,
   "id": "49568595-37ec-4749-a230-dc4c6dae2500",
   "metadata": {},
   "outputs": [
    {
     "data": {
      "text/plain": [
       "tensor(-0.08462787, requires_grad=True)"
      ]
     },
     "execution_count": 28,
     "metadata": {},
     "output_type": "execute_result"
    }
   ],
   "source": [
    "circuit(weights_init, sample_train[0])"
   ]
  },
  {
   "cell_type": "code",
   "execution_count": 29,
   "id": "4febb380-0955-4f05-a872-326cc4e3a27c",
   "metadata": {},
   "outputs": [],
   "source": [
    "def variational_classifier(weights, bias, x):\n",
    "    return circuit(weights, x) + bias"
   ]
  },
  {
   "cell_type": "code",
   "execution_count": 30,
   "id": "c16a1f84-63e5-4fbb-a647-cba6db4c6c4c",
   "metadata": {},
   "outputs": [],
   "source": [
    "def square_loss(labels, predictions):\n",
    "    loss = 0\n",
    "    for l, p in zip(labels, predictions):\n",
    "        loss = loss + (l - p) ** 2\n",
    "\n",
    "    loss = loss / len(labels)\n",
    "    return loss"
   ]
  },
  {
   "cell_type": "code",
   "execution_count": 31,
   "id": "07412a53-c93b-4c73-bd0b-e7e144454435",
   "metadata": {},
   "outputs": [],
   "source": [
    "def accuracy(labels, predictions):\n",
    "\n",
    "    loss = 0\n",
    "    for l, p in zip(labels, predictions):\n",
    "        if abs(l - p) < 1e-5:\n",
    "            loss = loss + 1\n",
    "    loss = loss / len(labels)\n",
    "\n",
    "    return loss"
   ]
  },
  {
   "cell_type": "code",
   "execution_count": 32,
   "id": "1bf0b58e-38f3-4c45-a4d2-3d69af787ba3",
   "metadata": {},
   "outputs": [],
   "source": [
    "def cost(weights, bias, X, Y):\n",
    "    predictions = [variational_classifier(weights, bias, x) for x in X]\n",
    "    return square_loss(Y, predictions)"
   ]
  },
  {
   "cell_type": "code",
   "execution_count": 33,
   "id": "7543fccb-ef55-49cb-8508-5ae8fdfcbc58",
   "metadata": {},
   "outputs": [
    {
     "data": {
      "text/plain": [
       "0    160\n",
       "1     40\n",
       "Name: default.payment.next.month, dtype: int64"
      ]
     },
     "execution_count": 33,
     "metadata": {},
     "output_type": "execute_result"
    }
   ],
   "source": [
    "pd.Series(label_test).value_counts()"
   ]
  },
  {
   "cell_type": "code",
   "execution_count": 34,
   "id": "21ff4aa6-c15b-4a59-a718-67d8da2402dd",
   "metadata": {},
   "outputs": [
    {
     "name": "stdout",
     "output_type": "stream",
     "text": [
      "X = [tensor(-0.38868453, requires_grad=True), tensor(0.17975752, requires_grad=True)], Y = -1\n",
      "X = [tensor(0.09067561, requires_grad=True), tensor(-0.16492248, requires_grad=True)], Y = -1\n",
      "X = [tensor(1.74759435, requires_grad=True), tensor(0.31647715, requires_grad=True)], Y = -1\n",
      "X = [tensor(-1.56054953, requires_grad=True), tensor(-0.75105161, requires_grad=True)], Y =  1\n",
      "X = [tensor(-0.01448404, requires_grad=True), tensor(-0.3930499, requires_grad=True)], Y = -1\n"
     ]
    }
   ],
   "source": [
    "Y = np.array(label_train * 2 - np.ones(len(label_train)),requires_grad=True)  # shift label from {0, 1} to {-1, 1}\n",
    "X = np.array(sample_train, requires_grad=True)\n",
    "\n",
    "for i in range(5):\n",
    "    print(\"X = {}, Y = {: d}\".format(list(X[i]), int(Y[i])))"
   ]
  },
  {
   "cell_type": "code",
   "execution_count": 35,
   "id": "074f578a-1984-4814-9070-7b20063c8bd1",
   "metadata": {},
   "outputs": [],
   "source": [
    "opt = AdamOptimizer(stepsize=0.1, beta1=0.9, beta2=0.99, eps=1e-08)\n",
    "batch_size = 10"
   ]
  },
  {
   "cell_type": "code",
   "execution_count": null,
   "id": "a78e0005-464d-46c0-86f4-946291d7586c",
   "metadata": {},
   "outputs": [],
   "source": []
  },
  {
   "cell_type": "code",
   "execution_count": 36,
   "id": "2d31d6a7-74f4-4e63-b1cb-b92bfb610a5a",
   "metadata": {
    "tags": []
   },
   "outputs": [
    {
     "name": "stdout",
     "output_type": "stream",
     "text": [
      "New best\n",
      "Iter:     1 | Cost: 0.9075557 | f1: 0.4317719 \n",
      "Iter:     2 | Cost: 0.7421187 | f1: 0.4067797 \n",
      "Iter:     3 | Cost: 0.7006192 | f1: 0.3676012 \n",
      "Iter:     4 | Cost: 0.7234062 | f1: 0.3620178 \n",
      "Iter:     5 | Cost: 0.7439346 | f1: 0.3705882 \n",
      "Iter:     6 | Cost: 0.6702134 | f1: 0.3507463 \n",
      "Iter:     7 | Cost: 0.6798288 | f1: 0.3538462 \n",
      "Iter:     8 | Cost: 0.7051294 | f1: 0.3636364 \n",
      "Iter:     9 | Cost: 0.7079168 | f1: 0.3571429 \n",
      "Iter:    10 | Cost: 0.6869694 | f1: 0.3557312 \n",
      "Iter:    11 | Cost: 0.6794208 | f1: 0.3636364 \n",
      "Iter:    12 | Cost: 0.7091197 | f1: 0.3586626 \n",
      "Iter:    13 | Cost: 0.7242269 | f1: 0.3614458 \n",
      "Iter:    14 | Cost: 0.7078384 | f1: 0.3696970 \n",
      "Iter:    15 | Cost: 0.7040779 | f1: 0.3507692 \n",
      "Iter:    16 | Cost: 0.7292538 | f1: 0.3406940 \n",
      "Iter:    17 | Cost: 0.7540777 | f1: 0.3269962 \n",
      "Iter:    18 | Cost: 0.7751080 | f1: 0.3252033 \n",
      "Iter:    19 | Cost: 0.7442091 | f1: 0.3306452 \n",
      "Iter:    20 | Cost: 0.7144367 | f1: 0.3306452 \n",
      "Iter:    21 | Cost: 0.6819263 | f1: 0.3319838 \n",
      "Iter:    22 | Cost: 0.6636792 | f1: 0.3440000 \n",
      "Iter:    23 | Cost: 0.6573777 | f1: 0.3412698 \n",
      "Iter:    24 | Cost: 0.6685959 | f1: 0.3385827 \n",
      "Iter:    25 | Cost: 0.6811768 | f1: 0.3385827 \n",
      "Iter:    26 | Cost: 0.6942509 | f1: 0.3333333 \n",
      "Iter:    27 | Cost: 0.6675400 | f1: 0.3230769 \n",
      "Iter:    28 | Cost: 0.6624559 | f1: 0.3243243 \n",
      "Iter:    29 | Cost: 0.6696103 | f1: 0.2913386 \n",
      "Iter:    30 | Cost: 0.6657485 | f1: 0.2766798 \n",
      "Iter:    31 | Cost: 0.6643367 | f1: 0.2868526 \n",
      "Iter:    32 | Cost: 0.6720072 | f1: 0.2880000 \n",
      "Iter:    33 | Cost: 0.6883565 | f1: 0.2960000 \n",
      "Iter:    34 | Cost: 0.7144173 | f1: 0.2811245 \n",
      "Iter:    35 | Cost: 0.7307899 | f1: 0.2753036 \n",
      "Iter:    36 | Cost: 0.7420971 | f1: 0.2834008 \n",
      "Iter:    37 | Cost: 0.7455372 | f1: 0.2845528 \n",
      "Iter:    38 | Cost: 0.7434630 | f1: 0.2845528 \n",
      "Iter:    39 | Cost: 0.7405066 | f1: 0.2834008 \n",
      "Iter:    40 | Cost: 0.7348761 | f1: 0.2800000 \n",
      "Iter:    41 | Cost: 0.7250729 | f1: 0.2777778 \n",
      "Iter:    42 | Cost: 0.7090820 | f1: 0.2801556 \n",
      "Iter:    43 | Cost: 0.6984380 | f1: 0.3247232 \n",
      "Iter:    44 | Cost: 0.6914657 | f1: 0.3465704 \n",
      "Iter:    45 | Cost: 0.6890699 | f1: 0.3416370 \n",
      "Iter:    46 | Cost: 0.6913622 | f1: 0.3496503 \n",
      "Iter:    47 | Cost: 0.7019804 | f1: 0.3623693 \n",
      "Iter:    48 | Cost: 0.7180715 | f1: 0.3673469 \n",
      "Iter:    49 | Cost: 0.7053881 | f1: 0.3724138 \n",
      "Iter:    50 | Cost: 0.6772355 | f1: 0.3655914 \n",
      "Iter:    51 | Cost: 0.6644958 | f1: 0.3542435 \n",
      "Iter:    52 | Cost: 0.6580637 | f1: 0.3498099 \n",
      "Iter:    53 | Cost: 0.6670895 | f1: 0.3461538 \n",
      "Iter:    54 | Cost: 0.6763769 | f1: 0.3410853 \n",
      "Iter:    55 | Cost: 0.6995508 | f1: 0.3228346 \n",
      "Iter:    56 | Cost: 0.7292524 | f1: 0.3252033 \n",
      "Iter:    57 | Cost: 0.7571561 | f1: 0.2869198 \n",
      "Iter:    58 | Cost: 0.7394514 | f1: 0.2735043 \n",
      "Iter:    59 | Cost: 0.7174218 | f1: 0.2869198 \n",
      "Iter:    60 | Cost: 0.6978199 | f1: 0.2975207 \n",
      "Iter:    61 | Cost: 0.6767739 | f1: 0.3200000 \n",
      "Iter:    62 | Cost: 0.6670429 | f1: 0.3320158 \n",
      "Iter:    63 | Cost: 0.6697734 | f1: 0.3320158 \n",
      "Iter:    64 | Cost: 0.6731935 | f1: 0.3320463 \n",
      "Iter:    65 | Cost: 0.6825857 | f1: 0.3070866 \n",
      "Iter:    66 | Cost: 0.6948440 | f1: 0.2834646 \n",
      "Iter:    67 | Cost: 0.7051419 | f1: 0.3181818 \n",
      "Iter:    68 | Cost: 0.7136047 | f1: 0.3239437 \n",
      "Iter:    69 | Cost: 0.7125299 | f1: 0.3225806 \n",
      "Iter:    70 | Cost: 0.7051403 | f1: 0.2656250 \n",
      "Iter:    71 | Cost: 0.6945686 | f1: 0.2033898 \n",
      "Iter:    72 | Cost: 0.6837004 | f1: 0.2583333 \n",
      "Iter:    73 | Cost: 0.6856955 | f1: 0.2372881 \n",
      "Iter:    74 | Cost: 0.6832126 | f1: 0.2500000 \n",
      "Iter:    75 | Cost: 0.6689702 | f1: 0.2775510 \n",
      "Iter:    76 | Cost: 0.6614562 | f1: 0.2880000 \n",
      "Iter:    77 | Cost: 0.6605976 | f1: 0.2822581 \n",
      "Iter:    78 | Cost: 0.6635837 | f1: 0.2926829 \n",
      "Iter:    79 | Cost: 0.6684773 | f1: 0.2926829 \n",
      "Iter:    80 | Cost: 0.6706771 | f1: 0.2950820 \n",
      "Iter:    81 | Cost: 0.6715544 | f1: 0.2868852 \n",
      "Iter:    82 | Cost: 0.6758484 | f1: 0.2727273 \n",
      "Iter:    83 | Cost: 0.6737116 | f1: 0.2655602 \n",
      "Iter:    84 | Cost: 0.6671099 | f1: 0.2633745 \n",
      "Iter:    85 | Cost: 0.6658009 | f1: 0.2551440 \n",
      "Iter:    86 | Cost: 0.6721481 | f1: 0.2025316 \n",
      "Iter:    87 | Cost: 0.7111621 | f1: 0.1652174 \n",
      "Iter:    88 | Cost: 0.7820224 | f1: 0.1367521 \n",
      "Iter:    89 | Cost: 0.8036689 | f1: 0.1718750 \n",
      "Iter:    90 | Cost: 0.7692882 | f1: 0.1478599 \n",
      "Iter:    91 | Cost: 0.7285891 | f1: 0.1422925 \n",
      "Iter:    92 | Cost: 0.7189909 | f1: 0.1445783 \n",
      "Iter:    93 | Cost: 0.7126980 | f1: 0.1610169 \n",
      "Iter:    94 | Cost: 0.7138061 | f1: 0.2377049 \n",
      "Iter:    95 | Cost: 0.7205183 | f1: 0.2761506 \n",
      "Iter:    96 | Cost: 0.7147959 | f1: 0.2892562 \n",
      "Iter:    97 | Cost: 0.6977562 | f1: 0.3127572 \n",
      "Iter:    98 | Cost: 0.6827914 | f1: 0.3196721 \n",
      "Iter:    99 | Cost: 0.7095291 | f1: 0.2900763 \n",
      "Iter:   100 | Cost: 0.7722902 | f1: 0.3161765 \n",
      "Iter:   101 | Cost: 0.7981081 | f1: 0.3115942 \n",
      "Iter:   102 | Cost: 0.8253183 | f1: 0.3122924 \n",
      "Iter:   103 | Cost: 0.7884871 | f1: 0.2900763 \n",
      "Iter:   104 | Cost: 0.7486420 | f1: 0.2823529 \n",
      "Iter:   105 | Cost: 0.7605569 | f1: 0.2553191 \n",
      "Iter:   106 | Cost: 0.7881262 | f1: 0.2311111 \n",
      "Iter:   107 | Cost: 0.8120171 | f1: 0.2620087 \n",
      "Iter:   108 | Cost: 0.7628241 | f1: 0.3037975 \n",
      "Iter:   109 | Cost: 0.6976376 | f1: 0.3083333 \n",
      "Iter:   110 | Cost: 0.6456486 | f1: 0.3346939 \n",
      "Iter:   111 | Cost: 0.6520429 | f1: 0.3492063 \n",
      "Iter:   112 | Cost: 0.7347170 | f1: 0.4244373 \n",
      "Iter:   113 | Cost: 0.8389526 | f1: 0.4203540 \n",
      "Iter:   114 | Cost: 0.8901150 | f1: 0.4145873 \n",
      "Iter:   115 | Cost: 0.8564988 | f1: 0.4255319 \n",
      "New best\n",
      "Iter:   116 | Cost: 0.7759395 | f1: 0.4376731 \n",
      "Iter:   117 | Cost: 0.6997370 | f1: 0.3835616 \n",
      "Iter:   118 | Cost: 0.6638778 | f1: 0.3736264 \n",
      "Iter:   119 | Cost: 0.6507747 | f1: 0.3547170 \n",
      "Iter:   120 | Cost: 0.6504887 | f1: 0.3650190 \n",
      "Iter:   121 | Cost: 0.6501800 | f1: 0.3552124 \n",
      "Iter:   122 | Cost: 0.6517167 | f1: 0.3437500 \n",
      "Iter:   123 | Cost: 0.6567153 | f1: 0.3187251 \n",
      "Iter:   124 | Cost: 0.6626703 | f1: 0.2809917 \n",
      "Iter:   125 | Cost: 0.6652719 | f1: 0.2542373 \n",
      "Iter:   126 | Cost: 0.6790108 | f1: 0.2164502 \n",
      "Iter:   127 | Cost: 0.7019507 | f1: 0.2436975 \n",
      "Iter:   128 | Cost: 0.7048110 | f1: 0.2551440 \n",
      "Iter:   129 | Cost: 0.7088976 | f1: 0.2777778 \n",
      "Iter:   130 | Cost: 0.6915836 | f1: 0.2352941 \n",
      "Iter:   131 | Cost: 0.6889812 | f1: 0.1559633 \n",
      "Iter:   132 | Cost: 0.7096052 | f1: 0.1428571 \n",
      "Iter:   133 | Cost: 0.7347777 | f1: 0.1268293 \n",
      "Iter:   134 | Cost: 0.7534598 | f1: 0.1531100 \n",
      "Iter:   135 | Cost: 0.7611333 | f1: 0.1851852 \n",
      "Iter:   136 | Cost: 0.7267558 | f1: 0.2262443 \n",
      "Iter:   137 | Cost: 0.6888269 | f1: 0.2262443 \n",
      "Iter:   138 | Cost: 0.6559897 | f1: 0.2311111 \n",
      "Iter:   139 | Cost: 0.6432416 | f1: 0.2489270 \n",
      "Iter:   140 | Cost: 0.6574348 | f1: 0.2572614 \n",
      "Iter:   141 | Cost: 0.7096752 | f1: 0.3106061 \n",
      "Iter:   142 | Cost: 0.7418260 | f1: 0.3368421 \n",
      "Iter:   143 | Cost: 0.7420002 | f1: 0.3578947 \n",
      "Iter:   144 | Cost: 0.7164712 | f1: 0.3643123 \n",
      "Iter:   145 | Cost: 0.6767606 | f1: 0.3372549 \n",
      "Iter:   146 | Cost: 0.6464963 | f1: 0.3571429 \n",
      "Iter:   147 | Cost: 0.6624757 | f1: 0.3374486 \n",
      "Iter:   148 | Cost: 0.6797797 | f1: 0.3319502 \n",
      "Iter:   149 | Cost: 0.6949262 | f1: 0.3046875 \n",
      "Iter:   150 | Cost: 0.7074793 | f1: 0.2975779 \n"
     ]
    }
   ],
   "source": [
    "weights = weights_init\n",
    "bias = bias_init\n",
    "\n",
    "wbest = 0\n",
    "bbest = 0\n",
    "abest = 0\n",
    "ccost = 0 \n",
    "for it in range(150):\n",
    "\n",
    "    # weights update by one optimizer step\n",
    "\n",
    "    batch_index = np.random.randint(0, len(X), (batch_size,))\n",
    "    X_batch = X[batch_index]\n",
    "    Y_batch = Y[batch_index]\n",
    "    weights, bias, _, _ = opt.step(cost, weights, bias, X_batch, Y_batch)\n",
    "\n",
    "    # Compute the accuracy\n",
    "    predictions = [np.sign(variational_classifier(weights, bias, x)) for x in X]\n",
    "    \n",
    "    '''if accuracy(Y, predictions) > abest:\n",
    "        wbest = weights\n",
    "        bbest = bias\n",
    "        abest = accuracy(Y, predictions)\n",
    "        print('New best')\n",
    "\n",
    "    acc = accuracy(Y, predictions)\n",
    "\n",
    "    print(\n",
    "        \"Iter: {:5d} | Cost: {:0.7f} | Accuracy: {:0.7f} \".format(\n",
    "            it + 1, cost(weights, bias, X, Y), acc\n",
    "        )\n",
    "    )'''\n",
    "    prec = metrics.f1_score(Y, predictions, average='binary', pos_label=1)\n",
    "    if  prec > abest or ((prec == abest) and (cost(weights, bias, X, Y) < ccost)):\n",
    "        wbest = weights\n",
    "        bbest = bias\n",
    "        abest = prec\n",
    "        ccost = cost(weights, bias, X, Y)\n",
    "        print('New best')\n",
    "    #prec = metrics.precision_score(Y, predictions, average='binary')\n",
    "    print(\n",
    "        \"Iter: {:5d} | Cost: {:0.7f} | f1: {:0.7f} \".format(\n",
    "            it + 1, cost(weights, bias, X, Y), prec\n",
    "        )\n",
    "    )\n",
    "    \n",
    "    "
   ]
  },
  {
   "cell_type": "code",
   "execution_count": 37,
   "id": "ee2dceeb-5b76-4ec7-9ebb-efb9e562cf8a",
   "metadata": {},
   "outputs": [],
   "source": [
    "Yte = np.array(label_test * 2 - np.ones(len(label_test)))\n",
    "Xte = np.array(normalize(sample_test))"
   ]
  },
  {
   "cell_type": "code",
   "execution_count": 38,
   "id": "03ecd991-b560-4868-9e42-1dcfe09d58ac",
   "metadata": {},
   "outputs": [
    {
     "data": {
      "text/plain": [
       "-1.0    160\n",
       " 1.0     40\n",
       "dtype: int64"
      ]
     },
     "execution_count": 38,
     "metadata": {},
     "output_type": "execute_result"
    }
   ],
   "source": [
    "pd.Series(Yte).value_counts()"
   ]
  },
  {
   "cell_type": "code",
   "execution_count": 39,
   "id": "4416ed73-4c7d-44e3-a539-9dba3191327d",
   "metadata": {},
   "outputs": [
    {
     "name": "stdout",
     "output_type": "stream",
     "text": [
      "Cost: 0.848536623277729, Accuracy: 59.0%\n"
     ]
    }
   ],
   "source": [
    "predictions = [np.sign(variational_classifier(wbest, bbest, x)) for x in Xte]\n",
    "pred = [np.sign(variational_classifier(wbest, bbest, x)) for x in X]\n",
    "acc = accuracy(Yte, predictions)\n",
    "\n",
    "print(f'Cost: {cost(wbest, bbest, Xte, Yte)}, Accuracy: {np.round(acc, 2) * 100}%')"
   ]
  },
  {
   "cell_type": "code",
   "execution_count": 40,
   "id": "8c50c097-603d-439b-84a9-cd649bcbeaa1",
   "metadata": {},
   "outputs": [
    {
     "name": "stdout",
     "output_type": "stream",
     "text": [
      "              precision    recall  f1-score   support\n",
      "\n",
      "        -1.0       0.79      0.67      0.72       160\n",
      "         1.0       0.17      0.28      0.21        40\n",
      "\n",
      "    accuracy                           0.59       200\n",
      "   macro avg       0.48      0.47      0.47       200\n",
      "weighted avg       0.66      0.59      0.62       200\n",
      "\n"
     ]
    }
   ],
   "source": [
    "print(metrics.classification_report(Yte,predictions))"
   ]
  },
  {
   "cell_type": "code",
   "execution_count": 41,
   "id": "dcedeada-a82f-4e82-b738-6a862dc801c8",
   "metadata": {},
   "outputs": [
    {
     "name": "stdout",
     "output_type": "stream",
     "text": [
      "\n",
      "\n",
      "    Precision: 27.5%\n",
      "    Recall: 17.19%\n",
      "    f1: 21.15%\n",
      "    Accuracy: 59.0%\n",
      "    Matthew corcorref: -4.82%\n",
      "    Balanced accuracy: 47.93%\n",
      "    \n"
     ]
    }
   ],
   "source": [
    "print(f'''\n",
    "\n",
    "    Precision: {round(100*metrics.precision_score(predictions,Yte),2)}%\n",
    "    Recall: {round(100*metrics.recall_score(predictions,Yte),2)}%\n",
    "    f1: {round(100*metrics.f1_score(predictions,Yte),2)}%\n",
    "    Accuracy: {round(100*metrics.accuracy_score(predictions,Yte),2)}%\n",
    "    Matthew corcorref: {round(100*metrics.matthews_corrcoef(predictions,Yte),2)}%\n",
    "    Balanced accuracy: {round(100*metrics.balanced_accuracy_score(predictions,Yte),2)}%\n",
    "    ''')"
   ]
  },
  {
   "cell_type": "code",
   "execution_count": 42,
   "id": "77acf9e4-6362-4daa-829c-a5c70138be5c",
   "metadata": {
    "tags": []
   },
   "outputs": [
    {
     "name": "stdout",
     "output_type": "stream",
     "text": [
      "New best\n",
      "Iter:     1 | Cost: 1.1718495 | Accuracy: 0.6137500 \n",
      "New best\n",
      "Iter:     2 | Cost: 0.9999910 | Accuracy: 0.6287500 \n",
      "New best\n",
      "Iter:     3 | Cost: 0.8170132 | Accuracy: 0.7087500 \n",
      "New best\n",
      "Iter:     4 | Cost: 0.7274715 | Accuracy: 0.7350000 \n",
      "New best\n",
      "Iter:     5 | Cost: 0.7353281 | Accuracy: 0.7475000 \n",
      "New best\n",
      "Iter:     6 | Cost: 0.7817120 | Accuracy: 0.7537500 \n",
      "New best\n",
      "Iter:     7 | Cost: 0.8190967 | Accuracy: 0.7562500 \n",
      "Iter:     8 | Cost: 0.8232952 | Accuracy: 0.7525000 \n",
      "New best\n",
      "Iter:     9 | Cost: 0.7828787 | Accuracy: 0.7650000 \n",
      "New best\n",
      "Iter:    10 | Cost: 0.7096655 | Accuracy: 0.7750000 \n",
      "Iter:    11 | Cost: 0.7098025 | Accuracy: 0.7712500 \n",
      "Iter:    12 | Cost: 0.7470942 | Accuracy: 0.7700000 \n",
      "Iter:    13 | Cost: 0.7670781 | Accuracy: 0.7725000 \n",
      "Iter:    14 | Cost: 0.7834860 | Accuracy: 0.7612500 \n",
      "Iter:    15 | Cost: 0.7362662 | Accuracy: 0.7625000 \n",
      "Iter:    16 | Cost: 0.7204685 | Accuracy: 0.7662500 \n",
      "Iter:    17 | Cost: 0.7027118 | Accuracy: 0.7650000 \n",
      "New best\n",
      "Iter:    18 | Cost: 0.7084247 | Accuracy: 0.7750000 \n",
      "New best\n",
      "Iter:    19 | Cost: 0.7167083 | Accuracy: 0.7887500 \n",
      "New best\n",
      "Iter:    20 | Cost: 0.7086522 | Accuracy: 0.7975000 \n",
      "New best\n",
      "Iter:    21 | Cost: 0.6980455 | Accuracy: 0.8000000 \n",
      "New best\n",
      "Iter:    22 | Cost: 0.6775956 | Accuracy: 0.8012500 \n",
      "Iter:    23 | Cost: 0.6810036 | Accuracy: 0.7962500 \n",
      "Iter:    24 | Cost: 0.6932127 | Accuracy: 0.7925000 \n",
      "Iter:    25 | Cost: 0.7001931 | Accuracy: 0.7937500 \n",
      "Iter:    26 | Cost: 0.7159569 | Accuracy: 0.7950000 \n",
      "Iter:    27 | Cost: 0.7149297 | Accuracy: 0.7937500 \n",
      "Iter:    28 | Cost: 0.7062295 | Accuracy: 0.7937500 \n",
      "Iter:    29 | Cost: 0.6855634 | Accuracy: 0.7937500 \n",
      "Iter:    30 | Cost: 0.6761314 | Accuracy: 0.7987500 \n",
      "Iter:    31 | Cost: 0.6749241 | Accuracy: 0.7975000 \n",
      "Iter:    32 | Cost: 0.6610911 | Accuracy: 0.7950000 \n",
      "Iter:    33 | Cost: 0.6497052 | Accuracy: 0.7987500 \n",
      "Iter:    34 | Cost: 0.6490065 | Accuracy: 0.7987500 \n",
      "Iter:    35 | Cost: 0.6567163 | Accuracy: 0.7975000 \n",
      "Iter:    36 | Cost: 0.6735474 | Accuracy: 0.7700000 \n",
      "Iter:    37 | Cost: 0.7050898 | Accuracy: 0.7650000 \n",
      "Iter:    38 | Cost: 0.7042029 | Accuracy: 0.7650000 \n",
      "Iter:    39 | Cost: 0.7002024 | Accuracy: 0.7650000 \n",
      "Iter:    40 | Cost: 0.6880625 | Accuracy: 0.7650000 \n",
      "Iter:    41 | Cost: 0.6818668 | Accuracy: 0.7650000 \n",
      "Iter:    42 | Cost: 0.6843772 | Accuracy: 0.7737500 \n",
      "Iter:    43 | Cost: 0.6704899 | Accuracy: 0.7850000 \n",
      "Iter:    44 | Cost: 0.6627091 | Accuracy: 0.7875000 \n",
      "Iter:    45 | Cost: 0.6601210 | Accuracy: 0.7875000 \n",
      "Iter:    46 | Cost: 0.7052785 | Accuracy: 0.7800000 \n",
      "Iter:    47 | Cost: 0.7540155 | Accuracy: 0.7537500 \n",
      "Iter:    48 | Cost: 0.7518760 | Accuracy: 0.7600000 \n",
      "Iter:    49 | Cost: 0.7486098 | Accuracy: 0.7562500 \n",
      "Iter:    50 | Cost: 0.6896685 | Accuracy: 0.7737500 \n",
      "Iter:    51 | Cost: 0.6650399 | Accuracy: 0.7912500 \n",
      "Iter:    52 | Cost: 0.7067926 | Accuracy: 0.7950000 \n",
      "Iter:    53 | Cost: 0.7711239 | Accuracy: 0.7987500 \n",
      "Iter:    54 | Cost: 0.7819856 | Accuracy: 0.7837500 \n",
      "Iter:    55 | Cost: 0.7563693 | Accuracy: 0.7700000 \n",
      "Iter:    56 | Cost: 0.7355237 | Accuracy: 0.7675000 \n",
      "Iter:    57 | Cost: 0.7080237 | Accuracy: 0.7587500 \n",
      "Iter:    58 | Cost: 0.7349420 | Accuracy: 0.7225000 \n",
      "Iter:    59 | Cost: 0.7912689 | Accuracy: 0.7212500 \n",
      "Iter:    60 | Cost: 0.8325979 | Accuracy: 0.7050000 \n",
      "Iter:    61 | Cost: 0.8319867 | Accuracy: 0.6975000 \n",
      "Iter:    62 | Cost: 0.7643819 | Accuracy: 0.7312500 \n",
      "Iter:    63 | Cost: 0.6971995 | Accuracy: 0.7612500 \n",
      "Iter:    64 | Cost: 0.6722401 | Accuracy: 0.7787500 \n",
      "Iter:    65 | Cost: 0.6833617 | Accuracy: 0.7862500 \n",
      "Iter:    66 | Cost: 0.7088594 | Accuracy: 0.7875000 \n",
      "Iter:    67 | Cost: 0.7415153 | Accuracy: 0.7862500 \n",
      "Iter:    68 | Cost: 0.7582380 | Accuracy: 0.7887500 \n",
      "Iter:    69 | Cost: 0.7592938 | Accuracy: 0.7912500 \n",
      "Iter:    70 | Cost: 0.7407941 | Accuracy: 0.7875000 \n",
      "Iter:    71 | Cost: 0.7119426 | Accuracy: 0.7887500 \n",
      "Iter:    72 | Cost: 0.6857239 | Accuracy: 0.7837500 \n",
      "Iter:    73 | Cost: 0.6921741 | Accuracy: 0.7700000 \n",
      "Iter:    74 | Cost: 0.7355478 | Accuracy: 0.7650000 \n",
      "Iter:    75 | Cost: 0.8510022 | Accuracy: 0.7462500 \n",
      "Iter:    76 | Cost: 0.9007895 | Accuracy: 0.7012500 \n",
      "Iter:    77 | Cost: 0.8623274 | Accuracy: 0.7200000 \n",
      "Iter:    78 | Cost: 0.7734574 | Accuracy: 0.7387500 \n",
      "Iter:    79 | Cost: 0.7214597 | Accuracy: 0.7375000 \n",
      "Iter:    80 | Cost: 0.7100731 | Accuracy: 0.7375000 \n",
      "Iter:    81 | Cost: 0.7097436 | Accuracy: 0.7337500 \n",
      "Iter:    82 | Cost: 0.6978185 | Accuracy: 0.7362500 \n",
      "Iter:    83 | Cost: 0.6838310 | Accuracy: 0.7475000 \n",
      "Iter:    84 | Cost: 0.7227582 | Accuracy: 0.7525000 \n",
      "Iter:    85 | Cost: 0.8584297 | Accuracy: 0.7475000 \n",
      "Iter:    86 | Cost: 0.8308994 | Accuracy: 0.7512500 \n",
      "Iter:    87 | Cost: 0.7223055 | Accuracy: 0.7675000 \n",
      "Iter:    88 | Cost: 0.6663483 | Accuracy: 0.7812500 \n",
      "Iter:    89 | Cost: 0.6946465 | Accuracy: 0.7812500 \n",
      "Iter:    90 | Cost: 0.7494510 | Accuracy: 0.7837500 \n",
      "Iter:    91 | Cost: 0.7819379 | Accuracy: 0.7775000 \n",
      "Iter:    92 | Cost: 0.7743956 | Accuracy: 0.7700000 \n",
      "Iter:    93 | Cost: 0.7056745 | Accuracy: 0.7675000 \n",
      "Iter:    94 | Cost: 0.6795157 | Accuracy: 0.7662500 \n",
      "Iter:    95 | Cost: 0.7514197 | Accuracy: 0.7562500 \n",
      "Iter:    96 | Cost: 0.8238144 | Accuracy: 0.7462500 \n",
      "Iter:    97 | Cost: 0.8154546 | Accuracy: 0.7537500 \n",
      "Iter:    98 | Cost: 0.7190682 | Accuracy: 0.7750000 \n",
      "Iter:    99 | Cost: 0.6675294 | Accuracy: 0.7837500 \n",
      "Iter:   100 | Cost: 0.7003019 | Accuracy: 0.7850000 \n",
      "Iter:   101 | Cost: 0.7878046 | Accuracy: 0.7725000 \n",
      "Iter:   102 | Cost: 0.8580716 | Accuracy: 0.7700000 \n",
      "Iter:   103 | Cost: 0.8262434 | Accuracy: 0.7712500 \n",
      "Iter:   104 | Cost: 0.7819776 | Accuracy: 0.7712500 \n",
      "Iter:   105 | Cost: 0.7419673 | Accuracy: 0.7737500 \n",
      "Iter:   106 | Cost: 0.7035221 | Accuracy: 0.7837500 \n",
      "Iter:   107 | Cost: 0.6608462 | Accuracy: 0.7862500 \n",
      "Iter:   108 | Cost: 0.6704100 | Accuracy: 0.7850000 \n",
      "Iter:   109 | Cost: 0.7264235 | Accuracy: 0.7712500 \n",
      "Iter:   110 | Cost: 0.8185412 | Accuracy: 0.7550000 \n",
      "Iter:   111 | Cost: 0.8957035 | Accuracy: 0.7112500 \n",
      "Iter:   112 | Cost: 0.9317630 | Accuracy: 0.6325000 \n",
      "Iter:   113 | Cost: 0.8446876 | Accuracy: 0.7350000 \n",
      "Iter:   114 | Cost: 0.7784935 | Accuracy: 0.7500000 \n",
      "Iter:   115 | Cost: 0.7067509 | Accuracy: 0.7725000 \n",
      "Iter:   116 | Cost: 0.6482158 | Accuracy: 0.7862500 \n",
      "Iter:   117 | Cost: 0.6533333 | Accuracy: 0.7900000 \n",
      "Iter:   118 | Cost: 0.6873748 | Accuracy: 0.7900000 \n",
      "Iter:   119 | Cost: 0.7207341 | Accuracy: 0.7937500 \n",
      "Iter:   120 | Cost: 0.7038481 | Accuracy: 0.7912500 \n",
      "Iter:   121 | Cost: 0.6881951 | Accuracy: 0.7812500 \n",
      "Iter:   122 | Cost: 0.7054360 | Accuracy: 0.7512500 \n",
      "Iter:   123 | Cost: 0.7643917 | Accuracy: 0.7137500 \n",
      "Iter:   124 | Cost: 0.8290102 | Accuracy: 0.6712500 \n",
      "Iter:   125 | Cost: 0.8180424 | Accuracy: 0.6887500 \n",
      "Iter:   126 | Cost: 0.7727638 | Accuracy: 0.7200000 \n",
      "Iter:   127 | Cost: 0.7193376 | Accuracy: 0.7500000 \n",
      "Iter:   128 | Cost: 0.6912154 | Accuracy: 0.7687500 \n",
      "Iter:   129 | Cost: 0.6782702 | Accuracy: 0.7762500 \n",
      "Iter:   130 | Cost: 0.6669849 | Accuracy: 0.7862500 \n",
      "Iter:   131 | Cost: 0.6578985 | Accuracy: 0.7912500 \n",
      "Iter:   132 | Cost: 0.6549924 | Accuracy: 0.7862500 \n",
      "Iter:   133 | Cost: 0.6535693 | Accuracy: 0.7912500 \n",
      "Iter:   134 | Cost: 0.6689619 | Accuracy: 0.7875000 \n",
      "Iter:   135 | Cost: 0.6949070 | Accuracy: 0.7862500 \n",
      "Iter:   136 | Cost: 0.7428771 | Accuracy: 0.7700000 \n",
      "Iter:   137 | Cost: 0.7749947 | Accuracy: 0.7550000 \n",
      "Iter:   138 | Cost: 0.7892114 | Accuracy: 0.7387500 \n",
      "Iter:   139 | Cost: 0.7806996 | Accuracy: 0.7325000 \n",
      "Iter:   140 | Cost: 0.7080369 | Accuracy: 0.7762500 \n",
      "Iter:   141 | Cost: 0.6696831 | Accuracy: 0.7875000 \n",
      "Iter:   142 | Cost: 0.6605156 | Accuracy: 0.7850000 \n",
      "Iter:   143 | Cost: 0.6598982 | Accuracy: 0.7825000 \n",
      "Iter:   144 | Cost: 0.6643145 | Accuracy: 0.7775000 \n",
      "Iter:   145 | Cost: 0.6697870 | Accuracy: 0.7787500 \n",
      "Iter:   146 | Cost: 0.6767455 | Accuracy: 0.7775000 \n",
      "Iter:   147 | Cost: 0.6797503 | Accuracy: 0.7775000 \n",
      "Iter:   148 | Cost: 0.6888545 | Accuracy: 0.7775000 \n",
      "Iter:   149 | Cost: 0.6926084 | Accuracy: 0.7837500 \n",
      "Iter:   150 | Cost: 0.6887275 | Accuracy: 0.7825000 \n"
     ]
    }
   ],
   "source": [
    "weights = weights_init\n",
    "bias = bias_init\n",
    "\n",
    "wbest = 0\n",
    "bbest = 0\n",
    "abest = 0\n",
    "ccost = 1 \n",
    "for it in range(150):\n",
    "\n",
    "    # weights update by one optimizer step\n",
    "\n",
    "    batch_index = np.random.randint(0, len(X), (batch_size,))\n",
    "    X_batch = X[batch_index]\n",
    "    Y_batch = Y[batch_index]\n",
    "    weights, bias, _, _ = opt.step(cost, weights, bias, X_batch, Y_batch)\n",
    "\n",
    "    # Compute the accuracy\n",
    "    predictions = [np.sign(variational_classifier(weights, bias, x)) for x in X]\n",
    "    \n",
    "    '''if accuracy(Y, predictions) > abest:\n",
    "        wbest = weights\n",
    "        bbest = bias\n",
    "        abest = accuracy(Y, predictions)\n",
    "        print('New best')\n",
    "\n",
    "    acc = accuracy(Y, predictions)\n",
    "\n",
    "    print(\n",
    "        \"Iter: {:5d} | Cost: {:0.7f} | Accuracy: {:0.7f} \".format(\n",
    "            it + 1, cost(weights, bias, X, Y), acc\n",
    "        )\n",
    "    )'''\n",
    "    prec = accuracy(Y, predictions)\n",
    "    if  prec > abest or ((prec == abest) and (cost(weights, bias, X, Y) < ccost)):\n",
    "        wbest = weights\n",
    "        bbest = bias\n",
    "        abest = prec\n",
    "        ccost = cost(weights, bias, X, Y)\n",
    "        print('New best')\n",
    "    #prec = metrics.precision_score(Y, predictions, average='binary')\n",
    "    print(\n",
    "        \"Iter: {:5d} | Cost: {:0.7f} | Accuracy: {:0.7f} \".format(\n",
    "            it + 1, cost(weights, bias, X, Y), prec\n",
    "        )\n",
    "    )\n",
    "    \n",
    "    "
   ]
  },
  {
   "cell_type": "code",
   "execution_count": 43,
   "id": "615e6410-5955-469d-8ccd-32517ba8ec3f",
   "metadata": {},
   "outputs": [
    {
     "name": "stdout",
     "output_type": "stream",
     "text": [
      "Cost: 0.5771970542537855, Accuracy: 80.0%\n"
     ]
    }
   ],
   "source": [
    "predictions = [np.sign(variational_classifier(wbest, bbest, x)) for x in Xte]\n",
    "pred = [np.sign(variational_classifier(wbest, bbest, x)) for x in X]\n",
    "acc = accuracy(Yte, predictions)\n",
    "\n",
    "print(f'Cost: {cost(wbest, bbest, Xte, Yte)}, Accuracy: {np.round(acc, 2) * 100}%')"
   ]
  },
  {
   "cell_type": "code",
   "execution_count": 44,
   "id": "694c231f-ce47-4bdb-be6a-eb1308ebc00e",
   "metadata": {},
   "outputs": [
    {
     "name": "stdout",
     "output_type": "stream",
     "text": [
      "              precision    recall  f1-score   support\n",
      "\n",
      "        -1.0       0.80      1.00      0.89       160\n",
      "         1.0       0.00      0.00      0.00        40\n",
      "\n",
      "    accuracy                           0.80       200\n",
      "   macro avg       0.40      0.50      0.44       200\n",
      "weighted avg       0.64      0.80      0.71       200\n",
      "\n"
     ]
    }
   ],
   "source": [
    "print(metrics.classification_report(Yte, predictions))"
   ]
  },
  {
   "cell_type": "code",
   "execution_count": 45,
   "id": "660c69a6-87da-400e-99ba-739d49627088",
   "metadata": {},
   "outputs": [
    {
     "name": "stdout",
     "output_type": "stream",
     "text": [
      "\n",
      "\n",
      "    Precision: 0.0%\n",
      "    Recall: 0.0%\n",
      "    f1: 0.0%\n",
      "    Accuracy: 80.0%\n",
      "    Balanced accuracy: 80.0%\n",
      "    Matthew corcorref: 0.0%\n",
      "    \n"
     ]
    }
   ],
   "source": [
    "print(f'''\n",
    "\n",
    "    Precision: {round(100*metrics.precision_score(predictions,Yte),2)}%\n",
    "    Recall: {round(100*metrics.recall_score(predictions,Yte),2)}%\n",
    "    f1: {round(100*metrics.f1_score(predictions,Yte),2)}%\n",
    "    Accuracy: {round(100*metrics.accuracy_score(predictions,Yte),2)}%\n",
    "    Balanced accuracy: {round(100*metrics.balanced_accuracy_score(predictions,Yte),2)}%\n",
    "    Matthew corcorref: {round(100*metrics.matthews_corrcoef(predictions,Yte),2)}%\n",
    "    ''')"
   ]
  },
  {
   "cell_type": "code",
   "execution_count": null,
   "id": "5ee63f17-2adf-48b6-9106-fb542ed641d6",
   "metadata": {},
   "outputs": [],
   "source": []
  },
  {
   "cell_type": "code",
   "execution_count": null,
   "id": "b697c8a2-32ea-4488-a4a5-d40c89115e8d",
   "metadata": {},
   "outputs": [],
   "source": []
  },
  {
   "cell_type": "code",
   "execution_count": null,
   "id": "3733572a-30eb-4080-bb3e-7201605149c8",
   "metadata": {},
   "outputs": [],
   "source": []
  },
  {
   "cell_type": "code",
   "execution_count": null,
   "id": "8f19289f-ce71-4aa8-8504-ac6564f69660",
   "metadata": {},
   "outputs": [],
   "source": []
  }
 ],
 "metadata": {
  "kernelspec": {
   "display_name": "Python 3 (ipykernel)",
   "language": "python",
   "name": "python3"
  },
  "language_info": {
   "codemirror_mode": {
    "name": "ipython",
    "version": 3
   },
   "file_extension": ".py",
   "mimetype": "text/x-python",
   "name": "python",
   "nbconvert_exporter": "python",
   "pygments_lexer": "ipython3",
   "version": "3.10.6"
  }
 },
 "nbformat": 4,
 "nbformat_minor": 5
}
