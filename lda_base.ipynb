{
 "cells": [
  {
   "cell_type": "code",
   "execution_count": 53,
   "metadata": {},
   "outputs": [],
   "source": [
    "import pandas as pd\n",
    "import numpy as np\n",
    "from pennylane import numpy as np\n",
    "import pennylane as qml\n",
    "from pennylane_qiskit import IBMQDevice\n",
    "from pennylane_qiskit import BasicAerDevice\n",
    "from pennylane.templates.embeddings import AngleEmbedding, AmplitudeEmbedding\n",
    "from pennylane.optimize import AdamOptimizer\n",
    "from sklearn.decomposition import PCA\n",
    "from sklearn.preprocessing import StandardScaler\n",
    "from sklearn import metrics\n",
    "from sklearn.model_selection import train_test_split\n",
    "from sklearn.preprocessing import MinMaxScaler\n",
    "from sklearn.discriminant_analysis import LinearDiscriminantAnalysis as LDA\n",
    "from sklearn.preprocessing import normalize\n",
    "\n",
    "\n",
    "import time\n",
    "start = time.time()\n",
    "\n",
    "import warnings\n",
    "warnings.filterwarnings('ignore')"
   ]
  },
  {
   "cell_type": "code",
   "execution_count": 54,
   "metadata": {},
   "outputs": [],
   "source": [
    "# Dataset CSV load\n",
    "df = pd.read_csv('fraud_detection_bank_dataset.csv', sep=',')\n",
    "\n",
    "# Data type definition as float\n",
    "df = df.astype(float)\n",
    "\n",
    "# Drop of columns if necessary\n",
    "df = df.drop(['Unnamed: 0'], axis = 1)\n",
    "\n",
    "# Sample selection\n",
    "df_sample = df.sample(2000)"
   ]
  },
  {
   "cell_type": "code",
   "execution_count": 55,
   "metadata": {},
   "outputs": [
    {
     "name": "stdout",
     "output_type": "stream",
     "text": [
      "<class 'pandas.core.frame.DataFrame'>\n",
      "Int64Index: 2000 entries, 2635 to 3461\n",
      "Columns: 113 entries, col_0 to targets\n",
      "dtypes: float64(113)\n",
      "memory usage: 1.7 MB\n"
     ]
    }
   ],
   "source": [
    "# Review the information related to the dataframe\n",
    "\n",
    "df_sample.info()"
   ]
  },
  {
   "cell_type": "code",
   "execution_count": 56,
   "metadata": {},
   "outputs": [
    {
     "data": {
      "text/html": [
       "<div>\n",
       "<style scoped>\n",
       "    .dataframe tbody tr th:only-of-type {\n",
       "        vertical-align: middle;\n",
       "    }\n",
       "\n",
       "    .dataframe tbody tr th {\n",
       "        vertical-align: top;\n",
       "    }\n",
       "\n",
       "    .dataframe thead th {\n",
       "        text-align: right;\n",
       "    }\n",
       "</style>\n",
       "<table border=\"1\" class=\"dataframe\">\n",
       "  <thead>\n",
       "    <tr style=\"text-align: right;\">\n",
       "      <th></th>\n",
       "      <th>col_0</th>\n",
       "      <th>col_1</th>\n",
       "      <th>col_2</th>\n",
       "      <th>col_3</th>\n",
       "      <th>col_4</th>\n",
       "      <th>col_5</th>\n",
       "      <th>col_6</th>\n",
       "      <th>col_7</th>\n",
       "      <th>col_8</th>\n",
       "      <th>col_9</th>\n",
       "      <th>...</th>\n",
       "      <th>col_103</th>\n",
       "      <th>col_104</th>\n",
       "      <th>col_105</th>\n",
       "      <th>col_106</th>\n",
       "      <th>col_107</th>\n",
       "      <th>col_108</th>\n",
       "      <th>col_109</th>\n",
       "      <th>col_110</th>\n",
       "      <th>col_111</th>\n",
       "      <th>targets</th>\n",
       "    </tr>\n",
       "  </thead>\n",
       "  <tbody>\n",
       "    <tr>\n",
       "      <th>count</th>\n",
       "      <td>2000.000000</td>\n",
       "      <td>2000.0000</td>\n",
       "      <td>2000.000000</td>\n",
       "      <td>2000.000000</td>\n",
       "      <td>2000.000000</td>\n",
       "      <td>2000.000000</td>\n",
       "      <td>2000.000000</td>\n",
       "      <td>2000.000000</td>\n",
       "      <td>2000.0</td>\n",
       "      <td>2000.0</td>\n",
       "      <td>...</td>\n",
       "      <td>2000.000000</td>\n",
       "      <td>2000.000000</td>\n",
       "      <td>2000.000000</td>\n",
       "      <td>2000.000000</td>\n",
       "      <td>2000.000000</td>\n",
       "      <td>2000.0</td>\n",
       "      <td>2000.000000</td>\n",
       "      <td>2000.000000</td>\n",
       "      <td>2000.000000</td>\n",
       "      <td>2000.00000</td>\n",
       "    </tr>\n",
       "    <tr>\n",
       "      <th>mean</th>\n",
       "      <td>2.764000</td>\n",
       "      <td>271.6740</td>\n",
       "      <td>0.389000</td>\n",
       "      <td>2.236000</td>\n",
       "      <td>0.099000</td>\n",
       "      <td>0.857000</td>\n",
       "      <td>2.441500</td>\n",
       "      <td>2.764000</td>\n",
       "      <td>0.0</td>\n",
       "      <td>0.0</td>\n",
       "      <td>...</td>\n",
       "      <td>0.005500</td>\n",
       "      <td>0.338500</td>\n",
       "      <td>0.003500</td>\n",
       "      <td>0.311000</td>\n",
       "      <td>0.203000</td>\n",
       "      <td>0.0</td>\n",
       "      <td>0.049000</td>\n",
       "      <td>0.029500</td>\n",
       "      <td>43.267500</td>\n",
       "      <td>0.26400</td>\n",
       "    </tr>\n",
       "    <tr>\n",
       "      <th>std</th>\n",
       "      <td>9.647167</td>\n",
       "      <td>561.9988</td>\n",
       "      <td>3.169969</td>\n",
       "      <td>9.564311</td>\n",
       "      <td>1.013762</td>\n",
       "      <td>3.773549</td>\n",
       "      <td>2.994839</td>\n",
       "      <td>9.647167</td>\n",
       "      <td>0.0</td>\n",
       "      <td>0.0</td>\n",
       "      <td>...</td>\n",
       "      <td>0.080455</td>\n",
       "      <td>0.473318</td>\n",
       "      <td>0.059072</td>\n",
       "      <td>0.463019</td>\n",
       "      <td>0.402333</td>\n",
       "      <td>0.0</td>\n",
       "      <td>0.215922</td>\n",
       "      <td>0.315721</td>\n",
       "      <td>65.151349</td>\n",
       "      <td>0.44091</td>\n",
       "    </tr>\n",
       "    <tr>\n",
       "      <th>min</th>\n",
       "      <td>0.000000</td>\n",
       "      <td>0.0000</td>\n",
       "      <td>0.000000</td>\n",
       "      <td>0.000000</td>\n",
       "      <td>0.000000</td>\n",
       "      <td>0.000000</td>\n",
       "      <td>-1.000000</td>\n",
       "      <td>0.000000</td>\n",
       "      <td>0.0</td>\n",
       "      <td>0.0</td>\n",
       "      <td>...</td>\n",
       "      <td>0.000000</td>\n",
       "      <td>0.000000</td>\n",
       "      <td>0.000000</td>\n",
       "      <td>0.000000</td>\n",
       "      <td>0.000000</td>\n",
       "      <td>0.0</td>\n",
       "      <td>0.000000</td>\n",
       "      <td>0.000000</td>\n",
       "      <td>0.000000</td>\n",
       "      <td>0.00000</td>\n",
       "    </tr>\n",
       "    <tr>\n",
       "      <th>25%</th>\n",
       "      <td>0.000000</td>\n",
       "      <td>36.0000</td>\n",
       "      <td>0.000000</td>\n",
       "      <td>0.000000</td>\n",
       "      <td>0.000000</td>\n",
       "      <td>0.000000</td>\n",
       "      <td>0.000000</td>\n",
       "      <td>0.000000</td>\n",
       "      <td>0.0</td>\n",
       "      <td>0.0</td>\n",
       "      <td>...</td>\n",
       "      <td>0.000000</td>\n",
       "      <td>0.000000</td>\n",
       "      <td>0.000000</td>\n",
       "      <td>0.000000</td>\n",
       "      <td>0.000000</td>\n",
       "      <td>0.0</td>\n",
       "      <td>0.000000</td>\n",
       "      <td>0.000000</td>\n",
       "      <td>5.000000</td>\n",
       "      <td>0.00000</td>\n",
       "    </tr>\n",
       "    <tr>\n",
       "      <th>50%</th>\n",
       "      <td>0.000000</td>\n",
       "      <td>97.0000</td>\n",
       "      <td>0.000000</td>\n",
       "      <td>1.000000</td>\n",
       "      <td>0.000000</td>\n",
       "      <td>0.000000</td>\n",
       "      <td>2.000000</td>\n",
       "      <td>0.000000</td>\n",
       "      <td>0.0</td>\n",
       "      <td>0.0</td>\n",
       "      <td>...</td>\n",
       "      <td>0.000000</td>\n",
       "      <td>0.000000</td>\n",
       "      <td>0.000000</td>\n",
       "      <td>0.000000</td>\n",
       "      <td>0.000000</td>\n",
       "      <td>0.0</td>\n",
       "      <td>0.000000</td>\n",
       "      <td>0.000000</td>\n",
       "      <td>17.000000</td>\n",
       "      <td>0.00000</td>\n",
       "    </tr>\n",
       "    <tr>\n",
       "      <th>75%</th>\n",
       "      <td>2.000000</td>\n",
       "      <td>267.0000</td>\n",
       "      <td>0.000000</td>\n",
       "      <td>2.000000</td>\n",
       "      <td>0.000000</td>\n",
       "      <td>1.000000</td>\n",
       "      <td>6.000000</td>\n",
       "      <td>2.000000</td>\n",
       "      <td>0.0</td>\n",
       "      <td>0.0</td>\n",
       "      <td>...</td>\n",
       "      <td>0.000000</td>\n",
       "      <td>1.000000</td>\n",
       "      <td>0.000000</td>\n",
       "      <td>1.000000</td>\n",
       "      <td>0.000000</td>\n",
       "      <td>0.0</td>\n",
       "      <td>0.000000</td>\n",
       "      <td>0.000000</td>\n",
       "      <td>62.000000</td>\n",
       "      <td>1.00000</td>\n",
       "    </tr>\n",
       "    <tr>\n",
       "      <th>max</th>\n",
       "      <td>242.000000</td>\n",
       "      <td>9076.0000</td>\n",
       "      <td>84.000000</td>\n",
       "      <td>259.000000</td>\n",
       "      <td>40.000000</td>\n",
       "      <td>144.000000</td>\n",
       "      <td>8.000000</td>\n",
       "      <td>242.000000</td>\n",
       "      <td>0.0</td>\n",
       "      <td>0.0</td>\n",
       "      <td>...</td>\n",
       "      <td>2.000000</td>\n",
       "      <td>1.000000</td>\n",
       "      <td>1.000000</td>\n",
       "      <td>1.000000</td>\n",
       "      <td>1.000000</td>\n",
       "      <td>0.0</td>\n",
       "      <td>1.000000</td>\n",
       "      <td>6.000000</td>\n",
       "      <td>747.000000</td>\n",
       "      <td>1.00000</td>\n",
       "    </tr>\n",
       "  </tbody>\n",
       "</table>\n",
       "<p>8 rows × 113 columns</p>\n",
       "</div>"
      ],
      "text/plain": [
       "             col_0      col_1        col_2        col_3        col_4  \\\n",
       "count  2000.000000  2000.0000  2000.000000  2000.000000  2000.000000   \n",
       "mean      2.764000   271.6740     0.389000     2.236000     0.099000   \n",
       "std       9.647167   561.9988     3.169969     9.564311     1.013762   \n",
       "min       0.000000     0.0000     0.000000     0.000000     0.000000   \n",
       "25%       0.000000    36.0000     0.000000     0.000000     0.000000   \n",
       "50%       0.000000    97.0000     0.000000     1.000000     0.000000   \n",
       "75%       2.000000   267.0000     0.000000     2.000000     0.000000   \n",
       "max     242.000000  9076.0000    84.000000   259.000000    40.000000   \n",
       "\n",
       "             col_5        col_6        col_7   col_8   col_9  ...  \\\n",
       "count  2000.000000  2000.000000  2000.000000  2000.0  2000.0  ...   \n",
       "mean      0.857000     2.441500     2.764000     0.0     0.0  ...   \n",
       "std       3.773549     2.994839     9.647167     0.0     0.0  ...   \n",
       "min       0.000000    -1.000000     0.000000     0.0     0.0  ...   \n",
       "25%       0.000000     0.000000     0.000000     0.0     0.0  ...   \n",
       "50%       0.000000     2.000000     0.000000     0.0     0.0  ...   \n",
       "75%       1.000000     6.000000     2.000000     0.0     0.0  ...   \n",
       "max     144.000000     8.000000   242.000000     0.0     0.0  ...   \n",
       "\n",
       "           col_103      col_104      col_105      col_106      col_107  \\\n",
       "count  2000.000000  2000.000000  2000.000000  2000.000000  2000.000000   \n",
       "mean      0.005500     0.338500     0.003500     0.311000     0.203000   \n",
       "std       0.080455     0.473318     0.059072     0.463019     0.402333   \n",
       "min       0.000000     0.000000     0.000000     0.000000     0.000000   \n",
       "25%       0.000000     0.000000     0.000000     0.000000     0.000000   \n",
       "50%       0.000000     0.000000     0.000000     0.000000     0.000000   \n",
       "75%       0.000000     1.000000     0.000000     1.000000     0.000000   \n",
       "max       2.000000     1.000000     1.000000     1.000000     1.000000   \n",
       "\n",
       "       col_108      col_109      col_110      col_111     targets  \n",
       "count   2000.0  2000.000000  2000.000000  2000.000000  2000.00000  \n",
       "mean       0.0     0.049000     0.029500    43.267500     0.26400  \n",
       "std        0.0     0.215922     0.315721    65.151349     0.44091  \n",
       "min        0.0     0.000000     0.000000     0.000000     0.00000  \n",
       "25%        0.0     0.000000     0.000000     5.000000     0.00000  \n",
       "50%        0.0     0.000000     0.000000    17.000000     0.00000  \n",
       "75%        0.0     0.000000     0.000000    62.000000     1.00000  \n",
       "max        0.0     1.000000     6.000000   747.000000     1.00000  \n",
       "\n",
       "[8 rows x 113 columns]"
      ]
     },
     "execution_count": 56,
     "metadata": {},
     "output_type": "execute_result"
    }
   ],
   "source": [
    "# Table of the description of the dataframe related to fixed parameters\n",
    "\n",
    "df_sample.describe()"
   ]
  },
  {
   "cell_type": "code",
   "execution_count": 57,
   "metadata": {},
   "outputs": [],
   "source": [
    "# Train, test and validation split\n",
    "train = df_sample.sample(frac = 0.7)\n",
    "test = df_sample.drop(train.index).sample(frac = 0.5)\n",
    "validate = df_sample.drop(train.index).drop(test.index)"
   ]
  },
  {
   "cell_type": "code",
   "execution_count": 58,
   "metadata": {},
   "outputs": [
    {
     "data": {
      "text/plain": [
       "(1400, 113)"
      ]
     },
     "execution_count": 58,
     "metadata": {},
     "output_type": "execute_result"
    }
   ],
   "source": [
    "train.shape"
   ]
  },
  {
   "cell_type": "code",
   "execution_count": 59,
   "metadata": {},
   "outputs": [
    {
     "data": {
      "text/plain": [
       "(300, 113)"
      ]
     },
     "execution_count": 59,
     "metadata": {},
     "output_type": "execute_result"
    }
   ],
   "source": [
    "test.shape"
   ]
  },
  {
   "cell_type": "code",
   "execution_count": 60,
   "metadata": {},
   "outputs": [
    {
     "data": {
      "text/plain": [
       "(300, 113)"
      ]
     },
     "execution_count": 60,
     "metadata": {},
     "output_type": "execute_result"
    }
   ],
   "source": [
    "validate.shape"
   ]
  },
  {
   "cell_type": "code",
   "execution_count": 61,
   "metadata": {},
   "outputs": [],
   "source": [
    "# Separation of labels\n",
    "x_train = train\n",
    "y_train = train[['targets']]\n",
    "x_test = test\n",
    "y_test = test[['targets']]\n",
    "x_validate = validate\n",
    "y_validate = validate[['targets']]"
   ]
  },
  {
   "cell_type": "code",
   "execution_count": 62,
   "metadata": {},
   "outputs": [],
   "source": [
    "# Hard split on the dataframe for the LDA\n",
    "\n",
    "# Train split\n",
    "features_a = x_train.iloc[:,:55]\n",
    "features_b = x_train.iloc[:,55:]\n",
    "\n",
    "# Test split\n",
    "features_a_test = x_test.iloc[:,:55]\n",
    "features_b_test = x_test.iloc[:,55:]\n",
    "\n",
    "# Validate split\n",
    "features_a_validate = x_validate.iloc[:,:55]\n",
    "features_b_validate = x_validate.iloc[:,55:]"
   ]
  },
  {
   "cell_type": "code",
   "execution_count": 63,
   "metadata": {},
   "outputs": [],
   "source": [
    "# LDA fit with the separated groups\n",
    "lda1 = LDA(n_components=1, solver='svd').fit(features_a, y_train)\n",
    "lda2 = LDA(n_components=1, solver='svd').fit(features_b, y_train)"
   ]
  },
  {
   "cell_type": "code",
   "execution_count": 64,
   "metadata": {},
   "outputs": [],
   "source": [
    "# LDA train transformation\n",
    "features_lda_1 = lda1.transform(features_a)\n",
    "features_lda_2 = lda2.transform(features_b)"
   ]
  },
  {
   "cell_type": "code",
   "execution_count": 65,
   "metadata": {},
   "outputs": [],
   "source": [
    "# LDA test transformation (using train fit)\n",
    "features_lda_1_test = lda1.transform(features_a_test)\n",
    "features_lda_2_test = lda2.transform(features_b_test)"
   ]
  },
  {
   "cell_type": "code",
   "execution_count": 66,
   "metadata": {},
   "outputs": [],
   "source": [
    "# LDA validate transformation (using train fit)\n",
    "features_lda_1_validate = lda1.transform(features_a_validate)\n",
    "features_lda_2_validate = lda2.transform(features_b_validate)"
   ]
  },
  {
   "cell_type": "code",
   "execution_count": 67,
   "metadata": {},
   "outputs": [],
   "source": [
    "# Arrays to dataframe for join in a single df\n",
    "features_lda_1 = pd.DataFrame(features_lda_1)\n",
    "features_lda_2 = pd.DataFrame(features_lda_2)\n",
    "features_lda_1_test = pd.DataFrame(features_lda_1_test)\n",
    "features_lda_2_test = pd.DataFrame(features_lda_2_test)\n",
    "features_lda_1_validate = pd.DataFrame(features_lda_1_validate)\n",
    "features_lda_2_validate = pd.DataFrame(features_lda_2_validate)"
   ]
  },
  {
   "cell_type": "code",
   "execution_count": 68,
   "metadata": {},
   "outputs": [],
   "source": [
    "# Join of dataframes\n",
    "x_train_lda = pd.concat([features_lda_1, features_lda_2], axis=1)\n",
    "x_test_lda = pd.concat([features_lda_1_test, features_lda_2_test], axis=1)\n",
    "x_validate_lda = pd.concat([features_lda_1_validate, features_lda_2_validate], axis=1)"
   ]
  },
  {
   "cell_type": "code",
   "execution_count": 69,
   "metadata": {},
   "outputs": [],
   "source": [
    "# Second standard scaler normalization (using train fit)\n",
    "std_scale = StandardScaler().fit(x_train_lda)\n",
    "data = std_scale.transform(x_train_lda)\n",
    "x_test_lda_n = std_scale.transform(x_test_lda)\n",
    "x_validate_lda_n = std_scale.transform(x_test_lda)"
   ]
  },
  {
   "cell_type": "code",
   "execution_count": 70,
   "metadata": {},
   "outputs": [
    {
     "data": {
      "text/plain": [
       "2"
      ]
     },
     "execution_count": 70,
     "metadata": {},
     "output_type": "execute_result"
    }
   ],
   "source": [
    "# Dimensions definition for QML\n",
    "n_dim = len(x_train_lda.columns)\n",
    "n_dim"
   ]
  },
  {
   "cell_type": "code",
   "execution_count": 71,
   "metadata": {},
   "outputs": [
    {
     "data": {
      "text/plain": [
       "targets\n",
       "0.0        74.714286\n",
       "1.0        25.285714\n",
       "dtype: float64"
      ]
     },
     "execution_count": 71,
     "metadata": {},
     "output_type": "execute_result"
    }
   ],
   "source": [
    "# Review the balance of the target variable in train\n",
    "\n",
    "y_train.value_counts(normalize=True)*100"
   ]
  },
  {
   "cell_type": "code",
   "execution_count": 72,
   "metadata": {},
   "outputs": [
    {
     "data": {
      "text/plain": [
       "targets\n",
       "0.0        73.333333\n",
       "1.0        26.666667\n",
       "dtype: float64"
      ]
     },
     "execution_count": 72,
     "metadata": {},
     "output_type": "execute_result"
    }
   ],
   "source": [
    "# Review the balance of the target variable in test\n",
    "\n",
    "y_test.value_counts(normalize=True)*100"
   ]
  },
  {
   "cell_type": "code",
   "execution_count": 73,
   "metadata": {},
   "outputs": [],
   "source": [
    "# Begin of Pennylane variational classifier"
   ]
  },
  {
   "cell_type": "code",
   "execution_count": 74,
   "metadata": {},
   "outputs": [],
   "source": [
    "# Angle Encoding\n",
    "num_qubits = n_dim\n",
    "\n",
    "# Device seletion\n",
    "dev = qml.device('default.qubit', wires = num_qubits, shots=1024)\n",
    "#dev = qml.device('default.qubit.tf', wires = num_qubits, shots=1024)\n",
    "#dev = qml.device('qiskit.ibmq', wires = num_qubits, backend='ibmq_manila', ibmqx_token=\"6cc75c58fc80fea56cb8dd391f8fbcfdb676a3dc7005493728bc9da7ea753e31a2110a01e3a0cc83f1a98f5ca79e32956fc66c11b5eea4cae163b3fa996be356\", shots=256)\n",
    "#dev = qml.device('qiskit.basicaer', wires = num_qubits, shots = 256)\n",
    "\n",
    "@qml.qnode(dev)\n",
    "def circuit(parameters, data):\n",
    "    for i in range(num_qubits):\n",
    "        qml.Hadamard(wires = i)\n",
    "    \n",
    "    AngleEmbedding(features = data, wires = range(num_qubits), rotation = 'Y')\n",
    "    \n",
    "    qml.StronglyEntanglingLayers(weights = parameters, wires = range(num_qubits))\n",
    "    \n",
    "    return qml.expval(qml.PauliZ(0))"
   ]
  },
  {
   "cell_type": "code",
   "execution_count": 75,
   "metadata": {},
   "outputs": [
    {
     "name": "stdout",
     "output_type": "stream",
     "text": [
      "[[[ 0.00607978 -0.00408812 -0.00016642]\n",
      "  [ 0.00249037  0.00173503  0.0012574 ]]\n",
      "\n",
      " [[ 0.00223442  0.01169267 -0.0034114 ]\n",
      "  [-0.01732298 -0.01619    -0.00695151]]\n",
      "\n",
      " [[ 0.00088427  0.00552891 -0.00915112]\n",
      "  [-0.00354648  0.00651411  0.00980091]]\n",
      "\n",
      " [[ 0.00591232 -0.01868129 -0.00521649]\n",
      "  [-0.00268737  0.00131551 -0.00090814]]\n",
      "\n",
      " [[-0.01546776 -0.00934685 -0.01062303]\n",
      "  [-0.00938344  0.00729765  0.00525423]]] 0.0\n"
     ]
    }
   ],
   "source": [
    "num_layers = 5\n",
    "weights_init = 0.01 * np.random.randn(num_layers, num_qubits, 3, requires_grad=True)\n",
    "bias_init = np.array(0.0, requires_grad=True)\n",
    "\n",
    "print(weights_init, bias_init)"
   ]
  },
  {
   "cell_type": "code",
   "execution_count": 76,
   "metadata": {},
   "outputs": [
    {
     "data": {
      "text/plain": [
       "tensor(0.05859375, requires_grad=True)"
      ]
     },
     "execution_count": 76,
     "metadata": {},
     "output_type": "execute_result"
    }
   ],
   "source": [
    "circuit(weights_init, data[0])"
   ]
  },
  {
   "cell_type": "code",
   "execution_count": 77,
   "metadata": {},
   "outputs": [],
   "source": [
    "def variational_classifier(weights, bias, x):\n",
    "    return circuit(weights, x) + bias"
   ]
  },
  {
   "cell_type": "code",
   "execution_count": 78,
   "metadata": {},
   "outputs": [],
   "source": [
    "def square_loss(labels, predictions):\n",
    "    loss = 0\n",
    "    for l, p in zip(labels, predictions):\n",
    "        loss = loss + (l - p) ** 2\n",
    "\n",
    "    loss = loss / len(labels)\n",
    "    return loss"
   ]
  },
  {
   "cell_type": "code",
   "execution_count": 79,
   "metadata": {},
   "outputs": [],
   "source": [
    "def accuracy(labels, predictions):\n",
    "\n",
    "    loss = 0\n",
    "    for l, p in zip(labels, predictions):\n",
    "        if abs(l - p) < 1e-5:\n",
    "            loss = loss + 1\n",
    "    loss = loss / len(labels)\n",
    "\n",
    "    return loss"
   ]
  },
  {
   "cell_type": "code",
   "execution_count": 80,
   "metadata": {},
   "outputs": [],
   "source": [
    "def cost(weights, bias, X, Y):\n",
    "    predictions = [variational_classifier(weights, bias, x) for x in X]\n",
    "    return square_loss(Y, predictions)"
   ]
  },
  {
   "cell_type": "code",
   "execution_count": 81,
   "metadata": {},
   "outputs": [
    {
     "name": "stdout",
     "output_type": "stream",
     "text": [
      "X = [tensor(0.57763142, requires_grad=False), tensor(0.08617211, requires_grad=False)], Y = -1\n",
      "X = [tensor(0.56883442, requires_grad=False), tensor(-0.14983753, requires_grad=False)], Y = -1\n",
      "X = [tensor(0.48586538, requires_grad=False), tensor(-0.71935856, requires_grad=False)], Y = -1\n",
      "X = [tensor(-0.5921235, requires_grad=False), tensor(-0.12414815, requires_grad=False)], Y = -1\n",
      "X = [tensor(0.86166586, requires_grad=False), tensor(1.67787148, requires_grad=False)], Y =  1\n"
     ]
    }
   ],
   "source": [
    "Y = np.array(y_train.values[:,0] * 2 - np.ones(len(y_train.values[:,0])), requires_grad = False)  # shift label from {0, 1} to {-1, 1}\n",
    "X = np.array(data, requires_grad=False)\n",
    "\n",
    "for i in range(5):\n",
    "    print(\"X = {}, Y = {: d}\".format(list(X[i]), int(Y[i])))"
   ]
  },
  {
   "cell_type": "code",
   "execution_count": 82,
   "metadata": {},
   "outputs": [],
   "source": [
    "opt = AdamOptimizer(stepsize=0.1, beta1=0.9, beta2=0.99, eps=1e-08)\n",
    "batch_size = 10"
   ]
  },
  {
   "cell_type": "code",
   "execution_count": 83,
   "metadata": {},
   "outputs": [
    {
     "name": "stdout",
     "output_type": "stream",
     "text": [
      "New best\n",
      "Iter:     1 | Cost: 0.7271737 | Accuracy: 0.7635714 \n",
      "New best\n",
      "Iter:     2 | Cost: 0.5904514 | Accuracy: 0.8085714 \n",
      "New best\n",
      "Iter:     3 | Cost: 0.5353814 | Accuracy: 0.8300000 \n",
      "New best\n",
      "Iter:     4 | Cost: 0.5059354 | Accuracy: 0.8357143 \n",
      "New best\n",
      "Iter:     5 | Cost: 0.4892570 | Accuracy: 0.8421429 \n",
      "New best\n",
      "Iter:     6 | Cost: 0.4609409 | Accuracy: 0.8514286 \n",
      "New best\n",
      "Iter:     7 | Cost: 0.4394666 | Accuracy: 0.8578571 \n",
      "New best\n",
      "Iter:     8 | Cost: 0.4177787 | Accuracy: 0.8657143 \n",
      "New best\n",
      "Iter:     9 | Cost: 0.4073585 | Accuracy: 0.8735714 \n",
      "Iter:    10 | Cost: 0.4073844 | Accuracy: 0.8735714 \n",
      "Iter:    11 | Cost: 0.4130709 | Accuracy: 0.8728571 \n",
      "Iter:    12 | Cost: 0.4069243 | Accuracy: 0.8728571 \n",
      "New best\n",
      "Iter:    13 | Cost: 0.4076166 | Accuracy: 0.8771429 \n",
      "New best\n",
      "Iter:    14 | Cost: 0.4434968 | Accuracy: 0.8821429 \n",
      "New best\n",
      "Iter:    15 | Cost: 0.4199666 | Accuracy: 0.8835714 \n",
      "Iter:    16 | Cost: 0.3899834 | Accuracy: 0.8792857 \n",
      "Iter:    17 | Cost: 0.3847866 | Accuracy: 0.8800000 \n",
      "Iter:    18 | Cost: 0.3924339 | Accuracy: 0.8800000 \n",
      "Iter:    19 | Cost: 0.3936479 | Accuracy: 0.8778571 \n",
      "Iter:    20 | Cost: 0.3914267 | Accuracy: 0.8778571 \n"
     ]
    }
   ],
   "source": [
    "weights = weights_init\n",
    "bias = bias_init\n",
    "\n",
    "wbest = 0\n",
    "bbest = 0\n",
    "abest = 0\n",
    "\n",
    "for it in range(20):\n",
    "\n",
    "    # weights update by one optimizer step\n",
    "\n",
    "    batch_index = np.random.randint(0, len(X), (batch_size,))\n",
    "    X_batch = X[batch_index]\n",
    "    Y_batch = Y[batch_index]\n",
    "    weights, bias, _, _ = opt.step(cost, weights, bias, X_batch, Y_batch)\n",
    "\n",
    "    # Compute the accuracy\n",
    "    predictions = [np.sign(variational_classifier(weights, bias, x)) for x in X]\n",
    "    \n",
    "    if accuracy(Y, predictions) > abest:\n",
    "        wbest = weights\n",
    "        bbest = bias\n",
    "        abest = accuracy(Y, predictions)\n",
    "        print('New best')\n",
    "\n",
    "    acc = accuracy(Y, predictions)\n",
    "\n",
    "    print(\n",
    "        \"Iter: {:5d} | Cost: {:0.7f} | Accuracy: {:0.7f} \".format(\n",
    "            it + 1, cost(weights, bias, X, Y), acc\n",
    "        )\n",
    "    )"
   ]
  },
  {
   "cell_type": "code",
   "execution_count": 84,
   "metadata": {},
   "outputs": [],
   "source": [
    "# Testing set preparation\n",
    "Yte = np.array(y_test.values[:,0] * 2 - np.ones(len(y_test.values[:,0])), requires_grad = False)\n",
    "Xte = np.array(normalize(x_test_lda_n), requires_grad=False)"
   ]
  },
  {
   "cell_type": "code",
   "execution_count": 85,
   "metadata": {},
   "outputs": [
    {
     "name": "stdout",
     "output_type": "stream",
     "text": [
      "Cost: 0.5593412262119379, Accuracy: 83.0%\n"
     ]
    }
   ],
   "source": [
    "# Outcome on test set\n",
    "predictions = [np.sign(variational_classifier(wbest, bbest, x)) for x in Xte]\n",
    "pred = [np.sign(variational_classifier(wbest, bbest, x)) for x in X]\n",
    "acc = accuracy(Yte, predictions)\n",
    "\n",
    "print(f'Cost: {cost(wbest, bbest, Xte, Yte)}, Accuracy: {np.round(acc, 2) * 100}%')"
   ]
  },
  {
   "cell_type": "code",
   "execution_count": 86,
   "metadata": {},
   "outputs": [
    {
     "data": {
      "text/html": [
       "<div>\n",
       "<style scoped>\n",
       "    .dataframe tbody tr th:only-of-type {\n",
       "        vertical-align: middle;\n",
       "    }\n",
       "\n",
       "    .dataframe tbody tr th {\n",
       "        vertical-align: top;\n",
       "    }\n",
       "\n",
       "    .dataframe thead th {\n",
       "        text-align: right;\n",
       "    }\n",
       "</style>\n",
       "<table border=\"1\" class=\"dataframe\">\n",
       "  <thead>\n",
       "    <tr style=\"text-align: right;\">\n",
       "      <th></th>\n",
       "      <th>Test</th>\n",
       "      <th>Predictions</th>\n",
       "    </tr>\n",
       "  </thead>\n",
       "  <tbody>\n",
       "    <tr>\n",
       "      <th>0</th>\n",
       "      <td>-1.0</td>\n",
       "      <td>-1.0</td>\n",
       "    </tr>\n",
       "    <tr>\n",
       "      <th>1</th>\n",
       "      <td>-1.0</td>\n",
       "      <td>-1.0</td>\n",
       "    </tr>\n",
       "    <tr>\n",
       "      <th>2</th>\n",
       "      <td>-1.0</td>\n",
       "      <td>-1.0</td>\n",
       "    </tr>\n",
       "    <tr>\n",
       "      <th>3</th>\n",
       "      <td>-1.0</td>\n",
       "      <td>-1.0</td>\n",
       "    </tr>\n",
       "    <tr>\n",
       "      <th>4</th>\n",
       "      <td>-1.0</td>\n",
       "      <td>-1.0</td>\n",
       "    </tr>\n",
       "    <tr>\n",
       "      <th>...</th>\n",
       "      <td>...</td>\n",
       "      <td>...</td>\n",
       "    </tr>\n",
       "    <tr>\n",
       "      <th>295</th>\n",
       "      <td>-1.0</td>\n",
       "      <td>-1.0</td>\n",
       "    </tr>\n",
       "    <tr>\n",
       "      <th>296</th>\n",
       "      <td>-1.0</td>\n",
       "      <td>-1.0</td>\n",
       "    </tr>\n",
       "    <tr>\n",
       "      <th>297</th>\n",
       "      <td>1.0</td>\n",
       "      <td>1.0</td>\n",
       "    </tr>\n",
       "    <tr>\n",
       "      <th>298</th>\n",
       "      <td>1.0</td>\n",
       "      <td>-1.0</td>\n",
       "    </tr>\n",
       "    <tr>\n",
       "      <th>299</th>\n",
       "      <td>-1.0</td>\n",
       "      <td>-1.0</td>\n",
       "    </tr>\n",
       "  </tbody>\n",
       "</table>\n",
       "<p>300 rows × 2 columns</p>\n",
       "</div>"
      ],
      "text/plain": [
       "     Test Predictions\n",
       "0    -1.0        -1.0\n",
       "1    -1.0        -1.0\n",
       "2    -1.0        -1.0\n",
       "3    -1.0        -1.0\n",
       "4    -1.0        -1.0\n",
       "..    ...         ...\n",
       "295  -1.0        -1.0\n",
       "296  -1.0        -1.0\n",
       "297   1.0         1.0\n",
       "298   1.0        -1.0\n",
       "299  -1.0        -1.0\n",
       "\n",
       "[300 rows x 2 columns]"
      ]
     },
     "execution_count": 86,
     "metadata": {},
     "output_type": "execute_result"
    }
   ],
   "source": [
    "# Test and predictions comparison\n",
    "pd.DataFrame((Yte, predictions), ('Test', 'Predictions')).T"
   ]
  },
  {
   "cell_type": "code",
   "execution_count": 87,
   "metadata": {},
   "outputs": [
    {
     "name": "stdout",
     "output_type": "stream",
     "text": [
      "              precision    recall  f1-score   support\n",
      "\n",
      "        -1.0       0.82      0.98      0.89       220\n",
      "         1.0       0.87      0.42      0.57        80\n",
      "\n",
      "    accuracy                           0.83       300\n",
      "   macro avg       0.85      0.70      0.73       300\n",
      "weighted avg       0.84      0.83      0.81       300\n",
      "\n",
      "0.8717948717948718\n",
      "0.425\n",
      "0.5714285714285714\n",
      "0.7011363636363637\n"
     ]
    }
   ],
   "source": [
    "# Print the classification report and important metrics\n",
    "print(metrics.classification_report(Yte, predictions))\n",
    "print(metrics.precision_score(Yte, predictions))\n",
    "print(metrics.recall_score(Yte, predictions))\n",
    "print(metrics.f1_score(Yte, predictions))\n",
    "print(metrics.balanced_accuracy_score(Yte, predictions))"
   ]
  },
  {
   "cell_type": "code",
   "execution_count": 88,
   "metadata": {},
   "outputs": [],
   "source": [
    "# Validation set preparation\n",
    "Vte = np.array(y_validate.values[:,0] * 2 - np.ones(len(y_validate.values[:,0])), requires_grad = False)\n",
    "Xte = np.array(normalize(x_validate_lda_n), requires_grad=False)"
   ]
  },
  {
   "cell_type": "code",
   "execution_count": 89,
   "metadata": {},
   "outputs": [
    {
     "name": "stdout",
     "output_type": "stream",
     "text": [
      "Cost: 0.922790157644559, Accuracy: 66.0%\n"
     ]
    }
   ],
   "source": [
    "# Outcome on validation set\n",
    "acc = accuracy(Vte, predictions)\n",
    "\n",
    "print(f'Cost: {cost(wbest, bbest, Xte, Vte)}, Accuracy: {np.round(acc, 2) * 100}%')"
   ]
  },
  {
   "cell_type": "code",
   "execution_count": 90,
   "metadata": {},
   "outputs": [
    {
     "data": {
      "text/html": [
       "<div>\n",
       "<style scoped>\n",
       "    .dataframe tbody tr th:only-of-type {\n",
       "        vertical-align: middle;\n",
       "    }\n",
       "\n",
       "    .dataframe tbody tr th {\n",
       "        vertical-align: top;\n",
       "    }\n",
       "\n",
       "    .dataframe thead th {\n",
       "        text-align: right;\n",
       "    }\n",
       "</style>\n",
       "<table border=\"1\" class=\"dataframe\">\n",
       "  <thead>\n",
       "    <tr style=\"text-align: right;\">\n",
       "      <th></th>\n",
       "      <th>Test</th>\n",
       "      <th>Predictions</th>\n",
       "    </tr>\n",
       "  </thead>\n",
       "  <tbody>\n",
       "    <tr>\n",
       "      <th>0</th>\n",
       "      <td>-1.0</td>\n",
       "      <td>-1.0</td>\n",
       "    </tr>\n",
       "    <tr>\n",
       "      <th>1</th>\n",
       "      <td>-1.0</td>\n",
       "      <td>-1.0</td>\n",
       "    </tr>\n",
       "    <tr>\n",
       "      <th>2</th>\n",
       "      <td>1.0</td>\n",
       "      <td>-1.0</td>\n",
       "    </tr>\n",
       "    <tr>\n",
       "      <th>3</th>\n",
       "      <td>1.0</td>\n",
       "      <td>-1.0</td>\n",
       "    </tr>\n",
       "    <tr>\n",
       "      <th>4</th>\n",
       "      <td>1.0</td>\n",
       "      <td>-1.0</td>\n",
       "    </tr>\n",
       "    <tr>\n",
       "      <th>...</th>\n",
       "      <td>...</td>\n",
       "      <td>...</td>\n",
       "    </tr>\n",
       "    <tr>\n",
       "      <th>295</th>\n",
       "      <td>1.0</td>\n",
       "      <td>-1.0</td>\n",
       "    </tr>\n",
       "    <tr>\n",
       "      <th>296</th>\n",
       "      <td>-1.0</td>\n",
       "      <td>-1.0</td>\n",
       "    </tr>\n",
       "    <tr>\n",
       "      <th>297</th>\n",
       "      <td>1.0</td>\n",
       "      <td>1.0</td>\n",
       "    </tr>\n",
       "    <tr>\n",
       "      <th>298</th>\n",
       "      <td>-1.0</td>\n",
       "      <td>-1.0</td>\n",
       "    </tr>\n",
       "    <tr>\n",
       "      <th>299</th>\n",
       "      <td>-1.0</td>\n",
       "      <td>-1.0</td>\n",
       "    </tr>\n",
       "  </tbody>\n",
       "</table>\n",
       "<p>300 rows × 2 columns</p>\n",
       "</div>"
      ],
      "text/plain": [
       "     Test Predictions\n",
       "0    -1.0        -1.0\n",
       "1    -1.0        -1.0\n",
       "2     1.0        -1.0\n",
       "3     1.0        -1.0\n",
       "4     1.0        -1.0\n",
       "..    ...         ...\n",
       "295   1.0        -1.0\n",
       "296  -1.0        -1.0\n",
       "297   1.0         1.0\n",
       "298  -1.0        -1.0\n",
       "299  -1.0        -1.0\n",
       "\n",
       "[300 rows x 2 columns]"
      ]
     },
     "execution_count": 90,
     "metadata": {},
     "output_type": "execute_result"
    }
   ],
   "source": [
    "# Test and predictions comparison\n",
    "pd.DataFrame((Vte, predictions), ('Test', 'Predictions')).T"
   ]
  },
  {
   "cell_type": "code",
   "execution_count": 91,
   "metadata": {},
   "outputs": [
    {
     "name": "stdout",
     "output_type": "stream",
     "text": [
      "              precision    recall  f1-score   support\n",
      "\n",
      "        -1.0       0.70      0.89      0.78       206\n",
      "         1.0       0.41      0.17      0.24        94\n",
      "\n",
      "    accuracy                           0.66       300\n",
      "   macro avg       0.56      0.53      0.51       300\n",
      "weighted avg       0.61      0.66      0.61       300\n",
      "\n",
      "0.41025641025641024\n",
      "0.1702127659574468\n",
      "0.24060150375939848\n",
      "0.5292811402602768\n"
     ]
    }
   ],
   "source": [
    "# Print the classification report and important metrics\n",
    "print(metrics.classification_report(Vte, predictions))\n",
    "print(metrics.precision_score(Vte, predictions))\n",
    "print(metrics.recall_score(Vte, predictions))\n",
    "print(metrics.f1_score(Vte, predictions))\n",
    "print(metrics.balanced_accuracy_score(Vte, predictions))"
   ]
  }
 ],
 "metadata": {
  "kernelspec": {
   "display_name": "Python 3 (ipykernel)",
   "language": "python",
   "name": "python3"
  },
  "language_info": {
   "codemirror_mode": {
    "name": "ipython",
    "version": 3
   },
   "file_extension": ".py",
   "mimetype": "text/x-python",
   "name": "python",
   "nbconvert_exporter": "python",
   "pygments_lexer": "ipython3",
   "version": "3.9.13"
  },
  "vscode": {
   "interpreter": {
    "hash": "09a2343d96e4209a5eb8971e1e9a0248c4f95d560a06ad86d050590524a525f8"
   }
  }
 },
 "nbformat": 4,
 "nbformat_minor": 4
}
