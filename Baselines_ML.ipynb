{
 "cells": [
  {
   "cell_type": "markdown",
   "id": "53c0afa4-6ebc-47cb-b67c-d321254a77f5",
   "metadata": {},
   "source": [
    "# Baseline ML"
   ]
  },
  {
   "cell_type": "code",
   "execution_count": 2,
   "id": "cff21064-8f59-4ae8-8353-36c110472b97",
   "metadata": {},
   "outputs": [],
   "source": [
    "import pandas as pd\n",
    "import matplotlib.pyplot as plt\n",
    "import numpy as np\n",
    "from sklearn.svm import SVC\n",
    "from sklearn import metrics\n",
    "from sklearn.ensemble import RandomForestClassifier\n",
    "from sklearn.linear_model import LogisticRegression\n",
    "from sklearn.tree import DecisionTreeClassifier\n",
    "from sklearn.preprocessing import normalize\n",
    "from sklearn.model_selection import cross_val_score, KFold\n",
    "#Import classical libraries\n",
    "from sklearn.neighbors import KNeighborsClassifier\n",
    "from sklearn.naive_bayes import GaussianNB\n",
    "from sklearn.svm import SVC\n",
    "from sklearn.ensemble import RandomForestClassifier\n",
    "from sklearn.model_selection import train_test_split\n",
    "from sklearn import datasets\n",
    "import matplotlib.pyplot as plt\n",
    "\n",
    "plt.style.use('ggplot')\n",
    "\n"
   ]
  },
  {
   "cell_type": "code",
   "execution_count": 3,
   "id": "75d666e8-2583-46fe-ba44-58ee5c9b6da2",
   "metadata": {},
   "outputs": [],
   "source": [
    "import warnings\n",
    "warnings.filterwarnings('ignore')"
   ]
  },
  {
   "cell_type": "code",
   "execution_count": 3,
   "id": "942513ef-c1b1-442e-bed8-6bc445cfc062",
   "metadata": {},
   "outputs": [],
   "source": [
    "df = pd.read_csv('UCI_Credit_Card.csv', sep=',')\n"
   ]
  },
  {
   "cell_type": "code",
   "execution_count": 4,
   "id": "7bc8a276-b918-432a-8620-52ef6005fd3e",
   "metadata": {},
   "outputs": [],
   "source": [
    "df_labels = df['default.payment.next.month']\n",
    "df.drop(['default.payment.next.month'],axis = 1,inplace = True)"
   ]
  },
  {
   "cell_type": "code",
   "execution_count": 5,
   "id": "a1ce6804-937e-4318-af9c-7eb8cde6068d",
   "metadata": {},
   "outputs": [],
   "source": [
    "X_train, X_test, y_train, y_test = train_test_split(df, df_labels, test_size=0.2, random_state=42)"
   ]
  },
  {
   "cell_type": "code",
   "execution_count": 5,
   "id": "f94db46a-22a3-43d8-90f3-bd51174c1b00",
   "metadata": {},
   "outputs": [],
   "source": [
    "from sklearn.model_selection import cross_validate\n",
    "from tqdm import tqdm\n",
    "def evaluate_ml_model(_models, X, y, n_fold=10, metric='precision'):\n",
    "    ''' Function to evaluate a ML and QML model with a list of metrics\n",
    "    \n",
    "    \n",
    "    '''\n",
    "    results = pd.DataFrame()\n",
    "    kfold = KFold(n_splits=n_fold)\n",
    "    columns = []\n",
    "    for name, model in tqdm(_models):\n",
    "        # -------------------\n",
    "        # Variables initialization \n",
    "        _df = pd.DataFrame()\n",
    "        names = []\n",
    "        means = []\n",
    "        stds = []\n",
    "        \n",
    "        # -------------------\n",
    "        # k-fold Cross validation\n",
    "        cv_results = cross_validate(model, X, y, cv=kfold, scoring=metric)\n",
    "        \n",
    "        # -------------------\n",
    "        # Compute the mean and standard deviation \n",
    "        for _name, _array in cv_results.items():\n",
    "            names.append(_name)\n",
    "            means.append(round(100*_array.mean(), 2))\n",
    "            stds.append(round(100*_array.std(), 2))\n",
    "        # -------------------\n",
    "        # Save the results in a dataframe \n",
    "        _df =  pd.DataFrame([means, stds], columns=names)\n",
    "        columns.extend([name+' mean (%)', name+' std (%)'])\n",
    "        #results = results.join(_df, on=_df.index)\n",
    "        results = results.append(_df)\n",
    "    results.index = columns\n",
    "    print(results)\n",
    "    return results"
   ]
  },
  {
   "cell_type": "code",
   "execution_count": 7,
   "id": "155df77e-3cf3-4564-8102-bd7cc3fcac41",
   "metadata": {},
   "outputs": [],
   "source": [
    "models = []\n",
    "models.append(('LR', LogisticRegression(max_iter=1000, random_state=42)))\n",
    "models.append(('KNN', KNeighborsClassifier(n_neighbors=7)))\n",
    "models.append(('CART', DecisionTreeClassifier(random_state=42)))\n",
    "models.append(('NB', GaussianNB()))\n",
    "models.append(('SVM', SVC(random_state=42)))\n",
    "\n",
    "_metrics = ['precision', 'recall', 'f1', 'accuracy',  'matthews_corrcoef','balanced_accuracy']"
   ]
  },
  {
   "cell_type": "code",
   "execution_count": 8,
   "id": "ebba3ae9-31d6-475c-907b-dc53edffae57",
   "metadata": {},
   "outputs": [],
   "source": [
    "df_results = pd.DataFrame()"
   ]
  },
  {
   "cell_type": "code",
   "execution_count": 9,
   "id": "2006cd16-beed-4246-be32-b8faa61c1e0b",
   "metadata": {},
   "outputs": [
    {
     "name": "stderr",
     "output_type": "stream",
     "text": [
      "100%|█████████████████████████████████████████████| 5/5 [01:26<00:00, 17.30s/it]"
     ]
    },
    {
     "name": "stdout",
     "output_type": "stream",
     "text": [
      "               fit_time  score_time  test_precision  test_recall  test_f1  \\\n",
      "LR mean (%)       23.51        0.47            0.00         0.00     0.00   \n",
      "LR std (%)        12.02        0.22            0.00         0.00     0.00   \n",
      "KNN mean (%)       0.44        9.93           38.74        15.45    22.07   \n",
      "KNN std (%)        0.45        8.67            2.03         1.51     1.76   \n",
      "CART mean (%)     33.97        0.35           37.79        40.53    39.10   \n",
      "CART std (%)       1.19        0.03            1.51         1.51     1.34   \n",
      "NB mean (%)        0.56        0.35           24.71        88.41    38.62   \n",
      "NB std (%)         0.03        0.03            0.89         1.55     1.15   \n",
      "SVM mean (%)     695.94       98.88            0.00         0.00     0.00   \n",
      "SVM std (%)       13.41        0.63            0.00         0.00     0.00   \n",
      "\n",
      "               test_accuracy  test_matthews_corrcoef  test_balanced_accuracy  \n",
      "LR mean (%)            77.81                   -0.22                   49.99  \n",
      "LR std (%)              0.86                    0.44                    0.01  \n",
      "KNN mean (%)           75.84                   12.43                   54.26  \n",
      "KNN std (%)             0.76                    1.64                    0.65  \n",
      "CART mean (%)          72.02                   20.99                   60.76  \n",
      "CART std (%)            0.77                    1.45                    0.75  \n",
      "NB mean (%)            37.70                   11.94                   55.82  \n",
      "NB std (%)              0.81                    1.74                    0.88  \n",
      "SVM mean (%)           77.82                    0.00                   50.00  \n",
      "SVM std (%)             0.86                    0.00                    0.00  \n"
     ]
    },
    {
     "name": "stderr",
     "output_type": "stream",
     "text": [
      "\n"
     ]
    }
   ],
   "source": [
    "df_results = evaluate_ml_model(models, X_train, y_train, n_fold=10, metric=_metrics)"
   ]
  },
  {
   "cell_type": "code",
   "execution_count": 10,
   "id": "945e78cc-337b-4c86-b04b-247434129861",
   "metadata": {},
   "outputs": [
    {
     "data": {
      "text/html": [
       "<div>\n",
       "<style scoped>\n",
       "    .dataframe tbody tr th:only-of-type {\n",
       "        vertical-align: middle;\n",
       "    }\n",
       "\n",
       "    .dataframe tbody tr th {\n",
       "        vertical-align: top;\n",
       "    }\n",
       "\n",
       "    .dataframe thead th {\n",
       "        text-align: right;\n",
       "    }\n",
       "</style>\n",
       "<table border=\"1\" class=\"dataframe\">\n",
       "  <thead>\n",
       "    <tr style=\"text-align: right;\">\n",
       "      <th></th>\n",
       "      <th>fit_time</th>\n",
       "      <th>score_time</th>\n",
       "      <th>test_precision</th>\n",
       "      <th>test_recall</th>\n",
       "      <th>test_f1</th>\n",
       "      <th>test_accuracy</th>\n",
       "      <th>test_matthews_corrcoef</th>\n",
       "      <th>test_balanced_accuracy</th>\n",
       "    </tr>\n",
       "  </thead>\n",
       "  <tbody>\n",
       "    <tr>\n",
       "      <th>LR mean (%)</th>\n",
       "      <td>23.51</td>\n",
       "      <td>0.47</td>\n",
       "      <td>0.00</td>\n",
       "      <td>0.00</td>\n",
       "      <td>0.00</td>\n",
       "      <td>77.81</td>\n",
       "      <td>-0.22</td>\n",
       "      <td>49.99</td>\n",
       "    </tr>\n",
       "    <tr>\n",
       "      <th>LR std (%)</th>\n",
       "      <td>12.02</td>\n",
       "      <td>0.22</td>\n",
       "      <td>0.00</td>\n",
       "      <td>0.00</td>\n",
       "      <td>0.00</td>\n",
       "      <td>0.86</td>\n",
       "      <td>0.44</td>\n",
       "      <td>0.01</td>\n",
       "    </tr>\n",
       "    <tr>\n",
       "      <th>KNN mean (%)</th>\n",
       "      <td>0.44</td>\n",
       "      <td>9.93</td>\n",
       "      <td>38.74</td>\n",
       "      <td>15.45</td>\n",
       "      <td>22.07</td>\n",
       "      <td>75.84</td>\n",
       "      <td>12.43</td>\n",
       "      <td>54.26</td>\n",
       "    </tr>\n",
       "    <tr>\n",
       "      <th>KNN std (%)</th>\n",
       "      <td>0.45</td>\n",
       "      <td>8.67</td>\n",
       "      <td>2.03</td>\n",
       "      <td>1.51</td>\n",
       "      <td>1.76</td>\n",
       "      <td>0.76</td>\n",
       "      <td>1.64</td>\n",
       "      <td>0.65</td>\n",
       "    </tr>\n",
       "    <tr>\n",
       "      <th>CART mean (%)</th>\n",
       "      <td>33.97</td>\n",
       "      <td>0.35</td>\n",
       "      <td>37.79</td>\n",
       "      <td>40.53</td>\n",
       "      <td>39.10</td>\n",
       "      <td>72.02</td>\n",
       "      <td>20.99</td>\n",
       "      <td>60.76</td>\n",
       "    </tr>\n",
       "    <tr>\n",
       "      <th>CART std (%)</th>\n",
       "      <td>1.19</td>\n",
       "      <td>0.03</td>\n",
       "      <td>1.51</td>\n",
       "      <td>1.51</td>\n",
       "      <td>1.34</td>\n",
       "      <td>0.77</td>\n",
       "      <td>1.45</td>\n",
       "      <td>0.75</td>\n",
       "    </tr>\n",
       "    <tr>\n",
       "      <th>NB mean (%)</th>\n",
       "      <td>0.56</td>\n",
       "      <td>0.35</td>\n",
       "      <td>24.71</td>\n",
       "      <td>88.41</td>\n",
       "      <td>38.62</td>\n",
       "      <td>37.70</td>\n",
       "      <td>11.94</td>\n",
       "      <td>55.82</td>\n",
       "    </tr>\n",
       "    <tr>\n",
       "      <th>NB std (%)</th>\n",
       "      <td>0.03</td>\n",
       "      <td>0.03</td>\n",
       "      <td>0.89</td>\n",
       "      <td>1.55</td>\n",
       "      <td>1.15</td>\n",
       "      <td>0.81</td>\n",
       "      <td>1.74</td>\n",
       "      <td>0.88</td>\n",
       "    </tr>\n",
       "    <tr>\n",
       "      <th>SVM mean (%)</th>\n",
       "      <td>695.94</td>\n",
       "      <td>98.88</td>\n",
       "      <td>0.00</td>\n",
       "      <td>0.00</td>\n",
       "      <td>0.00</td>\n",
       "      <td>77.82</td>\n",
       "      <td>0.00</td>\n",
       "      <td>50.00</td>\n",
       "    </tr>\n",
       "    <tr>\n",
       "      <th>SVM std (%)</th>\n",
       "      <td>13.41</td>\n",
       "      <td>0.63</td>\n",
       "      <td>0.00</td>\n",
       "      <td>0.00</td>\n",
       "      <td>0.00</td>\n",
       "      <td>0.86</td>\n",
       "      <td>0.00</td>\n",
       "      <td>0.00</td>\n",
       "    </tr>\n",
       "  </tbody>\n",
       "</table>\n",
       "</div>"
      ],
      "text/plain": [
       "               fit_time  score_time  test_precision  test_recall  test_f1  \\\n",
       "LR mean (%)       23.51        0.47            0.00         0.00     0.00   \n",
       "LR std (%)        12.02        0.22            0.00         0.00     0.00   \n",
       "KNN mean (%)       0.44        9.93           38.74        15.45    22.07   \n",
       "KNN std (%)        0.45        8.67            2.03         1.51     1.76   \n",
       "CART mean (%)     33.97        0.35           37.79        40.53    39.10   \n",
       "CART std (%)       1.19        0.03            1.51         1.51     1.34   \n",
       "NB mean (%)        0.56        0.35           24.71        88.41    38.62   \n",
       "NB std (%)         0.03        0.03            0.89         1.55     1.15   \n",
       "SVM mean (%)     695.94       98.88            0.00         0.00     0.00   \n",
       "SVM std (%)       13.41        0.63            0.00         0.00     0.00   \n",
       "\n",
       "               test_accuracy  test_matthews_corrcoef  test_balanced_accuracy  \n",
       "LR mean (%)            77.81                   -0.22                   49.99  \n",
       "LR std (%)              0.86                    0.44                    0.01  \n",
       "KNN mean (%)           75.84                   12.43                   54.26  \n",
       "KNN std (%)             0.76                    1.64                    0.65  \n",
       "CART mean (%)          72.02                   20.99                   60.76  \n",
       "CART std (%)            0.77                    1.45                    0.75  \n",
       "NB mean (%)            37.70                   11.94                   55.82  \n",
       "NB std (%)              0.81                    1.74                    0.88  \n",
       "SVM mean (%)           77.82                    0.00                   50.00  \n",
       "SVM std (%)             0.86                    0.00                    0.00  "
      ]
     },
     "execution_count": 10,
     "metadata": {},
     "output_type": "execute_result"
    }
   ],
   "source": [
    "df_results"
   ]
  },
  {
   "cell_type": "markdown",
   "id": "4afb3821-fe42-470f-9aa4-8ff2e6fec45a",
   "metadata": {},
   "source": [
    "## Santander Dataset"
   ]
  },
  {
   "cell_type": "markdown",
   "id": "52ef4a36-5f28-4e6d-bb26-cd0b9b5a95f0",
   "metadata": {},
   "source": [
    "## Full dataset"
   ]
  },
  {
   "cell_type": "code",
   "execution_count": 4,
   "id": "2c7528e8-e6c8-4da0-a3a4-c34d5606835c",
   "metadata": {},
   "outputs": [],
   "source": [
    "df = pd.read_csv('santander_transaction.csv', sep=',')"
   ]
  },
  {
   "cell_type": "code",
   "execution_count": 5,
   "id": "575a107d-bf70-4ed5-9282-88aa7773ad81",
   "metadata": {},
   "outputs": [
    {
     "data": {
      "text/plain": [
       "Index(['target', 'var_0', 'var_1', 'var_2', 'var_3', 'var_4', 'var_5', 'var_6',\n",
       "       'var_7', 'var_8',\n",
       "       ...\n",
       "       'var_190', 'var_191', 'var_192', 'var_193', 'var_194', 'var_195',\n",
       "       'var_196', 'var_197', 'var_198', 'var_199'],\n",
       "      dtype='object', length=201)"
      ]
     },
     "execution_count": 5,
     "metadata": {},
     "output_type": "execute_result"
    }
   ],
   "source": [
    "df.columns"
   ]
  },
  {
   "cell_type": "code",
   "execution_count": 6,
   "id": "66e2f748-1bae-4c7f-a287-81e57a25a213",
   "metadata": {},
   "outputs": [
    {
     "data": {
      "text/plain": [
       "(1000, 201)"
      ]
     },
     "execution_count": 6,
     "metadata": {},
     "output_type": "execute_result"
    }
   ],
   "source": [
    "df.shape"
   ]
  },
  {
   "cell_type": "code",
   "execution_count": 8,
   "id": "14efc9df-311c-403b-b68a-0bd67fc1592a",
   "metadata": {},
   "outputs": [],
   "source": [
    "#df = df.drop(['Unnamed: 0'], axis = 1)\n",
    "df_labels = df['target']\n",
    "df.drop(['target'],axis = 1,inplace = True)"
   ]
  },
  {
   "cell_type": "code",
   "execution_count": 9,
   "id": "36dc0f22-a253-4bad-b399-10f35e9acb1b",
   "metadata": {},
   "outputs": [],
   "source": [
    "X_train, X_test, y_train, y_test = train_test_split(df, df_labels, test_size=0.2, random_state=42)"
   ]
  },
  {
   "cell_type": "code",
   "execution_count": 10,
   "id": "91ca343c-d3a1-4c6d-a865-f9da2c1bae5f",
   "metadata": {},
   "outputs": [],
   "source": [
    "models = []\n",
    "models.append(('LR', LogisticRegression(max_iter=1000, random_state=42)))\n",
    "models.append(('KNN', KNeighborsClassifier(n_neighbors=7)))\n",
    "models.append(('CART', DecisionTreeClassifier(random_state=42)))\n",
    "models.append(('NB', GaussianNB()))\n",
    "models.append(('SVM', SVC(random_state=42)))\n",
    "\n",
    "_metrics = ['precision', 'recall', 'f1', 'accuracy',  'matthews_corrcoef','balanced_accuracy']"
   ]
  },
  {
   "cell_type": "code",
   "execution_count": 11,
   "id": "267c2e16-7ebb-474d-8532-8a045c11d976",
   "metadata": {},
   "outputs": [],
   "source": [
    "df_results2 = pd.DataFrame()"
   ]
  },
  {
   "cell_type": "code",
   "execution_count": 14,
   "id": "3d691e71-1c4f-4a23-898b-65effc1e3fdb",
   "metadata": {},
   "outputs": [
    {
     "name": "stderr",
     "output_type": "stream",
     "text": [
      "100%|████████████████████████████████████████████| 5/5 [09:27<00:00, 113.56s/it]"
     ]
    },
    {
     "name": "stdout",
     "output_type": "stream",
     "text": [
      "               fit_time  score_time  test_precision  test_recall  test_f1  \\\n",
      "LR mean (%)     5636.00        3.72           66.83        68.04    67.33   \n",
      "LR std (%)      3996.84        3.46            6.93         7.15     6.55   \n",
      "KNN mean (%)       0.18       23.80           56.44        38.38    45.14   \n",
      "KNN std (%)        0.05       11.86            6.90         8.04     6.68   \n",
      "CART mean (%)      7.75        0.27           54.12        52.56    53.22   \n",
      "CART std (%)       1.04        0.01            5.37         8.82     7.00   \n",
      "NB mean (%)        0.20        0.25           72.29        71.11    71.55   \n",
      "NB std (%)         0.02        0.01            6.07         6.79     5.65   \n",
      "SVM mean (%)       4.54        1.10           63.91        63.42    63.35   \n",
      "SVM std (%)        0.13        0.03            7.84         7.97     6.79   \n",
      "\n",
      "               test_accuracy  test_matthews_corrcoef  test_balanced_accuracy  \n",
      "LR mean (%)            66.62                   32.95                   66.48  \n",
      "LR std (%)              6.02                   12.06                    6.03  \n",
      "KNN mean (%)           53.50                    8.01                   53.82  \n",
      "KNN std (%)             2.29                    5.38                    2.65  \n",
      "CART mean (%)          53.62                    6.22                   53.10  \n",
      "CART std (%)            4.52                    9.75                    4.88  \n",
      "NB mean (%)            71.38                   42.61                   71.31  \n",
      "NB std (%)              5.26                   10.56                    5.30  \n",
      "SVM mean (%)           63.00                   26.19                   63.06  \n",
      "SVM std (%)             5.57                   10.71                    5.35  \n"
     ]
    },
    {
     "name": "stderr",
     "output_type": "stream",
     "text": [
      "\n"
     ]
    }
   ],
   "source": [
    "df_results2 = evaluate_ml_model(models, X_train, y_train, n_fold=10, metric=_metrics)"
   ]
  },
  {
   "cell_type": "code",
   "execution_count": 15,
   "id": "047da94f-2d2f-4d9f-bb88-c2800fd8c208",
   "metadata": {},
   "outputs": [
    {
     "data": {
      "text/html": [
       "<div>\n",
       "<style scoped>\n",
       "    .dataframe tbody tr th:only-of-type {\n",
       "        vertical-align: middle;\n",
       "    }\n",
       "\n",
       "    .dataframe tbody tr th {\n",
       "        vertical-align: top;\n",
       "    }\n",
       "\n",
       "    .dataframe thead th {\n",
       "        text-align: right;\n",
       "    }\n",
       "</style>\n",
       "<table border=\"1\" class=\"dataframe\">\n",
       "  <thead>\n",
       "    <tr style=\"text-align: right;\">\n",
       "      <th></th>\n",
       "      <th>fit_time</th>\n",
       "      <th>score_time</th>\n",
       "      <th>test_precision</th>\n",
       "      <th>test_recall</th>\n",
       "      <th>test_f1</th>\n",
       "      <th>test_accuracy</th>\n",
       "      <th>test_matthews_corrcoef</th>\n",
       "      <th>test_balanced_accuracy</th>\n",
       "    </tr>\n",
       "  </thead>\n",
       "  <tbody>\n",
       "    <tr>\n",
       "      <th>LR mean (%)</th>\n",
       "      <td>5636.00</td>\n",
       "      <td>3.72</td>\n",
       "      <td>66.83</td>\n",
       "      <td>68.04</td>\n",
       "      <td>67.33</td>\n",
       "      <td>66.62</td>\n",
       "      <td>32.95</td>\n",
       "      <td>66.48</td>\n",
       "    </tr>\n",
       "    <tr>\n",
       "      <th>LR std (%)</th>\n",
       "      <td>3996.84</td>\n",
       "      <td>3.46</td>\n",
       "      <td>6.93</td>\n",
       "      <td>7.15</td>\n",
       "      <td>6.55</td>\n",
       "      <td>6.02</td>\n",
       "      <td>12.06</td>\n",
       "      <td>6.03</td>\n",
       "    </tr>\n",
       "    <tr>\n",
       "      <th>KNN mean (%)</th>\n",
       "      <td>0.18</td>\n",
       "      <td>23.80</td>\n",
       "      <td>56.44</td>\n",
       "      <td>38.38</td>\n",
       "      <td>45.14</td>\n",
       "      <td>53.50</td>\n",
       "      <td>8.01</td>\n",
       "      <td>53.82</td>\n",
       "    </tr>\n",
       "    <tr>\n",
       "      <th>KNN std (%)</th>\n",
       "      <td>0.05</td>\n",
       "      <td>11.86</td>\n",
       "      <td>6.90</td>\n",
       "      <td>8.04</td>\n",
       "      <td>6.68</td>\n",
       "      <td>2.29</td>\n",
       "      <td>5.38</td>\n",
       "      <td>2.65</td>\n",
       "    </tr>\n",
       "    <tr>\n",
       "      <th>CART mean (%)</th>\n",
       "      <td>7.75</td>\n",
       "      <td>0.27</td>\n",
       "      <td>54.12</td>\n",
       "      <td>52.56</td>\n",
       "      <td>53.22</td>\n",
       "      <td>53.62</td>\n",
       "      <td>6.22</td>\n",
       "      <td>53.10</td>\n",
       "    </tr>\n",
       "    <tr>\n",
       "      <th>CART std (%)</th>\n",
       "      <td>1.04</td>\n",
       "      <td>0.01</td>\n",
       "      <td>5.37</td>\n",
       "      <td>8.82</td>\n",
       "      <td>7.00</td>\n",
       "      <td>4.52</td>\n",
       "      <td>9.75</td>\n",
       "      <td>4.88</td>\n",
       "    </tr>\n",
       "    <tr>\n",
       "      <th>NB mean (%)</th>\n",
       "      <td>0.20</td>\n",
       "      <td>0.25</td>\n",
       "      <td>72.29</td>\n",
       "      <td>71.11</td>\n",
       "      <td>71.55</td>\n",
       "      <td>71.38</td>\n",
       "      <td>42.61</td>\n",
       "      <td>71.31</td>\n",
       "    </tr>\n",
       "    <tr>\n",
       "      <th>NB std (%)</th>\n",
       "      <td>0.02</td>\n",
       "      <td>0.01</td>\n",
       "      <td>6.07</td>\n",
       "      <td>6.79</td>\n",
       "      <td>5.65</td>\n",
       "      <td>5.26</td>\n",
       "      <td>10.56</td>\n",
       "      <td>5.30</td>\n",
       "    </tr>\n",
       "    <tr>\n",
       "      <th>SVM mean (%)</th>\n",
       "      <td>4.54</td>\n",
       "      <td>1.10</td>\n",
       "      <td>63.91</td>\n",
       "      <td>63.42</td>\n",
       "      <td>63.35</td>\n",
       "      <td>63.00</td>\n",
       "      <td>26.19</td>\n",
       "      <td>63.06</td>\n",
       "    </tr>\n",
       "    <tr>\n",
       "      <th>SVM std (%)</th>\n",
       "      <td>0.13</td>\n",
       "      <td>0.03</td>\n",
       "      <td>7.84</td>\n",
       "      <td>7.97</td>\n",
       "      <td>6.79</td>\n",
       "      <td>5.57</td>\n",
       "      <td>10.71</td>\n",
       "      <td>5.35</td>\n",
       "    </tr>\n",
       "  </tbody>\n",
       "</table>\n",
       "</div>"
      ],
      "text/plain": [
       "               fit_time  score_time  test_precision  test_recall  test_f1  \\\n",
       "LR mean (%)     5636.00        3.72           66.83        68.04    67.33   \n",
       "LR std (%)      3996.84        3.46            6.93         7.15     6.55   \n",
       "KNN mean (%)       0.18       23.80           56.44        38.38    45.14   \n",
       "KNN std (%)        0.05       11.86            6.90         8.04     6.68   \n",
       "CART mean (%)      7.75        0.27           54.12        52.56    53.22   \n",
       "CART std (%)       1.04        0.01            5.37         8.82     7.00   \n",
       "NB mean (%)        0.20        0.25           72.29        71.11    71.55   \n",
       "NB std (%)         0.02        0.01            6.07         6.79     5.65   \n",
       "SVM mean (%)       4.54        1.10           63.91        63.42    63.35   \n",
       "SVM std (%)        0.13        0.03            7.84         7.97     6.79   \n",
       "\n",
       "               test_accuracy  test_matthews_corrcoef  test_balanced_accuracy  \n",
       "LR mean (%)            66.62                   32.95                   66.48  \n",
       "LR std (%)              6.02                   12.06                    6.03  \n",
       "KNN mean (%)           53.50                    8.01                   53.82  \n",
       "KNN std (%)             2.29                    5.38                    2.65  \n",
       "CART mean (%)          53.62                    6.22                   53.10  \n",
       "CART std (%)            4.52                    9.75                    4.88  \n",
       "NB mean (%)            71.38                   42.61                   71.31  \n",
       "NB std (%)              5.26                   10.56                    5.30  \n",
       "SVM mean (%)           63.00                   26.19                   63.06  \n",
       "SVM std (%)             5.57                   10.71                    5.35  "
      ]
     },
     "execution_count": 15,
     "metadata": {},
     "output_type": "execute_result"
    }
   ],
   "source": [
    "df_results2"
   ]
  },
  {
   "cell_type": "code",
   "execution_count": 16,
   "id": "59f75b65-2d63-40f3-8ca8-72bdcd2f1a07",
   "metadata": {},
   "outputs": [
    {
     "name": "stdout",
     "output_type": "stream",
     "text": [
      "LR & 66.83 (6.93) & 68.04 (7.15) &  67.33 (6.55) & 32.95 (12.06) & 66.48 (6.03) \\\n",
      "KNN & 56.44 (6.9) & 38.38 (8.04) &  45.14 (6.68) & 8.01 (5.38) & 53.82 (2.65) \\\n",
      "CART & 54.12 (5.37) & 52.56 (8.82) &  53.22 (7.0) & 6.22 (9.75) & 53.1 (4.88) \\\n",
      "NB & 72.29 (6.07) & 71.11 (6.79) &  71.55 (5.65) & 42.61 (10.56) & 71.31 (5.3) \\\n",
      "SVM & 63.91 (7.84) & 63.42 (7.97) &  63.35 (6.79) & 26.19 (10.71) & 63.06 (5.35) \\\n"
     ]
    }
   ],
   "source": [
    "j = 0\n",
    "for i in range(int(len(df_results2.index)/2)):\n",
    "\n",
    "    print(f'{df_results2.iloc[j].name.split()[0]} & {df_results2.iloc[j][2]} ({df_results2.iloc[j+1][2]}) & {df_results2.iloc[j][3]} ({df_results2.iloc[j+1][3]}) &  {df_results2.iloc[j][4]} ({df_results2.iloc[j+1][4]}) & {df_results2.iloc[j][6]} ({df_results2.iloc[j+1][6]}) & {df_results2.iloc[j][7]} ({df_results2.iloc[j+1][7]}) \\\\')\n",
    "    \n",
    "    j+=2"
   ]
  },
  {
   "cell_type": "markdown",
   "id": "b7c71231-925c-4cba-8fbb-812f3f59c8b8",
   "metadata": {},
   "source": [
    "# Fraud dataset "
   ]
  },
  {
   "cell_type": "code",
   "execution_count": 4,
   "id": "40cbdca4-a6a6-4e48-8473-a6e1eb5affe0",
   "metadata": {},
   "outputs": [],
   "source": [
    "df = pd.read_csv('fraud_detection_bank_dataset.csv', sep=',')"
   ]
  },
  {
   "cell_type": "code",
   "execution_count": 6,
   "id": "acc611f2-bfc6-47ec-805c-4473894161a7",
   "metadata": {},
   "outputs": [],
   "source": [
    "df = df.drop(['Unnamed: 0'], axis = 1)\n",
    "df_labels = df['targets']\n",
    "df.drop(['targets'],axis = 1,inplace = True)"
   ]
  },
  {
   "cell_type": "code",
   "execution_count": 7,
   "id": "ee86f934-e182-4175-8a44-35d4e36038cb",
   "metadata": {},
   "outputs": [],
   "source": [
    "X_train, X_test, y_train, y_test = train_test_split(df, df_labels, test_size=0.2, random_state=42)"
   ]
  },
  {
   "cell_type": "code",
   "execution_count": 8,
   "id": "54bca1b7-d217-471f-96d3-700fb7565297",
   "metadata": {},
   "outputs": [],
   "source": [
    "models = []\n",
    "models.append(('LR', LogisticRegression(max_iter=1000, random_state=42)))\n",
    "models.append(('KNN', KNeighborsClassifier(n_neighbors=7)))\n",
    "models.append(('CART', DecisionTreeClassifier(random_state=42)))\n",
    "models.append(('NB', GaussianNB()))\n",
    "models.append(('SVM', SVC(random_state=42)))\n",
    "\n",
    "_metrics = ['precision', 'recall', 'f1', 'accuracy',  'matthews_corrcoef','balanced_accuracy']"
   ]
  },
  {
   "cell_type": "code",
   "execution_count": 9,
   "id": "55d5d8f3-44de-4f24-9a6a-c00fe150a696",
   "metadata": {},
   "outputs": [],
   "source": [
    "df_results = pd.DataFrame()"
   ]
  },
  {
   "cell_type": "code",
   "execution_count": 10,
   "id": "ece71ee4-4275-430d-b272-ef6895e72323",
   "metadata": {},
   "outputs": [
    {
     "name": "stderr",
     "output_type": "stream",
     "text": [
      "100%|█████████████████████████████████████████████| 5/5 [03:24<00:00, 40.91s/it]"
     ]
    },
    {
     "name": "stdout",
     "output_type": "stream",
     "text": [
      "               fit_time  score_time  test_precision  test_recall  test_f1  \\\n",
      "LR mean (%)     1118.09        0.88           71.52        46.77    56.49   \n",
      "LR std (%)        41.09        0.50            3.54         2.59     2.26   \n",
      "KNN mean (%)       0.79       10.96           74.35        64.39    68.99   \n",
      "KNN std (%)        0.15       12.63            1.64         2.61     2.03   \n",
      "CART mean (%)     17.12        0.35           80.70        81.93    81.29   \n",
      "CART std (%)       0.35        0.02            2.07         1.80     1.42   \n",
      "NB mean (%)        1.64        0.43           28.45        96.91    43.97   \n",
      "NB std (%)         0.16        0.04            1.08         0.87     1.30   \n",
      "SVM mean (%)     739.78      155.14            0.00         0.00     0.00   \n",
      "SVM std (%)       19.70        3.91            0.00         0.00     0.00   \n",
      "\n",
      "               test_accuracy  test_matthews_corrcoef  test_balanced_accuracy  \n",
      "LR mean (%)            80.80                   46.56                   69.98  \n",
      "LR std (%)              1.09                    2.82                    1.30  \n",
      "KNN mean (%)           84.55                   59.06                   78.14  \n",
      "KNN std (%)             1.29                    2.77                    1.50  \n",
      "CART mean (%)          89.94                   74.43                   87.40  \n",
      "CART std (%)            0.80                    1.92                    0.98  \n",
      "NB mean (%)            34.15                   12.62                   54.11  \n",
      "NB std (%)              1.02                    1.45                    0.58  \n",
      "SVM mean (%)           73.32                    0.00                   50.00  \n",
      "SVM std (%)             1.08                    0.00                    0.00  \n"
     ]
    },
    {
     "name": "stderr",
     "output_type": "stream",
     "text": [
      "\n"
     ]
    }
   ],
   "source": [
    "df_results = evaluate_ml_model(models, X_train, y_train, n_fold=10, metric=_metrics)"
   ]
  },
  {
   "cell_type": "code",
   "execution_count": 11,
   "id": "06c2f09c-4300-4175-9015-3d4e22fccaae",
   "metadata": {},
   "outputs": [
    {
     "name": "stdout",
     "output_type": "stream",
     "text": [
      "LR & 71.52 (3.54) & 46.77 (2.59) &  56.49 (2.26) & 46.56 (2.82) & 69.98 (1.3) \\\n",
      "KNN & 74.35 (1.64) & 64.39 (2.61) &  68.99 (2.03) & 59.06 (2.77) & 78.14 (1.5) \\\n",
      "CART & 80.7 (2.07) & 81.93 (1.8) &  81.29 (1.42) & 74.43 (1.92) & 87.4 (0.98) \\\n",
      "NB & 28.45 (1.08) & 96.91 (0.87) &  43.97 (1.3) & 12.62 (1.45) & 54.11 (0.58) \\\n",
      "SVM & 0.0 (0.0) & 0.0 (0.0) &  0.0 (0.0) & 0.0 (0.0) & 50.0 (0.0) \\\n"
     ]
    }
   ],
   "source": [
    "j = 0\n",
    "for i in range(int(len(df_results.index)/2)):\n",
    "\n",
    "    print(f'{df_results.iloc[j].name.split()[0]} & {df_results.iloc[j][2]} ({df_results.iloc[j+1][2]}) & {df_results.iloc[j][3]} ({df_results.iloc[j+1][3]}) &  {df_results.iloc[j][4]} ({df_results.iloc[j+1][4]}) & {df_results.iloc[j][6]} ({df_results.iloc[j+1][6]}) & {df_results.iloc[j][7]} ({df_results.iloc[j+1][7]}) \\\\')\n",
    "    \n",
    "    j+=2"
   ]
  },
  {
   "cell_type": "markdown",
   "id": "d2d2d728-acf8-4048-a0dd-fb48aa4889a6",
   "metadata": {},
   "source": [
    "## Without high correlated columns"
   ]
  },
  {
   "cell_type": "code",
   "execution_count": 12,
   "id": "b4bce89e-fef8-416d-9f86-03c613c539a0",
   "metadata": {},
   "outputs": [],
   "source": [
    "cols = ['col_8', 'col_9', 'col_10', 'col_11', 'col_12', 'col_18', 'col_19','col_20', 'col_21', 'col_35', \n",
    "        'col_51', 'col_52', 'col_53', 'col_70','col_71','col_7', 'col_22', 'col_54', 'col_56']\n",
    "\n",
    "X_train = X_train.drop(cols, axis=1)\n",
    "X_test = X_test.drop(cols, axis=1)"
   ]
  },
  {
   "cell_type": "code",
   "execution_count": 13,
   "id": "d4f10901-9dfa-4f08-88c9-791ffdb70db4",
   "metadata": {
    "tags": []
   },
   "outputs": [],
   "source": [
    "models = []\n",
    "models.append(('LR', LogisticRegression(max_iter=1000, random_state=42)))\n",
    "models.append(('KNN', KNeighborsClassifier(n_neighbors=7)))\n",
    "models.append(('CART', DecisionTreeClassifier(random_state=42)))\n",
    "models.append(('NB', GaussianNB()))\n",
    "models.append(('SVM', SVC(random_state=42)))\n",
    "\n",
    "_metrics = ['precision', 'recall', 'f1', 'accuracy',  'matthews_corrcoef','balanced_accuracy']"
   ]
  },
  {
   "cell_type": "code",
   "execution_count": 14,
   "id": "feb2e5a9-68a4-4720-a8a1-0f8944c40b0b",
   "metadata": {},
   "outputs": [],
   "source": [
    "df_results = pd.DataFrame()"
   ]
  },
  {
   "cell_type": "code",
   "execution_count": 15,
   "id": "ea6f4f2e-9ee6-4ee7-bb05-2f16f7e824a9",
   "metadata": {},
   "outputs": [
    {
     "name": "stderr",
     "output_type": "stream",
     "text": [
      "100%|█████████████████████████████████████████████| 5/5 [02:12<00:00, 26.49s/it]"
     ]
    },
    {
     "name": "stdout",
     "output_type": "stream",
     "text": [
      "               fit_time  score_time  test_precision  test_recall  test_f1  \\\n",
      "LR mean (%)      491.06        0.62           71.54        47.27    56.88   \n",
      "LR std (%)       237.90        0.28            2.77         1.96     1.62   \n",
      "KNN mean (%)       0.67        7.27           74.34        64.56    69.09   \n",
      "KNN std (%)        0.48        2.93            1.77         2.36     1.91   \n",
      "CART mean (%)     15.73        0.33           80.68        81.69    81.17   \n",
      "CART std (%)       0.37        0.01            1.87         2.06     1.63   \n",
      "NB mean (%)        1.35        0.37           28.43        96.95    43.96   \n",
      "NB std (%)         0.09        0.03            1.07         0.88     1.30   \n",
      "SVM mean (%)     661.29      144.84            0.00         0.00     0.00   \n",
      "SVM std (%)        9.95        2.44            0.00         0.00     0.00   \n",
      "\n",
      "               test_accuracy  test_matthews_corrcoef  test_balanced_accuracy  \n",
      "LR mean (%)            80.90                   46.89                   70.20  \n",
      "LR std (%)              0.80                    1.88                    0.88  \n",
      "KNN mean (%)           84.59                   59.16                   78.22  \n",
      "KNN std (%)             1.23                    2.65                    1.39  \n",
      "CART mean (%)          89.89                   74.27                   87.28  \n",
      "CART std (%)            0.96                    2.25                    1.21  \n",
      "NB mean (%)            34.08                   12.58                   54.07  \n",
      "NB std (%)              0.98                    1.36                    0.54  \n",
      "SVM mean (%)           73.32                    0.00                   50.00  \n",
      "SVM std (%)             1.08                    0.00                    0.00  \n"
     ]
    },
    {
     "name": "stderr",
     "output_type": "stream",
     "text": [
      "\n"
     ]
    }
   ],
   "source": [
    "df_results = evaluate_ml_model(models, X_train, y_train, n_fold=10, metric=_metrics)"
   ]
  },
  {
   "cell_type": "code",
   "execution_count": 16,
   "id": "7301ca1e-2dac-4382-8908-8d0d77769636",
   "metadata": {},
   "outputs": [
    {
     "name": "stdout",
     "output_type": "stream",
     "text": [
      "LR & 71.54 (2.77) & 47.27 (1.96) &  56.88 (1.62) & 46.89 (1.88) & 70.2 (0.88) \\\n",
      "KNN & 74.34 (1.77) & 64.56 (2.36) &  69.09 (1.91) & 59.16 (2.65) & 78.22 (1.39) \\\n",
      "CART & 80.68 (1.87) & 81.69 (2.06) &  81.17 (1.63) & 74.27 (2.25) & 87.28 (1.21) \\\n",
      "NB & 28.43 (1.07) & 96.95 (0.88) &  43.96 (1.3) & 12.58 (1.36) & 54.07 (0.54) \\\n",
      "SVM & 0.0 (0.0) & 0.0 (0.0) &  0.0 (0.0) & 0.0 (0.0) & 50.0 (0.0) \\\n"
     ]
    }
   ],
   "source": [
    "j = 0\n",
    "for i in range(int(len(df_results.index)/2)):\n",
    "\n",
    "    print(f'{df_results.iloc[j].name.split()[0]} & {df_results.iloc[j][2]} ({df_results.iloc[j+1][2]}) & {df_results.iloc[j][3]} ({df_results.iloc[j+1][3]}) &  {df_results.iloc[j][4]} ({df_results.iloc[j+1][4]}) & {df_results.iloc[j][6]} ({df_results.iloc[j+1][6]}) & {df_results.iloc[j][7]} ({df_results.iloc[j+1][7]}) \\\\')\n",
    "    \n",
    "    j+=2"
   ]
  },
  {
   "cell_type": "code",
   "execution_count": null,
   "id": "c3418cd5-2246-444a-8e92-b34328ff10ec",
   "metadata": {},
   "outputs": [],
   "source": []
  }
 ],
 "metadata": {
  "kernelspec": {
   "display_name": "Python 3 (ipykernel)",
   "language": "python",
   "name": "python3"
  },
  "language_info": {
   "codemirror_mode": {
    "name": "ipython",
    "version": 3
   },
   "file_extension": ".py",
   "mimetype": "text/x-python",
   "name": "python",
   "nbconvert_exporter": "python",
   "pygments_lexer": "ipython3",
   "version": "3.10.6"
  }
 },
 "nbformat": 4,
 "nbformat_minor": 5
}
