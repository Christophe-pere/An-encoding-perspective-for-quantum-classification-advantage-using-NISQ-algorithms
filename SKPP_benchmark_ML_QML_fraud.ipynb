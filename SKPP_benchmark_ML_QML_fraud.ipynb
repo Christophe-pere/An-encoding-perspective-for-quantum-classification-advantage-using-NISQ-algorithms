{
 "cells": [
  {
   "cell_type": "markdown",
   "id": "d41d3fa6-0ae0-490d-a02b-0dbf81799488",
   "metadata": {},
   "source": [
    "# Quantum benchmark"
   ]
  },
  {
   "cell_type": "markdown",
   "id": "d6011e42-1fab-4f9f-ab99-f4f08607517e",
   "metadata": {},
   "source": [
    "## I - Introduction"
   ]
  },
  {
   "cell_type": "code",
   "execution_count": null,
   "id": "13b4f6b4-240b-4b7f-abe4-4e74b3b8cc8a",
   "metadata": {},
   "outputs": [],
   "source": []
  },
  {
   "cell_type": "markdown",
   "id": "bd5492ce-4f08-4755-b4c2-efd698139101",
   "metadata": {},
   "source": [
    "## II - Packages"
   ]
  },
  {
   "cell_type": "code",
   "execution_count": 1,
   "id": "90371200-0133-46ab-a205-d0f6b8858e55",
   "metadata": {},
   "outputs": [],
   "source": [
    "import pandas as pd\n",
    "import matplotlib.pyplot as plt\n",
    "import numpy as np\n",
    "from sklearn.model_selection import train_test_split\n",
    "from sklearn.preprocessing import StandardScaler\n",
    "from sklearn.decomposition import PCA\n",
    "from sklearn.discriminant_analysis import LinearDiscriminantAnalysis as LDA\n",
    "from sklearn.preprocessing import MinMaxScaler\n",
    "from sklearn.svm import SVC\n",
    "from sklearn import metrics\n",
    "from sklearn.ensemble import RandomForestClassifier\n",
    "from sklearn.linear_model import LogisticRegression\n",
    "from sklearn.tree import DecisionTreeClassifier\n",
    "from sklearn.preprocessing import normalize\n",
    "from sklearn.model_selection import cross_val_score, KFold\n",
    "#Import classical libraries\n",
    "from sklearn.neighbors import KNeighborsClassifier\n",
    "from sklearn.naive_bayes import GaussianNB\n",
    "from sklearn.svm import SVC\n",
    "from sklearn.ensemble import RandomForestClassifier\n",
    "from sklearn.model_selection import train_test_split\n",
    "from sklearn import datasets\n",
    "import matplotlib.pyplot as plt\n",
    "from skpp import ProjectionPursuitRegressor\n",
    "\n",
    "plt.style.use('ggplot')\n",
    "\n",
    "import functools\n",
    "\n",
    "from qiskit import BasicAer\n",
    "from qiskit.circuit.library import ZZFeatureMap\n",
    "from qiskit.utils import QuantumInstance, algorithm_globals\n",
    "from qiskit_machine_learning.algorithms import QSVC\n",
    "from qiskit_machine_learning.kernels import QuantumKernel\n",
    "from qiskit_machine_learning.datasets import ad_hoc_data\n",
    "import logging\n",
    "\n",
    "import pennylane as qml\n",
    "from pennylane.templates.embeddings import AngleEmbedding, AmplitudeEmbedding\n",
    "from pennylane.optimize import AdamOptimizer\n",
    "\n",
    "from qiskit.algorithms.optimizers import COBYLA\n",
    "from qiskit.circuit.library import TwoLocal, ZZFeatureMap\n",
    "import qiskit"
   ]
  },
  {
   "cell_type": "code",
   "execution_count": 2,
   "id": "c4552ad2-d5ac-4904-8e45-eafa355e4594",
   "metadata": {},
   "outputs": [],
   "source": [
    "import warnings\n",
    "warnings.filterwarnings('ignore')"
   ]
  },
  {
   "cell_type": "markdown",
   "id": "1598c94c-fdcf-41cd-a4ea-e262932c7e0f",
   "metadata": {},
   "source": [
    "## III - Data "
   ]
  },
  {
   "cell_type": "code",
   "execution_count": 3,
   "id": "e683f3b5-6021-4eb7-bc53-539a5cd79bfc",
   "metadata": {},
   "outputs": [],
   "source": [
    "# Read out CSV\n",
    "\n",
    "df = pd.read_csv('fraud_detection_bank_dataset.csv', sep=',')\n",
    "df = df.sample(1400)\n",
    "df = df.drop(['Unnamed: 0'], axis = 1)\n",
    "df_labels = df['targets']\n",
    "df.drop(['targets'],axis = 1,inplace = True)\n",
    "X_train, X_test, y_train, y_test = train_test_split(df, df_labels, test_size=0.2, random_state=42)\n",
    "\n",
    "cols = ['col_8', 'col_9', 'col_10', 'col_11', 'col_12', 'col_18', 'col_19','col_20', 'col_21', 'col_35', \n",
    "        'col_51', 'col_52', 'col_53', 'col_70','col_71','col_7', 'col_22', 'col_54', 'col_56']\n",
    "\n",
    "X_train = X_train.drop(cols, axis=1)\n",
    "X_test = X_test.drop(cols, axis=1)"
   ]
  },
  {
   "cell_type": "code",
   "execution_count": 4,
   "id": "10255383-ae13-42c1-8d19-b5cf9eca4d17",
   "metadata": {},
   "outputs": [
    {
     "data": {
      "text/plain": [
       "(1400, 112)"
      ]
     },
     "execution_count": 4,
     "metadata": {},
     "output_type": "execute_result"
    }
   ],
   "source": [
    "df.shape"
   ]
  },
  {
   "cell_type": "code",
   "execution_count": 10,
   "id": "bf69c7f1-b10e-4b54-89ec-89dd5829ac42",
   "metadata": {},
   "outputs": [],
   "source": [
    "%%script false --no-raise-error\n",
    "\n",
    "import sweetviz as sv\n",
    "\n",
    "#EDA using Autoviz\n",
    "sweet_report = sv.analyze(df)\n",
    "\n",
    "#Saving results to HTML file\n",
    "sweet_report.show_html('sweet_report.html')"
   ]
  },
  {
   "cell_type": "markdown",
   "id": "c4ff48fa-d03b-435d-9343-67186c068b34",
   "metadata": {},
   "source": [
    "## IV - Modelisation"
   ]
  },
  {
   "cell_type": "markdown",
   "id": "3dbe1bb7-d7eb-412b-a291-bbeb654766f5",
   "metadata": {},
   "source": [
    "### Classical"
   ]
  },
  {
   "cell_type": "markdown",
   "id": "b1251e3e-c8ed-4e57-a790-1fa8003f8c31",
   "metadata": {},
   "source": [
    "## Quantum Approaches"
   ]
  },
  {
   "cell_type": "code",
   "execution_count": 13,
   "id": "12b4f425-f8b1-40b4-8c3f-4502a9a01a3c",
   "metadata": {},
   "outputs": [
    {
     "data": {
      "text/plain": [
       "array([0, 1])"
      ]
     },
     "execution_count": 13,
     "metadata": {},
     "output_type": "execute_result"
    }
   ],
   "source": [
    "np.unique(df_labels)"
   ]
  },
  {
   "cell_type": "code",
   "execution_count": 5,
   "id": "a948c1c2-cb55-49b2-bb4c-c2d2fdca527a",
   "metadata": {},
   "outputs": [],
   "source": [
    "skpp = ProjectionPursuitRegressor(r=2, fit_type='spline', opt_level='medium').fit(X_train, y_train)"
   ]
  },
  {
   "cell_type": "code",
   "execution_count": 6,
   "id": "b921a949-e3bd-45b6-b0e0-a84f96788811",
   "metadata": {},
   "outputs": [],
   "source": [
    "# SKPP validate transformation (using train fit)\n",
    "x_train_skpp = skpp.transform(X_train)\n",
    "x_test_skpp = skpp.transform(X_test)"
   ]
  },
  {
   "cell_type": "code",
   "execution_count": 7,
   "id": "38d2ce7a-6c7e-49d8-8bcc-fd22530bcf2b",
   "metadata": {},
   "outputs": [],
   "source": [
    "# Arrays to dataframe for join in a single df\n",
    "x_train_skpp = pd.DataFrame(x_train_skpp)\n",
    "x_test_skpp = pd.DataFrame(x_test_skpp)"
   ]
  },
  {
   "cell_type": "code",
   "execution_count": 8,
   "id": "bf9d1f27-ae3b-4bc2-90c7-40754d2728bc",
   "metadata": {},
   "outputs": [],
   "source": [
    "# Second standard scaler normalization (using train fit)\n",
    "std_scale = StandardScaler().fit(x_train_skpp)\n",
    "X_train_skpp_norm = std_scale.transform(x_train_skpp)\n",
    "x_test_skpp_norn = std_scale.transform(x_test_skpp)\n",
    "#x_validate_lda_n = std_scale.transform(x_validate_skpp)"
   ]
  },
  {
   "cell_type": "code",
   "execution_count": 9,
   "id": "8920e169-7d06-46a1-b30e-af7eee11539e",
   "metadata": {},
   "outputs": [
    {
     "data": {
      "text/plain": [
       "2"
      ]
     },
     "execution_count": 9,
     "metadata": {},
     "output_type": "execute_result"
    }
   ],
   "source": [
    "# Dimensions definition for QML\n",
    "n_dim = len(x_train_skpp.columns)\n",
    "n_dim"
   ]
  },
  {
   "cell_type": "code",
   "execution_count": 10,
   "id": "3141a967-8c2f-472e-a934-5ad8ac0d9237",
   "metadata": {},
   "outputs": [
    {
     "data": {
      "text/plain": [
       "[<matplotlib.lines.Line2D at 0x29214cdc0>,\n",
       " <matplotlib.lines.Line2D at 0x29214df30>]"
      ]
     },
     "execution_count": 10,
     "metadata": {},
     "output_type": "execute_result"
    },
    {
     "data": {
      "image/png": "[encoded data removed]",
      "text/plain": [
       "<Figure size 1000x800 with 1 Axes>"
      ]
     },
     "metadata": {},
     "output_type": "display_data"
    }
   ],
   "source": [
    "plt.figure(figsize=(10,8))\n",
    "plt.plot(x_train_skpp, '+')\n"
   ]
  },
  {
   "cell_type": "markdown",
   "id": "bd626d5c-ff6a-443a-9700-10a93c24dc74",
   "metadata": {},
   "source": [
    "## Split train test "
   ]
  },
  {
   "cell_type": "code",
   "execution_count": 23,
   "id": "afaf0912-bdbf-4460-ae4c-43016d1f5a57",
   "metadata": {},
   "outputs": [],
   "source": [
    "%%script false --no-raise-error\n",
    "\n",
    "# Split dataset into train and test\n",
    "\n",
    "sample_train, sample_test, label_train, label_test = train_test_split(\n",
    "     X_train_skpp_norm, y_train, test_size=0.2, random_state=22)\n",
    "\n",
    "# Normalize\n",
    "\n",
    "# Select a sample for a better control of the research and wall time\n",
    "\n",
    "train_size = 800#160\n",
    "sample_train = sample_train[:train_size]\n",
    "label_train = label_train[:train_size]\n",
    "\n",
    "test_size = 200 #40\n",
    "sample_test = sample_test[:test_size]\n",
    "label_test = label_test[:test_size]"
   ]
  },
  {
   "cell_type": "code",
   "execution_count": 11,
   "id": "38ad3835-ebee-4655-b4f8-013baeb6a795",
   "metadata": {},
   "outputs": [],
   "source": [
    "sample_train, label_train, sample_test, label_test = X_train_skpp_norm, y_train, x_test_skpp_norn, y_test"
   ]
  },
  {
   "cell_type": "code",
   "execution_count": 12,
   "id": "d815edbe-c5e7-42d6-9489-39ebb940cda4",
   "metadata": {},
   "outputs": [],
   "source": [
    "# Basic parameters for hybrid model\n",
    "\n",
    "seed = 8500\n",
    "feature_dim = n_dim\n",
    "num_reps = 2\n",
    "num_shots =256 \n"
   ]
  },
  {
   "cell_type": "markdown",
   "id": "a17bc9af-4a1c-453d-be99-d54b9e045628",
   "metadata": {},
   "source": [
    "## Hybrid"
   ]
  },
  {
   "cell_type": "code",
   "execution_count": 13,
   "id": "c2ce7078-9255-4913-b6aa-7f05a0e077c3",
   "metadata": {},
   "outputs": [],
   "source": [
    "# Define feature_map\n",
    "\n",
    "feature_map = ZZFeatureMap(feature_dimension=feature_dim, reps=num_reps)\n",
    "\n",
    "# Define the backend\n",
    "backend = QuantumInstance(\n",
    "    BasicAer.get_backend(\"qasm_simulator\"), shots=num_shots, seed_simulator=seed, seed_transpiler=seed\n",
    ")\n",
    "\n",
    "# Define the kernel\n",
    "\n",
    "kernel = QuantumKernel(feature_map=feature_map, quantum_instance=backend)\n",
    "\n",
    "# Model run\n",
    "svc = SVC(kernel=kernel.evaluate)\n",
    "#svc.fit(sample_train, label_train)\n",
    "#score = svc.score(sample_test, label_test)\n",
    "\n",
    "#print(f\"Callable kernel classification test score: {score}\")"
   ]
  },
  {
   "cell_type": "code",
   "execution_count": 27,
   "id": "b8fd86d8-bec9-42ac-8543-c69c973a7f01",
   "metadata": {},
   "outputs": [],
   "source": [
    "#result_predict = svc.predict(sample_test)"
   ]
  },
  {
   "cell_type": "code",
   "execution_count": 15,
   "id": "ee71fc2a-46dc-46d1-8f51-8e3df5723407",
   "metadata": {},
   "outputs": [],
   "source": [
    "#print(metrics.classification_report(label_test,result_predict))"
   ]
  },
  {
   "cell_type": "code",
   "execution_count": 14,
   "id": "f8cffebe-cf70-4328-8b69-5b0da24914df",
   "metadata": {},
   "outputs": [],
   "source": [
    "from sklearn.model_selection import cross_validate\n",
    "from tqdm import tqdm\n",
    "def evaluate_ml_model(_models, X, y, n_fold=10, metric='precision'):\n",
    "    ''' Function to evaluate a ML and QML model with a list of metrics\n",
    "    \n",
    "    \n",
    "    '''\n",
    "    results = pd.DataFrame()\n",
    "    kfold = KFold(n_splits=n_fold)\n",
    "    columns = []\n",
    "    for name, model in tqdm(_models):\n",
    "        # -------------------\n",
    "        # Variables initialization \n",
    "        _df = pd.DataFrame()\n",
    "        names = []\n",
    "        means = []\n",
    "        stds = []\n",
    "        \n",
    "        # -------------------\n",
    "        # k-fold Cross validation\n",
    "        cv_results = cross_validate(model, X, y, cv=kfold, scoring=metric)\n",
    "        \n",
    "        # -------------------\n",
    "        # Compute the mean and standard deviation \n",
    "        for _name, _array in cv_results.items():\n",
    "            names.append(_name)\n",
    "            means.append(round(100*_array.mean(), 2))\n",
    "            stds.append(round(100*_array.std(), 2))\n",
    "        # -------------------\n",
    "        # Save the results in a dataframe \n",
    "        _df =  pd.DataFrame([means, stds], columns=names)\n",
    "        columns.extend([name+' mean (%)', name+' std (%)'])\n",
    "        #results = results.join(_df, on=_df.index)\n",
    "        results = results.append(_df)\n",
    "    results.index = columns\n",
    "    print(results)\n",
    "    return results"
   ]
  },
  {
   "cell_type": "code",
   "execution_count": 35,
   "id": "cdf4a1b8-99c3-4674-9ee9-f4f8177d11f8",
   "metadata": {},
   "outputs": [],
   "source": [
    "models = []\n",
    "#models.append(('LR', LogisticRegression(max_iter=1000, random_state=42)))\n",
    "#models.append(('KNN', KNeighborsClassifier(n_neighbors=7)))\n",
    "#models.append(('CART', DecisionTreeClassifier(random_state=42)))\n",
    "#models.append(('NB', GaussianNB()))\n",
    "#models.append(('SVM', SVC(random_state=42)))\n",
    "models.append(('QSVC', svc))\n",
    "\n",
    "_metrics = ['precision', 'recall', 'f1', 'accuracy',  'matthews_corrcoef','balanced_accuracy']\n"
   ]
  },
  {
   "cell_type": "code",
   "execution_count": 36,
   "id": "ed9d682b-6c17-452f-9625-adbf9abd8215",
   "metadata": {},
   "outputs": [
    {
     "name": "stderr",
     "output_type": "stream",
     "text": [
      "100%|█████████████████████████████████████████| 1/1 [1:44:43<00:00, 6283.45s/it]"
     ]
    },
    {
     "name": "stdout",
     "output_type": "stream",
     "text": [
      "               fit_time  score_time  test_precision  test_recall  test_f1  \\\n",
      "QSVC mean (%)  52261.24    10573.10           56.28        46.46     50.3   \n",
      "QSVC std (%)    2632.89      732.68           11.17         7.21      6.8   \n",
      "\n",
      "               test_accuracy  test_matthews_corrcoef  test_balanced_accuracy  \n",
      "QSVC mean (%)          76.07                   35.53                   66.65  \n",
      "QSVC std (%)            3.74                    8.70                    4.02  \n"
     ]
    },
    {
     "name": "stderr",
     "output_type": "stream",
     "text": [
      "\n"
     ]
    },
    {
     "data": {
      "text/html": [
       "<div>\n",
       "<style scoped>\n",
       "    .dataframe tbody tr th:only-of-type {\n",
       "        vertical-align: middle;\n",
       "    }\n",
       "\n",
       "    .dataframe tbody tr th {\n",
       "        vertical-align: top;\n",
       "    }\n",
       "\n",
       "    .dataframe thead th {\n",
       "        text-align: right;\n",
       "    }\n",
       "</style>\n",
       "<table border=\"1\" class=\"dataframe\">\n",
       "  <thead>\n",
       "    <tr style=\"text-align: right;\">\n",
       "      <th></th>\n",
       "      <th>fit_time</th>\n",
       "      <th>score_time</th>\n",
       "      <th>test_precision</th>\n",
       "      <th>test_recall</th>\n",
       "      <th>test_f1</th>\n",
       "      <th>test_accuracy</th>\n",
       "      <th>test_matthews_corrcoef</th>\n",
       "      <th>test_balanced_accuracy</th>\n",
       "    </tr>\n",
       "  </thead>\n",
       "  <tbody>\n",
       "    <tr>\n",
       "      <th>QSVC mean (%)</th>\n",
       "      <td>52261.24</td>\n",
       "      <td>10573.10</td>\n",
       "      <td>56.28</td>\n",
       "      <td>46.46</td>\n",
       "      <td>50.3</td>\n",
       "      <td>76.07</td>\n",
       "      <td>35.53</td>\n",
       "      <td>66.65</td>\n",
       "    </tr>\n",
       "    <tr>\n",
       "      <th>QSVC std (%)</th>\n",
       "      <td>2632.89</td>\n",
       "      <td>732.68</td>\n",
       "      <td>11.17</td>\n",
       "      <td>7.21</td>\n",
       "      <td>6.8</td>\n",
       "      <td>3.74</td>\n",
       "      <td>8.70</td>\n",
       "      <td>4.02</td>\n",
       "    </tr>\n",
       "  </tbody>\n",
       "</table>\n",
       "</div>"
      ],
      "text/plain": [
       "               fit_time  score_time  test_precision  test_recall  test_f1  \\\n",
       "QSVC mean (%)  52261.24    10573.10           56.28        46.46     50.3   \n",
       "QSVC std (%)    2632.89      732.68           11.17         7.21      6.8   \n",
       "\n",
       "               test_accuracy  test_matthews_corrcoef  test_balanced_accuracy  \n",
       "QSVC mean (%)          76.07                   35.53                   66.65  \n",
       "QSVC std (%)            3.74                    8.70                    4.02  "
      ]
     },
     "execution_count": 36,
     "metadata": {},
     "output_type": "execute_result"
    }
   ],
   "source": [
    "df_results = pd.DataFrame()\n",
    "df_results = evaluate_ml_model(models, sample_train, label_train, n_fold=10, metric=_metrics)\n",
    "df_results "
   ]
  },
  {
   "cell_type": "code",
   "execution_count": 37,
   "id": "8561d92d-f3ee-4045-b6e5-98097a82f364",
   "metadata": {},
   "outputs": [
    {
     "name": "stdout",
     "output_type": "stream",
     "text": [
      "QSVC & 56.28 (11.17) & 46.46 (7.21) &  50.3 (6.8) & 35.53 (8.7) & 66.65 (4.02) \\\n"
     ]
    }
   ],
   "source": [
    "j = 0\n",
    "for i in range(int(len(df_results.index)/2)):\n",
    "\n",
    "    print(f'{df_results.iloc[j].name.split()[0]} & {df_results.iloc[j][2]} ({df_results.iloc[j+1][2]}) & {df_results.iloc[j][3]} ({df_results.iloc[j+1][3]}) &  {df_results.iloc[j][4]} ({df_results.iloc[j+1][4]}) & {df_results.iloc[j][6]} ({df_results.iloc[j+1][6]}) & {df_results.iloc[j][7]} ({df_results.iloc[j+1][7]}) \\\\')\n",
    "    \n",
    "    j+=2"
   ]
  },
  {
   "cell_type": "markdown",
   "id": "3b70b837-4e39-4b65-83ca-8e82fc83efa1",
   "metadata": {},
   "source": [
    "## Pennylane"
   ]
  },
  {
   "cell_type": "code",
   "execution_count": 18,
   "id": "ff1d5656-f2f2-4d96-b210-a75a161cdb39",
   "metadata": {},
   "outputs": [],
   "source": [
    "from pennylane import numpy as np"
   ]
  },
  {
   "cell_type": "code",
   "execution_count": 19,
   "id": "07ec49f5-c401-4c36-aae3-57aad3eaa0ba",
   "metadata": {},
   "outputs": [],
   "source": [
    "# Angle Encoding\n",
    "\n",
    "num_qubits = n_dim\n",
    "\n",
    "dev = qml.device('default.qubit', wires = num_qubits)\n",
    "\n",
    "@qml.qnode(dev)\n",
    "def circuit(parameters, data):\n",
    "    for i in range(num_qubits):\n",
    "        qml.Hadamard(wires = i)\n",
    "    \n",
    "    AngleEmbedding(features = data, wires = range(num_qubits), rotation = 'Y')\n",
    "    \n",
    "    qml.StronglyEntanglingLayers(weights = parameters, wires = range(num_qubits))\n",
    "    \n",
    "    return qml.expval(qml.PauliZ(0))"
   ]
  },
  {
   "cell_type": "code",
   "execution_count": 20,
   "id": "ffcf8fdb-37a0-4b64-b73c-76be553995e8",
   "metadata": {},
   "outputs": [],
   "source": [
    "num_layers = 5\n",
    "weights_init = 0.01 * np.random.randn(num_layers, num_qubits, 3, requires_grad=True)\n",
    "bias_init = np.array(0.0, requires_grad=True)\n",
    "\n",
    "#print(weights_init, bias_init)"
   ]
  },
  {
   "cell_type": "code",
   "execution_count": 21,
   "id": "49568595-37ec-4749-a230-dc4c6dae2500",
   "metadata": {},
   "outputs": [
    {
     "data": {
      "text/plain": [
       "tensor(0.05078338, requires_grad=True)"
      ]
     },
     "execution_count": 21,
     "metadata": {},
     "output_type": "execute_result"
    }
   ],
   "source": [
    "circuit(weights_init, sample_train[0])"
   ]
  },
  {
   "cell_type": "code",
   "execution_count": 22,
   "id": "4febb380-0955-4f05-a872-326cc4e3a27c",
   "metadata": {},
   "outputs": [],
   "source": [
    "def variational_classifier(weights, bias, x):\n",
    "    return circuit(weights, x) + bias"
   ]
  },
  {
   "cell_type": "code",
   "execution_count": 23,
   "id": "c16a1f84-63e5-4fbb-a647-cba6db4c6c4c",
   "metadata": {},
   "outputs": [],
   "source": [
    "def square_loss(labels, predictions):\n",
    "    loss = 0\n",
    "    for l, p in zip(labels, predictions):\n",
    "        loss = loss + (l - p) ** 2\n",
    "\n",
    "    loss = loss / len(labels)\n",
    "    return loss"
   ]
  },
  {
   "cell_type": "code",
   "execution_count": 24,
   "id": "07412a53-c93b-4c73-bd0b-e7e144454435",
   "metadata": {},
   "outputs": [],
   "source": [
    "def accuracy(labels, predictions):\n",
    "\n",
    "    loss = 0\n",
    "    for l, p in zip(labels, predictions):\n",
    "        if abs(l - p) < 1e-5:\n",
    "            loss = loss + 1\n",
    "    loss = loss / len(labels)\n",
    "\n",
    "    return loss"
   ]
  },
  {
   "cell_type": "code",
   "execution_count": 25,
   "id": "1bf0b58e-38f3-4c45-a4d2-3d69af787ba3",
   "metadata": {},
   "outputs": [],
   "source": [
    "def cost(weights, bias, X, Y):\n",
    "    predictions = [variational_classifier(weights, bias, x) for x in X]\n",
    "    return square_loss(Y, predictions)"
   ]
  },
  {
   "cell_type": "code",
   "execution_count": 26,
   "id": "7543fccb-ef55-49cb-8508-5ae8fdfcbc58",
   "metadata": {},
   "outputs": [
    {
     "data": {
      "text/plain": [
       "0    211\n",
       "1     69\n",
       "Name: targets, dtype: int64"
      ]
     },
     "execution_count": 26,
     "metadata": {},
     "output_type": "execute_result"
    }
   ],
   "source": [
    "pd.Series(label_test).value_counts()"
   ]
  },
  {
   "cell_type": "code",
   "execution_count": 27,
   "id": "21ff4aa6-c15b-4a59-a718-67d8da2402dd",
   "metadata": {},
   "outputs": [
    {
     "name": "stdout",
     "output_type": "stream",
     "text": [
      "X = [tensor(-1.40836751, requires_grad=True), tensor(-0.05780478, requires_grad=True)], Y = -1\n",
      "X = [tensor(0.72192605, requires_grad=True), tensor(0.41362043, requires_grad=True)], Y =  1\n",
      "X = [tensor(-2.61574126, requires_grad=True), tensor(0.96370325, requires_grad=True)], Y =  1\n",
      "X = [tensor(-0.74465701, requires_grad=True), tensor(-0.01010336, requires_grad=True)], Y = -1\n",
      "X = [tensor(-0.29749818, requires_grad=True), tensor(3.51882915, requires_grad=True)], Y = -1\n"
     ]
    }
   ],
   "source": [
    "Y = np.array(label_train * 2 - np.ones(len(label_train)),requires_grad=True)  # shift label from {0, 1} to {-1, 1}\n",
    "X = np.array(sample_train, requires_grad=True)\n",
    "\n",
    "for i in range(5):\n",
    "    print(\"X = {}, Y = {: d}\".format(list(X[i]), int(Y[i])))"
   ]
  },
  {
   "cell_type": "code",
   "execution_count": 28,
   "id": "074f578a-1984-4814-9070-7b20063c8bd1",
   "metadata": {},
   "outputs": [],
   "source": [
    "opt = AdamOptimizer(stepsize=0.1, beta1=0.9, beta2=0.99, eps=1e-08)\n",
    "batch_size = 10"
   ]
  },
  {
   "cell_type": "code",
   "execution_count": null,
   "id": "a78e0005-464d-46c0-86f4-946291d7586c",
   "metadata": {},
   "outputs": [],
   "source": []
  },
  {
   "cell_type": "code",
   "execution_count": 29,
   "id": "2d31d6a7-74f4-4e63-b1cb-b92bfb610a5a",
   "metadata": {
    "tags": []
   },
   "outputs": [
    {
     "name": "stdout",
     "output_type": "stream",
     "text": [
      "New best\n",
      "Iter:     1 | Cost: 0.7569950 | f1: 0.3438257 \n",
      "New best\n",
      "Iter:     2 | Cost: 0.6132888 | f1: 0.4963504 \n",
      "New best\n",
      "Iter:     3 | Cost: 0.5898747 | f1: 0.5930736 \n",
      "New best\n",
      "Iter:     4 | Cost: 0.5259236 | f1: 0.5982533 \n",
      "New best\n",
      "Iter:     5 | Cost: 0.4807495 | f1: 0.6369427 \n",
      "New best\n",
      "Iter:     6 | Cost: 0.4787225 | f1: 0.7384615 \n",
      "New best\n",
      "Iter:     7 | Cost: 0.5562717 | f1: 0.7563291 \n",
      "Iter:     8 | Cost: 0.6060726 | f1: 0.7014085 \n",
      "New best\n",
      "Iter:     9 | Cost: 0.5111737 | f1: 0.7684887 \n",
      "Iter:    10 | Cost: 0.4493771 | f1: 0.7568556 \n",
      "Iter:    11 | Cost: 0.4390994 | f1: 0.7009901 \n",
      "Iter:    12 | Cost: 0.4687953 | f1: 0.7307692 \n",
      "Iter:    13 | Cost: 0.5009684 | f1: 0.7416974 \n",
      "Iter:    14 | Cost: 0.5200661 | f1: 0.7482014 \n",
      "Iter:    15 | Cost: 0.4824927 | f1: 0.6958250 \n",
      "Iter:    16 | Cost: 0.4738299 | f1: 0.5746606 \n",
      "Iter:    17 | Cost: 0.5079170 | f1: 0.4111675 \n",
      "Iter:    18 | Cost: 0.4975307 | f1: 0.4577114 \n",
      "Iter:    19 | Cost: 0.4952022 | f1: 0.4926108 \n",
      "Iter:    20 | Cost: 0.4864644 | f1: 0.5393795 \n",
      "Iter:    21 | Cost: 0.4711845 | f1: 0.5317647 \n",
      "Iter:    22 | Cost: 0.4649687 | f1: 0.5441860 \n",
      "Iter:    23 | Cost: 0.4498018 | f1: 0.6351931 \n",
      "Iter:    24 | Cost: 0.4510644 | f1: 0.6625514 \n",
      "Iter:    25 | Cost: 0.4691359 | f1: 0.7123810 \n",
      "Iter:    26 | Cost: 0.4641568 | f1: 0.7255639 \n",
      "Iter:    27 | Cost: 0.4551302 | f1: 0.7303371 \n",
      "Iter:    28 | Cost: 0.4353745 | f1: 0.7181467 \n",
      "Iter:    29 | Cost: 0.4244909 | f1: 0.6901961 \n",
      "Iter:    30 | Cost: 0.4175742 | f1: 0.7079304 \n",
      "Iter:    31 | Cost: 0.4125681 | f1: 0.7067961 \n",
      "Iter:    32 | Cost: 0.4097760 | f1: 0.7213740 \n",
      "Iter:    33 | Cost: 0.4069540 | f1: 0.7035573 \n",
      "Iter:    34 | Cost: 0.4078558 | f1: 0.6639004 \n",
      "Iter:    35 | Cost: 0.4186646 | f1: 0.6220302 \n",
      "Iter:    36 | Cost: 0.4642360 | f1: 0.5268065 \n",
      "Iter:    37 | Cost: 0.4876055 | f1: 0.4600484 \n",
      "Iter:    38 | Cost: 0.4796133 | f1: 0.4773270 \n",
      "Iter:    39 | Cost: 0.4705392 | f1: 0.5034965 \n",
      "Iter:    40 | Cost: 0.4390983 | f1: 0.5764967 \n",
      "Iter:    41 | Cost: 0.4273112 | f1: 0.5921053 \n",
      "Iter:    42 | Cost: 0.3894077 | f1: 0.6949495 \n",
      "New best\n",
      "Iter:    43 | Cost: 0.3850403 | f1: 0.7779817 \n",
      "New best\n",
      "Iter:    44 | Cost: 0.3822004 | f1: 0.7875458 \n",
      "New best\n",
      "Iter:    45 | Cost: 0.4092751 | f1: 0.8260870 \n",
      "Iter:    46 | Cost: 0.4064082 | f1: 0.8183362 \n",
      "Iter:    47 | Cost: 0.3879389 | f1: 0.7861060 \n",
      "Iter:    48 | Cost: 0.3782600 | f1: 0.6987448 \n",
      "Iter:    49 | Cost: 0.3937762 | f1: 0.6548673 \n",
      "Iter:    50 | Cost: 0.3890345 | f1: 0.6637363 \n",
      "Iter:    51 | Cost: 0.3827783 | f1: 0.6796537 \n",
      "Iter:    52 | Cost: 0.3710959 | f1: 0.7031579 \n",
      "Iter:    53 | Cost: 0.3651560 | f1: 0.7870722 \n",
      "New best\n",
      "Iter:    54 | Cost: 0.3858116 | f1: 0.8307692 \n",
      "Iter:    55 | Cost: 0.3887402 | f1: 0.8296796 \n",
      "Iter:    56 | Cost: 0.3765411 | f1: 0.8272251 \n",
      "Iter:    57 | Cost: 0.3608076 | f1: 0.8051948 \n",
      "Iter:    58 | Cost: 0.3553537 | f1: 0.7899807 \n",
      "Iter:    59 | Cost: 0.3559643 | f1: 0.7530364 \n",
      "Iter:    60 | Cost: 0.3681685 | f1: 0.7046414 \n",
      "Iter:    61 | Cost: 0.3766106 | f1: 0.6810345 \n",
      "Iter:    62 | Cost: 0.3618352 | f1: 0.7283951 \n",
      "Iter:    63 | Cost: 0.3530083 | f1: 0.7677165 \n",
      "Iter:    64 | Cost: 0.3571699 | f1: 0.8196721 \n",
      "New best\n",
      "Iter:    65 | Cost: 0.3831269 | f1: 0.8445172 \n",
      "New best\n",
      "Iter:    66 | Cost: 0.3840616 | f1: 0.8450245 \n",
      "Iter:    67 | Cost: 0.3798398 | f1: 0.8421053 \n",
      "Iter:    68 | Cost: 0.3770684 | f1: 0.8419301 \n",
      "Iter:    69 | Cost: 0.3603416 | f1: 0.8165468 \n",
      "Iter:    70 | Cost: 0.3552544 | f1: 0.7887850 \n",
      "Iter:    71 | Cost: 0.3632059 | f1: 0.7224490 \n",
      "Iter:    72 | Cost: 0.3951298 | f1: 0.6505495 \n",
      "Iter:    73 | Cost: 0.4205245 | f1: 0.6139955 \n",
      "Iter:    74 | Cost: 0.4066865 | f1: 0.6297118 \n",
      "Iter:    75 | Cost: 0.3851621 | f1: 0.6807611 \n",
      "Iter:    76 | Cost: 0.3679463 | f1: 0.7333333 \n",
      "Iter:    77 | Cost: 0.3858649 | f1: 0.7992958 \n",
      "Iter:    78 | Cost: 0.4667046 | f1: 0.8139183 \n",
      "Iter:    79 | Cost: 0.4786761 | f1: 0.8005908 \n",
      "Iter:    80 | Cost: 0.4610089 | f1: 0.8041854 \n",
      "Iter:    81 | Cost: 0.4386759 | f1: 0.8084465 \n",
      "Iter:    82 | Cost: 0.4055830 | f1: 0.8322785 \n",
      "Iter:    83 | Cost: 0.3835206 | f1: 0.8183362 \n",
      "Iter:    84 | Cost: 0.3784250 | f1: 0.8035088 \n",
      "Iter:    85 | Cost: 0.3785983 | f1: 0.7927928 \n",
      "Iter:    86 | Cost: 0.3806802 | f1: 0.7294589 \n",
      "Iter:    87 | Cost: 0.3989366 | f1: 0.6666667 \n",
      "Iter:    88 | Cost: 0.4230532 | f1: 0.6233184 \n",
      "Iter:    89 | Cost: 0.4478248 | f1: 0.5654206 \n",
      "Iter:    90 | Cost: 0.4360885 | f1: 0.5995423 \n",
      "Iter:    91 | Cost: 0.4091074 | f1: 0.6460177 \n",
      "Iter:    92 | Cost: 0.3754860 | f1: 0.7364185 \n",
      "Iter:    93 | Cost: 0.3796263 | f1: 0.8127208 \n",
      "Iter:    94 | Cost: 0.3855013 | f1: 0.8308208 \n",
      "Iter:    95 | Cost: 0.3744122 | f1: 0.8269896 \n",
      "Iter:    96 | Cost: 0.3866121 | f1: 0.8401977 \n",
      "Iter:    97 | Cost: 0.3762962 | f1: 0.8208696 \n",
      "Iter:    98 | Cost: 0.3702757 | f1: 0.8072072 \n",
      "Iter:    99 | Cost: 0.3685269 | f1: 0.7881041 \n",
      "Iter:   100 | Cost: 0.3721443 | f1: 0.7963303 \n",
      "Iter:   101 | Cost: 0.3812155 | f1: 0.8085106 \n",
      "Iter:   102 | Cost: 0.3948629 | f1: 0.8219178 \n",
      "Iter:   103 | Cost: 0.3955184 | f1: 0.8233276 \n",
      "Iter:   104 | Cost: 0.3734493 | f1: 0.8029466 \n",
      "Iter:   105 | Cost: 0.3752809 | f1: 0.7353535 \n",
      "Iter:   106 | Cost: 0.3949426 | f1: 0.6637744 \n",
      "Iter:   107 | Cost: 0.4303805 | f1: 0.5806452 \n",
      "Iter:   108 | Cost: 0.4491899 | f1: 0.5471698 \n",
      "Iter:   109 | Cost: 0.4277116 | f1: 0.5885057 \n",
      "Iter:   110 | Cost: 0.3641848 | f1: 0.7383367 \n",
      "Iter:   111 | Cost: 0.3751378 | f1: 0.8330465 \n",
      "Iter:   112 | Cost: 0.4613655 | f1: 0.8011869 \n",
      "Iter:   113 | Cost: 0.5296934 | f1: 0.7279895 \n",
      "Iter:   114 | Cost: 0.5154055 | f1: 0.7367021 \n",
      "Iter:   115 | Cost: 0.4773779 | f1: 0.7698864 \n",
      "Iter:   116 | Cost: 0.4324883 | f1: 0.8218750 \n",
      "Iter:   117 | Cost: 0.3682084 | f1: 0.7878788 \n",
      "Iter:   118 | Cost: 0.3831084 | f1: 0.6782609 \n",
      "Iter:   119 | Cost: 0.4000553 | f1: 0.6563193 \n",
      "Iter:   120 | Cost: 0.3793022 | f1: 0.7103594 \n",
      "Iter:   121 | Cost: 0.3821932 | f1: 0.7209776 \n",
      "Iter:   122 | Cost: 0.3907616 | f1: 0.7892720 \n",
      "Iter:   123 | Cost: 0.3888455 | f1: 0.7268994 \n",
      "Iter:   124 | Cost: 0.3944275 | f1: 0.8075472 \n",
      "Iter:   125 | Cost: 0.3861157 | f1: 0.7992424 \n",
      "Iter:   126 | Cost: 0.3757761 | f1: 0.7824427 \n",
      "Iter:   127 | Cost: 0.3710834 | f1: 0.7257732 \n",
      "Iter:   128 | Cost: 0.4204079 | f1: 0.6136364 \n",
      "Iter:   129 | Cost: 0.4551649 | f1: 0.5531915 \n",
      "Iter:   130 | Cost: 0.4255247 | f1: 0.6027397 \n",
      "Iter:   131 | Cost: 0.4023979 | f1: 0.6491228 \n",
      "Iter:   132 | Cost: 0.3681615 | f1: 0.7345309 \n",
      "Iter:   133 | Cost: 0.3683548 | f1: 0.7611650 \n",
      "Iter:   134 | Cost: 0.3846442 | f1: 0.7941176 \n",
      "Iter:   135 | Cost: 0.4009978 | f1: 0.8049645 \n",
      "Iter:   136 | Cost: 0.3987287 | f1: 0.8043478 \n",
      "Iter:   137 | Cost: 0.3832022 | f1: 0.7405941 \n",
      "Iter:   138 | Cost: 0.4168129 | f1: 0.6157303 \n",
      "Iter:   139 | Cost: 0.4038893 | f1: 0.6461538 \n",
      "Iter:   140 | Cost: 0.3750952 | f1: 0.7110187 \n",
      "Iter:   141 | Cost: 0.3688395 | f1: 0.7750473 \n",
      "Iter:   142 | Cost: 0.3714657 | f1: 0.7911275 \n",
      "Iter:   143 | Cost: 0.3729326 | f1: 0.7276342 \n",
      "Iter:   144 | Cost: 0.3759497 | f1: 0.7099391 \n",
      "Iter:   145 | Cost: 0.3803205 | f1: 0.7034765 \n",
      "Iter:   146 | Cost: 0.3908982 | f1: 0.6738197 \n",
      "Iter:   147 | Cost: 0.3953836 | f1: 0.6623377 \n",
      "Iter:   148 | Cost: 0.3848728 | f1: 0.6864407 \n",
      "Iter:   149 | Cost: 0.3714410 | f1: 0.7547893 \n",
      "Iter:   150 | Cost: 0.3876792 | f1: 0.8223684 \n"
     ]
    }
   ],
   "source": [
    "weights = weights_init\n",
    "bias = bias_init\n",
    "\n",
    "wbest = 0\n",
    "bbest = 0\n",
    "abest = 0\n",
    "ccost = 0 \n",
    "for it in range(150):\n",
    "\n",
    "    # weights update by one optimizer step\n",
    "\n",
    "    batch_index = np.random.randint(0, len(X), (batch_size,))\n",
    "    X_batch = X[batch_index]\n",
    "    Y_batch = Y[batch_index]\n",
    "    weights, bias, _, _ = opt.step(cost, weights, bias, X_batch, Y_batch)\n",
    "\n",
    "    # Compute the accuracy\n",
    "    predictions = [np.sign(variational_classifier(weights, bias, x)) for x in X]\n",
    "    \n",
    "    '''if accuracy(Y, predictions) > abest:\n",
    "        wbest = weights\n",
    "        bbest = bias\n",
    "        abest = accuracy(Y, predictions)\n",
    "        print('New best')\n",
    "\n",
    "    acc = accuracy(Y, predictions)\n",
    "\n",
    "    print(\n",
    "        \"Iter: {:5d} | Cost: {:0.7f} | Accuracy: {:0.7f} \".format(\n",
    "            it + 1, cost(weights, bias, X, Y), acc\n",
    "        )\n",
    "    )'''\n",
    "    prec = metrics.f1_score(Y, predictions, average='binary', pos_label=1)\n",
    "    if  prec > abest or ((prec == abest) and (cost(weights, bias, X, Y) < ccost)):\n",
    "        wbest = weights\n",
    "        bbest = bias\n",
    "        abest = prec\n",
    "        ccost = cost(weights, bias, X, Y)\n",
    "        print('New best')\n",
    "    #prec = metrics.precision_score(Y, predictions, average='binary')\n",
    "    print(\n",
    "        \"Iter: {:5d} | Cost: {:0.7f} | f1: {:0.7f} \".format(\n",
    "            it + 1, cost(weights, bias, X, Y), prec\n",
    "        )\n",
    "    )\n",
    "    \n",
    "    "
   ]
  },
  {
   "cell_type": "code",
   "execution_count": 30,
   "id": "ee2dceeb-5b76-4ec7-9ebb-efb9e562cf8a",
   "metadata": {},
   "outputs": [],
   "source": [
    "Yte = np.array(label_test * 2 - np.ones(len(label_test)))\n",
    "Xte = np.array(normalize(sample_test))"
   ]
  },
  {
   "cell_type": "code",
   "execution_count": 31,
   "id": "03ecd991-b560-4868-9e42-1dcfe09d58ac",
   "metadata": {},
   "outputs": [
    {
     "data": {
      "text/plain": [
       "-1.0    211\n",
       " 1.0     69\n",
       "dtype: int64"
      ]
     },
     "execution_count": 31,
     "metadata": {},
     "output_type": "execute_result"
    }
   ],
   "source": [
    "pd.Series(Yte).value_counts()"
   ]
  },
  {
   "cell_type": "code",
   "execution_count": 32,
   "id": "4416ed73-4c7d-44e3-a539-9dba3191327d",
   "metadata": {},
   "outputs": [
    {
     "name": "stdout",
     "output_type": "stream",
     "text": [
      "Cost: 0.4284541520792782, Accuracy: 88.0%\n"
     ]
    }
   ],
   "source": [
    "predictions = [np.sign(variational_classifier(wbest, bbest, x)) for x in Xte]\n",
    "pred = [np.sign(variational_classifier(wbest, bbest, x)) for x in X]\n",
    "acc = accuracy(Yte, predictions)\n",
    "\n",
    "print(f'Cost: {cost(wbest, bbest, Xte, Yte)}, Accuracy: {np.round(acc, 2) * 100}%')"
   ]
  },
  {
   "cell_type": "code",
   "execution_count": 33,
   "id": "8c50c097-603d-439b-84a9-cd649bcbeaa1",
   "metadata": {},
   "outputs": [
    {
     "name": "stdout",
     "output_type": "stream",
     "text": [
      "              precision    recall  f1-score   support\n",
      "\n",
      "        -1.0       0.96      0.87      0.91       211\n",
      "         1.0       0.69      0.90      0.78        69\n",
      "\n",
      "    accuracy                           0.88       280\n",
      "   macro avg       0.83      0.88      0.85       280\n",
      "weighted avg       0.90      0.88      0.88       280\n",
      "\n"
     ]
    }
   ],
   "source": [
    "print(metrics.classification_report(Yte,predictions))"
   ]
  },
  {
   "cell_type": "code",
   "execution_count": 34,
   "id": "dcedeada-a82f-4e82-b738-6a862dc801c8",
   "metadata": {},
   "outputs": [
    {
     "name": "stdout",
     "output_type": "stream",
     "text": [
      "\n",
      "\n",
      "    Precision: 89.86%\n",
      "    Recall: 68.89%\n",
      "    f1: 77.99%\n",
      "    Accuracy: 87.5%\n",
      "    Matthew corcorref: 70.67%\n",
      "    Balanced accuracy: 82.6%\n",
      "    \n"
     ]
    }
   ],
   "source": [
    "print(f'''\n",
    "\n",
    "    Precision: {round(100*metrics.precision_score(predictions,Yte),2)}%\n",
    "    Recall: {round(100*metrics.recall_score(predictions,Yte),2)}%\n",
    "    f1: {round(100*metrics.f1_score(predictions,Yte),2)}%\n",
    "    Accuracy: {round(100*metrics.accuracy_score(predictions,Yte),2)}%\n",
    "    Matthew corcorref: {round(100*metrics.matthews_corrcoef(predictions,Yte),2)}%\n",
    "    Balanced accuracy: {round(100*metrics.balanced_accuracy_score(predictions,Yte),2)}%\n",
    "    ''')"
   ]
  },
  {
   "cell_type": "code",
   "execution_count": null,
   "id": "77acf9e4-6362-4daa-829c-a5c70138be5c",
   "metadata": {
    "tags": []
   },
   "outputs": [
    {
     "name": "stdout",
     "output_type": "stream",
     "text": [
      "New best\n",
      "Iter:     1 | Cost: 1.1388050 | Accuracy: 0.4800000 \n",
      "New best\n",
      "Iter:     2 | Cost: 1.0274811 | Accuracy: 0.5637500 \n",
      "New best\n",
      "Iter:     3 | Cost: 0.8905291 | Accuracy: 0.6575000 \n",
      "New best\n",
      "Iter:     4 | Cost: 0.7579426 | Accuracy: 0.7612500 \n",
      "New best\n",
      "Iter:     5 | Cost: 0.6521451 | Accuracy: 0.8512500 \n",
      "Iter:     6 | Cost: 0.6235211 | Accuracy: 0.8075000 \n",
      "Iter:     7 | Cost: 0.6576260 | Accuracy: 0.7550000 \n",
      "Iter:     8 | Cost: 0.6438223 | Accuracy: 0.7712500 \n",
      "Iter:     9 | Cost: 0.6215416 | Accuracy: 0.7787500 \n",
      "Iter:    10 | Cost: 0.5751959 | Accuracy: 0.7900000 \n",
      "Iter:    11 | Cost: 0.5487399 | Accuracy: 0.8062500 \n",
      "Iter:    12 | Cost: 0.5385611 | Accuracy: 0.8087500 \n",
      "Iter:    13 | Cost: 0.5272715 | Accuracy: 0.8125000 \n",
      "Iter:    14 | Cost: 0.5199479 | Accuracy: 0.8125000 \n",
      "Iter:    15 | Cost: 0.5239588 | Accuracy: 0.8212500 \n",
      "Iter:    16 | Cost: 0.5270090 | Accuracy: 0.8162500 \n",
      "Iter:    17 | Cost: 0.5128352 | Accuracy: 0.8212500 \n",
      "New best\n",
      "Iter:    18 | Cost: 0.4497494 | Accuracy: 0.8712500 \n",
      "New best\n",
      "Iter:    19 | Cost: 0.4353493 | Accuracy: 0.8937500 \n",
      "Iter:    20 | Cost: 0.4661752 | Accuracy: 0.8637500 \n",
      "Iter:    21 | Cost: 0.4756908 | Accuracy: 0.8600000 \n",
      "Iter:    22 | Cost: 0.4744578 | Accuracy: 0.8575000 \n",
      "New best\n",
      "Iter:    23 | Cost: 0.4511598 | Accuracy: 0.8950000 \n",
      "Iter:    24 | Cost: 0.4598457 | Accuracy: 0.8875000 \n",
      "Iter:    25 | Cost: 0.5116392 | Accuracy: 0.8162500 \n",
      "Iter:    26 | Cost: 0.5397934 | Accuracy: 0.7900000 \n",
      "Iter:    27 | Cost: 0.5468081 | Accuracy: 0.7762500 \n",
      "Iter:    28 | Cost: 0.5314013 | Accuracy: 0.7950000 \n",
      "Iter:    29 | Cost: 0.5142208 | Accuracy: 0.8112500 \n",
      "Iter:    30 | Cost: 0.4851916 | Accuracy: 0.8500000 \n",
      "Iter:    31 | Cost: 0.4625550 | Accuracy: 0.8900000 \n",
      "New best\n",
      "Iter:    32 | Cost: 0.4419241 | Accuracy: 0.9137500 \n",
      "Iter:    33 | Cost: 0.4351742 | Accuracy: 0.9125000 \n",
      "Iter:    34 | Cost: 0.4325961 | Accuracy: 0.9075000 \n",
      "Iter:    35 | Cost: 0.4334759 | Accuracy: 0.9025000 \n",
      "Iter:    36 | Cost: 0.4338920 | Accuracy: 0.8975000 \n",
      "Iter:    37 | Cost: 0.4310891 | Accuracy: 0.9012500 \n",
      "Iter:    38 | Cost: 0.4271101 | Accuracy: 0.9012500 \n",
      "Iter:    39 | Cost: 0.4211750 | Accuracy: 0.9062500 \n",
      "Iter:    40 | Cost: 0.4183389 | Accuracy: 0.9075000 \n",
      "Iter:    41 | Cost: 0.4201879 | Accuracy: 0.9112500 \n",
      "New best\n",
      "Iter:    42 | Cost: 0.4151437 | Accuracy: 0.9150000 \n",
      "Iter:    43 | Cost: 0.4177120 | Accuracy: 0.9025000 \n",
      "Iter:    44 | Cost: 0.4292567 | Accuracy: 0.8962500 \n",
      "Iter:    45 | Cost: 0.4241086 | Accuracy: 0.8975000 \n",
      "Iter:    46 | Cost: 0.4212663 | Accuracy: 0.9025000 \n",
      "Iter:    47 | Cost: 0.4220414 | Accuracy: 0.9075000 \n",
      "Iter:    48 | Cost: 0.4178806 | Accuracy: 0.9125000 \n",
      "New best\n",
      "Iter:    49 | Cost: 0.4183256 | Accuracy: 0.9175000 \n",
      "Iter:    50 | Cost: 0.4321061 | Accuracy: 0.9025000 \n",
      "Iter:    51 | Cost: 0.4366375 | Accuracy: 0.8962500 \n",
      "Iter:    52 | Cost: 0.4418390 | Accuracy: 0.8837500 \n",
      "Iter:    53 | Cost: 0.4450615 | Accuracy: 0.8875000 \n",
      "Iter:    54 | Cost: 0.4409768 | Accuracy: 0.8975000 \n",
      "Iter:    55 | Cost: 0.4318176 | Accuracy: 0.9150000 \n",
      "New best\n",
      "Iter:    56 | Cost: 0.4317588 | Accuracy: 0.9212500 \n",
      "Iter:    57 | Cost: 0.4528087 | Accuracy: 0.8925000 \n",
      "Iter:    58 | Cost: 0.4599603 | Accuracy: 0.8800000 \n",
      "Iter:    59 | Cost: 0.4522052 | Accuracy: 0.8925000 \n",
      "Iter:    60 | Cost: 0.4467763 | Accuracy: 0.8950000 \n",
      "Iter:    61 | Cost: 0.4452085 | Accuracy: 0.8975000 \n",
      "Iter:    62 | Cost: 0.4441344 | Accuracy: 0.9075000 \n",
      "Iter:    63 | Cost: 0.4377748 | Accuracy: 0.9137500 \n",
      "Iter:    64 | Cost: 0.4286123 | Accuracy: 0.9175000 \n",
      "Iter:    65 | Cost: 0.4227363 | Accuracy: 0.9125000 \n",
      "Iter:    66 | Cost: 0.4214273 | Accuracy: 0.9062500 \n",
      "Iter:    67 | Cost: 0.4213975 | Accuracy: 0.9037500 \n",
      "Iter:    68 | Cost: 0.4202016 | Accuracy: 0.9025000 \n",
      "Iter:    69 | Cost: 0.4188702 | Accuracy: 0.9000000 \n",
      "Iter:    70 | Cost: 0.4200868 | Accuracy: 0.8975000 \n",
      "Iter:    71 | Cost: 0.4196368 | Accuracy: 0.8925000 \n",
      "Iter:    72 | Cost: 0.4134453 | Accuracy: 0.9012500 \n",
      "Iter:    73 | Cost: 0.4109289 | Accuracy: 0.9062500 \n",
      "Iter:    74 | Cost: 0.4106403 | Accuracy: 0.9050000 \n",
      "Iter:    75 | Cost: 0.4113676 | Accuracy: 0.9075000 \n",
      "Iter:    76 | Cost: 0.4164619 | Accuracy: 0.9025000 \n",
      "Iter:    77 | Cost: 0.4219751 | Accuracy: 0.9000000 \n",
      "Iter:    78 | Cost: 0.4251034 | Accuracy: 0.8975000 \n",
      "Iter:    79 | Cost: 0.4304712 | Accuracy: 0.8875000 \n",
      "Iter:    80 | Cost: 0.4264431 | Accuracy: 0.8925000 \n",
      "Iter:    81 | Cost: 0.4159146 | Accuracy: 0.9025000 \n",
      "Iter:    82 | Cost: 0.4072828 | Accuracy: 0.9100000 \n"
     ]
    }
   ],
   "source": [
    "weights = weights_init\n",
    "bias = bias_init\n",
    "\n",
    "wbest = 0\n",
    "bbest = 0\n",
    "abest = 0\n",
    "ccost = 1 \n",
    "for it in range(150):\n",
    "\n",
    "    # weights update by one optimizer step\n",
    "\n",
    "    batch_index = np.random.randint(0, len(X), (batch_size,))\n",
    "    X_batch = X[batch_index]\n",
    "    Y_batch = Y[batch_index]\n",
    "    weights, bias, _, _ = opt.step(cost, weights, bias, X_batch, Y_batch)\n",
    "\n",
    "    # Compute the accuracy\n",
    "    predictions = [np.sign(variational_classifier(weights, bias, x)) for x in X]\n",
    "    \n",
    "    '''if accuracy(Y, predictions) > abest:\n",
    "        wbest = weights\n",
    "        bbest = bias\n",
    "        abest = accuracy(Y, predictions)\n",
    "        print('New best')\n",
    "\n",
    "    acc = accuracy(Y, predictions)\n",
    "\n",
    "    print(\n",
    "        \"Iter: {:5d} | Cost: {:0.7f} | Accuracy: {:0.7f} \".format(\n",
    "            it + 1, cost(weights, bias, X, Y), acc\n",
    "        )\n",
    "    )'''\n",
    "    prec = accuracy(Y, predictions)\n",
    "    if  prec > abest or ((prec == abest) and (cost(weights, bias, X, Y) < ccost)):\n",
    "        wbest = weights\n",
    "        bbest = bias\n",
    "        abest = prec\n",
    "        ccost = cost(weights, bias, X, Y)\n",
    "        print('New best')\n",
    "    #prec = metrics.precision_score(Y, predictions, average='binary')\n",
    "    print(\n",
    "        \"Iter: {:5d} | Cost: {:0.7f} | Accuracy: {:0.7f} \".format(\n",
    "            it + 1, cost(weights, bias, X, Y), prec\n",
    "        )\n",
    "    )\n",
    "    \n",
    "    "
   ]
  },
  {
   "cell_type": "code",
   "execution_count": null,
   "id": "615e6410-5955-469d-8ccd-32517ba8ec3f",
   "metadata": {},
   "outputs": [],
   "source": [
    "predictions = [np.sign(variational_classifier(wbest, bbest, x)) for x in Xte]\n",
    "pred = [np.sign(variational_classifier(wbest, bbest, x)) for x in X]\n",
    "acc = accuracy(Yte, predictions)\n",
    "\n",
    "print(f'Cost: {cost(wbest, bbest, Xte, Yte)}, Accuracy: {np.round(acc, 2) * 100}%')"
   ]
  },
  {
   "cell_type": "code",
   "execution_count": null,
   "id": "694c231f-ce47-4bdb-be6a-eb1308ebc00e",
   "metadata": {},
   "outputs": [],
   "source": [
    "print(metrics.classification_report(Yte, predictions))"
   ]
  },
  {
   "cell_type": "code",
   "execution_count": null,
   "id": "660c69a6-87da-400e-99ba-739d49627088",
   "metadata": {},
   "outputs": [],
   "source": [
    "print(f'''\n",
    "\n",
    "    Precision: {round(100*metrics.precision_score(predictions,Yte),2)}%\n",
    "    Recall: {round(100*metrics.recall_score(predictions,Yte),2)}%\n",
    "    f1: {round(100*metrics.f1_score(predictions,Yte),2)}%\n",
    "    Accuracy: {round(100*metrics.accuracy_score(predictions,Yte),2)}%\n",
    "    Balanced accuracy: {round(100*metrics.balanced_accuracy_score(predictions,Yte),2)}%\n",
    "    Matthew corcorref: {round(100*metrics.matthews_corrcoef(predictions,Yte),2)}%\n",
    "    ''')"
   ]
  },
  {
   "cell_type": "code",
   "execution_count": 5,
   "id": "5ee63f17-2adf-48b6-9106-fb542ed641d6",
   "metadata": {},
   "outputs": [],
   "source": []
  },
  {
   "cell_type": "code",
   "execution_count": null,
   "id": "3733572a-30eb-4080-bb3e-7201605149c8",
   "metadata": {},
   "outputs": [],
   "source": []
  },
  {
   "cell_type": "code",
   "execution_count": null,
   "id": "8f19289f-ce71-4aa8-8504-ac6564f69660",
   "metadata": {},
   "outputs": [],
   "source": []
  }
 ],
 "metadata": {
  "kernelspec": {
   "display_name": "Python 3 (ipykernel)",
   "language": "python",
   "name": "python3"
  },
  "language_info": {
   "codemirror_mode": {
    "name": "ipython",
    "version": 3
   },
   "file_extension": ".py",
   "mimetype": "text/x-python",
   "name": "python",
   "nbconvert_exporter": "python",
   "pygments_lexer": "ipython3",
   "version": "3.10.6"
  }
 },
 "nbformat": 4,
 "nbformat_minor": 5
}
