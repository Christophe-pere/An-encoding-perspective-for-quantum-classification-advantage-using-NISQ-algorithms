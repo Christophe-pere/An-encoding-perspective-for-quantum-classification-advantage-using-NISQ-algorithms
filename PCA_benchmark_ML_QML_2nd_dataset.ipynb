{
 "cells": [
  {
   "cell_type": "markdown",
   "id": "d41d3fa6-0ae0-490d-a02b-0dbf81799488",
   "metadata": {},
   "source": [
    "# Quantum benchmark"
   ]
  },
  {
   "cell_type": "markdown",
   "id": "d6011e42-1fab-4f9f-ab99-f4f08607517e",
   "metadata": {},
   "source": [
    "## I - Introduction"
   ]
  },
  {
   "cell_type": "code",
   "execution_count": null,
   "id": "13b4f6b4-240b-4b7f-abe4-4e74b3b8cc8a",
   "metadata": {},
   "outputs": [],
   "source": []
  },
  {
   "cell_type": "markdown",
   "id": "bd5492ce-4f08-4755-b4c2-efd698139101",
   "metadata": {},
   "source": [
    "## II - Packages"
   ]
  },
  {
   "cell_type": "code",
   "execution_count": 31,
   "id": "90371200-0133-46ab-a205-d0f6b8858e55",
   "metadata": {},
   "outputs": [],
   "source": [
    "import pandas as pd\n",
    "import matplotlib.pyplot as plt\n",
    "import numpy as np\n",
    "from sklearn.model_selection import train_test_split\n",
    "from sklearn.preprocessing import StandardScaler\n",
    "from sklearn.decomposition import PCA\n",
    "from sklearn.discriminant_analysis import LinearDiscriminantAnalysis as LDA\n",
    "from sklearn.preprocessing import MinMaxScaler\n",
    "from sklearn.svm import SVC\n",
    "from sklearn import metrics\n",
    "from sklearn.ensemble import RandomForestClassifier\n",
    "from sklearn.linear_model import LogisticRegression\n",
    "from sklearn.tree import DecisionTreeClassifier\n",
    "from sklearn.preprocessing import normalize\n",
    "from sklearn.model_selection import cross_val_score, KFold\n",
    "#Import classical libraries\n",
    "from sklearn.neighbors import KNeighborsClassifier\n",
    "from sklearn.naive_bayes import GaussianNB\n",
    "from sklearn.svm import SVC\n",
    "from sklearn.ensemble import RandomForestClassifier\n",
    "from sklearn.model_selection import train_test_split\n",
    "from sklearn import datasets\n",
    "import matplotlib.pyplot as plt\n",
    "\n",
    "plt.style.use('ggplot')\n",
    "\n",
    "import functools\n",
    "\n",
    "from qiskit import BasicAer\n",
    "from qiskit.circuit.library import ZZFeatureMap\n",
    "from qiskit.utils import QuantumInstance, algorithm_globals\n",
    "from qiskit_machine_learning.algorithms import QSVC\n",
    "from qiskit_machine_learning.kernels import QuantumKernel\n",
    "from qiskit_machine_learning.datasets import ad_hoc_data\n",
    "import logging\n",
    "\n",
    "import pennylane as qml\n",
    "from pennylane.templates.embeddings import AngleEmbedding, AmplitudeEmbedding\n",
    "from pennylane.optimize import AdamOptimizer\n",
    "\n",
    "from qiskit.algorithms.optimizers import COBYLA\n",
    "from qiskit.circuit.library import TwoLocal, ZZFeatureMap\n",
    "import qiskit"
   ]
  },
  {
   "cell_type": "code",
   "execution_count": 32,
   "id": "4ed6c986-b9e7-45ee-8cf8-64eafc6b6d4e",
   "metadata": {},
   "outputs": [],
   "source": [
    "import warnings\n",
    "warnings.filterwarnings('ignore')"
   ]
  },
  {
   "cell_type": "markdown",
   "id": "1598c94c-fdcf-41cd-a4ea-e262932c7e0f",
   "metadata": {},
   "source": [
    "## III - Data "
   ]
  },
  {
   "cell_type": "code",
   "execution_count": 33,
   "id": "e683f3b5-6021-4eb7-bc53-539a5cd79bfc",
   "metadata": {},
   "outputs": [],
   "source": [
    "# Read out CSV\n",
    "\n",
    "df = pd.read_csv('santander_transaction.csv', sep=',')\n"
   ]
  },
  {
   "cell_type": "code",
   "execution_count": 34,
   "id": "bf69c7f1-b10e-4b54-89ec-89dd5829ac42",
   "metadata": {},
   "outputs": [],
   "source": [
    "%%script false --no-raise-error\n",
    "\n",
    "import sweetviz as sv\n",
    "\n",
    "#EDA using Autoviz\n",
    "sweet_report = sv.analyze(df)\n",
    "\n",
    "#Saving results to HTML file\n",
    "sweet_report.show_html('sweet_report.html')"
   ]
  },
  {
   "cell_type": "markdown",
   "id": "c4ff48fa-d03b-435d-9343-67186c068b34",
   "metadata": {},
   "source": [
    "## IV - Modelisation"
   ]
  },
  {
   "cell_type": "markdown",
   "id": "3dbe1bb7-d7eb-412b-a291-bbeb654766f5",
   "metadata": {},
   "source": [
    "### Classical"
   ]
  },
  {
   "cell_type": "code",
   "execution_count": 35,
   "id": "d7f6037b-3b1c-4a2c-8a9e-df1d432cafa4",
   "metadata": {},
   "outputs": [],
   "source": [
    "\n",
    "df_labels = df['target']\n",
    "df.drop(['target'],axis = 1,inplace = True)"
   ]
  },
  {
   "cell_type": "code",
   "execution_count": 36,
   "id": "249ef3a0-7be3-4234-8be6-630db2cd267f",
   "metadata": {},
   "outputs": [],
   "source": [
    "X_train, X_test, y_train, y_test = train_test_split(df, df_labels, test_size=0.2, random_state=42)"
   ]
  },
  {
   "cell_type": "markdown",
   "id": "2cdd918a-57d8-443f-861d-77609bdb67a1",
   "metadata": {},
   "source": [
    "---"
   ]
  },
  {
   "cell_type": "markdown",
   "id": "b1251e3e-c8ed-4e57-a790-1fa8003f8c31",
   "metadata": {},
   "source": [
    "## Dimensionality reduction"
   ]
  },
  {
   "cell_type": "code",
   "execution_count": 37,
   "id": "12b4f425-f8b1-40b4-8c3f-4502a9a01a3c",
   "metadata": {},
   "outputs": [
    {
     "data": {
      "text/plain": [
       "array([0., 1.])"
      ]
     },
     "execution_count": 37,
     "metadata": {},
     "output_type": "execute_result"
    }
   ],
   "source": [
    "np.unique(df_labels)"
   ]
  },
  {
   "cell_type": "code",
   "execution_count": 38,
   "id": "a48d4b60-5675-473e-88a1-77dcff67374d",
   "metadata": {},
   "outputs": [],
   "source": [
    "from sklearn.preprocessing import StandardScaler"
   ]
  },
  {
   "cell_type": "code",
   "execution_count": 39,
   "id": "53c4b754-1ee5-42b6-a8ec-2d9f32b5762a",
   "metadata": {},
   "outputs": [],
   "source": [
    "# Standardizing the features\n"
   ]
  },
  {
   "cell_type": "code",
   "execution_count": 40,
   "id": "1c1c0ac4-d233-443e-982d-e431f523495a",
   "metadata": {},
   "outputs": [],
   "source": [
    "std_scale = StandardScaler().fit(X_train)\n",
    "X_train = std_scale.transform(X_train)\n",
    "X_test = std_scale.transform(X_test)\n"
   ]
  },
  {
   "cell_type": "code",
   "execution_count": 41,
   "id": "a948c1c2-cb55-49b2-bb4c-c2d2fdca527a",
   "metadata": {},
   "outputs": [],
   "source": [
    "#pca = PCA(n_components=2)\n",
    "pca = PCA(n_components=2)\n",
    "pca = pca.fit(X_train)"
   ]
  },
  {
   "cell_type": "code",
   "execution_count": 42,
   "id": "58737fde-c826-4acf-8c94-cb8f4df345bd",
   "metadata": {},
   "outputs": [],
   "source": [
    "df_pca_train = pca.transform(X_train)\n",
    "df_pca_test = pca.transform(X_test)"
   ]
  },
  {
   "cell_type": "code",
   "execution_count": 43,
   "id": "3228f8e5-9afe-4127-9b40-c70fbd78c63d",
   "metadata": {},
   "outputs": [
    {
     "name": "stderr",
     "output_type": "stream",
     "text": [
      "ERROR:asyncio:Future exception was never retrieved\n",
      "future: <Future finished exception=BrokenPipeError(32, 'Broken pipe')>\n",
      "Traceback (most recent call last):\n",
      "  File \"/opt/homebrew/Cellar/python@3.10/3.10.6_1/Frameworks/Python.framework/Versions/3.10/lib/python3.10/asyncio/unix_events.py\", line 675, in write\n",
      "    n = os.write(self._fileno, data)\n",
      "BrokenPipeError: [Errno 32] Broken pipe\n"
     ]
    }
   ],
   "source": [
    "df_pca_train = pd.DataFrame(data = df_pca_train\n",
    "             , columns = ['pc_1', 'pc_2'])\n",
    "\n",
    "df_pca_test = pd.DataFrame(data = df_pca_test\n",
    "             , columns = ['pc_1', 'pc_2'])"
   ]
  },
  {
   "cell_type": "code",
   "execution_count": 44,
   "id": "bb5a4c4a-13aa-4bcc-b388-f8641146ddca",
   "metadata": {},
   "outputs": [
    {
     "data": {
      "text/html": [
       "<div>\n",
       "<style scoped>\n",
       "    .dataframe tbody tr th:only-of-type {\n",
       "        vertical-align: middle;\n",
       "    }\n",
       "\n",
       "    .dataframe tbody tr th {\n",
       "        vertical-align: top;\n",
       "    }\n",
       "\n",
       "    .dataframe thead th {\n",
       "        text-align: right;\n",
       "    }\n",
       "</style>\n",
       "<table border=\"1\" class=\"dataframe\">\n",
       "  <thead>\n",
       "    <tr style=\"text-align: right;\">\n",
       "      <th></th>\n",
       "      <th>pc_1</th>\n",
       "      <th>pc_2</th>\n",
       "    </tr>\n",
       "  </thead>\n",
       "  <tbody>\n",
       "    <tr>\n",
       "      <th>0</th>\n",
       "      <td>-1.939998</td>\n",
       "      <td>-1.229852</td>\n",
       "    </tr>\n",
       "    <tr>\n",
       "      <th>1</th>\n",
       "      <td>2.959007</td>\n",
       "      <td>0.852913</td>\n",
       "    </tr>\n",
       "    <tr>\n",
       "      <th>2</th>\n",
       "      <td>-1.929760</td>\n",
       "      <td>-1.846541</td>\n",
       "    </tr>\n",
       "    <tr>\n",
       "      <th>3</th>\n",
       "      <td>0.375061</td>\n",
       "      <td>-0.011576</td>\n",
       "    </tr>\n",
       "    <tr>\n",
       "      <th>4</th>\n",
       "      <td>0.041004</td>\n",
       "      <td>3.544161</td>\n",
       "    </tr>\n",
       "  </tbody>\n",
       "</table>\n",
       "</div>"
      ],
      "text/plain": [
       "       pc_1      pc_2\n",
       "0 -1.939998 -1.229852\n",
       "1  2.959007  0.852913\n",
       "2 -1.929760 -1.846541\n",
       "3  0.375061 -0.011576\n",
       "4  0.041004  3.544161"
      ]
     },
     "execution_count": 44,
     "metadata": {},
     "output_type": "execute_result"
    }
   ],
   "source": [
    "df_pca_train.head()"
   ]
  },
  {
   "cell_type": "code",
   "execution_count": 45,
   "id": "3141a967-8c2f-472e-a934-5ad8ac0d9237",
   "metadata": {},
   "outputs": [
    {
     "data": {
      "text/plain": [
       "[<matplotlib.lines.Line2D at 0x33b6bba60>]"
      ]
     },
     "execution_count": 45,
     "metadata": {},
     "output_type": "execute_result"
    },
    {
     "data": {
      "image/png": "[encoded data removed]",
      "text/plain": [
       "<Figure size 1000x800 with 1 Axes>"
      ]
     },
     "metadata": {},
     "output_type": "display_data"
    }
   ],
   "source": [
    "plt.figure(figsize=(10,8))\n",
    "plt.plot(df_pca_train.iloc[:,0], df_pca_train.iloc[:,1], 'b+')\n",
    "plt.plot(df_pca_test.iloc[:,0], df_pca_test.iloc[:,1], 'g+')\n",
    "#plt.plot(df.index, feature_2, 'g+')"
   ]
  },
  {
   "cell_type": "code",
   "execution_count": 46,
   "id": "a1de5099-55d4-4d2d-9ea4-eaf60c27b16c",
   "metadata": {},
   "outputs": [],
   "source": [
    "#n_dim = len(df_pca_train.columns)\n",
    "n_dim = len(df_pca_train.columns)"
   ]
  },
  {
   "cell_type": "code",
   "execution_count": 47,
   "id": "2f237e33-3625-4833-a237-353ae9e834e8",
   "metadata": {},
   "outputs": [
    {
     "data": {
      "text/plain": [
       "2"
      ]
     },
     "execution_count": 47,
     "metadata": {},
     "output_type": "execute_result"
    }
   ],
   "source": [
    "n_dim"
   ]
  },
  {
   "cell_type": "markdown",
   "id": "bd626d5c-ff6a-443a-9700-10a93c24dc74",
   "metadata": {},
   "source": [
    "## Split train test "
   ]
  },
  {
   "cell_type": "code",
   "execution_count": 48,
   "id": "afaf0912-bdbf-4460-ae4c-43016d1f5a57",
   "metadata": {},
   "outputs": [],
   "source": [
    "# Split dataset into train and test\n",
    "\n",
    "#sample_train, sample_test, label_train, label_test = train_test_split(\n",
    "#     df_pca_train, y_train, test_size=0.2, random_state=22)\n",
    "\n",
    "sample_train = df_pca_train.to_numpy()\n",
    "sample_test = df_pca_test.to_numpy()\n",
    "# Normalize\n",
    "\n",
    "#std_scale = StandardScaler().fit(sample_train)\n",
    "#sample_train = std_scale.transform(sample_train)\n",
    "#sample_test = std_scale.transform(sample_test)\n",
    "\n",
    "# Scale for better fit within the feature map\n",
    "\n",
    "samples = np.append(sample_train, sample_test, axis=0)\n",
    "minmax_scale = MinMaxScaler((-1, 1)).fit(samples)\n",
    "sample_train = minmax_scale.transform(sample_train)\n",
    "sample_test = minmax_scale.transform(sample_test)\n",
    "\n",
    "# Select a sample for a better control of the research and wall time\n",
    "\n",
    "#train_size = 800#160\n",
    "#sample_train = sample_train[:train_size]\n",
    "#label_train = label_train[:train_size]\n",
    "\n",
    "#test_size = 200 #40\n",
    "#sample_test = sample_test[:test_size]\n",
    "#label_test = label_test[:test_size]"
   ]
  },
  {
   "cell_type": "code",
   "execution_count": 49,
   "id": "d815edbe-c5e7-42d6-9489-39ebb940cda4",
   "metadata": {},
   "outputs": [],
   "source": [
    "# Basic parameters for hybrid model\n",
    "\n",
    "seed = 8500\n",
    "feature_dim = n_dim\n",
    "num_reps = 2\n",
    "num_shots =256 \n"
   ]
  },
  {
   "cell_type": "markdown",
   "id": "a17bc9af-4a1c-453d-be99-d54b9e045628",
   "metadata": {},
   "source": [
    "## Hybrid"
   ]
  },
  {
   "cell_type": "code",
   "execution_count": 50,
   "id": "c77893f1-6b02-46bf-a22e-8dd0824c060e",
   "metadata": {},
   "outputs": [],
   "source": [
    "from sklearn.model_selection import cross_validate\n",
    "from tqdm import tqdm\n",
    "def evaluate_ml_model(_models, X, y, n_fold=10, metric='precision'):\n",
    "    ''' Function to evaluate a ML and QML model with a list of metrics\n",
    "    \n",
    "    \n",
    "    '''\n",
    "    results = pd.DataFrame()\n",
    "    kfold = KFold(n_splits=n_fold)\n",
    "    columns = []\n",
    "    for name, model in tqdm(_models):\n",
    "        # -------------------\n",
    "        # Variables initialization \n",
    "        _df = pd.DataFrame()\n",
    "        names = []\n",
    "        means = []\n",
    "        stds = []\n",
    "        \n",
    "        # -------------------\n",
    "        # k-fold Cross validation\n",
    "        cv_results = cross_validate(model, X, y, cv=kfold, scoring=metric)\n",
    "        \n",
    "        # -------------------\n",
    "        # Compute the mean and standard deviation \n",
    "        for _name, _array in cv_results.items():\n",
    "            names.append(_name)\n",
    "            means.append(round(100*_array.mean(), 2))\n",
    "            stds.append(round(100*_array.std(), 2))\n",
    "        # -------------------\n",
    "        # Save the results in a dataframe \n",
    "        _df =  pd.DataFrame([means, stds], columns=names)\n",
    "        columns.extend([name+' mean (%)', name+' std (%)'])\n",
    "        #results = results.join(_df, on=_df.index)\n",
    "        results = results.append(_df)\n",
    "    results.index = columns\n",
    "    print(results)\n",
    "    return results"
   ]
  },
  {
   "cell_type": "code",
   "execution_count": 51,
   "id": "c2ce7078-9255-4913-b6aa-7f05a0e077c3",
   "metadata": {},
   "outputs": [],
   "source": [
    "# Define feature_map\n",
    "\n",
    "feature_map = ZZFeatureMap(feature_dimension=feature_dim, reps=num_reps)\n",
    "\n",
    "# Define the backend\n",
    "backend = QuantumInstance(\n",
    "    BasicAer.get_backend(\"qasm_simulator\"), shots=num_shots, seed_simulator=seed, seed_transpiler=seed\n",
    ")\n",
    "\n",
    "# Define the kernel\n",
    "\n",
    "kernel = QuantumKernel(feature_map=feature_map, quantum_instance=backend)\n",
    "\n",
    "# Model run\n",
    "svc = SVC(kernel=kernel.evaluate)\n",
    "#svc.fit(sample_train, label_train)\n",
    "#score = svc.score(sample_test, label_test)\n",
    "\n",
    "#print(f\"Callable kernel classification test score: {score}\")"
   ]
  },
  {
   "cell_type": "code",
   "execution_count": 86,
   "id": "69039ffb-1ad7-445a-ae47-1593bb0827b9",
   "metadata": {},
   "outputs": [],
   "source": [
    "models = []\n",
    "#models.append(('LR', LogisticRegression(max_iter=1000, random_state=42)))\n",
    "#models.append(('KNN', KNeighborsClassifier(n_neighbors=7)))\n",
    "#models.append(('CART', DecisionTreeClassifier(random_state=42)))\n",
    "#models.append(('NB', GaussianNB()))\n",
    "#models.append(('SVM', SVC(random_state=42)))\n",
    "models.append(('QSVC', svc))\n",
    "\n",
    "_metrics = ['precision', 'recall', 'f1', 'accuracy',  'matthews_corrcoef','balanced_accuracy']\n"
   ]
  },
  {
   "cell_type": "code",
   "execution_count": 87,
   "id": "16c85f33-0dbc-4b6f-b19c-fb7b2b559c86",
   "metadata": {},
   "outputs": [],
   "source": [
    "df_results = pd.DataFrame()"
   ]
  },
  {
   "cell_type": "code",
   "execution_count": null,
   "id": "6e8e6e58-2bda-40bb-b32b-bc014e003aba",
   "metadata": {
    "tags": []
   },
   "outputs": [
    {
     "name": "stderr",
     "output_type": "stream",
     "text": [
      "  0%|                                                     | 0/1 [00:00<?, ?it/s]"
     ]
    }
   ],
   "source": [
    "df_results = evaluate_ml_model(models, X_train, y_train, n_fold=10, metric=_metrics)"
   ]
  },
  {
   "cell_type": "code",
   "execution_count": null,
   "id": "2d1bbc07-5154-4299-9273-55de02bde351",
   "metadata": {},
   "outputs": [],
   "source": [
    "df_results"
   ]
  },
  {
   "cell_type": "code",
   "execution_count": null,
   "id": "646fa995-eacd-43a6-8d9a-2dd18621d850",
   "metadata": {},
   "outputs": [],
   "source": [
    "j = 0\n",
    "for i in range(int(len(df_results.index)/2)):\n",
    "\n",
    "    print(f'{df_results.iloc[j].name.split()[0]} & {df_results.iloc[j][2]} ({df_results.iloc[j+1][2]}) & {df_results.iloc[j][3]} ({df_results.iloc[j+1][3]}) &  {df_results.iloc[j][4]} ({df_results.iloc[j+1][4]}) & {df_results.iloc[j][6]} ({df_results.iloc[j+1][6]}) & {df_results.iloc[j][7]} ({df_results.iloc[j+1][7]}) \\\\')\n",
    "    \n",
    "    j+=2"
   ]
  },
  {
   "cell_type": "markdown",
   "id": "3b70b837-4e39-4b65-83ca-8e82fc83efa1",
   "metadata": {},
   "source": [
    "## Pennylane"
   ]
  },
  {
   "cell_type": "code",
   "execution_count": 69,
   "id": "ff1d5656-f2f2-4d96-b210-a75a161cdb39",
   "metadata": {},
   "outputs": [],
   "source": [
    "from pennylane import numpy as np"
   ]
  },
  {
   "cell_type": "code",
   "execution_count": 70,
   "id": "07ec49f5-c401-4c36-aae3-57aad3eaa0ba",
   "metadata": {},
   "outputs": [],
   "source": [
    "# Angle Encoding\n",
    "\n",
    "num_qubits = n_dim\n",
    "\n",
    "dev = qml.device('default.qubit', wires = num_qubits)\n",
    "\n",
    "@qml.qnode(dev)\n",
    "def circuit(parameters, data):\n",
    "    for i in range(num_qubits):\n",
    "        qml.Hadamard(wires = i)\n",
    "    \n",
    "    AngleEmbedding(features = data, wires = range(num_qubits), rotation = 'Y')\n",
    "    \n",
    "    qml.StronglyEntanglingLayers(weights = parameters, wires = range(num_qubits))\n",
    "    \n",
    "    return qml.expval(qml.PauliZ(0))"
   ]
  },
  {
   "cell_type": "code",
   "execution_count": 71,
   "id": "ffcf8fdb-37a0-4b64-b73c-76be553995e8",
   "metadata": {},
   "outputs": [],
   "source": [
    "num_layers = 5\n",
    "weights_init = 0.01 * np.random.randn(num_layers, num_qubits, 3, requires_grad=True)\n",
    "bias_init = np.array(0.0, requires_grad=True)\n",
    "\n",
    "#print(weights_init, bias_init)"
   ]
  },
  {
   "cell_type": "code",
   "execution_count": 72,
   "id": "49568595-37ec-4749-a230-dc4c6dae2500",
   "metadata": {},
   "outputs": [
    {
     "data": {
      "text/plain": [
       "tensor(0.19311142, requires_grad=True)"
      ]
     },
     "execution_count": 72,
     "metadata": {},
     "output_type": "execute_result"
    }
   ],
   "source": [
    "circuit(weights_init, sample_train[0])"
   ]
  },
  {
   "cell_type": "code",
   "execution_count": 73,
   "id": "4febb380-0955-4f05-a872-326cc4e3a27c",
   "metadata": {},
   "outputs": [],
   "source": [
    "def variational_classifier(weights, bias, x):\n",
    "    return circuit(weights, x) + bias"
   ]
  },
  {
   "cell_type": "code",
   "execution_count": 74,
   "id": "c16a1f84-63e5-4fbb-a647-cba6db4c6c4c",
   "metadata": {},
   "outputs": [],
   "source": [
    "def square_loss(labels, predictions):\n",
    "    loss = 0\n",
    "    for l, p in zip(labels, predictions):\n",
    "        loss = loss + (l - p) ** 2\n",
    "\n",
    "    loss = loss / len(labels)\n",
    "    return loss"
   ]
  },
  {
   "cell_type": "code",
   "execution_count": 75,
   "id": "07412a53-c93b-4c73-bd0b-e7e144454435",
   "metadata": {},
   "outputs": [],
   "source": [
    "def accuracy(labels, predictions):\n",
    "\n",
    "    loss = 0\n",
    "    for l, p in zip(labels, predictions):\n",
    "        if abs(l - p) < 1e-5:\n",
    "            loss = loss + 1\n",
    "    loss = loss / len(labels)\n",
    "\n",
    "    return loss"
   ]
  },
  {
   "cell_type": "code",
   "execution_count": 76,
   "id": "1bf0b58e-38f3-4c45-a4d2-3d69af787ba3",
   "metadata": {},
   "outputs": [],
   "source": [
    "def cost(weights, bias, X, Y):\n",
    "    predictions = [variational_classifier(weights, bias, x) for x in X]\n",
    "    return square_loss(Y, predictions)"
   ]
  },
  {
   "cell_type": "code",
   "execution_count": 77,
   "id": "21ff4aa6-c15b-4a59-a718-67d8da2402dd",
   "metadata": {},
   "outputs": [
    {
     "name": "stdout",
     "output_type": "stream",
     "text": [
      "X = [tensor(-0.55282542, requires_grad=True), tensor(-0.34920584, requires_grad=True)], Y = -1\n",
      "X = [tensor(0.4880937, requires_grad=True), tensor(0.12841323, requires_grad=True)], Y = -1\n",
      "X = [tensor(-0.55065024, requires_grad=True), tensor(-0.49062472, requires_grad=True)], Y = -1\n",
      "X = [tensor(-0.06093178, requires_grad=True), tensor(-0.06983122, requires_grad=True)], Y = -1\n",
      "X = [tensor(-0.13191084, requires_grad=True), tensor(0.74556922, requires_grad=True)], Y = -1\n"
     ]
    }
   ],
   "source": [
    "Y = np.array(label_train * 2 - np.ones(len(label_train)),requires_grad=True)  # shift label from {0, 1} to {-1, 1}\n",
    "X = np.array(sample_train, requires_grad=True)\n",
    "\n",
    "for i in range(5):\n",
    "    print(\"X = {}, Y = {: d}\".format(list(X[i]), int(Y[i])))"
   ]
  },
  {
   "cell_type": "code",
   "execution_count": 78,
   "id": "074f578a-1984-4814-9070-7b20063c8bd1",
   "metadata": {},
   "outputs": [],
   "source": [
    "opt = AdamOptimizer(stepsize=0.1, beta1=0.9, beta2=0.99, eps=1e-08)\n",
    "batch_size = 10"
   ]
  },
  {
   "cell_type": "code",
   "execution_count": 79,
   "id": "e8b4bf5c-322d-43e2-ac30-3bf83e3e7f89",
   "metadata": {},
   "outputs": [],
   "source": [
    "import warnings\n",
    "warnings.filterwarnings('ignore')"
   ]
  },
  {
   "cell_type": "code",
   "execution_count": 80,
   "id": "2d31d6a7-74f4-4e63-b1cb-b92bfb610a5a",
   "metadata": {},
   "outputs": [
    {
     "name": "stdout",
     "output_type": "stream",
     "text": [
      "New Best:\n",
      "Iter:     1 | Cost: 0.7801584 | f1: 0.0368664 \n",
      "Iter:     2 | Cost: 0.8629578 | f1: 0.0000000 \n",
      "Iter:     3 | Cost: 0.8672886 | f1: 0.0000000 \n",
      "Iter:     4 | Cost: 0.7943621 | f1: 0.0000000 \n",
      "Iter:     5 | Cost: 0.7755160 | f1: 0.0192308 \n",
      "New Best:\n",
      "Iter:     6 | Cost: 0.8276479 | f1: 0.0759494 \n",
      "New Best:\n",
      "Iter:     7 | Cost: 0.8409076 | f1: 0.1120000 \n",
      "Iter:     8 | Cost: 0.8067122 | f1: 0.0452489 \n",
      "Iter:     9 | Cost: 0.7821277 | f1: 0.0285714 \n",
      "Iter:    10 | Cost: 0.7769773 | f1: 0.0194175 \n",
      "Iter:    11 | Cost: 0.7994113 | f1: 0.0098039 \n",
      "Iter:    12 | Cost: 0.8051553 | f1: 0.0000000 \n",
      "Iter:    13 | Cost: 0.7860530 | f1: 0.0097087 \n",
      "Iter:    14 | Cost: 0.8413890 | f1: 0.0836820 \n",
      "Iter:    15 | Cost: 0.8540959 | f1: 0.0979592 \n",
      "Iter:    16 | Cost: 0.8022269 | f1: 0.0000000 \n",
      "Iter:    17 | Cost: 0.8030726 | f1: 0.0000000 \n",
      "Iter:    18 | Cost: 0.8082857 | f1: 0.0000000 \n",
      "Iter:    19 | Cost: 0.7871901 | f1: 0.0000000 \n",
      "Iter:    20 | Cost: 0.7863649 | f1: 0.0098039 \n",
      "Iter:    21 | Cost: 0.8511075 | f1: 0.0995851 \n",
      "New Best:\n",
      "Iter:    22 | Cost: 0.9576735 | f1: 0.2429501 \n",
      "New Best:\n",
      "Iter:    23 | Cost: 0.9611434 | f1: 0.2561983 \n",
      "Iter:    24 | Cost: 0.8919948 | f1: 0.1214286 \n",
      "Iter:    25 | Cost: 0.8358161 | f1: 0.0814480 \n",
      "Iter:    26 | Cost: 0.7831072 | f1: 0.0098039 \n",
      "Iter:    27 | Cost: 0.7837630 | f1: 0.0000000 \n",
      "Iter:    28 | Cost: 0.8186942 | f1: 0.0000000 \n",
      "Iter:    29 | Cost: 0.8135980 | f1: 0.0000000 \n",
      "Iter:    30 | Cost: 0.8079743 | f1: 0.0000000 \n",
      "Iter:    31 | Cost: 0.7867575 | f1: 0.0000000 \n",
      "Iter:    32 | Cost: 0.7796257 | f1: 0.0000000 \n",
      "Iter:    33 | Cost: 0.7766487 | f1: 0.0000000 \n",
      "Iter:    34 | Cost: 0.7775770 | f1: 0.0000000 \n",
      "Iter:    35 | Cost: 0.7811238 | f1: 0.0000000 \n",
      "Iter:    36 | Cost: 0.7735470 | f1: 0.0000000 \n",
      "Iter:    37 | Cost: 0.7688186 | f1: 0.0098039 \n",
      "Iter:    38 | Cost: 0.7827304 | f1: 0.0098039 \n",
      "Iter:    39 | Cost: 0.8269086 | f1: 0.0471698 \n",
      "Iter:    40 | Cost: 0.8658063 | f1: 0.0865801 \n",
      "Iter:    41 | Cost: 0.8257094 | f1: 0.0473934 \n",
      "Iter:    42 | Cost: 0.7686319 | f1: 0.0098039 \n",
      "Iter:    43 | Cost: 0.7941490 | f1: 0.0000000 \n",
      "Iter:    44 | Cost: 0.8999165 | f1: 0.0000000 \n",
      "Iter:    45 | Cost: 0.9517784 | f1: 0.0000000 \n",
      "Iter:    46 | Cost: 0.9470770 | f1: 0.0000000 \n",
      "Iter:    47 | Cost: 0.9429539 | f1: 0.0000000 \n",
      "Iter:    48 | Cost: 0.9139654 | f1: 0.0000000 \n",
      "Iter:    49 | Cost: 0.8583860 | f1: 0.0000000 \n",
      "Iter:    50 | Cost: 0.8089437 | f1: 0.0000000 \n",
      "Iter:    51 | Cost: 0.7848486 | f1: 0.0000000 \n",
      "Iter:    52 | Cost: 0.7701430 | f1: 0.0000000 \n",
      "Iter:    53 | Cost: 0.7610513 | f1: 0.0000000 \n",
      "Iter:    54 | Cost: 0.7617114 | f1: 0.0097561 \n",
      "Iter:    55 | Cost: 0.7650590 | f1: 0.0194175 \n",
      "Iter:    56 | Cost: 0.7696699 | f1: 0.0289855 \n",
      "Iter:    57 | Cost: 0.7678580 | f1: 0.0289855 \n",
      "Iter:    58 | Cost: 0.7657404 | f1: 0.0194175 \n",
      "Iter:    59 | Cost: 0.7614939 | f1: 0.0194175 \n",
      "Iter:    60 | Cost: 0.7613241 | f1: 0.0000000 \n",
      "Iter:    61 | Cost: 0.7687182 | f1: 0.0000000 \n",
      "Iter:    62 | Cost: 0.7750378 | f1: 0.0000000 \n",
      "Iter:    63 | Cost: 0.7864664 | f1: 0.0000000 \n",
      "Iter:    64 | Cost: 0.7917481 | f1: 0.0000000 \n",
      "Iter:    65 | Cost: 0.7935896 | f1: 0.0000000 \n",
      "Iter:    66 | Cost: 0.7936639 | f1: 0.0097561 \n",
      "Iter:    67 | Cost: 0.7948133 | f1: 0.0194175 \n",
      "Iter:    68 | Cost: 0.7964332 | f1: 0.0097561 \n",
      "Iter:    69 | Cost: 0.7806817 | f1: 0.0194175 \n",
      "Iter:    70 | Cost: 0.7730408 | f1: 0.0288462 \n",
      "Iter:    71 | Cost: 0.7710900 | f1: 0.0380952 \n",
      "Iter:    72 | Cost: 0.7705967 | f1: 0.0375587 \n",
      "Iter:    73 | Cost: 0.7696533 | f1: 0.0377358 \n",
      "Iter:    74 | Cost: 0.7691121 | f1: 0.0288462 \n",
      "Iter:    75 | Cost: 0.7694188 | f1: 0.0289855 \n",
      "Iter:    76 | Cost: 0.7771309 | f1: 0.0194175 \n",
      "Iter:    77 | Cost: 0.7806247 | f1: 0.0097561 \n",
      "Iter:    78 | Cost: 0.7802279 | f1: 0.0098039 \n",
      "Iter:    79 | Cost: 0.7798892 | f1: 0.0098039 \n",
      "Iter:    80 | Cost: 0.7688380 | f1: 0.0097561 \n",
      "Iter:    81 | Cost: 0.7631871 | f1: 0.0194175 \n",
      "Iter:    82 | Cost: 0.7649845 | f1: 0.0289855 \n",
      "Iter:    83 | Cost: 0.7705912 | f1: 0.0288462 \n",
      "Iter:    84 | Cost: 0.7795844 | f1: 0.0379147 \n",
      "Iter:    85 | Cost: 0.7949817 | f1: 0.0373832 \n",
      "Iter:    86 | Cost: 0.8102303 | f1: 0.0547945 \n",
      "Iter:    87 | Cost: 0.8132066 | f1: 0.0545455 \n",
      "Iter:    88 | Cost: 0.7946449 | f1: 0.0373832 \n",
      "Iter:    89 | Cost: 0.7731806 | f1: 0.0288462 \n",
      "Iter:    90 | Cost: 0.7630393 | f1: 0.0194175 \n",
      "Iter:    91 | Cost: 0.7619156 | f1: 0.0097561 \n",
      "Iter:    92 | Cost: 0.7711822 | f1: 0.0000000 \n",
      "Iter:    93 | Cost: 0.7799404 | f1: 0.0000000 \n",
      "Iter:    94 | Cost: 0.8128553 | f1: 0.0000000 \n",
      "Iter:    95 | Cost: 0.8151680 | f1: 0.0000000 \n",
      "Iter:    96 | Cost: 0.7767468 | f1: 0.0000000 \n",
      "Iter:    97 | Cost: 0.7609248 | f1: 0.0289855 \n",
      "Iter:    98 | Cost: 0.7769222 | f1: 0.0366972 \n",
      "Iter:    99 | Cost: 0.8453417 | f1: 0.1548822 \n",
      "Iter:   100 | Cost: 0.8772623 | f1: 0.2280702 \n",
      "Iter:   101 | Cost: 0.8651827 | f1: 0.1925466 \n",
      "Iter:   102 | Cost: 0.7894546 | f1: 0.0517241 \n",
      "Iter:   103 | Cost: 0.7718303 | f1: 0.0375587 \n",
      "Iter:   104 | Cost: 0.7938187 | f1: 0.0097561 \n",
      "Iter:   105 | Cost: 0.8065148 | f1: 0.0097561 \n",
      "Iter:   106 | Cost: 0.7894336 | f1: 0.0097561 \n",
      "Iter:   107 | Cost: 0.7735926 | f1: 0.0384615 \n",
      "Iter:   108 | Cost: 0.7675504 | f1: 0.0375587 \n",
      "Iter:   109 | Cost: 0.7777873 | f1: 0.0454545 \n",
      "Iter:   110 | Cost: 0.8084756 | f1: 0.0500000 \n",
      "Iter:   111 | Cost: 0.8132162 | f1: 0.0655738 \n",
      "Iter:   112 | Cost: 0.8019695 | f1: 0.0519481 \n",
      "Iter:   113 | Cost: 0.7985138 | f1: 0.0528634 \n",
      "Iter:   114 | Cost: 0.7819787 | f1: 0.0365297 \n",
      "Iter:   115 | Cost: 0.7667734 | f1: 0.0377358 \n",
      "Iter:   116 | Cost: 0.7606968 | f1: 0.0289855 \n",
      "Iter:   117 | Cost: 0.7608112 | f1: 0.0289855 \n",
      "Iter:   118 | Cost: 0.7605254 | f1: 0.0289855 \n",
      "Iter:   119 | Cost: 0.7605154 | f1: 0.0289855 \n",
      "Iter:   120 | Cost: 0.7616210 | f1: 0.0384615 \n",
      "Iter:   121 | Cost: 0.7627938 | f1: 0.0379147 \n",
      "Iter:   122 | Cost: 0.7634977 | f1: 0.0377358 \n",
      "Iter:   123 | Cost: 0.7649250 | f1: 0.0384615 \n",
      "Iter:   124 | Cost: 0.7690745 | f1: 0.0194175 \n",
      "Iter:   125 | Cost: 0.7828718 | f1: 0.0097561 \n",
      "Iter:   126 | Cost: 0.7904786 | f1: 0.0097561 \n",
      "Iter:   127 | Cost: 0.7887949 | f1: 0.0097561 \n",
      "Iter:   128 | Cost: 0.7907265 | f1: 0.0097561 \n",
      "Iter:   129 | Cost: 0.7872591 | f1: 0.0097561 \n",
      "Iter:   130 | Cost: 0.7801863 | f1: 0.0097561 \n",
      "Iter:   131 | Cost: 0.7760058 | f1: 0.0191388 \n",
      "Iter:   132 | Cost: 0.7853964 | f1: 0.0545455 \n",
      "Iter:   133 | Cost: 0.7909322 | f1: 0.0540541 \n",
      "Iter:   134 | Cost: 0.7869512 | f1: 0.0545455 \n",
      "Iter:   135 | Cost: 0.7994559 | f1: 0.0616740 \n",
      "Iter:   136 | Cost: 0.7993499 | f1: 0.0625000 \n",
      "Iter:   137 | Cost: 0.7854373 | f1: 0.0458716 \n",
      "Iter:   138 | Cost: 0.7739390 | f1: 0.0285714 \n",
      "Iter:   139 | Cost: 0.7733931 | f1: 0.0097561 \n",
      "Iter:   140 | Cost: 0.7810191 | f1: 0.0097561 \n",
      "Iter:   141 | Cost: 0.7795983 | f1: 0.0097561 \n",
      "Iter:   142 | Cost: 0.7783499 | f1: 0.0097561 \n",
      "Iter:   143 | Cost: 0.7764397 | f1: 0.0097561 \n",
      "Iter:   144 | Cost: 0.7703210 | f1: 0.0194175 \n",
      "Iter:   145 | Cost: 0.7622791 | f1: 0.0194175 \n",
      "Iter:   146 | Cost: 0.7602386 | f1: 0.0289855 \n",
      "Iter:   147 | Cost: 0.7601282 | f1: 0.0289855 \n",
      "Iter:   148 | Cost: 0.7596292 | f1: 0.0194175 \n",
      "Iter:   149 | Cost: 0.7607626 | f1: 0.0097561 \n",
      "Iter:   150 | Cost: 0.7621010 | f1: 0.0098039 \n",
      "Iter:   151 | Cost: 0.7620866 | f1: 0.0000000 \n",
      "Iter:   152 | Cost: 0.7637645 | f1: 0.0000000 \n",
      "Iter:   153 | Cost: 0.7657018 | f1: 0.0000000 \n",
      "Iter:   154 | Cost: 0.7619909 | f1: 0.0000000 \n",
      "Iter:   155 | Cost: 0.7643181 | f1: 0.0000000 \n",
      "Iter:   156 | Cost: 0.7616115 | f1: 0.0000000 \n",
      "Iter:   157 | Cost: 0.7645362 | f1: 0.0289855 \n",
      "Iter:   158 | Cost: 0.7798162 | f1: 0.0571429 \n",
      "Iter:   159 | Cost: 0.8303286 | f1: 0.0622222 \n",
      "Iter:   160 | Cost: 0.8746766 | f1: 0.1660377 \n",
      "Iter:   161 | Cost: 0.8747122 | f1: 0.1726619 \n",
      "Iter:   162 | Cost: 0.9244826 | f1: 0.2479339 \n",
      "Iter:   163 | Cost: 0.9217125 | f1: 0.2451253 \n",
      "Iter:   164 | Cost: 0.8137642 | f1: 0.0627803 \n",
      "Iter:   165 | Cost: 0.7730794 | f1: 0.0098039 \n",
      "Iter:   166 | Cost: 0.8426678 | f1: 0.0000000 \n",
      "Iter:   167 | Cost: 0.9285079 | f1: 0.0000000 \n",
      "Iter:   168 | Cost: 0.9637282 | f1: 0.0000000 \n",
      "Iter:   169 | Cost: 0.9666037 | f1: 0.0000000 \n",
      "Iter:   170 | Cost: 0.8779580 | f1: 0.0000000 \n",
      "Iter:   171 | Cost: 0.8079114 | f1: 0.0000000 \n",
      "Iter:   172 | Cost: 0.7924609 | f1: 0.0000000 \n",
      "Iter:   173 | Cost: 0.8023896 | f1: 0.0000000 \n",
      "Iter:   174 | Cost: 0.8367274 | f1: 0.0000000 \n",
      "Iter:   175 | Cost: 0.8537904 | f1: 0.0000000 \n",
      "Iter:   176 | Cost: 0.8352378 | f1: 0.0000000 \n",
      "Iter:   177 | Cost: 0.7727993 | f1: 0.0098039 \n",
      "Iter:   178 | Cost: 0.7932048 | f1: 0.0190476 \n",
      "New Best:\n",
      "Iter:   179 | Cost: 0.9377475 | f1: 0.2973523 \n",
      "New Best:\n",
      "Iter:   180 | Cost: 0.9707108 | f1: 0.3167587 \n",
      "Iter:   181 | Cost: 0.8815685 | f1: 0.2765957 \n",
      "Iter:   182 | Cost: 0.8034021 | f1: 0.0800000 \n",
      "Iter:   183 | Cost: 0.7828953 | f1: 0.0097561 \n",
      "Iter:   184 | Cost: 0.8076766 | f1: 0.0000000 \n",
      "Iter:   185 | Cost: 0.8752967 | f1: 0.0000000 \n",
      "Iter:   186 | Cost: 0.9534478 | f1: 0.0000000 \n",
      "Iter:   187 | Cost: 0.9563973 | f1: 0.0000000 \n",
      "Iter:   188 | Cost: 0.9159998 | f1: 0.0000000 \n",
      "Iter:   189 | Cost: 0.8081047 | f1: 0.0000000 \n",
      "Iter:   190 | Cost: 0.7929888 | f1: 0.0528634 \n",
      "Iter:   191 | Cost: 0.9389140 | f1: 0.2988506 \n",
      "New Best:\n",
      "Iter:   192 | Cost: 1.2203556 | f1: 0.3995657 \n",
      "Iter:   193 | Cost: 1.3458380 | f1: 0.3975026 \n",
      "New Best:\n",
      "Iter:   194 | Cost: 1.2105124 | f1: 0.4026696 \n",
      "Iter:   195 | Cost: 0.9268170 | f1: 0.2831050 \n",
      "Iter:   196 | Cost: 0.7674784 | f1: 0.0193237 \n",
      "Iter:   197 | Cost: 0.8166834 | f1: 0.0000000 \n",
      "Iter:   198 | Cost: 0.9022907 | f1: 0.0000000 \n",
      "Iter:   199 | Cost: 0.9331165 | f1: 0.0000000 \n",
      "Iter:   200 | Cost: 0.8874326 | f1: 0.0000000 \n",
      "Iter:   201 | Cost: 0.8378296 | f1: 0.0000000 \n",
      "Iter:   202 | Cost: 0.7962206 | f1: 0.0097561 \n",
      "Iter:   203 | Cost: 0.7757381 | f1: 0.0097561 \n",
      "Iter:   204 | Cost: 0.7662763 | f1: 0.0097561 \n",
      "Iter:   205 | Cost: 0.7660612 | f1: 0.0000000 \n",
      "Iter:   206 | Cost: 0.7652004 | f1: 0.0000000 \n",
      "Iter:   207 | Cost: 0.7590919 | f1: 0.0000000 \n",
      "Iter:   208 | Cost: 0.7622332 | f1: 0.0000000 \n",
      "Iter:   209 | Cost: 0.7840586 | f1: 0.0000000 \n",
      "Iter:   210 | Cost: 0.7895203 | f1: 0.0098039 \n",
      "Iter:   211 | Cost: 0.7696219 | f1: 0.0000000 \n",
      "Iter:   212 | Cost: 0.7558717 | f1: 0.0000000 \n",
      "Iter:   213 | Cost: 0.7568031 | f1: 0.0000000 \n",
      "Iter:   214 | Cost: 0.7642293 | f1: 0.0000000 \n",
      "Iter:   215 | Cost: 0.8369334 | f1: 0.0285714 \n",
      "Iter:   216 | Cost: 0.8641631 | f1: 0.0894309 \n",
      "Iter:   217 | Cost: 0.8688275 | f1: 0.1223022 \n",
      "Iter:   218 | Cost: 0.8654977 | f1: 0.1409396 \n",
      "Iter:   219 | Cost: 0.8130714 | f1: 0.0519481 \n",
      "Iter:   220 | Cost: 0.7701409 | f1: 0.0288462 \n",
      "Iter:   221 | Cost: 0.7667673 | f1: 0.0289855 \n",
      "Iter:   222 | Cost: 0.7714701 | f1: 0.0194175 \n",
      "Iter:   223 | Cost: 0.7744106 | f1: 0.0194175 \n",
      "Iter:   224 | Cost: 0.7791561 | f1: 0.0194175 \n",
      "Iter:   225 | Cost: 0.7727290 | f1: 0.0194175 \n",
      "Iter:   226 | Cost: 0.7702514 | f1: 0.0288462 \n",
      "Iter:   227 | Cost: 0.7698895 | f1: 0.0288462 \n",
      "Iter:   228 | Cost: 0.7693724 | f1: 0.0289855 \n",
      "Iter:   229 | Cost: 0.7739864 | f1: 0.0097561 \n",
      "Iter:   230 | Cost: 0.7744450 | f1: 0.0000000 \n",
      "Iter:   231 | Cost: 0.7768541 | f1: 0.0000000 \n",
      "Iter:   232 | Cost: 0.7774173 | f1: 0.0000000 \n",
      "Iter:   233 | Cost: 0.7677618 | f1: 0.0000000 \n",
      "Iter:   234 | Cost: 0.7586724 | f1: 0.0000000 \n",
      "Iter:   235 | Cost: 0.7578696 | f1: 0.0000000 \n",
      "Iter:   236 | Cost: 0.7679018 | f1: 0.0000000 \n",
      "Iter:   237 | Cost: 0.7708415 | f1: 0.0000000 \n",
      "Iter:   238 | Cost: 0.7678871 | f1: 0.0000000 \n",
      "Iter:   239 | Cost: 0.7613474 | f1: 0.0000000 \n",
      "Iter:   240 | Cost: 0.7615695 | f1: 0.0000000 \n",
      "Iter:   241 | Cost: 0.8067550 | f1: 0.0000000 \n",
      "Iter:   242 | Cost: 0.8888523 | f1: 0.0000000 \n",
      "Iter:   243 | Cost: 0.9847342 | f1: 0.0000000 \n",
      "Iter:   244 | Cost: 0.9513310 | f1: 0.0000000 \n",
      "Iter:   245 | Cost: 0.8879373 | f1: 0.0000000 \n",
      "Iter:   246 | Cost: 0.8198148 | f1: 0.0000000 \n",
      "Iter:   247 | Cost: 0.7878230 | f1: 0.0000000 \n",
      "Iter:   248 | Cost: 0.7685386 | f1: 0.0000000 \n",
      "Iter:   249 | Cost: 0.7673483 | f1: 0.0000000 \n",
      "Iter:   250 | Cost: 0.7672161 | f1: 0.0000000 \n"
     ]
    }
   ],
   "source": [
    "weights = weights_init\n",
    "bias = bias_init\n",
    "\n",
    "wbest = 0\n",
    "bbest = 0\n",
    "abest = 0\n",
    "ccost = 0 \n",
    "for it in range(250):\n",
    "\n",
    "    # weights update by one optimizer step\n",
    "\n",
    "    batch_index = np.random.randint(0, len(X), (batch_size,))\n",
    "    X_batch = X[batch_index]\n",
    "    Y_batch = Y[batch_index]\n",
    "    weights, bias, _, _ = opt.step(cost, weights, bias, X_batch, Y_batch)\n",
    "\n",
    "    # Compute the accuracy\n",
    "    predictions = [np.sign(variational_classifier(weights, bias, x)) for x in X]\n",
    "    \n",
    "    '''if accuracy(Y, predictions) > abest:\n",
    "        wbest = weights\n",
    "        bbest = bias\n",
    "        abest = accuracy(Y, predictions)\n",
    "        print('New best')\n",
    "\n",
    "    acc = accuracy(Y, predictions)\n",
    "\n",
    "    print(\n",
    "        \"Iter: {:5d} | Cost: {:0.7f} | Accuracy: {:0.7f} \".format(\n",
    "            it + 1, cost(weights, bias, X, Y), acc\n",
    "        )\n",
    "    )'''\n",
    "    prec = metrics.f1_score(Y, predictions, average='binary', pos_label=1)\n",
    "    if  prec > abest or ((prec == abest) and (cost(weights, bias, X, Y) < ccost)):\n",
    "        wbest = weights\n",
    "        bbest = bias\n",
    "        abest = prec\n",
    "        ccost = cost(weights, bias, X, Y)\n",
    "        print(\"New Best:\")\n",
    "    print(\n",
    "        \"Iter: {:5d} | Cost: {:0.7f} | f1: {:0.7f} \".format(\n",
    "            it + 1, cost(weights, bias, X, Y), prec\n",
    "        )\n",
    "    )\n",
    "    \n",
    "    "
   ]
  },
  {
   "cell_type": "code",
   "execution_count": 81,
   "id": "ee2dceeb-5b76-4ec7-9ebb-efb9e562cf8a",
   "metadata": {},
   "outputs": [],
   "source": [
    "Yte = np.array(label_test * 2 - np.ones(len(label_test)))\n",
    "Xte = np.array(normalize(sample_test))"
   ]
  },
  {
   "cell_type": "code",
   "execution_count": 82,
   "id": "4416ed73-4c7d-44e3-a539-9dba3191327d",
   "metadata": {},
   "outputs": [
    {
     "name": "stdout",
     "output_type": "stream",
     "text": [
      "Cost: 1.1753575596590478, Accuracy: 47.0%\n"
     ]
    }
   ],
   "source": [
    "predictions = [np.sign(variational_classifier(wbest, bbest, x)) for x in Xte]\n",
    "pred = [np.sign(variational_classifier(wbest, bbest, x)) for x in X]\n",
    "acc = accuracy(Yte, predictions)\n",
    "\n",
    "print(f'Cost: {cost(wbest, bbest, Xte, Yte)}, Accuracy: {np.round(acc, 2) * 100}%')"
   ]
  },
  {
   "cell_type": "code",
   "execution_count": 83,
   "id": "4d2c6851-a0ea-4637-9f25-22a4a0b80c53",
   "metadata": {},
   "outputs": [
    {
     "name": "stdout",
     "output_type": "stream",
     "text": [
      "              precision    recall  f1-score   support\n",
      "\n",
      "        -1.0       0.41      0.81      0.54        78\n",
      "         1.0       0.67      0.25      0.37       122\n",
      "\n",
      "    accuracy                           0.47       200\n",
      "   macro avg       0.54      0.53      0.46       200\n",
      "weighted avg       0.57      0.47      0.44       200\n",
      "\n"
     ]
    }
   ],
   "source": [
    "print(metrics.classification_report(predictions,Yte))"
   ]
  },
  {
   "cell_type": "code",
   "execution_count": 84,
   "id": "a4a2955a-d877-4885-ad84-5f31458a7c94",
   "metadata": {},
   "outputs": [
    {
     "name": "stdout",
     "output_type": "stream",
     "text": [
      "              precision    recall  f1-score   support\n",
      "\n",
      "        -1.0       0.41      0.81      0.54        78\n",
      "         1.0       0.67      0.25      0.37       122\n",
      "\n",
      "    accuracy                           0.47       200\n",
      "   macro avg       0.54      0.53      0.46       200\n",
      "weighted avg       0.57      0.47      0.44       200\n",
      "\n"
     ]
    }
   ],
   "source": [
    "print(metrics.classification_report(predictions,Yte))"
   ]
  },
  {
   "cell_type": "code",
   "execution_count": 85,
   "id": "dcedeada-a82f-4e82-b738-6a862dc801c8",
   "metadata": {},
   "outputs": [
    {
     "name": "stdout",
     "output_type": "stream",
     "text": [
      "\n",
      "\n",
      "    Precision: 67.39%\n",
      "    Recall: 25.41%\n",
      "    f1: 36.9%\n",
      "    Accuracy: 47.0%\n",
      "    Balanced accuracy: 53.09%\n",
      "    Matthew corcorref: 7.16%\n",
      "    \n"
     ]
    }
   ],
   "source": [
    "print(f'''\n",
    "\n",
    "    Precision: {round(100*metrics.precision_score(predictions,Yte),2)}%\n",
    "    Recall: {round(100*metrics.recall_score(predictions,Yte),2)}%\n",
    "    f1: {round(100*metrics.f1_score(predictions,Yte),2)}%\n",
    "    Accuracy: {round(100*metrics.accuracy_score(predictions,Yte),2)}%\n",
    "    Balanced accuracy: {round(100*metrics.balanced_accuracy_score(predictions,Yte),2)}%\n",
    "    Matthew corcorref: {round(100*metrics.matthews_corrcoef(predictions,Yte),2)}%\n",
    "    ''')"
   ]
  },
  {
   "cell_type": "code",
   "execution_count": null,
   "id": "2e5308be-6630-4637-a387-b4f796aeb98d",
   "metadata": {},
   "outputs": [],
   "source": []
  },
  {
   "cell_type": "code",
   "execution_count": null,
   "id": "76734cbe-a1df-4f23-868b-81702446e42a",
   "metadata": {},
   "outputs": [],
   "source": []
  },
  {
   "cell_type": "code",
   "execution_count": null,
   "id": "c910e67a-814b-405d-a7de-9db82e4f1a09",
   "metadata": {},
   "outputs": [],
   "source": []
  }
 ],
 "metadata": {
  "kernelspec": {
   "display_name": "Python 3 (ipykernel)",
   "language": "python",
   "name": "python3"
  },
  "language_info": {
   "codemirror_mode": {
    "name": "ipython",
    "version": 3
   },
   "file_extension": ".py",
   "mimetype": "text/x-python",
   "name": "python",
   "nbconvert_exporter": "python",
   "pygments_lexer": "ipython3",
   "version": "3.10.6"
  }
 },
 "nbformat": 4,
 "nbformat_minor": 5
}
