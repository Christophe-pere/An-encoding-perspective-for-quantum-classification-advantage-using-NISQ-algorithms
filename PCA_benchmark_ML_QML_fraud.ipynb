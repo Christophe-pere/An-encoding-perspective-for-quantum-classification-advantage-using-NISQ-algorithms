{
 "cells": [
  {
   "cell_type": "markdown",
   "id": "d41d3fa6-0ae0-490d-a02b-0dbf81799488",
   "metadata": {},
   "source": [
    "# Quantum benchmark"
   ]
  },
  {
   "cell_type": "markdown",
   "id": "d6011e42-1fab-4f9f-ab99-f4f08607517e",
   "metadata": {},
   "source": [
    "## I - Introduction"
   ]
  },
  {
   "cell_type": "code",
   "execution_count": null,
   "id": "13b4f6b4-240b-4b7f-abe4-4e74b3b8cc8a",
   "metadata": {},
   "outputs": [],
   "source": []
  },
  {
   "cell_type": "markdown",
   "id": "bd5492ce-4f08-4755-b4c2-efd698139101",
   "metadata": {},
   "source": [
    "## II - Packages"
   ]
  },
  {
   "cell_type": "code",
   "execution_count": 2,
   "id": "90371200-0133-46ab-a205-d0f6b8858e55",
   "metadata": {},
   "outputs": [],
   "source": [
    "import pandas as pd\n",
    "import matplotlib.pyplot as plt\n",
    "import numpy as np\n",
    "from sklearn.model_selection import train_test_split\n",
    "from sklearn.preprocessing import StandardScaler\n",
    "from sklearn.decomposition import PCA\n",
    "from sklearn.discriminant_analysis import LinearDiscriminantAnalysis as LDA\n",
    "from sklearn.preprocessing import MinMaxScaler\n",
    "from sklearn.svm import SVC\n",
    "from sklearn import metrics\n",
    "from sklearn.ensemble import RandomForestClassifier\n",
    "from sklearn.linear_model import LogisticRegression\n",
    "from sklearn.tree import DecisionTreeClassifier\n",
    "from sklearn.preprocessing import normalize\n",
    "from sklearn.model_selection import cross_val_score, KFold\n",
    "#Import classical libraries\n",
    "from sklearn.neighbors import KNeighborsClassifier\n",
    "from sklearn.naive_bayes import GaussianNB\n",
    "from sklearn.svm import SVC\n",
    "from sklearn.ensemble import RandomForestClassifier\n",
    "from sklearn.model_selection import train_test_split\n",
    "from sklearn import datasets\n",
    "import matplotlib.pyplot as plt\n",
    "\n",
    "plt.style.use('ggplot')\n",
    "\n",
    "import functools\n",
    "\n",
    "from qiskit import BasicAer\n",
    "from qiskit.circuit.library import ZZFeatureMap\n",
    "from qiskit.utils import QuantumInstance, algorithm_globals\n",
    "from qiskit_machine_learning.algorithms import QSVC\n",
    "from qiskit_machine_learning.kernels import QuantumKernel\n",
    "from qiskit_machine_learning.datasets import ad_hoc_data\n",
    "import logging\n",
    "\n",
    "import pennylane as qml\n",
    "from pennylane.templates.embeddings import AngleEmbedding, AmplitudeEmbedding\n",
    "from pennylane.optimize import AdamOptimizer\n",
    "\n",
    "from qiskit.algorithms.optimizers import COBYLA\n",
    "from qiskit.circuit.library import TwoLocal, ZZFeatureMap\n",
    "import qiskit"
   ]
  },
  {
   "cell_type": "code",
   "execution_count": 3,
   "id": "4ed6c986-b9e7-45ee-8cf8-64eafc6b6d4e",
   "metadata": {},
   "outputs": [],
   "source": [
    "import warnings\n",
    "warnings.filterwarnings('ignore')"
   ]
  },
  {
   "cell_type": "markdown",
   "id": "1598c94c-fdcf-41cd-a4ea-e262932c7e0f",
   "metadata": {},
   "source": [
    "## III - Data "
   ]
  },
  {
   "cell_type": "code",
   "execution_count": 4,
   "id": "e683f3b5-6021-4eb7-bc53-539a5cd79bfc",
   "metadata": {},
   "outputs": [],
   "source": [
    "# Read out CSV\n",
    "\n",
    "df = pd.read_csv('fraud_detection_bank_dataset.csv', sep=',')\n",
    "df = df.sample(1400)\n",
    "df = df.drop(['Unnamed: 0'], axis = 1)\n",
    "df_labels = df['targets']\n",
    "df.drop(['targets'],axis = 1,inplace = True)\n",
    "X_train, X_test, y_train, y_test = train_test_split(df, df_labels, test_size=0.2, random_state=42)\n",
    "\n",
    "cols = ['col_8', 'col_9', 'col_10', 'col_11', 'col_12', 'col_18', 'col_19','col_20', 'col_21', 'col_35', \n",
    "        'col_51', 'col_52', 'col_53', 'col_70','col_71','col_7', 'col_22', 'col_54', 'col_56']\n",
    "\n",
    "X_train = X_train.drop(cols, axis=1)\n",
    "X_test = X_test.drop(cols, axis=1)\n"
   ]
  },
  {
   "cell_type": "code",
   "execution_count": 5,
   "id": "bf69c7f1-b10e-4b54-89ec-89dd5829ac42",
   "metadata": {},
   "outputs": [],
   "source": [
    "%%script false --no-raise-error\n",
    "\n",
    "import sweetviz as sv\n",
    "\n",
    "#EDA using Autoviz\n",
    "sweet_report = sv.analyze(df)\n",
    "\n",
    "#Saving results to HTML file\n",
    "sweet_report.show_html('sweet_report.html')"
   ]
  },
  {
   "cell_type": "markdown",
   "id": "c4ff48fa-d03b-435d-9343-67186c068b34",
   "metadata": {},
   "source": [
    "## IV - Modelisation"
   ]
  },
  {
   "cell_type": "markdown",
   "id": "3dbe1bb7-d7eb-412b-a291-bbeb654766f5",
   "metadata": {},
   "source": [
    "### Classical"
   ]
  },
  {
   "cell_type": "markdown",
   "id": "2cdd918a-57d8-443f-861d-77609bdb67a1",
   "metadata": {},
   "source": [
    "---"
   ]
  },
  {
   "cell_type": "markdown",
   "id": "b1251e3e-c8ed-4e57-a790-1fa8003f8c31",
   "metadata": {},
   "source": [
    "## Dimensionality reduction"
   ]
  },
  {
   "cell_type": "code",
   "execution_count": 6,
   "id": "12b4f425-f8b1-40b4-8c3f-4502a9a01a3c",
   "metadata": {},
   "outputs": [
    {
     "data": {
      "text/plain": [
       "array([0, 1])"
      ]
     },
     "execution_count": 6,
     "metadata": {},
     "output_type": "execute_result"
    }
   ],
   "source": [
    "np.unique(df_labels)"
   ]
  },
  {
   "cell_type": "code",
   "execution_count": 7,
   "id": "a48d4b60-5675-473e-88a1-77dcff67374d",
   "metadata": {},
   "outputs": [],
   "source": [
    "from sklearn.preprocessing import StandardScaler"
   ]
  },
  {
   "cell_type": "code",
   "execution_count": 8,
   "id": "53c4b754-1ee5-42b6-a8ec-2d9f32b5762a",
   "metadata": {},
   "outputs": [],
   "source": [
    "# Standardizing the features\n"
   ]
  },
  {
   "cell_type": "code",
   "execution_count": 9,
   "id": "1c1c0ac4-d233-443e-982d-e431f523495a",
   "metadata": {},
   "outputs": [],
   "source": [
    "std_scale = StandardScaler().fit(X_train)\n",
    "X_train = std_scale.transform(X_train)\n",
    "X_test = std_scale.transform(X_test)\n"
   ]
  },
  {
   "cell_type": "code",
   "execution_count": 10,
   "id": "a948c1c2-cb55-49b2-bb4c-c2d2fdca527a",
   "metadata": {},
   "outputs": [],
   "source": [
    "#pca = PCA(n_components=2)\n",
    "pca = PCA(n_components=2)\n",
    "pca = pca.fit(X_train)"
   ]
  },
  {
   "cell_type": "code",
   "execution_count": 11,
   "id": "58737fde-c826-4acf-8c94-cb8f4df345bd",
   "metadata": {},
   "outputs": [],
   "source": [
    "df_pca_train = pca.transform(X_train)\n",
    "df_pca_test = pca.transform(X_test)"
   ]
  },
  {
   "cell_type": "code",
   "execution_count": 12,
   "id": "3228f8e5-9afe-4127-9b40-c70fbd78c63d",
   "metadata": {},
   "outputs": [],
   "source": [
    "df_pca_train = pd.DataFrame(data = df_pca_train\n",
    "             , columns = ['pc_1', 'pc_2'])\n",
    "\n",
    "df_pca_test = pd.DataFrame(data = df_pca_test\n",
    "             , columns = ['pc_1', 'pc_2'])"
   ]
  },
  {
   "cell_type": "code",
   "execution_count": 13,
   "id": "bb5a4c4a-13aa-4bcc-b388-f8641146ddca",
   "metadata": {},
   "outputs": [
    {
     "data": {
      "text/html": [
       "<div>\n",
       "<style scoped>\n",
       "    .dataframe tbody tr th:only-of-type {\n",
       "        vertical-align: middle;\n",
       "    }\n",
       "\n",
       "    .dataframe tbody tr th {\n",
       "        vertical-align: top;\n",
       "    }\n",
       "\n",
       "    .dataframe thead th {\n",
       "        text-align: right;\n",
       "    }\n",
       "</style>\n",
       "<table border=\"1\" class=\"dataframe\">\n",
       "  <thead>\n",
       "    <tr style=\"text-align: right;\">\n",
       "      <th></th>\n",
       "      <th>pc_1</th>\n",
       "      <th>pc_2</th>\n",
       "    </tr>\n",
       "  </thead>\n",
       "  <tbody>\n",
       "    <tr>\n",
       "      <th>0</th>\n",
       "      <td>0.316144</td>\n",
       "      <td>-1.429676</td>\n",
       "    </tr>\n",
       "    <tr>\n",
       "      <th>1</th>\n",
       "      <td>-1.792884</td>\n",
       "      <td>-1.018130</td>\n",
       "    </tr>\n",
       "    <tr>\n",
       "      <th>2</th>\n",
       "      <td>-0.171910</td>\n",
       "      <td>-0.167775</td>\n",
       "    </tr>\n",
       "    <tr>\n",
       "      <th>3</th>\n",
       "      <td>-0.398254</td>\n",
       "      <td>-0.503850</td>\n",
       "    </tr>\n",
       "    <tr>\n",
       "      <th>4</th>\n",
       "      <td>-1.180415</td>\n",
       "      <td>-0.791749</td>\n",
       "    </tr>\n",
       "  </tbody>\n",
       "</table>\n",
       "</div>"
      ],
      "text/plain": [
       "       pc_1      pc_2\n",
       "0  0.316144 -1.429676\n",
       "1 -1.792884 -1.018130\n",
       "2 -0.171910 -0.167775\n",
       "3 -0.398254 -0.503850\n",
       "4 -1.180415 -0.791749"
      ]
     },
     "execution_count": 13,
     "metadata": {},
     "output_type": "execute_result"
    }
   ],
   "source": [
    "df_pca_train.head()"
   ]
  },
  {
   "cell_type": "code",
   "execution_count": 14,
   "id": "3141a967-8c2f-472e-a934-5ad8ac0d9237",
   "metadata": {},
   "outputs": [
    {
     "data": {
      "text/plain": [
       "[<matplotlib.lines.Line2D at 0x28801ffa0>]"
      ]
     },
     "execution_count": 14,
     "metadata": {},
     "output_type": "execute_result"
    },
    {
     "data": {
      "image/png": "[encoded data removed]",
      "text/plain": [
       "<Figure size 1000x800 with 1 Axes>"
      ]
     },
     "metadata": {},
     "output_type": "display_data"
    }
   ],
   "source": [
    "plt.figure(figsize=(10,8))\n",
    "plt.plot(df_pca_train.iloc[:,0], df_pca_train.iloc[:,1], 'b+')\n",
    "plt.plot(df_pca_test.iloc[:,0], df_pca_test.iloc[:,1], 'g+')\n",
    "#plt.plot(df.index, feature_2, 'g+')"
   ]
  },
  {
   "cell_type": "code",
   "execution_count": 15,
   "id": "a1de5099-55d4-4d2d-9ea4-eaf60c27b16c",
   "metadata": {},
   "outputs": [],
   "source": [
    "#n_dim = len(df_pca_train.columns)\n",
    "n_dim = len(df_pca_train.columns)"
   ]
  },
  {
   "cell_type": "code",
   "execution_count": 16,
   "id": "2f237e33-3625-4833-a237-353ae9e834e8",
   "metadata": {},
   "outputs": [
    {
     "data": {
      "text/plain": [
       "2"
      ]
     },
     "execution_count": 16,
     "metadata": {},
     "output_type": "execute_result"
    }
   ],
   "source": [
    "n_dim"
   ]
  },
  {
   "cell_type": "markdown",
   "id": "bd626d5c-ff6a-443a-9700-10a93c24dc74",
   "metadata": {},
   "source": [
    "## Split train test "
   ]
  },
  {
   "cell_type": "code",
   "execution_count": 17,
   "id": "afaf0912-bdbf-4460-ae4c-43016d1f5a57",
   "metadata": {},
   "outputs": [],
   "source": [
    "# Split dataset into train and test\n",
    "\n",
    "#sample_train, sample_test, label_train, label_test = train_test_split(\n",
    "#     df_pca_train, y_train, test_size=0.2, random_state=22)\n",
    "\n",
    "sample_train = df_pca_train.to_numpy()\n",
    "sample_test = df_pca_test.to_numpy()\n",
    "label_train = y_train\n",
    "label_test = y_test\n",
    "# Normalize\n",
    "\n",
    "#std_scale = StandardScaler().fit(sample_train)\n",
    "#sample_train = std_scale.transform(sample_train)\n",
    "#sample_test = std_scale.transform(sample_test)\n",
    "\n",
    "# Scale for better fit within the feature map\n",
    "\n",
    "samples = np.append(sample_train, sample_test, axis=0)\n",
    "minmax_scale = MinMaxScaler((-1, 1)).fit(samples)\n",
    "sample_train = minmax_scale.transform(sample_train)\n",
    "sample_test = minmax_scale.transform(sample_test)\n",
    "\n",
    "# Select a sample for a better control of the research and wall time\n",
    "\n",
    "train_size = 400#160\n",
    "sample_train = sample_train[:train_size]\n",
    "label_train = label_train[:train_size]\n",
    "\n",
    "test_size = 100 #40\n",
    "sample_test = sample_test[:test_size]\n",
    "label_test = label_test[:test_size]"
   ]
  },
  {
   "cell_type": "code",
   "execution_count": 18,
   "id": "d815edbe-c5e7-42d6-9489-39ebb940cda4",
   "metadata": {},
   "outputs": [],
   "source": [
    "# Basic parameters for hybrid model\n",
    "\n",
    "seed = 8500\n",
    "feature_dim = n_dim\n",
    "num_reps = 2\n",
    "num_shots =256 \n"
   ]
  },
  {
   "cell_type": "markdown",
   "id": "a17bc9af-4a1c-453d-be99-d54b9e045628",
   "metadata": {},
   "source": [
    "## Hybrid"
   ]
  },
  {
   "cell_type": "code",
   "execution_count": 19,
   "id": "c77893f1-6b02-46bf-a22e-8dd0824c060e",
   "metadata": {},
   "outputs": [],
   "source": [
    "from sklearn.model_selection import cross_validate\n",
    "from tqdm import tqdm\n",
    "def evaluate_ml_model(_models, X, y, n_fold=10, metric='precision'):\n",
    "    ''' Function to evaluate a ML and QML model with a list of metrics\n",
    "    \n",
    "    \n",
    "    '''\n",
    "    results = pd.DataFrame()\n",
    "    kfold = KFold(n_splits=n_fold)\n",
    "    columns = []\n",
    "    for name, model in tqdm(_models):\n",
    "        # -------------------\n",
    "        # Variables initialization \n",
    "        _df = pd.DataFrame()\n",
    "        names = []\n",
    "        means = []\n",
    "        stds = []\n",
    "        \n",
    "        # -------------------\n",
    "        # k-fold Cross validation\n",
    "        cv_results = cross_validate(model, X, y, cv=kfold, scoring=metric)\n",
    "        \n",
    "        # -------------------\n",
    "        # Compute the mean and standard deviation \n",
    "        for _name, _array in cv_results.items():\n",
    "            names.append(_name)\n",
    "            means.append(round(100*_array.mean(), 2))\n",
    "            stds.append(round(100*_array.std(), 2))\n",
    "        # -------------------\n",
    "        # Save the results in a dataframe \n",
    "        _df =  pd.DataFrame([means, stds], columns=names)\n",
    "        columns.extend([name+' mean (%)', name+' std (%)'])\n",
    "        #results = results.join(_df, on=_df.index)\n",
    "        results = results.append(_df)\n",
    "    results.index = columns\n",
    "    print(results)\n",
    "    return results"
   ]
  },
  {
   "cell_type": "code",
   "execution_count": 21,
   "id": "c2ce7078-9255-4913-b6aa-7f05a0e077c3",
   "metadata": {},
   "outputs": [],
   "source": [
    "# Define feature_map\n",
    "\n",
    "feature_map = ZZFeatureMap(feature_dimension=feature_dim, reps=num_reps)\n",
    "\n",
    "# Define the backend\n",
    "backend = QuantumInstance(\n",
    "    BasicAer.get_backend(\"qasm_simulator\"), shots=num_shots, seed_simulator=seed, seed_transpiler=seed\n",
    ")\n",
    "\n",
    "# Define the kernel\n",
    "\n",
    "kernel = QuantumKernel(feature_map=feature_map, quantum_instance=backend)\n",
    "\n",
    "# Model run\n",
    "svc = SVC(kernel=kernel.evaluate)\n",
    "#svc.fit(sample_train, label_train)\n",
    "#score = svc.score(sample_test, label_test)\n",
    "\n",
    "#print(f\"Callable kernel classification test score: {score}\")"
   ]
  },
  {
   "cell_type": "code",
   "execution_count": 22,
   "id": "69039ffb-1ad7-445a-ae47-1593bb0827b9",
   "metadata": {},
   "outputs": [],
   "source": [
    "models = []\n",
    "#models.append(('LR', LogisticRegression(max_iter=1000, random_state=42)))\n",
    "#models.append(('KNN', KNeighborsClassifier(n_neighbors=7)))\n",
    "#models.append(('CART', DecisionTreeClassifier(random_state=42)))\n",
    "#models.append(('NB', GaussianNB()))\n",
    "#models.append(('SVM', SVC(random_state=42)))\n",
    "models.append(('QSVC', svc))\n",
    "\n",
    "_metrics = ['precision', 'recall', 'f1', 'accuracy',  'matthews_corrcoef','balanced_accuracy']\n"
   ]
  },
  {
   "cell_type": "code",
   "execution_count": 23,
   "id": "16c85f33-0dbc-4b6f-b19c-fb7b2b559c86",
   "metadata": {},
   "outputs": [],
   "source": [
    "df_results = pd.DataFrame()"
   ]
  },
  {
   "cell_type": "code",
   "execution_count": null,
   "id": "6e8e6e58-2bda-40bb-b32b-bc014e003aba",
   "metadata": {
    "collapsed": true,
    "jupyter": {
     "outputs_hidden": true
    },
    "tags": []
   },
   "outputs": [
    {
     "name": "stderr",
     "output_type": "stream",
     "text": [
      "  0%|                                                     | 0/1 [00:00<?, ?it/s]WARNING:qiskit.utils.run_circuits:FAILURE: Can not get job id, Resubmit the qobj to get job id. Terra job error: 'Number of qubits 93 is greater than maximum (24) for \"qasm_simulator\".' \n",
      "WARNING:qiskit.utils.run_circuits:FAILURE: Can not get job id, Resubmit the qobj to get job id. Terra job error: 'Number of qubits 93 is greater than maximum (24) for \"qasm_simulator\".' \n",
      "WARNING:qiskit.utils.run_circuits:FAILURE: Can not get job id, Resubmit the qobj to get job id. Terra job error: 'Number of qubits 93 is greater than maximum (24) for \"qasm_simulator\".' \n",
      "WARNING:qiskit.utils.run_circuits:FAILURE: Can not get job id, Resubmit the qobj to get job id. Terra job error: 'Number of qubits 93 is greater than maximum (24) for \"qasm_simulator\".' \n",
      "WARNING:qiskit.utils.run_circuits:FAILURE: Can not get job id, Resubmit the qobj to get job id. Terra job error: 'Number of qubits 93 is greater than maximum (24) for \"qasm_simulator\".' \n",
      "WARNING:qiskit.utils.run_circuits:FAILURE: Can not get job id, Resubmit the qobj to get job id. Terra job error: 'Number of qubits 93 is greater than maximum (24) for \"qasm_simulator\".' \n",
      "WARNING:qiskit.utils.run_circuits:FAILURE: Can not get job id, Resubmit the qobj to get job id. Terra job error: 'Number of qubits 93 is greater than maximum (24) for \"qasm_simulator\".' \n",
      "WARNING:qiskit.utils.run_circuits:FAILURE: Can not get job id, Resubmit the qobj to get job id. Terra job error: 'Number of qubits 93 is greater than maximum (24) for \"qasm_simulator\".' \n",
      "WARNING:qiskit.utils.run_circuits:FAILURE: Can not get job id, Resubmit the qobj to get job id. Terra job error: 'Number of qubits 93 is greater than maximum (24) for \"qasm_simulator\".' \n",
      "WARNING:qiskit.utils.run_circuits:FAILURE: Can not get job id, Resubmit the qobj to get job id. Terra job error: 'Number of qubits 93 is greater than maximum (24) for \"qasm_simulator\".' \n",
      "WARNING:qiskit.utils.run_circuits:FAILURE: Can not get job id, Resubmit the qobj to get job id. Terra job error: 'Number of qubits 93 is greater than maximum (24) for \"qasm_simulator\".' \n",
      "WARNING:qiskit.utils.run_circuits:FAILURE: Can not get job id, Resubmit the qobj to get job id. Terra job error: 'Number of qubits 93 is greater than maximum (24) for \"qasm_simulator\".' \n",
      "WARNING:qiskit.utils.run_circuits:FAILURE: Can not get job id, Resubmit the qobj to get job id. Terra job error: 'Number of qubits 93 is greater than maximum (24) for \"qasm_simulator\".' \n",
      "WARNING:qiskit.utils.run_circuits:FAILURE: Can not get job id, Resubmit the qobj to get job id. Terra job error: 'Number of qubits 93 is greater than maximum (24) for \"qasm_simulator\".' \n",
      "WARNING:qiskit.utils.run_circuits:FAILURE: Can not get job id, Resubmit the qobj to get job id. Terra job error: 'Number of qubits 93 is greater than maximum (24) for \"qasm_simulator\".' \n",
      "WARNING:qiskit.utils.run_circuits:FAILURE: Can not get job id, Resubmit the qobj to get job id. Terra job error: 'Number of qubits 93 is greater than maximum (24) for \"qasm_simulator\".' \n",
      "WARNING:qiskit.utils.run_circuits:FAILURE: Can not get job id, Resubmit the qobj to get job id. Terra job error: 'Number of qubits 93 is greater than maximum (24) for \"qasm_simulator\".' \n",
      "WARNING:qiskit.utils.run_circuits:FAILURE: Can not get job id, Resubmit the qobj to get job id. Terra job error: 'Number of qubits 93 is greater than maximum (24) for \"qasm_simulator\".' \n",
      "WARNING:qiskit.utils.run_circuits:FAILURE: Can not get job id, Resubmit the qobj to get job id. Terra job error: 'Number of qubits 93 is greater than maximum (24) for \"qasm_simulator\".' \n",
      "WARNING:qiskit.utils.run_circuits:FAILURE: Can not get job id, Resubmit the qobj to get job id. Terra job error: 'Number of qubits 93 is greater than maximum (24) for \"qasm_simulator\".' \n",
      "WARNING:qiskit.utils.run_circuits:FAILURE: Can not get job id, Resubmit the qobj to get job id. Terra job error: 'Number of qubits 93 is greater than maximum (24) for \"qasm_simulator\".' \n",
      "WARNING:qiskit.utils.run_circuits:FAILURE: Can not get job id, Resubmit the qobj to get job id. Terra job error: 'Number of qubits 93 is greater than maximum (24) for \"qasm_simulator\".' \n",
      "WARNING:qiskit.utils.run_circuits:FAILURE: Can not get job id, Resubmit the qobj to get job id. Terra job error: 'Number of qubits 93 is greater than maximum (24) for \"qasm_simulator\".' \n",
      "WARNING:qiskit.utils.run_circuits:FAILURE: Can not get job id, Resubmit the qobj to get job id. Terra job error: 'Number of qubits 93 is greater than maximum (24) for \"qasm_simulator\".' \n",
      "WARNING:qiskit.utils.run_circuits:FAILURE: Can not get job id, Resubmit the qobj to get job id. Terra job error: 'Number of qubits 93 is greater than maximum (24) for \"qasm_simulator\".' \n",
      "WARNING:qiskit.utils.run_circuits:FAILURE: Can not get job id, Resubmit the qobj to get job id. Terra job error: 'Number of qubits 93 is greater than maximum (24) for \"qasm_simulator\".' \n",
      "WARNING:qiskit.utils.run_circuits:FAILURE: Can not get job id, Resubmit the qobj to get job id. Terra job error: 'Number of qubits 93 is greater than maximum (24) for \"qasm_simulator\".' \n",
      "WARNING:qiskit.utils.run_circuits:FAILURE: Can not get job id, Resubmit the qobj to get job id. Terra job error: 'Number of qubits 93 is greater than maximum (24) for \"qasm_simulator\".' \n",
      "WARNING:qiskit.utils.run_circuits:FAILURE: Can not get job id, Resubmit the qobj to get job id. Terra job error: 'Number of qubits 93 is greater than maximum (24) for \"qasm_simulator\".' \n",
      "WARNING:qiskit.utils.run_circuits:FAILURE: Can not get job id, Resubmit the qobj to get job id. Terra job error: 'Number of qubits 93 is greater than maximum (24) for \"qasm_simulator\".' \n",
      "WARNING:qiskit.utils.run_circuits:FAILURE: Can not get job id, Resubmit the qobj to get job id. Terra job error: 'Number of qubits 93 is greater than maximum (24) for \"qasm_simulator\".' \n",
      "WARNING:qiskit.utils.run_circuits:FAILURE: Can not get job id, Resubmit the qobj to get job id. Terra job error: 'Number of qubits 93 is greater than maximum (24) for \"qasm_simulator\".' \n",
      "WARNING:qiskit.utils.run_circuits:FAILURE: Can not get job id, Resubmit the qobj to get job id. Terra job error: 'Number of qubits 93 is greater than maximum (24) for \"qasm_simulator\".' \n",
      "WARNING:qiskit.utils.run_circuits:FAILURE: Can not get job id, Resubmit the qobj to get job id. Terra job error: 'Number of qubits 93 is greater than maximum (24) for \"qasm_simulator\".' \n",
      "WARNING:qiskit.utils.run_circuits:FAILURE: Can not get job id, Resubmit the qobj to get job id. Terra job error: 'Number of qubits 93 is greater than maximum (24) for \"qasm_simulator\".' \n",
      "WARNING:qiskit.utils.run_circuits:FAILURE: Can not get job id, Resubmit the qobj to get job id. Terra job error: 'Number of qubits 93 is greater than maximum (24) for \"qasm_simulator\".' \n",
      "WARNING:qiskit.utils.run_circuits:FAILURE: Can not get job id, Resubmit the qobj to get job id. Terra job error: 'Number of qubits 93 is greater than maximum (24) for \"qasm_simulator\".' \n",
      "WARNING:qiskit.utils.run_circuits:FAILURE: Can not get job id, Resubmit the qobj to get job id. Terra job error: 'Number of qubits 93 is greater than maximum (24) for \"qasm_simulator\".' \n",
      "WARNING:qiskit.utils.run_circuits:FAILURE: Can not get job id, Resubmit the qobj to get job id. Terra job error: 'Number of qubits 93 is greater than maximum (24) for \"qasm_simulator\".' \n",
      "WARNING:qiskit.utils.run_circuits:FAILURE: Can not get job id, Resubmit the qobj to get job id. Terra job error: 'Number of qubits 93 is greater than maximum (24) for \"qasm_simulator\".' \n",
      "WARNING:qiskit.utils.run_circuits:FAILURE: Can not get job id, Resubmit the qobj to get job id. Terra job error: 'Number of qubits 93 is greater than maximum (24) for \"qasm_simulator\".' \n",
      "WARNING:qiskit.utils.run_circuits:FAILURE: Can not get job id, Resubmit the qobj to get job id. Terra job error: 'Number of qubits 93 is greater than maximum (24) for \"qasm_simulator\".' \n",
      "WARNING:qiskit.utils.run_circuits:FAILURE: Can not get job id, Resubmit the qobj to get job id. Terra job error: 'Number of qubits 93 is greater than maximum (24) for \"qasm_simulator\".' \n",
      "WARNING:qiskit.utils.run_circuits:FAILURE: Can not get job id, Resubmit the qobj to get job id. Terra job error: 'Number of qubits 93 is greater than maximum (24) for \"qasm_simulator\".' \n",
      "WARNING:qiskit.utils.run_circuits:FAILURE: Can not get job id, Resubmit the qobj to get job id. Terra job error: 'Number of qubits 93 is greater than maximum (24) for \"qasm_simulator\".' \n",
      "WARNING:qiskit.utils.run_circuits:FAILURE: Can not get job id, Resubmit the qobj to get job id. Terra job error: 'Number of qubits 93 is greater than maximum (24) for \"qasm_simulator\".' \n",
      "WARNING:qiskit.utils.run_circuits:FAILURE: Can not get job id, Resubmit the qobj to get job id. Terra job error: 'Number of qubits 93 is greater than maximum (24) for \"qasm_simulator\".' \n",
      "WARNING:qiskit.utils.run_circuits:FAILURE: Can not get job id, Resubmit the qobj to get job id. Terra job error: 'Number of qubits 93 is greater than maximum (24) for \"qasm_simulator\".' \n",
      "WARNING:qiskit.utils.run_circuits:FAILURE: Can not get job id, Resubmit the qobj to get job id. Terra job error: 'Number of qubits 93 is greater than maximum (24) for \"qasm_simulator\".' \n",
      "WARNING:qiskit.utils.run_circuits:FAILURE: Can not get job id, Resubmit the qobj to get job id. Terra job error: 'Number of qubits 93 is greater than maximum (24) for \"qasm_simulator\".' \n",
      "WARNING:qiskit.utils.run_circuits:FAILURE: Can not get job id, Resubmit the qobj to get job id. Terra job error: 'Number of qubits 93 is greater than maximum (24) for \"qasm_simulator\".' \n",
      "WARNING:qiskit.utils.run_circuits:FAILURE: Can not get job id, Resubmit the qobj to get job id. Terra job error: 'Number of qubits 93 is greater than maximum (24) for \"qasm_simulator\".' \n",
      "WARNING:qiskit.utils.run_circuits:FAILURE: Can not get job id, Resubmit the qobj to get job id. Terra job error: 'Number of qubits 93 is greater than maximum (24) for \"qasm_simulator\".' \n",
      "WARNING:qiskit.utils.run_circuits:FAILURE: Can not get job id, Resubmit the qobj to get job id. Terra job error: 'Number of qubits 93 is greater than maximum (24) for \"qasm_simulator\".' \n",
      "WARNING:qiskit.utils.run_circuits:FAILURE: Can not get job id, Resubmit the qobj to get job id. Terra job error: 'Number of qubits 93 is greater than maximum (24) for \"qasm_simulator\".' \n",
      "WARNING:qiskit.utils.run_circuits:FAILURE: Can not get job id, Resubmit the qobj to get job id. Terra job error: 'Number of qubits 93 is greater than maximum (24) for \"qasm_simulator\".' \n",
      "WARNING:qiskit.utils.run_circuits:FAILURE: Can not get job id, Resubmit the qobj to get job id. Terra job error: 'Number of qubits 93 is greater than maximum (24) for \"qasm_simulator\".' \n",
      "WARNING:qiskit.utils.run_circuits:FAILURE: Can not get job id, Resubmit the qobj to get job id. Terra job error: 'Number of qubits 93 is greater than maximum (24) for \"qasm_simulator\".' \n",
      "WARNING:qiskit.utils.run_circuits:FAILURE: Can not get job id, Resubmit the qobj to get job id. Terra job error: 'Number of qubits 93 is greater than maximum (24) for \"qasm_simulator\".' \n",
      "WARNING:qiskit.utils.run_circuits:FAILURE: Can not get job id, Resubmit the qobj to get job id. Terra job error: 'Number of qubits 93 is greater than maximum (24) for \"qasm_simulator\".' \n",
      "WARNING:qiskit.utils.run_circuits:FAILURE: Can not get job id, Resubmit the qobj to get job id. Terra job error: 'Number of qubits 93 is greater than maximum (24) for \"qasm_simulator\".' \n",
      "WARNING:qiskit.utils.run_circuits:FAILURE: Can not get job id, Resubmit the qobj to get job id. Terra job error: 'Number of qubits 93 is greater than maximum (24) for \"qasm_simulator\".' \n",
      "WARNING:qiskit.utils.run_circuits:FAILURE: Can not get job id, Resubmit the qobj to get job id. Terra job error: 'Number of qubits 93 is greater than maximum (24) for \"qasm_simulator\".' \n",
      "WARNING:qiskit.utils.run_circuits:FAILURE: Can not get job id, Resubmit the qobj to get job id. Terra job error: 'Number of qubits 93 is greater than maximum (24) for \"qasm_simulator\".' \n",
      "WARNING:qiskit.utils.run_circuits:FAILURE: Can not get job id, Resubmit the qobj to get job id. Terra job error: 'Number of qubits 93 is greater than maximum (24) for \"qasm_simulator\".' \n",
      "WARNING:qiskit.utils.run_circuits:FAILURE: Can not get job id, Resubmit the qobj to get job id. Terra job error: 'Number of qubits 93 is greater than maximum (24) for \"qasm_simulator\".' \n",
      "WARNING:qiskit.utils.run_circuits:FAILURE: Can not get job id, Resubmit the qobj to get job id. Terra job error: 'Number of qubits 93 is greater than maximum (24) for \"qasm_simulator\".' \n",
      "WARNING:qiskit.utils.run_circuits:FAILURE: Can not get job id, Resubmit the qobj to get job id. Terra job error: 'Number of qubits 93 is greater than maximum (24) for \"qasm_simulator\".' \n",
      "WARNING:qiskit.utils.run_circuits:FAILURE: Can not get job id, Resubmit the qobj to get job id. Terra job error: 'Number of qubits 93 is greater than maximum (24) for \"qasm_simulator\".' \n",
      "WARNING:qiskit.utils.run_circuits:FAILURE: Can not get job id, Resubmit the qobj to get job id. Terra job error: 'Number of qubits 93 is greater than maximum (24) for \"qasm_simulator\".' \n",
      "WARNING:qiskit.utils.run_circuits:FAILURE: Can not get job id, Resubmit the qobj to get job id. Terra job error: 'Number of qubits 93 is greater than maximum (24) for \"qasm_simulator\".' \n",
      "WARNING:qiskit.utils.run_circuits:FAILURE: Can not get job id, Resubmit the qobj to get job id. Terra job error: 'Number of qubits 93 is greater than maximum (24) for \"qasm_simulator\".' \n",
      "WARNING:qiskit.utils.run_circuits:FAILURE: Can not get job id, Resubmit the qobj to get job id. Terra job error: 'Number of qubits 93 is greater than maximum (24) for \"qasm_simulator\".' \n",
      "WARNING:qiskit.utils.run_circuits:FAILURE: Can not get job id, Resubmit the qobj to get job id. Terra job error: 'Number of qubits 93 is greater than maximum (24) for \"qasm_simulator\".' \n",
      "WARNING:qiskit.utils.run_circuits:FAILURE: Can not get job id, Resubmit the qobj to get job id. Terra job error: 'Number of qubits 93 is greater than maximum (24) for \"qasm_simulator\".' \n",
      "WARNING:qiskit.utils.run_circuits:FAILURE: Can not get job id, Resubmit the qobj to get job id. Terra job error: 'Number of qubits 93 is greater than maximum (24) for \"qasm_simulator\".' \n",
      "WARNING:qiskit.utils.run_circuits:FAILURE: Can not get job id, Resubmit the qobj to get job id. Terra job error: 'Number of qubits 93 is greater than maximum (24) for \"qasm_simulator\".' \n",
      "WARNING:qiskit.utils.run_circuits:FAILURE: Can not get job id, Resubmit the qobj to get job id. Terra job error: 'Number of qubits 93 is greater than maximum (24) for \"qasm_simulator\".' \n",
      "WARNING:qiskit.utils.run_circuits:FAILURE: Can not get job id, Resubmit the qobj to get job id. Terra job error: 'Number of qubits 93 is greater than maximum (24) for \"qasm_simulator\".' \n",
      "WARNING:qiskit.utils.run_circuits:FAILURE: Can not get job id, Resubmit the qobj to get job id. Terra job error: 'Number of qubits 93 is greater than maximum (24) for \"qasm_simulator\".' \n",
      "WARNING:qiskit.utils.run_circuits:FAILURE: Can not get job id, Resubmit the qobj to get job id. Terra job error: 'Number of qubits 93 is greater than maximum (24) for \"qasm_simulator\".' \n",
      "WARNING:qiskit.utils.run_circuits:FAILURE: Can not get job id, Resubmit the qobj to get job id. Terra job error: 'Number of qubits 93 is greater than maximum (24) for \"qasm_simulator\".' \n",
      "WARNING:qiskit.utils.run_circuits:FAILURE: Can not get job id, Resubmit the qobj to get job id. Terra job error: 'Number of qubits 93 is greater than maximum (24) for \"qasm_simulator\".' \n",
      "WARNING:qiskit.utils.run_circuits:FAILURE: Can not get job id, Resubmit the qobj to get job id. Terra job error: 'Number of qubits 93 is greater than maximum (24) for \"qasm_simulator\".' \n",
      "WARNING:qiskit.utils.run_circuits:FAILURE: Can not get job id, Resubmit the qobj to get job id. Terra job error: 'Number of qubits 93 is greater than maximum (24) for \"qasm_simulator\".' \n"
     ]
    }
   ],
   "source": [
    "df_results = evaluate_ml_model(models, X_train, y_train, n_fold=10, metric=_metrics)"
   ]
  },
  {
   "cell_type": "code",
   "execution_count": null,
   "id": "2d1bbc07-5154-4299-9273-55de02bde351",
   "metadata": {},
   "outputs": [],
   "source": [
    "df_results"
   ]
  },
  {
   "cell_type": "code",
   "execution_count": 21,
   "id": "646fa995-eacd-43a6-8d9a-2dd18621d850",
   "metadata": {},
   "outputs": [
    {
     "name": "stdout",
     "output_type": "stream",
     "text": [
      "LR & 83.63 (9.04) & 64.7 (6.18) &  72.48 (4.73) & 66.24 (5.72) & 80.29 (2.94) \\\n",
      "KNN & 80.37 (7.02) & 61.57 (8.58) &  69.5 (7.18) & 62.33 (8.6) & 78.42 (4.75) \\\n",
      "CART & 70.76 (9.29) & 73.34 (8.35) &  71.58 (6.67) & 62.54 (8.03) & 81.76 (4.28) \\\n",
      "NB & 30.41 (4.79) & 93.01 (3.43) &  45.63 (5.65) & 22.64 (5.44) & 61.36 (3.5) \\\n",
      "SVM & 93.2 (5.19) & 55.0 (10.32) &  68.47 (7.92) & 65.19 (7.71) & 76.78 (5.01) \\\n"
     ]
    }
   ],
   "source": [
    "j = 0\n",
    "for i in range(int(len(df_results.index)/2)):\n",
    "\n",
    "    print(f'{df_results.iloc[j].name.split()[0]} & {df_results.iloc[j][2]} ({df_results.iloc[j+1][2]}) & {df_results.iloc[j][3]} ({df_results.iloc[j+1][3]}) &  {df_results.iloc[j][4]} ({df_results.iloc[j+1][4]}) & {df_results.iloc[j][6]} ({df_results.iloc[j+1][6]}) & {df_results.iloc[j][7]} ({df_results.iloc[j+1][7]}) \\\\')\n",
    "    \n",
    "    j+=2"
   ]
  },
  {
   "cell_type": "markdown",
   "id": "3b70b837-4e39-4b65-83ca-8e82fc83efa1",
   "metadata": {
    "tags": []
   },
   "source": [
    "## Pennylane"
   ]
  },
  {
   "cell_type": "code",
   "execution_count": 22,
   "id": "ff1d5656-f2f2-4d96-b210-a75a161cdb39",
   "metadata": {},
   "outputs": [],
   "source": [
    "from pennylane import numpy as np"
   ]
  },
  {
   "cell_type": "code",
   "execution_count": 23,
   "id": "07ec49f5-c401-4c36-aae3-57aad3eaa0ba",
   "metadata": {},
   "outputs": [],
   "source": [
    "# Angle Encoding\n",
    "\n",
    "num_qubits = n_dim\n",
    "\n",
    "dev = qml.device('default.qubit', wires = num_qubits)\n",
    "\n",
    "@qml.qnode(dev)\n",
    "def circuit(parameters, data):\n",
    "    for i in range(num_qubits):\n",
    "        qml.Hadamard(wires = i)\n",
    "    \n",
    "    AngleEmbedding(features = data, wires = range(num_qubits), rotation = 'Y')\n",
    "    \n",
    "    qml.StronglyEntanglingLayers(weights = parameters, wires = range(num_qubits))\n",
    "    \n",
    "    return qml.expval(qml.PauliZ(0))"
   ]
  },
  {
   "cell_type": "code",
   "execution_count": 24,
   "id": "ffcf8fdb-37a0-4b64-b73c-76be553995e8",
   "metadata": {},
   "outputs": [],
   "source": [
    "num_layers = 5\n",
    "weights_init = 0.01 * np.random.randn(num_layers, num_qubits, 3, requires_grad=True)\n",
    "bias_init = np.array(0.0, requires_grad=True)\n",
    "\n",
    "#print(weights_init, bias_init)"
   ]
  },
  {
   "cell_type": "code",
   "execution_count": 25,
   "id": "49568595-37ec-4749-a230-dc4c6dae2500",
   "metadata": {},
   "outputs": [
    {
     "data": {
      "text/plain": [
       "tensor(0.5591176, requires_grad=True)"
      ]
     },
     "execution_count": 25,
     "metadata": {},
     "output_type": "execute_result"
    }
   ],
   "source": [
    "circuit(weights_init, sample_train[0])"
   ]
  },
  {
   "cell_type": "code",
   "execution_count": 26,
   "id": "4febb380-0955-4f05-a872-326cc4e3a27c",
   "metadata": {},
   "outputs": [],
   "source": [
    "def variational_classifier(weights, bias, x):\n",
    "    return circuit(weights, x) + bias"
   ]
  },
  {
   "cell_type": "code",
   "execution_count": 27,
   "id": "c16a1f84-63e5-4fbb-a647-cba6db4c6c4c",
   "metadata": {},
   "outputs": [],
   "source": [
    "def square_loss(labels, predictions):\n",
    "    loss = 0\n",
    "    for l, p in zip(labels, predictions):\n",
    "        loss = loss + (l - p) ** 2\n",
    "\n",
    "    loss = loss / len(labels)\n",
    "    return loss"
   ]
  },
  {
   "cell_type": "code",
   "execution_count": 28,
   "id": "07412a53-c93b-4c73-bd0b-e7e144454435",
   "metadata": {},
   "outputs": [],
   "source": [
    "def accuracy(labels, predictions):\n",
    "\n",
    "    loss = 0\n",
    "    for l, p in zip(labels, predictions):\n",
    "        if abs(l - p) < 1e-5:\n",
    "            loss = loss + 1\n",
    "    loss = loss / len(labels)\n",
    "\n",
    "    return loss"
   ]
  },
  {
   "cell_type": "code",
   "execution_count": 29,
   "id": "1bf0b58e-38f3-4c45-a4d2-3d69af787ba3",
   "metadata": {},
   "outputs": [],
   "source": [
    "def cost(weights, bias, X, Y):\n",
    "    predictions = [variational_classifier(weights, bias, x) for x in X]\n",
    "    return square_loss(Y, predictions)"
   ]
  },
  {
   "cell_type": "code",
   "execution_count": 32,
   "id": "21ff4aa6-c15b-4a59-a718-67d8da2402dd",
   "metadata": {},
   "outputs": [
    {
     "name": "stdout",
     "output_type": "stream",
     "text": [
      "X = [tensor(-0.99114485, requires_grad=True), tensor(-0.73368707, requires_grad=True)], Y =  1\n",
      "X = [tensor(-0.98870833, requires_grad=True), tensor(-0.73016894, requires_grad=True)], Y = -1\n",
      "X = [tensor(-0.9928595, requires_grad=True), tensor(-0.71421527, requires_grad=True)], Y = -1\n",
      "X = [tensor(-0.9469871, requires_grad=True), tensor(-0.76861413, requires_grad=True)], Y =  1\n",
      "X = [tensor(-0.99536261, requires_grad=True), tensor(-0.71374327, requires_grad=True)], Y = -1\n"
     ]
    }
   ],
   "source": [
    "Y = np.array(label_train * 2 - np.ones(len(label_train)),requires_grad=True)  # shift label from {0, 1} to {-1, 1}\n",
    "X = np.array(sample_train, requires_grad=True)\n",
    "\n",
    "for i in range(5):\n",
    "    print(\"X = {}, Y = {: d}\".format(list(X[i]), int(Y[i])))"
   ]
  },
  {
   "cell_type": "code",
   "execution_count": 33,
   "id": "074f578a-1984-4814-9070-7b20063c8bd1",
   "metadata": {},
   "outputs": [],
   "source": [
    "opt = AdamOptimizer(stepsize=0.1, beta1=0.9, beta2=0.99, eps=1e-08)\n",
    "batch_size = 10"
   ]
  },
  {
   "cell_type": "code",
   "execution_count": 34,
   "id": "e8b4bf5c-322d-43e2-ac30-3bf83e3e7f89",
   "metadata": {},
   "outputs": [],
   "source": [
    "import warnings\n",
    "warnings.filterwarnings('ignore')"
   ]
  },
  {
   "cell_type": "code",
   "execution_count": 35,
   "id": "2d31d6a7-74f4-4e63-b1cb-b92bfb610a5a",
   "metadata": {},
   "outputs": [
    {
     "name": "stdout",
     "output_type": "stream",
     "text": [
      "New Best:\n",
      "Iter:     1 | Cost: 1.0548340 | f1: 0.4011628 \n",
      "Iter:     2 | Cost: 0.7409377 | f1: 0.0000000 \n",
      "Iter:     3 | Cost: 0.8563033 | f1: 0.0000000 \n",
      "Iter:     4 | Cost: 0.8670541 | f1: 0.0000000 \n",
      "Iter:     5 | Cost: 0.7667871 | f1: 0.0000000 \n",
      "Iter:     6 | Cost: 0.7937781 | f1: 0.0000000 \n",
      "Iter:     7 | Cost: 1.1703123 | f1: 0.3979957 \n",
      "Iter:     8 | Cost: 0.9022383 | f1: 0.0000000 \n",
      "Iter:     9 | Cost: 0.7488469 | f1: 0.0000000 \n",
      "Iter:    10 | Cost: 1.0379466 | f1: 0.0000000 \n",
      "Iter:    11 | Cost: 1.2242433 | f1: 0.0000000 \n",
      "Iter:    12 | Cost: 1.1850526 | f1: 0.0000000 \n",
      "Iter:    13 | Cost: 1.0742092 | f1: 0.0000000 \n",
      "Iter:    14 | Cost: 0.8894353 | f1: 0.0000000 \n",
      "Iter:    15 | Cost: 0.7594429 | f1: 0.0000000 \n",
      "Iter:    16 | Cost: 0.7439425 | f1: 0.0000000 \n",
      "Iter:    17 | Cost: 0.7766606 | f1: 0.0000000 \n",
      "Iter:    18 | Cost: 0.8310069 | f1: 0.0000000 \n",
      "Iter:    19 | Cost: 0.8333212 | f1: 0.0000000 \n",
      "Iter:    20 | Cost: 0.7913671 | f1: 0.0000000 \n",
      "Iter:    21 | Cost: 0.7659540 | f1: 0.0000000 \n",
      "Iter:    22 | Cost: 0.7460197 | f1: 0.0000000 \n",
      "Iter:    23 | Cost: 0.7456230 | f1: 0.0000000 \n",
      "Iter:    24 | Cost: 0.7606883 | f1: 0.0000000 \n",
      "Iter:    25 | Cost: 0.8001759 | f1: 0.0000000 \n",
      "Iter:    26 | Cost: 0.8390429 | f1: 0.0000000 \n",
      "Iter:    27 | Cost: 0.8196225 | f1: 0.0000000 \n",
      "Iter:    28 | Cost: 0.7944279 | f1: 0.0000000 \n",
      "Iter:    29 | Cost: 0.7720338 | f1: 0.0000000 \n",
      "Iter:    30 | Cost: 0.7568668 | f1: 0.0000000 \n",
      "Iter:    31 | Cost: 0.7485408 | f1: 0.0000000 \n",
      "Iter:    32 | Cost: 0.7435780 | f1: 0.0000000 \n",
      "Iter:    33 | Cost: 0.7477723 | f1: 0.0000000 \n",
      "Iter:    34 | Cost: 0.7508160 | f1: 0.0000000 \n",
      "Iter:    35 | Cost: 0.7702243 | f1: 0.0000000 \n",
      "Iter:    36 | Cost: 0.7934612 | f1: 0.0000000 \n",
      "Iter:    37 | Cost: 0.7920516 | f1: 0.0000000 \n",
      "Iter:    38 | Cost: 0.7660832 | f1: 0.0000000 \n",
      "Iter:    39 | Cost: 0.7445428 | f1: 0.0000000 \n",
      "Iter:    40 | Cost: 0.7788392 | f1: 0.0000000 \n",
      "Iter:    41 | Cost: 0.8988476 | f1: 0.0000000 \n",
      "Iter:    42 | Cost: 0.9851639 | f1: 0.0000000 \n",
      "Iter:    43 | Cost: 0.9922109 | f1: 0.0000000 \n",
      "Iter:    44 | Cost: 0.8892222 | f1: 0.0000000 \n",
      "Iter:    45 | Cost: 0.8103438 | f1: 0.0000000 \n",
      "Iter:    46 | Cost: 0.7670878 | f1: 0.0000000 \n",
      "Iter:    47 | Cost: 0.7514056 | f1: 0.0000000 \n",
      "Iter:    48 | Cost: 0.7449124 | f1: 0.0000000 \n",
      "Iter:    49 | Cost: 0.7574435 | f1: 0.0000000 \n",
      "Iter:    50 | Cost: 0.7985437 | f1: 0.0000000 \n",
      "Iter:    51 | Cost: 0.8231623 | f1: 0.0000000 \n",
      "Iter:    52 | Cost: 0.8310040 | f1: 0.0000000 \n",
      "Iter:    53 | Cost: 0.7909467 | f1: 0.0000000 \n",
      "Iter:    54 | Cost: 0.7461785 | f1: 0.0000000 \n",
      "Iter:    55 | Cost: 0.7566422 | f1: 0.0000000 \n",
      "Iter:    56 | Cost: 0.8051157 | f1: 0.0000000 \n",
      "Iter:    57 | Cost: 0.8299796 | f1: 0.0000000 \n",
      "Iter:    58 | Cost: 0.8522957 | f1: 0.0000000 \n",
      "Iter:    59 | Cost: 0.8539227 | f1: 0.0000000 \n",
      "Iter:    60 | Cost: 0.8036927 | f1: 0.0000000 \n",
      "Iter:    61 | Cost: 0.7543270 | f1: 0.0000000 \n",
      "Iter:    62 | Cost: 0.7420088 | f1: 0.0000000 \n",
      "Iter:    63 | Cost: 0.7444460 | f1: 0.0000000 \n",
      "Iter:    64 | Cost: 0.7430979 | f1: 0.0000000 \n",
      "Iter:    65 | Cost: 0.7422776 | f1: 0.0000000 \n",
      "Iter:    66 | Cost: 0.7430942 | f1: 0.0000000 \n",
      "Iter:    67 | Cost: 0.7425443 | f1: 0.0000000 \n",
      "Iter:    68 | Cost: 0.7442437 | f1: 0.0000000 \n",
      "Iter:    69 | Cost: 0.7523525 | f1: 0.0000000 \n",
      "Iter:    70 | Cost: 0.7516556 | f1: 0.0000000 \n",
      "Iter:    71 | Cost: 0.7439573 | f1: 0.0000000 \n",
      "Iter:    72 | Cost: 0.7431066 | f1: 0.0000000 \n",
      "Iter:    73 | Cost: 0.7430652 | f1: 0.0000000 \n",
      "Iter:    74 | Cost: 0.7459315 | f1: 0.0000000 \n",
      "Iter:    75 | Cost: 0.7478369 | f1: 0.0000000 \n",
      "Iter:    76 | Cost: 0.7506995 | f1: 0.0000000 \n",
      "Iter:    77 | Cost: 0.7488587 | f1: 0.0000000 \n",
      "Iter:    78 | Cost: 0.7431550 | f1: 0.0000000 \n",
      "Iter:    79 | Cost: 0.7572680 | f1: 0.0000000 \n",
      "Iter:    80 | Cost: 0.7976778 | f1: 0.0000000 \n",
      "Iter:    81 | Cost: 0.8243742 | f1: 0.0000000 \n",
      "Iter:    82 | Cost: 0.8050513 | f1: 0.0000000 \n",
      "Iter:    83 | Cost: 0.7820416 | f1: 0.0000000 \n",
      "Iter:    84 | Cost: 0.7882849 | f1: 0.0000000 \n",
      "Iter:    85 | Cost: 0.7881789 | f1: 0.0000000 \n",
      "Iter:    86 | Cost: 0.7602775 | f1: 0.0000000 \n",
      "Iter:    87 | Cost: 0.7493997 | f1: 0.0000000 \n",
      "Iter:    88 | Cost: 0.7444723 | f1: 0.0000000 \n",
      "Iter:    89 | Cost: 0.7439654 | f1: 0.0000000 \n",
      "Iter:    90 | Cost: 0.7553816 | f1: 0.0000000 \n",
      "Iter:    91 | Cost: 0.7750678 | f1: 0.0000000 \n",
      "Iter:    92 | Cost: 0.7958193 | f1: 0.0000000 \n",
      "Iter:    93 | Cost: 0.7952955 | f1: 0.0000000 \n",
      "Iter:    94 | Cost: 0.7889227 | f1: 0.0000000 \n",
      "Iter:    95 | Cost: 0.7725345 | f1: 0.0000000 \n",
      "Iter:    96 | Cost: 0.7543580 | f1: 0.0000000 \n",
      "Iter:    97 | Cost: 0.7476792 | f1: 0.0000000 \n",
      "Iter:    98 | Cost: 0.7472570 | f1: 0.0000000 \n",
      "Iter:    99 | Cost: 0.7554506 | f1: 0.0000000 \n",
      "Iter:   100 | Cost: 0.7546351 | f1: 0.0000000 \n",
      "Iter:   101 | Cost: 0.7539896 | f1: 0.0000000 \n",
      "Iter:   102 | Cost: 0.7535119 | f1: 0.0000000 \n",
      "Iter:   103 | Cost: 0.7532542 | f1: 0.0000000 \n",
      "Iter:   104 | Cost: 0.7448392 | f1: 0.0000000 \n",
      "Iter:   105 | Cost: 0.7525365 | f1: 0.0000000 \n",
      "Iter:   106 | Cost: 0.7773315 | f1: 0.0000000 \n",
      "Iter:   107 | Cost: 0.8129523 | f1: 0.0000000 \n",
      "Iter:   108 | Cost: 0.8412495 | f1: 0.0000000 \n",
      "Iter:   109 | Cost: 0.8435242 | f1: 0.0000000 \n",
      "Iter:   110 | Cost: 0.8289203 | f1: 0.0000000 \n",
      "Iter:   111 | Cost: 0.7698538 | f1: 0.0000000 \n",
      "Iter:   112 | Cost: 0.7496146 | f1: 0.0000000 \n",
      "Iter:   113 | Cost: 0.7456193 | f1: 0.0000000 \n",
      "Iter:   114 | Cost: 0.7455846 | f1: 0.0000000 \n",
      "Iter:   115 | Cost: 0.7460259 | f1: 0.0000000 \n",
      "Iter:   116 | Cost: 0.7478578 | f1: 0.0000000 \n",
      "Iter:   117 | Cost: 0.7832455 | f1: 0.0000000 \n",
      "Iter:   118 | Cost: 0.8201757 | f1: 0.0000000 \n",
      "Iter:   119 | Cost: 0.8677933 | f1: 0.0000000 \n",
      "Iter:   120 | Cost: 0.9121779 | f1: 0.0000000 \n",
      "Iter:   121 | Cost: 0.8805405 | f1: 0.0000000 \n",
      "Iter:   122 | Cost: 0.8272279 | f1: 0.0000000 \n",
      "Iter:   123 | Cost: 0.7790363 | f1: 0.0000000 \n",
      "Iter:   124 | Cost: 0.7477246 | f1: 0.0000000 \n",
      "Iter:   125 | Cost: 0.7514113 | f1: 0.0000000 \n",
      "Iter:   126 | Cost: 0.7803642 | f1: 0.0000000 \n",
      "Iter:   127 | Cost: 0.8261788 | f1: 0.0000000 \n",
      "Iter:   128 | Cost: 0.8620651 | f1: 0.0000000 \n",
      "Iter:   129 | Cost: 0.8641917 | f1: 0.0000000 \n",
      "Iter:   130 | Cost: 0.8582904 | f1: 0.0000000 \n",
      "Iter:   131 | Cost: 0.8340450 | f1: 0.0000000 \n",
      "Iter:   132 | Cost: 0.7890648 | f1: 0.0000000 \n",
      "Iter:   133 | Cost: 0.7536854 | f1: 0.0000000 \n",
      "Iter:   134 | Cost: 0.7400230 | f1: 0.0000000 \n",
      "Iter:   135 | Cost: 0.7453597 | f1: 0.0000000 \n",
      "Iter:   136 | Cost: 0.7535449 | f1: 0.0000000 \n",
      "Iter:   137 | Cost: 0.7520472 | f1: 0.0000000 \n",
      "Iter:   138 | Cost: 0.7504356 | f1: 0.0000000 \n",
      "Iter:   139 | Cost: 0.7430177 | f1: 0.0000000 \n",
      "Iter:   140 | Cost: 0.7421374 | f1: 0.0000000 \n",
      "Iter:   141 | Cost: 0.7514312 | f1: 0.0000000 \n",
      "Iter:   142 | Cost: 0.7505994 | f1: 0.0000000 \n",
      "Iter:   143 | Cost: 0.7452540 | f1: 0.0000000 \n",
      "Iter:   144 | Cost: 0.7422548 | f1: 0.0000000 \n",
      "Iter:   145 | Cost: 0.7408901 | f1: 0.0000000 \n",
      "Iter:   146 | Cost: 0.7405224 | f1: 0.0000000 \n",
      "Iter:   147 | Cost: 0.7399961 | f1: 0.0000000 \n",
      "Iter:   148 | Cost: 0.7440122 | f1: 0.0000000 \n",
      "Iter:   149 | Cost: 0.7496207 | f1: 0.0000000 \n",
      "Iter:   150 | Cost: 0.7662115 | f1: 0.0000000 \n",
      "Iter:   151 | Cost: 0.8169714 | f1: 0.0000000 \n",
      "Iter:   152 | Cost: 0.7999874 | f1: 0.0000000 \n",
      "Iter:   153 | Cost: 0.7773927 | f1: 0.0000000 \n",
      "Iter:   154 | Cost: 0.7674222 | f1: 0.0000000 \n",
      "Iter:   155 | Cost: 0.7657268 | f1: 0.0000000 \n",
      "Iter:   156 | Cost: 0.7492353 | f1: 0.0000000 \n",
      "Iter:   157 | Cost: 0.7405969 | f1: 0.0000000 \n",
      "Iter:   158 | Cost: 0.7558631 | f1: 0.0000000 \n",
      "Iter:   159 | Cost: 0.7742089 | f1: 0.0000000 \n",
      "Iter:   160 | Cost: 0.7727860 | f1: 0.0000000 \n",
      "Iter:   161 | Cost: 0.7652318 | f1: 0.0000000 \n",
      "Iter:   162 | Cost: 0.7451564 | f1: 0.0000000 \n",
      "Iter:   163 | Cost: 0.7444377 | f1: 0.0000000 \n",
      "Iter:   164 | Cost: 0.8159263 | f1: 0.0000000 \n",
      "Iter:   165 | Cost: 0.9651938 | f1: 0.0281690 \n",
      "New Best:\n",
      "Iter:   166 | Cost: 1.0340558 | f1: 0.4049708 \n",
      "Iter:   167 | Cost: 0.9669971 | f1: 0.0610169 \n",
      "Iter:   168 | Cost: 0.7907101 | f1: 0.0000000 \n",
      "Iter:   169 | Cost: 0.7450972 | f1: 0.0000000 \n",
      "Iter:   170 | Cost: 0.8113300 | f1: 0.0000000 \n",
      "Iter:   171 | Cost: 0.8645176 | f1: 0.0000000 \n",
      "Iter:   172 | Cost: 0.8487329 | f1: 0.0000000 \n",
      "Iter:   173 | Cost: 0.8052844 | f1: 0.0000000 \n",
      "Iter:   174 | Cost: 0.7480855 | f1: 0.0000000 \n",
      "Iter:   175 | Cost: 0.7782727 | f1: 0.0000000 \n",
      "Iter:   176 | Cost: 0.7514450 | f1: 0.0000000 \n",
      "Iter:   177 | Cost: 0.7597985 | f1: 0.0000000 \n",
      "Iter:   178 | Cost: 0.7585004 | f1: 0.0000000 \n",
      "Iter:   179 | Cost: 0.7569774 | f1: 0.0000000 \n",
      "Iter:   180 | Cost: 0.7506077 | f1: 0.0000000 \n",
      "Iter:   181 | Cost: 0.7507026 | f1: 0.0000000 \n",
      "Iter:   182 | Cost: 0.7514407 | f1: 0.0000000 \n",
      "Iter:   183 | Cost: 0.7599801 | f1: 0.0000000 \n",
      "Iter:   184 | Cost: 0.7931396 | f1: 0.0000000 \n",
      "Iter:   185 | Cost: 0.7909296 | f1: 0.0000000 \n",
      "Iter:   186 | Cost: 0.7470783 | f1: 0.0000000 \n",
      "Iter:   187 | Cost: 0.7687423 | f1: 0.0000000 \n",
      "Iter:   188 | Cost: 0.8511803 | f1: 0.0000000 \n",
      "Iter:   189 | Cost: 0.8804727 | f1: 0.0000000 \n",
      "Iter:   190 | Cost: 0.8953172 | f1: 0.0000000 \n",
      "Iter:   191 | Cost: 1.0115693 | f1: 0.3979957 \n",
      "Iter:   192 | Cost: 0.9951536 | f1: 0.1821862 \n",
      "Iter:   193 | Cost: 0.8539870 | f1: 0.0000000 \n",
      "Iter:   194 | Cost: 0.7490217 | f1: 0.0000000 \n",
      "Iter:   195 | Cost: 0.7852193 | f1: 0.0000000 \n",
      "Iter:   196 | Cost: 0.8418879 | f1: 0.0000000 \n",
      "Iter:   197 | Cost: 0.8992174 | f1: 0.0000000 \n",
      "Iter:   198 | Cost: 0.8625074 | f1: 0.0000000 \n",
      "Iter:   199 | Cost: 0.8128427 | f1: 0.0000000 \n",
      "Iter:   200 | Cost: 0.7913740 | f1: 0.0000000 \n",
      "Iter:   201 | Cost: 0.7614515 | f1: 0.0000000 \n",
      "Iter:   202 | Cost: 0.7467614 | f1: 0.0000000 \n",
      "Iter:   203 | Cost: 0.7450181 | f1: 0.0000000 \n",
      "Iter:   204 | Cost: 0.7480644 | f1: 0.0000000 \n",
      "Iter:   205 | Cost: 0.7616599 | f1: 0.0000000 \n",
      "Iter:   206 | Cost: 0.7598250 | f1: 0.0000000 \n",
      "Iter:   207 | Cost: 0.7469325 | f1: 0.0000000 \n",
      "Iter:   208 | Cost: 0.7445718 | f1: 0.0000000 \n",
      "Iter:   209 | Cost: 0.7466412 | f1: 0.0000000 \n",
      "Iter:   210 | Cost: 0.7522104 | f1: 0.0000000 \n",
      "Iter:   211 | Cost: 0.7605410 | f1: 0.0000000 \n",
      "Iter:   212 | Cost: 0.7529563 | f1: 0.0000000 \n",
      "Iter:   213 | Cost: 0.7438039 | f1: 0.0000000 \n",
      "Iter:   214 | Cost: 0.7542182 | f1: 0.0000000 \n",
      "Iter:   215 | Cost: 0.7700764 | f1: 0.0000000 \n",
      "Iter:   216 | Cost: 0.7861974 | f1: 0.0000000 \n",
      "Iter:   217 | Cost: 0.7955566 | f1: 0.0000000 \n",
      "Iter:   218 | Cost: 0.7943002 | f1: 0.0000000 \n",
      "Iter:   219 | Cost: 0.7714186 | f1: 0.0000000 \n",
      "Iter:   220 | Cost: 0.7542642 | f1: 0.0000000 \n",
      "Iter:   221 | Cost: 0.7436204 | f1: 0.0000000 \n",
      "Iter:   222 | Cost: 0.7541214 | f1: 0.0000000 \n",
      "Iter:   223 | Cost: 0.7859153 | f1: 0.0000000 \n",
      "Iter:   224 | Cost: 0.8200276 | f1: 0.0000000 \n",
      "Iter:   225 | Cost: 0.8257861 | f1: 0.0000000 \n",
      "Iter:   226 | Cost: 0.8171156 | f1: 0.0000000 \n",
      "Iter:   227 | Cost: 0.7892404 | f1: 0.0000000 \n",
      "Iter:   228 | Cost: 0.7807553 | f1: 0.0000000 \n",
      "Iter:   229 | Cost: 0.7633948 | f1: 0.0000000 \n",
      "Iter:   230 | Cost: 0.7450016 | f1: 0.0000000 \n",
      "Iter:   231 | Cost: 0.7426537 | f1: 0.0000000 \n",
      "Iter:   232 | Cost: 0.7568711 | f1: 0.0000000 \n",
      "Iter:   233 | Cost: 0.7762402 | f1: 0.0000000 \n",
      "Iter:   234 | Cost: 0.7857663 | f1: 0.0000000 \n",
      "Iter:   235 | Cost: 0.7809483 | f1: 0.0000000 \n",
      "Iter:   236 | Cost: 0.7729208 | f1: 0.0000000 \n",
      "Iter:   237 | Cost: 0.7537607 | f1: 0.0000000 \n",
      "Iter:   238 | Cost: 0.7467258 | f1: 0.0000000 \n",
      "Iter:   239 | Cost: 0.7424449 | f1: 0.0000000 \n",
      "Iter:   240 | Cost: 0.7427931 | f1: 0.0000000 \n",
      "Iter:   241 | Cost: 0.7440314 | f1: 0.0000000 \n",
      "Iter:   242 | Cost: 0.7463581 | f1: 0.0000000 \n",
      "Iter:   243 | Cost: 0.7461910 | f1: 0.0000000 \n",
      "Iter:   244 | Cost: 0.7439257 | f1: 0.0000000 \n",
      "Iter:   245 | Cost: 0.7430117 | f1: 0.0000000 \n",
      "Iter:   246 | Cost: 0.7445275 | f1: 0.0000000 \n",
      "Iter:   247 | Cost: 0.7444454 | f1: 0.0000000 \n",
      "Iter:   248 | Cost: 0.7430021 | f1: 0.0000000 \n",
      "Iter:   249 | Cost: 0.7426265 | f1: 0.0000000 \n",
      "Iter:   250 | Cost: 0.7432772 | f1: 0.0000000 \n"
     ]
    }
   ],
   "source": [
    "weights = weights_init\n",
    "bias = bias_init\n",
    "\n",
    "wbest = 0\n",
    "bbest = 0\n",
    "abest = 0\n",
    "ccost = 0 \n",
    "for it in range(250):\n",
    "\n",
    "    # weights update by one optimizer step\n",
    "\n",
    "    batch_index = np.random.randint(0, len(X), (batch_size,))\n",
    "    X_batch = X[batch_index]\n",
    "    Y_batch = Y[batch_index]\n",
    "    weights, bias, _, _ = opt.step(cost, weights, bias, X_batch, Y_batch)\n",
    "\n",
    "    # Compute the accuracy\n",
    "    predictions = [np.sign(variational_classifier(weights, bias, x)) for x in X]\n",
    "    \n",
    "    '''if accuracy(Y, predictions) > abest:\n",
    "        wbest = weights\n",
    "        bbest = bias\n",
    "        abest = accuracy(Y, predictions)\n",
    "        print('New best')\n",
    "\n",
    "    acc = accuracy(Y, predictions)\n",
    "\n",
    "    print(\n",
    "        \"Iter: {:5d} | Cost: {:0.7f} | Accuracy: {:0.7f} \".format(\n",
    "            it + 1, cost(weights, bias, X, Y), acc\n",
    "        )\n",
    "    )'''\n",
    "    prec = metrics.f1_score(Y, predictions, average='binary', pos_label=1)\n",
    "    if  prec > abest or ((prec == abest) and (cost(weights, bias, X, Y) < ccost)):\n",
    "        wbest = weights\n",
    "        bbest = bias\n",
    "        abest = prec\n",
    "        ccost = cost(weights, bias, X, Y)\n",
    "        print(\"New Best:\")\n",
    "    print(\n",
    "        \"Iter: {:5d} | Cost: {:0.7f} | f1: {:0.7f} \".format(\n",
    "            it + 1, cost(weights, bias, X, Y), prec\n",
    "        )\n",
    "    )\n",
    "    \n",
    "    "
   ]
  },
  {
   "cell_type": "code",
   "execution_count": 36,
   "id": "ee2dceeb-5b76-4ec7-9ebb-efb9e562cf8a",
   "metadata": {},
   "outputs": [],
   "source": [
    "Yte = np.array(label_test * 2 - np.ones(len(label_test)))\n",
    "Xte = np.array(normalize(sample_test))"
   ]
  },
  {
   "cell_type": "code",
   "execution_count": 37,
   "id": "4416ed73-4c7d-44e3-a539-9dba3191327d",
   "metadata": {},
   "outputs": [
    {
     "name": "stdout",
     "output_type": "stream",
     "text": [
      "Cost: 0.9138780976123758, Accuracy: 71.0%\n"
     ]
    }
   ],
   "source": [
    "predictions = [np.sign(variational_classifier(wbest, bbest, x)) for x in Xte]\n",
    "pred = [np.sign(variational_classifier(wbest, bbest, x)) for x in X]\n",
    "acc = accuracy(Yte, predictions)\n",
    "\n",
    "print(f'Cost: {cost(wbest, bbest, Xte, Yte)}, Accuracy: {np.round(acc, 2) * 100}%')"
   ]
  },
  {
   "cell_type": "code",
   "execution_count": 38,
   "id": "4d2c6851-a0ea-4637-9f25-22a4a0b80c53",
   "metadata": {},
   "outputs": [
    {
     "name": "stdout",
     "output_type": "stream",
     "text": [
      "              precision    recall  f1-score   support\n",
      "\n",
      "        -1.0       1.00      0.71      0.83       280\n",
      "         1.0       0.00      0.00      0.00         0\n",
      "\n",
      "    accuracy                           0.71       280\n",
      "   macro avg       0.50      0.35      0.41       280\n",
      "weighted avg       1.00      0.71      0.83       280\n",
      "\n"
     ]
    }
   ],
   "source": [
    "print(metrics.classification_report(predictions,Yte))"
   ]
  },
  {
   "cell_type": "code",
   "execution_count": 39,
   "id": "a4a2955a-d877-4885-ad84-5f31458a7c94",
   "metadata": {},
   "outputs": [
    {
     "name": "stdout",
     "output_type": "stream",
     "text": [
      "              precision    recall  f1-score   support\n",
      "\n",
      "        -1.0       1.00      0.71      0.83       280\n",
      "         1.0       0.00      0.00      0.00         0\n",
      "\n",
      "    accuracy                           0.71       280\n",
      "   macro avg       0.50      0.35      0.41       280\n",
      "weighted avg       1.00      0.71      0.83       280\n",
      "\n"
     ]
    }
   ],
   "source": [
    "print(metrics.classification_report(predictions,Yte))"
   ]
  },
  {
   "cell_type": "code",
   "execution_count": null,
   "id": "dcedeada-a82f-4e82-b738-6a862dc801c8",
   "metadata": {},
   "outputs": [],
   "source": [
    "print(f'''\n",
    "\n",
    "    Precision: {round(100*metrics.precision_score(predictions,Yte),2)}%\n",
    "    Recall: {round(100*metrics.recall_score(predictions,Yte),2)}%\n",
    "    f1: {round(100*metrics.f1_score(predictions,Yte),2)}%\n",
    "    Accuracy: {round(100*metrics.accuracy_score(predictions,Yte),2)}%\n",
    "    Balanced accuracy: {round(100*metrics.balanced_accuracy_score(Yte, predictions),2)}%\n",
    "    Matthew corcorref: {round(100*metrics.matthews_corrcoef(predictions,Yte),2)}%\n",
    "    ''')"
   ]
  },
  {
   "cell_type": "code",
   "execution_count": null,
   "id": "2e5308be-6630-4637-a387-b4f796aeb98d",
   "metadata": {},
   "outputs": [],
   "source": []
  },
  {
   "cell_type": "code",
   "execution_count": null,
   "id": "76734cbe-a1df-4f23-868b-81702446e42a",
   "metadata": {},
   "outputs": [],
   "source": []
  },
  {
   "cell_type": "code",
   "execution_count": null,
   "id": "c910e67a-814b-405d-a7de-9db82e4f1a09",
   "metadata": {},
   "outputs": [],
   "source": []
  }
 ],
 "metadata": {
  "kernelspec": {
   "display_name": "Python 3 (ipykernel)",
   "language": "python",
   "name": "python3"
  },
  "language_info": {
   "codemirror_mode": {
    "name": "ipython",
    "version": 3
   },
   "file_extension": ".py",
   "mimetype": "text/x-python",
   "name": "python",
   "nbconvert_exporter": "python",
   "pygments_lexer": "ipython3",
   "version": "3.10.6"
  }
 },
 "nbformat": 4,
 "nbformat_minor": 5
}
