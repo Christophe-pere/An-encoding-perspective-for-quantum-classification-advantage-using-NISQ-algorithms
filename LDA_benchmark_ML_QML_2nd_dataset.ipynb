{
 "cells": [
  {
   "cell_type": "markdown",
   "id": "d41d3fa6-0ae0-490d-a02b-0dbf81799488",
   "metadata": {},
   "source": [
    "# Quantum benchmark"
   ]
  },
  {
   "cell_type": "markdown",
   "id": "d6011e42-1fab-4f9f-ab99-f4f08607517e",
   "metadata": {},
   "source": [
    "## I - Introduction"
   ]
  },
  {
   "cell_type": "code",
   "execution_count": null,
   "id": "13b4f6b4-240b-4b7f-abe4-4e74b3b8cc8a",
   "metadata": {},
   "outputs": [],
   "source": []
  },
  {
   "cell_type": "markdown",
   "id": "bd5492ce-4f08-4755-b4c2-efd698139101",
   "metadata": {},
   "source": [
    "## II - Packages"
   ]
  },
  {
   "cell_type": "code",
   "execution_count": 1,
   "id": "90371200-0133-46ab-a205-d0f6b8858e55",
   "metadata": {},
   "outputs": [],
   "source": [
    "import pandas as pd\n",
    "import matplotlib.pyplot as plt\n",
    "import numpy as np\n",
    "from sklearn.model_selection import train_test_split\n",
    "from sklearn.preprocessing import StandardScaler\n",
    "from sklearn.decomposition import PCA\n",
    "from sklearn.discriminant_analysis import LinearDiscriminantAnalysis as LDA\n",
    "from sklearn.preprocessing import MinMaxScaler\n",
    "from sklearn.svm import SVC\n",
    "from sklearn import metrics\n",
    "from sklearn.ensemble import RandomForestClassifier\n",
    "from sklearn.linear_model import LogisticRegression\n",
    "from sklearn.tree import DecisionTreeClassifier\n",
    "from sklearn.preprocessing import normalize\n",
    "from sklearn.model_selection import cross_val_score, KFold\n",
    "#Import classical libraries\n",
    "from sklearn.neighbors import KNeighborsClassifier\n",
    "from sklearn.naive_bayes import GaussianNB\n",
    "from sklearn.svm import SVC\n",
    "from sklearn.ensemble import RandomForestClassifier\n",
    "from sklearn.model_selection import train_test_split\n",
    "from sklearn import datasets\n",
    "import matplotlib.pyplot as plt\n",
    "\n",
    "plt.style.use('ggplot')\n",
    "\n",
    "import functools\n",
    "\n",
    "from qiskit import BasicAer\n",
    "from qiskit.circuit.library import ZZFeatureMap\n",
    "from qiskit.utils import QuantumInstance, algorithm_globals\n",
    "from qiskit_machine_learning.algorithms import QSVC\n",
    "from qiskit_machine_learning.kernels import QuantumKernel\n",
    "from qiskit_machine_learning.datasets import ad_hoc_data\n",
    "import logging\n",
    "\n",
    "import pennylane as qml\n",
    "from pennylane.templates.embeddings import AngleEmbedding, AmplitudeEmbedding\n",
    "from pennylane.optimize import AdamOptimizer\n",
    "\n",
    "from qiskit.algorithms.optimizers import COBYLA\n",
    "from qiskit.circuit.library import TwoLocal, ZZFeatureMap\n",
    "import qiskit"
   ]
  },
  {
   "cell_type": "code",
   "execution_count": 2,
   "id": "c4552ad2-d5ac-4904-8e45-eafa355e4594",
   "metadata": {},
   "outputs": [],
   "source": [
    "import warnings\n",
    "warnings.filterwarnings('ignore')"
   ]
  },
  {
   "cell_type": "markdown",
   "id": "1598c94c-fdcf-41cd-a4ea-e262932c7e0f",
   "metadata": {},
   "source": [
    "## III - Data "
   ]
  },
  {
   "cell_type": "code",
   "execution_count": 3,
   "id": "e683f3b5-6021-4eb7-bc53-539a5cd79bfc",
   "metadata": {},
   "outputs": [],
   "source": [
    "# Read out CSV\n",
    "\n",
    "df = pd.read_csv('santander_transaction.csv', sep=',')"
   ]
  },
  {
   "cell_type": "code",
   "execution_count": 4,
   "id": "10255383-ae13-42c1-8d19-b5cf9eca4d17",
   "metadata": {},
   "outputs": [
    {
     "data": {
      "text/plain": [
       "(1000, 201)"
      ]
     },
     "execution_count": 4,
     "metadata": {},
     "output_type": "execute_result"
    }
   ],
   "source": [
    "df.shape"
   ]
  },
  {
   "cell_type": "code",
   "execution_count": 5,
   "id": "bf69c7f1-b10e-4b54-89ec-89dd5829ac42",
   "metadata": {},
   "outputs": [],
   "source": [
    "%%script false --no-raise-error\n",
    "\n",
    "import sweetviz as sv\n",
    "\n",
    "#EDA using Autoviz\n",
    "sweet_report = sv.analyze(df)\n",
    "\n",
    "#Saving results to HTML file\n",
    "sweet_report.show_html('sweet_report.html')"
   ]
  },
  {
   "cell_type": "markdown",
   "id": "c4ff48fa-d03b-435d-9343-67186c068b34",
   "metadata": {},
   "source": [
    "## IV - Modelisation"
   ]
  },
  {
   "cell_type": "markdown",
   "id": "3dbe1bb7-d7eb-412b-a291-bbeb654766f5",
   "metadata": {},
   "source": [
    "### Classical"
   ]
  },
  {
   "cell_type": "code",
   "execution_count": 6,
   "id": "d7f6037b-3b1c-4a2c-8a9e-df1d432cafa4",
   "metadata": {},
   "outputs": [],
   "source": [
    "\n",
    "df_labels = df['target']\n",
    "df.drop(['target'],axis = 1,inplace = True)"
   ]
  },
  {
   "cell_type": "code",
   "execution_count": 7,
   "id": "249ef3a0-7be3-4234-8be6-630db2cd267f",
   "metadata": {},
   "outputs": [],
   "source": [
    "X_train, X_test, y_train, y_test = train_test_split(df, df_labels, test_size=0.2, random_state=42)"
   ]
  },
  {
   "cell_type": "markdown",
   "id": "b1251e3e-c8ed-4e57-a790-1fa8003f8c31",
   "metadata": {},
   "source": [
    "## Quantum Approaches"
   ]
  },
  {
   "cell_type": "code",
   "execution_count": 8,
   "id": "12b4f425-f8b1-40b4-8c3f-4502a9a01a3c",
   "metadata": {},
   "outputs": [
    {
     "data": {
      "text/plain": [
       "array([0., 1.])"
      ]
     },
     "execution_count": 8,
     "metadata": {},
     "output_type": "execute_result"
    }
   ],
   "source": [
    "np.unique(df_labels)"
   ]
  },
  {
   "cell_type": "code",
   "execution_count": 9,
   "id": "a948c1c2-cb55-49b2-bb4c-c2d2fdca527a",
   "metadata": {},
   "outputs": [],
   "source": [
    "lda_1 = LDA(n_components=1)\n",
    "lda_2 = LDA(n_components=1)"
   ]
  },
  {
   "cell_type": "code",
   "execution_count": 11,
   "id": "b921a949-e3bd-45b6-b0e0-a84f96788811",
   "metadata": {},
   "outputs": [],
   "source": [
    "lda_1.fit(X_train.iloc[:, :100], y_train)\n",
    "feature_1 = lda_1.transform(X_train.iloc[:, :100])\n",
    "lda_2.fit(X_train.iloc[:, 100:], y_train)\n",
    "feature_2 = lda_2.transform(X_train.iloc[:, 100:])"
   ]
  },
  {
   "cell_type": "code",
   "execution_count": 13,
   "id": "333f641b-b9b7-498d-9b52-26f2fac93938",
   "metadata": {},
   "outputs": [],
   "source": [
    "test_1 = lda_1.transform(X_test.iloc[:, :100])\n",
    "test_2 = lda_2.transform(X_test.iloc[:, 100:])"
   ]
  },
  {
   "cell_type": "code",
   "execution_count": 15,
   "id": "e05a6064-c96b-4446-8da3-d160af9592bd",
   "metadata": {},
   "outputs": [],
   "source": [
    "\n",
    "features_lda_1 = pd.DataFrame(feature_1)\n",
    "features_lda_2 = pd.DataFrame(feature_2)\n",
    "features_lda = features_lda_1.join(features_lda_2, lsuffix=\"_left\", rsuffix=\"_right\")"
   ]
  },
  {
   "cell_type": "code",
   "execution_count": 17,
   "id": "b32050d4-fbc7-4ab4-ba40-f3a56ae6dff1",
   "metadata": {},
   "outputs": [],
   "source": [
    "test_lda_1 =pd.DataFrame(test_1)\n",
    "test_lda_2 =pd.DataFrame(test_2)\n",
    "test_lda = test_lda_1.join(test_lda_2, lsuffix=\"_left\", rsuffix=\"_right\")"
   ]
  },
  {
   "cell_type": "code",
   "execution_count": 16,
   "id": "a1de5099-55d4-4d2d-9ea4-eaf60c27b16c",
   "metadata": {},
   "outputs": [],
   "source": [
    "n_dim = len(features_lda.columns)"
   ]
  },
  {
   "cell_type": "markdown",
   "id": "bd626d5c-ff6a-443a-9700-10a93c24dc74",
   "metadata": {},
   "source": [
    "## Split train test "
   ]
  },
  {
   "cell_type": "code",
   "execution_count": 19,
   "id": "afaf0912-bdbf-4460-ae4c-43016d1f5a57",
   "metadata": {},
   "outputs": [],
   "source": [
    "# Split dataset into train and test\n",
    "\n",
    "#sample_train, sample_test, label_train, label_test = train_test_split(\n",
    "#     features_lda, y_train, test_size=0.2, random_state=22)\n",
    "\n",
    "sample_train = features_lda.to_numpy()\n",
    "sample_test = test_lda.to_numpy()\n",
    "label_train = y_train\n",
    "label_test = y_test\n",
    "# Normalize\n",
    "\n",
    "std_scale = StandardScaler().fit(sample_train)\n",
    "sample_train = std_scale.transform(sample_train)\n",
    "sample_test = std_scale.transform(sample_test)\n",
    "\n",
    "# Scale for better fit within the feature map\n",
    "\n",
    "#samples = np.append(sample_train, sample_test, axis=0)\n",
    "minmax_scale = MinMaxScaler((-1, 1)).fit(sample_train)\n",
    "sample_train = minmax_scale.transform(sample_train)\n",
    "sample_test = minmax_scale.transform(sample_test)\n",
    "\n",
    "# Select a sample for a better control of the research and wall time\n",
    "\n",
    "\n",
    "#test_size = 200 #40\n",
    "#sample_test = sample_test[:test_size]\n",
    "#label_test = label_test[:test_size]"
   ]
  },
  {
   "cell_type": "code",
   "execution_count": 20,
   "id": "d815edbe-c5e7-42d6-9489-39ebb940cda4",
   "metadata": {},
   "outputs": [],
   "source": [
    "# Basic parameters for hybrid model\n",
    "\n",
    "seed = 8500\n",
    "feature_dim = n_dim\n",
    "num_reps = 2\n",
    "num_shots =256 \n"
   ]
  },
  {
   "cell_type": "markdown",
   "id": "a17bc9af-4a1c-453d-be99-d54b9e045628",
   "metadata": {},
   "source": [
    "## Hybrid"
   ]
  },
  {
   "cell_type": "code",
   "execution_count": 21,
   "id": "c2ce7078-9255-4913-b6aa-7f05a0e077c3",
   "metadata": {},
   "outputs": [],
   "source": [
    "# Define feature_map\n",
    "\n",
    "feature_map = ZZFeatureMap(feature_dimension=feature_dim, reps=num_reps)\n",
    "\n",
    "# Define the backend\n",
    "backend = QuantumInstance(\n",
    "    BasicAer.get_backend(\"qasm_simulator\"), shots=num_shots, seed_simulator=seed, seed_transpiler=seed\n",
    ")\n",
    "\n",
    "# Define the kernel\n",
    "\n",
    "kernel = QuantumKernel(feature_map=feature_map, quantum_instance=backend)\n",
    "\n",
    "# Model run\n",
    "svc = SVC(kernel=kernel.evaluate)\n",
    "#svc.fit(sample_train, label_train)\n",
    "#score = svc.score(sample_test, label_test)\n",
    "\n",
    "#print(f\"Callable kernel classification test score: {score}\")"
   ]
  },
  {
   "cell_type": "code",
   "execution_count": 19,
   "id": "b8fd86d8-bec9-42ac-8543-c69c973a7f01",
   "metadata": {},
   "outputs": [],
   "source": [
    "#result_predict = svc.predict(sample_test)"
   ]
  },
  {
   "cell_type": "code",
   "execution_count": 20,
   "id": "ee71fc2a-46dc-46d1-8f51-8e3df5723407",
   "metadata": {},
   "outputs": [],
   "source": [
    "#print(metrics.classification_report(label_test,result_predict))"
   ]
  },
  {
   "cell_type": "code",
   "execution_count": 22,
   "id": "7c063aa2-2125-47a9-adf1-ac7f53444551",
   "metadata": {
    "tags": []
   },
   "outputs": [],
   "source": [
    "from sklearn.model_selection import cross_validate\n",
    "from tqdm import tqdm\n",
    "def evaluate_ml_model(_models, X, y, n_fold=10, metric='precision'):\n",
    "    ''' Function to evaluate a ML and QML model with a list of metrics\n",
    "    \n",
    "    \n",
    "    '''\n",
    "    results = pd.DataFrame()\n",
    "    kfold = KFold(n_splits=n_fold)\n",
    "    columns = []\n",
    "    for name, model in tqdm(_models):\n",
    "        # -------------------\n",
    "        # Variables initialization \n",
    "        _df = pd.DataFrame()\n",
    "        names = []\n",
    "        means = []\n",
    "        stds = []\n",
    "        \n",
    "        # -------------------\n",
    "        # k-fold Cross validation\n",
    "        cv_results = cross_validate(model, X, y, cv=kfold, scoring=metric)\n",
    "        \n",
    "        # -------------------\n",
    "        # Compute the mean and standard deviation \n",
    "        for _name, _array in cv_results.items():\n",
    "            names.append(_name)\n",
    "            means.append(round(100*_array.mean(), 2))\n",
    "            stds.append(round(100*_array.std(), 2))\n",
    "        # -------------------\n",
    "        # Save the results in a dataframe \n",
    "        _df =  pd.DataFrame([means, stds], columns=names)\n",
    "        columns.extend([name+' mean (%)', name+' std (%)'])\n",
    "        #results = results.join(_df, on=_df.index)\n",
    "        results = results.append(_df)\n",
    "    results.index = columns\n",
    "    print(results)\n",
    "    return results"
   ]
  },
  {
   "cell_type": "code",
   "execution_count": 23,
   "id": "627ebe0d-8690-41ec-af85-590018084cf2",
   "metadata": {
    "tags": []
   },
   "outputs": [],
   "source": [
    "models = []\n",
    "models.append(('LR', LogisticRegression(max_iter=1000)))\n",
    "models.append(('KNN', KNeighborsClassifier()))\n",
    "models.append(('CART', DecisionTreeClassifier()))\n",
    "models.append(('NB', GaussianNB()))\n",
    "models.append(('SVM', SVC()))\n",
    "#models.append(('qsvc', svc))\n",
    "_metrics = ['precision', 'recall', 'f1', 'accuracy',  'matthews_corrcoef','balanced_accuracy']"
   ]
  },
  {
   "cell_type": "code",
   "execution_count": 24,
   "id": "ea8ce2a3-7a80-42fb-aa8a-80a8da10941a",
   "metadata": {
    "tags": []
   },
   "outputs": [
    {
     "name": "stderr",
     "output_type": "stream",
     "text": [
      "100%|█████████████████████████████████████████████| 5/5 [00:00<00:00, 26.46it/s]"
     ]
    },
    {
     "name": "stdout",
     "output_type": "stream",
     "text": [
      "               fit_time  score_time  test_precision  test_recall  test_f1  \\\n",
      "LR mean (%)        0.14        0.16           82.81        82.12    82.35   \n",
      "LR std (%)         0.06        0.04            4.04         6.05     4.22   \n",
      "KNN mean (%)       0.05        0.26           78.37        79.47    78.80   \n",
      "KNN std (%)        0.01        0.04            5.06         6.65     5.17   \n",
      "CART mean (%)      0.12        0.15           74.12        75.64    74.65   \n",
      "CART std (%)       0.06        0.01            5.04         6.84     4.43   \n",
      "NB mean (%)        0.03        0.14           83.05        81.06    81.93   \n",
      "NB std (%)         0.00        0.01            4.24         5.93     4.23   \n",
      "SVM mean (%)       0.43        0.24           81.16        82.58    81.72   \n",
      "SVM std (%)        0.03        0.01            4.90         6.08     4.42   \n",
      "\n",
      "               test_accuracy  test_matthews_corrcoef  test_balanced_accuracy  \n",
      "LR mean (%)            82.12                   64.06                   81.95  \n",
      "LR std (%)              4.15                    8.40                    4.32  \n",
      "KNN mean (%)           78.38                   56.61                   78.31  \n",
      "KNN std (%)             4.81                    9.66                    4.95  \n",
      "CART mean (%)          74.00                   47.99                   73.96  \n",
      "CART std (%)            4.36                    9.08                    4.59  \n",
      "NB mean (%)            81.88                   63.56                   81.67  \n",
      "NB std (%)              4.04                    8.19                    4.15  \n",
      "SVM mean (%)           81.25                   62.35                   81.05  \n",
      "SVM std (%)             4.37                    8.77                    4.50  \n"
     ]
    },
    {
     "name": "stderr",
     "output_type": "stream",
     "text": [
      "\n"
     ]
    },
    {
     "data": {
      "text/html": [
       "<div>\n",
       "<style scoped>\n",
       "    .dataframe tbody tr th:only-of-type {\n",
       "        vertical-align: middle;\n",
       "    }\n",
       "\n",
       "    .dataframe tbody tr th {\n",
       "        vertical-align: top;\n",
       "    }\n",
       "\n",
       "    .dataframe thead th {\n",
       "        text-align: right;\n",
       "    }\n",
       "</style>\n",
       "<table border=\"1\" class=\"dataframe\">\n",
       "  <thead>\n",
       "    <tr style=\"text-align: right;\">\n",
       "      <th></th>\n",
       "      <th>fit_time</th>\n",
       "      <th>score_time</th>\n",
       "      <th>test_precision</th>\n",
       "      <th>test_recall</th>\n",
       "      <th>test_f1</th>\n",
       "      <th>test_accuracy</th>\n",
       "      <th>test_matthews_corrcoef</th>\n",
       "      <th>test_balanced_accuracy</th>\n",
       "    </tr>\n",
       "  </thead>\n",
       "  <tbody>\n",
       "    <tr>\n",
       "      <th>LR mean (%)</th>\n",
       "      <td>0.14</td>\n",
       "      <td>0.16</td>\n",
       "      <td>82.81</td>\n",
       "      <td>82.12</td>\n",
       "      <td>82.35</td>\n",
       "      <td>82.12</td>\n",
       "      <td>64.06</td>\n",
       "      <td>81.95</td>\n",
       "    </tr>\n",
       "    <tr>\n",
       "      <th>LR std (%)</th>\n",
       "      <td>0.06</td>\n",
       "      <td>0.04</td>\n",
       "      <td>4.04</td>\n",
       "      <td>6.05</td>\n",
       "      <td>4.22</td>\n",
       "      <td>4.15</td>\n",
       "      <td>8.40</td>\n",
       "      <td>4.32</td>\n",
       "    </tr>\n",
       "    <tr>\n",
       "      <th>KNN mean (%)</th>\n",
       "      <td>0.05</td>\n",
       "      <td>0.26</td>\n",
       "      <td>78.37</td>\n",
       "      <td>79.47</td>\n",
       "      <td>78.80</td>\n",
       "      <td>78.38</td>\n",
       "      <td>56.61</td>\n",
       "      <td>78.31</td>\n",
       "    </tr>\n",
       "    <tr>\n",
       "      <th>KNN std (%)</th>\n",
       "      <td>0.01</td>\n",
       "      <td>0.04</td>\n",
       "      <td>5.06</td>\n",
       "      <td>6.65</td>\n",
       "      <td>5.17</td>\n",
       "      <td>4.81</td>\n",
       "      <td>9.66</td>\n",
       "      <td>4.95</td>\n",
       "    </tr>\n",
       "    <tr>\n",
       "      <th>CART mean (%)</th>\n",
       "      <td>0.12</td>\n",
       "      <td>0.15</td>\n",
       "      <td>74.12</td>\n",
       "      <td>75.64</td>\n",
       "      <td>74.65</td>\n",
       "      <td>74.00</td>\n",
       "      <td>47.99</td>\n",
       "      <td>73.96</td>\n",
       "    </tr>\n",
       "    <tr>\n",
       "      <th>CART std (%)</th>\n",
       "      <td>0.06</td>\n",
       "      <td>0.01</td>\n",
       "      <td>5.04</td>\n",
       "      <td>6.84</td>\n",
       "      <td>4.43</td>\n",
       "      <td>4.36</td>\n",
       "      <td>9.08</td>\n",
       "      <td>4.59</td>\n",
       "    </tr>\n",
       "    <tr>\n",
       "      <th>NB mean (%)</th>\n",
       "      <td>0.03</td>\n",
       "      <td>0.14</td>\n",
       "      <td>83.05</td>\n",
       "      <td>81.06</td>\n",
       "      <td>81.93</td>\n",
       "      <td>81.88</td>\n",
       "      <td>63.56</td>\n",
       "      <td>81.67</td>\n",
       "    </tr>\n",
       "    <tr>\n",
       "      <th>NB std (%)</th>\n",
       "      <td>0.00</td>\n",
       "      <td>0.01</td>\n",
       "      <td>4.24</td>\n",
       "      <td>5.93</td>\n",
       "      <td>4.23</td>\n",
       "      <td>4.04</td>\n",
       "      <td>8.19</td>\n",
       "      <td>4.15</td>\n",
       "    </tr>\n",
       "    <tr>\n",
       "      <th>SVM mean (%)</th>\n",
       "      <td>0.43</td>\n",
       "      <td>0.24</td>\n",
       "      <td>81.16</td>\n",
       "      <td>82.58</td>\n",
       "      <td>81.72</td>\n",
       "      <td>81.25</td>\n",
       "      <td>62.35</td>\n",
       "      <td>81.05</td>\n",
       "    </tr>\n",
       "    <tr>\n",
       "      <th>SVM std (%)</th>\n",
       "      <td>0.03</td>\n",
       "      <td>0.01</td>\n",
       "      <td>4.90</td>\n",
       "      <td>6.08</td>\n",
       "      <td>4.42</td>\n",
       "      <td>4.37</td>\n",
       "      <td>8.77</td>\n",
       "      <td>4.50</td>\n",
       "    </tr>\n",
       "  </tbody>\n",
       "</table>\n",
       "</div>"
      ],
      "text/plain": [
       "               fit_time  score_time  test_precision  test_recall  test_f1  \\\n",
       "LR mean (%)        0.14        0.16           82.81        82.12    82.35   \n",
       "LR std (%)         0.06        0.04            4.04         6.05     4.22   \n",
       "KNN mean (%)       0.05        0.26           78.37        79.47    78.80   \n",
       "KNN std (%)        0.01        0.04            5.06         6.65     5.17   \n",
       "CART mean (%)      0.12        0.15           74.12        75.64    74.65   \n",
       "CART std (%)       0.06        0.01            5.04         6.84     4.43   \n",
       "NB mean (%)        0.03        0.14           83.05        81.06    81.93   \n",
       "NB std (%)         0.00        0.01            4.24         5.93     4.23   \n",
       "SVM mean (%)       0.43        0.24           81.16        82.58    81.72   \n",
       "SVM std (%)        0.03        0.01            4.90         6.08     4.42   \n",
       "\n",
       "               test_accuracy  test_matthews_corrcoef  test_balanced_accuracy  \n",
       "LR mean (%)            82.12                   64.06                   81.95  \n",
       "LR std (%)              4.15                    8.40                    4.32  \n",
       "KNN mean (%)           78.38                   56.61                   78.31  \n",
       "KNN std (%)             4.81                    9.66                    4.95  \n",
       "CART mean (%)          74.00                   47.99                   73.96  \n",
       "CART std (%)            4.36                    9.08                    4.59  \n",
       "NB mean (%)            81.88                   63.56                   81.67  \n",
       "NB std (%)              4.04                    8.19                    4.15  \n",
       "SVM mean (%)           81.25                   62.35                   81.05  \n",
       "SVM std (%)             4.37                    8.77                    4.50  "
      ]
     },
     "execution_count": 24,
     "metadata": {},
     "output_type": "execute_result"
    }
   ],
   "source": [
    "df_results = pd.DataFrame()\n",
    "df_results = evaluate_ml_model(models, sample_train, label_train, n_fold=10, metric=_metrics)\n",
    "df_results "
   ]
  },
  {
   "cell_type": "code",
   "execution_count": 25,
   "id": "77a5dd53-d18a-4b66-963f-5fab1974ac62",
   "metadata": {},
   "outputs": [
    {
     "name": "stdout",
     "output_type": "stream",
     "text": [
      "LR & 82.81 (4.04) & 82.12 (6.05) &  82.35 (4.22) & 64.06 (8.4) & 81.95 (4.32) \\\n",
      "KNN & 78.37 (5.06) & 79.47 (6.65) &  78.8 (5.17) & 56.61 (9.66) & 78.31 (4.95) \\\n",
      "CART & 74.12 (5.04) & 75.64 (6.84) &  74.65 (4.43) & 47.99 (9.08) & 73.96 (4.59) \\\n",
      "NB & 83.05 (4.24) & 81.06 (5.93) &  81.93 (4.23) & 63.56 (8.19) & 81.67 (4.15) \\\n",
      "SVM & 81.16 (4.9) & 82.58 (6.08) &  81.72 (4.42) & 62.35 (8.77) & 81.05 (4.5) \\\n"
     ]
    }
   ],
   "source": [
    "j = 0\n",
    "for i in range(int(len(df_results.index)/2)):\n",
    "\n",
    "    print(f'{df_results.iloc[j].name.split()[0]} & {df_results.iloc[j][2]} ({df_results.iloc[j+1][2]}) & {df_results.iloc[j][3]} ({df_results.iloc[j+1][3]}) &  {df_results.iloc[j][4]} ({df_results.iloc[j+1][4]}) & {df_results.iloc[j][6]} ({df_results.iloc[j+1][6]}) & {df_results.iloc[j][7]} ({df_results.iloc[j+1][7]}) \\\\')\n",
    "    \n",
    "    j+=2"
   ]
  },
  {
   "cell_type": "code",
   "execution_count": 23,
   "id": "26e6bd91-093f-415f-89b0-40e71ab48126",
   "metadata": {},
   "outputs": [],
   "source": [
    "df_results.to_csv('LDA_fraud_dataset.csv')"
   ]
  },
  {
   "cell_type": "markdown",
   "id": "3b70b837-4e39-4b65-83ca-8e82fc83efa1",
   "metadata": {},
   "source": [
    "## Pennylane"
   ]
  },
  {
   "cell_type": "code",
   "execution_count": 26,
   "id": "ff1d5656-f2f2-4d96-b210-a75a161cdb39",
   "metadata": {},
   "outputs": [],
   "source": [
    "from pennylane import numpy as np"
   ]
  },
  {
   "cell_type": "code",
   "execution_count": 27,
   "id": "07ec49f5-c401-4c36-aae3-57aad3eaa0ba",
   "metadata": {},
   "outputs": [],
   "source": [
    "# Angle Encoding\n",
    "\n",
    "num_qubits = n_dim\n",
    "\n",
    "dev = qml.device('default.qubit', wires = num_qubits)\n",
    "\n",
    "@qml.qnode(dev)\n",
    "def circuit(parameters, data):\n",
    "    for i in range(num_qubits):\n",
    "        qml.Hadamard(wires = i)\n",
    "    \n",
    "    AngleEmbedding(features = data, wires = range(num_qubits), rotation = 'Y')\n",
    "    \n",
    "    qml.StronglyEntanglingLayers(weights = parameters, wires = range(num_qubits))\n",
    "    \n",
    "    return qml.expval(qml.PauliZ(0))"
   ]
  },
  {
   "cell_type": "code",
   "execution_count": 28,
   "id": "ffcf8fdb-37a0-4b64-b73c-76be553995e8",
   "metadata": {},
   "outputs": [],
   "source": [
    "num_layers = 5\n",
    "weights_init = 0.01 * np.random.randn(num_layers, num_qubits, 3, requires_grad=True)\n",
    "bias_init = np.array(0.0, requires_grad=True)\n",
    "\n",
    "#print(weights_init, bias_init)"
   ]
  },
  {
   "cell_type": "code",
   "execution_count": 29,
   "id": "49568595-37ec-4749-a230-dc4c6dae2500",
   "metadata": {},
   "outputs": [
    {
     "data": {
      "text/plain": [
       "tensor(-0.00454489, requires_grad=True)"
      ]
     },
     "execution_count": 29,
     "metadata": {},
     "output_type": "execute_result"
    }
   ],
   "source": [
    "circuit(weights_init, sample_train[0])"
   ]
  },
  {
   "cell_type": "code",
   "execution_count": 30,
   "id": "4febb380-0955-4f05-a872-326cc4e3a27c",
   "metadata": {},
   "outputs": [],
   "source": [
    "def variational_classifier(weights, bias, x):\n",
    "    return circuit(weights, x) + bias"
   ]
  },
  {
   "cell_type": "code",
   "execution_count": 31,
   "id": "c16a1f84-63e5-4fbb-a647-cba6db4c6c4c",
   "metadata": {},
   "outputs": [],
   "source": [
    "def square_loss(labels, predictions):\n",
    "    loss = 0\n",
    "    for l, p in zip(labels, predictions):\n",
    "        loss = loss + (l - p) ** 2\n",
    "\n",
    "    loss = loss / len(labels)\n",
    "    return loss"
   ]
  },
  {
   "cell_type": "code",
   "execution_count": 32,
   "id": "07412a53-c93b-4c73-bd0b-e7e144454435",
   "metadata": {},
   "outputs": [],
   "source": [
    "def accuracy(labels, predictions):\n",
    "\n",
    "    loss = 0\n",
    "    for l, p in zip(labels, predictions):\n",
    "        if abs(l - p) < 1e-5:\n",
    "            loss = loss + 1\n",
    "    loss = loss / len(labels)\n",
    "\n",
    "    return loss"
   ]
  },
  {
   "cell_type": "code",
   "execution_count": 33,
   "id": "1bf0b58e-38f3-4c45-a4d2-3d69af787ba3",
   "metadata": {},
   "outputs": [],
   "source": [
    "def cost(weights, bias, X, Y):\n",
    "    predictions = [variational_classifier(weights, bias, x) for x in X]\n",
    "    return square_loss(Y, predictions)"
   ]
  },
  {
   "cell_type": "code",
   "execution_count": 34,
   "id": "21ff4aa6-c15b-4a59-a718-67d8da2402dd",
   "metadata": {},
   "outputs": [
    {
     "name": "stdout",
     "output_type": "stream",
     "text": [
      "X = [tensor(-0.08535407, requires_grad=True), tensor(0.34006264, requires_grad=True)], Y = -1\n",
      "X = [tensor(-0.70437879, requires_grad=True), tensor(-0.02989927, requires_grad=True)], Y = -1\n",
      "X = [tensor(-0.52042413, requires_grad=True), tensor(0.4458723, requires_grad=True)], Y =  1\n",
      "X = [tensor(-0.11997776, requires_grad=True), tensor(0.30784239, requires_grad=True)], Y =  1\n",
      "X = [tensor(0.43129711, requires_grad=True), tensor(0.32273232, requires_grad=True)], Y =  1\n"
     ]
    }
   ],
   "source": [
    "Y = np.array(label_train * 2 - np.ones(len(label_train)),requires_grad=True)  # shift label from {0, 1} to {-1, 1}\n",
    "X = np.array(sample_train, requires_grad=True)\n",
    "\n",
    "for i in range(5):\n",
    "    print(\"X = {}, Y = {: d}\".format(list(X[i]), int(Y[i])))"
   ]
  },
  {
   "cell_type": "code",
   "execution_count": 35,
   "id": "074f578a-1984-4814-9070-7b20063c8bd1",
   "metadata": {},
   "outputs": [],
   "source": [
    "opt = AdamOptimizer(stepsize=0.1, beta1=0.9, beta2=0.99, eps=1e-08)\n",
    "batch_size = 10"
   ]
  },
  {
   "cell_type": "code",
   "execution_count": null,
   "id": "a78e0005-464d-46c0-86f4-946291d7586c",
   "metadata": {},
   "outputs": [],
   "source": []
  },
  {
   "cell_type": "code",
   "execution_count": null,
   "id": "2d31d6a7-74f4-4e63-b1cb-b92bfb610a5a",
   "metadata": {
    "tags": []
   },
   "outputs": [
    {
     "name": "stdout",
     "output_type": "stream",
     "text": [
      "New best\n",
      "Iter:     1 | Cost: 0.9146517 | f1: 0.6062407 \n",
      "Iter:     2 | Cost: 1.0271006 | f1: 0.1241379 \n",
      "Iter:     3 | Cost: 0.9447843 | f1: 0.2105263 \n",
      "New best\n",
      "Iter:     4 | Cost: 0.7612764 | f1: 0.6434231 \n",
      "New best\n",
      "Iter:     5 | Cost: 0.7815182 | f1: 0.7495362 \n",
      "New best\n",
      "Iter:     6 | Cost: 0.7493165 | f1: 0.7705882 \n",
      "New best\n",
      "Iter:     7 | Cost: 0.7151832 | f1: 0.8191721 \n",
      "Iter:     8 | Cost: 0.7036907 | f1: 0.7816712 \n",
      "Iter:     9 | Cost: 0.7175986 | f1: 0.7004471 \n",
      "Iter:    10 | Cost: 0.7128700 | f1: 0.7004471 \n",
      "Iter:    11 | Cost: 0.6832924 | f1: 0.8129032 \n",
      "Iter:    12 | Cost: 0.6780496 | f1: 0.8160000 \n",
      "Iter:    13 | Cost: 0.7433835 | f1: 0.7655502 \n",
      "Iter:    14 | Cost: 0.8437661 | f1: 0.7227635 \n",
      "Iter:    15 | Cost: 0.8274103 | f1: 0.7279215 \n",
      "Iter:    16 | Cost: 0.7522588 | f1: 0.7662835 \n",
      "Iter:    17 | Cost: 0.6828545 | f1: 0.8163717 \n",
      "Iter:    18 | Cost: 0.6808797 | f1: 0.7416667 \n",
      "Iter:    19 | Cost: 0.7303683 | f1: 0.6356340 \n",
      "Iter:    20 | Cost: 0.7153637 | f1: 0.6676971 \n",
      "Iter:    21 | Cost: 0.6867502 | f1: 0.7584345 \n",
      "Iter:    22 | Cost: 0.6841801 | f1: 0.8095808 \n",
      "Iter:    23 | Cost: 0.7052322 | f1: 0.8086022 \n",
      "Iter:    24 | Cost: 0.7308755 | f1: 0.7751479 \n",
      "Iter:    25 | Cost: 0.7692515 | f1: 0.7582314 \n",
      "Iter:    26 | Cost: 0.7085764 | f1: 0.7854985 \n",
      "New best\n",
      "Iter:    27 | Cost: 0.6772393 | f1: 0.8207965 \n",
      "Iter:    28 | Cost: 0.6648402 | f1: 0.8188586 \n",
      "Iter:    29 | Cost: 0.6730954 | f1: 0.8046272 \n",
      "Iter:    30 | Cost: 0.6872086 | f1: 0.7471910 \n",
      "Iter:    31 | Cost: 0.7052682 | f1: 0.6808511 \n",
      "Iter:    32 | Cost: 0.6912270 | f1: 0.7342857 \n",
      "Iter:    33 | Cost: 0.6745087 | f1: 0.8192162 \n",
      "Iter:    34 | Cost: 0.6867230 | f1: 0.8122942 \n",
      "Iter:    35 | Cost: 0.7508096 | f1: 0.7640879 \n",
      "Iter:    36 | Cost: 0.8383562 | f1: 0.7246892 \n",
      "Iter:    37 | Cost: 0.8368252 | f1: 0.7253333 \n",
      "Iter:    38 | Cost: 0.7650807 | f1: 0.7570621 \n",
      "Iter:    39 | Cost: 0.6792818 | f1: 0.8173719 \n",
      "Iter:    40 | Cost: 0.6824122 | f1: 0.7510549 \n",
      "Iter:    41 | Cost: 0.6962620 | f1: 0.7032641 \n",
      "Iter:    42 | Cost: 0.6893914 | f1: 0.7468175 \n",
      "Iter:    43 | Cost: 0.6800118 | f1: 0.7905138 \n",
      "Iter:    44 | Cost: 0.6778500 | f1: 0.7813333 \n",
      "Iter:    45 | Cost: 0.6832932 | f1: 0.7468175 \n",
      "Iter:    46 | Cost: 0.6731467 | f1: 0.7840000 \n",
      "Iter:    47 | Cost: 0.6663614 | f1: 0.8202654 \n",
      "Iter:    48 | Cost: 0.6692766 | f1: 0.8150766 \n",
      "New best\n",
      "Iter:    49 | Cost: 0.6733785 | f1: 0.8256881 \n",
      "Iter:    50 | Cost: 0.6785480 | f1: 0.8215488 \n",
      "Iter:    51 | Cost: 0.6795321 | f1: 0.8197088 \n",
      "Iter:    52 | Cost: 0.6717654 | f1: 0.8194444 \n",
      "Iter:    53 | Cost: 0.6650975 | f1: 0.8204489 \n",
      "Iter:    54 | Cost: 0.6680646 | f1: 0.7968545 \n",
      "Iter:    55 | Cost: 0.6667802 | f1: 0.7968545 \n",
      "Iter:    56 | Cost: 0.6699450 | f1: 0.7801609 \n",
      "Iter:    57 | Cost: 0.6604302 | f1: 0.8215159 \n",
      "Iter:    58 | Cost: 0.6773842 | f1: 0.8135224 \n",
      "Iter:    59 | Cost: 0.7511913 | f1: 0.7573182 \n",
      "Iter:    60 | Cost: 0.7851030 | f1: 0.7449541 \n",
      "Iter:    61 | Cost: 0.7967532 | f1: 0.7420237 \n",
      "Iter:    62 | Cost: 0.7678265 | f1: 0.7527881 \n",
      "Iter:    63 | Cost: 0.7062916 | f1: 0.7931034 \n",
      "Iter:    64 | Cost: 0.6683232 | f1: 0.8207547 \n",
      "Iter:    65 | Cost: 0.6894066 | f1: 0.7348703 \n",
      "Iter:    66 | Cost: 0.7232244 | f1: 0.6368000 \n",
      "Iter:    67 | Cost: 0.7815769 | f1: 0.5162455 \n",
      "Iter:    68 | Cost: 0.7828816 | f1: 0.5108696 \n",
      "Iter:    69 | Cost: 0.8115288 | f1: 0.4681648 \n",
      "Iter:    70 | Cost: 0.8546191 | f1: 0.4093567 \n",
      "Iter:    71 | Cost: 0.8182460 | f1: 0.4624060 \n",
      "Iter:    72 | Cost: 0.7348908 | f1: 0.6069652 \n",
      "Iter:    73 | Cost: 0.6922551 | f1: 0.7222222 \n",
      "Iter:    74 | Cost: 0.6809239 | f1: 0.7738420 \n",
      "Iter:    75 | Cost: 0.6754794 | f1: 0.8087855 \n",
      "Iter:    76 | Cost: 0.6731293 | f1: 0.8137755 \n",
      "Iter:    77 | Cost: 0.6693272 | f1: 0.8219178 \n",
      "Iter:    78 | Cost: 0.6722741 | f1: 0.8159437 \n",
      "Iter:    79 | Cost: 0.6693747 | f1: 0.8165680 \n",
      "Iter:    80 | Cost: 0.6794445 | f1: 0.8195991 \n",
      "Iter:    81 | Cost: 0.7065734 | f1: 0.7995889 \n",
      "Iter:    82 | Cost: 0.7040857 | f1: 0.8033126 \n",
      "Iter:    83 | Cost: 0.7066986 | f1: 0.8016444 \n",
      "Iter:    84 | Cost: 0.7121141 | f1: 0.7951318 \n",
      "Iter:    85 | Cost: 0.6809596 | f1: 0.8220994 \n"
     ]
    }
   ],
   "source": [
    "weights = weights_init\n",
    "bias = bias_init\n",
    "\n",
    "wbest = 0\n",
    "bbest = 0\n",
    "abest = 0\n",
    "ccost = 0 \n",
    "for it in range(150):\n",
    "\n",
    "    # weights update by one optimizer step\n",
    "\n",
    "    batch_index = np.random.randint(0, len(X), (batch_size,))\n",
    "    X_batch = X[batch_index]\n",
    "    Y_batch = Y[batch_index]\n",
    "    weights, bias, _, _ = opt.step(cost, weights, bias, X_batch, Y_batch)\n",
    "\n",
    "    # Compute the accuracy\n",
    "    predictions = [np.sign(variational_classifier(weights, bias, x)) for x in X]\n",
    "    \n",
    "    '''if accuracy(Y, predictions) > abest:\n",
    "        wbest = weights\n",
    "        bbest = bias\n",
    "        abest = accuracy(Y, predictions)\n",
    "        print('New best')\n",
    "\n",
    "    acc = accuracy(Y, predictions)\n",
    "\n",
    "    print(\n",
    "        \"Iter: {:5d} | Cost: {:0.7f} | Accuracy: {:0.7f} \".format(\n",
    "            it + 1, cost(weights, bias, X, Y), acc\n",
    "        )\n",
    "    )'''\n",
    "    prec = metrics.f1_score(Y, predictions, average='binary', pos_label=1)\n",
    "    if  prec > abest or ((prec == abest) and (cost(weights, bias, X, Y) < ccost)):\n",
    "        wbest = weights\n",
    "        bbest = bias\n",
    "        abest = prec\n",
    "        ccost = cost(weights, bias, X, Y)\n",
    "        print('New best')\n",
    "    #prec = metrics.precision_score(Y, predictions, average='binary')\n",
    "    print(\n",
    "        \"Iter: {:5d} | Cost: {:0.7f} | f1: {:0.7f} \".format(\n",
    "            it + 1, cost(weights, bias, X, Y), prec\n",
    "        )\n",
    "    )\n",
    "    \n",
    "    "
   ]
  },
  {
   "cell_type": "code",
   "execution_count": null,
   "id": "ee2dceeb-5b76-4ec7-9ebb-efb9e562cf8a",
   "metadata": {},
   "outputs": [],
   "source": [
    "Yte = np.array(label_test * 2 - np.ones(len(label_test)))\n",
    "Xte = np.array(normalize(sample_test))"
   ]
  },
  {
   "cell_type": "code",
   "execution_count": null,
   "id": "03ecd991-b560-4868-9e42-1dcfe09d58ac",
   "metadata": {},
   "outputs": [],
   "source": [
    "pd.Series(Yte).value_counts()"
   ]
  },
  {
   "cell_type": "code",
   "execution_count": null,
   "id": "4416ed73-4c7d-44e3-a539-9dba3191327d",
   "metadata": {},
   "outputs": [],
   "source": [
    "predictions = [np.sign(variational_classifier(wbest, bbest, x)) for x in Xte]\n",
    "pred = [np.sign(variational_classifier(wbest, bbest, x)) for x in X]\n",
    "acc = accuracy(Yte, predictions)\n",
    "\n",
    "print(f'Cost: {cost(wbest, bbest, Xte, Yte)}, Accuracy: {np.round(acc, 2) * 100}%')"
   ]
  },
  {
   "cell_type": "code",
   "execution_count": 40,
   "id": "8c50c097-603d-439b-84a9-cd649bcbeaa1",
   "metadata": {},
   "outputs": [
    {
     "name": "stdout",
     "output_type": "stream",
     "text": [
      "              precision    recall  f1-score   support\n",
      "\n",
      "        -1.0       0.83      1.00      0.91       154\n",
      "         1.0       1.00      0.33      0.49        46\n",
      "\n",
      "    accuracy                           0.84       200\n",
      "   macro avg       0.92      0.66      0.70       200\n",
      "weighted avg       0.87      0.84      0.81       200\n",
      "\n"
     ]
    }
   ],
   "source": [
    "print(metrics.classification_report(Yte,predictions))"
   ]
  },
  {
   "cell_type": "code",
   "execution_count": null,
   "id": "a4a2955a-d877-4885-ad84-5f31458a7c94",
   "metadata": {},
   "outputs": [],
   "source": [
    "print(metrics.classification_report(predictions,Yte))"
   ]
  },
  {
   "cell_type": "code",
   "execution_count": null,
   "id": "dcedeada-a82f-4e82-b738-6a862dc801c8",
   "metadata": {},
   "outputs": [],
   "source": [
    "print(f'''\n",
    "\n",
    "    Precision: {round(100*metrics.precision_score(predictions,Yte),2)}%\n",
    "    Recall: {round(100*metrics.recall_score(predictions,Yte),2)}%\n",
    "    f1: {round(100*metrics.f1_score(predictions,Yte),2)}%\n",
    "    Accuracy: {round(100*metrics.accuracy_score(predictions,Yte),2)}%\n",
    "    Balanced accuracy: {round(100*metrics.balanced_accuracy_score(predictions,Yte),2)}%\n",
    "    Matthew corcorref: {round(100*metrics.matthews_corrcoef(predictions,Yte),2)}%\n",
    "    ''')"
   ]
  },
  {
   "cell_type": "code",
   "execution_count": null,
   "id": "77acf9e4-6362-4daa-829c-a5c70138be5c",
   "metadata": {},
   "outputs": [],
   "source": [
    "weights = weights_init\n",
    "bias = bias_init\n",
    "\n",
    "wbest = 0\n",
    "bbest = 0\n",
    "abest = 0\n",
    "ccost = 1 \n",
    "for it in range(150):\n",
    "\n",
    "    # weights update by one optimizer step\n",
    "\n",
    "    batch_index = np.random.randint(0, len(X), (batch_size,))\n",
    "    X_batch = X[batch_index]\n",
    "    Y_batch = Y[batch_index]\n",
    "    weights, bias, _, _ = opt.step(cost, weights, bias, X_batch, Y_batch)\n",
    "\n",
    "    # Compute the accuracy\n",
    "    predictions = [np.sign(variational_classifier(weights, bias, x)) for x in X]\n",
    "    \n",
    "    '''if accuracy(Y, predictions) > abest:\n",
    "        wbest = weights\n",
    "        bbest = bias\n",
    "        abest = accuracy(Y, predictions)\n",
    "        print('New best')\n",
    "\n",
    "    acc = accuracy(Y, predictions)\n",
    "\n",
    "    print(\n",
    "        \"Iter: {:5d} | Cost: {:0.7f} | Accuracy: {:0.7f} \".format(\n",
    "            it + 1, cost(weights, bias, X, Y), acc\n",
    "        )\n",
    "    )'''\n",
    "    prec = metrics.f1_score(Y, predictions, average='binary', pos_label=1)\n",
    "    if  prec > abest or ((prec == abest) and (cost(weights, bias, X, Y) < ccost)):\n",
    "        wbest = weights\n",
    "        bbest = bias\n",
    "        abest = prec\n",
    "        ccost = cost(weights, bias, X, Y)\n",
    "        print('New best')\n",
    "    #prec = metrics.precision_score(Y, predictions, average='binary')\n",
    "    print(\n",
    "        \"Iter: {:5d} | Cost: {:0.7f} | f1: {:0.7f} \".format(\n",
    "            it + 1, cost(weights, bias, X, Y), prec\n",
    "        )\n",
    "    )\n",
    "    \n",
    "    "
   ]
  },
  {
   "cell_type": "code",
   "execution_count": 45,
   "id": "615e6410-5955-469d-8ccd-32517ba8ec3f",
   "metadata": {},
   "outputs": [
    {
     "name": "stdout",
     "output_type": "stream",
     "text": [
      "Cost: 0.4650416259302474, Accuracy: 86.0%\n"
     ]
    }
   ],
   "source": [
    "predictions = [np.sign(variational_classifier(wbest, bbest, x)) for x in Xte]\n",
    "pred = [np.sign(variational_classifier(wbest, bbest, x)) for x in X]\n",
    "acc = accuracy(Yte, predictions)\n",
    "\n",
    "print(f'Cost: {cost(wbest, bbest, Xte, Yte)}, Accuracy: {np.round(acc, 2) * 100}%')"
   ]
  },
  {
   "cell_type": "code",
   "execution_count": 46,
   "id": "694c231f-ce47-4bdb-be6a-eb1308ebc00e",
   "metadata": {},
   "outputs": [
    {
     "name": "stdout",
     "output_type": "stream",
     "text": [
      "              precision    recall  f1-score   support\n",
      "\n",
      "        -1.0       0.85      1.00      0.92       154\n",
      "         1.0       1.00      0.41      0.58        46\n",
      "\n",
      "    accuracy                           0.86       200\n",
      "   macro avg       0.93      0.71      0.75       200\n",
      "weighted avg       0.89      0.86      0.84       200\n",
      "\n"
     ]
    }
   ],
   "source": [
    "print(metrics.classification_report(Yte, predictions))"
   ]
  },
  {
   "cell_type": "code",
   "execution_count": 47,
   "id": "660c69a6-87da-400e-99ba-739d49627088",
   "metadata": {},
   "outputs": [
    {
     "name": "stdout",
     "output_type": "stream",
     "text": [
      "\n",
      "\n",
      "    Precision: 41.3%\n",
      "    Recall: 100.0%\n",
      "    f1: 58.46%\n",
      "    Accuracy: 86.5%\n",
      "    Balanced accuracy: 92.54%\n",
      "    Matthew corcorref: 59.28%\n",
      "    \n"
     ]
    }
   ],
   "source": [
    "print(f'''\n",
    "\n",
    "    Precision: {round(100*metrics.precision_score(predictions,Yte),2)}%\n",
    "    Recall: {round(100*metrics.recall_score(predictions,Yte),2)}%\n",
    "    f1: {round(100*metrics.f1_score(predictions,Yte),2)}%\n",
    "    Accuracy: {round(100*metrics.accuracy_score(predictions,Yte),2)}%\n",
    "    Balanced accuracy: {round(100*metrics.balanced_accuracy_score(predictions,Yte),2)}%\n",
    "    Matthew corcorref: {round(100*metrics.matthews_corrcoef(predictions,Yte),2)}%\n",
    "    ''')"
   ]
  },
  {
   "cell_type": "code",
   "execution_count": null,
   "id": "5ee63f17-2adf-48b6-9106-fb542ed641d6",
   "metadata": {},
   "outputs": [],
   "source": []
  }
 ],
 "metadata": {
  "kernelspec": {
   "display_name": "Python 3 (ipykernel)",
   "language": "python",
   "name": "python3"
  },
  "language_info": {
   "codemirror_mode": {
    "name": "ipython",
    "version": 3
   },
   "file_extension": ".py",
   "mimetype": "text/x-python",
   "name": "python",
   "nbconvert_exporter": "python",
   "pygments_lexer": "ipython3",
   "version": "3.10.6"
  }
 },
 "nbformat": 4,
 "nbformat_minor": 5
}
