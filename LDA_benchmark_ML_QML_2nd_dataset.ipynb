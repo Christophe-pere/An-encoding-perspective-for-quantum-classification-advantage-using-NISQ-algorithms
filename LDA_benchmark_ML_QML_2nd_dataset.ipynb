{
 "cells": [
  {
   "cell_type": "markdown",
   "id": "d41d3fa6-0ae0-490d-a02b-0dbf81799488",
   "metadata": {},
   "source": [
    "# Quantum benchmark"
   ]
  },
  {
   "cell_type": "markdown",
   "id": "d6011e42-1fab-4f9f-ab99-f4f08607517e",
   "metadata": {},
   "source": [
    "## I - Introduction"
   ]
  },
  {
   "cell_type": "code",
   "execution_count": null,
   "id": "13b4f6b4-240b-4b7f-abe4-4e74b3b8cc8a",
   "metadata": {},
   "outputs": [],
   "source": []
  },
  {
   "cell_type": "markdown",
   "id": "bd5492ce-4f08-4755-b4c2-efd698139101",
   "metadata": {},
   "source": [
    "## II - Packages"
   ]
  },
  {
   "cell_type": "code",
   "execution_count": 1,
   "id": "90371200-0133-46ab-a205-d0f6b8858e55",
   "metadata": {},
   "outputs": [],
   "source": [
    "import pandas as pd\n",
    "import matplotlib.pyplot as plt\n",
    "import numpy as np\n",
    "from sklearn.model_selection import train_test_split\n",
    "from sklearn.preprocessing import StandardScaler\n",
    "from sklearn.decomposition import PCA\n",
    "from sklearn.discriminant_analysis import LinearDiscriminantAnalysis as LDA\n",
    "from sklearn.preprocessing import MinMaxScaler\n",
    "from sklearn.svm import SVC\n",
    "from sklearn import metrics\n",
    "from sklearn.ensemble import RandomForestClassifier\n",
    "from sklearn.linear_model import LogisticRegression\n",
    "from sklearn.tree import DecisionTreeClassifier\n",
    "from sklearn.preprocessing import normalize\n",
    "from sklearn.model_selection import cross_val_score, KFold\n",
    "#Import classical libraries\n",
    "from sklearn.neighbors import KNeighborsClassifier\n",
    "from sklearn.naive_bayes import GaussianNB\n",
    "from sklearn.svm import SVC\n",
    "from sklearn.ensemble import RandomForestClassifier\n",
    "from sklearn.model_selection import train_test_split\n",
    "from sklearn import datasets\n",
    "import matplotlib.pyplot as plt\n",
    "\n",
    "plt.style.use('ggplot')\n",
    "\n",
    "import functools\n",
    "\n",
    "from qiskit import BasicAer\n",
    "from qiskit.circuit.library import ZZFeatureMap\n",
    "from qiskit.utils import QuantumInstance, algorithm_globals\n",
    "from qiskit_machine_learning.algorithms import QSVC\n",
    "from qiskit_machine_learning.kernels import QuantumKernel\n",
    "from qiskit_machine_learning.datasets import ad_hoc_data\n",
    "import logging\n",
    "\n",
    "import pennylane as qml\n",
    "from pennylane.templates.embeddings import AngleEmbedding, AmplitudeEmbedding\n",
    "from pennylane.optimize import AdamOptimizer\n",
    "\n",
    "from qiskit.algorithms.optimizers import COBYLA\n",
    "from qiskit.circuit.library import TwoLocal, ZZFeatureMap\n",
    "import qiskit"
   ]
  },
  {
   "cell_type": "markdown",
   "id": "1598c94c-fdcf-41cd-a4ea-e262932c7e0f",
   "metadata": {},
   "source": [
    "## III - Data "
   ]
  },
  {
   "cell_type": "code",
   "execution_count": 36,
   "id": "e683f3b5-6021-4eb7-bc53-539a5cd79bfc",
   "metadata": {},
   "outputs": [],
   "source": [
    "# Read out CSV\n",
    "\n",
    "df = pd.read_csv('fraud_detection_bank_dataset.csv', sep=',')"
   ]
  },
  {
   "cell_type": "code",
   "execution_count": 37,
   "id": "bc0eccf2-3599-4e41-9371-fe644e3af6a5",
   "metadata": {},
   "outputs": [
    {
     "data": {
      "text/plain": [
       "Index(['Unnamed: 0', 'col_0', 'col_1', 'col_2', 'col_3', 'col_4', 'col_5',\n",
       "       'col_6', 'col_7', 'col_8',\n",
       "       ...\n",
       "       'col_103', 'col_104', 'col_105', 'col_106', 'col_107', 'col_108',\n",
       "       'col_109', 'col_110', 'col_111', 'targets'],\n",
       "      dtype='object', length=114)"
      ]
     },
     "execution_count": 37,
     "metadata": {},
     "output_type": "execute_result"
    }
   ],
   "source": [
    "df.columns"
   ]
  },
  {
   "cell_type": "code",
   "execution_count": 38,
   "id": "efd59558-d800-4da9-858d-b7bb9801b17f",
   "metadata": {},
   "outputs": [
    {
     "data": {
      "text/plain": [
       "0            0\n",
       "1            1\n",
       "2            2\n",
       "3            3\n",
       "4            4\n",
       "         ...  \n",
       "20463    20463\n",
       "20464    20464\n",
       "20465    20465\n",
       "20466    20466\n",
       "20467    20467\n",
       "Name: Unnamed: 0, Length: 20468, dtype: int64"
      ]
     },
     "execution_count": 38,
     "metadata": {},
     "output_type": "execute_result"
    }
   ],
   "source": [
    "df['Unnamed: 0']"
   ]
  },
  {
   "cell_type": "code",
   "execution_count": 4,
   "id": "10255383-ae13-42c1-8d19-b5cf9eca4d17",
   "metadata": {},
   "outputs": [
    {
     "data": {
      "text/plain": [
       "(20468, 114)"
      ]
     },
     "execution_count": 4,
     "metadata": {},
     "output_type": "execute_result"
    }
   ],
   "source": [
    "df.shape"
   ]
  },
  {
   "cell_type": "code",
   "execution_count": 3,
   "id": "bf69c7f1-b10e-4b54-89ec-89dd5829ac42",
   "metadata": {},
   "outputs": [],
   "source": [
    "%%script false --no-raise-error\n",
    "\n",
    "import sweetviz as sv\n",
    "\n",
    "#EDA using Autoviz\n",
    "sweet_report = sv.analyze(df)\n",
    "\n",
    "#Saving results to HTML file\n",
    "sweet_report.show_html('sweet_report.html')"
   ]
  },
  {
   "cell_type": "markdown",
   "id": "c4ff48fa-d03b-435d-9343-67186c068b34",
   "metadata": {},
   "source": [
    "## IV - Modelisation"
   ]
  },
  {
   "cell_type": "markdown",
   "id": "3dbe1bb7-d7eb-412b-a291-bbeb654766f5",
   "metadata": {},
   "source": [
    "### Classical"
   ]
  },
  {
   "cell_type": "code",
   "execution_count": 21,
   "id": "d7f6037b-3b1c-4a2c-8a9e-df1d432cafa4",
   "metadata": {},
   "outputs": [],
   "source": [
    "df = df.drop(['Unnamed: 0'], axis = 1)\n",
    "df_labels = df['targets']\n",
    "df.drop(['targets'],axis = 1,inplace = True)"
   ]
  },
  {
   "cell_type": "code",
   "execution_count": 22,
   "id": "249ef3a0-7be3-4234-8be6-630db2cd267f",
   "metadata": {},
   "outputs": [],
   "source": [
    "X_train, X_test, y_train, y_test = train_test_split(df, df_labels, test_size=0.2, random_state=42)"
   ]
  },
  {
   "cell_type": "markdown",
   "id": "4f45105d-12bb-43b3-940d-32c1c66d6b83",
   "metadata": {},
   "source": [
    "### Decision Tree"
   ]
  },
  {
   "cell_type": "code",
   "execution_count": 6,
   "id": "da0a47b2-799a-4bf7-9233-465485759b55",
   "metadata": {},
   "outputs": [],
   "source": [
    "decision_tree = DecisionTreeClassifier( random_state=42) #max_depth=2,\n",
    "\n",
    "decision_tree.fit(X_train, y_train)\n",
    "y_pred = decision_tree.predict(X_test)"
   ]
  },
  {
   "cell_type": "code",
   "execution_count": 7,
   "id": "85fc748a-8bb9-463e-8d08-0669aa4568df",
   "metadata": {},
   "outputs": [
    {
     "name": "stdout",
     "output_type": "stream",
     "text": [
      "              precision    recall  f1-score   support\n",
      "\n",
      "           0       0.83      0.81      0.82      4687\n",
      "           1       0.37      0.40      0.39      1313\n",
      "\n",
      "    accuracy                           0.72      6000\n",
      "   macro avg       0.60      0.61      0.60      6000\n",
      "weighted avg       0.73      0.72      0.73      6000\n",
      "\n"
     ]
    }
   ],
   "source": [
    "print(metrics.classification_report(y_test, y_pred))"
   ]
  },
  {
   "cell_type": "markdown",
   "id": "8ae9e5cc-4f3f-4f4f-b575-123957b8d606",
   "metadata": {},
   "source": [
    "### RandomForest"
   ]
  },
  {
   "cell_type": "code",
   "execution_count": 8,
   "id": "b8f81c9a-552f-43de-8103-9d593cf0c09f",
   "metadata": {},
   "outputs": [],
   "source": [
    "classifier = RandomForestClassifier( random_state=42) #max_depth=2,\n",
    "\n",
    "classifier.fit(X_train, y_train)\n",
    "y_pred = classifier.predict(X_test)"
   ]
  },
  {
   "cell_type": "code",
   "execution_count": 9,
   "id": "b1b409d6-e35c-4710-a1b5-89ee9a88a042",
   "metadata": {},
   "outputs": [
    {
     "name": "stdout",
     "output_type": "stream",
     "text": [
      "              precision    recall  f1-score   support\n",
      "\n",
      "           0       0.84      0.94      0.89      4687\n",
      "           1       0.63      0.36      0.46      1313\n",
      "\n",
      "    accuracy                           0.81      6000\n",
      "   macro avg       0.74      0.65      0.67      6000\n",
      "weighted avg       0.79      0.81      0.79      6000\n",
      "\n"
     ]
    }
   ],
   "source": [
    "# Print the classification report and important metrics\n",
    "\n",
    "print(metrics.classification_report(y_test, y_pred))"
   ]
  },
  {
   "cell_type": "markdown",
   "id": "7e711026-7329-4b46-b3eb-859953fcdc07",
   "metadata": {},
   "source": [
    "### Logistic Regression"
   ]
  },
  {
   "cell_type": "code",
   "execution_count": 10,
   "id": "9ee380ae-bb33-42f4-aae8-92feb8827a8f",
   "metadata": {},
   "outputs": [],
   "source": [
    "lr = LogisticRegression(max_iter=1000, random_state=42) #max_depth=2,\n",
    "\n",
    "lr.fit(X_train, y_train)\n",
    "y_pred = lr.predict(X_test)"
   ]
  },
  {
   "cell_type": "code",
   "execution_count": 11,
   "id": "b2320684-bacb-442c-975a-9cf9039bfc82",
   "metadata": {},
   "outputs": [
    {
     "name": "stdout",
     "output_type": "stream",
     "text": [
      "              precision    recall  f1-score   support\n",
      "\n",
      "           0       0.78      1.00      0.88      4687\n",
      "           1       0.00      0.00      0.00      1313\n",
      "\n",
      "    accuracy                           0.78      6000\n",
      "   macro avg       0.39      0.50      0.44      6000\n",
      "weighted avg       0.61      0.78      0.69      6000\n",
      "\n"
     ]
    },
    {
     "name": "stderr",
     "output_type": "stream",
     "text": [
      "/opt/homebrew/lib/python3.9/site-packages/sklearn/metrics/_classification.py:1327: UndefinedMetricWarning: Precision and F-score are ill-defined and being set to 0.0 in labels with no predicted samples. Use `zero_division` parameter to control this behavior.\n",
      "  _warn_prf(average, modifier, msg_start, len(result))\n",
      "/opt/homebrew/lib/python3.9/site-packages/sklearn/metrics/_classification.py:1327: UndefinedMetricWarning: Precision and F-score are ill-defined and being set to 0.0 in labels with no predicted samples. Use `zero_division` parameter to control this behavior.\n",
      "  _warn_prf(average, modifier, msg_start, len(result))\n",
      "/opt/homebrew/lib/python3.9/site-packages/sklearn/metrics/_classification.py:1327: UndefinedMetricWarning: Precision and F-score are ill-defined and being set to 0.0 in labels with no predicted samples. Use `zero_division` parameter to control this behavior.\n",
      "  _warn_prf(average, modifier, msg_start, len(result))\n"
     ]
    }
   ],
   "source": [
    "print(metrics.classification_report(y_test, y_pred))"
   ]
  },
  {
   "cell_type": "markdown",
   "id": "64e47899-e42f-4daf-9a35-c2f1f4902139",
   "metadata": {},
   "source": [
    "### SVM"
   ]
  },
  {
   "cell_type": "code",
   "execution_count": 12,
   "id": "00edbaf9-55d0-49f3-afcb-fd6dcc98d5dd",
   "metadata": {},
   "outputs": [],
   "source": [
    "svm = SVC( random_state=42) #max_depth=2,\n",
    "\n",
    "svm.fit(X_train, y_train)\n",
    "y_pred = svm.predict(X_test)"
   ]
  },
  {
   "cell_type": "code",
   "execution_count": 13,
   "id": "3d3d2566-a1e1-4967-925f-228f2e7d1d5a",
   "metadata": {},
   "outputs": [
    {
     "name": "stdout",
     "output_type": "stream",
     "text": [
      "              precision    recall  f1-score   support\n",
      "\n",
      "           0       0.78      1.00      0.88      4687\n",
      "           1       0.00      0.00      0.00      1313\n",
      "\n",
      "    accuracy                           0.78      6000\n",
      "   macro avg       0.39      0.50      0.44      6000\n",
      "weighted avg       0.61      0.78      0.69      6000\n",
      "\n"
     ]
    },
    {
     "name": "stderr",
     "output_type": "stream",
     "text": [
      "/opt/homebrew/lib/python3.9/site-packages/sklearn/metrics/_classification.py:1327: UndefinedMetricWarning: Precision and F-score are ill-defined and being set to 0.0 in labels with no predicted samples. Use `zero_division` parameter to control this behavior.\n",
      "  _warn_prf(average, modifier, msg_start, len(result))\n",
      "/opt/homebrew/lib/python3.9/site-packages/sklearn/metrics/_classification.py:1327: UndefinedMetricWarning: Precision and F-score are ill-defined and being set to 0.0 in labels with no predicted samples. Use `zero_division` parameter to control this behavior.\n",
      "  _warn_prf(average, modifier, msg_start, len(result))\n",
      "/opt/homebrew/lib/python3.9/site-packages/sklearn/metrics/_classification.py:1327: UndefinedMetricWarning: Precision and F-score are ill-defined and being set to 0.0 in labels with no predicted samples. Use `zero_division` parameter to control this behavior.\n",
      "  _warn_prf(average, modifier, msg_start, len(result))\n"
     ]
    }
   ],
   "source": [
    "print(metrics.classification_report(y_test, y_pred))"
   ]
  },
  {
   "cell_type": "markdown",
   "id": "2cdd918a-57d8-443f-861d-77609bdb67a1",
   "metadata": {},
   "source": [
    "---"
   ]
  },
  {
   "cell_type": "markdown",
   "id": "b1251e3e-c8ed-4e57-a790-1fa8003f8c31",
   "metadata": {},
   "source": [
    "## Quantum Approaches"
   ]
  },
  {
   "cell_type": "code",
   "execution_count": 14,
   "id": "12b4f425-f8b1-40b4-8c3f-4502a9a01a3c",
   "metadata": {},
   "outputs": [
    {
     "data": {
      "text/plain": [
       "array([0, 1])"
      ]
     },
     "execution_count": 14,
     "metadata": {},
     "output_type": "execute_result"
    }
   ],
   "source": [
    "np.unique(df_labels)"
   ]
  },
  {
   "cell_type": "code",
   "execution_count": 23,
   "id": "a948c1c2-cb55-49b2-bb4c-c2d2fdca527a",
   "metadata": {},
   "outputs": [],
   "source": [
    "lda = LDA(n_components=1)"
   ]
  },
  {
   "cell_type": "code",
   "execution_count": 24,
   "id": "b921a949-e3bd-45b6-b0e0-a84f96788811",
   "metadata": {},
   "outputs": [],
   "source": [
    "feature_1 = lda.fit_transform(X_train.iloc[:, :56], y_train)\n",
    "feature_2 = lda.fit_transform(X_train.iloc[:, 56:], y_train)"
   ]
  },
  {
   "cell_type": "code",
   "execution_count": 25,
   "id": "3141a967-8c2f-472e-a934-5ad8ac0d9237",
   "metadata": {},
   "outputs": [
    {
     "data": {
      "text/plain": [
       "[<matplotlib.lines.Line2D at 0x29180d790>]"
      ]
     },
     "execution_count": 25,
     "metadata": {},
     "output_type": "execute_result"
    },
    {
     "data": {
      "image/png": "[encoded data removed]",
      "text/plain": [
       "<Figure size 720x576 with 1 Axes>"
      ]
     },
     "metadata": {
      "needs_background": "light"
     },
     "output_type": "display_data"
    }
   ],
   "source": [
    "plt.figure(figsize=(10,8))\n",
    "plt.plot(X_train.index, feature_1, '+')\n",
    "plt.plot(X_train.index, feature_2, 'g+')"
   ]
  },
  {
   "cell_type": "code",
   "execution_count": 26,
   "id": "e05a6064-c96b-4446-8da3-d160af9592bd",
   "metadata": {},
   "outputs": [],
   "source": [
    "features_lda_1 = pd.DataFrame(feature_1)\n",
    "features_lda_2 = pd.DataFrame(feature_2)\n",
    "features_lda = features_lda_1.join(features_lda_2, lsuffix=\"_left\", rsuffix=\"_right\")"
   ]
  },
  {
   "cell_type": "code",
   "execution_count": 27,
   "id": "a1de5099-55d4-4d2d-9ea4-eaf60c27b16c",
   "metadata": {},
   "outputs": [],
   "source": [
    "n_dim = len(features_lda.columns)"
   ]
  },
  {
   "cell_type": "markdown",
   "id": "bd626d5c-ff6a-443a-9700-10a93c24dc74",
   "metadata": {},
   "source": [
    "## Split train test "
   ]
  },
  {
   "cell_type": "code",
   "execution_count": 28,
   "id": "afaf0912-bdbf-4460-ae4c-43016d1f5a57",
   "metadata": {},
   "outputs": [],
   "source": [
    "# Split dataset into train and test\n",
    "\n",
    "sample_train, sample_test, label_train, label_test = train_test_split(\n",
    "     features_lda, y_train, test_size=0.2, random_state=22)\n",
    "\n",
    "# Normalize\n",
    "\n",
    "std_scale = StandardScaler().fit(sample_train)\n",
    "sample_train = std_scale.transform(sample_train)\n",
    "sample_test = std_scale.transform(sample_test)\n",
    "\n",
    "# Scale for better fit within the feature map\n",
    "\n",
    "samples = np.append(sample_train, sample_test, axis=0)\n",
    "minmax_scale = MinMaxScaler((-1, 1)).fit(samples)\n",
    "sample_train = minmax_scale.transform(sample_train)\n",
    "sample_test = minmax_scale.transform(sample_test)\n",
    "\n",
    "# Select a sample for a better control of the research and wall time\n",
    "\n",
    "train_size = 800#160\n",
    "sample_train = sample_train[:train_size]\n",
    "label_train = label_train[:train_size]\n",
    "\n",
    "test_size = 200 #40\n",
    "sample_test = sample_test[:test_size]\n",
    "label_test = label_test[:test_size]"
   ]
  },
  {
   "cell_type": "code",
   "execution_count": 29,
   "id": "d815edbe-c5e7-42d6-9489-39ebb940cda4",
   "metadata": {},
   "outputs": [],
   "source": [
    "# Basic parameters for hybrid model\n",
    "\n",
    "seed = 8500\n",
    "feature_dim = n_dim\n",
    "num_reps = 2\n",
    "num_shots =256 \n"
   ]
  },
  {
   "cell_type": "markdown",
   "id": "a17bc9af-4a1c-453d-be99-d54b9e045628",
   "metadata": {},
   "source": [
    "## Hybrid"
   ]
  },
  {
   "cell_type": "code",
   "execution_count": 39,
   "id": "c2ce7078-9255-4913-b6aa-7f05a0e077c3",
   "metadata": {},
   "outputs": [
    {
     "name": "stderr",
     "output_type": "stream",
     "text": [
      "/opt/homebrew/lib/python3.9/site-packages/sklearn/svm/_base.py:515: ComplexWarning: Casting complex values to real discards the imaginary part\n",
      "  X = np.asarray(kernel, dtype=np.float64, order=\"C\")\n"
     ]
    },
    {
     "name": "stdout",
     "output_type": "stream",
     "text": [
      "Callable kernel classification test score: 0.89\n"
     ]
    }
   ],
   "source": [
    "# Define feature_map\n",
    "\n",
    "feature_map = ZZFeatureMap(feature_dimension=feature_dim, reps=num_reps)\n",
    "\n",
    "# Define the backend\n",
    "backend = QuantumInstance(\n",
    "    BasicAer.get_backend(\"qasm_simulator\"), shots=num_shots, seed_simulator=seed, seed_transpiler=seed\n",
    ")\n",
    "\n",
    "# Define the kernel\n",
    "\n",
    "kernel = QuantumKernel(feature_map=feature_map, quantum_instance=backend)\n",
    "\n",
    "# Model run\n",
    "svc = SVC(kernel=kernel.evaluate)\n",
    "svc.fit(sample_train, label_train)\n",
    "score = svc.score(sample_test, label_test)\n",
    "\n",
    "print(f\"Callable kernel classification test score: {score}\")"
   ]
  },
  {
   "cell_type": "code",
   "execution_count": 40,
   "id": "b8fd86d8-bec9-42ac-8543-c69c973a7f01",
   "metadata": {},
   "outputs": [],
   "source": [
    "result_predict = svc.predict(sample_test)"
   ]
  },
  {
   "cell_type": "code",
   "execution_count": 41,
   "id": "ee71fc2a-46dc-46d1-8f51-8e3df5723407",
   "metadata": {},
   "outputs": [
    {
     "name": "stdout",
     "output_type": "stream",
     "text": [
      "              precision    recall  f1-score   support\n",
      "\n",
      "           0       0.88      0.99      0.93       154\n",
      "           1       0.96      0.54      0.69        46\n",
      "\n",
      "    accuracy                           0.89       200\n",
      "   macro avg       0.92      0.77      0.81       200\n",
      "weighted avg       0.90      0.89      0.88       200\n",
      "\n"
     ]
    }
   ],
   "source": [
    "print(metrics.classification_report(label_test,result_predict))"
   ]
  },
  {
   "cell_type": "code",
   "execution_count": 42,
   "id": "7c063aa2-2125-47a9-adf1-ac7f53444551",
   "metadata": {},
   "outputs": [
    {
     "name": "stderr",
     "output_type": "stream",
     "text": [
      "/opt/homebrew/lib/python3.9/site-packages/sklearn/svm/_base.py:515: ComplexWarning: Casting complex values to real discards the imaginary part\n",
      "  X = np.asarray(kernel, dtype=np.float64, order=\"C\")\n",
      "/opt/homebrew/lib/python3.9/site-packages/sklearn/svm/_base.py:515: ComplexWarning: Casting complex values to real discards the imaginary part\n",
      "  X = np.asarray(kernel, dtype=np.float64, order=\"C\")\n",
      "/opt/homebrew/lib/python3.9/site-packages/sklearn/svm/_base.py:515: ComplexWarning: Casting complex values to real discards the imaginary part\n",
      "  X = np.asarray(kernel, dtype=np.float64, order=\"C\")\n",
      "/opt/homebrew/lib/python3.9/site-packages/sklearn/svm/_base.py:515: ComplexWarning: Casting complex values to real discards the imaginary part\n",
      "  X = np.asarray(kernel, dtype=np.float64, order=\"C\")\n",
      "/opt/homebrew/lib/python3.9/site-packages/sklearn/svm/_base.py:515: ComplexWarning: Casting complex values to real discards the imaginary part\n",
      "  X = np.asarray(kernel, dtype=np.float64, order=\"C\")\n",
      "/opt/homebrew/lib/python3.9/site-packages/sklearn/svm/_base.py:515: ComplexWarning: Casting complex values to real discards the imaginary part\n",
      "  X = np.asarray(kernel, dtype=np.float64, order=\"C\")\n",
      "/opt/homebrew/lib/python3.9/site-packages/sklearn/svm/_base.py:515: ComplexWarning: Casting complex values to real discards the imaginary part\n",
      "  X = np.asarray(kernel, dtype=np.float64, order=\"C\")\n",
      "/opt/homebrew/lib/python3.9/site-packages/sklearn/svm/_base.py:515: ComplexWarning: Casting complex values to real discards the imaginary part\n",
      "  X = np.asarray(kernel, dtype=np.float64, order=\"C\")\n",
      "/opt/homebrew/lib/python3.9/site-packages/sklearn/svm/_base.py:515: ComplexWarning: Casting complex values to real discards the imaginary part\n",
      "  X = np.asarray(kernel, dtype=np.float64, order=\"C\")\n",
      "/opt/homebrew/lib/python3.9/site-packages/sklearn/svm/_base.py:515: ComplexWarning: Casting complex values to real discards the imaginary part\n",
      "  X = np.asarray(kernel, dtype=np.float64, order=\"C\")\n",
      "/opt/homebrew/lib/python3.9/site-packages/sklearn/svm/_base.py:515: ComplexWarning: Casting complex values to real discards the imaginary part\n",
      "  X = np.asarray(kernel, dtype=np.float64, order=\"C\")\n",
      "/opt/homebrew/lib/python3.9/site-packages/sklearn/svm/_base.py:515: ComplexWarning: Casting complex values to real discards the imaginary part\n",
      "  X = np.asarray(kernel, dtype=np.float64, order=\"C\")\n",
      "/opt/homebrew/lib/python3.9/site-packages/sklearn/svm/_base.py:515: ComplexWarning: Casting complex values to real discards the imaginary part\n",
      "  X = np.asarray(kernel, dtype=np.float64, order=\"C\")\n",
      "/opt/homebrew/lib/python3.9/site-packages/sklearn/svm/_base.py:515: ComplexWarning: Casting complex values to real discards the imaginary part\n",
      "  X = np.asarray(kernel, dtype=np.float64, order=\"C\")\n",
      "/opt/homebrew/lib/python3.9/site-packages/sklearn/svm/_base.py:515: ComplexWarning: Casting complex values to real discards the imaginary part\n",
      "  X = np.asarray(kernel, dtype=np.float64, order=\"C\")\n",
      "/opt/homebrew/lib/python3.9/site-packages/sklearn/svm/_base.py:515: ComplexWarning: Casting complex values to real discards the imaginary part\n",
      "  X = np.asarray(kernel, dtype=np.float64, order=\"C\")\n",
      "/opt/homebrew/lib/python3.9/site-packages/sklearn/svm/_base.py:515: ComplexWarning: Casting complex values to real discards the imaginary part\n",
      "  X = np.asarray(kernel, dtype=np.float64, order=\"C\")\n",
      "/opt/homebrew/lib/python3.9/site-packages/sklearn/svm/_base.py:515: ComplexWarning: Casting complex values to real discards the imaginary part\n",
      "  X = np.asarray(kernel, dtype=np.float64, order=\"C\")\n"
     ]
    }
   ],
   "source": [
    "\n",
    "_models = []\n",
    "_models.append(('qsvc',svc))\n",
    "_metrics = ['precision', 'recall', 'f1', 'accuracy', 'balanced_accuracy', 'matthews_corrcoef']\n",
    "for metric in _metrics:\n",
    "    df_results= pd.concat([df_results, evaluate_ml_model(_models, sample_train, label_train, n_fold=10, metric=metric)], axis=1)"
   ]
  },
  {
   "cell_type": "code",
   "execution_count": 58,
   "id": "ea8ce2a3-7a80-42fb-aa8a-80a8da10941a",
   "metadata": {},
   "outputs": [
    {
     "data": {
      "text/html": [
       "<div>\n",
       "<style scoped>\n",
       "    .dataframe tbody tr th:only-of-type {\n",
       "        vertical-align: middle;\n",
       "    }\n",
       "\n",
       "    .dataframe tbody tr th {\n",
       "        vertical-align: top;\n",
       "    }\n",
       "\n",
       "    .dataframe thead th {\n",
       "        text-align: right;\n",
       "    }\n",
       "</style>\n",
       "<table border=\"1\" class=\"dataframe\">\n",
       "  <thead>\n",
       "    <tr style=\"text-align: right;\">\n",
       "      <th></th>\n",
       "      <th>precision mean (%)</th>\n",
       "      <th>precision std (%)</th>\n",
       "      <th>recall mean (%)</th>\n",
       "      <th>recall std (%)</th>\n",
       "      <th>f1 mean (%)</th>\n",
       "      <th>f1 std (%)</th>\n",
       "      <th>accuracy mean (%)</th>\n",
       "      <th>accuracy std (%)</th>\n",
       "      <th>balanced_accuracy mean (%)</th>\n",
       "      <th>balanced_accuracy std (%)</th>\n",
       "      <th>...</th>\n",
       "      <th>recall mean (%)</th>\n",
       "      <th>recall std (%)</th>\n",
       "      <th>f1 mean (%)</th>\n",
       "      <th>f1 std (%)</th>\n",
       "      <th>accuracy mean (%)</th>\n",
       "      <th>accuracy std (%)</th>\n",
       "      <th>balanced_accuracy mean (%)</th>\n",
       "      <th>balanced_accuracy std (%)</th>\n",
       "      <th>matthews_corrcoef mean (%)</th>\n",
       "      <th>matthews_corrcoef std (%)</th>\n",
       "    </tr>\n",
       "  </thead>\n",
       "  <tbody>\n",
       "    <tr>\n",
       "      <th>LR</th>\n",
       "      <td>97.74</td>\n",
       "      <td>4.72</td>\n",
       "      <td>46.39</td>\n",
       "      <td>11.56</td>\n",
       "      <td>62.00</td>\n",
       "      <td>11.26</td>\n",
       "      <td>86.12</td>\n",
       "      <td>3.37</td>\n",
       "      <td>73.03</td>\n",
       "      <td>5.77</td>\n",
       "      <td>...</td>\n",
       "      <td>NaN</td>\n",
       "      <td>NaN</td>\n",
       "      <td>NaN</td>\n",
       "      <td>NaN</td>\n",
       "      <td>NaN</td>\n",
       "      <td>NaN</td>\n",
       "      <td>NaN</td>\n",
       "      <td>NaN</td>\n",
       "      <td>NaN</td>\n",
       "      <td>NaN</td>\n",
       "    </tr>\n",
       "    <tr>\n",
       "      <th>KNN</th>\n",
       "      <td>76.32</td>\n",
       "      <td>10.86</td>\n",
       "      <td>61.90</td>\n",
       "      <td>11.08</td>\n",
       "      <td>67.60</td>\n",
       "      <td>8.95</td>\n",
       "      <td>85.38</td>\n",
       "      <td>3.06</td>\n",
       "      <td>77.61</td>\n",
       "      <td>5.37</td>\n",
       "      <td>...</td>\n",
       "      <td>NaN</td>\n",
       "      <td>NaN</td>\n",
       "      <td>NaN</td>\n",
       "      <td>NaN</td>\n",
       "      <td>NaN</td>\n",
       "      <td>NaN</td>\n",
       "      <td>NaN</td>\n",
       "      <td>NaN</td>\n",
       "      <td>NaN</td>\n",
       "      <td>NaN</td>\n",
       "    </tr>\n",
       "    <tr>\n",
       "      <th>CART</th>\n",
       "      <td>62.88</td>\n",
       "      <td>10.32</td>\n",
       "      <td>65.07</td>\n",
       "      <td>12.54</td>\n",
       "      <td>63.69</td>\n",
       "      <td>10.09</td>\n",
       "      <td>81.62</td>\n",
       "      <td>4.22</td>\n",
       "      <td>76.08</td>\n",
       "      <td>6.67</td>\n",
       "      <td>...</td>\n",
       "      <td>NaN</td>\n",
       "      <td>NaN</td>\n",
       "      <td>NaN</td>\n",
       "      <td>NaN</td>\n",
       "      <td>NaN</td>\n",
       "      <td>NaN</td>\n",
       "      <td>NaN</td>\n",
       "      <td>NaN</td>\n",
       "      <td>NaN</td>\n",
       "      <td>NaN</td>\n",
       "    </tr>\n",
       "    <tr>\n",
       "      <th>NB</th>\n",
       "      <td>89.69</td>\n",
       "      <td>10.18</td>\n",
       "      <td>51.45</td>\n",
       "      <td>11.66</td>\n",
       "      <td>64.22</td>\n",
       "      <td>9.78</td>\n",
       "      <td>86.00</td>\n",
       "      <td>3.00</td>\n",
       "      <td>74.66</td>\n",
       "      <td>5.51</td>\n",
       "      <td>...</td>\n",
       "      <td>NaN</td>\n",
       "      <td>NaN</td>\n",
       "      <td>NaN</td>\n",
       "      <td>NaN</td>\n",
       "      <td>NaN</td>\n",
       "      <td>NaN</td>\n",
       "      <td>NaN</td>\n",
       "      <td>NaN</td>\n",
       "      <td>NaN</td>\n",
       "      <td>NaN</td>\n",
       "    </tr>\n",
       "    <tr>\n",
       "      <th>SVM</th>\n",
       "      <td>94.55</td>\n",
       "      <td>5.87</td>\n",
       "      <td>49.75</td>\n",
       "      <td>10.29</td>\n",
       "      <td>64.43</td>\n",
       "      <td>9.04</td>\n",
       "      <td>86.50</td>\n",
       "      <td>2.84</td>\n",
       "      <td>74.38</td>\n",
       "      <td>4.97</td>\n",
       "      <td>...</td>\n",
       "      <td>NaN</td>\n",
       "      <td>NaN</td>\n",
       "      <td>NaN</td>\n",
       "      <td>NaN</td>\n",
       "      <td>NaN</td>\n",
       "      <td>NaN</td>\n",
       "      <td>NaN</td>\n",
       "      <td>NaN</td>\n",
       "      <td>NaN</td>\n",
       "      <td>NaN</td>\n",
       "    </tr>\n",
       "    <tr>\n",
       "      <th>qsvc</th>\n",
       "      <td>NaN</td>\n",
       "      <td>NaN</td>\n",
       "      <td>NaN</td>\n",
       "      <td>NaN</td>\n",
       "      <td>NaN</td>\n",
       "      <td>NaN</td>\n",
       "      <td>NaN</td>\n",
       "      <td>NaN</td>\n",
       "      <td>NaN</td>\n",
       "      <td>NaN</td>\n",
       "      <td>...</td>\n",
       "      <td>46.88</td>\n",
       "      <td>11.47</td>\n",
       "      <td>61.84</td>\n",
       "      <td>10.31</td>\n",
       "      <td>85.88</td>\n",
       "      <td>3.16</td>\n",
       "      <td>73.03</td>\n",
       "      <td>5.49</td>\n",
       "      <td>60.34</td>\n",
       "      <td>8.08</td>\n",
       "    </tr>\n",
       "  </tbody>\n",
       "</table>\n",
       "<p>6 rows × 26 columns</p>\n",
       "</div>"
      ],
      "text/plain": [
       "      precision mean (%)  precision std (%)  recall mean (%)  recall std (%)  \\\n",
       "LR                 97.74               4.72            46.39           11.56   \n",
       "KNN                76.32              10.86            61.90           11.08   \n",
       "CART               62.88              10.32            65.07           12.54   \n",
       "NB                 89.69              10.18            51.45           11.66   \n",
       "SVM                94.55               5.87            49.75           10.29   \n",
       "qsvc                 NaN                NaN              NaN             NaN   \n",
       "\n",
       "      f1 mean (%)  f1 std (%)  accuracy mean (%)  accuracy std (%)  \\\n",
       "LR          62.00       11.26              86.12              3.37   \n",
       "KNN         67.60        8.95              85.38              3.06   \n",
       "CART        63.69       10.09              81.62              4.22   \n",
       "NB          64.22        9.78              86.00              3.00   \n",
       "SVM         64.43        9.04              86.50              2.84   \n",
       "qsvc          NaN         NaN                NaN               NaN   \n",
       "\n",
       "      balanced_accuracy mean (%)  balanced_accuracy std (%)  ...  \\\n",
       "LR                         73.03                       5.77  ...   \n",
       "KNN                        77.61                       5.37  ...   \n",
       "CART                       76.08                       6.67  ...   \n",
       "NB                         74.66                       5.51  ...   \n",
       "SVM                        74.38                       4.97  ...   \n",
       "qsvc                         NaN                        NaN  ...   \n",
       "\n",
       "      recall mean (%)  recall std (%)  f1 mean (%)  f1 std (%)  \\\n",
       "LR                NaN             NaN          NaN         NaN   \n",
       "KNN               NaN             NaN          NaN         NaN   \n",
       "CART              NaN             NaN          NaN         NaN   \n",
       "NB                NaN             NaN          NaN         NaN   \n",
       "SVM               NaN             NaN          NaN         NaN   \n",
       "qsvc            46.88           11.47        61.84       10.31   \n",
       "\n",
       "      accuracy mean (%)  accuracy std (%)  balanced_accuracy mean (%)  \\\n",
       "LR                  NaN               NaN                         NaN   \n",
       "KNN                 NaN               NaN                         NaN   \n",
       "CART                NaN               NaN                         NaN   \n",
       "NB                  NaN               NaN                         NaN   \n",
       "SVM                 NaN               NaN                         NaN   \n",
       "qsvc              85.88              3.16                       73.03   \n",
       "\n",
       "      balanced_accuracy std (%)  matthews_corrcoef mean (%)  \\\n",
       "LR                          NaN                         NaN   \n",
       "KNN                         NaN                         NaN   \n",
       "CART                        NaN                         NaN   \n",
       "NB                          NaN                         NaN   \n",
       "SVM                         NaN                         NaN   \n",
       "qsvc                       5.49                       60.34   \n",
       "\n",
       "      matthews_corrcoef std (%)  \n",
       "LR                          NaN  \n",
       "KNN                         NaN  \n",
       "CART                        NaN  \n",
       "NB                          NaN  \n",
       "SVM                         NaN  \n",
       "qsvc                       8.08  \n",
       "\n",
       "[6 rows x 26 columns]"
      ]
     },
     "execution_count": 58,
     "metadata": {},
     "output_type": "execute_result"
    }
   ],
   "source": [
    "df_results"
   ]
  },
  {
   "cell_type": "code",
   "execution_count": 44,
   "id": "26e6bd91-093f-415f-89b0-40e71ab48126",
   "metadata": {},
   "outputs": [],
   "source": [
    "df_results.to_csv('LDA_fraud_dataset.csv')"
   ]
  },
  {
   "cell_type": "markdown",
   "id": "5fc1d4e4-599e-47ea-b53c-dc200ee4dec0",
   "metadata": {},
   "source": [
    "## Classical Approaches"
   ]
  },
  {
   "cell_type": "code",
   "execution_count": 30,
   "id": "d93f1b24-b419-4eb0-abb5-fd297fcec137",
   "metadata": {},
   "outputs": [],
   "source": [
    "models = []\n",
    "models.append(('LR', LogisticRegression(max_iter=1000)))\n",
    "models.append(('KNN', KNeighborsClassifier()))\n",
    "models.append(('CART', DecisionTreeClassifier()))\n",
    "models.append(('NB', GaussianNB()))\n",
    "models.append(('SVM', SVC()))"
   ]
  },
  {
   "cell_type": "code",
   "execution_count": 31,
   "id": "a92689bc-07b9-4bdd-b25c-0b0bae45a976",
   "metadata": {},
   "outputs": [],
   "source": [
    "df_results = pd.DataFrame()"
   ]
  },
  {
   "cell_type": "code",
   "execution_count": 32,
   "id": "5bd332f9-cc4e-43eb-9cd9-0990b709ae83",
   "metadata": {},
   "outputs": [],
   "source": [
    "def evaluate_ml_model(models, X, y, n_fold=10, metric='precision'):\n",
    "    \n",
    "    _df = pd.DataFrame()\n",
    "    #results = []\n",
    "    names = []\n",
    "    #scoring = 'accuracy'\n",
    "    for name, model in models:\n",
    "        kfold = KFold(n_splits=n_fold)\n",
    "        cv_results = cross_val_score(model, X, y, cv=kfold, scoring=metric)\n",
    "        #results.append(cv_results)\n",
    "        names.append(name)\n",
    "        msg = \"%s: %f (%f)\" % (name, cv_results.mean(), cv_results.std())\n",
    "        #print(msg)\n",
    "        _df =  pd.concat([_df, pd.DataFrame([round(100*cv_results.mean(), 2) , round(100*cv_results.std(), 2) ]).T])\n",
    "    _df.index = names\n",
    "    _df.columns=[metric+' mean (%)', metric+' std (%)']\n",
    "    return _df \n",
    "             \n",
    "        "
   ]
  },
  {
   "cell_type": "code",
   "execution_count": 33,
   "id": "89520867-4e75-4e63-ae1e-10842771f073",
   "metadata": {},
   "outputs": [],
   "source": [
    "_metrics = ['precision', 'recall', 'f1', 'accuracy', 'balanced_accuracy', 'matthews_corrcoef']\n",
    "for metric in _metrics:\n",
    "    df_results= pd.concat([df_results, evaluate_ml_model(models, sample_train, label_train, n_fold=10, metric=metric)], axis=1)"
   ]
  },
  {
   "cell_type": "code",
   "execution_count": 34,
   "id": "15d5c6b3-7172-430b-b803-f60126a12cdb",
   "metadata": {},
   "outputs": [],
   "source": [
    "df_results= pd.concat([df_results, evaluate_ml_model(models, sample_train, label_train, n_fold=10, metric='accuracy')], axis=1)"
   ]
  },
  {
   "cell_type": "code",
   "execution_count": 35,
   "id": "8561d92d-f3ee-4045-b6e5-98097a82f364",
   "metadata": {},
   "outputs": [
    {
     "data": {
      "text/html": [
       "<div>\n",
       "<style scoped>\n",
       "    .dataframe tbody tr th:only-of-type {\n",
       "        vertical-align: middle;\n",
       "    }\n",
       "\n",
       "    .dataframe tbody tr th {\n",
       "        vertical-align: top;\n",
       "    }\n",
       "\n",
       "    .dataframe thead th {\n",
       "        text-align: right;\n",
       "    }\n",
       "</style>\n",
       "<table border=\"1\" class=\"dataframe\">\n",
       "  <thead>\n",
       "    <tr style=\"text-align: right;\">\n",
       "      <th></th>\n",
       "      <th>precision mean (%)</th>\n",
       "      <th>precision std (%)</th>\n",
       "      <th>recall mean (%)</th>\n",
       "      <th>recall std (%)</th>\n",
       "      <th>f1 mean (%)</th>\n",
       "      <th>f1 std (%)</th>\n",
       "      <th>accuracy mean (%)</th>\n",
       "      <th>accuracy std (%)</th>\n",
       "      <th>balanced_accuracy mean (%)</th>\n",
       "      <th>balanced_accuracy std (%)</th>\n",
       "      <th>matthews_corrcoef mean (%)</th>\n",
       "      <th>matthews_corrcoef std (%)</th>\n",
       "      <th>accuracy mean (%)</th>\n",
       "      <th>accuracy std (%)</th>\n",
       "    </tr>\n",
       "  </thead>\n",
       "  <tbody>\n",
       "    <tr>\n",
       "      <th>LR</th>\n",
       "      <td>97.74</td>\n",
       "      <td>4.72</td>\n",
       "      <td>46.39</td>\n",
       "      <td>11.56</td>\n",
       "      <td>62.00</td>\n",
       "      <td>11.26</td>\n",
       "      <td>86.12</td>\n",
       "      <td>3.37</td>\n",
       "      <td>73.03</td>\n",
       "      <td>5.77</td>\n",
       "      <td>61.17</td>\n",
       "      <td>9.25</td>\n",
       "      <td>86.12</td>\n",
       "      <td>3.37</td>\n",
       "    </tr>\n",
       "    <tr>\n",
       "      <th>KNN</th>\n",
       "      <td>76.32</td>\n",
       "      <td>10.86</td>\n",
       "      <td>61.90</td>\n",
       "      <td>11.08</td>\n",
       "      <td>67.60</td>\n",
       "      <td>8.95</td>\n",
       "      <td>85.38</td>\n",
       "      <td>3.06</td>\n",
       "      <td>77.61</td>\n",
       "      <td>5.37</td>\n",
       "      <td>59.38</td>\n",
       "      <td>9.89</td>\n",
       "      <td>85.38</td>\n",
       "      <td>3.06</td>\n",
       "    </tr>\n",
       "    <tr>\n",
       "      <th>CART</th>\n",
       "      <td>62.88</td>\n",
       "      <td>10.32</td>\n",
       "      <td>65.07</td>\n",
       "      <td>12.54</td>\n",
       "      <td>63.69</td>\n",
       "      <td>10.09</td>\n",
       "      <td>81.62</td>\n",
       "      <td>4.22</td>\n",
       "      <td>76.08</td>\n",
       "      <td>6.67</td>\n",
       "      <td>52.26</td>\n",
       "      <td>12.99</td>\n",
       "      <td>81.75</td>\n",
       "      <td>4.34</td>\n",
       "    </tr>\n",
       "    <tr>\n",
       "      <th>NB</th>\n",
       "      <td>89.69</td>\n",
       "      <td>10.18</td>\n",
       "      <td>51.45</td>\n",
       "      <td>11.66</td>\n",
       "      <td>64.22</td>\n",
       "      <td>9.78</td>\n",
       "      <td>86.00</td>\n",
       "      <td>3.00</td>\n",
       "      <td>74.66</td>\n",
       "      <td>5.51</td>\n",
       "      <td>60.52</td>\n",
       "      <td>8.70</td>\n",
       "      <td>86.00</td>\n",
       "      <td>3.00</td>\n",
       "    </tr>\n",
       "    <tr>\n",
       "      <th>SVM</th>\n",
       "      <td>94.55</td>\n",
       "      <td>5.87</td>\n",
       "      <td>49.75</td>\n",
       "      <td>10.29</td>\n",
       "      <td>64.43</td>\n",
       "      <td>9.04</td>\n",
       "      <td>86.50</td>\n",
       "      <td>2.84</td>\n",
       "      <td>74.38</td>\n",
       "      <td>4.97</td>\n",
       "      <td>62.12</td>\n",
       "      <td>7.51</td>\n",
       "      <td>86.50</td>\n",
       "      <td>2.84</td>\n",
       "    </tr>\n",
       "  </tbody>\n",
       "</table>\n",
       "</div>"
      ],
      "text/plain": [
       "      precision mean (%)  precision std (%)  recall mean (%)  recall std (%)  \\\n",
       "LR                 97.74               4.72            46.39           11.56   \n",
       "KNN                76.32              10.86            61.90           11.08   \n",
       "CART               62.88              10.32            65.07           12.54   \n",
       "NB                 89.69              10.18            51.45           11.66   \n",
       "SVM                94.55               5.87            49.75           10.29   \n",
       "\n",
       "      f1 mean (%)  f1 std (%)  accuracy mean (%)  accuracy std (%)  \\\n",
       "LR          62.00       11.26              86.12              3.37   \n",
       "KNN         67.60        8.95              85.38              3.06   \n",
       "CART        63.69       10.09              81.62              4.22   \n",
       "NB          64.22        9.78              86.00              3.00   \n",
       "SVM         64.43        9.04              86.50              2.84   \n",
       "\n",
       "      balanced_accuracy mean (%)  balanced_accuracy std (%)  \\\n",
       "LR                         73.03                       5.77   \n",
       "KNN                        77.61                       5.37   \n",
       "CART                       76.08                       6.67   \n",
       "NB                         74.66                       5.51   \n",
       "SVM                        74.38                       4.97   \n",
       "\n",
       "      matthews_corrcoef mean (%)  matthews_corrcoef std (%)  \\\n",
       "LR                         61.17                       9.25   \n",
       "KNN                        59.38                       9.89   \n",
       "CART                       52.26                      12.99   \n",
       "NB                         60.52                       8.70   \n",
       "SVM                        62.12                       7.51   \n",
       "\n",
       "      accuracy mean (%)  accuracy std (%)  \n",
       "LR                86.12              3.37  \n",
       "KNN               85.38              3.06  \n",
       "CART              81.75              4.34  \n",
       "NB                86.00              3.00  \n",
       "SVM               86.50              2.84  "
      ]
     },
     "execution_count": 35,
     "metadata": {},
     "output_type": "execute_result"
    }
   ],
   "source": [
    "df_results"
   ]
  },
  {
   "cell_type": "markdown",
   "id": "d339da61-ed6a-4195-a0a0-7d123474e9be",
   "metadata": {},
   "source": [
    "## QSVC"
   ]
  },
  {
   "cell_type": "code",
   "execution_count": null,
   "id": "b3b368ba-6fe2-4bac-ba5c-edd110015136",
   "metadata": {},
   "outputs": [],
   "source": [
    "# Be assure that your qiskit version is 0.4.0\n",
    "# run !pip install --upgrade qiskit==0.4.0 if not "
   ]
  },
  {
   "cell_type": "code",
   "execution_count": 24,
   "id": "9afa67d9-cf2d-47a5-8fe9-affe602f79cd",
   "metadata": {
    "tags": []
   },
   "outputs": [
    {
     "ename": "AttributeError",
     "evalue": "'QuantumInstance' object has no attribute 'evaluate'",
     "output_type": "error",
     "traceback": [
      "\u001b[0;31m---------------------------------------------------------------------------\u001b[0m",
      "\u001b[0;31mAttributeError\u001b[0m                            Traceback (most recent call last)",
      "Input \u001b[0;32mIn [24]\u001b[0m, in \u001b[0;36m<cell line: 18>\u001b[0;34m()\u001b[0m\n\u001b[1;32m     15\u001b[0m quantum_instance \u001b[38;5;241m=\u001b[39m QuantumInstance(backend, shots\u001b[38;5;241m=\u001b[39m\u001b[38;5;241m1024\u001b[39m, seed_simulator\u001b[38;5;241m=\u001b[39mseed, seed_transpiler\u001b[38;5;241m=\u001b[39mseed)\n\u001b[1;32m     17\u001b[0m \u001b[38;5;66;03m# Model run\u001b[39;00m\n\u001b[0;32m---> 18\u001b[0m vqc \u001b[38;5;241m=\u001b[39m \u001b[43mQSVC\u001b[49m\u001b[43m(\u001b[49m\u001b[43mquantum_kernel\u001b[49m\u001b[38;5;241;43m=\u001b[39;49m\u001b[43mquantum_instance\u001b[49m\u001b[43m)\u001b[49m\u001b[38;5;66;03m#optimizer, feature_map, var_form, training_input, test_input, datapoints[0])\u001b[39;00m\n\u001b[1;32m     21\u001b[0m result \u001b[38;5;241m=\u001b[39m vqc\u001b[38;5;241m.\u001b[39mfit(sample_train, label_train)\n",
      "File \u001b[0;32m/opt/homebrew/lib/python3.9/site-packages/qiskit_machine_learning/algorithms/classifiers/qsvc.py:73\u001b[0m, in \u001b[0;36mQSVC.__init__\u001b[0;34m(self, quantum_kernel, *args, **kwargs)\u001b[0m\n\u001b[1;32m     70\u001b[0m \u001b[38;5;28;01mif\u001b[39;00m \u001b[38;5;124m\"\u001b[39m\u001b[38;5;124mrandom_state\u001b[39m\u001b[38;5;124m\"\u001b[39m \u001b[38;5;129;01mnot\u001b[39;00m \u001b[38;5;129;01min\u001b[39;00m kwargs:\n\u001b[1;32m     71\u001b[0m     kwargs[\u001b[38;5;124m\"\u001b[39m\u001b[38;5;124mrandom_state\u001b[39m\u001b[38;5;124m\"\u001b[39m] \u001b[38;5;241m=\u001b[39m algorithm_globals\u001b[38;5;241m.\u001b[39mrandom_seed\n\u001b[0;32m---> 73\u001b[0m \u001b[38;5;28msuper\u001b[39m()\u001b[38;5;241m.\u001b[39m\u001b[38;5;21m__init__\u001b[39m(kernel\u001b[38;5;241m=\u001b[39m\u001b[38;5;28;43mself\u001b[39;49m\u001b[38;5;241;43m.\u001b[39;49m\u001b[43m_quantum_kernel\u001b[49m\u001b[38;5;241;43m.\u001b[39;49m\u001b[43mevaluate\u001b[49m, \u001b[38;5;241m*\u001b[39margs, \u001b[38;5;241m*\u001b[39m\u001b[38;5;241m*\u001b[39mkwargs)\n",
      "\u001b[0;31mAttributeError\u001b[0m: 'QuantumInstance' object has no attribute 'evaluate'"
     ]
    }
   ],
   "source": [
    "#%%script false --no-raise-error\n",
    "# Define feature_map, optimizer and var_form\n",
    "\n",
    "feature_map = ZZFeatureMap(feature_dimension=feature_dim, reps=2)\n",
    "optimizer = COBYLA(maxiter=20, disp=True, rhobeg=1.0, tol=None)\n",
    "var_form = TwoLocal(feature_dim, ['ry', 'rz'], 'cz', reps=3)\n",
    "\n",
    "\n",
    "# Define the backend\n",
    "\n",
    "#backend = qiskit.Aer.get_backend('qasm_simulator')\n",
    "backend = BasicAer.get_backend(\"qasm_simulator\")\n",
    "# Define the instance\n",
    "\n",
    "quantum_instance = QuantumInstance(backend, shots=1024, seed_simulator=seed, seed_transpiler=seed)\n",
    "\n",
    "# Model run\n",
    "vqc = QSVC(quantum_kernel=quantum_instance)#optimizer, feature_map, var_form, training_input, test_input, datapoints[0])\n",
    "\n",
    "\n",
    "result = vqc.fit(sample_train, label_train)\n",
    "\n"
   ]
  },
  {
   "cell_type": "code",
   "execution_count": 1,
   "id": "3160da18-b47b-44af-8c84-15c7f3fd30c4",
   "metadata": {},
   "outputs": [
    {
     "data": {
      "text/plain": [
       "'0.21.1'"
      ]
     },
     "execution_count": 1,
     "metadata": {},
     "output_type": "execute_result"
    }
   ],
   "source": [
    "import qiskit\n",
    "qiskit.__version__"
   ]
  },
  {
   "cell_type": "code",
   "execution_count": 33,
   "id": "38c31acd-2c8f-41d4-a0ec-0427af9d908b",
   "metadata": {
    "collapsed": true,
    "jupyter": {
     "outputs_hidden": true
    },
    "tags": []
   },
   "outputs": [
    {
     "name": "stdout",
     "output_type": "stream",
     "text": [
      "\u001b[33mDEPRECATION: Configuring installation scheme with distutils config files is deprecated and will no longer work in the near future. If you are using a Homebrew or Linuxbrew Python, please see discussion at https://github.com/Homebrew/homebrew-core/issues/76621\u001b[0m\u001b[33m\n",
      "\u001b[0mRequirement already satisfied: qiskit in /opt/homebrew/lib/python3.9/site-packages (0.37.1)\n",
      "Requirement already satisfied: qiskit-aer==0.10.4 in /opt/homebrew/lib/python3.9/site-packages (from qiskit) (0.10.4)\n",
      "Requirement already satisfied: qiskit-ibmq-provider==0.19.2 in /opt/homebrew/lib/python3.9/site-packages (from qiskit) (0.19.2)\n",
      "Requirement already satisfied: qiskit-terra==0.21.1 in /opt/homebrew/lib/python3.9/site-packages (from qiskit) (0.21.1)\n",
      "Requirement already satisfied: scipy>=1.0 in /opt/homebrew/lib/python3.9/site-packages (from qiskit-aer==0.10.4->qiskit) (1.8.1)\n",
      "Requirement already satisfied: numpy>=1.16.3 in /opt/homebrew/lib/python3.9/site-packages (from qiskit-aer==0.10.4->qiskit) (1.23.1)\n",
      "Requirement already satisfied: websocket-client>=1.0.1 in /opt/homebrew/lib/python3.9/site-packages (from qiskit-ibmq-provider==0.19.2->qiskit) (1.3.3)\n",
      "Requirement already satisfied: urllib3>=1.21.1 in /opt/homebrew/lib/python3.9/site-packages (from qiskit-ibmq-provider==0.19.2->qiskit) (1.26.10)\n",
      "Requirement already satisfied: python-dateutil>=2.8.0 in /opt/homebrew/lib/python3.9/site-packages (from qiskit-ibmq-provider==0.19.2->qiskit) (2.8.2)\n",
      "Requirement already satisfied: websockets>=10.0 in /opt/homebrew/lib/python3.9/site-packages (from qiskit-ibmq-provider==0.19.2->qiskit) (10.3)\n",
      "Requirement already satisfied: requests>=2.19 in /opt/homebrew/lib/python3.9/site-packages (from qiskit-ibmq-provider==0.19.2->qiskit) (2.28.1)\n",
      "Requirement already satisfied: requests-ntlm>=1.1.0 in /opt/homebrew/lib/python3.9/site-packages (from qiskit-ibmq-provider==0.19.2->qiskit) (1.1.0)\n",
      "Requirement already satisfied: dill>=0.3 in /opt/homebrew/lib/python3.9/site-packages (from qiskit-terra==0.21.1->qiskit) (0.3.5.1)\n",
      "Requirement already satisfied: ply>=3.10 in /opt/homebrew/lib/python3.9/site-packages (from qiskit-terra==0.21.1->qiskit) (3.11)\n",
      "Requirement already satisfied: sympy>=1.3 in /opt/homebrew/lib/python3.9/site-packages (from qiskit-terra==0.21.1->qiskit) (1.10.1)\n",
      "Requirement already satisfied: tweedledum<2.0,>=1.1 in /opt/homebrew/lib/python3.9/site-packages (from qiskit-terra==0.21.1->qiskit) (1.1.1)\n",
      "Requirement already satisfied: symengine>=0.9 in /opt/homebrew/lib/python3.9/site-packages (from qiskit-terra==0.21.1->qiskit) (0.9.2)\n",
      "Requirement already satisfied: stevedore>=3.0.0 in /opt/homebrew/lib/python3.9/site-packages (from qiskit-terra==0.21.1->qiskit) (4.0.0)\n",
      "Requirement already satisfied: retworkx>=0.11.0 in /opt/homebrew/lib/python3.9/site-packages (from qiskit-terra==0.21.1->qiskit) (0.11.0)\n",
      "Requirement already satisfied: psutil>=5 in /opt/homebrew/lib/python3.9/site-packages (from qiskit-terra==0.21.1->qiskit) (5.9.1)\n",
      "Requirement already satisfied: six>=1.5 in /opt/homebrew/lib/python3.9/site-packages (from python-dateutil>=2.8.0->qiskit-ibmq-provider==0.19.2->qiskit) (1.16.0)\n",
      "Requirement already satisfied: charset-normalizer<3,>=2 in /opt/homebrew/lib/python3.9/site-packages (from requests>=2.19->qiskit-ibmq-provider==0.19.2->qiskit) (2.1.0)\n",
      "Requirement already satisfied: certifi>=2017.4.17 in /opt/homebrew/lib/python3.9/site-packages (from requests>=2.19->qiskit-ibmq-provider==0.19.2->qiskit) (2022.6.15)\n",
      "Requirement already satisfied: idna<4,>=2.5 in /opt/homebrew/lib/python3.9/site-packages (from requests>=2.19->qiskit-ibmq-provider==0.19.2->qiskit) (3.3)\n",
      "Requirement already satisfied: ntlm-auth>=1.0.2 in /opt/homebrew/lib/python3.9/site-packages (from requests-ntlm>=1.1.0->qiskit-ibmq-provider==0.19.2->qiskit) (1.5.0)\n",
      "Requirement already satisfied: cryptography>=1.3 in /opt/homebrew/lib/python3.9/site-packages (from requests-ntlm>=1.1.0->qiskit-ibmq-provider==0.19.2->qiskit) (37.0.4)\n",
      "Requirement already satisfied: pbr!=2.1.0,>=2.0.0 in /opt/homebrew/lib/python3.9/site-packages (from stevedore>=3.0.0->qiskit-terra==0.21.1->qiskit) (5.9.0)\n",
      "Requirement already satisfied: mpmath>=0.19 in /opt/homebrew/lib/python3.9/site-packages (from sympy>=1.3->qiskit-terra==0.21.1->qiskit) (1.2.1)\n",
      "Requirement already satisfied: cffi>=1.12 in /opt/homebrew/lib/python3.9/site-packages (from cryptography>=1.3->requests-ntlm>=1.1.0->qiskit-ibmq-provider==0.19.2->qiskit) (1.15.1)\n",
      "Requirement already satisfied: pycparser in /opt/homebrew/lib/python3.9/site-packages (from cffi>=1.12->cryptography>=1.3->requests-ntlm>=1.1.0->qiskit-ibmq-provider==0.19.2->qiskit) (2.21)\n",
      "\u001b[33mDEPRECATION: Configuring installation scheme with distutils config files is deprecated and will no longer work in the near future. If you are using a Homebrew or Linuxbrew Python, please see discussion at https://github.com/Homebrew/homebrew-core/issues/76621\u001b[0m\u001b[33m\n",
      "\u001b[0m"
     ]
    }
   ],
   "source": [
    "!pip3 install --upgrade qiskit #==0.4.0"
   ]
  },
  {
   "cell_type": "markdown",
   "id": "3b70b837-4e39-4b65-83ca-8e82fc83efa1",
   "metadata": {},
   "source": [
    "## Pennylane"
   ]
  },
  {
   "cell_type": "code",
   "execution_count": 43,
   "id": "ff1d5656-f2f2-4d96-b210-a75a161cdb39",
   "metadata": {},
   "outputs": [],
   "source": [
    "from pennylane import numpy as np"
   ]
  },
  {
   "cell_type": "code",
   "execution_count": 44,
   "id": "07ec49f5-c401-4c36-aae3-57aad3eaa0ba",
   "metadata": {},
   "outputs": [],
   "source": [
    "# Angle Encoding\n",
    "\n",
    "num_qubits = n_dim\n",
    "\n",
    "dev = qml.device('default.qubit', wires = num_qubits)\n",
    "\n",
    "@qml.qnode(dev)\n",
    "def circuit(parameters, data):\n",
    "    for i in range(num_qubits):\n",
    "        qml.Hadamard(wires = i)\n",
    "    \n",
    "    AngleEmbedding(features = data, wires = range(num_qubits), rotation = 'Y')\n",
    "    \n",
    "    qml.StronglyEntanglingLayers(weights = parameters, wires = range(num_qubits))\n",
    "    \n",
    "    return qml.expval(qml.PauliZ(0))"
   ]
  },
  {
   "cell_type": "code",
   "execution_count": 45,
   "id": "ffcf8fdb-37a0-4b64-b73c-76be553995e8",
   "metadata": {},
   "outputs": [],
   "source": [
    "num_layers = 5\n",
    "weights_init = 0.01 * np.random.randn(num_layers, num_qubits, 3, requires_grad=True)\n",
    "bias_init = np.array(0.0, requires_grad=True)\n",
    "\n",
    "#print(weights_init, bias_init)"
   ]
  },
  {
   "cell_type": "code",
   "execution_count": 46,
   "id": "49568595-37ec-4749-a230-dc4c6dae2500",
   "metadata": {},
   "outputs": [
    {
     "data": {
      "text/plain": [
       "tensor(-0.00183748, requires_grad=True)"
      ]
     },
     "execution_count": 46,
     "metadata": {},
     "output_type": "execute_result"
    }
   ],
   "source": [
    "circuit(weights_init, sample_train[0])"
   ]
  },
  {
   "cell_type": "code",
   "execution_count": 47,
   "id": "4febb380-0955-4f05-a872-326cc4e3a27c",
   "metadata": {},
   "outputs": [],
   "source": [
    "def variational_classifier(weights, bias, x):\n",
    "    return circuit(weights, x) + bias"
   ]
  },
  {
   "cell_type": "code",
   "execution_count": 48,
   "id": "c16a1f84-63e5-4fbb-a647-cba6db4c6c4c",
   "metadata": {},
   "outputs": [],
   "source": [
    "def square_loss(labels, predictions):\n",
    "    loss = 0\n",
    "    for l, p in zip(labels, predictions):\n",
    "        loss = loss + (l - p) ** 2\n",
    "\n",
    "    loss = loss / len(labels)\n",
    "    return loss"
   ]
  },
  {
   "cell_type": "code",
   "execution_count": 49,
   "id": "07412a53-c93b-4c73-bd0b-e7e144454435",
   "metadata": {},
   "outputs": [],
   "source": [
    "def accuracy(labels, predictions):\n",
    "\n",
    "    loss = 0\n",
    "    for l, p in zip(labels, predictions):\n",
    "        if abs(l - p) < 1e-5:\n",
    "            loss = loss + 1\n",
    "    loss = loss / len(labels)\n",
    "\n",
    "    return loss"
   ]
  },
  {
   "cell_type": "code",
   "execution_count": 50,
   "id": "1bf0b58e-38f3-4c45-a4d2-3d69af787ba3",
   "metadata": {},
   "outputs": [],
   "source": [
    "def cost(weights, bias, X, Y):\n",
    "    predictions = [variational_classifier(weights, bias, x) for x in X]\n",
    "    return square_loss(Y, predictions)"
   ]
  },
  {
   "cell_type": "code",
   "execution_count": 61,
   "id": "7543fccb-ef55-49cb-8508-5ae8fdfcbc58",
   "metadata": {},
   "outputs": [
    {
     "data": {
      "text/plain": [
       "0    154\n",
       "1     46\n",
       "Name: targets, dtype: int64"
      ]
     },
     "execution_count": 61,
     "metadata": {},
     "output_type": "execute_result"
    }
   ],
   "source": [
    "pd.Series(label_test).value_counts()"
   ]
  },
  {
   "cell_type": "code",
   "execution_count": 51,
   "id": "21ff4aa6-c15b-4a59-a718-67d8da2402dd",
   "metadata": {},
   "outputs": [
    {
     "name": "stdout",
     "output_type": "stream",
     "text": [
      "X = [tensor(-0.17514177, requires_grad=True), tensor(-0.09688955, requires_grad=True)], Y = -1\n",
      "X = [tensor(-0.32449559, requires_grad=True), tensor(-0.24283665, requires_grad=True)], Y = -1\n",
      "X = [tensor(-0.32738015, requires_grad=True), tensor(-0.23926227, requires_grad=True)], Y = -1\n",
      "X = [tensor(-0.31041424, requires_grad=True), tensor(-0.32672589, requires_grad=True)], Y = -1\n",
      "X = [tensor(-0.19126082, requires_grad=True), tensor(-0.39491386, requires_grad=True)], Y = -1\n"
     ]
    }
   ],
   "source": [
    "Y = np.array(label_train * 2 - np.ones(len(label_train)),requires_grad=True)  # shift label from {0, 1} to {-1, 1}\n",
    "X = np.array(sample_train, requires_grad=True)\n",
    "\n",
    "for i in range(5):\n",
    "    print(\"X = {}, Y = {: d}\".format(list(X[i]), int(Y[i])))"
   ]
  },
  {
   "cell_type": "code",
   "execution_count": 52,
   "id": "074f578a-1984-4814-9070-7b20063c8bd1",
   "metadata": {},
   "outputs": [],
   "source": [
    "opt = AdamOptimizer(stepsize=0.1, beta1=0.9, beta2=0.99, eps=1e-08)\n",
    "batch_size = 10"
   ]
  },
  {
   "cell_type": "code",
   "execution_count": 53,
   "id": "a78e0005-464d-46c0-86f4-946291d7586c",
   "metadata": {},
   "outputs": [],
   "source": [
    "import warnings\n",
    "warnings.filterwarnings('ignore')"
   ]
  },
  {
   "cell_type": "code",
   "execution_count": 65,
   "id": "2d31d6a7-74f4-4e63-b1cb-b92bfb610a5a",
   "metadata": {
    "tags": []
   },
   "outputs": [
    {
     "name": "stdout",
     "output_type": "stream",
     "text": [
      "Iter:     1 | Cost: 0.9208959 | f1: 0.0000000 \n",
      "Iter:     2 | Cost: 0.7946867 | f1: 0.0000000 \n",
      "Iter:     3 | Cost: 0.7556910 | f1: 0.0000000 \n",
      "Iter:     4 | Cost: 0.7639409 | f1: 0.0000000 \n",
      "Iter:     5 | Cost: 0.7921983 | f1: 0.0000000 \n",
      "Iter:     6 | Cost: 0.7717088 | f1: 0.0000000 \n",
      "Iter:     7 | Cost: 0.6888074 | f1: 0.0000000 \n",
      "New best\n",
      "Iter:     8 | Cost: 0.6455169 | f1: 0.0195122 \n",
      "New best\n",
      "Iter:     9 | Cost: 0.6945199 | f1: 0.5054945 \n",
      "New best\n",
      "Iter:    10 | Cost: 0.7718919 | f1: 0.6603774 \n",
      "New best\n",
      "Iter:    11 | Cost: 0.8019167 | f1: 0.6902174 \n",
      "Iter:    12 | Cost: 0.7551121 | f1: 0.6539683 \n",
      "Iter:    13 | Cost: 0.6933104 | f1: 0.5563380 \n",
      "Iter:    14 | Cost: 0.6378236 | f1: 0.3292181 \n",
      "Iter:    15 | Cost: 0.6311739 | f1: 0.0000000 \n",
      "Iter:    16 | Cost: 0.6686313 | f1: 0.0000000 \n",
      "Iter:    17 | Cost: 0.6661770 | f1: 0.0000000 \n",
      "Iter:    18 | Cost: 0.6691633 | f1: 0.0000000 \n",
      "Iter:    19 | Cost: 0.6573301 | f1: 0.0000000 \n",
      "Iter:    20 | Cost: 0.6221312 | f1: 0.0098039 \n",
      "Iter:    21 | Cost: 0.6144042 | f1: 0.0666667 \n",
      "Iter:    22 | Cost: 0.6124135 | f1: 0.0758294 \n",
      "Iter:    23 | Cost: 0.6109544 | f1: 0.0938967 \n",
      "Iter:    24 | Cost: 0.6169443 | f1: 0.2192982 \n",
      "Iter:    25 | Cost: 0.6271756 | f1: 0.3888889 \n",
      "Iter:    26 | Cost: 0.6515346 | f1: 0.5109489 \n",
      "Iter:    27 | Cost: 0.6334075 | f1: 0.4545455 \n",
      "Iter:    28 | Cost: 0.6150579 | f1: 0.3760000 \n",
      "Iter:    29 | Cost: 0.6012972 | f1: 0.1290323 \n",
      "Iter:    30 | Cost: 0.6266806 | f1: 0.0098039 \n",
      "Iter:    31 | Cost: 0.6498835 | f1: 0.0000000 \n",
      "Iter:    32 | Cost: 0.6438033 | f1: 0.0000000 \n",
      "Iter:    33 | Cost: 0.6065469 | f1: 0.0849057 \n",
      "Iter:    34 | Cost: 0.6092101 | f1: 0.3083333 \n",
      "Iter:    35 | Cost: 0.6322605 | f1: 0.4776119 \n",
      "Iter:    36 | Cost: 0.6229667 | f1: 0.4486692 \n",
      "Iter:    37 | Cost: 0.6245486 | f1: 0.4776119 \n",
      "Iter:    38 | Cost: 0.6534785 | f1: 0.5460993 \n",
      "Iter:    39 | Cost: 0.6660241 | f1: 0.5763889 \n",
      "Iter:    40 | Cost: 0.6571891 | f1: 0.5563380 \n",
      "Iter:    41 | Cost: 0.6356954 | f1: 0.5217391 \n",
      "Iter:    42 | Cost: 0.6331434 | f1: 0.5109489 \n",
      "Iter:    43 | Cost: 0.6118108 | f1: 0.4202335 \n",
      "Iter:    44 | Cost: 0.6012821 | f1: 0.2500000 \n",
      "Iter:    45 | Cost: 0.6012103 | f1: 0.1793722 \n",
      "Iter:    46 | Cost: 0.6068768 | f1: 0.1028037 \n",
      "Iter:    47 | Cost: 0.6043487 | f1: 0.1290323 \n",
      "Iter:    48 | Cost: 0.6109188 | f1: 0.2869198 \n",
      "Iter:    49 | Cost: 0.6340510 | f1: 0.4444444 \n",
      "Iter:    50 | Cost: 0.6541507 | f1: 0.5217391 \n",
      "Iter:    51 | Cost: 0.6581511 | f1: 0.5304659 \n",
      "Iter:    52 | Cost: 0.6373540 | f1: 0.5109489 \n",
      "Iter:    53 | Cost: 0.6153341 | f1: 0.4503817 \n",
      "Iter:    54 | Cost: 0.6110072 | f1: 0.4444444 \n",
      "Iter:    55 | Cost: 0.6071403 | f1: 0.4015748 \n",
      "Iter:    56 | Cost: 0.6107107 | f1: 0.4015748 \n",
      "Iter:    57 | Cost: 0.6074326 | f1: 0.3495935 \n",
      "Iter:    58 | Cost: 0.6007113 | f1: 0.2114537 \n",
      "Iter:    59 | Cost: 0.5991685 | f1: 0.1875000 \n",
      "Iter:    60 | Cost: 0.5981288 | f1: 0.1711712 \n",
      "Iter:    61 | Cost: 0.6014283 | f1: 0.1028037 \n",
      "Iter:    62 | Cost: 0.6162024 | f1: 0.0480769 \n",
      "Iter:    63 | Cost: 0.6165583 | f1: 0.0480769 \n",
      "Iter:    64 | Cost: 0.6088588 | f1: 0.0666667 \n",
      "Iter:    65 | Cost: 0.6029831 | f1: 0.0758294 \n",
      "Iter:    66 | Cost: 0.6015705 | f1: 0.0938967 \n",
      "Iter:    67 | Cost: 0.5997494 | f1: 0.1028037 \n",
      "Iter:    68 | Cost: 0.5927546 | f1: 0.1290323 \n",
      "Iter:    69 | Cost: 0.5992082 | f1: 0.3360656 \n",
      "Iter:    70 | Cost: 0.6204543 | f1: 0.4776119 \n",
      "Iter:    71 | Cost: 0.6408930 | f1: 0.5270758 \n",
      "Iter:    72 | Cost: 0.6575681 | f1: 0.5460993 \n",
      "Iter:    73 | Cost: 0.6503778 | f1: 0.5460993 \n",
      "Iter:    74 | Cost: 0.6143889 | f1: 0.4486692 \n",
      "Iter:    75 | Cost: 0.5939677 | f1: 0.2424242 \n",
      "Iter:    76 | Cost: 0.5958063 | f1: 0.1290323 \n",
      "Iter:    77 | Cost: 0.6085545 | f1: 0.0666667 \n",
      "Iter:    78 | Cost: 0.6393582 | f1: 0.0098039 \n",
      "Iter:    79 | Cost: 0.6725069 | f1: 0.0000000 \n",
      "Iter:    80 | Cost: 0.6801957 | f1: 0.0000000 \n",
      "Iter:    81 | Cost: 0.6714609 | f1: 0.0000000 \n",
      "Iter:    82 | Cost: 0.6340725 | f1: 0.0195122 \n",
      "Iter:    83 | Cost: 0.6180574 | f1: 0.1028037 \n",
      "Iter:    84 | Cost: 0.6452439 | f1: 0.3428571 \n",
      "Iter:    85 | Cost: 0.6898802 | f1: 0.4888889 \n",
      "Iter:    86 | Cost: 0.7175744 | f1: 0.5428571 \n",
      "Iter:    87 | Cost: 0.7123633 | f1: 0.5000000 \n",
      "Iter:    88 | Cost: 0.8014377 | f1: 0.6184211 \n",
      "Iter:    89 | Cost: 0.9854210 | f1: 0.4654971 \n",
      "Iter:    90 | Cost: 0.9801948 | f1: 0.4682353 \n",
      "Iter:    91 | Cost: 0.8175311 | f1: 0.6371681 \n",
      "Iter:    92 | Cost: 0.6718365 | f1: 0.4444444 \n",
      "Iter:    93 | Cost: 0.6260755 | f1: 0.1028037 \n",
      "Iter:    94 | Cost: 0.6243480 | f1: 0.0195122 \n",
      "Iter:    95 | Cost: 0.6241484 | f1: 0.0098039 \n",
      "Iter:    96 | Cost: 0.6280910 | f1: 0.0000000 \n",
      "Iter:    97 | Cost: 0.6247925 | f1: 0.0000000 \n",
      "Iter:    98 | Cost: 0.6314972 | f1: 0.0000000 \n",
      "Iter:    99 | Cost: 0.6494067 | f1: 0.0000000 \n",
      "Iter:   100 | Cost: 0.6788678 | f1: 0.0000000 \n",
      "Iter:   101 | Cost: 0.6958021 | f1: 0.0000000 \n",
      "Iter:   102 | Cost: 0.6769799 | f1: 0.0000000 \n",
      "Iter:   103 | Cost: 0.6396458 | f1: 0.0000000 \n",
      "Iter:   104 | Cost: 0.6186183 | f1: 0.0000000 \n",
      "Iter:   105 | Cost: 0.6113269 | f1: 0.0291262 \n",
      "Iter:   106 | Cost: 0.6132481 | f1: 0.1203704 \n",
      "Iter:   107 | Cost: 0.6169151 | f1: 0.1955556 \n",
      "Iter:   108 | Cost: 0.6109715 | f1: 0.1711712 \n",
      "Iter:   109 | Cost: 0.6061469 | f1: 0.0480769 \n",
      "Iter:   110 | Cost: 0.6136612 | f1: 0.0195122 \n",
      "Iter:   111 | Cost: 0.6082365 | f1: 0.0386473 \n",
      "Iter:   112 | Cost: 0.6054969 | f1: 0.0480769 \n",
      "Iter:   113 | Cost: 0.6047527 | f1: 0.0480769 \n",
      "Iter:   114 | Cost: 0.6031010 | f1: 0.0666667 \n",
      "Iter:   115 | Cost: 0.6056962 | f1: 0.0480769 \n",
      "Iter:   116 | Cost: 0.6102244 | f1: 0.0480769 \n",
      "Iter:   117 | Cost: 0.6328913 | f1: 0.0000000 \n",
      "Iter:   118 | Cost: 0.6573674 | f1: 0.0000000 \n",
      "Iter:   119 | Cost: 0.6689200 | f1: 0.0000000 \n",
      "Iter:   120 | Cost: 0.6556215 | f1: 0.0000000 \n",
      "Iter:   121 | Cost: 0.6294592 | f1: 0.0195122 \n",
      "Iter:   122 | Cost: 0.6040782 | f1: 0.0758294 \n",
      "Iter:   123 | Cost: 0.5941511 | f1: 0.1290323 \n",
      "Iter:   124 | Cost: 0.5934615 | f1: 0.1875000 \n",
      "Iter:   125 | Cost: 0.5928135 | f1: 0.1793722 \n",
      "Iter:   126 | Cost: 0.5980157 | f1: 0.2869198 \n",
      "Iter:   127 | Cost: 0.6106032 | f1: 0.4202335 \n",
      "Iter:   128 | Cost: 0.6328745 | f1: 0.5054945 \n",
      "Iter:   129 | Cost: 0.6483423 | f1: 0.5251799 \n",
      "Iter:   130 | Cost: 0.6564364 | f1: 0.5460993 \n",
      "Iter:   131 | Cost: 0.6334476 | f1: 0.5054945 \n",
      "Iter:   132 | Cost: 0.6022405 | f1: 0.3562753 \n",
      "Iter:   133 | Cost: 0.5928078 | f1: 0.1628959 \n",
      "Iter:   134 | Cost: 0.6001240 | f1: 0.0938967 \n",
      "Iter:   135 | Cost: 0.6113872 | f1: 0.0480769 \n",
      "Iter:   136 | Cost: 0.6121048 | f1: 0.0480769 \n",
      "Iter:   137 | Cost: 0.6085350 | f1: 0.0480769 \n",
      "Iter:   138 | Cost: 0.5970521 | f1: 0.1028037 \n",
      "Iter:   139 | Cost: 0.5925428 | f1: 0.1290323 \n",
      "Iter:   140 | Cost: 0.5986080 | f1: 0.3562753 \n",
      "Iter:   141 | Cost: 0.6111261 | f1: 0.4444444 \n",
      "Iter:   142 | Cost: 0.6231278 | f1: 0.4888889 \n",
      "Iter:   143 | Cost: 0.6277401 | f1: 0.5109489 \n",
      "Iter:   144 | Cost: 0.6127937 | f1: 0.4486692 \n",
      "Iter:   145 | Cost: 0.5979923 | f1: 0.3562753 \n",
      "Iter:   146 | Cost: 0.5914974 | f1: 0.1955556 \n",
      "Iter:   147 | Cost: 0.5918711 | f1: 0.1290323 \n",
      "Iter:   148 | Cost: 0.5973353 | f1: 0.1028037 \n",
      "Iter:   149 | Cost: 0.6030514 | f1: 0.0666667 \n",
      "Iter:   150 | Cost: 0.6130957 | f1: 0.0480769 \n"
     ]
    }
   ],
   "source": [
    "weights = weights_init\n",
    "bias = bias_init\n",
    "\n",
    "wbest = 0\n",
    "bbest = 0\n",
    "abest = 0\n",
    "ccost = 0 \n",
    "for it in range(150):\n",
    "\n",
    "    # weights update by one optimizer step\n",
    "\n",
    "    batch_index = np.random.randint(0, len(X), (batch_size,))\n",
    "    X_batch = X[batch_index]\n",
    "    Y_batch = Y[batch_index]\n",
    "    weights, bias, _, _ = opt.step(cost, weights, bias, X_batch, Y_batch)\n",
    "\n",
    "    # Compute the accuracy\n",
    "    predictions = [np.sign(variational_classifier(weights, bias, x)) for x in X]\n",
    "    \n",
    "    '''if accuracy(Y, predictions) > abest:\n",
    "        wbest = weights\n",
    "        bbest = bias\n",
    "        abest = accuracy(Y, predictions)\n",
    "        print('New best')\n",
    "\n",
    "    acc = accuracy(Y, predictions)\n",
    "\n",
    "    print(\n",
    "        \"Iter: {:5d} | Cost: {:0.7f} | Accuracy: {:0.7f} \".format(\n",
    "            it + 1, cost(weights, bias, X, Y), acc\n",
    "        )\n",
    "    )'''\n",
    "    prec = metrics.f1_score(Y, predictions, average='binary', pos_label=1)\n",
    "    if  prec > abest or ((prec == abest) and (cost(weights, bias, X, Y) < ccost)):\n",
    "        wbest = weights\n",
    "        bbest = bias\n",
    "        abest = prec\n",
    "        ccost = cost(weights, bias, X, Y)\n",
    "        print('New best')\n",
    "    #prec = metrics.precision_score(Y, predictions, average='binary')\n",
    "    print(\n",
    "        \"Iter: {:5d} | Cost: {:0.7f} | f1: {:0.7f} \".format(\n",
    "            it + 1, cost(weights, bias, X, Y), prec\n",
    "        )\n",
    "    )\n",
    "    \n",
    "    "
   ]
  },
  {
   "cell_type": "code",
   "execution_count": 66,
   "id": "ee2dceeb-5b76-4ec7-9ebb-efb9e562cf8a",
   "metadata": {},
   "outputs": [],
   "source": [
    "Yte = np.array(label_test * 2 - np.ones(len(label_test)))\n",
    "Xte = np.array(normalize(sample_test))"
   ]
  },
  {
   "cell_type": "code",
   "execution_count": 67,
   "id": "03ecd991-b560-4868-9e42-1dcfe09d58ac",
   "metadata": {},
   "outputs": [
    {
     "data": {
      "text/plain": [
       "-1.0    154\n",
       " 1.0     46\n",
       "dtype: int64"
      ]
     },
     "execution_count": 67,
     "metadata": {},
     "output_type": "execute_result"
    }
   ],
   "source": [
    "pd.Series(Yte).value_counts()"
   ]
  },
  {
   "cell_type": "code",
   "execution_count": 68,
   "id": "4416ed73-4c7d-44e3-a539-9dba3191327d",
   "metadata": {},
   "outputs": [
    {
     "name": "stdout",
     "output_type": "stream",
     "text": [
      "Cost: 0.5369482717759729, Accuracy: 84.0%\n"
     ]
    }
   ],
   "source": [
    "predictions = [np.sign(variational_classifier(wbest, bbest, x)) for x in Xte]\n",
    "pred = [np.sign(variational_classifier(wbest, bbest, x)) for x in X]\n",
    "acc = accuracy(Yte, predictions)\n",
    "\n",
    "print(f'Cost: {cost(wbest, bbest, Xte, Yte)}, Accuracy: {np.round(acc, 2) * 100}%')"
   ]
  },
  {
   "cell_type": "code",
   "execution_count": 64,
   "id": "8c50c097-603d-439b-84a9-cd649bcbeaa1",
   "metadata": {},
   "outputs": [
    {
     "name": "stdout",
     "output_type": "stream",
     "text": [
      "              precision    recall  f1-score   support\n",
      "\n",
      "        -1.0       0.80      1.00      0.89       154\n",
      "         1.0       1.00      0.17      0.30        46\n",
      "\n",
      "    accuracy                           0.81       200\n",
      "   macro avg       0.90      0.59      0.59       200\n",
      "weighted avg       0.85      0.81      0.75       200\n",
      "\n"
     ]
    }
   ],
   "source": [
    "print(metrics.classification_report(Yte,predictions))"
   ]
  },
  {
   "cell_type": "code",
   "execution_count": 69,
   "id": "a4a2955a-d877-4885-ad84-5f31458a7c94",
   "metadata": {},
   "outputs": [
    {
     "name": "stdout",
     "output_type": "stream",
     "text": [
      "              precision    recall  f1-score   support\n",
      "\n",
      "        -1.0       1.00      0.82      0.90       187\n",
      "         1.0       0.28      1.00      0.44        13\n",
      "\n",
      "    accuracy                           0.83       200\n",
      "   macro avg       0.64      0.91      0.67       200\n",
      "weighted avg       0.95      0.83      0.87       200\n",
      "\n"
     ]
    }
   ],
   "source": [
    "print(metrics.classification_report(predictions,Yte))"
   ]
  },
  {
   "cell_type": "code",
   "execution_count": 42,
   "id": "dcedeada-a82f-4e82-b738-6a862dc801c8",
   "metadata": {},
   "outputs": [
    {
     "name": "stdout",
     "output_type": "stream",
     "text": [
      "\n",
      "\n",
      "    Precision: 100.0%\n",
      "    Recall: 75.41%\n",
      "    f1: 85.98%\n",
      "    Accuracy: 92.5%\n",
      "    Balanced accuracy: 87.7%\n",
      "    Matthew corcorref: 82.5%\n",
      "    \n"
     ]
    }
   ],
   "source": [
    "print(f'''\n",
    "\n",
    "    Precision: {round(100*metrics.precision_score(predictions,Yte),2)}%\n",
    "    Recall: {round(100*metrics.recall_score(predictions,Yte),2)}%\n",
    "    f1: {round(100*metrics.f1_score(predictions,Yte),2)}%\n",
    "    Accuracy: {round(100*metrics.accuracy_score(predictions,Yte),2)}%\n",
    "    Balanced accuracy: {round(100*metrics.balanced_accuracy_score(predictions,Yte),2)}%\n",
    "    Matthew corcorref: {round(100*metrics.matthews_corrcoef(predictions,Yte),2)}%\n",
    "    ''')"
   ]
  },
  {
   "cell_type": "code",
   "execution_count": null,
   "id": "2e5308be-6630-4637-a387-b4f796aeb98d",
   "metadata": {},
   "outputs": [],
   "source": [
    "_models = []\n",
    "_models.append(('qsvc',svc))\n",
    "_metrics = ['precision', 'recall', 'f1', 'accuracy', 'balanced_accuracy', 'matthews_corrcoef']\n",
    "for metric in _metrics:\n",
    "    df_results= pd.concat([df_results, evaluate_ml_model(_models, sample_train, label_train, n_fold=10, metric=metric)], axis=1)"
   ]
  },
  {
   "cell_type": "code",
   "execution_count": null,
   "id": "77acf9e4-6362-4daa-829c-a5c70138be5c",
   "metadata": {},
   "outputs": [
    {
     "name": "stdout",
     "output_type": "stream",
     "text": [
      "New best\n",
      "Iter:     1 | Cost: 0.9343629 | f1: 0.0000000 \n",
      "New best\n",
      "Iter:     2 | Cost: 0.8310130 | f1: 0.0000000 \n",
      "New best\n",
      "Iter:     3 | Cost: 0.7673740 | f1: 0.0000000 \n",
      "Iter:     4 | Cost: 0.8108674 | f1: 0.0000000 \n",
      "Iter:     5 | Cost: 0.8814606 | f1: 0.0000000 \n",
      "Iter:     6 | Cost: 0.8490172 | f1: 0.0000000 \n",
      "Iter:     7 | Cost: 0.7803673 | f1: 0.0000000 \n",
      "New best\n",
      "Iter:     8 | Cost: 0.7369609 | f1: 0.0000000 \n",
      "Iter:     9 | Cost: 0.8050083 | f1: 0.0000000 \n",
      "Iter:    10 | Cost: 0.9130784 | f1: 0.0000000 \n",
      "Iter:    11 | Cost: 0.9317723 | f1: 0.0097561 \n",
      "Iter:    12 | Cost: 0.9042217 | f1: 0.0384615 \n",
      "Iter:    13 | Cost: 0.8262936 | f1: 0.0000000 \n",
      "Iter:    14 | Cost: 0.7496907 | f1: 0.0000000 \n",
      "New best\n",
      "Iter:    15 | Cost: 0.7047836 | f1: 0.0000000 \n",
      "New best\n",
      "Iter:    16 | Cost: 0.6857368 | f1: 0.0000000 \n",
      "New best\n",
      "Iter:    17 | Cost: 0.6625145 | f1: 0.0000000 \n",
      "New best\n",
      "Iter:    18 | Cost: 0.6571021 | f1: 0.0938967 \n",
      "Iter:    19 | Cost: 0.6610481 | f1: 0.2796610 \n",
      "New best\n",
      "Iter:    20 | Cost: 0.6462508 | f1: 0.3223140 \n",
      "New best\n",
      "Iter:    21 | Cost: 0.6249806 | f1: 0.2192982 \n",
      "New best\n",
      "Iter:    22 | Cost: 0.6089370 | f1: 0.1290323 \n",
      "Iter:    23 | Cost: 0.6133002 | f1: 0.0480769 \n",
      "New best\n",
      "Iter:    24 | Cost: 0.6068873 | f1: 0.0758294 \n",
      "New best\n",
      "Iter:    25 | Cost: 0.6048448 | f1: 0.0849057 \n",
      "New best\n",
      "Iter:    26 | Cost: 0.5957567 | f1: 0.1290323 \n",
      "New best\n",
      "Iter:    27 | Cost: 0.5953757 | f1: 0.2114537 \n",
      "New best\n",
      "Iter:    28 | Cost: 0.5936974 | f1: 0.1875000 \n",
      "Iter:    29 | Cost: 0.5950809 | f1: 0.1290323 \n",
      "Iter:    30 | Cost: 0.6037196 | f1: 0.0758294 \n",
      "Iter:    31 | Cost: 0.6155176 | f1: 0.0480769 \n"
     ]
    }
   ],
   "source": [
    "weights = weights_init\n",
    "bias = bias_init\n",
    "\n",
    "wbest = 0\n",
    "bbest = 0\n",
    "abest = 0\n",
    "ccost = 1 \n",
    "for it in range(150):\n",
    "\n",
    "    # weights update by one optimizer step\n",
    "\n",
    "    batch_index = np.random.randint(0, len(X), (batch_size,))\n",
    "    X_batch = X[batch_index]\n",
    "    Y_batch = Y[batch_index]\n",
    "    weights, bias, _, _ = opt.step(cost, weights, bias, X_batch, Y_batch)\n",
    "\n",
    "    # Compute the accuracy\n",
    "    predictions = [np.sign(variational_classifier(weights, bias, x)) for x in X]\n",
    "    \n",
    "    '''if accuracy(Y, predictions) > abest:\n",
    "        wbest = weights\n",
    "        bbest = bias\n",
    "        abest = accuracy(Y, predictions)\n",
    "        print('New best')\n",
    "\n",
    "    acc = accuracy(Y, predictions)\n",
    "\n",
    "    print(\n",
    "        \"Iter: {:5d} | Cost: {:0.7f} | Accuracy: {:0.7f} \".format(\n",
    "            it + 1, cost(weights, bias, X, Y), acc\n",
    "        )\n",
    "    )'''\n",
    "    prec = metrics.f1_score(Y, predictions, average='binary', pos_label=1)\n",
    "    if  (cost(weights, bias, X, Y) < ccost):\n",
    "        wbest = weights\n",
    "        bbest = bias\n",
    "        abest = prec\n",
    "        ccost = cost(weights, bias, X, Y)\n",
    "        print('New best')\n",
    "    #prec = metrics.precision_score(Y, predictions, average='binary')\n",
    "    print(\n",
    "        \"Iter: {:5d} | Cost: {:0.7f} | f1: {:0.7f} \".format(\n",
    "            it + 1, cost(weights, bias, X, Y), prec\n",
    "        )\n",
    "    )\n",
    "    \n",
    "    "
   ]
  },
  {
   "cell_type": "code",
   "execution_count": null,
   "id": "615e6410-5955-469d-8ccd-32517ba8ec3f",
   "metadata": {},
   "outputs": [],
   "source": [
    "predictions = [np.sign(variational_classifier(wbest, bbest, x)) for x in Xte]\n",
    "pred = [np.sign(variational_classifier(wbest, bbest, x)) for x in X]\n",
    "acc = accuracy(Yte, predictions)\n",
    "\n",
    "print(f'Cost: {cost(wbest, bbest, Xte, Yte)}, Accuracy: {np.round(acc, 2) * 100}%')"
   ]
  },
  {
   "cell_type": "code",
   "execution_count": null,
   "id": "694c231f-ce47-4bdb-be6a-eb1308ebc00e",
   "metadata": {},
   "outputs": [],
   "source": [
    "print(metrics.classification_report(Yte, predictions))"
   ]
  },
  {
   "cell_type": "code",
   "execution_count": null,
   "id": "660c69a6-87da-400e-99ba-739d49627088",
   "metadata": {},
   "outputs": [],
   "source": [
    "print(f'''\n",
    "\n",
    "    Precision: {round(100*metrics.precision_score(predictions,Yte),2)}%\n",
    "    Recall: {round(100*metrics.recall_score(predictions,Yte),2)}%\n",
    "    f1: {round(100*metrics.f1_score(predictions,Yte),2)}%\n",
    "    Accuracy: {round(100*metrics.accuracy_score(predictions,Yte),2)}%\n",
    "    Balanced accuracy: {round(100*metrics.balanced_accuracy_score(predictions,Yte),2)}%\n",
    "    Matthew corcorref: {round(100*metrics.matthews_corrcoef(predictions,Yte),2)}%\n",
    "    ''')"
   ]
  },
  {
   "cell_type": "code",
   "execution_count": null,
   "id": "5ee63f17-2adf-48b6-9106-fb542ed641d6",
   "metadata": {},
   "outputs": [],
   "source": []
  }
 ],
 "metadata": {
  "kernelspec": {
   "display_name": "Python 3 (ipykernel)",
   "language": "python",
   "name": "python3"
  },
  "language_info": {
   "codemirror_mode": {
    "name": "ipython",
    "version": 3
   },
   "file_extension": ".py",
   "mimetype": "text/x-python",
   "name": "python",
   "nbconvert_exporter": "python",
   "pygments_lexer": "ipython3",
   "version": "3.9.13"
  }
 },
 "nbformat": 4,
 "nbformat_minor": 5
}
