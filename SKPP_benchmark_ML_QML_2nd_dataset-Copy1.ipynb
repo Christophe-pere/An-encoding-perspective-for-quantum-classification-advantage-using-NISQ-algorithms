{
 "cells": [
  {
   "cell_type": "markdown",
   "id": "d41d3fa6-0ae0-490d-a02b-0dbf81799488",
   "metadata": {},
   "source": [
    "# Quantum benchmark"
   ]
  },
  {
   "cell_type": "markdown",
   "id": "d6011e42-1fab-4f9f-ab99-f4f08607517e",
   "metadata": {},
   "source": [
    "## I - Introduction"
   ]
  },
  {
   "cell_type": "code",
   "execution_count": null,
   "id": "13b4f6b4-240b-4b7f-abe4-4e74b3b8cc8a",
   "metadata": {},
   "outputs": [],
   "source": []
  },
  {
   "cell_type": "markdown",
   "id": "bd5492ce-4f08-4755-b4c2-efd698139101",
   "metadata": {},
   "source": [
    "## II - Packages"
   ]
  },
  {
   "cell_type": "code",
   "execution_count": 4,
   "id": "90371200-0133-46ab-a205-d0f6b8858e55",
   "metadata": {},
   "outputs": [],
   "source": [
    "import pandas as pd\n",
    "import matplotlib.pyplot as plt\n",
    "import numpy as np\n",
    "from sklearn.model_selection import train_test_split\n",
    "from sklearn.preprocessing import StandardScaler\n",
    "from sklearn.decomposition import PCA\n",
    "from sklearn.discriminant_analysis import LinearDiscriminantAnalysis as LDA\n",
    "from sklearn.preprocessing import MinMaxScaler\n",
    "from sklearn.svm import SVC\n",
    "from sklearn import metrics\n",
    "from sklearn.ensemble import RandomForestClassifier\n",
    "from sklearn.linear_model import LogisticRegression\n",
    "from sklearn.tree import DecisionTreeClassifier\n",
    "from sklearn.preprocessing import normalize\n",
    "from sklearn.model_selection import cross_val_score, KFold\n",
    "#Import classical libraries\n",
    "from sklearn.neighbors import KNeighborsClassifier\n",
    "from sklearn.naive_bayes import GaussianNB\n",
    "from sklearn.svm import SVC\n",
    "from sklearn.ensemble import RandomForestClassifier\n",
    "from sklearn.model_selection import train_test_split\n",
    "from sklearn import datasets\n",
    "import matplotlib.pyplot as plt\n",
    "from skpp import ProjectionPursuitRegressor\n",
    "\n",
    "plt.style.use('ggplot')\n",
    "\n",
    "import functools\n",
    "\n",
    "from qiskit import BasicAer\n",
    "from qiskit.circuit.library import ZZFeatureMap\n",
    "from qiskit.utils import QuantumInstance, algorithm_globals\n",
    "from qiskit_machine_learning.algorithms import QSVC\n",
    "from qiskit_machine_learning.kernels import QuantumKernel\n",
    "from qiskit_machine_learning.datasets import ad_hoc_data\n",
    "import logging\n",
    "\n",
    "import pennylane as qml\n",
    "from pennylane.templates.embeddings import AngleEmbedding, AmplitudeEmbedding\n",
    "from pennylane.optimize import AdamOptimizer\n",
    "\n",
    "from qiskit.algorithms.optimizers import COBYLA\n",
    "from qiskit.circuit.library import TwoLocal, ZZFeatureMap\n",
    "import qiskit"
   ]
  },
  {
   "cell_type": "code",
   "execution_count": 5,
   "id": "c4552ad2-d5ac-4904-8e45-eafa355e4594",
   "metadata": {},
   "outputs": [],
   "source": [
    "import warnings\n",
    "warnings.filterwarnings('ignore')"
   ]
  },
  {
   "cell_type": "markdown",
   "id": "1598c94c-fdcf-41cd-a4ea-e262932c7e0f",
   "metadata": {},
   "source": [
    "## III - Data "
   ]
  },
  {
   "cell_type": "code",
   "execution_count": 6,
   "id": "e683f3b5-6021-4eb7-bc53-539a5cd79bfc",
   "metadata": {},
   "outputs": [],
   "source": [
    "# Read out CSV\n",
    "\n",
    "df = pd.read_csv('fraud_detection_bank_dataset.csv', sep=',')"
   ]
  },
  {
   "cell_type": "code",
   "execution_count": 9,
   "id": "10255383-ae13-42c1-8d19-b5cf9eca4d17",
   "metadata": {},
   "outputs": [
    {
     "data": {
      "text/plain": [
       "(20468, 114)"
      ]
     },
     "execution_count": 9,
     "metadata": {},
     "output_type": "execute_result"
    }
   ],
   "source": [
    "df.shape"
   ]
  },
  {
   "cell_type": "code",
   "execution_count": 10,
   "id": "bf69c7f1-b10e-4b54-89ec-89dd5829ac42",
   "metadata": {},
   "outputs": [],
   "source": [
    "%%script false --no-raise-error\n",
    "\n",
    "import sweetviz as sv\n",
    "\n",
    "#EDA using Autoviz\n",
    "sweet_report = sv.analyze(df)\n",
    "\n",
    "#Saving results to HTML file\n",
    "sweet_report.show_html('sweet_report.html')"
   ]
  },
  {
   "cell_type": "markdown",
   "id": "c4ff48fa-d03b-435d-9343-67186c068b34",
   "metadata": {},
   "source": [
    "## IV - Modelisation"
   ]
  },
  {
   "cell_type": "markdown",
   "id": "3dbe1bb7-d7eb-412b-a291-bbeb654766f5",
   "metadata": {},
   "source": [
    "### Classical"
   ]
  },
  {
   "cell_type": "code",
   "execution_count": 11,
   "id": "d7f6037b-3b1c-4a2c-8a9e-df1d432cafa4",
   "metadata": {},
   "outputs": [],
   "source": [
    "df = df.drop(['Unnamed: 0'], axis = 1)\n",
    "df_labels = df['targets']\n",
    "df.drop(['targets'],axis = 1,inplace = True)"
   ]
  },
  {
   "cell_type": "code",
   "execution_count": 12,
   "id": "249ef3a0-7be3-4234-8be6-630db2cd267f",
   "metadata": {},
   "outputs": [],
   "source": [
    "X_train, X_test, y_train, y_test = train_test_split(df, df_labels, test_size=0.2, random_state=42)"
   ]
  },
  {
   "cell_type": "markdown",
   "id": "b1251e3e-c8ed-4e57-a790-1fa8003f8c31",
   "metadata": {},
   "source": [
    "## Quantum Approaches"
   ]
  },
  {
   "cell_type": "code",
   "execution_count": 13,
   "id": "12b4f425-f8b1-40b4-8c3f-4502a9a01a3c",
   "metadata": {},
   "outputs": [
    {
     "data": {
      "text/plain": [
       "array([0, 1])"
      ]
     },
     "execution_count": 13,
     "metadata": {},
     "output_type": "execute_result"
    }
   ],
   "source": [
    "np.unique(df_labels)"
   ]
  },
  {
   "cell_type": "code",
   "execution_count": 14,
   "id": "42d48c24-3c1e-4074-9983-641c1e9d0061",
   "metadata": {},
   "outputs": [],
   "source": [
    "cols = ['col_8', 'col_9', 'col_10', 'col_11', 'col_12', 'col_18', 'col_19','col_20', 'col_21', 'col_35', \n",
    "        'col_51', 'col_52', 'col_53', 'col_70','col_71','col_7', 'col_22', 'col_54', 'col_56']"
   ]
  },
  {
   "cell_type": "code",
   "execution_count": 15,
   "id": "215a87dc-7b8f-4f2a-85fd-c4dc2294a7ac",
   "metadata": {},
   "outputs": [],
   "source": [
    "X_train = X_train.drop(cols, axis=1)\n",
    "X_test = X_test.drop(cols, axis=1)"
   ]
  },
  {
   "cell_type": "code",
   "execution_count": 16,
   "id": "0dbfa6ef-34cd-4463-8aa3-a20e7a2ddbad",
   "metadata": {},
   "outputs": [
    {
     "data": {
      "text/plain": [
       "(16374, 93)"
      ]
     },
     "execution_count": 16,
     "metadata": {},
     "output_type": "execute_result"
    }
   ],
   "source": [
    "np.shape(X_train)"
   ]
  },
  {
   "cell_type": "code",
   "execution_count": 17,
   "id": "a948c1c2-cb55-49b2-bb4c-c2d2fdca527a",
   "metadata": {},
   "outputs": [],
   "source": [
    "skpp = ProjectionPursuitRegressor(r=2, fit_type='spline', opt_level='medium').fit(X_train, y_train)"
   ]
  },
  {
   "cell_type": "code",
   "execution_count": 18,
   "id": "b921a949-e3bd-45b6-b0e0-a84f96788811",
   "metadata": {},
   "outputs": [],
   "source": [
    "# SKPP validate transformation (using train fit)\n",
    "x_train_skpp = skpp.transform(X_train)\n",
    "x_test_skpp = skpp.transform(X_test)"
   ]
  },
  {
   "cell_type": "code",
   "execution_count": 19,
   "id": "38d2ce7a-6c7e-49d8-8bcc-fd22530bcf2b",
   "metadata": {},
   "outputs": [],
   "source": [
    "# Arrays to dataframe for join in a single df\n",
    "x_train_skpp = pd.DataFrame(x_train_skpp)\n",
    "x_test_skpp = pd.DataFrame(x_test_skpp)"
   ]
  },
  {
   "cell_type": "code",
   "execution_count": 20,
   "id": "bf9d1f27-ae3b-4bc2-90c7-40754d2728bc",
   "metadata": {},
   "outputs": [],
   "source": [
    "# Second standard scaler normalization (using train fit)\n",
    "std_scale = StandardScaler().fit(x_train_skpp)\n",
    "X_train_skpp_norm = std_scale.transform(x_train_skpp)\n",
    "x_test_skpp_norn = std_scale.transform(x_test_skpp)\n",
    "#x_validate_lda_n = std_scale.transform(x_validate_skpp)"
   ]
  },
  {
   "cell_type": "code",
   "execution_count": 21,
   "id": "8920e169-7d06-46a1-b30e-af7eee11539e",
   "metadata": {},
   "outputs": [
    {
     "data": {
      "text/plain": [
       "2"
      ]
     },
     "execution_count": 21,
     "metadata": {},
     "output_type": "execute_result"
    }
   ],
   "source": [
    "# Dimensions definition for QML\n",
    "n_dim = len(x_train_skpp.columns)\n",
    "n_dim"
   ]
  },
  {
   "cell_type": "code",
   "execution_count": 22,
   "id": "3141a967-8c2f-472e-a934-5ad8ac0d9237",
   "metadata": {},
   "outputs": [
    {
     "data": {
      "text/plain": [
       "[<matplotlib.lines.Line2D at 0x176872a10>,\n",
       " <matplotlib.lines.Line2D at 0x176873b80>]"
      ]
     },
     "execution_count": 22,
     "metadata": {},
     "output_type": "execute_result"
    },
    {
     "data": {
      "image/png": "[encoded data removed]",
      "text/plain": [
       "<Figure size 1000x800 with 1 Axes>"
      ]
     },
     "metadata": {},
     "output_type": "display_data"
    }
   ],
   "source": [
    "plt.figure(figsize=(10,8))\n",
    "plt.plot(x_train_skpp, '+')\n"
   ]
  },
  {
   "cell_type": "markdown",
   "id": "bd626d5c-ff6a-443a-9700-10a93c24dc74",
   "metadata": {},
   "source": [
    "## Split train test "
   ]
  },
  {
   "cell_type": "code",
   "execution_count": 23,
   "id": "afaf0912-bdbf-4460-ae4c-43016d1f5a57",
   "metadata": {},
   "outputs": [],
   "source": [
    "# Split dataset into train and test\n",
    "\n",
    "sample_train, sample_test, label_train, label_test = train_test_split(\n",
    "     X_train_skpp_norm, y_train, test_size=0.2, random_state=22)\n",
    "\n",
    "# Normalize\n",
    "\n",
    "# Select a sample for a better control of the research and wall time\n",
    "\n",
    "train_size = 800#160\n",
    "sample_train = sample_train[:train_size]\n",
    "label_train = label_train[:train_size]\n",
    "\n",
    "test_size = 200 #40\n",
    "sample_test = sample_test[:test_size]\n",
    "label_test = label_test[:test_size]"
   ]
  },
  {
   "cell_type": "code",
   "execution_count": 24,
   "id": "d815edbe-c5e7-42d6-9489-39ebb940cda4",
   "metadata": {},
   "outputs": [],
   "source": [
    "# Basic parameters for hybrid model\n",
    "\n",
    "seed = 8500\n",
    "feature_dim = n_dim\n",
    "num_reps = 2\n",
    "num_shots =256 \n"
   ]
  },
  {
   "cell_type": "markdown",
   "id": "a17bc9af-4a1c-453d-be99-d54b9e045628",
   "metadata": {},
   "source": [
    "## Hybrid"
   ]
  },
  {
   "cell_type": "code",
   "execution_count": 28,
   "id": "c2ce7078-9255-4913-b6aa-7f05a0e077c3",
   "metadata": {},
   "outputs": [],
   "source": [
    "# Define feature_map\n",
    "\n",
    "feature_map = ZZFeatureMap(feature_dimension=feature_dim, reps=num_reps)\n",
    "\n",
    "# Define the backend\n",
    "backend = QuantumInstance(\n",
    "    BasicAer.get_backend(\"qasm_simulator\"), shots=num_shots, seed_simulator=seed, seed_transpiler=seed\n",
    ")\n",
    "\n",
    "# Define the kernel\n",
    "\n",
    "kernel = QuantumKernel(feature_map=feature_map, quantum_instance=backend)\n",
    "\n",
    "# Model run\n",
    "svc = SVC(kernel=kernel.evaluate)\n",
    "svc.fit(sample_train, label_train)\n",
    "score = svc.score(sample_test, label_test)\n",
    "\n",
    "print(f\"Callable kernel classification test score: {score}\")"
   ]
  },
  {
   "cell_type": "code",
   "execution_count": 27,
   "id": "b8fd86d8-bec9-42ac-8543-c69c973a7f01",
   "metadata": {},
   "outputs": [],
   "source": [
    "result_predict = svc.predict(sample_test)"
   ]
  },
  {
   "cell_type": "code",
   "execution_count": 28,
   "id": "ee71fc2a-46dc-46d1-8f51-8e3df5723407",
   "metadata": {},
   "outputs": [
    {
     "name": "stdout",
     "output_type": "stream",
     "text": [
      "              precision    recall  f1-score   support\n",
      "\n",
      "           0       0.80      0.95      0.87       154\n",
      "           1       0.53      0.20      0.29        46\n",
      "\n",
      "    accuracy                           0.78       200\n",
      "   macro avg       0.66      0.57      0.58       200\n",
      "weighted avg       0.74      0.78      0.73       200\n",
      "\n"
     ]
    }
   ],
   "source": [
    "print(metrics.classification_report(label_test,result_predict))"
   ]
  },
  {
   "cell_type": "code",
   "execution_count": 33,
   "id": "f8cffebe-cf70-4328-8b69-5b0da24914df",
   "metadata": {},
   "outputs": [],
   "source": [
    "from sklearn.model_selection import cross_validate\n",
    "from tqdm import tqdm\n",
    "def evaluate_ml_model(_models, X, y, n_fold=10, metric='precision'):\n",
    "    ''' Function to evaluate a ML and QML model with a list of metrics\n",
    "    \n",
    "    \n",
    "    '''\n",
    "    results = pd.DataFrame()\n",
    "    kfold = KFold(n_splits=n_fold)\n",
    "    columns = []\n",
    "    for name, model in tqdm(_models):\n",
    "        # -------------------\n",
    "        # Variables initialization \n",
    "        _df = pd.DataFrame()\n",
    "        names = []\n",
    "        means = []\n",
    "        stds = []\n",
    "        \n",
    "        # -------------------\n",
    "        # k-fold Cross validation\n",
    "        cv_results = cross_validate(model, X, y, cv=kfold, scoring=metric)\n",
    "        \n",
    "        # -------------------\n",
    "        # Compute the mean and standard deviation \n",
    "        for _name, _array in cv_results.items():\n",
    "            names.append(_name)\n",
    "            means.append(round(100*_array.mean(), 2))\n",
    "            stds.append(round(100*_array.std(), 2))\n",
    "        # -------------------\n",
    "        # Save the results in a dataframe \n",
    "        _df =  pd.DataFrame([means, stds], columns=names)\n",
    "        columns.extend([name+' mean (%)', name+' std (%)'])\n",
    "        #results = results.join(_df, on=_df.index)\n",
    "        results = results.append(_df)\n",
    "    results.index = columns\n",
    "    print(results)\n",
    "    return results"
   ]
  },
  {
   "cell_type": "code",
   "execution_count": 34,
   "id": "cdf4a1b8-99c3-4674-9ee9-f4f8177d11f8",
   "metadata": {},
   "outputs": [],
   "source": [
    "models = []\n",
    "models.append(('LR', LogisticRegression(max_iter=1000)))\n",
    "models.append(('KNN', KNeighborsClassifier()))\n",
    "models.append(('CART', DecisionTreeClassifier()))\n",
    "models.append(('NB', GaussianNB()))\n",
    "models.append(('SVM', SVC()))\n",
    "models.append(('qsvc', svc))\n",
    "_metrics = ['precision', 'recall', 'f1', 'accuracy',  'matthews_corrcoef','balanced_accuracy']"
   ]
  },
  {
   "cell_type": "code",
   "execution_count": 36,
   "id": "ed9d682b-6c17-452f-9625-adbf9abd8215",
   "metadata": {},
   "outputs": [
    {
     "name": "stderr",
     "output_type": "stream",
     "text": [
      "100%|████████████████████████████████████████████| 6/6 [52:21<00:00, 523.61s/it]"
     ]
    },
    {
     "name": "stdout",
     "output_type": "stream",
     "text": [
      "                fit_time  score_time  test_precision  test_recall  test_f1  \\\n",
      "LR mean (%)      0.00119     0.00124         0.88694      0.55521  0.67501   \n",
      "LR std (%)       0.00060     0.00025         0.09873      0.11474  0.09798   \n",
      "KNN mean (%)     0.00030     0.00194         0.79347      0.70928  0.74461   \n",
      "KNN std (%)      0.00005     0.00013         0.08864      0.10804  0.08872   \n",
      "CART mean (%)    0.00087     0.00116         0.70612      0.67641  0.68696   \n",
      "CART std (%)     0.00008     0.00013         0.06905      0.10398  0.07878   \n",
      "NB mean (%)      0.00027     0.00111         0.89067      0.43287  0.57444   \n",
      "NB std (%)       0.00003     0.00008         0.07183      0.10822  0.09430   \n",
      "SVM mean (%)     0.00261     0.00179         0.89627      0.53655  0.66271   \n",
      "SVM std (%)      0.00013     0.00012         0.09813      0.11916  0.10199   \n",
      "qsvc mean (%)  259.82441    54.32464         0.54833      0.10200  0.17125   \n",
      "qsvc std (%)     1.92263     0.22567         0.20662      0.03631  0.06088   \n",
      "\n",
      "               test_accuracy  test_matthews_corrcoef  test_balanced_accuracy  \n",
      "LR mean (%)          0.86875                 0.63058                 0.76612  \n",
      "LR std (%)           0.03319                 0.10162                 0.05778  \n",
      "KNN mean (%)         0.88125                 0.67241                 0.82377  \n",
      "KNN std (%)          0.03075                 0.09945                 0.05547  \n",
      "CART mean (%)        0.84875                 0.59034                 0.79138  \n",
      "CART std (%)         0.02465                 0.08442                 0.04950  \n",
      "NB mean (%)          0.84250                 0.54584                 0.70724  \n",
      "NB std (%)           0.03072                 0.08516                 0.05240  \n",
      "SVM mean (%)         0.86625                 0.62319                 0.75850  \n",
      "SVM std (%)          0.03356                 0.10375                 0.05964  \n",
      "qsvc mean (%)        0.75000                 0.14831                 0.53587  \n",
      "qsvc std (%)         0.03400                 0.09910                 0.02366  \n"
     ]
    },
    {
     "name": "stderr",
     "output_type": "stream",
     "text": [
      "\n"
     ]
    }
   ],
   "source": [
    "df_results = pd.DataFrame()\n",
    "df_results = evaluate_ml_model(models, sample_train, label_train, n_fold=10, metric=_metrics)\n",
    "df_results "
   ]
  },
  {
   "cell_type": "code",
   "execution_count": 37,
   "id": "8561d92d-f3ee-4045-b6e5-98097a82f364",
   "metadata": {},
   "outputs": [
    {
     "data": {
      "text/html": [
       "<div>\n",
       "<style scoped>\n",
       "    .dataframe tbody tr th:only-of-type {\n",
       "        vertical-align: middle;\n",
       "    }\n",
       "\n",
       "    .dataframe tbody tr th {\n",
       "        vertical-align: top;\n",
       "    }\n",
       "\n",
       "    .dataframe thead th {\n",
       "        text-align: right;\n",
       "    }\n",
       "</style>\n",
       "<table border=\"1\" class=\"dataframe\">\n",
       "  <thead>\n",
       "    <tr style=\"text-align: right;\">\n",
       "      <th></th>\n",
       "      <th>fit_time</th>\n",
       "      <th>score_time</th>\n",
       "      <th>test_precision</th>\n",
       "      <th>test_recall</th>\n",
       "      <th>test_f1</th>\n",
       "      <th>test_accuracy</th>\n",
       "      <th>test_matthews_corrcoef</th>\n",
       "      <th>test_balanced_accuracy</th>\n",
       "    </tr>\n",
       "  </thead>\n",
       "  <tbody>\n",
       "    <tr>\n",
       "      <th>LR mean (%)</th>\n",
       "      <td>0.00119</td>\n",
       "      <td>0.00124</td>\n",
       "      <td>0.88694</td>\n",
       "      <td>0.55521</td>\n",
       "      <td>0.67501</td>\n",
       "      <td>0.86875</td>\n",
       "      <td>0.63058</td>\n",
       "      <td>0.76612</td>\n",
       "    </tr>\n",
       "    <tr>\n",
       "      <th>LR std (%)</th>\n",
       "      <td>0.00060</td>\n",
       "      <td>0.00025</td>\n",
       "      <td>0.09873</td>\n",
       "      <td>0.11474</td>\n",
       "      <td>0.09798</td>\n",
       "      <td>0.03319</td>\n",
       "      <td>0.10162</td>\n",
       "      <td>0.05778</td>\n",
       "    </tr>\n",
       "    <tr>\n",
       "      <th>KNN mean (%)</th>\n",
       "      <td>0.00030</td>\n",
       "      <td>0.00194</td>\n",
       "      <td>0.79347</td>\n",
       "      <td>0.70928</td>\n",
       "      <td>0.74461</td>\n",
       "      <td>0.88125</td>\n",
       "      <td>0.67241</td>\n",
       "      <td>0.82377</td>\n",
       "    </tr>\n",
       "    <tr>\n",
       "      <th>KNN std (%)</th>\n",
       "      <td>0.00005</td>\n",
       "      <td>0.00013</td>\n",
       "      <td>0.08864</td>\n",
       "      <td>0.10804</td>\n",
       "      <td>0.08872</td>\n",
       "      <td>0.03075</td>\n",
       "      <td>0.09945</td>\n",
       "      <td>0.05547</td>\n",
       "    </tr>\n",
       "    <tr>\n",
       "      <th>CART mean (%)</th>\n",
       "      <td>0.00087</td>\n",
       "      <td>0.00116</td>\n",
       "      <td>0.70612</td>\n",
       "      <td>0.67641</td>\n",
       "      <td>0.68696</td>\n",
       "      <td>0.84875</td>\n",
       "      <td>0.59034</td>\n",
       "      <td>0.79138</td>\n",
       "    </tr>\n",
       "    <tr>\n",
       "      <th>CART std (%)</th>\n",
       "      <td>0.00008</td>\n",
       "      <td>0.00013</td>\n",
       "      <td>0.06905</td>\n",
       "      <td>0.10398</td>\n",
       "      <td>0.07878</td>\n",
       "      <td>0.02465</td>\n",
       "      <td>0.08442</td>\n",
       "      <td>0.04950</td>\n",
       "    </tr>\n",
       "    <tr>\n",
       "      <th>NB mean (%)</th>\n",
       "      <td>0.00027</td>\n",
       "      <td>0.00111</td>\n",
       "      <td>0.89067</td>\n",
       "      <td>0.43287</td>\n",
       "      <td>0.57444</td>\n",
       "      <td>0.84250</td>\n",
       "      <td>0.54584</td>\n",
       "      <td>0.70724</td>\n",
       "    </tr>\n",
       "    <tr>\n",
       "      <th>NB std (%)</th>\n",
       "      <td>0.00003</td>\n",
       "      <td>0.00008</td>\n",
       "      <td>0.07183</td>\n",
       "      <td>0.10822</td>\n",
       "      <td>0.09430</td>\n",
       "      <td>0.03072</td>\n",
       "      <td>0.08516</td>\n",
       "      <td>0.05240</td>\n",
       "    </tr>\n",
       "    <tr>\n",
       "      <th>SVM mean (%)</th>\n",
       "      <td>0.00261</td>\n",
       "      <td>0.00179</td>\n",
       "      <td>0.89627</td>\n",
       "      <td>0.53655</td>\n",
       "      <td>0.66271</td>\n",
       "      <td>0.86625</td>\n",
       "      <td>0.62319</td>\n",
       "      <td>0.75850</td>\n",
       "    </tr>\n",
       "    <tr>\n",
       "      <th>SVM std (%)</th>\n",
       "      <td>0.00013</td>\n",
       "      <td>0.00012</td>\n",
       "      <td>0.09813</td>\n",
       "      <td>0.11916</td>\n",
       "      <td>0.10199</td>\n",
       "      <td>0.03356</td>\n",
       "      <td>0.10375</td>\n",
       "      <td>0.05964</td>\n",
       "    </tr>\n",
       "    <tr>\n",
       "      <th>qsvc mean (%)</th>\n",
       "      <td>259.82441</td>\n",
       "      <td>54.32464</td>\n",
       "      <td>0.54833</td>\n",
       "      <td>0.10200</td>\n",
       "      <td>0.17125</td>\n",
       "      <td>0.75000</td>\n",
       "      <td>0.14831</td>\n",
       "      <td>0.53587</td>\n",
       "    </tr>\n",
       "    <tr>\n",
       "      <th>qsvc std (%)</th>\n",
       "      <td>1.92263</td>\n",
       "      <td>0.22567</td>\n",
       "      <td>0.20662</td>\n",
       "      <td>0.03631</td>\n",
       "      <td>0.06088</td>\n",
       "      <td>0.03400</td>\n",
       "      <td>0.09910</td>\n",
       "      <td>0.02366</td>\n",
       "    </tr>\n",
       "  </tbody>\n",
       "</table>\n",
       "</div>"
      ],
      "text/plain": [
       "                fit_time  score_time  test_precision  test_recall  test_f1  \\\n",
       "LR mean (%)      0.00119     0.00124         0.88694      0.55521  0.67501   \n",
       "LR std (%)       0.00060     0.00025         0.09873      0.11474  0.09798   \n",
       "KNN mean (%)     0.00030     0.00194         0.79347      0.70928  0.74461   \n",
       "KNN std (%)      0.00005     0.00013         0.08864      0.10804  0.08872   \n",
       "CART mean (%)    0.00087     0.00116         0.70612      0.67641  0.68696   \n",
       "CART std (%)     0.00008     0.00013         0.06905      0.10398  0.07878   \n",
       "NB mean (%)      0.00027     0.00111         0.89067      0.43287  0.57444   \n",
       "NB std (%)       0.00003     0.00008         0.07183      0.10822  0.09430   \n",
       "SVM mean (%)     0.00261     0.00179         0.89627      0.53655  0.66271   \n",
       "SVM std (%)      0.00013     0.00012         0.09813      0.11916  0.10199   \n",
       "qsvc mean (%)  259.82441    54.32464         0.54833      0.10200  0.17125   \n",
       "qsvc std (%)     1.92263     0.22567         0.20662      0.03631  0.06088   \n",
       "\n",
       "               test_accuracy  test_matthews_corrcoef  test_balanced_accuracy  \n",
       "LR mean (%)          0.86875                 0.63058                 0.76612  \n",
       "LR std (%)           0.03319                 0.10162                 0.05778  \n",
       "KNN mean (%)         0.88125                 0.67241                 0.82377  \n",
       "KNN std (%)          0.03075                 0.09945                 0.05547  \n",
       "CART mean (%)        0.84875                 0.59034                 0.79138  \n",
       "CART std (%)         0.02465                 0.08442                 0.04950  \n",
       "NB mean (%)          0.84250                 0.54584                 0.70724  \n",
       "NB std (%)           0.03072                 0.08516                 0.05240  \n",
       "SVM mean (%)         0.86625                 0.62319                 0.75850  \n",
       "SVM std (%)          0.03356                 0.10375                 0.05964  \n",
       "qsvc mean (%)        0.75000                 0.14831                 0.53587  \n",
       "qsvc std (%)         0.03400                 0.09910                 0.02366  "
      ]
     },
     "execution_count": 37,
     "metadata": {},
     "output_type": "execute_result"
    }
   ],
   "source": [
    "df_results"
   ]
  },
  {
   "cell_type": "markdown",
   "id": "3b70b837-4e39-4b65-83ca-8e82fc83efa1",
   "metadata": {},
   "source": [
    "## Pennylane"
   ]
  },
  {
   "cell_type": "code",
   "execution_count": 38,
   "id": "ff1d5656-f2f2-4d96-b210-a75a161cdb39",
   "metadata": {},
   "outputs": [],
   "source": [
    "from pennylane import numpy as np"
   ]
  },
  {
   "cell_type": "code",
   "execution_count": 39,
   "id": "07ec49f5-c401-4c36-aae3-57aad3eaa0ba",
   "metadata": {},
   "outputs": [],
   "source": [
    "# Angle Encoding\n",
    "\n",
    "num_qubits = n_dim\n",
    "\n",
    "dev = qml.device('default.qubit', wires = num_qubits)\n",
    "\n",
    "@qml.qnode(dev)\n",
    "def circuit(parameters, data):\n",
    "    for i in range(num_qubits):\n",
    "        qml.Hadamard(wires = i)\n",
    "    \n",
    "    AngleEmbedding(features = data, wires = range(num_qubits), rotation = 'Y')\n",
    "    \n",
    "    qml.StronglyEntanglingLayers(weights = parameters, wires = range(num_qubits))\n",
    "    \n",
    "    return qml.expval(qml.PauliZ(0))"
   ]
  },
  {
   "cell_type": "code",
   "execution_count": 40,
   "id": "ffcf8fdb-37a0-4b64-b73c-76be553995e8",
   "metadata": {},
   "outputs": [],
   "source": [
    "num_layers = 5\n",
    "weights_init = 0.01 * np.random.randn(num_layers, num_qubits, 3, requires_grad=True)\n",
    "bias_init = np.array(0.0, requires_grad=True)\n",
    "\n",
    "#print(weights_init, bias_init)"
   ]
  },
  {
   "cell_type": "code",
   "execution_count": 41,
   "id": "49568595-37ec-4749-a230-dc4c6dae2500",
   "metadata": {},
   "outputs": [
    {
     "data": {
      "text/plain": [
       "tensor(-0.09015829, requires_grad=True)"
      ]
     },
     "execution_count": 41,
     "metadata": {},
     "output_type": "execute_result"
    }
   ],
   "source": [
    "circuit(weights_init, sample_train[0])"
   ]
  },
  {
   "cell_type": "code",
   "execution_count": 42,
   "id": "4febb380-0955-4f05-a872-326cc4e3a27c",
   "metadata": {},
   "outputs": [],
   "source": [
    "def variational_classifier(weights, bias, x):\n",
    "    return circuit(weights, x) + bias"
   ]
  },
  {
   "cell_type": "code",
   "execution_count": 43,
   "id": "c16a1f84-63e5-4fbb-a647-cba6db4c6c4c",
   "metadata": {},
   "outputs": [],
   "source": [
    "def square_loss(labels, predictions):\n",
    "    loss = 0\n",
    "    for l, p in zip(labels, predictions):\n",
    "        loss = loss + (l - p) ** 2\n",
    "\n",
    "    loss = loss / len(labels)\n",
    "    return loss"
   ]
  },
  {
   "cell_type": "code",
   "execution_count": 44,
   "id": "07412a53-c93b-4c73-bd0b-e7e144454435",
   "metadata": {},
   "outputs": [],
   "source": [
    "def accuracy(labels, predictions):\n",
    "\n",
    "    loss = 0\n",
    "    for l, p in zip(labels, predictions):\n",
    "        if abs(l - p) < 1e-5:\n",
    "            loss = loss + 1\n",
    "    loss = loss / len(labels)\n",
    "\n",
    "    return loss"
   ]
  },
  {
   "cell_type": "code",
   "execution_count": 45,
   "id": "1bf0b58e-38f3-4c45-a4d2-3d69af787ba3",
   "metadata": {},
   "outputs": [],
   "source": [
    "def cost(weights, bias, X, Y):\n",
    "    predictions = [variational_classifier(weights, bias, x) for x in X]\n",
    "    return square_loss(Y, predictions)"
   ]
  },
  {
   "cell_type": "code",
   "execution_count": 46,
   "id": "7543fccb-ef55-49cb-8508-5ae8fdfcbc58",
   "metadata": {},
   "outputs": [
    {
     "data": {
      "text/plain": [
       "0    154\n",
       "1     46\n",
       "Name: targets, dtype: int64"
      ]
     },
     "execution_count": 46,
     "metadata": {},
     "output_type": "execute_result"
    }
   ],
   "source": [
    "pd.Series(label_test).value_counts()"
   ]
  },
  {
   "cell_type": "code",
   "execution_count": 47,
   "id": "21ff4aa6-c15b-4a59-a718-67d8da2402dd",
   "metadata": {},
   "outputs": [
    {
     "name": "stdout",
     "output_type": "stream",
     "text": [
      "X = [tensor(-0.89034686, requires_grad=True), tensor(0.08663997, requires_grad=True)], Y = -1\n",
      "X = [tensor(0.35602719, requires_grad=True), tensor(-0.48564519, requires_grad=True)], Y = -1\n",
      "X = [tensor(-0.2078483, requires_grad=True), tensor(-0.31688344, requires_grad=True)], Y = -1\n",
      "X = [tensor(0.54692588, requires_grad=True), tensor(-0.57623391, requires_grad=True)], Y = -1\n",
      "X = [tensor(0.54821712, requires_grad=True), tensor(-0.19193911, requires_grad=True)], Y = -1\n"
     ]
    }
   ],
   "source": [
    "Y = np.array(label_train * 2 - np.ones(len(label_train)),requires_grad=True)  # shift label from {0, 1} to {-1, 1}\n",
    "X = np.array(sample_train, requires_grad=True)\n",
    "\n",
    "for i in range(5):\n",
    "    print(\"X = {}, Y = {: d}\".format(list(X[i]), int(Y[i])))"
   ]
  },
  {
   "cell_type": "code",
   "execution_count": 48,
   "id": "074f578a-1984-4814-9070-7b20063c8bd1",
   "metadata": {},
   "outputs": [],
   "source": [
    "opt = AdamOptimizer(stepsize=0.1, beta1=0.9, beta2=0.99, eps=1e-08)\n",
    "batch_size = 10"
   ]
  },
  {
   "cell_type": "code",
   "execution_count": null,
   "id": "a78e0005-464d-46c0-86f4-946291d7586c",
   "metadata": {},
   "outputs": [],
   "source": []
  },
  {
   "cell_type": "code",
   "execution_count": 49,
   "id": "2d31d6a7-74f4-4e63-b1cb-b92bfb610a5a",
   "metadata": {
    "collapsed": true,
    "jupyter": {
     "outputs_hidden": true
    },
    "tags": []
   },
   "outputs": [
    {
     "name": "stdout",
     "output_type": "stream",
     "text": [
      "New best\n",
      "Iter:     1 | Cost: 0.8704147 | f1: 0.1501976 \n",
      "Iter:     2 | Cost: 0.8466560 | f1: 0.1370968 \n",
      "Iter:     3 | Cost: 0.8957544 | f1: 0.1255230 \n",
      "Iter:     4 | Cost: 0.8953898 | f1: 0.1350211 \n",
      "New best\n",
      "Iter:     5 | Cost: 0.8916812 | f1: 0.1576763 \n",
      "New best\n",
      "Iter:     6 | Cost: 0.9211586 | f1: 0.1916667 \n",
      "New best\n",
      "Iter:     7 | Cost: 0.8213404 | f1: 0.1924686 \n",
      "New best\n",
      "Iter:     8 | Cost: 0.7701475 | f1: 0.2459016 \n",
      "Iter:     9 | Cost: 0.7172029 | f1: 0.2083333 \n",
      "Iter:    10 | Cost: 0.7128270 | f1: 0.1772152 \n",
      "Iter:    11 | Cost: 0.7537682 | f1: 0.1646091 \n",
      "New best\n",
      "Iter:    12 | Cost: 0.7793589 | f1: 0.2905405 \n",
      "Iter:    13 | Cost: 0.7285214 | f1: 0.1945525 \n",
      "Iter:    14 | Cost: 0.6837354 | f1: 0.1350211 \n",
      "Iter:    15 | Cost: 0.6707374 | f1: 0.1344538 \n",
      "Iter:    16 | Cost: 0.6659609 | f1: 0.1500000 \n",
      "Iter:    17 | Cost: 0.6747343 | f1: 0.1833333 \n",
      "Iter:    18 | Cost: 0.6643353 | f1: 0.2348178 \n",
      "Iter:    19 | Cost: 0.6387732 | f1: 0.2560000 \n",
      "Iter:    20 | Cost: 0.6258875 | f1: 0.2745098 \n",
      "New best\n",
      "Iter:    21 | Cost: 0.6248194 | f1: 0.3269962 \n",
      "New best\n",
      "Iter:    22 | Cost: 0.6092916 | f1: 0.3507463 \n",
      "New best\n",
      "Iter:    23 | Cost: 0.5892190 | f1: 0.3868613 \n",
      "New best\n",
      "Iter:    24 | Cost: 0.5936533 | f1: 0.4320557 \n",
      "New best\n",
      "Iter:    25 | Cost: 0.6612979 | f1: 0.6814516 \n",
      "Iter:    26 | Cost: 0.7131533 | f1: 0.6533575 \n",
      "Iter:    27 | Cost: 0.7081395 | f1: 0.6464286 \n",
      "New best\n",
      "Iter:    28 | Cost: 0.5874195 | f1: 0.7063655 \n",
      "Iter:    29 | Cost: 0.5188584 | f1: 0.6126126 \n",
      "Iter:    30 | Cost: 0.6043040 | f1: 0.4662577 \n",
      "Iter:    31 | Cost: 0.7139805 | f1: 0.4169184 \n",
      "Iter:    32 | Cost: 0.7483308 | f1: 0.4144144 \n",
      "Iter:    33 | Cost: 0.7414460 | f1: 0.4110429 \n",
      "Iter:    34 | Cost: 0.7056741 | f1: 0.4190476 \n",
      "Iter:    35 | Cost: 0.6269146 | f1: 0.4422442 \n",
      "Iter:    36 | Cost: 0.5519089 | f1: 0.4722222 \n",
      "Iter:    37 | Cost: 0.5038852 | f1: 0.4896552 \n",
      "Iter:    38 | Cost: 0.5087359 | f1: 0.5714286 \n",
      "Iter:    39 | Cost: 0.5594929 | f1: 0.6924829 \n",
      "Iter:    40 | Cost: 0.5557416 | f1: 0.6683047 \n",
      "Iter:    41 | Cost: 0.5160589 | f1: 0.6064516 \n",
      "Iter:    42 | Cost: 0.4911355 | f1: 0.5035461 \n",
      "Iter:    43 | Cost: 0.5181552 | f1: 0.4727273 \n",
      "Iter:    44 | Cost: 0.5628731 | f1: 0.4558824 \n",
      "Iter:    45 | Cost: 0.5757432 | f1: 0.4501845 \n",
      "Iter:    46 | Cost: 0.5606573 | f1: 0.4671533 \n",
      "Iter:    47 | Cost: 0.4849962 | f1: 0.5263158 \n",
      "Iter:    48 | Cost: 0.4527319 | f1: 0.5933333 \n",
      "Iter:    49 | Cost: 0.4584141 | f1: 0.6767372 \n",
      "New best\n",
      "Iter:    50 | Cost: 0.4896950 | f1: 0.7381546 \n",
      "Iter:    51 | Cost: 0.4796680 | f1: 0.7352185 \n",
      "Iter:    52 | Cost: 0.4742683 | f1: 0.7172775 \n",
      "Iter:    53 | Cost: 0.4529983 | f1: 0.6706231 \n",
      "Iter:    54 | Cost: 0.4479759 | f1: 0.6501548 \n",
      "Iter:    55 | Cost: 0.4445439 | f1: 0.6397516 \n",
      "Iter:    56 | Cost: 0.4411473 | f1: 0.6397516 \n",
      "Iter:    57 | Cost: 0.4414233 | f1: 0.6335404 \n",
      "Iter:    58 | Cost: 0.4386292 | f1: 0.6273292 \n",
      "Iter:    59 | Cost: 0.4312449 | f1: 0.6546547 \n",
      "Iter:    60 | Cost: 0.4414691 | f1: 0.6887052 \n",
      "New best\n",
      "Iter:    61 | Cost: 0.4767758 | f1: 0.7464115 \n",
      "Iter:    62 | Cost: 0.4913810 | f1: 0.7394209 \n",
      "Iter:    63 | Cost: 0.4638380 | f1: 0.7259259 \n",
      "Iter:    64 | Cost: 0.4407164 | f1: 0.7024129 \n",
      "Iter:    65 | Cost: 0.4282134 | f1: 0.6836158 \n",
      "Iter:    66 | Cost: 0.4331292 | f1: 0.6813187 \n",
      "Iter:    67 | Cost: 0.4418404 | f1: 0.7135417 \n",
      "Iter:    68 | Cost: 0.4304412 | f1: 0.6852368 \n",
      "Iter:    69 | Cost: 0.4240332 | f1: 0.6686217 \n",
      "Iter:    70 | Cost: 0.4235671 | f1: 0.6525680 \n",
      "Iter:    71 | Cost: 0.4260184 | f1: 0.6315789 \n",
      "Iter:    72 | Cost: 0.4256477 | f1: 0.6276923 \n",
      "Iter:    73 | Cost: 0.4250706 | f1: 0.6484848 \n",
      "Iter:    74 | Cost: 0.4255579 | f1: 0.6626866 \n",
      "Iter:    75 | Cost: 0.4279207 | f1: 0.6686047 \n",
      "Iter:    76 | Cost: 0.4268654 | f1: 0.6626866 \n",
      "Iter:    77 | Cost: 0.4271334 | f1: 0.6626866 \n",
      "Iter:    78 | Cost: 0.4272620 | f1: 0.6506024 \n",
      "Iter:    79 | Cost: 0.4274837 | f1: 0.6607143 \n",
      "Iter:    80 | Cost: 0.4274161 | f1: 0.6626866 \n",
      "Iter:    81 | Cost: 0.4293014 | f1: 0.6666667 \n",
      "Iter:    82 | Cost: 0.4379988 | f1: 0.6866485 \n",
      "Iter:    83 | Cost: 0.4333450 | f1: 0.6778711 \n",
      "Iter:    84 | Cost: 0.4264879 | f1: 0.6626866 \n",
      "Iter:    85 | Cost: 0.4300365 | f1: 0.6234568 \n",
      "Iter:    86 | Cost: 0.4553997 | f1: 0.5949367 \n",
      "Iter:    87 | Cost: 0.5176398 | f1: 0.5472313 \n",
      "Iter:    88 | Cost: 0.5590833 | f1: 0.5263158 \n",
      "Iter:    89 | Cost: 0.5908162 | f1: 0.5083612 \n",
      "Iter:    90 | Cost: 0.5606069 | f1: 0.5165563 \n",
      "Iter:    91 | Cost: 0.5096810 | f1: 0.5490196 \n",
      "Iter:    92 | Cost: 0.4470584 | f1: 0.6012658 \n",
      "Iter:    93 | Cost: 0.4269682 | f1: 0.6360856 \n",
      "Iter:    94 | Cost: 0.4415045 | f1: 0.6861702 \n",
      "Iter:    95 | Cost: 0.4766759 | f1: 0.7380410 \n",
      "Iter:    96 | Cost: 0.4923697 | f1: 0.7268817 \n",
      "Iter:    97 | Cost: 0.4896735 | f1: 0.7257019 \n",
      "Iter:    98 | Cost: 0.4890070 | f1: 0.7272727 \n",
      "Iter:    99 | Cost: 0.4730626 | f1: 0.7400468 \n",
      "Iter:   100 | Cost: 0.4412710 | f1: 0.6775956 \n",
      "Iter:   101 | Cost: 0.4289448 | f1: 0.6424242 \n",
      "Iter:   102 | Cost: 0.4359817 | f1: 0.6125000 \n",
      "Iter:   103 | Cost: 0.4395823 | f1: 0.6056782 \n",
      "Iter:   104 | Cost: 0.4439618 | f1: 0.5968254 \n",
      "Iter:   105 | Cost: 0.4367396 | f1: 0.6095238 \n",
      "Iter:   106 | Cost: 0.4349706 | f1: 0.6182965 \n",
      "Iter:   107 | Cost: 0.4302348 | f1: 0.6335404 \n",
      "Iter:   108 | Cost: 0.4289073 | f1: 0.6565350 \n",
      "Iter:   109 | Cost: 0.4325850 | f1: 0.6704871 \n",
      "Iter:   110 | Cost: 0.4337812 | f1: 0.6836158 \n",
      "Iter:   111 | Cost: 0.4301764 | f1: 0.6666667 \n",
      "Iter:   112 | Cost: 0.4261681 | f1: 0.6606607 \n",
      "Iter:   113 | Cost: 0.4282623 | f1: 0.6780627 \n",
      "Iter:   114 | Cost: 0.4314448 | f1: 0.6814404 \n",
      "Iter:   115 | Cost: 0.4376119 | f1: 0.6898396 \n",
      "Iter:   116 | Cost: 0.4265815 | f1: 0.6628571 \n",
      "Iter:   117 | Cost: 0.4257282 | f1: 0.6338462 \n",
      "Iter:   118 | Cost: 0.4328575 | f1: 0.6292835 \n",
      "Iter:   119 | Cost: 0.4405027 | f1: 0.6206897 \n",
      "Iter:   120 | Cost: 0.4428203 | f1: 0.6187500 \n",
      "Iter:   121 | Cost: 0.4405810 | f1: 0.6230530 \n",
      "Iter:   122 | Cost: 0.4522491 | f1: 0.6012658 \n",
      "Iter:   123 | Cost: 0.4632225 | f1: 0.5923567 \n",
      "Iter:   124 | Cost: 0.4683253 | f1: 0.5859873 \n",
      "Iter:   125 | Cost: 0.4627468 | f1: 0.5859873 \n",
      "Iter:   126 | Cost: 0.4407034 | f1: 0.6149068 \n",
      "Iter:   127 | Cost: 0.4349686 | f1: 0.6234568 \n",
      "Iter:   128 | Cost: 0.4301208 | f1: 0.6234568 \n",
      "Iter:   129 | Cost: 0.4268108 | f1: 0.6360856 \n",
      "Iter:   130 | Cost: 0.4268654 | f1: 0.6525680 \n",
      "Iter:   131 | Cost: 0.4261913 | f1: 0.6276923 \n",
      "Iter:   132 | Cost: 0.4258656 | f1: 0.6402439 \n",
      "Iter:   133 | Cost: 0.4272281 | f1: 0.6586826 \n",
      "Iter:   134 | Cost: 0.4345873 | f1: 0.6704225 \n",
      "Iter:   135 | Cost: 0.4406702 | f1: 0.6775956 \n",
      "Iter:   136 | Cost: 0.4440010 | f1: 0.6826667 \n",
      "Iter:   137 | Cost: 0.4394509 | f1: 0.6757493 \n",
      "Iter:   138 | Cost: 0.4405909 | f1: 0.6810811 \n",
      "Iter:   139 | Cost: 0.4309922 | f1: 0.6685552 \n",
      "Iter:   140 | Cost: 0.4310437 | f1: 0.6704545 \n",
      "Iter:   141 | Cost: 0.4275511 | f1: 0.6666667 \n",
      "Iter:   142 | Cost: 0.4269028 | f1: 0.6404834 \n",
      "Iter:   143 | Cost: 0.4310460 | f1: 0.6211180 \n",
      "Iter:   144 | Cost: 0.4334047 | f1: 0.6211180 \n",
      "Iter:   145 | Cost: 0.4404917 | f1: 0.6056782 \n",
      "Iter:   146 | Cost: 0.4440695 | f1: 0.6056782 \n",
      "Iter:   147 | Cost: 0.4346098 | f1: 0.6211180 \n",
      "Iter:   148 | Cost: 0.4268920 | f1: 0.6296296 \n",
      "Iter:   149 | Cost: 0.4253106 | f1: 0.6506024 \n",
      "Iter:   150 | Cost: 0.4271674 | f1: 0.6647059 \n"
     ]
    }
   ],
   "source": [
    "weights = weights_init\n",
    "bias = bias_init\n",
    "\n",
    "wbest = 0\n",
    "bbest = 0\n",
    "abest = 0\n",
    "ccost = 0 \n",
    "for it in range(150):\n",
    "\n",
    "    # weights update by one optimizer step\n",
    "\n",
    "    batch_index = np.random.randint(0, len(X), (batch_size,))\n",
    "    X_batch = X[batch_index]\n",
    "    Y_batch = Y[batch_index]\n",
    "    weights, bias, _, _ = opt.step(cost, weights, bias, X_batch, Y_batch)\n",
    "\n",
    "    # Compute the accuracy\n",
    "    predictions = [np.sign(variational_classifier(weights, bias, x)) for x in X]\n",
    "    \n",
    "    '''if accuracy(Y, predictions) > abest:\n",
    "        wbest = weights\n",
    "        bbest = bias\n",
    "        abest = accuracy(Y, predictions)\n",
    "        print('New best')\n",
    "\n",
    "    acc = accuracy(Y, predictions)\n",
    "\n",
    "    print(\n",
    "        \"Iter: {:5d} | Cost: {:0.7f} | Accuracy: {:0.7f} \".format(\n",
    "            it + 1, cost(weights, bias, X, Y), acc\n",
    "        )\n",
    "    )'''\n",
    "    prec = metrics.f1_score(Y, predictions, average='binary', pos_label=1)\n",
    "    if  prec > abest or ((prec == abest) and (cost(weights, bias, X, Y) < ccost)):\n",
    "        wbest = weights\n",
    "        bbest = bias\n",
    "        abest = prec\n",
    "        ccost = cost(weights, bias, X, Y)\n",
    "        print('New best')\n",
    "    #prec = metrics.precision_score(Y, predictions, average='binary')\n",
    "    print(\n",
    "        \"Iter: {:5d} | Cost: {:0.7f} | f1: {:0.7f} \".format(\n",
    "            it + 1, cost(weights, bias, X, Y), prec\n",
    "        )\n",
    "    )\n",
    "    \n",
    "    "
   ]
  },
  {
   "cell_type": "code",
   "execution_count": 50,
   "id": "ee2dceeb-5b76-4ec7-9ebb-efb9e562cf8a",
   "metadata": {},
   "outputs": [],
   "source": [
    "Yte = np.array(label_test * 2 - np.ones(len(label_test)))\n",
    "Xte = np.array(normalize(sample_test))"
   ]
  },
  {
   "cell_type": "code",
   "execution_count": 51,
   "id": "03ecd991-b560-4868-9e42-1dcfe09d58ac",
   "metadata": {},
   "outputs": [
    {
     "data": {
      "text/plain": [
       "-1.0    154\n",
       " 1.0     46\n",
       "dtype: int64"
      ]
     },
     "execution_count": 51,
     "metadata": {},
     "output_type": "execute_result"
    }
   ],
   "source": [
    "pd.Series(Yte).value_counts()"
   ]
  },
  {
   "cell_type": "code",
   "execution_count": 52,
   "id": "4416ed73-4c7d-44e3-a539-9dba3191327d",
   "metadata": {},
   "outputs": [
    {
     "name": "stdout",
     "output_type": "stream",
     "text": [
      "Cost: 0.4350651986491049, Accuracy: 84.0%\n"
     ]
    }
   ],
   "source": [
    "predictions = [np.sign(variational_classifier(wbest, bbest, x)) for x in Xte]\n",
    "pred = [np.sign(variational_classifier(wbest, bbest, x)) for x in X]\n",
    "acc = accuracy(Yte, predictions)\n",
    "\n",
    "print(f'Cost: {cost(wbest, bbest, Xte, Yte)}, Accuracy: {np.round(acc, 2) * 100}%')"
   ]
  },
  {
   "cell_type": "code",
   "execution_count": 53,
   "id": "8c50c097-603d-439b-84a9-cd649bcbeaa1",
   "metadata": {},
   "outputs": [
    {
     "name": "stdout",
     "output_type": "stream",
     "text": [
      "              precision    recall  f1-score   support\n",
      "\n",
      "        -1.0       0.98      0.81      0.89       154\n",
      "         1.0       0.60      0.93      0.73        46\n",
      "\n",
      "    accuracy                           0.84       200\n",
      "   macro avg       0.79      0.87      0.81       200\n",
      "weighted avg       0.89      0.84      0.85       200\n",
      "\n"
     ]
    }
   ],
   "source": [
    "print(metrics.classification_report(Yte,predictions))"
   ]
  },
  {
   "cell_type": "code",
   "execution_count": 69,
   "id": "a4a2955a-d877-4885-ad84-5f31458a7c94",
   "metadata": {},
   "outputs": [
    {
     "name": "stdout",
     "output_type": "stream",
     "text": [
      "              precision    recall  f1-score   support\n",
      "\n",
      "        -1.0       1.00      0.82      0.90       187\n",
      "         1.0       0.28      1.00      0.44        13\n",
      "\n",
      "    accuracy                           0.83       200\n",
      "   macro avg       0.64      0.91      0.67       200\n",
      "weighted avg       0.95      0.83      0.87       200\n",
      "\n"
     ]
    }
   ],
   "source": [
    "print(metrics.classification_report(predictions,Yte))"
   ]
  },
  {
   "cell_type": "code",
   "execution_count": 54,
   "id": "dcedeada-a82f-4e82-b738-6a862dc801c8",
   "metadata": {},
   "outputs": [
    {
     "name": "stdout",
     "output_type": "stream",
     "text": [
      "\n",
      "\n",
      "    Precision: 93.48%\n",
      "    Recall: 59.72%\n",
      "    f1: 72.88%\n",
      "    Accuracy: 84.0%\n",
      "    Balanced accuracy: 78.69%\n",
      "    Matthew corcorref: 65.45%\n",
      "    \n"
     ]
    }
   ],
   "source": [
    "print(f'''\n",
    "\n",
    "    Precision: {round(100*metrics.precision_score(predictions,Yte),2)}%\n",
    "    Recall: {round(100*metrics.recall_score(predictions,Yte),2)}%\n",
    "    f1: {round(100*metrics.f1_score(predictions,Yte),2)}%\n",
    "    Accuracy: {round(100*metrics.accuracy_score(predictions,Yte),2)}%\n",
    "    Matthew corcorref: {round(100*metrics.matthews_corrcoef(predictions,Yte),2)}%\n",
    "    Balanced accuracy: {round(100*metrics.balanced_accuracy_score(predictions,Yte),2)}%\n",
    "    ''')"
   ]
  },
  {
   "cell_type": "code",
   "execution_count": 56,
   "id": "77acf9e4-6362-4daa-829c-a5c70138be5c",
   "metadata": {
    "collapsed": true,
    "jupyter": {
     "outputs_hidden": true
    },
    "tags": []
   },
   "outputs": [
    {
     "name": "stdout",
     "output_type": "stream",
     "text": [
      "New best\n",
      "Iter:     1 | Cost: 0.9591679 | Accuracy: 0.6850000 \n",
      "New best\n",
      "Iter:     2 | Cost: 0.8119139 | Accuracy: 0.7300000 \n",
      "New best\n",
      "Iter:     3 | Cost: 0.7352352 | Accuracy: 0.7375000 \n",
      "Iter:     4 | Cost: 0.7666034 | Accuracy: 0.7350000 \n",
      "Iter:     5 | Cost: 0.7994900 | Accuracy: 0.7362500 \n",
      "Iter:     6 | Cost: 0.7946886 | Accuracy: 0.7350000 \n",
      "Iter:     7 | Cost: 0.7639406 | Accuracy: 0.7350000 \n",
      "Iter:     8 | Cost: 0.7319485 | Accuracy: 0.7350000 \n",
      "Iter:     9 | Cost: 0.7053591 | Accuracy: 0.7350000 \n",
      "New best\n",
      "Iter:    10 | Cost: 0.6383776 | Accuracy: 0.7450000 \n",
      "New best\n",
      "Iter:    11 | Cost: 0.5972009 | Accuracy: 0.7650000 \n",
      "New best\n",
      "Iter:    12 | Cost: 0.6066362 | Accuracy: 0.8337500 \n",
      "New best\n",
      "Iter:    13 | Cost: 0.6178081 | Accuracy: 0.8487500 \n",
      "New best\n",
      "Iter:    14 | Cost: 0.5677686 | Accuracy: 0.8562500 \n",
      "Iter:    15 | Cost: 0.4963915 | Accuracy: 0.8512500 \n",
      "New best\n",
      "Iter:    16 | Cost: 0.4880981 | Accuracy: 0.8612500 \n",
      "Iter:    17 | Cost: 0.4592306 | Accuracy: 0.8525000 \n",
      "Iter:    18 | Cost: 0.4383952 | Accuracy: 0.8537500 \n",
      "Iter:    19 | Cost: 0.4345002 | Accuracy: 0.8487500 \n",
      "Iter:    20 | Cost: 0.4341334 | Accuracy: 0.8462500 \n",
      "Iter:    21 | Cost: 0.4336017 | Accuracy: 0.8462500 \n",
      "Iter:    22 | Cost: 0.4345176 | Accuracy: 0.8462500 \n",
      "Iter:    23 | Cost: 0.4345325 | Accuracy: 0.8450000 \n",
      "Iter:    24 | Cost: 0.4347846 | Accuracy: 0.8437500 \n",
      "Iter:    25 | Cost: 0.4353648 | Accuracy: 0.8462500 \n",
      "Iter:    26 | Cost: 0.4666945 | Accuracy: 0.8537500 \n",
      "Iter:    27 | Cost: 0.4735783 | Accuracy: 0.8600000 \n",
      "New best\n",
      "Iter:    28 | Cost: 0.4688993 | Accuracy: 0.8625000 \n",
      "Iter:    29 | Cost: 0.4622242 | Accuracy: 0.8612500 \n",
      "Iter:    30 | Cost: 0.4371533 | Accuracy: 0.8537500 \n",
      "Iter:    31 | Cost: 0.4317163 | Accuracy: 0.8450000 \n",
      "Iter:    32 | Cost: 0.4446316 | Accuracy: 0.8425000 \n",
      "Iter:    33 | Cost: 0.4304480 | Accuracy: 0.8462500 \n",
      "Iter:    34 | Cost: 0.4267534 | Accuracy: 0.8450000 \n",
      "Iter:    35 | Cost: 0.4258489 | Accuracy: 0.8462500 \n",
      "Iter:    36 | Cost: 0.4246269 | Accuracy: 0.8487500 \n",
      "Iter:    37 | Cost: 0.4244353 | Accuracy: 0.8500000 \n",
      "Iter:    38 | Cost: 0.4269615 | Accuracy: 0.8550000 \n",
      "Iter:    39 | Cost: 0.4310150 | Accuracy: 0.8575000 \n",
      "Iter:    40 | Cost: 0.4265666 | Accuracy: 0.8587500 \n",
      "Iter:    41 | Cost: 0.4382462 | Accuracy: 0.8587500 \n",
      "Iter:    42 | Cost: 0.4319582 | Accuracy: 0.8550000 \n",
      "Iter:    43 | Cost: 0.4294038 | Accuracy: 0.8575000 \n",
      "Iter:    44 | Cost: 0.4230554 | Accuracy: 0.8537500 \n",
      "Iter:    45 | Cost: 0.4243503 | Accuracy: 0.8475000 \n",
      "Iter:    46 | Cost: 0.4575185 | Accuracy: 0.8350000 \n",
      "Iter:    47 | Cost: 0.4803782 | Accuracy: 0.8287500 \n",
      "Iter:    48 | Cost: 0.4605779 | Accuracy: 0.8325000 \n",
      "Iter:    49 | Cost: 0.4210694 | Accuracy: 0.8475000 \n",
      "New best\n",
      "Iter:    50 | Cost: 0.4507047 | Accuracy: 0.8625000 \n",
      "Iter:    51 | Cost: 0.5388203 | Accuracy: 0.8387500 \n",
      "Iter:    52 | Cost: 0.6106781 | Accuracy: 0.7787500 \n",
      "New best\n",
      "Iter:    53 | Cost: 0.4824539 | Accuracy: 0.8662500 \n",
      "Iter:    54 | Cost: 0.4359987 | Accuracy: 0.8562500 \n",
      "Iter:    55 | Cost: 0.4313176 | Accuracy: 0.8437500 \n",
      "Iter:    56 | Cost: 0.4706121 | Accuracy: 0.8312500 \n",
      "Iter:    57 | Cost: 0.5036829 | Accuracy: 0.8275000 \n",
      "Iter:    58 | Cost: 0.4912942 | Accuracy: 0.8287500 \n",
      "Iter:    59 | Cost: 0.4446903 | Accuracy: 0.8387500 \n",
      "Iter:    60 | Cost: 0.4481906 | Accuracy: 0.8587500 \n",
      "Iter:    61 | Cost: 0.4907412 | Accuracy: 0.8587500 \n",
      "Iter:    62 | Cost: 0.4753686 | Accuracy: 0.8587500 \n",
      "Iter:    63 | Cost: 0.4509127 | Accuracy: 0.8525000 \n",
      "Iter:    64 | Cost: 0.4371720 | Accuracy: 0.8500000 \n",
      "Iter:    65 | Cost: 0.4433393 | Accuracy: 0.8425000 \n",
      "Iter:    66 | Cost: 0.4361044 | Accuracy: 0.8575000 \n",
      "Iter:    67 | Cost: 0.4716699 | Accuracy: 0.8612500 \n",
      "Iter:    68 | Cost: 0.5547292 | Accuracy: 0.7925000 \n",
      "Iter:    69 | Cost: 0.6556510 | Accuracy: 0.7462500 \n",
      "Iter:    70 | Cost: 0.6623347 | Accuracy: 0.7412500 \n",
      "Iter:    71 | Cost: 0.5909236 | Accuracy: 0.7712500 \n",
      "Iter:    72 | Cost: 0.4943712 | Accuracy: 0.8350000 \n",
      "Iter:    73 | Cost: 0.4341678 | Accuracy: 0.8537500 \n",
      "Iter:    74 | Cost: 0.4290743 | Accuracy: 0.8462500 \n",
      "Iter:    75 | Cost: 0.4556890 | Accuracy: 0.8375000 \n",
      "Iter:    76 | Cost: 0.4972302 | Accuracy: 0.8262500 \n",
      "Iter:    77 | Cost: 0.4984516 | Accuracy: 0.8250000 \n",
      "Iter:    78 | Cost: 0.5012682 | Accuracy: 0.8225000 \n",
      "Iter:    79 | Cost: 0.5041492 | Accuracy: 0.8225000 \n",
      "Iter:    80 | Cost: 0.4907403 | Accuracy: 0.8262500 \n",
      "Iter:    81 | Cost: 0.4830202 | Accuracy: 0.8450000 \n",
      "Iter:    82 | Cost: 0.5581889 | Accuracy: 0.8575000 \n",
      "Iter:    83 | Cost: 0.5423838 | Accuracy: 0.8575000 \n",
      "Iter:    84 | Cost: 0.5163288 | Accuracy: 0.8575000 \n",
      "Iter:    85 | Cost: 0.4776438 | Accuracy: 0.8612500 \n",
      "Iter:    86 | Cost: 0.4752902 | Accuracy: 0.8612500 \n",
      "Iter:    87 | Cost: 0.4635762 | Accuracy: 0.8650000 \n",
      "Iter:    88 | Cost: 0.4524964 | Accuracy: 0.8587500 \n",
      "Iter:    89 | Cost: 0.4361402 | Accuracy: 0.8587500 \n",
      "Iter:    90 | Cost: 0.4462319 | Accuracy: 0.8425000 \n",
      "Iter:    91 | Cost: 0.4578715 | Accuracy: 0.8362500 \n",
      "Iter:    92 | Cost: 0.4621994 | Accuracy: 0.8412500 \n",
      "Iter:    93 | Cost: 0.4632862 | Accuracy: 0.8375000 \n",
      "Iter:    94 | Cost: 0.4656434 | Accuracy: 0.8437500 \n",
      "Iter:    95 | Cost: 0.4647818 | Accuracy: 0.8412500 \n",
      "Iter:    96 | Cost: 0.4582647 | Accuracy: 0.8437500 \n",
      "Iter:    97 | Cost: 0.4616489 | Accuracy: 0.8625000 \n",
      "Iter:    98 | Cost: 0.4569218 | Accuracy: 0.8550000 \n",
      "Iter:    99 | Cost: 0.4527757 | Accuracy: 0.8562500 \n",
      "Iter:   100 | Cost: 0.4547412 | Accuracy: 0.8575000 \n",
      "New best\n",
      "Iter:   101 | Cost: 0.4603122 | Accuracy: 0.8675000 \n",
      "Iter:   102 | Cost: 0.4407007 | Accuracy: 0.8575000 \n",
      "Iter:   103 | Cost: 0.4414970 | Accuracy: 0.8562500 \n",
      "Iter:   104 | Cost: 0.4567398 | Accuracy: 0.8562500 \n",
      "Iter:   105 | Cost: 0.4603495 | Accuracy: 0.8575000 \n",
      "Iter:   106 | Cost: 0.4594269 | Accuracy: 0.8550000 \n",
      "Iter:   107 | Cost: 0.4603080 | Accuracy: 0.8512500 \n",
      "Iter:   108 | Cost: 0.4572726 | Accuracy: 0.8562500 \n",
      "Iter:   109 | Cost: 0.4549712 | Accuracy: 0.8512500 \n",
      "Iter:   110 | Cost: 0.4581798 | Accuracy: 0.8487500 \n",
      "Iter:   111 | Cost: 0.4867842 | Accuracy: 0.8362500 \n",
      "Iter:   112 | Cost: 0.5089205 | Accuracy: 0.8300000 \n",
      "Iter:   113 | Cost: 0.5379402 | Accuracy: 0.8250000 \n",
      "Iter:   114 | Cost: 0.5592193 | Accuracy: 0.8212500 \n",
      "Iter:   115 | Cost: 0.5474308 | Accuracy: 0.8212500 \n",
      "Iter:   116 | Cost: 0.4778536 | Accuracy: 0.8287500 \n",
      "Iter:   117 | Cost: 0.4488275 | Accuracy: 0.8425000 \n",
      "Iter:   118 | Cost: 0.4495817 | Accuracy: 0.8512500 \n",
      "Iter:   119 | Cost: 0.4602966 | Accuracy: 0.8600000 \n",
      "Iter:   120 | Cost: 0.4483700 | Accuracy: 0.8600000 \n",
      "Iter:   121 | Cost: 0.4448494 | Accuracy: 0.8612500 \n",
      "Iter:   122 | Cost: 0.4435088 | Accuracy: 0.8575000 \n",
      "Iter:   123 | Cost: 0.4665276 | Accuracy: 0.8650000 \n",
      "Iter:   124 | Cost: 0.4639548 | Accuracy: 0.8575000 \n",
      "Iter:   125 | Cost: 0.4601335 | Accuracy: 0.8475000 \n",
      "Iter:   126 | Cost: 0.4625665 | Accuracy: 0.8525000 \n",
      "Iter:   127 | Cost: 0.4919126 | Accuracy: 0.8312500 \n",
      "Iter:   128 | Cost: 0.5242897 | Accuracy: 0.8200000 \n",
      "Iter:   129 | Cost: 0.5403031 | Accuracy: 0.8125000 \n",
      "Iter:   130 | Cost: 0.5340586 | Accuracy: 0.8137500 \n",
      "Iter:   131 | Cost: 0.5388523 | Accuracy: 0.8075000 \n",
      "Iter:   132 | Cost: 0.5302317 | Accuracy: 0.8112500 \n",
      "Iter:   133 | Cost: 0.5218809 | Accuracy: 0.8150000 \n",
      "Iter:   134 | Cost: 0.5217099 | Accuracy: 0.8162500 \n",
      "Iter:   135 | Cost: 0.5157225 | Accuracy: 0.8262500 \n",
      "Iter:   136 | Cost: 0.5103582 | Accuracy: 0.8462500 \n",
      "Iter:   137 | Cost: 0.5192868 | Accuracy: 0.8562500 \n",
      "Iter:   138 | Cost: 0.5396555 | Accuracy: 0.8200000 \n",
      "Iter:   139 | Cost: 0.5369460 | Accuracy: 0.8162500 \n",
      "Iter:   140 | Cost: 0.5277130 | Accuracy: 0.8175000 \n",
      "Iter:   141 | Cost: 0.5161024 | Accuracy: 0.8237500 \n",
      "Iter:   142 | Cost: 0.4807764 | Accuracy: 0.8562500 \n",
      "Iter:   143 | Cost: 0.4489701 | Accuracy: 0.8662500 \n",
      "Iter:   144 | Cost: 0.4250111 | Accuracy: 0.8562500 \n",
      "Iter:   145 | Cost: 0.4245270 | Accuracy: 0.8512500 \n",
      "Iter:   146 | Cost: 0.4257317 | Accuracy: 0.8487500 \n",
      "Iter:   147 | Cost: 0.4318141 | Accuracy: 0.8462500 \n",
      "Iter:   148 | Cost: 0.4401787 | Accuracy: 0.8387500 \n",
      "Iter:   149 | Cost: 0.4446085 | Accuracy: 0.8375000 \n",
      "Iter:   150 | Cost: 0.4477612 | Accuracy: 0.8375000 \n"
     ]
    }
   ],
   "source": [
    "weights = weights_init\n",
    "bias = bias_init\n",
    "\n",
    "wbest = 0\n",
    "bbest = 0\n",
    "abest = 0\n",
    "ccost = 1 \n",
    "for it in range(150):\n",
    "\n",
    "    # weights update by one optimizer step\n",
    "\n",
    "    batch_index = np.random.randint(0, len(X), (batch_size,))\n",
    "    X_batch = X[batch_index]\n",
    "    Y_batch = Y[batch_index]\n",
    "    weights, bias, _, _ = opt.step(cost, weights, bias, X_batch, Y_batch)\n",
    "\n",
    "    # Compute the accuracy\n",
    "    predictions = [np.sign(variational_classifier(weights, bias, x)) for x in X]\n",
    "    \n",
    "    '''if accuracy(Y, predictions) > abest:\n",
    "        wbest = weights\n",
    "        bbest = bias\n",
    "        abest = accuracy(Y, predictions)\n",
    "        print('New best')\n",
    "\n",
    "    acc = accuracy(Y, predictions)\n",
    "\n",
    "    print(\n",
    "        \"Iter: {:5d} | Cost: {:0.7f} | Accuracy: {:0.7f} \".format(\n",
    "            it + 1, cost(weights, bias, X, Y), acc\n",
    "        )\n",
    "    )'''\n",
    "    prec = accuracy(Y, predictions)\n",
    "    if  prec > abest or ((prec == abest) and (cost(weights, bias, X, Y) < ccost)):\n",
    "        wbest = weights\n",
    "        bbest = bias\n",
    "        abest = prec\n",
    "        ccost = cost(weights, bias, X, Y)\n",
    "        print('New best')\n",
    "    #prec = metrics.precision_score(Y, predictions, average='binary')\n",
    "    print(\n",
    "        \"Iter: {:5d} | Cost: {:0.7f} | Accuracy: {:0.7f} \".format(\n",
    "            it + 1, cost(weights, bias, X, Y), prec\n",
    "        )\n",
    "    )\n",
    "    \n",
    "    "
   ]
  },
  {
   "cell_type": "code",
   "execution_count": 57,
   "id": "615e6410-5955-469d-8ccd-32517ba8ec3f",
   "metadata": {},
   "outputs": [
    {
     "name": "stdout",
     "output_type": "stream",
     "text": [
      "Cost: 0.5212546981437339, Accuracy: 78.0%\n"
     ]
    }
   ],
   "source": [
    "predictions = [np.sign(variational_classifier(wbest, bbest, x)) for x in Xte]\n",
    "pred = [np.sign(variational_classifier(wbest, bbest, x)) for x in X]\n",
    "acc = accuracy(Yte, predictions)\n",
    "\n",
    "print(f'Cost: {cost(wbest, bbest, Xte, Yte)}, Accuracy: {np.round(acc, 2) * 100}%')"
   ]
  },
  {
   "cell_type": "code",
   "execution_count": 58,
   "id": "694c231f-ce47-4bdb-be6a-eb1308ebc00e",
   "metadata": {},
   "outputs": [
    {
     "name": "stdout",
     "output_type": "stream",
     "text": [
      "              precision    recall  f1-score   support\n",
      "\n",
      "        -1.0       0.89      0.81      0.85       154\n",
      "         1.0       0.51      0.67      0.58        46\n",
      "\n",
      "    accuracy                           0.78       200\n",
      "   macro avg       0.70      0.74      0.71       200\n",
      "weighted avg       0.80      0.78      0.79       200\n",
      "\n"
     ]
    }
   ],
   "source": [
    "print(metrics.classification_report(Yte, predictions))"
   ]
  },
  {
   "cell_type": "code",
   "execution_count": 59,
   "id": "660c69a6-87da-400e-99ba-739d49627088",
   "metadata": {},
   "outputs": [
    {
     "name": "stdout",
     "output_type": "stream",
     "text": [
      "\n",
      "\n",
      "    Precision: 67.39%\n",
      "    Recall: 50.82%\n",
      "    f1: 57.94%\n",
      "    Accuracy: 77.5%\n",
      "    Balanced accuracy: 70.01%\n",
      "    Matthew corcorref: 43.79%\n",
      "    \n"
     ]
    }
   ],
   "source": [
    "print(f'''\n",
    "\n",
    "    Precision: {round(100*metrics.precision_score(predictions,Yte),2)}%\n",
    "    Recall: {round(100*metrics.recall_score(predictions,Yte),2)}%\n",
    "    f1: {round(100*metrics.f1_score(predictions,Yte),2)}%\n",
    "    Accuracy: {round(100*metrics.accuracy_score(predictions,Yte),2)}%\n",
    "    Balanced accuracy: {round(100*metrics.balanced_accuracy_score(predictions,Yte),2)}%\n",
    "    Matthew corcorref: {round(100*metrics.matthews_corrcoef(predictions,Yte),2)}%\n",
    "    ''')"
   ]
  },
  {
   "cell_type": "code",
   "execution_count": null,
   "id": "5ee63f17-2adf-48b6-9106-fb542ed641d6",
   "metadata": {},
   "outputs": [],
   "source": []
  },
  {
   "cell_type": "code",
   "execution_count": null,
   "id": "b697c8a2-32ea-4488-a4a5-d40c89115e8d",
   "metadata": {},
   "outputs": [],
   "source": []
  },
  {
   "cell_type": "code",
   "execution_count": null,
   "id": "3733572a-30eb-4080-bb3e-7201605149c8",
   "metadata": {},
   "outputs": [],
   "source": []
  },
  {
   "cell_type": "code",
   "execution_count": null,
   "id": "8f19289f-ce71-4aa8-8504-ac6564f69660",
   "metadata": {},
   "outputs": [],
   "source": []
  }
 ],
 "metadata": {
  "kernelspec": {
   "display_name": "Python 3 (ipykernel)",
   "language": "python",
   "name": "python3"
  },
  "language_info": {
   "codemirror_mode": {
    "name": "ipython",
    "version": 3
   },
   "file_extension": ".py",
   "mimetype": "text/x-python",
   "name": "python",
   "nbconvert_exporter": "python",
   "pygments_lexer": "ipython3",
   "version": "3.10.6"
  }
 },
 "nbformat": 4,
 "nbformat_minor": 5
}
