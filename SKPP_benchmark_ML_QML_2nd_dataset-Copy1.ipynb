{
 "cells": [
  {
   "cell_type": "markdown",
   "id": "d41d3fa6-0ae0-490d-a02b-0dbf81799488",
   "metadata": {},
   "source": [
    "# Quantum benchmark"
   ]
  },
  {
   "cell_type": "markdown",
   "id": "d6011e42-1fab-4f9f-ab99-f4f08607517e",
   "metadata": {},
   "source": [
    "## I - Introduction"
   ]
  },
  {
   "cell_type": "code",
   "execution_count": null,
   "id": "13b4f6b4-240b-4b7f-abe4-4e74b3b8cc8a",
   "metadata": {},
   "outputs": [],
   "source": []
  },
  {
   "cell_type": "markdown",
   "id": "bd5492ce-4f08-4755-b4c2-efd698139101",
   "metadata": {},
   "source": [
    "## II - Packages"
   ]
  },
  {
   "cell_type": "code",
   "execution_count": 1,
   "id": "90371200-0133-46ab-a205-d0f6b8858e55",
   "metadata": {},
   "outputs": [],
   "source": [
    "import pandas as pd\n",
    "import matplotlib.pyplot as plt\n",
    "import numpy as np\n",
    "from sklearn.model_selection import train_test_split\n",
    "from sklearn.preprocessing import StandardScaler\n",
    "from sklearn.decomposition import PCA\n",
    "from sklearn.discriminant_analysis import LinearDiscriminantAnalysis as LDA\n",
    "from sklearn.preprocessing import MinMaxScaler\n",
    "from sklearn.svm import SVC\n",
    "from sklearn import metrics\n",
    "from sklearn.ensemble import RandomForestClassifier\n",
    "from sklearn.linear_model import LogisticRegression\n",
    "from sklearn.tree import DecisionTreeClassifier\n",
    "from sklearn.preprocessing import normalize\n",
    "from sklearn.model_selection import cross_val_score, KFold\n",
    "#Import classical libraries\n",
    "from sklearn.neighbors import KNeighborsClassifier\n",
    "from sklearn.naive_bayes import GaussianNB\n",
    "from sklearn.svm import SVC\n",
    "from sklearn.ensemble import RandomForestClassifier\n",
    "from sklearn.model_selection import train_test_split\n",
    "from sklearn import datasets\n",
    "import matplotlib.pyplot as plt\n",
    "from skpp import ProjectionPursuitRegressor\n",
    "\n",
    "plt.style.use('ggplot')\n",
    "\n",
    "import functools\n",
    "\n",
    "from qiskit import BasicAer\n",
    "from qiskit.circuit.library import ZZFeatureMap\n",
    "from qiskit.utils import QuantumInstance, algorithm_globals\n",
    "from qiskit_machine_learning.algorithms import QSVC\n",
    "from qiskit_machine_learning.kernels import QuantumKernel\n",
    "from qiskit_machine_learning.datasets import ad_hoc_data\n",
    "import logging\n",
    "\n",
    "import pennylane as qml\n",
    "from pennylane.templates.embeddings import AngleEmbedding, AmplitudeEmbedding\n",
    "from pennylane.optimize import AdamOptimizer\n",
    "\n",
    "from qiskit.algorithms.optimizers import COBYLA\n",
    "from qiskit.circuit.library import TwoLocal, ZZFeatureMap\n",
    "import qiskit"
   ]
  },
  {
   "cell_type": "code",
   "execution_count": 2,
   "id": "c4552ad2-d5ac-4904-8e45-eafa355e4594",
   "metadata": {},
   "outputs": [],
   "source": [
    "import warnings\n",
    "warnings.filterwarnings('ignore')"
   ]
  },
  {
   "cell_type": "markdown",
   "id": "1598c94c-fdcf-41cd-a4ea-e262932c7e0f",
   "metadata": {},
   "source": [
    "## III - Data "
   ]
  },
  {
   "cell_type": "code",
   "execution_count": 3,
   "id": "e683f3b5-6021-4eb7-bc53-539a5cd79bfc",
   "metadata": {},
   "outputs": [],
   "source": [
    "# Read out CSV\n",
    "\n",
    "df = pd.read_csv('santander_transaction.csv', sep=',')\n",
    "df = df.sample(1000)"
   ]
  },
  {
   "cell_type": "code",
   "execution_count": 4,
   "id": "10255383-ae13-42c1-8d19-b5cf9eca4d17",
   "metadata": {},
   "outputs": [
    {
     "data": {
      "text/plain": [
       "(1000, 201)"
      ]
     },
     "execution_count": 4,
     "metadata": {},
     "output_type": "execute_result"
    }
   ],
   "source": [
    "df.shape"
   ]
  },
  {
   "cell_type": "code",
   "execution_count": 10,
   "id": "bf69c7f1-b10e-4b54-89ec-89dd5829ac42",
   "metadata": {},
   "outputs": [],
   "source": [
    "%%script false --no-raise-error\n",
    "\n",
    "import sweetviz as sv\n",
    "\n",
    "#EDA using Autoviz\n",
    "sweet_report = sv.analyze(df)\n",
    "\n",
    "#Saving results to HTML file\n",
    "sweet_report.show_html('sweet_report.html')"
   ]
  },
  {
   "cell_type": "markdown",
   "id": "c4ff48fa-d03b-435d-9343-67186c068b34",
   "metadata": {},
   "source": [
    "## IV - Modelisation"
   ]
  },
  {
   "cell_type": "markdown",
   "id": "3dbe1bb7-d7eb-412b-a291-bbeb654766f5",
   "metadata": {},
   "source": [
    "### Classical"
   ]
  },
  {
   "cell_type": "code",
   "execution_count": 5,
   "id": "d7f6037b-3b1c-4a2c-8a9e-df1d432cafa4",
   "metadata": {},
   "outputs": [],
   "source": [
    "df_labels = df['target']\n",
    "df.drop(['target'],axis = 1,inplace = True)"
   ]
  },
  {
   "cell_type": "code",
   "execution_count": 6,
   "id": "249ef3a0-7be3-4234-8be6-630db2cd267f",
   "metadata": {},
   "outputs": [],
   "source": [
    "X_train, X_test, y_train, y_test = train_test_split(df, df_labels, test_size=0.2, random_state=42)"
   ]
  },
  {
   "cell_type": "markdown",
   "id": "b1251e3e-c8ed-4e57-a790-1fa8003f8c31",
   "metadata": {},
   "source": [
    "## Quantum Approaches"
   ]
  },
  {
   "cell_type": "code",
   "execution_count": 13,
   "id": "12b4f425-f8b1-40b4-8c3f-4502a9a01a3c",
   "metadata": {},
   "outputs": [
    {
     "data": {
      "text/plain": [
       "array([0, 1])"
      ]
     },
     "execution_count": 13,
     "metadata": {},
     "output_type": "execute_result"
    }
   ],
   "source": [
    "np.unique(df_labels)"
   ]
  },
  {
   "cell_type": "code",
   "execution_count": 7,
   "id": "a948c1c2-cb55-49b2-bb4c-c2d2fdca527a",
   "metadata": {},
   "outputs": [],
   "source": [
    "skpp = ProjectionPursuitRegressor(r=2, fit_type='spline', opt_level='medium').fit(X_train, y_train)"
   ]
  },
  {
   "cell_type": "code",
   "execution_count": 8,
   "id": "b921a949-e3bd-45b6-b0e0-a84f96788811",
   "metadata": {},
   "outputs": [],
   "source": [
    "# SKPP validate transformation (using train fit)\n",
    "x_train_skpp = skpp.transform(X_train)\n",
    "x_test_skpp = skpp.transform(X_test)"
   ]
  },
  {
   "cell_type": "code",
   "execution_count": 9,
   "id": "38d2ce7a-6c7e-49d8-8bcc-fd22530bcf2b",
   "metadata": {},
   "outputs": [],
   "source": [
    "# Arrays to dataframe for join in a single df\n",
    "x_train_skpp = pd.DataFrame(x_train_skpp)\n",
    "x_test_skpp = pd.DataFrame(x_test_skpp)"
   ]
  },
  {
   "cell_type": "code",
   "execution_count": 10,
   "id": "bf9d1f27-ae3b-4bc2-90c7-40754d2728bc",
   "metadata": {},
   "outputs": [],
   "source": [
    "# Second standard scaler normalization (using train fit)\n",
    "std_scale = StandardScaler().fit(x_train_skpp)\n",
    "X_train_skpp_norm = std_scale.transform(x_train_skpp)\n",
    "x_test_skpp_norn = std_scale.transform(x_test_skpp)\n",
    "#x_validate_lda_n = std_scale.transform(x_validate_skpp)"
   ]
  },
  {
   "cell_type": "code",
   "execution_count": 11,
   "id": "8920e169-7d06-46a1-b30e-af7eee11539e",
   "metadata": {},
   "outputs": [
    {
     "data": {
      "text/plain": [
       "2"
      ]
     },
     "execution_count": 11,
     "metadata": {},
     "output_type": "execute_result"
    }
   ],
   "source": [
    "# Dimensions definition for QML\n",
    "n_dim = len(x_train_skpp.columns)\n",
    "n_dim"
   ]
  },
  {
   "cell_type": "code",
   "execution_count": 12,
   "id": "3141a967-8c2f-472e-a934-5ad8ac0d9237",
   "metadata": {},
   "outputs": [
    {
     "data": {
      "text/plain": [
       "[<matplotlib.lines.Line2D at 0x17b54ab60>,\n",
       " <matplotlib.lines.Line2D at 0x17b54ac50>]"
      ]
     },
     "execution_count": 12,
     "metadata": {},
     "output_type": "execute_result"
    },
    {
     "data": {
      "image/png": "[encoded data removed]",
      "text/plain": [
       "<Figure size 1000x800 with 1 Axes>"
      ]
     },
     "metadata": {},
     "output_type": "display_data"
    }
   ],
   "source": [
    "plt.figure(figsize=(10,8))\n",
    "plt.plot(x_train_skpp, '+')\n"
   ]
  },
  {
   "cell_type": "markdown",
   "id": "bd626d5c-ff6a-443a-9700-10a93c24dc74",
   "metadata": {},
   "source": [
    "## Split train test "
   ]
  },
  {
   "cell_type": "code",
   "execution_count": 23,
   "id": "afaf0912-bdbf-4460-ae4c-43016d1f5a57",
   "metadata": {},
   "outputs": [],
   "source": [
    "%%script false --no-raise-error\n",
    "\n",
    "# Split dataset into train and test\n",
    "\n",
    "sample_train, sample_test, label_train, label_test = train_test_split(\n",
    "     X_train_skpp_norm, y_train, test_size=0.2, random_state=22)\n",
    "\n",
    "# Normalize\n",
    "\n",
    "# Select a sample for a better control of the research and wall time\n",
    "\n",
    "train_size = 800#160\n",
    "sample_train = sample_train[:train_size]\n",
    "label_train = label_train[:train_size]\n",
    "\n",
    "test_size = 200 #40\n",
    "sample_test = sample_test[:test_size]\n",
    "label_test = label_test[:test_size]"
   ]
  },
  {
   "cell_type": "code",
   "execution_count": 13,
   "id": "38ad3835-ebee-4655-b4f8-013baeb6a795",
   "metadata": {},
   "outputs": [],
   "source": [
    "sample_train, label_train, sample_test, label_test = X_train_skpp_norm, y_train, x_test_skpp_norn, y_test"
   ]
  },
  {
   "cell_type": "code",
   "execution_count": 14,
   "id": "d815edbe-c5e7-42d6-9489-39ebb940cda4",
   "metadata": {},
   "outputs": [],
   "source": [
    "# Basic parameters for hybrid model\n",
    "\n",
    "seed = 8500\n",
    "feature_dim = n_dim\n",
    "num_reps = 2\n",
    "num_shots =256 \n"
   ]
  },
  {
   "cell_type": "markdown",
   "id": "a17bc9af-4a1c-453d-be99-d54b9e045628",
   "metadata": {},
   "source": [
    "## Hybrid"
   ]
  },
  {
   "cell_type": "code",
   "execution_count": 16,
   "id": "c2ce7078-9255-4913-b6aa-7f05a0e077c3",
   "metadata": {},
   "outputs": [],
   "source": [
    "# Define feature_map\n",
    "\n",
    "feature_map = ZZFeatureMap(feature_dimension=feature_dim, reps=num_reps)\n",
    "\n",
    "# Define the backend\n",
    "backend = QuantumInstance(\n",
    "    BasicAer.get_backend(\"qasm_simulator\"), shots=num_shots, seed_simulator=seed, seed_transpiler=seed\n",
    ")\n",
    "\n",
    "# Define the kernel\n",
    "\n",
    "kernel = QuantumKernel(feature_map=feature_map, quantum_instance=backend)\n",
    "\n",
    "# Model run\n",
    "svc = SVC(kernel=kernel.evaluate)\n",
    "#svc.fit(sample_train, label_train)\n",
    "#score = svc.score(sample_test, label_test)\n",
    "\n",
    "#print(f\"Callable kernel classification test score: {score}\")"
   ]
  },
  {
   "cell_type": "code",
   "execution_count": 27,
   "id": "b8fd86d8-bec9-42ac-8543-c69c973a7f01",
   "metadata": {},
   "outputs": [],
   "source": [
    "#result_predict = svc.predict(sample_test)"
   ]
  },
  {
   "cell_type": "code",
   "execution_count": 15,
   "id": "ee71fc2a-46dc-46d1-8f51-8e3df5723407",
   "metadata": {},
   "outputs": [],
   "source": [
    "#print(metrics.classification_report(label_test,result_predict))"
   ]
  },
  {
   "cell_type": "code",
   "execution_count": 17,
   "id": "f8cffebe-cf70-4328-8b69-5b0da24914df",
   "metadata": {},
   "outputs": [],
   "source": [
    "from sklearn.model_selection import cross_validate\n",
    "from tqdm import tqdm\n",
    "def evaluate_ml_model(_models, X, y, n_fold=10, metric='precision'):\n",
    "    ''' Function to evaluate a ML and QML model with a list of metrics\n",
    "    \n",
    "    \n",
    "    '''\n",
    "    results = pd.DataFrame()\n",
    "    kfold = KFold(n_splits=n_fold)\n",
    "    columns = []\n",
    "    for name, model in tqdm(_models):\n",
    "        # -------------------\n",
    "        # Variables initialization \n",
    "        _df = pd.DataFrame()\n",
    "        names = []\n",
    "        means = []\n",
    "        stds = []\n",
    "        \n",
    "        # -------------------\n",
    "        # k-fold Cross validation\n",
    "        cv_results = cross_validate(model, X, y, cv=kfold, scoring=metric)\n",
    "        \n",
    "        # -------------------\n",
    "        # Compute the mean and standard deviation \n",
    "        for _name, _array in cv_results.items():\n",
    "            names.append(_name)\n",
    "            means.append(round(100*_array.mean(), 2))\n",
    "            stds.append(round(100*_array.std(), 2))\n",
    "        # -------------------\n",
    "        # Save the results in a dataframe \n",
    "        _df =  pd.DataFrame([means, stds], columns=names)\n",
    "        columns.extend([name+' mean (%)', name+' std (%)'])\n",
    "        #results = results.join(_df, on=_df.index)\n",
    "        results = results.append(_df)\n",
    "    results.index = columns\n",
    "    print(results)\n",
    "    return results"
   ]
  },
  {
   "cell_type": "code",
   "execution_count": 38,
   "id": "cdf4a1b8-99c3-4674-9ee9-f4f8177d11f8",
   "metadata": {},
   "outputs": [],
   "source": [
    "models = []\n",
    "models.append(('LR', LogisticRegression(max_iter=1000, random_state=42)))\n",
    "models.append(('KNN', KNeighborsClassifier(n_neighbors=7)))\n",
    "models.append(('CART', DecisionTreeClassifier(random_state=42)))\n",
    "models.append(('NB', GaussianNB()))\n",
    "models.append(('SVM', SVC(random_state=42)))\n",
    "models.append(('QSVC', svc))\n",
    "\n",
    "_metrics = ['precision', 'recall', 'f1', 'accuracy',  'matthews_corrcoef','balanced_accuracy']\n"
   ]
  },
  {
   "cell_type": "code",
   "execution_count": 39,
   "id": "ed9d682b-6c17-452f-9625-adbf9abd8215",
   "metadata": {},
   "outputs": [
    {
     "name": "stderr",
     "output_type": "stream",
     "text": [
      "100%|███████████████████████████████████████████| 1/1 [58:41<00:00, 3521.39s/it]"
     ]
    },
    {
     "name": "stdout",
     "output_type": "stream",
     "text": [
      "               fit_time  score_time  test_precision  test_recall  test_f1  \\\n",
      "QSVC mean (%)  29166.03     6047.68           62.96        66.30    63.87   \n",
      "QSVC std (%)    1205.86      740.83           12.97         6.73     8.41   \n",
      "\n",
      "               test_accuracy  test_matthews_corrcoef  test_balanced_accuracy  \n",
      "QSVC mean (%)          61.62                   24.24                   62.20  \n",
      "QSVC std (%)            7.77                   14.15                    7.22  \n"
     ]
    },
    {
     "name": "stderr",
     "output_type": "stream",
     "text": [
      "\n"
     ]
    },
    {
     "data": {
      "text/html": [
       "<div>\n",
       "<style scoped>\n",
       "    .dataframe tbody tr th:only-of-type {\n",
       "        vertical-align: middle;\n",
       "    }\n",
       "\n",
       "    .dataframe tbody tr th {\n",
       "        vertical-align: top;\n",
       "    }\n",
       "\n",
       "    .dataframe thead th {\n",
       "        text-align: right;\n",
       "    }\n",
       "</style>\n",
       "<table border=\"1\" class=\"dataframe\">\n",
       "  <thead>\n",
       "    <tr style=\"text-align: right;\">\n",
       "      <th></th>\n",
       "      <th>fit_time</th>\n",
       "      <th>score_time</th>\n",
       "      <th>test_precision</th>\n",
       "      <th>test_recall</th>\n",
       "      <th>test_f1</th>\n",
       "      <th>test_accuracy</th>\n",
       "      <th>test_matthews_corrcoef</th>\n",
       "      <th>test_balanced_accuracy</th>\n",
       "    </tr>\n",
       "  </thead>\n",
       "  <tbody>\n",
       "    <tr>\n",
       "      <th>QSVC mean (%)</th>\n",
       "      <td>29166.03</td>\n",
       "      <td>6047.68</td>\n",
       "      <td>62.96</td>\n",
       "      <td>66.30</td>\n",
       "      <td>63.87</td>\n",
       "      <td>61.62</td>\n",
       "      <td>24.24</td>\n",
       "      <td>62.20</td>\n",
       "    </tr>\n",
       "    <tr>\n",
       "      <th>QSVC std (%)</th>\n",
       "      <td>1205.86</td>\n",
       "      <td>740.83</td>\n",
       "      <td>12.97</td>\n",
       "      <td>6.73</td>\n",
       "      <td>8.41</td>\n",
       "      <td>7.77</td>\n",
       "      <td>14.15</td>\n",
       "      <td>7.22</td>\n",
       "    </tr>\n",
       "  </tbody>\n",
       "</table>\n",
       "</div>"
      ],
      "text/plain": [
       "               fit_time  score_time  test_precision  test_recall  test_f1  \\\n",
       "QSVC mean (%)  29166.03     6047.68           62.96        66.30    63.87   \n",
       "QSVC std (%)    1205.86      740.83           12.97         6.73     8.41   \n",
       "\n",
       "               test_accuracy  test_matthews_corrcoef  test_balanced_accuracy  \n",
       "QSVC mean (%)          61.62                   24.24                   62.20  \n",
       "QSVC std (%)            7.77                   14.15                    7.22  "
      ]
     },
     "execution_count": 39,
     "metadata": {},
     "output_type": "execute_result"
    }
   ],
   "source": [
    "df_results = pd.DataFrame()\n",
    "df_results = evaluate_ml_model(models, sample_train, label_train, n_fold=10, metric=_metrics)\n",
    "df_results "
   ]
  },
  {
   "cell_type": "code",
   "execution_count": 40,
   "id": "8561d92d-f3ee-4045-b6e5-98097a82f364",
   "metadata": {},
   "outputs": [
    {
     "name": "stdout",
     "output_type": "stream",
     "text": [
      "QSVC & 62.96 (12.97) & 66.3 (6.73) &  63.87 (8.41) & 24.24 (14.15) & 62.2 (7.22) \\\n"
     ]
    }
   ],
   "source": [
    "j = 0\n",
    "for i in range(int(len(df_results.index)/2)):\n",
    "\n",
    "    print(f'{df_results.iloc[j].name.split()[0]} & {df_results.iloc[j][2]} ({df_results.iloc[j+1][2]}) & {df_results.iloc[j][3]} ({df_results.iloc[j+1][3]}) &  {df_results.iloc[j][4]} ({df_results.iloc[j+1][4]}) & {df_results.iloc[j][6]} ({df_results.iloc[j+1][6]}) & {df_results.iloc[j][7]} ({df_results.iloc[j+1][7]}) \\\\')\n",
    "    \n",
    "    j+=2"
   ]
  },
  {
   "cell_type": "markdown",
   "id": "3b70b837-4e39-4b65-83ca-8e82fc83efa1",
   "metadata": {},
   "source": [
    "## Pennylane"
   ]
  },
  {
   "cell_type": "code",
   "execution_count": 21,
   "id": "ff1d5656-f2f2-4d96-b210-a75a161cdb39",
   "metadata": {},
   "outputs": [],
   "source": [
    "from pennylane import numpy as np"
   ]
  },
  {
   "cell_type": "code",
   "execution_count": 22,
   "id": "07ec49f5-c401-4c36-aae3-57aad3eaa0ba",
   "metadata": {},
   "outputs": [],
   "source": [
    "# Angle Encoding\n",
    "\n",
    "num_qubits = n_dim\n",
    "\n",
    "dev = qml.device('default.qubit', wires = num_qubits)\n",
    "\n",
    "@qml.qnode(dev)\n",
    "def circuit(parameters, data):\n",
    "    for i in range(num_qubits):\n",
    "        qml.Hadamard(wires = i)\n",
    "    \n",
    "    AngleEmbedding(features = data, wires = range(num_qubits), rotation = 'Y')\n",
    "    \n",
    "    qml.StronglyEntanglingLayers(weights = parameters, wires = range(num_qubits))\n",
    "    \n",
    "    return qml.expval(qml.PauliZ(0))"
   ]
  },
  {
   "cell_type": "code",
   "execution_count": 23,
   "id": "ffcf8fdb-37a0-4b64-b73c-76be553995e8",
   "metadata": {},
   "outputs": [],
   "source": [
    "num_layers = 5\n",
    "weights_init = 0.01 * np.random.randn(num_layers, num_qubits, 3, requires_grad=True)\n",
    "bias_init = np.array(0.0, requires_grad=True)\n",
    "\n",
    "#print(weights_init, bias_init)"
   ]
  },
  {
   "cell_type": "code",
   "execution_count": 24,
   "id": "49568595-37ec-4749-a230-dc4c6dae2500",
   "metadata": {},
   "outputs": [
    {
     "data": {
      "text/plain": [
       "tensor(-0.00666193, requires_grad=True)"
      ]
     },
     "execution_count": 24,
     "metadata": {},
     "output_type": "execute_result"
    }
   ],
   "source": [
    "circuit(weights_init, sample_train[0])"
   ]
  },
  {
   "cell_type": "code",
   "execution_count": 25,
   "id": "4febb380-0955-4f05-a872-326cc4e3a27c",
   "metadata": {},
   "outputs": [],
   "source": [
    "def variational_classifier(weights, bias, x):\n",
    "    return circuit(weights, x) + bias"
   ]
  },
  {
   "cell_type": "code",
   "execution_count": 26,
   "id": "c16a1f84-63e5-4fbb-a647-cba6db4c6c4c",
   "metadata": {},
   "outputs": [],
   "source": [
    "def square_loss(labels, predictions):\n",
    "    loss = 0\n",
    "    for l, p in zip(labels, predictions):\n",
    "        loss = loss + (l - p) ** 2\n",
    "\n",
    "    loss = loss / len(labels)\n",
    "    return loss"
   ]
  },
  {
   "cell_type": "code",
   "execution_count": 27,
   "id": "07412a53-c93b-4c73-bd0b-e7e144454435",
   "metadata": {},
   "outputs": [],
   "source": [
    "def accuracy(labels, predictions):\n",
    "\n",
    "    loss = 0\n",
    "    for l, p in zip(labels, predictions):\n",
    "        if abs(l - p) < 1e-5:\n",
    "            loss = loss + 1\n",
    "    loss = loss / len(labels)\n",
    "\n",
    "    return loss"
   ]
  },
  {
   "cell_type": "code",
   "execution_count": 28,
   "id": "1bf0b58e-38f3-4c45-a4d2-3d69af787ba3",
   "metadata": {},
   "outputs": [],
   "source": [
    "def cost(weights, bias, X, Y):\n",
    "    predictions = [variational_classifier(weights, bias, x) for x in X]\n",
    "    return square_loss(Y, predictions)"
   ]
  },
  {
   "cell_type": "code",
   "execution_count": 29,
   "id": "7543fccb-ef55-49cb-8508-5ae8fdfcbc58",
   "metadata": {},
   "outputs": [
    {
     "data": {
      "text/plain": [
       "1.0    105\n",
       "0.0     95\n",
       "Name: target, dtype: int64"
      ]
     },
     "execution_count": 29,
     "metadata": {},
     "output_type": "execute_result"
    }
   ],
   "source": [
    "pd.Series(label_test).value_counts()"
   ]
  },
  {
   "cell_type": "code",
   "execution_count": 30,
   "id": "21ff4aa6-c15b-4a59-a718-67d8da2402dd",
   "metadata": {},
   "outputs": [
    {
     "name": "stdout",
     "output_type": "stream",
     "text": [
      "X = [tensor(0.01433546, requires_grad=True), tensor(-0.01934006, requires_grad=True)], Y = -1\n",
      "X = [tensor(0.0948825, requires_grad=True), tensor(-0.20105589, requires_grad=True)], Y = -1\n",
      "X = [tensor(1.31103768, requires_grad=True), tensor(-0.64957521, requires_grad=True)], Y =  1\n",
      "X = [tensor(-0.85007218, requires_grad=True), tensor(-0.48398223, requires_grad=True)], Y = -1\n",
      "X = [tensor(-0.74376708, requires_grad=True), tensor(0.08335349, requires_grad=True)], Y = -1\n"
     ]
    }
   ],
   "source": [
    "Y = np.array(label_train * 2 - np.ones(len(label_train)),requires_grad=True)  # shift label from {0, 1} to {-1, 1}\n",
    "X = np.array(sample_train, requires_grad=True)\n",
    "\n",
    "for i in range(5):\n",
    "    print(\"X = {}, Y = {: d}\".format(list(X[i]), int(Y[i])))"
   ]
  },
  {
   "cell_type": "code",
   "execution_count": 31,
   "id": "074f578a-1984-4814-9070-7b20063c8bd1",
   "metadata": {},
   "outputs": [],
   "source": [
    "opt = AdamOptimizer(stepsize=0.1, beta1=0.9, beta2=0.99, eps=1e-08)\n",
    "batch_size = 10"
   ]
  },
  {
   "cell_type": "code",
   "execution_count": null,
   "id": "a78e0005-464d-46c0-86f4-946291d7586c",
   "metadata": {},
   "outputs": [],
   "source": []
  },
  {
   "cell_type": "code",
   "execution_count": 32,
   "id": "2d31d6a7-74f4-4e63-b1cb-b92bfb610a5a",
   "metadata": {
    "tags": []
   },
   "outputs": [
    {
     "name": "stdout",
     "output_type": "stream",
     "text": [
      "New best\n",
      "Iter:     1 | Cost: 1.1117618 | f1: 0.4283604 \n",
      "New best\n",
      "Iter:     2 | Cost: 1.0075989 | f1: 0.4507513 \n",
      "Iter:     3 | Cost: 1.0866756 | f1: 0.3518164 \n",
      "Iter:     4 | Cost: 0.9329551 | f1: 0.4496403 \n",
      "New best\n",
      "Iter:     5 | Cost: 0.7349684 | f1: 0.6352584 \n",
      "New best\n",
      "Iter:     6 | Cost: 0.6834494 | f1: 0.7784291 \n",
      "Iter:     7 | Cost: 0.6637075 | f1: 0.7659091 \n",
      "New best\n",
      "Iter:     8 | Cost: 0.6282124 | f1: 0.7812142 \n",
      "New best\n",
      "Iter:     9 | Cost: 0.5882258 | f1: 0.8082192 \n",
      "New best\n",
      "Iter:    10 | Cost: 0.5349284 | f1: 0.8888889 \n",
      "New best\n",
      "Iter:    11 | Cost: 0.5055548 | f1: 0.8997613 \n",
      "Iter:    12 | Cost: 0.5311958 | f1: 0.8482490 \n",
      "Iter:    13 | Cost: 0.5900168 | f1: 0.7615283 \n",
      "Iter:    14 | Cost: 0.5848280 | f1: 0.7610619 \n",
      "Iter:    15 | Cost: 0.5586770 | f1: 0.7837838 \n",
      "Iter:    16 | Cost: 0.5282831 | f1: 0.8206331 \n",
      "Iter:    17 | Cost: 0.5091342 | f1: 0.8513514 \n",
      "Iter:    18 | Cost: 0.5101376 | f1: 0.8555917 \n",
      "Iter:    19 | Cost: 0.4892950 | f1: 0.8778878 \n",
      "New best\n",
      "Iter:    20 | Cost: 0.4682870 | f1: 0.9019166 \n",
      "New best\n",
      "Iter:    21 | Cost: 0.4712739 | f1: 0.9126892 \n",
      "Iter:    22 | Cost: 0.4742766 | f1: 0.8968059 \n",
      "Iter:    23 | Cost: 0.4790665 | f1: 0.8522427 \n",
      "Iter:    24 | Cost: 0.4934685 | f1: 0.7988827 \n",
      "Iter:    25 | Cost: 0.4958576 | f1: 0.7864215 \n",
      "Iter:    26 | Cost: 0.4632187 | f1: 0.8510638 \n",
      "Iter:    27 | Cost: 0.4388392 | f1: 0.8985149 \n",
      "Iter:    28 | Cost: 0.4508431 | f1: 0.8948598 \n",
      "Iter:    29 | Cost: 0.4614851 | f1: 0.8845714 \n",
      "Iter:    30 | Cost: 0.4580477 | f1: 0.8888889 \n",
      "Iter:    31 | Cost: 0.4575151 | f1: 0.8906789 \n",
      "Iter:    32 | Cost: 0.4602799 | f1: 0.8878719 \n",
      "Iter:    33 | Cost: 0.4749568 | f1: 0.8721973 \n",
      "Iter:    34 | Cost: 0.4865267 | f1: 0.8637363 \n",
      "Iter:    35 | Cost: 0.4910613 | f1: 0.8593239 \n",
      "Iter:    36 | Cost: 0.5040470 | f1: 0.8543897 \n",
      "Iter:    37 | Cost: 0.4885216 | f1: 0.8636364 \n",
      "Iter:    38 | Cost: 0.4807511 | f1: 0.8673913 \n",
      "Iter:    39 | Cost: 0.4627384 | f1: 0.8785872 \n",
      "Iter:    40 | Cost: 0.4457687 | f1: 0.8903803 \n",
      "Iter:    41 | Cost: 0.4348410 | f1: 0.9022727 \n",
      "Iter:    42 | Cost: 0.4132871 | f1: 0.9125296 \n",
      "Iter:    43 | Cost: 0.4108155 | f1: 0.9121951 \n",
      "Iter:    44 | Cost: 0.4140907 | f1: 0.9057072 \n",
      "Iter:    45 | Cost: 0.4185424 | f1: 0.9041096 \n",
      "Iter:    46 | Cost: 0.4200489 | f1: 0.9124538 \n",
      "New best\n",
      "Iter:    47 | Cost: 0.4391210 | f1: 0.9160839 \n",
      "Iter:    48 | Cost: 0.4752841 | f1: 0.8837209 \n",
      "Iter:    49 | Cost: 0.4967138 | f1: 0.8614668 \n",
      "Iter:    50 | Cost: 0.5203986 | f1: 0.8430699 \n",
      "Iter:    51 | Cost: 0.5168666 | f1: 0.8543046 \n",
      "Iter:    52 | Cost: 0.5000607 | f1: 0.8618421 \n",
      "Iter:    53 | Cost: 0.4496149 | f1: 0.8841395 \n",
      "Iter:    54 | Cost: 0.4289276 | f1: 0.8938156 \n",
      "Iter:    55 | Cost: 0.4284136 | f1: 0.8959064 \n",
      "Iter:    56 | Cost: 0.4268391 | f1: 0.8974359 \n",
      "Iter:    57 | Cost: 0.4245082 | f1: 0.9003517 \n",
      "Iter:    58 | Cost: 0.4178956 | f1: 0.8950543 \n",
      "Iter:    59 | Cost: 0.4194023 | f1: 0.8925000 \n",
      "Iter:    60 | Cost: 0.4133454 | f1: 0.8935644 \n",
      "Iter:    61 | Cost: 0.4154089 | f1: 0.8883312 \n",
      "Iter:    62 | Cost: 0.4123913 | f1: 0.8938826 \n",
      "Iter:    63 | Cost: 0.4095855 | f1: 0.8996283 \n",
      "Iter:    64 | Cost: 0.4064171 | f1: 0.9086480 \n",
      "Iter:    65 | Cost: 0.4061131 | f1: 0.9088729 \n",
      "Iter:    66 | Cost: 0.4062107 | f1: 0.9106079 \n",
      "Iter:    67 | Cost: 0.4049359 | f1: 0.9115152 \n",
      "Iter:    68 | Cost: 0.4051652 | f1: 0.9137303 \n",
      "Iter:    69 | Cost: 0.4057305 | f1: 0.9124088 \n",
      "Iter:    70 | Cost: 0.4132999 | f1: 0.8986233 \n",
      "Iter:    71 | Cost: 0.4279992 | f1: 0.8772379 \n",
      "Iter:    72 | Cost: 0.4678065 | f1: 0.8276798 \n",
      "Iter:    73 | Cost: 0.5035024 | f1: 0.8033473 \n",
      "Iter:    74 | Cost: 0.5076220 | f1: 0.8027778 \n",
      "Iter:    75 | Cost: 0.4823487 | f1: 0.8279570 \n",
      "Iter:    76 | Cost: 0.4377327 | f1: 0.8670077 \n",
      "Iter:    77 | Cost: 0.4267686 | f1: 0.8982036 \n",
      "Iter:    78 | Cost: 0.4425545 | f1: 0.8896552 \n",
      "Iter:    79 | Cost: 0.4844674 | f1: 0.8608981 \n",
      "Iter:    80 | Cost: 0.5081187 | f1: 0.8413206 \n",
      "Iter:    81 | Cost: 0.4666791 | f1: 0.8672566 \n",
      "Iter:    82 | Cost: 0.4314031 | f1: 0.8981481 \n",
      "Iter:    83 | Cost: 0.4157724 | f1: 0.9036145 \n",
      "Iter:    84 | Cost: 0.4190041 | f1: 0.8897243 \n",
      "Iter:    85 | Cost: 0.4466511 | f1: 0.8541393 \n",
      "Iter:    86 | Cost: 0.4942632 | f1: 0.8149171 \n",
      "Iter:    87 | Cost: 0.5090755 | f1: 0.7966339 \n",
      "Iter:    88 | Cost: 0.4992390 | f1: 0.8066759 \n",
      "Iter:    89 | Cost: 0.4641320 | f1: 0.8664921 \n",
      "Iter:    90 | Cost: 0.4399508 | f1: 0.9052369 \n",
      "Iter:    91 | Cost: 0.4455664 | f1: 0.9145497 \n",
      "Iter:    92 | Cost: 0.5074984 | f1: 0.8635875 \n",
      "Iter:    93 | Cost: 0.5448461 | f1: 0.8366285 \n",
      "Iter:    94 | Cost: 0.5735950 | f1: 0.8212462 \n",
      "Iter:    95 | Cost: 0.5876502 | f1: 0.8096677 \n",
      "Iter:    96 | Cost: 0.6205963 | f1: 0.7960396 \n",
      "Iter:    97 | Cost: 0.6293173 | f1: 0.7928642 \n",
      "Iter:    98 | Cost: 0.5757393 | f1: 0.8093306 \n",
      "Iter:    99 | Cost: 0.5023249 | f1: 0.8407367 \n",
      "Iter:   100 | Cost: 0.4557607 | f1: 0.8660287 \n",
      "Iter:   101 | Cost: 0.4584508 | f1: 0.8505155 \n",
      "Iter:   102 | Cost: 0.4967717 | f1: 0.8086839 \n",
      "Iter:   103 | Cost: 0.5340682 | f1: 0.7899861 \n",
      "Iter:   104 | Cost: 0.5118247 | f1: 0.8060109 \n",
      "Iter:   105 | Cost: 0.4783090 | f1: 0.8674389 \n",
      "Iter:   106 | Cost: 0.4731419 | f1: 0.9054842 \n",
      "Iter:   107 | Cost: 0.5158229 | f1: 0.8556150 \n",
      "Iter:   108 | Cost: 0.5779700 | f1: 0.8137652 \n",
      "Iter:   109 | Cost: 0.5421768 | f1: 0.8340249 \n",
      "Iter:   110 | Cost: 0.4744614 | f1: 0.8859358 \n",
      "New best\n",
      "Iter:   111 | Cost: 0.4442049 | f1: 0.9192982 \n",
      "Iter:   112 | Cost: 0.4476445 | f1: 0.9170732 \n",
      "Iter:   113 | Cost: 0.4598932 | f1: 0.8967254 \n",
      "Iter:   114 | Cost: 0.4799106 | f1: 0.8545216 \n",
      "Iter:   115 | Cost: 0.4816600 | f1: 0.8397351 \n",
      "Iter:   116 | Cost: 0.4721033 | f1: 0.8412698 \n",
      "Iter:   117 | Cost: 0.4520713 | f1: 0.8692308 \n",
      "Iter:   118 | Cost: 0.4338659 | f1: 0.8872180 \n",
      "Iter:   119 | Cost: 0.4298992 | f1: 0.8883312 \n",
      "Iter:   120 | Cost: 0.4218842 | f1: 0.8993789 \n",
      "Iter:   121 | Cost: 0.4164698 | f1: 0.9099757 \n",
      "Iter:   122 | Cost: 0.4177359 | f1: 0.9075426 \n",
      "Iter:   123 | Cost: 0.4194221 | f1: 0.9025271 \n",
      "Iter:   124 | Cost: 0.4246071 | f1: 0.9054374 \n",
      "Iter:   125 | Cost: 0.4322014 | f1: 0.8935185 \n",
      "Iter:   126 | Cost: 0.4473110 | f1: 0.8878822 \n",
      "Iter:   127 | Cost: 0.4584490 | f1: 0.8807135 \n",
      "Iter:   128 | Cost: 0.4511283 | f1: 0.8863892 \n",
      "Iter:   129 | Cost: 0.4266888 | f1: 0.9010477 \n",
      "Iter:   130 | Cost: 0.4153732 | f1: 0.9075630 \n",
      "Iter:   131 | Cost: 0.4140426 | f1: 0.9028290 \n",
      "Iter:   132 | Cost: 0.4212053 | f1: 0.8880503 \n",
      "Iter:   133 | Cost: 0.4349007 | f1: 0.8700129 \n",
      "Iter:   134 | Cost: 0.4202024 | f1: 0.8894472 \n",
      "Iter:   135 | Cost: 0.4111377 | f1: 0.9068627 \n",
      "Iter:   136 | Cost: 0.4104946 | f1: 0.9069212 \n",
      "Iter:   137 | Cost: 0.4087825 | f1: 0.9088729 \n",
      "Iter:   138 | Cost: 0.4069843 | f1: 0.9141475 \n",
      "Iter:   139 | Cost: 0.4082958 | f1: 0.9102091 \n",
      "Iter:   140 | Cost: 0.4194739 | f1: 0.8902900 \n",
      "Iter:   141 | Cost: 0.4481104 | f1: 0.8496042 \n",
      "Iter:   142 | Cost: 0.4937604 | f1: 0.8115543 \n",
      "Iter:   143 | Cost: 0.5130089 | f1: 0.8050139 \n",
      "Iter:   144 | Cost: 0.5069353 | f1: 0.8060942 \n",
      "Iter:   145 | Cost: 0.4688122 | f1: 0.8364611 \n",
      "Iter:   146 | Cost: 0.4399119 | f1: 0.8969849 \n",
      "Iter:   147 | Cost: 0.4495261 | f1: 0.8989298 \n",
      "Iter:   148 | Cost: 0.4870907 | f1: 0.8623436 \n",
      "Iter:   149 | Cost: 0.5149338 | f1: 0.8485523 \n",
      "Iter:   150 | Cost: 0.5147104 | f1: 0.8527473 \n"
     ]
    }
   ],
   "source": [
    "weights = weights_init\n",
    "bias = bias_init\n",
    "\n",
    "wbest = 0\n",
    "bbest = 0\n",
    "abest = 0\n",
    "ccost = 0 \n",
    "for it in range(150):\n",
    "\n",
    "    # weights update by one optimizer step\n",
    "\n",
    "    batch_index = np.random.randint(0, len(X), (batch_size,))\n",
    "    X_batch = X[batch_index]\n",
    "    Y_batch = Y[batch_index]\n",
    "    weights, bias, _, _ = opt.step(cost, weights, bias, X_batch, Y_batch)\n",
    "\n",
    "    # Compute the accuracy\n",
    "    predictions = [np.sign(variational_classifier(weights, bias, x)) for x in X]\n",
    "    \n",
    "    '''if accuracy(Y, predictions) > abest:\n",
    "        wbest = weights\n",
    "        bbest = bias\n",
    "        abest = accuracy(Y, predictions)\n",
    "        print('New best')\n",
    "\n",
    "    acc = accuracy(Y, predictions)\n",
    "\n",
    "    print(\n",
    "        \"Iter: {:5d} | Cost: {:0.7f} | Accuracy: {:0.7f} \".format(\n",
    "            it + 1, cost(weights, bias, X, Y), acc\n",
    "        )\n",
    "    )'''\n",
    "    prec = metrics.f1_score(Y, predictions, average='binary', pos_label=1)\n",
    "    if  prec > abest or ((prec == abest) and (cost(weights, bias, X, Y) < ccost)):\n",
    "        wbest = weights\n",
    "        bbest = bias\n",
    "        abest = prec\n",
    "        ccost = cost(weights, bias, X, Y)\n",
    "        print('New best')\n",
    "    #prec = metrics.precision_score(Y, predictions, average='binary')\n",
    "    print(\n",
    "        \"Iter: {:5d} | Cost: {:0.7f} | f1: {:0.7f} \".format(\n",
    "            it + 1, cost(weights, bias, X, Y), prec\n",
    "        )\n",
    "    )\n",
    "    \n",
    "    "
   ]
  },
  {
   "cell_type": "code",
   "execution_count": 33,
   "id": "ee2dceeb-5b76-4ec7-9ebb-efb9e562cf8a",
   "metadata": {},
   "outputs": [],
   "source": [
    "Yte = np.array(label_test * 2 - np.ones(len(label_test)))\n",
    "Xte = np.array(normalize(sample_test))"
   ]
  },
  {
   "cell_type": "code",
   "execution_count": 34,
   "id": "03ecd991-b560-4868-9e42-1dcfe09d58ac",
   "metadata": {},
   "outputs": [
    {
     "data": {
      "text/plain": [
       " 1.0    105\n",
       "-1.0     95\n",
       "dtype: int64"
      ]
     },
     "execution_count": 34,
     "metadata": {},
     "output_type": "execute_result"
    }
   ],
   "source": [
    "pd.Series(Yte).value_counts()"
   ]
  },
  {
   "cell_type": "code",
   "execution_count": 35,
   "id": "4416ed73-4c7d-44e3-a539-9dba3191327d",
   "metadata": {},
   "outputs": [
    {
     "name": "stdout",
     "output_type": "stream",
     "text": [
      "Cost: 0.8867982401248026, Accuracy: 66.0%\n"
     ]
    }
   ],
   "source": [
    "predictions = [np.sign(variational_classifier(wbest, bbest, x)) for x in Xte]\n",
    "pred = [np.sign(variational_classifier(wbest, bbest, x)) for x in X]\n",
    "acc = accuracy(Yte, predictions)\n",
    "\n",
    "print(f'Cost: {cost(wbest, bbest, Xte, Yte)}, Accuracy: {np.round(acc, 2) * 100}%')"
   ]
  },
  {
   "cell_type": "code",
   "execution_count": 36,
   "id": "8c50c097-603d-439b-84a9-cd649bcbeaa1",
   "metadata": {},
   "outputs": [
    {
     "name": "stdout",
     "output_type": "stream",
     "text": [
      "              precision    recall  f1-score   support\n",
      "\n",
      "        -1.0       0.64      0.61      0.63        95\n",
      "         1.0       0.66      0.70      0.68       105\n",
      "\n",
      "    accuracy                           0.66       200\n",
      "   macro avg       0.65      0.65      0.65       200\n",
      "weighted avg       0.65      0.66      0.65       200\n",
      "\n"
     ]
    }
   ],
   "source": [
    "print(metrics.classification_report(Yte,predictions))"
   ]
  },
  {
   "cell_type": "code",
   "execution_count": 37,
   "id": "dcedeada-a82f-4e82-b738-6a862dc801c8",
   "metadata": {},
   "outputs": [
    {
     "name": "stdout",
     "output_type": "stream",
     "text": [
      "\n",
      "\n",
      "    Precision: 69.52%\n",
      "    Recall: 66.36%\n",
      "    f1: 67.91%\n",
      "    Accuracy: 65.5%\n",
      "    Matthew corcorref: 30.69%\n",
      "    Balanced accuracy: 65.4%\n",
      "    \n"
     ]
    }
   ],
   "source": [
    "print(f'''\n",
    "\n",
    "    Precision: {round(100*metrics.precision_score(predictions,Yte),2)}%\n",
    "    Recall: {round(100*metrics.recall_score(predictions,Yte),2)}%\n",
    "    f1: {round(100*metrics.f1_score(predictions,Yte),2)}%\n",
    "    Accuracy: {round(100*metrics.accuracy_score(predictions,Yte),2)}%\n",
    "    Matthew corcorref: {round(100*metrics.matthews_corrcoef(predictions,Yte),2)}%\n",
    "    Balanced accuracy: {round(100*metrics.balanced_accuracy_score(predictions,Yte),2)}%\n",
    "    ''')"
   ]
  },
  {
   "cell_type": "code",
   "execution_count": null,
   "id": "77acf9e4-6362-4daa-829c-a5c70138be5c",
   "metadata": {
    "tags": []
   },
   "outputs": [
    {
     "name": "stdout",
     "output_type": "stream",
     "text": [
      "New best\n",
      "Iter:     1 | Cost: 1.1388050 | Accuracy: 0.4800000 \n",
      "New best\n",
      "Iter:     2 | Cost: 1.0274811 | Accuracy: 0.5637500 \n",
      "New best\n",
      "Iter:     3 | Cost: 0.8905291 | Accuracy: 0.6575000 \n",
      "New best\n",
      "Iter:     4 | Cost: 0.7579426 | Accuracy: 0.7612500 \n",
      "New best\n",
      "Iter:     5 | Cost: 0.6521451 | Accuracy: 0.8512500 \n",
      "Iter:     6 | Cost: 0.6235211 | Accuracy: 0.8075000 \n",
      "Iter:     7 | Cost: 0.6576260 | Accuracy: 0.7550000 \n",
      "Iter:     8 | Cost: 0.6438223 | Accuracy: 0.7712500 \n",
      "Iter:     9 | Cost: 0.6215416 | Accuracy: 0.7787500 \n",
      "Iter:    10 | Cost: 0.5751959 | Accuracy: 0.7900000 \n",
      "Iter:    11 | Cost: 0.5487399 | Accuracy: 0.8062500 \n",
      "Iter:    12 | Cost: 0.5385611 | Accuracy: 0.8087500 \n",
      "Iter:    13 | Cost: 0.5272715 | Accuracy: 0.8125000 \n",
      "Iter:    14 | Cost: 0.5199479 | Accuracy: 0.8125000 \n",
      "Iter:    15 | Cost: 0.5239588 | Accuracy: 0.8212500 \n",
      "Iter:    16 | Cost: 0.5270090 | Accuracy: 0.8162500 \n",
      "Iter:    17 | Cost: 0.5128352 | Accuracy: 0.8212500 \n",
      "New best\n",
      "Iter:    18 | Cost: 0.4497494 | Accuracy: 0.8712500 \n",
      "New best\n",
      "Iter:    19 | Cost: 0.4353493 | Accuracy: 0.8937500 \n",
      "Iter:    20 | Cost: 0.4661752 | Accuracy: 0.8637500 \n",
      "Iter:    21 | Cost: 0.4756908 | Accuracy: 0.8600000 \n",
      "Iter:    22 | Cost: 0.4744578 | Accuracy: 0.8575000 \n",
      "New best\n",
      "Iter:    23 | Cost: 0.4511598 | Accuracy: 0.8950000 \n",
      "Iter:    24 | Cost: 0.4598457 | Accuracy: 0.8875000 \n",
      "Iter:    25 | Cost: 0.5116392 | Accuracy: 0.8162500 \n",
      "Iter:    26 | Cost: 0.5397934 | Accuracy: 0.7900000 \n",
      "Iter:    27 | Cost: 0.5468081 | Accuracy: 0.7762500 \n",
      "Iter:    28 | Cost: 0.5314013 | Accuracy: 0.7950000 \n",
      "Iter:    29 | Cost: 0.5142208 | Accuracy: 0.8112500 \n",
      "Iter:    30 | Cost: 0.4851916 | Accuracy: 0.8500000 \n",
      "Iter:    31 | Cost: 0.4625550 | Accuracy: 0.8900000 \n",
      "New best\n",
      "Iter:    32 | Cost: 0.4419241 | Accuracy: 0.9137500 \n",
      "Iter:    33 | Cost: 0.4351742 | Accuracy: 0.9125000 \n",
      "Iter:    34 | Cost: 0.4325961 | Accuracy: 0.9075000 \n",
      "Iter:    35 | Cost: 0.4334759 | Accuracy: 0.9025000 \n",
      "Iter:    36 | Cost: 0.4338920 | Accuracy: 0.8975000 \n",
      "Iter:    37 | Cost: 0.4310891 | Accuracy: 0.9012500 \n",
      "Iter:    38 | Cost: 0.4271101 | Accuracy: 0.9012500 \n",
      "Iter:    39 | Cost: 0.4211750 | Accuracy: 0.9062500 \n",
      "Iter:    40 | Cost: 0.4183389 | Accuracy: 0.9075000 \n",
      "Iter:    41 | Cost: 0.4201879 | Accuracy: 0.9112500 \n",
      "New best\n",
      "Iter:    42 | Cost: 0.4151437 | Accuracy: 0.9150000 \n",
      "Iter:    43 | Cost: 0.4177120 | Accuracy: 0.9025000 \n",
      "Iter:    44 | Cost: 0.4292567 | Accuracy: 0.8962500 \n",
      "Iter:    45 | Cost: 0.4241086 | Accuracy: 0.8975000 \n",
      "Iter:    46 | Cost: 0.4212663 | Accuracy: 0.9025000 \n",
      "Iter:    47 | Cost: 0.4220414 | Accuracy: 0.9075000 \n",
      "Iter:    48 | Cost: 0.4178806 | Accuracy: 0.9125000 \n",
      "New best\n",
      "Iter:    49 | Cost: 0.4183256 | Accuracy: 0.9175000 \n",
      "Iter:    50 | Cost: 0.4321061 | Accuracy: 0.9025000 \n",
      "Iter:    51 | Cost: 0.4366375 | Accuracy: 0.8962500 \n",
      "Iter:    52 | Cost: 0.4418390 | Accuracy: 0.8837500 \n",
      "Iter:    53 | Cost: 0.4450615 | Accuracy: 0.8875000 \n",
      "Iter:    54 | Cost: 0.4409768 | Accuracy: 0.8975000 \n",
      "Iter:    55 | Cost: 0.4318176 | Accuracy: 0.9150000 \n",
      "New best\n",
      "Iter:    56 | Cost: 0.4317588 | Accuracy: 0.9212500 \n",
      "Iter:    57 | Cost: 0.4528087 | Accuracy: 0.8925000 \n",
      "Iter:    58 | Cost: 0.4599603 | Accuracy: 0.8800000 \n",
      "Iter:    59 | Cost: 0.4522052 | Accuracy: 0.8925000 \n",
      "Iter:    60 | Cost: 0.4467763 | Accuracy: 0.8950000 \n",
      "Iter:    61 | Cost: 0.4452085 | Accuracy: 0.8975000 \n",
      "Iter:    62 | Cost: 0.4441344 | Accuracy: 0.9075000 \n",
      "Iter:    63 | Cost: 0.4377748 | Accuracy: 0.9137500 \n",
      "Iter:    64 | Cost: 0.4286123 | Accuracy: 0.9175000 \n",
      "Iter:    65 | Cost: 0.4227363 | Accuracy: 0.9125000 \n",
      "Iter:    66 | Cost: 0.4214273 | Accuracy: 0.9062500 \n",
      "Iter:    67 | Cost: 0.4213975 | Accuracy: 0.9037500 \n",
      "Iter:    68 | Cost: 0.4202016 | Accuracy: 0.9025000 \n",
      "Iter:    69 | Cost: 0.4188702 | Accuracy: 0.9000000 \n",
      "Iter:    70 | Cost: 0.4200868 | Accuracy: 0.8975000 \n",
      "Iter:    71 | Cost: 0.4196368 | Accuracy: 0.8925000 \n",
      "Iter:    72 | Cost: 0.4134453 | Accuracy: 0.9012500 \n",
      "Iter:    73 | Cost: 0.4109289 | Accuracy: 0.9062500 \n",
      "Iter:    74 | Cost: 0.4106403 | Accuracy: 0.9050000 \n",
      "Iter:    75 | Cost: 0.4113676 | Accuracy: 0.9075000 \n",
      "Iter:    76 | Cost: 0.4164619 | Accuracy: 0.9025000 \n",
      "Iter:    77 | Cost: 0.4219751 | Accuracy: 0.9000000 \n",
      "Iter:    78 | Cost: 0.4251034 | Accuracy: 0.8975000 \n",
      "Iter:    79 | Cost: 0.4304712 | Accuracy: 0.8875000 \n",
      "Iter:    80 | Cost: 0.4264431 | Accuracy: 0.8925000 \n",
      "Iter:    81 | Cost: 0.4159146 | Accuracy: 0.9025000 \n",
      "Iter:    82 | Cost: 0.4072828 | Accuracy: 0.9100000 \n"
     ]
    }
   ],
   "source": [
    "weights = weights_init\n",
    "bias = bias_init\n",
    "\n",
    "wbest = 0\n",
    "bbest = 0\n",
    "abest = 0\n",
    "ccost = 1 \n",
    "for it in range(150):\n",
    "\n",
    "    # weights update by one optimizer step\n",
    "\n",
    "    batch_index = np.random.randint(0, len(X), (batch_size,))\n",
    "    X_batch = X[batch_index]\n",
    "    Y_batch = Y[batch_index]\n",
    "    weights, bias, _, _ = opt.step(cost, weights, bias, X_batch, Y_batch)\n",
    "\n",
    "    # Compute the accuracy\n",
    "    predictions = [np.sign(variational_classifier(weights, bias, x)) for x in X]\n",
    "    \n",
    "    '''if accuracy(Y, predictions) > abest:\n",
    "        wbest = weights\n",
    "        bbest = bias\n",
    "        abest = accuracy(Y, predictions)\n",
    "        print('New best')\n",
    "\n",
    "    acc = accuracy(Y, predictions)\n",
    "\n",
    "    print(\n",
    "        \"Iter: {:5d} | Cost: {:0.7f} | Accuracy: {:0.7f} \".format(\n",
    "            it + 1, cost(weights, bias, X, Y), acc\n",
    "        )\n",
    "    )'''\n",
    "    prec = accuracy(Y, predictions)\n",
    "    if  prec > abest or ((prec == abest) and (cost(weights, bias, X, Y) < ccost)):\n",
    "        wbest = weights\n",
    "        bbest = bias\n",
    "        abest = prec\n",
    "        ccost = cost(weights, bias, X, Y)\n",
    "        print('New best')\n",
    "    #prec = metrics.precision_score(Y, predictions, average='binary')\n",
    "    print(\n",
    "        \"Iter: {:5d} | Cost: {:0.7f} | Accuracy: {:0.7f} \".format(\n",
    "            it + 1, cost(weights, bias, X, Y), prec\n",
    "        )\n",
    "    )\n",
    "    \n",
    "    "
   ]
  },
  {
   "cell_type": "code",
   "execution_count": null,
   "id": "615e6410-5955-469d-8ccd-32517ba8ec3f",
   "metadata": {},
   "outputs": [],
   "source": [
    "predictions = [np.sign(variational_classifier(wbest, bbest, x)) for x in Xte]\n",
    "pred = [np.sign(variational_classifier(wbest, bbest, x)) for x in X]\n",
    "acc = accuracy(Yte, predictions)\n",
    "\n",
    "print(f'Cost: {cost(wbest, bbest, Xte, Yte)}, Accuracy: {np.round(acc, 2) * 100}%')"
   ]
  },
  {
   "cell_type": "code",
   "execution_count": null,
   "id": "694c231f-ce47-4bdb-be6a-eb1308ebc00e",
   "metadata": {},
   "outputs": [],
   "source": [
    "print(metrics.classification_report(Yte, predictions))"
   ]
  },
  {
   "cell_type": "code",
   "execution_count": null,
   "id": "660c69a6-87da-400e-99ba-739d49627088",
   "metadata": {},
   "outputs": [],
   "source": [
    "print(f'''\n",
    "\n",
    "    Precision: {round(100*metrics.precision_score(predictions,Yte),2)}%\n",
    "    Recall: {round(100*metrics.recall_score(predictions,Yte),2)}%\n",
    "    f1: {round(100*metrics.f1_score(predictions,Yte),2)}%\n",
    "    Accuracy: {round(100*metrics.accuracy_score(predictions,Yte),2)}%\n",
    "    Balanced accuracy: {round(100*metrics.balanced_accuracy_score(predictions,Yte),2)}%\n",
    "    Matthew corcorref: {round(100*metrics.matthews_corrcoef(predictions,Yte),2)}%\n",
    "    ''')"
   ]
  },
  {
   "cell_type": "code",
   "execution_count": 5,
   "id": "5ee63f17-2adf-48b6-9106-fb542ed641d6",
   "metadata": {},
   "outputs": [],
   "source": []
  },
  {
   "cell_type": "code",
   "execution_count": null,
   "id": "3733572a-30eb-4080-bb3e-7201605149c8",
   "metadata": {},
   "outputs": [],
   "source": []
  },
  {
   "cell_type": "code",
   "execution_count": null,
   "id": "8f19289f-ce71-4aa8-8504-ac6564f69660",
   "metadata": {},
   "outputs": [],
   "source": []
  }
 ],
 "metadata": {
  "kernelspec": {
   "display_name": "Python 3 (ipykernel)",
   "language": "python",
   "name": "python3"
  },
  "language_info": {
   "codemirror_mode": {
    "name": "ipython",
    "version": 3
   },
   "file_extension": ".py",
   "mimetype": "text/x-python",
   "name": "python",
   "nbconvert_exporter": "python",
   "pygments_lexer": "ipython3",
   "version": "3.10.6"
  }
 },
 "nbformat": 4,
 "nbformat_minor": 5
}
