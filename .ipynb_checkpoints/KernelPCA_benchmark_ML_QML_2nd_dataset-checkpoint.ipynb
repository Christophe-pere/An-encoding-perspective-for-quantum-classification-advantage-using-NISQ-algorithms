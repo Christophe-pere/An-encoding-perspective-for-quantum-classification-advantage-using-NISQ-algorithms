{
 "cells": [
  {
   "cell_type": "markdown",
   "id": "d41d3fa6-0ae0-490d-a02b-0dbf81799488",
   "metadata": {},
   "source": [
    "# Quantum benchmark"
   ]
  },
  {
   "cell_type": "markdown",
   "id": "d6011e42-1fab-4f9f-ab99-f4f08607517e",
   "metadata": {},
   "source": [
    "## I - Introduction"
   ]
  },
  {
   "cell_type": "code",
   "execution_count": null,
   "id": "13b4f6b4-240b-4b7f-abe4-4e74b3b8cc8a",
   "metadata": {},
   "outputs": [],
   "source": []
  },
  {
   "cell_type": "markdown",
   "id": "bd5492ce-4f08-4755-b4c2-efd698139101",
   "metadata": {},
   "source": [
    "## II - Packages"
   ]
  },
  {
   "cell_type": "code",
   "execution_count": 1,
   "id": "90371200-0133-46ab-a205-d0f6b8858e55",
   "metadata": {},
   "outputs": [],
   "source": [
    "import pandas as pd\n",
    "import matplotlib.pyplot as plt\n",
    "import numpy as np\n",
    "from sklearn.model_selection import train_test_split\n",
    "from sklearn.preprocessing import StandardScaler\n",
    "from sklearn.decomposition import PCA\n",
    "from sklearn.discriminant_analysis import LinearDiscriminantAnalysis as LDA\n",
    "from sklearn.preprocessing import MinMaxScaler\n",
    "from sklearn.svm import SVC\n",
    "from sklearn import metrics\n",
    "from sklearn.ensemble import RandomForestClassifier\n",
    "from sklearn.linear_model import LogisticRegression\n",
    "from sklearn.tree import DecisionTreeClassifier\n",
    "from sklearn.preprocessing import normalize\n",
    "from sklearn.model_selection import cross_val_score, KFold\n",
    "#Import classical libraries\n",
    "from sklearn.neighbors import KNeighborsClassifier\n",
    "from sklearn.naive_bayes import GaussianNB\n",
    "from sklearn.svm import SVC\n",
    "from sklearn.ensemble import RandomForestClassifier\n",
    "from sklearn.model_selection import train_test_split\n",
    "from sklearn import datasets\n",
    "import matplotlib.pyplot as plt\n",
    "\n",
    "plt.style.use('ggplot')\n",
    "\n",
    "import functools\n",
    "\n",
    "from qiskit import BasicAer\n",
    "from qiskit.circuit.library import ZZFeatureMap\n",
    "from qiskit.utils import QuantumInstance, algorithm_globals\n",
    "from qiskit_machine_learning.algorithms import QSVC\n",
    "from qiskit_machine_learning.kernels import QuantumKernel\n",
    "from qiskit_machine_learning.datasets import ad_hoc_data\n",
    "import logging\n",
    "\n",
    "import pennylane as qml\n",
    "from pennylane.templates.embeddings import AngleEmbedding, AmplitudeEmbedding\n",
    "from pennylane.optimize import AdamOptimizer\n",
    "\n",
    "from qiskit.algorithms.optimizers import COBYLA\n",
    "from qiskit.circuit.library import TwoLocal, ZZFeatureMap\n",
    "import qiskit"
   ]
  },
  {
   "cell_type": "code",
   "execution_count": 2,
   "id": "20fe0c02-3bc3-4367-8958-920db81351ad",
   "metadata": {},
   "outputs": [],
   "source": [
    "import warnings\n",
    "warnings.filterwarnings('ignore')"
   ]
  },
  {
   "cell_type": "markdown",
   "id": "1598c94c-fdcf-41cd-a4ea-e262932c7e0f",
   "metadata": {},
   "source": [
    "## III - Data "
   ]
  },
  {
   "cell_type": "code",
   "execution_count": 3,
   "id": "e683f3b5-6021-4eb7-bc53-539a5cd79bfc",
   "metadata": {},
   "outputs": [],
   "source": [
    "# Read out CSV\n",
    "\n",
    "df = pd.read_csv('fraud_detection_bank_dataset.csv', sep=',')"
   ]
  },
  {
   "cell_type": "code",
   "execution_count": 3,
   "id": "bf69c7f1-b10e-4b54-89ec-89dd5829ac42",
   "metadata": {},
   "outputs": [],
   "source": [
    "%%script false --no-raise-error\n",
    "\n",
    "import sweetviz as sv\n",
    "\n",
    "#EDA using Autoviz\n",
    "sweet_report = sv.analyze(df)\n",
    "\n",
    "#Saving results to HTML file\n",
    "sweet_report.show_html('sweet_report.html')"
   ]
  },
  {
   "cell_type": "markdown",
   "id": "c4ff48fa-d03b-435d-9343-67186c068b34",
   "metadata": {},
   "source": [
    "## IV - Modelisation"
   ]
  },
  {
   "cell_type": "markdown",
   "id": "b1251e3e-c8ed-4e57-a790-1fa8003f8c31",
   "metadata": {},
   "source": [
    "## Quantum Approaches"
   ]
  },
  {
   "cell_type": "code",
   "execution_count": 4,
   "id": "687e30e4-b09c-4bd1-8365-5fc49a22c661",
   "metadata": {},
   "outputs": [],
   "source": [
    "from sklearn.decomposition import TruncatedSVD"
   ]
  },
  {
   "cell_type": "code",
   "execution_count": 6,
   "id": "a48d4b60-5675-473e-88a1-77dcff67374d",
   "metadata": {},
   "outputs": [],
   "source": [
    "from sklearn.preprocessing import StandardScaler"
   ]
  },
  {
   "cell_type": "code",
   "execution_count": 9,
   "id": "42637c78-03cb-4549-9634-f18c6b7a7f41",
   "metadata": {},
   "outputs": [],
   "source": [
    "df = df.drop(['Unnamed: 0'], axis = 1)\n",
    "df_labels = df['targets']\n",
    "df.drop(['targets'],axis = 1,inplace = True)\n",
    "X_train, X_test, y_train, y_test = train_test_split(df, df_labels, test_size=0.2, random_state=42)"
   ]
  },
  {
   "cell_type": "code",
   "execution_count": 22,
   "id": "33e79543-ae3f-4b68-bf82-24d45c8ed037",
   "metadata": {},
   "outputs": [],
   "source": [
    "cols = ['col_8', 'col_9', 'col_10', 'col_11', 'col_12', 'col_18', 'col_19','col_20', 'col_21', 'col_35', \n",
    "        'col_51', 'col_52', 'col_53', 'col_70','col_71','col_7', 'col_22', 'col_54', 'col_56']\n",
    "\n",
    "X_train = X_train.drop(cols, axis=1)\n",
    "X_test = X_test.drop(cols, axis=1)"
   ]
  },
  {
   "cell_type": "code",
   "execution_count": 23,
   "id": "53c4b754-1ee5-42b6-a8ec-2d9f32b5762a",
   "metadata": {},
   "outputs": [],
   "source": [
    "# Standardizing the features\n",
    "x = StandardScaler().fit_transform(X_train)"
   ]
  },
  {
   "cell_type": "code",
   "execution_count": 24,
   "id": "a948c1c2-cb55-49b2-bb4c-c2d2fdca527a",
   "metadata": {},
   "outputs": [],
   "source": [
    "qla = TruncatedSVD(n_components=2)"
   ]
  },
  {
   "cell_type": "code",
   "execution_count": 25,
   "id": "b921a949-e3bd-45b6-b0e0-a84f96788811",
   "metadata": {},
   "outputs": [
    {
     "data": {
      "text/html": [
       "<style>#sk-container-id-2 {color: black;background-color: white;}#sk-container-id-2 pre{padding: 0;}#sk-container-id-2 div.sk-toggleable {background-color: white;}#sk-container-id-2 label.sk-toggleable__label {cursor: pointer;display: block;width: 100%;margin-bottom: 0;padding: 0.3em;box-sizing: border-box;text-align: center;}#sk-container-id-2 label.sk-toggleable__label-arrow:before {content: \"▸\";float: left;margin-right: 0.25em;color: #696969;}#sk-container-id-2 label.sk-toggleable__label-arrow:hover:before {color: black;}#sk-container-id-2 div.sk-estimator:hover label.sk-toggleable__label-arrow:before {color: black;}#sk-container-id-2 div.sk-toggleable__content {max-height: 0;max-width: 0;overflow: hidden;text-align: left;background-color: #f0f8ff;}#sk-container-id-2 div.sk-toggleable__content pre {margin: 0.2em;color: black;border-radius: 0.25em;background-color: #f0f8ff;}#sk-container-id-2 input.sk-toggleable__control:checked~div.sk-toggleable__content {max-height: 200px;max-width: 100%;overflow: auto;}#sk-container-id-2 input.sk-toggleable__control:checked~label.sk-toggleable__label-arrow:before {content: \"▾\";}#sk-container-id-2 div.sk-estimator input.sk-toggleable__control:checked~label.sk-toggleable__label {background-color: #d4ebff;}#sk-container-id-2 div.sk-label input.sk-toggleable__control:checked~label.sk-toggleable__label {background-color: #d4ebff;}#sk-container-id-2 input.sk-hidden--visually {border: 0;clip: rect(1px 1px 1px 1px);clip: rect(1px, 1px, 1px, 1px);height: 1px;margin: -1px;overflow: hidden;padding: 0;position: absolute;width: 1px;}#sk-container-id-2 div.sk-estimator {font-family: monospace;background-color: #f0f8ff;border: 1px dotted black;border-radius: 0.25em;box-sizing: border-box;margin-bottom: 0.5em;}#sk-container-id-2 div.sk-estimator:hover {background-color: #d4ebff;}#sk-container-id-2 div.sk-parallel-item::after {content: \"\";width: 100%;border-bottom: 1px solid gray;flex-grow: 1;}#sk-container-id-2 div.sk-label:hover label.sk-toggleable__label {background-color: #d4ebff;}#sk-container-id-2 div.sk-serial::before {content: \"\";position: absolute;border-left: 1px solid gray;box-sizing: border-box;top: 0;bottom: 0;left: 50%;z-index: 0;}#sk-container-id-2 div.sk-serial {display: flex;flex-direction: column;align-items: center;background-color: white;padding-right: 0.2em;padding-left: 0.2em;position: relative;}#sk-container-id-2 div.sk-item {position: relative;z-index: 1;}#sk-container-id-2 div.sk-parallel {display: flex;align-items: stretch;justify-content: center;background-color: white;position: relative;}#sk-container-id-2 div.sk-item::before, #sk-container-id-2 div.sk-parallel-item::before {content: \"\";position: absolute;border-left: 1px solid gray;box-sizing: border-box;top: 0;bottom: 0;left: 50%;z-index: -1;}#sk-container-id-2 div.sk-parallel-item {display: flex;flex-direction: column;z-index: 1;position: relative;background-color: white;}#sk-container-id-2 div.sk-parallel-item:first-child::after {align-self: flex-end;width: 50%;}#sk-container-id-2 div.sk-parallel-item:last-child::after {align-self: flex-start;width: 50%;}#sk-container-id-2 div.sk-parallel-item:only-child::after {width: 0;}#sk-container-id-2 div.sk-dashed-wrapped {border: 1px dashed gray;margin: 0 0.4em 0.5em 0.4em;box-sizing: border-box;padding-bottom: 0.4em;background-color: white;}#sk-container-id-2 div.sk-label label {font-family: monospace;font-weight: bold;display: inline-block;line-height: 1.2em;}#sk-container-id-2 div.sk-label-container {text-align: center;}#sk-container-id-2 div.sk-container {/* jupyter's `normalize.less` sets `[hidden] { display: none; }` but bootstrap.min.css set `[hidden] { display: none !important; }` so we also need the `!important` here to be able to override the default hidden behavior on the sphinx rendered scikit-learn.org. See: https://github.com/scikit-learn/scikit-learn/issues/21755 */display: inline-block !important;position: relative;}#sk-container-id-2 div.sk-text-repr-fallback {display: none;}</style><div id=\"sk-container-id-2\" class=\"sk-top-container\"><div class=\"sk-text-repr-fallback\"><pre>TruncatedSVD()</pre><b>In a Jupyter environment, please rerun this cell to show the HTML representation or trust the notebook. <br />On GitHub, the HTML representation is unable to render, please try loading this page with nbviewer.org.</b></div><div class=\"sk-container\" hidden><div class=\"sk-item\"><div class=\"sk-estimator sk-toggleable\"><input class=\"sk-toggleable__control sk-hidden--visually\" id=\"sk-estimator-id-2\" type=\"checkbox\" checked><label for=\"sk-estimator-id-2\" class=\"sk-toggleable__label sk-toggleable__label-arrow\">TruncatedSVD</label><div class=\"sk-toggleable__content\"><pre>TruncatedSVD()</pre></div></div></div></div></div>"
      ],
      "text/plain": [
       "TruncatedSVD()"
      ]
     },
     "execution_count": 25,
     "metadata": {},
     "output_type": "execute_result"
    }
   ],
   "source": [
    "qla.fit(x)"
   ]
  },
  {
   "cell_type": "code",
   "execution_count": 26,
   "id": "58737fde-c826-4acf-8c94-cb8f4df345bd",
   "metadata": {},
   "outputs": [],
   "source": [
    "df_qla = qla.transform(x)"
   ]
  },
  {
   "cell_type": "code",
   "execution_count": 27,
   "id": "3228f8e5-9afe-4127-9b40-c70fbd78c63d",
   "metadata": {},
   "outputs": [],
   "source": [
    "principalDf = pd.DataFrame(data = df_qla\n",
    "             , columns = ['principal component 1', 'principal component 2'])"
   ]
  },
  {
   "cell_type": "code",
   "execution_count": 28,
   "id": "bb5a4c4a-13aa-4bcc-b388-f8641146ddca",
   "metadata": {},
   "outputs": [
    {
     "data": {
      "text/html": [
       "<div>\n",
       "<style scoped>\n",
       "    .dataframe tbody tr th:only-of-type {\n",
       "        vertical-align: middle;\n",
       "    }\n",
       "\n",
       "    .dataframe tbody tr th {\n",
       "        vertical-align: top;\n",
       "    }\n",
       "\n",
       "    .dataframe thead th {\n",
       "        text-align: right;\n",
       "    }\n",
       "</style>\n",
       "<table border=\"1\" class=\"dataframe\">\n",
       "  <thead>\n",
       "    <tr style=\"text-align: right;\">\n",
       "      <th></th>\n",
       "      <th>principal component 1</th>\n",
       "      <th>principal component 2</th>\n",
       "    </tr>\n",
       "  </thead>\n",
       "  <tbody>\n",
       "    <tr>\n",
       "      <th>0</th>\n",
       "      <td>-0.752511</td>\n",
       "      <td>-2.507922</td>\n",
       "    </tr>\n",
       "    <tr>\n",
       "      <th>1</th>\n",
       "      <td>-1.287880</td>\n",
       "      <td>1.747014</td>\n",
       "    </tr>\n",
       "    <tr>\n",
       "      <th>2</th>\n",
       "      <td>2.543801</td>\n",
       "      <td>-7.181829</td>\n",
       "    </tr>\n",
       "    <tr>\n",
       "      <th>3</th>\n",
       "      <td>7.663359</td>\n",
       "      <td>-1.668144</td>\n",
       "    </tr>\n",
       "    <tr>\n",
       "      <th>4</th>\n",
       "      <td>-1.210011</td>\n",
       "      <td>1.212229</td>\n",
       "    </tr>\n",
       "  </tbody>\n",
       "</table>\n",
       "</div>"
      ],
      "text/plain": [
       "   principal component 1  principal component 2\n",
       "0              -0.752511              -2.507922\n",
       "1              -1.287880               1.747014\n",
       "2               2.543801              -7.181829\n",
       "3               7.663359              -1.668144\n",
       "4              -1.210011               1.212229"
      ]
     },
     "execution_count": 28,
     "metadata": {},
     "output_type": "execute_result"
    }
   ],
   "source": [
    "principalDf.head()"
   ]
  },
  {
   "cell_type": "code",
   "execution_count": 29,
   "id": "3141a967-8c2f-472e-a934-5ad8ac0d9237",
   "metadata": {},
   "outputs": [
    {
     "data": {
      "text/plain": [
       "[<matplotlib.lines.Line2D at 0x2a02af640>]"
      ]
     },
     "execution_count": 29,
     "metadata": {},
     "output_type": "execute_result"
    },
    {
     "data": {
      "image/png": "[encoded data removed]",
      "text/plain": [
       "<Figure size 1000x800 with 1 Axes>"
      ]
     },
     "metadata": {},
     "output_type": "display_data"
    }
   ],
   "source": [
    "plt.figure(figsize=(10,8))\n",
    "plt.plot(principalDf.iloc[:,0], principalDf.iloc[:,1], '+')\n",
    "#plt.plot(df.index, feature_2, 'g+')"
   ]
  },
  {
   "cell_type": "code",
   "execution_count": 30,
   "id": "a1de5099-55d4-4d2d-9ea4-eaf60c27b16c",
   "metadata": {},
   "outputs": [],
   "source": [
    "n_dim = len(principalDf.columns)"
   ]
  },
  {
   "cell_type": "markdown",
   "id": "bd626d5c-ff6a-443a-9700-10a93c24dc74",
   "metadata": {},
   "source": [
    "## Split train test "
   ]
  },
  {
   "cell_type": "code",
   "execution_count": 31,
   "id": "afaf0912-bdbf-4460-ae4c-43016d1f5a57",
   "metadata": {},
   "outputs": [],
   "source": [
    "# Split dataset into train and test\n",
    "\n",
    "sample_train, sample_test, label_train, label_test = train_test_split(\n",
    "     principalDf, y_train, test_size=0.2, random_state=22)\n",
    "\n",
    "# Normalize\n",
    "\n",
    "std_scale = StandardScaler().fit(sample_train)\n",
    "sample_train = std_scale.transform(sample_train)\n",
    "sample_test = std_scale.transform(sample_test)\n",
    "\n",
    "# Scale for better fit within the feature map\n",
    "\n",
    "samples = np.append(sample_train, sample_test, axis=0)\n",
    "minmax_scale = MinMaxScaler((-1, 1)).fit(samples)\n",
    "sample_train = minmax_scale.transform(sample_train)\n",
    "sample_test = minmax_scale.transform(sample_test)\n",
    "\n",
    "# Select a sample for a better control of the research and wall time\n",
    "\n",
    "train_size = 800#160\n",
    "sample_train = sample_train[:train_size]\n",
    "label_train = label_train[:train_size]\n",
    "\n",
    "test_size = 200 #40\n",
    "sample_test = sample_test[:test_size]\n",
    "label_test = label_test[:test_size]"
   ]
  },
  {
   "cell_type": "code",
   "execution_count": 32,
   "id": "d815edbe-c5e7-42d6-9489-39ebb940cda4",
   "metadata": {},
   "outputs": [],
   "source": [
    "# Basic parameters for hybrid model\n",
    "\n",
    "seed = 8500\n",
    "feature_dim = 2#n_dim\n",
    "num_reps = 2\n",
    "num_shots =256 \n"
   ]
  },
  {
   "cell_type": "markdown",
   "id": "a17bc9af-4a1c-453d-be99-d54b9e045628",
   "metadata": {},
   "source": [
    "## Hybrid"
   ]
  },
  {
   "cell_type": "code",
   "execution_count": 33,
   "id": "c2ce7078-9255-4913-b6aa-7f05a0e077c3",
   "metadata": {},
   "outputs": [],
   "source": [
    "# Define feature_map\n",
    "\n",
    "feature_map = ZZFeatureMap(feature_dimension=feature_dim, reps=num_reps)\n",
    "\n",
    "# Define the backend\n",
    "backend = QuantumInstance(\n",
    "    BasicAer.get_backend(\"qasm_simulator\"), shots=num_shots, seed_simulator=seed, seed_transpiler=seed\n",
    ")\n",
    "\n",
    "# Define the kernel\n",
    "\n",
    "kernel = QuantumKernel(feature_map=feature_map, quantum_instance=backend)\n",
    "\n",
    "# Model run\n",
    "svc = SVC(kernel=kernel.evaluate)\n",
    "#svc.fit(sample_train, label_train)\n",
    "#score = svc.score(sample_test, label_test)\n",
    "\n",
    "#print(f\"Callable kernel classification test score: {score}\")"
   ]
  },
  {
   "cell_type": "code",
   "execution_count": 70,
   "id": "b8fd86d8-bec9-42ac-8543-c69c973a7f01",
   "metadata": {},
   "outputs": [],
   "source": [
    "#result_predict = svc.predict(sample_test)"
   ]
  },
  {
   "cell_type": "code",
   "execution_count": 21,
   "id": "ee71fc2a-46dc-46d1-8f51-8e3df5723407",
   "metadata": {},
   "outputs": [],
   "source": [
    "#print(metrics.classification_report(label_test,result_predict))"
   ]
  },
  {
   "cell_type": "markdown",
   "id": "5fc1d4e4-599e-47ea-b53c-dc200ee4dec0",
   "metadata": {},
   "source": [
    "## Classical Approaches"
   ]
  },
  {
   "cell_type": "code",
   "execution_count": 34,
   "id": "5bd332f9-cc4e-43eb-9cd9-0990b709ae83",
   "metadata": {},
   "outputs": [],
   "source": [
    "from sklearn.model_selection import cross_validate\n",
    "from tqdm import tqdm\n",
    "def evaluate_ml_model(_models, X, y, n_fold=10, metric='precision'):\n",
    "    ''' Function to evaluate a ML and QML model with a list of metrics\n",
    "    \n",
    "    \n",
    "    '''\n",
    "    results = pd.DataFrame()\n",
    "    kfold = KFold(n_splits=n_fold)\n",
    "    columns = []\n",
    "    for name, model in tqdm(_models):\n",
    "        # -------------------\n",
    "        # Variables initialization \n",
    "        _df = pd.DataFrame()\n",
    "        names = []\n",
    "        means = []\n",
    "        stds = []\n",
    "        \n",
    "        # -------------------\n",
    "        # k-fold Cross validation\n",
    "        cv_results = cross_validate(model, X, y, cv=kfold, scoring=metric)\n",
    "        \n",
    "        # -------------------\n",
    "        # Compute the mean and standard deviation \n",
    "        for _name, _array in cv_results.items():\n",
    "            names.append(_name)\n",
    "            means.append(round(100*_array.mean(), 2))\n",
    "            stds.append(round(100*_array.std(), 2))\n",
    "        # -------------------\n",
    "        # Save the results in a dataframe \n",
    "        _df =  pd.DataFrame([means, stds], columns=names)\n",
    "        columns.extend([name+' mean (%)', name+' std (%)'])\n",
    "        #results = results.join(_df, on=_df.index)\n",
    "        results = results.append(_df)\n",
    "    results.index = columns\n",
    "    print(results)\n",
    "    return results"
   ]
  },
  {
   "cell_type": "code",
   "execution_count": 35,
   "id": "d93f1b24-b419-4eb0-abb5-fd297fcec137",
   "metadata": {},
   "outputs": [],
   "source": [
    "models = []\n",
    "models.append(('LR', LogisticRegression(max_iter=1000)))\n",
    "models.append(('KNN', KNeighborsClassifier()))\n",
    "models.append(('CART', DecisionTreeClassifier()))\n",
    "models.append(('NB', GaussianNB()))\n",
    "models.append(('SVM', SVC()))\n",
    "models.append(('qsvc', svc))\n",
    "_metrics = ['precision', 'recall', 'f1', 'accuracy',  'matthews_corrcoef','balanced_accuracy']"
   ]
  },
  {
   "cell_type": "code",
   "execution_count": 36,
   "id": "a92689bc-07b9-4bdd-b25c-0b0bae45a976",
   "metadata": {},
   "outputs": [],
   "source": [
    "df_results = pd.DataFrame()"
   ]
  },
  {
   "cell_type": "code",
   "execution_count": 37,
   "id": "15d5c6b3-7172-430b-b803-f60126a12cdb",
   "metadata": {},
   "outputs": [
    {
     "name": "stdout",
     "output_type": "stream",
     "text": [
      "                fit_time  score_time  test_precision  test_recall  test_f1  \\\n",
      "LR mean (%)      0.00134     0.00121         0.00000      0.00000  0.00000   \n",
      "LR std (%)       0.00030     0.00012         0.00000      0.00000  0.00000   \n",
      "KNN mean (%)     0.00030     0.00194         0.74391      0.55268  0.62767   \n",
      "KNN std (%)      0.00005     0.00009         0.12999      0.12668  0.11153   \n",
      "CART mean (%)    0.00089     0.00108         0.54468      0.57241  0.55478   \n",
      "CART std (%)     0.00004     0.00003         0.11339      0.08939  0.09600   \n",
      "NB mean (%)      0.00026     0.00108         0.84667      0.08838  0.15615   \n",
      "NB std (%)       0.00002     0.00005         0.20396      0.03876  0.06020   \n",
      "SVM mean (%)     0.00368     0.00299         0.00000      0.00000  0.00000   \n",
      "SVM std (%)      0.00017     0.00010         0.00000      0.00000  0.00000   \n",
      "qsvc mean (%)  231.33997    52.93259         0.00000      0.00000  0.00000   \n",
      "qsvc std (%)     8.21758     7.33990         0.00000      0.00000  0.00000   \n",
      "\n",
      "               test_accuracy  test_matthews_corrcoef  test_balanced_accuracy  \n",
      "LR mean (%)          0.74625                 0.00000                 0.50000  \n",
      "LR std (%)           0.03262                 0.00000                 0.00000  \n",
      "KNN mean (%)         0.84125                 0.54333                 0.74461  \n",
      "KNN std (%)          0.02503                 0.11857                 0.06199  \n",
      "CART mean (%)        0.76875                 0.40152                 0.70349  \n",
      "CART std (%)         0.05039                 0.12289                 0.05979  \n",
      "NB mean (%)          0.76250                 0.21378                 0.54001  \n",
      "NB std (%)           0.03112                 0.06515                 0.01795  \n",
      "SVM mean (%)         0.74500                -0.00606                 0.49919  \n",
      "SVM std (%)          0.03172                 0.01819                 0.00242  \n",
      "qsvc mean (%)        0.74625                 0.00000                 0.50000  \n",
      "qsvc std (%)         0.03262                 0.00000                 0.00000  \n"
     ]
    }
   ],
   "source": [
    "df_results = evaluate_ml_model(models, sample_train, label_train, n_fold=10, metric=_metrics)"
   ]
  },
  {
   "cell_type": "code",
   "execution_count": 38,
   "id": "8561d92d-f3ee-4045-b6e5-98097a82f364",
   "metadata": {},
   "outputs": [
    {
     "data": {
      "text/html": [
       "<div>\n",
       "<style scoped>\n",
       "    .dataframe tbody tr th:only-of-type {\n",
       "        vertical-align: middle;\n",
       "    }\n",
       "\n",
       "    .dataframe tbody tr th {\n",
       "        vertical-align: top;\n",
       "    }\n",
       "\n",
       "    .dataframe thead th {\n",
       "        text-align: right;\n",
       "    }\n",
       "</style>\n",
       "<table border=\"1\" class=\"dataframe\">\n",
       "  <thead>\n",
       "    <tr style=\"text-align: right;\">\n",
       "      <th></th>\n",
       "      <th>fit_time</th>\n",
       "      <th>score_time</th>\n",
       "      <th>test_precision</th>\n",
       "      <th>test_recall</th>\n",
       "      <th>test_f1</th>\n",
       "      <th>test_accuracy</th>\n",
       "      <th>test_matthews_corrcoef</th>\n",
       "      <th>test_balanced_accuracy</th>\n",
       "    </tr>\n",
       "  </thead>\n",
       "  <tbody>\n",
       "    <tr>\n",
       "      <th>LR mean (%)</th>\n",
       "      <td>0.00134</td>\n",
       "      <td>0.00121</td>\n",
       "      <td>0.00000</td>\n",
       "      <td>0.00000</td>\n",
       "      <td>0.00000</td>\n",
       "      <td>0.74625</td>\n",
       "      <td>0.00000</td>\n",
       "      <td>0.50000</td>\n",
       "    </tr>\n",
       "    <tr>\n",
       "      <th>LR std (%)</th>\n",
       "      <td>0.00030</td>\n",
       "      <td>0.00012</td>\n",
       "      <td>0.00000</td>\n",
       "      <td>0.00000</td>\n",
       "      <td>0.00000</td>\n",
       "      <td>0.03262</td>\n",
       "      <td>0.00000</td>\n",
       "      <td>0.00000</td>\n",
       "    </tr>\n",
       "    <tr>\n",
       "      <th>KNN mean (%)</th>\n",
       "      <td>0.00030</td>\n",
       "      <td>0.00194</td>\n",
       "      <td>0.74391</td>\n",
       "      <td>0.55268</td>\n",
       "      <td>0.62767</td>\n",
       "      <td>0.84125</td>\n",
       "      <td>0.54333</td>\n",
       "      <td>0.74461</td>\n",
       "    </tr>\n",
       "    <tr>\n",
       "      <th>KNN std (%)</th>\n",
       "      <td>0.00005</td>\n",
       "      <td>0.00009</td>\n",
       "      <td>0.12999</td>\n",
       "      <td>0.12668</td>\n",
       "      <td>0.11153</td>\n",
       "      <td>0.02503</td>\n",
       "      <td>0.11857</td>\n",
       "      <td>0.06199</td>\n",
       "    </tr>\n",
       "    <tr>\n",
       "      <th>CART mean (%)</th>\n",
       "      <td>0.00089</td>\n",
       "      <td>0.00108</td>\n",
       "      <td>0.54468</td>\n",
       "      <td>0.57241</td>\n",
       "      <td>0.55478</td>\n",
       "      <td>0.76875</td>\n",
       "      <td>0.40152</td>\n",
       "      <td>0.70349</td>\n",
       "    </tr>\n",
       "    <tr>\n",
       "      <th>CART std (%)</th>\n",
       "      <td>0.00004</td>\n",
       "      <td>0.00003</td>\n",
       "      <td>0.11339</td>\n",
       "      <td>0.08939</td>\n",
       "      <td>0.09600</td>\n",
       "      <td>0.05039</td>\n",
       "      <td>0.12289</td>\n",
       "      <td>0.05979</td>\n",
       "    </tr>\n",
       "    <tr>\n",
       "      <th>NB mean (%)</th>\n",
       "      <td>0.00026</td>\n",
       "      <td>0.00108</td>\n",
       "      <td>0.84667</td>\n",
       "      <td>0.08838</td>\n",
       "      <td>0.15615</td>\n",
       "      <td>0.76250</td>\n",
       "      <td>0.21378</td>\n",
       "      <td>0.54001</td>\n",
       "    </tr>\n",
       "    <tr>\n",
       "      <th>NB std (%)</th>\n",
       "      <td>0.00002</td>\n",
       "      <td>0.00005</td>\n",
       "      <td>0.20396</td>\n",
       "      <td>0.03876</td>\n",
       "      <td>0.06020</td>\n",
       "      <td>0.03112</td>\n",
       "      <td>0.06515</td>\n",
       "      <td>0.01795</td>\n",
       "    </tr>\n",
       "    <tr>\n",
       "      <th>SVM mean (%)</th>\n",
       "      <td>0.00368</td>\n",
       "      <td>0.00299</td>\n",
       "      <td>0.00000</td>\n",
       "      <td>0.00000</td>\n",
       "      <td>0.00000</td>\n",
       "      <td>0.74500</td>\n",
       "      <td>-0.00606</td>\n",
       "      <td>0.49919</td>\n",
       "    </tr>\n",
       "    <tr>\n",
       "      <th>SVM std (%)</th>\n",
       "      <td>0.00017</td>\n",
       "      <td>0.00010</td>\n",
       "      <td>0.00000</td>\n",
       "      <td>0.00000</td>\n",
       "      <td>0.00000</td>\n",
       "      <td>0.03172</td>\n",
       "      <td>0.01819</td>\n",
       "      <td>0.00242</td>\n",
       "    </tr>\n",
       "    <tr>\n",
       "      <th>qsvc mean (%)</th>\n",
       "      <td>231.33997</td>\n",
       "      <td>52.93259</td>\n",
       "      <td>0.00000</td>\n",
       "      <td>0.00000</td>\n",
       "      <td>0.00000</td>\n",
       "      <td>0.74625</td>\n",
       "      <td>0.00000</td>\n",
       "      <td>0.50000</td>\n",
       "    </tr>\n",
       "    <tr>\n",
       "      <th>qsvc std (%)</th>\n",
       "      <td>8.21758</td>\n",
       "      <td>7.33990</td>\n",
       "      <td>0.00000</td>\n",
       "      <td>0.00000</td>\n",
       "      <td>0.00000</td>\n",
       "      <td>0.03262</td>\n",
       "      <td>0.00000</td>\n",
       "      <td>0.00000</td>\n",
       "    </tr>\n",
       "  </tbody>\n",
       "</table>\n",
       "</div>"
      ],
      "text/plain": [
       "                fit_time  score_time  test_precision  test_recall  test_f1  \\\n",
       "LR mean (%)      0.00134     0.00121         0.00000      0.00000  0.00000   \n",
       "LR std (%)       0.00030     0.00012         0.00000      0.00000  0.00000   \n",
       "KNN mean (%)     0.00030     0.00194         0.74391      0.55268  0.62767   \n",
       "KNN std (%)      0.00005     0.00009         0.12999      0.12668  0.11153   \n",
       "CART mean (%)    0.00089     0.00108         0.54468      0.57241  0.55478   \n",
       "CART std (%)     0.00004     0.00003         0.11339      0.08939  0.09600   \n",
       "NB mean (%)      0.00026     0.00108         0.84667      0.08838  0.15615   \n",
       "NB std (%)       0.00002     0.00005         0.20396      0.03876  0.06020   \n",
       "SVM mean (%)     0.00368     0.00299         0.00000      0.00000  0.00000   \n",
       "SVM std (%)      0.00017     0.00010         0.00000      0.00000  0.00000   \n",
       "qsvc mean (%)  231.33997    52.93259         0.00000      0.00000  0.00000   \n",
       "qsvc std (%)     8.21758     7.33990         0.00000      0.00000  0.00000   \n",
       "\n",
       "               test_accuracy  test_matthews_corrcoef  test_balanced_accuracy  \n",
       "LR mean (%)          0.74625                 0.00000                 0.50000  \n",
       "LR std (%)           0.03262                 0.00000                 0.00000  \n",
       "KNN mean (%)         0.84125                 0.54333                 0.74461  \n",
       "KNN std (%)          0.02503                 0.11857                 0.06199  \n",
       "CART mean (%)        0.76875                 0.40152                 0.70349  \n",
       "CART std (%)         0.05039                 0.12289                 0.05979  \n",
       "NB mean (%)          0.76250                 0.21378                 0.54001  \n",
       "NB std (%)           0.03112                 0.06515                 0.01795  \n",
       "SVM mean (%)         0.74500                -0.00606                 0.49919  \n",
       "SVM std (%)          0.03172                 0.01819                 0.00242  \n",
       "qsvc mean (%)        0.74625                 0.00000                 0.50000  \n",
       "qsvc std (%)         0.03262                 0.00000                 0.00000  "
      ]
     },
     "execution_count": 38,
     "metadata": {},
     "output_type": "execute_result"
    }
   ],
   "source": [
    "df_results"
   ]
  },
  {
   "cell_type": "markdown",
   "id": "d339da61-ed6a-4195-a0a0-7d123474e9be",
   "metadata": {},
   "source": [
    "## QSVC"
   ]
  },
  {
   "cell_type": "code",
   "execution_count": null,
   "id": "b3b368ba-6fe2-4bac-ba5c-edd110015136",
   "metadata": {},
   "outputs": [],
   "source": [
    "# Be assure that your qiskit version is 0.4.0\n",
    "# run !pip install --upgrade qiskit==0.4.0 if not "
   ]
  },
  {
   "cell_type": "code",
   "execution_count": 39,
   "id": "9afa67d9-cf2d-47a5-8fe9-affe602f79cd",
   "metadata": {
    "tags": []
   },
   "outputs": [],
   "source": [
    "%%script false --no-raise-error\n",
    "# Define feature_map, optimizer and var_form\n",
    "\n",
    "feature_map = ZZFeatureMap(feature_dimension=feature_dim, reps=2)\n",
    "optimizer = COBYLA(maxiter=20, disp=True, rhobeg=1.0, tol=None)\n",
    "var_form = TwoLocal(feature_dim, ['ry', 'rz'], 'cz', reps=3)\n",
    "\n",
    "\n",
    "# Define the backend\n",
    "\n",
    "backend = qiskit.Aer.get_backend('qasm_simulator')\n",
    "\n",
    "# Define the instance\n",
    "\n",
    "quantum_instance = QuantumInstance(backend, shots=1024, seed_simulator=seed, seed_transpiler=seed)\n",
    "\n",
    "# Model run\n",
    "vqc = QSVC(quantum_kernel=quantum_instance)#optimizer, feature_map, var_form, training_input, test_input, datapoints[0])\n",
    "\n",
    "\n",
    "result = vqc.fit(sample_train, label_train)\n",
    "\n"
   ]
  },
  {
   "cell_type": "code",
   "execution_count": 40,
   "id": "3160da18-b47b-44af-8c84-15c7f3fd30c4",
   "metadata": {},
   "outputs": [
    {
     "data": {
      "text/plain": [
       "'0.21.1'"
      ]
     },
     "execution_count": 40,
     "metadata": {},
     "output_type": "execute_result"
    }
   ],
   "source": [
    "import qiskit\n",
    "qiskit.__version__"
   ]
  },
  {
   "cell_type": "code",
   "execution_count": 33,
   "id": "38c31acd-2c8f-41d4-a0ec-0427af9d908b",
   "metadata": {
    "collapsed": true,
    "jupyter": {
     "outputs_hidden": true
    },
    "tags": []
   },
   "outputs": [
    {
     "name": "stdout",
     "output_type": "stream",
     "text": [
      "\u001b[33mDEPRECATION: Configuring installation scheme with distutils config files is deprecated and will no longer work in the near future. If you are using a Homebrew or Linuxbrew Python, please see discussion at https://github.com/Homebrew/homebrew-core/issues/76621\u001b[0m\u001b[33m\n",
      "\u001b[0mRequirement already satisfied: qiskit in /opt/homebrew/lib/python3.9/site-packages (0.37.1)\n",
      "Requirement already satisfied: qiskit-aer==0.10.4 in /opt/homebrew/lib/python3.9/site-packages (from qiskit) (0.10.4)\n",
      "Requirement already satisfied: qiskit-ibmq-provider==0.19.2 in /opt/homebrew/lib/python3.9/site-packages (from qiskit) (0.19.2)\n",
      "Requirement already satisfied: qiskit-terra==0.21.1 in /opt/homebrew/lib/python3.9/site-packages (from qiskit) (0.21.1)\n",
      "Requirement already satisfied: scipy>=1.0 in /opt/homebrew/lib/python3.9/site-packages (from qiskit-aer==0.10.4->qiskit) (1.8.1)\n",
      "Requirement already satisfied: numpy>=1.16.3 in /opt/homebrew/lib/python3.9/site-packages (from qiskit-aer==0.10.4->qiskit) (1.23.1)\n",
      "Requirement already satisfied: websocket-client>=1.0.1 in /opt/homebrew/lib/python3.9/site-packages (from qiskit-ibmq-provider==0.19.2->qiskit) (1.3.3)\n",
      "Requirement already satisfied: urllib3>=1.21.1 in /opt/homebrew/lib/python3.9/site-packages (from qiskit-ibmq-provider==0.19.2->qiskit) (1.26.10)\n",
      "Requirement already satisfied: python-dateutil>=2.8.0 in /opt/homebrew/lib/python3.9/site-packages (from qiskit-ibmq-provider==0.19.2->qiskit) (2.8.2)\n",
      "Requirement already satisfied: websockets>=10.0 in /opt/homebrew/lib/python3.9/site-packages (from qiskit-ibmq-provider==0.19.2->qiskit) (10.3)\n",
      "Requirement already satisfied: requests>=2.19 in /opt/homebrew/lib/python3.9/site-packages (from qiskit-ibmq-provider==0.19.2->qiskit) (2.28.1)\n",
      "Requirement already satisfied: requests-ntlm>=1.1.0 in /opt/homebrew/lib/python3.9/site-packages (from qiskit-ibmq-provider==0.19.2->qiskit) (1.1.0)\n",
      "Requirement already satisfied: dill>=0.3 in /opt/homebrew/lib/python3.9/site-packages (from qiskit-terra==0.21.1->qiskit) (0.3.5.1)\n",
      "Requirement already satisfied: ply>=3.10 in /opt/homebrew/lib/python3.9/site-packages (from qiskit-terra==0.21.1->qiskit) (3.11)\n",
      "Requirement already satisfied: sympy>=1.3 in /opt/homebrew/lib/python3.9/site-packages (from qiskit-terra==0.21.1->qiskit) (1.10.1)\n",
      "Requirement already satisfied: tweedledum<2.0,>=1.1 in /opt/homebrew/lib/python3.9/site-packages (from qiskit-terra==0.21.1->qiskit) (1.1.1)\n",
      "Requirement already satisfied: symengine>=0.9 in /opt/homebrew/lib/python3.9/site-packages (from qiskit-terra==0.21.1->qiskit) (0.9.2)\n",
      "Requirement already satisfied: stevedore>=3.0.0 in /opt/homebrew/lib/python3.9/site-packages (from qiskit-terra==0.21.1->qiskit) (4.0.0)\n",
      "Requirement already satisfied: retworkx>=0.11.0 in /opt/homebrew/lib/python3.9/site-packages (from qiskit-terra==0.21.1->qiskit) (0.11.0)\n",
      "Requirement already satisfied: psutil>=5 in /opt/homebrew/lib/python3.9/site-packages (from qiskit-terra==0.21.1->qiskit) (5.9.1)\n",
      "Requirement already satisfied: six>=1.5 in /opt/homebrew/lib/python3.9/site-packages (from python-dateutil>=2.8.0->qiskit-ibmq-provider==0.19.2->qiskit) (1.16.0)\n",
      "Requirement already satisfied: charset-normalizer<3,>=2 in /opt/homebrew/lib/python3.9/site-packages (from requests>=2.19->qiskit-ibmq-provider==0.19.2->qiskit) (2.1.0)\n",
      "Requirement already satisfied: certifi>=2017.4.17 in /opt/homebrew/lib/python3.9/site-packages (from requests>=2.19->qiskit-ibmq-provider==0.19.2->qiskit) (2022.6.15)\n",
      "Requirement already satisfied: idna<4,>=2.5 in /opt/homebrew/lib/python3.9/site-packages (from requests>=2.19->qiskit-ibmq-provider==0.19.2->qiskit) (3.3)\n",
      "Requirement already satisfied: ntlm-auth>=1.0.2 in /opt/homebrew/lib/python3.9/site-packages (from requests-ntlm>=1.1.0->qiskit-ibmq-provider==0.19.2->qiskit) (1.5.0)\n",
      "Requirement already satisfied: cryptography>=1.3 in /opt/homebrew/lib/python3.9/site-packages (from requests-ntlm>=1.1.0->qiskit-ibmq-provider==0.19.2->qiskit) (37.0.4)\n",
      "Requirement already satisfied: pbr!=2.1.0,>=2.0.0 in /opt/homebrew/lib/python3.9/site-packages (from stevedore>=3.0.0->qiskit-terra==0.21.1->qiskit) (5.9.0)\n",
      "Requirement already satisfied: mpmath>=0.19 in /opt/homebrew/lib/python3.9/site-packages (from sympy>=1.3->qiskit-terra==0.21.1->qiskit) (1.2.1)\n",
      "Requirement already satisfied: cffi>=1.12 in /opt/homebrew/lib/python3.9/site-packages (from cryptography>=1.3->requests-ntlm>=1.1.0->qiskit-ibmq-provider==0.19.2->qiskit) (1.15.1)\n",
      "Requirement already satisfied: pycparser in /opt/homebrew/lib/python3.9/site-packages (from cffi>=1.12->cryptography>=1.3->requests-ntlm>=1.1.0->qiskit-ibmq-provider==0.19.2->qiskit) (2.21)\n",
      "\u001b[33mDEPRECATION: Configuring installation scheme with distutils config files is deprecated and will no longer work in the near future. If you are using a Homebrew or Linuxbrew Python, please see discussion at https://github.com/Homebrew/homebrew-core/issues/76621\u001b[0m\u001b[33m\n",
      "\u001b[0m"
     ]
    }
   ],
   "source": [
    "!pip3 install --upgrade qiskit #==0.4.0"
   ]
  },
  {
   "cell_type": "markdown",
   "id": "3b70b837-4e39-4b65-83ca-8e82fc83efa1",
   "metadata": {},
   "source": [
    "## Pennylane"
   ]
  },
  {
   "cell_type": "code",
   "execution_count": 41,
   "id": "ff1d5656-f2f2-4d96-b210-a75a161cdb39",
   "metadata": {},
   "outputs": [],
   "source": [
    "from pennylane import numpy as np"
   ]
  },
  {
   "cell_type": "code",
   "execution_count": 42,
   "id": "07ec49f5-c401-4c36-aae3-57aad3eaa0ba",
   "metadata": {},
   "outputs": [],
   "source": [
    "# Angle Encoding\n",
    "\n",
    "num_qubits = n_dim\n",
    "\n",
    "dev = qml.device('default.qubit', wires = num_qubits)\n",
    "\n",
    "@qml.qnode(dev)\n",
    "def circuit(parameters, data):\n",
    "    for i in range(num_qubits):\n",
    "        qml.Hadamard(wires = i)\n",
    "    \n",
    "    AngleEmbedding(features = data, wires = range(num_qubits), rotation = 'Y')\n",
    "    \n",
    "    qml.StronglyEntanglingLayers(weights = parameters, wires = range(num_qubits))\n",
    "    \n",
    "    return qml.expval(qml.PauliZ(0))"
   ]
  },
  {
   "cell_type": "code",
   "execution_count": 43,
   "id": "ffcf8fdb-37a0-4b64-b73c-76be553995e8",
   "metadata": {},
   "outputs": [],
   "source": [
    "num_layers = 5\n",
    "weights_init = 0.01 * np.random.randn(num_layers, num_qubits, 3, requires_grad=True)\n",
    "bias_init = np.array(0.0, requires_grad=True)\n",
    "\n",
    "#print(weights_init, bias_init)"
   ]
  },
  {
   "cell_type": "code",
   "execution_count": 44,
   "id": "49568595-37ec-4749-a230-dc4c6dae2500",
   "metadata": {},
   "outputs": [
    {
     "data": {
      "text/plain": [
       "tensor(0.54732857, requires_grad=True)"
      ]
     },
     "execution_count": 44,
     "metadata": {},
     "output_type": "execute_result"
    }
   ],
   "source": [
    "circuit(weights_init, sample_train[0])"
   ]
  },
  {
   "cell_type": "code",
   "execution_count": 45,
   "id": "4febb380-0955-4f05-a872-326cc4e3a27c",
   "metadata": {},
   "outputs": [],
   "source": [
    "def variational_classifier(weights, bias, x):\n",
    "    return circuit(weights, x) + bias"
   ]
  },
  {
   "cell_type": "code",
   "execution_count": 46,
   "id": "c16a1f84-63e5-4fbb-a647-cba6db4c6c4c",
   "metadata": {},
   "outputs": [],
   "source": [
    "def square_loss(labels, predictions):\n",
    "    loss = 0\n",
    "    for l, p in zip(labels, predictions):\n",
    "        loss = loss + (l - p) ** 2\n",
    "\n",
    "    loss = loss / len(labels)\n",
    "    return loss"
   ]
  },
  {
   "cell_type": "code",
   "execution_count": 47,
   "id": "07412a53-c93b-4c73-bd0b-e7e144454435",
   "metadata": {},
   "outputs": [],
   "source": [
    "def accuracy(labels, predictions):\n",
    "\n",
    "    loss = 0\n",
    "    for l, p in zip(labels, predictions):\n",
    "        if abs(l - p) < 1e-5:\n",
    "            loss = loss + 1\n",
    "    loss = loss / len(labels)\n",
    "\n",
    "    return loss"
   ]
  },
  {
   "cell_type": "code",
   "execution_count": 48,
   "id": "1bf0b58e-38f3-4c45-a4d2-3d69af787ba3",
   "metadata": {},
   "outputs": [],
   "source": [
    "def cost(weights, bias, X, Y):\n",
    "    predictions = [variational_classifier(weights, bias, x) for x in X]\n",
    "    return square_loss(Y, predictions)"
   ]
  },
  {
   "cell_type": "code",
   "execution_count": 49,
   "id": "21ff4aa6-c15b-4a59-a718-67d8da2402dd",
   "metadata": {},
   "outputs": [
    {
     "name": "stdout",
     "output_type": "stream",
     "text": [
      "X = [tensor(-0.99341934, requires_grad=True), tensor(-0.68815636, requires_grad=True)], Y = -1\n",
      "X = [tensor(-0.99429376, requires_grad=True), tensor(-0.67655443, requires_grad=True)], Y = -1\n",
      "X = [tensor(-0.96475475, requires_grad=True), tensor(-0.67687098, requires_grad=True)], Y = -1\n",
      "X = [tensor(-0.99353895, requires_grad=True), tensor(-0.67725454, requires_grad=True)], Y = -1\n",
      "X = [tensor(-0.98894799, requires_grad=True), tensor(-0.69071348, requires_grad=True)], Y = -1\n"
     ]
    }
   ],
   "source": [
    "Y = np.array(label_train * 2 - np.ones(len(label_train)),requires_grad=True)  # shift label from {0, 1} to {-1, 1}\n",
    "X = np.array(sample_train, requires_grad=True)\n",
    "\n",
    "for i in range(5):\n",
    "    print(\"X = {}, Y = {: d}\".format(list(X[i]), int(Y[i])))"
   ]
  },
  {
   "cell_type": "code",
   "execution_count": 50,
   "id": "074f578a-1984-4814-9070-7b20063c8bd1",
   "metadata": {},
   "outputs": [],
   "source": [
    "opt = AdamOptimizer(stepsize=0.1, beta1=0.9, beta2=0.99, eps=1e-08)\n",
    "batch_size = 10"
   ]
  },
  {
   "cell_type": "code",
   "execution_count": 56,
   "id": "2d31d6a7-74f4-4e63-b1cb-b92bfb610a5a",
   "metadata": {},
   "outputs": [
    {
     "name": "stdout",
     "output_type": "stream",
     "text": [
      "New best\n",
      "Iter:     1 | Cost: 1.4937741 | f1: 0.4047856 \n",
      "New best\n",
      "Iter:     2 | Cost: 1.0040515 | f1: 0.4171123 \n",
      "Iter:     3 | Cost: 0.7622794 | f1: 0.0000000 \n",
      "Iter:     4 | Cost: 0.8079441 | f1: 0.0000000 \n",
      "Iter:     5 | Cost: 0.9365097 | f1: 0.0000000 \n",
      "Iter:     6 | Cost: 0.9992449 | f1: 0.0000000 \n",
      "Iter:     7 | Cost: 0.9865623 | f1: 0.0000000 \n",
      "Iter:     8 | Cost: 0.9493846 | f1: 0.0000000 \n",
      "Iter:     9 | Cost: 0.8797505 | f1: 0.0000000 \n",
      "Iter:    10 | Cost: 0.8216910 | f1: 0.0000000 \n",
      "Iter:    11 | Cost: 0.7739921 | f1: 0.0000000 \n",
      "Iter:    12 | Cost: 0.7544736 | f1: 0.0000000 \n",
      "Iter:    13 | Cost: 0.8364440 | f1: 0.0000000 \n",
      "Iter:    14 | Cost: 0.9298691 | f1: 0.0384615 \n",
      "Iter:    15 | Cost: 0.9247190 | f1: 0.0289855 \n",
      "Iter:    16 | Cost: 0.9031347 | f1: 0.0097561 \n",
      "Iter:    17 | Cost: 0.8211278 | f1: 0.0000000 \n",
      "Iter:    18 | Cost: 0.7671225 | f1: 0.0000000 \n",
      "Iter:    19 | Cost: 0.7518270 | f1: 0.0000000 \n",
      "Iter:    20 | Cost: 0.7568464 | f1: 0.0000000 \n",
      "Iter:    21 | Cost: 0.8002544 | f1: 0.0000000 \n",
      "Iter:    22 | Cost: 0.8458523 | f1: 0.0000000 \n",
      "Iter:    23 | Cost: 0.8629485 | f1: 0.0000000 \n",
      "Iter:    24 | Cost: 0.8334110 | f1: 0.0000000 \n",
      "Iter:    25 | Cost: 0.7926428 | f1: 0.0000000 \n",
      "Iter:    26 | Cost: 0.7613369 | f1: 0.0000000 \n",
      "Iter:    27 | Cost: 0.7517334 | f1: 0.0000000 \n",
      "Iter:    28 | Cost: 0.7549015 | f1: 0.0000000 \n",
      "Iter:    29 | Cost: 0.7576809 | f1: 0.0000000 \n",
      "Iter:    30 | Cost: 0.7575306 | f1: 0.0000000 \n",
      "Iter:    31 | Cost: 0.7531476 | f1: 0.0000000 \n",
      "Iter:    32 | Cost: 0.7519669 | f1: 0.0000000 \n",
      "Iter:    33 | Cost: 0.7532530 | f1: 0.0000000 \n",
      "Iter:    34 | Cost: 0.7536668 | f1: 0.0000000 \n",
      "Iter:    35 | Cost: 0.7531488 | f1: 0.0000000 \n",
      "Iter:    36 | Cost: 0.7548504 | f1: 0.0000000 \n",
      "Iter:    37 | Cost: 0.7553367 | f1: 0.0000000 \n",
      "Iter:    38 | Cost: 0.7593456 | f1: 0.0000000 \n",
      "Iter:    39 | Cost: 0.7750860 | f1: 0.0000000 \n",
      "Iter:    40 | Cost: 0.7804322 | f1: 0.0000000 \n",
      "Iter:    41 | Cost: 0.7769875 | f1: 0.0000000 \n",
      "Iter:    42 | Cost: 0.7726331 | f1: 0.0000000 \n",
      "Iter:    43 | Cost: 0.7598407 | f1: 0.0000000 \n",
      "Iter:    44 | Cost: 0.7538410 | f1: 0.0000000 \n",
      "Iter:    45 | Cost: 0.7528485 | f1: 0.0000000 \n",
      "Iter:    46 | Cost: 0.7526243 | f1: 0.0000000 \n",
      "Iter:    47 | Cost: 0.7524519 | f1: 0.0000000 \n",
      "Iter:    48 | Cost: 0.7533563 | f1: 0.0000000 \n",
      "Iter:    49 | Cost: 0.7547942 | f1: 0.0000000 \n",
      "Iter:    50 | Cost: 0.7551306 | f1: 0.0000000 \n",
      "Iter:    51 | Cost: 0.7587757 | f1: 0.0000000 \n",
      "Iter:    52 | Cost: 0.7571434 | f1: 0.0000000 \n",
      "Iter:    53 | Cost: 0.7625038 | f1: 0.0000000 \n",
      "Iter:    54 | Cost: 0.7803816 | f1: 0.0000000 \n",
      "Iter:    55 | Cost: 0.8016327 | f1: 0.0000000 \n",
      "Iter:    56 | Cost: 0.8202315 | f1: 0.0000000 \n",
      "Iter:    57 | Cost: 0.8310730 | f1: 0.0000000 \n",
      "Iter:    58 | Cost: 0.8544185 | f1: 0.0000000 \n",
      "Iter:    59 | Cost: 0.8643783 | f1: 0.0000000 \n",
      "Iter:    60 | Cost: 0.8599112 | f1: 0.0000000 \n",
      "Iter:    61 | Cost: 0.8431908 | f1: 0.0000000 \n",
      "Iter:    62 | Cost: 0.8026992 | f1: 0.0000000 \n",
      "Iter:    63 | Cost: 0.7789400 | f1: 0.0000000 \n",
      "Iter:    64 | Cost: 0.7569775 | f1: 0.0000000 \n",
      "Iter:    65 | Cost: 0.7530660 | f1: 0.0000000 \n",
      "Iter:    66 | Cost: 0.7672705 | f1: 0.0000000 \n",
      "Iter:    67 | Cost: 0.7852142 | f1: 0.0000000 \n",
      "Iter:    68 | Cost: 0.7937746 | f1: 0.0000000 \n",
      "Iter:    69 | Cost: 0.7802192 | f1: 0.0000000 \n",
      "Iter:    70 | Cost: 0.7584364 | f1: 0.0000000 \n",
      "Iter:    71 | Cost: 0.7522977 | f1: 0.0000000 \n",
      "Iter:    72 | Cost: 0.7615198 | f1: 0.0000000 \n",
      "Iter:    73 | Cost: 0.7763082 | f1: 0.0000000 \n",
      "Iter:    74 | Cost: 0.8180486 | f1: 0.0000000 \n",
      "Iter:    75 | Cost: 0.8588228 | f1: 0.0000000 \n",
      "Iter:    76 | Cost: 0.9011610 | f1: 0.0000000 \n",
      "Iter:    77 | Cost: 0.8925130 | f1: 0.0000000 \n",
      "Iter:    78 | Cost: 0.8048438 | f1: 0.0000000 \n",
      "Iter:    79 | Cost: 0.7566934 | f1: 0.0000000 \n",
      "Iter:    80 | Cost: 0.7545116 | f1: 0.0000000 \n",
      "Iter:    81 | Cost: 0.7654223 | f1: 0.0000000 \n",
      "Iter:    82 | Cost: 0.7690252 | f1: 0.0000000 \n",
      "Iter:    83 | Cost: 0.7746376 | f1: 0.0000000 \n",
      "Iter:    84 | Cost: 0.7673146 | f1: 0.0000000 \n",
      "Iter:    85 | Cost: 0.7577051 | f1: 0.0000000 \n",
      "Iter:    86 | Cost: 0.7528814 | f1: 0.0000000 \n",
      "Iter:    87 | Cost: 0.7584795 | f1: 0.0000000 \n",
      "Iter:    88 | Cost: 0.7638604 | f1: 0.0000000 \n",
      "Iter:    89 | Cost: 0.7703045 | f1: 0.0000000 \n",
      "Iter:    90 | Cost: 0.7765357 | f1: 0.0000000 \n",
      "Iter:    91 | Cost: 0.7674097 | f1: 0.0000000 \n",
      "Iter:    92 | Cost: 0.7711514 | f1: 0.0000000 \n",
      "Iter:    93 | Cost: 0.7675711 | f1: 0.0000000 \n",
      "Iter:    94 | Cost: 0.7642125 | f1: 0.0000000 \n",
      "Iter:    95 | Cost: 0.7614500 | f1: 0.0000000 \n",
      "Iter:    96 | Cost: 0.7563276 | f1: 0.0000000 \n",
      "Iter:    97 | Cost: 0.7529993 | f1: 0.0000000 \n",
      "Iter:    98 | Cost: 0.7570991 | f1: 0.0000000 \n",
      "Iter:    99 | Cost: 0.7579405 | f1: 0.0000000 \n",
      "Iter:   100 | Cost: 0.7628453 | f1: 0.0000000 \n",
      "Iter:   101 | Cost: 0.7739037 | f1: 0.0000000 \n",
      "Iter:   102 | Cost: 0.7926441 | f1: 0.0000000 \n",
      "Iter:   103 | Cost: 0.8187276 | f1: 0.0000000 \n",
      "Iter:   104 | Cost: 0.8373317 | f1: 0.0000000 \n",
      "Iter:   105 | Cost: 0.8235420 | f1: 0.0000000 \n",
      "Iter:   106 | Cost: 0.7970842 | f1: 0.0000000 \n",
      "Iter:   107 | Cost: 0.7873690 | f1: 0.0000000 \n",
      "Iter:   108 | Cost: 0.7770245 | f1: 0.0000000 \n",
      "Iter:   109 | Cost: 0.7640668 | f1: 0.0000000 \n",
      "Iter:   110 | Cost: 0.7547371 | f1: 0.0000000 \n",
      "Iter:   111 | Cost: 0.7528433 | f1: 0.0000000 \n",
      "Iter:   112 | Cost: 0.7528244 | f1: 0.0000000 \n",
      "Iter:   113 | Cost: 0.7533118 | f1: 0.0000000 \n",
      "Iter:   114 | Cost: 0.7529380 | f1: 0.0000000 \n",
      "Iter:   115 | Cost: 0.7534244 | f1: 0.0000000 \n",
      "Iter:   116 | Cost: 0.7535049 | f1: 0.0000000 \n",
      "Iter:   117 | Cost: 0.7530767 | f1: 0.0000000 \n",
      "Iter:   118 | Cost: 0.7529919 | f1: 0.0000000 \n",
      "Iter:   119 | Cost: 0.7531062 | f1: 0.0000000 \n",
      "Iter:   120 | Cost: 0.7529038 | f1: 0.0000000 \n",
      "Iter:   121 | Cost: 0.7532286 | f1: 0.0000000 \n",
      "Iter:   122 | Cost: 0.7581345 | f1: 0.0000000 \n",
      "Iter:   123 | Cost: 0.7608980 | f1: 0.0000000 \n",
      "Iter:   124 | Cost: 0.7719387 | f1: 0.0000000 \n",
      "Iter:   125 | Cost: 0.7848558 | f1: 0.0000000 \n",
      "Iter:   126 | Cost: 0.7906318 | f1: 0.0000000 \n",
      "Iter:   127 | Cost: 0.8067712 | f1: 0.0000000 \n",
      "Iter:   128 | Cost: 0.8189069 | f1: 0.0000000 \n",
      "Iter:   129 | Cost: 0.8094816 | f1: 0.0000000 \n",
      "Iter:   130 | Cost: 0.7910249 | f1: 0.0000000 \n",
      "Iter:   131 | Cost: 0.7750274 | f1: 0.0000000 \n",
      "Iter:   132 | Cost: 0.7669911 | f1: 0.0000000 \n",
      "Iter:   133 | Cost: 0.7609832 | f1: 0.0000000 \n",
      "Iter:   134 | Cost: 0.7570375 | f1: 0.0000000 \n",
      "Iter:   135 | Cost: 0.7525315 | f1: 0.0000000 \n",
      "Iter:   136 | Cost: 0.7577679 | f1: 0.0000000 \n",
      "Iter:   137 | Cost: 0.7717294 | f1: 0.0000000 \n",
      "Iter:   138 | Cost: 0.7903464 | f1: 0.0000000 \n",
      "Iter:   139 | Cost: 0.8269620 | f1: 0.0000000 \n",
      "Iter:   140 | Cost: 0.8592665 | f1: 0.0000000 \n",
      "Iter:   141 | Cost: 0.8640685 | f1: 0.0000000 \n",
      "Iter:   142 | Cost: 0.8416192 | f1: 0.0000000 \n",
      "Iter:   143 | Cost: 0.7979710 | f1: 0.0000000 \n",
      "Iter:   144 | Cost: 0.7590655 | f1: 0.0000000 \n",
      "Iter:   145 | Cost: 0.7552721 | f1: 0.0000000 \n",
      "Iter:   146 | Cost: 0.7812698 | f1: 0.0000000 \n",
      "Iter:   147 | Cost: 0.8151163 | f1: 0.0000000 \n",
      "Iter:   148 | Cost: 0.8261844 | f1: 0.0000000 \n",
      "Iter:   149 | Cost: 0.8050494 | f1: 0.0000000 \n",
      "Iter:   150 | Cost: 0.7889824 | f1: 0.0000000 \n"
     ]
    }
   ],
   "source": [
    "weights = weights_init\n",
    "bias = bias_init\n",
    "\n",
    "wbest = 0\n",
    "bbest = 0\n",
    "abest = 0\n",
    "ccost = 0 \n",
    "for it in range(150):\n",
    "\n",
    "    # weights update by one optimizer step\n",
    "\n",
    "    batch_index = np.random.randint(0, len(X), (batch_size,))\n",
    "    X_batch = X[batch_index]\n",
    "    Y_batch = Y[batch_index]\n",
    "    weights, bias, _, _ = opt.step(cost, weights, bias, X_batch, Y_batch)\n",
    "\n",
    "    # Compute the accuracy\n",
    "    predictions = [np.sign(variational_classifier(weights, bias, x)) for x in X]\n",
    "    \n",
    "    '''if accuracy(Y, predictions) > abest:\n",
    "        wbest = weights\n",
    "        bbest = bias\n",
    "        abest = accuracy(Y, predictions)\n",
    "        print('New best')\n",
    "\n",
    "    acc = accuracy(Y, predictions)\n",
    "\n",
    "    print(\n",
    "        \"Iter: {:5d} | Cost: {:0.7f} | Accuracy: {:0.7f} \".format(\n",
    "            it + 1, cost(weights, bias, X, Y), acc\n",
    "        )\n",
    "    )'''\n",
    "    prec = metrics.f1_score(Y, predictions, average='binary', pos_label=1)\n",
    "    if  prec > abest or ((prec == abest) and (cost(weights, bias, X, Y) < ccost)):\n",
    "        wbest = weights\n",
    "        bbest = bias\n",
    "        abest = prec\n",
    "        ccost = cost(weights, bias, X, Y)\n",
    "        print('New best')\n",
    "    #prec = metrics.precision_score(Y, predictions, average='binary')\n",
    "    print(\n",
    "        \"Iter: {:5d} | Cost: {:0.7f} | f1: {:0.7f} \".format(\n",
    "            it + 1, cost(weights, bias, X, Y), prec\n",
    "        )\n",
    "    )\n",
    "    \n",
    "    "
   ]
  },
  {
   "cell_type": "code",
   "execution_count": 57,
   "id": "ee2dceeb-5b76-4ec7-9ebb-efb9e562cf8a",
   "metadata": {},
   "outputs": [],
   "source": [
    "Yte = np.array(label_test * 2 - np.ones(len(label_test)))\n",
    "Xte = np.array(normalize(sample_test))"
   ]
  },
  {
   "cell_type": "code",
   "execution_count": 58,
   "id": "4416ed73-4c7d-44e3-a539-9dba3191327d",
   "metadata": {},
   "outputs": [
    {
     "name": "stdout",
     "output_type": "stream",
     "text": [
      "Cost: 0.8710350271237085, Accuracy: 76.0%\n"
     ]
    }
   ],
   "source": [
    "predictions = [np.sign(variational_classifier(wbest, bbest, x)) for x in Xte]\n",
    "pred = [np.sign(variational_classifier(wbest, bbest, x)) for x in X]\n",
    "acc = accuracy(Yte, predictions)\n",
    "\n",
    "print(f'Cost: {cost(wbest, bbest, Xte, Yte)}, Accuracy: {np.round(acc, 2) * 100}%')"
   ]
  },
  {
   "cell_type": "code",
   "execution_count": 59,
   "id": "a4a2955a-d877-4885-ad84-5f31458a7c94",
   "metadata": {},
   "outputs": [
    {
     "name": "stdout",
     "output_type": "stream",
     "text": [
      "              precision    recall  f1-score   support\n",
      "\n",
      "        -1.0       0.99      0.77      0.87       199\n",
      "         1.0       0.00      0.00      0.00         1\n",
      "\n",
      "    accuracy                           0.77       200\n",
      "   macro avg       0.50      0.38      0.43       200\n",
      "weighted avg       0.99      0.77      0.86       200\n",
      "\n"
     ]
    }
   ],
   "source": [
    "print(metrics.classification_report(predictions,Yte))"
   ]
  },
  {
   "cell_type": "code",
   "execution_count": 60,
   "id": "dcedeada-a82f-4e82-b738-6a862dc801c8",
   "metadata": {},
   "outputs": [
    {
     "name": "stdout",
     "output_type": "stream",
     "text": [
      "\n",
      "\n",
      "    Precision: 0.0%\n",
      "    Recall: 0.0%\n",
      "    f1: 0.0%\n",
      "    Accuracy: 76.5%\n",
      "    Balanced accuracy: 38.44%\n",
      "    Matthew corcorref: -3.87%\n",
      "    \n"
     ]
    }
   ],
   "source": [
    "print(f'''\n",
    "\n",
    "    Precision: {round(100*metrics.precision_score(predictions,Yte),2)}%\n",
    "    Recall: {round(100*metrics.recall_score(predictions,Yte),2)}%\n",
    "    f1: {round(100*metrics.f1_score(predictions,Yte),2)}%\n",
    "    Accuracy: {round(100*metrics.accuracy_score(predictions,Yte),2)}%\n",
    "    Balanced accuracy: {round(100*metrics.balanced_accuracy_score(predictions,Yte),2)}%\n",
    "    Matthew corcorref: {round(100*metrics.matthews_corrcoef(predictions,Yte),2)}%\n",
    "    ''')"
   ]
  },
  {
   "cell_type": "code",
   "execution_count": null,
   "id": "2e5308be-6630-4637-a387-b4f796aeb98d",
   "metadata": {},
   "outputs": [],
   "source": []
  }
 ],
 "metadata": {
  "kernelspec": {
   "display_name": "Python 3 (ipykernel)",
   "language": "python",
   "name": "python3"
  },
  "language_info": {
   "codemirror_mode": {
    "name": "ipython",
    "version": 3
   },
   "file_extension": ".py",
   "mimetype": "text/x-python",
   "name": "python",
   "nbconvert_exporter": "python",
   "pygments_lexer": "ipython3",
   "version": "3.10.6"
  }
 },
 "nbformat": 4,
 "nbformat_minor": 5
}
