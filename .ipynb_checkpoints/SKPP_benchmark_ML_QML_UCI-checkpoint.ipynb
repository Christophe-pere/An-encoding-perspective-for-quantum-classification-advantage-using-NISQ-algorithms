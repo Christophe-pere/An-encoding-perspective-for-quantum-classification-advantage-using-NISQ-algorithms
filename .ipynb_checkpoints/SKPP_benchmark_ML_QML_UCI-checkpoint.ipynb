{
 "cells": [
  {
   "cell_type": "markdown",
   "id": "d41d3fa6-0ae0-490d-a02b-0dbf81799488",
   "metadata": {},
   "source": [
    "# Quantum benchmark"
   ]
  },
  {
   "cell_type": "markdown",
   "id": "d6011e42-1fab-4f9f-ab99-f4f08607517e",
   "metadata": {},
   "source": [
    "## I - Introduction"
   ]
  },
  {
   "cell_type": "code",
   "execution_count": null,
   "id": "13b4f6b4-240b-4b7f-abe4-4e74b3b8cc8a",
   "metadata": {},
   "outputs": [],
   "source": []
  },
  {
   "cell_type": "markdown",
   "id": "bd5492ce-4f08-4755-b4c2-efd698139101",
   "metadata": {},
   "source": [
    "## II - Packages"
   ]
  },
  {
   "cell_type": "code",
   "execution_count": 1,
   "id": "90371200-0133-46ab-a205-d0f6b8858e55",
   "metadata": {},
   "outputs": [],
   "source": [
    "import pandas as pd\n",
    "import matplotlib.pyplot as plt\n",
    "import numpy as np\n",
    "from sklearn.model_selection import train_test_split\n",
    "from sklearn.preprocessing import StandardScaler\n",
    "from sklearn.decomposition import PCA\n",
    "from sklearn.discriminant_analysis import LinearDiscriminantAnalysis as LDA\n",
    "from sklearn.preprocessing import MinMaxScaler\n",
    "from sklearn.svm import SVC\n",
    "from sklearn import metrics\n",
    "from sklearn.ensemble import RandomForestClassifier\n",
    "from sklearn.linear_model import LogisticRegression\n",
    "from sklearn.tree import DecisionTreeClassifier\n",
    "from sklearn.preprocessing import normalize\n",
    "from sklearn.model_selection import cross_val_score, KFold\n",
    "#Import classical libraries\n",
    "from sklearn.neighbors import KNeighborsClassifier\n",
    "from sklearn.naive_bayes import GaussianNB\n",
    "from sklearn.svm import SVC\n",
    "from sklearn.ensemble import RandomForestClassifier\n",
    "from sklearn.model_selection import train_test_split\n",
    "from sklearn import datasets\n",
    "import matplotlib.pyplot as plt\n",
    "from skpp import ProjectionPursuitRegressor\n",
    "\n",
    "plt.style.use('ggplot')\n",
    "\n",
    "import functools\n",
    "\n",
    "from qiskit import BasicAer\n",
    "from qiskit.circuit.library import ZZFeatureMap\n",
    "from qiskit.utils import QuantumInstance, algorithm_globals\n",
    "from qiskit_machine_learning.algorithms import QSVC\n",
    "from qiskit_machine_learning.kernels import QuantumKernel\n",
    "from qiskit_machine_learning.datasets import ad_hoc_data\n",
    "import logging\n",
    "\n",
    "import pennylane as qml\n",
    "from pennylane.templates.embeddings import AngleEmbedding, AmplitudeEmbedding\n",
    "from pennylane.optimize import AdamOptimizer\n",
    "\n",
    "from qiskit.algorithms.optimizers import COBYLA\n",
    "from qiskit.circuit.library import TwoLocal, ZZFeatureMap\n",
    "import qiskit"
   ]
  },
  {
   "cell_type": "code",
   "execution_count": 2,
   "id": "c4552ad2-d5ac-4904-8e45-eafa355e4594",
   "metadata": {},
   "outputs": [],
   "source": [
    "import warnings\n",
    "warnings.filterwarnings('ignore')"
   ]
  },
  {
   "cell_type": "markdown",
   "id": "1598c94c-fdcf-41cd-a4ea-e262932c7e0f",
   "metadata": {},
   "source": [
    "## III - Data "
   ]
  },
  {
   "cell_type": "code",
   "execution_count": 48,
   "id": "e683f3b5-6021-4eb7-bc53-539a5cd79bfc",
   "metadata": {},
   "outputs": [],
   "source": [
    "# Read out CSV\n",
    "\n",
    "df = pd.read_csv('UCI_Credit_Card.csv', sep=',')\n",
    "df = df.sample(1400)"
   ]
  },
  {
   "cell_type": "code",
   "execution_count": 49,
   "id": "bc0eccf2-3599-4e41-9371-fe644e3af6a5",
   "metadata": {},
   "outputs": [
    {
     "data": {
      "text/plain": [
       "Index(['ID', 'LIMIT_BAL', 'SEX', 'EDUCATION', 'MARRIAGE', 'AGE', 'PAY_0',\n",
       "       'PAY_2', 'PAY_3', 'PAY_4', 'PAY_5', 'PAY_6', 'BILL_AMT1', 'BILL_AMT2',\n",
       "       'BILL_AMT3', 'BILL_AMT4', 'BILL_AMT5', 'BILL_AMT6', 'PAY_AMT1',\n",
       "       'PAY_AMT2', 'PAY_AMT3', 'PAY_AMT4', 'PAY_AMT5', 'PAY_AMT6',\n",
       "       'default.payment.next.month'],\n",
       "      dtype='object')"
      ]
     },
     "execution_count": 49,
     "metadata": {},
     "output_type": "execute_result"
    }
   ],
   "source": [
    "df.columns"
   ]
  },
  {
   "cell_type": "code",
   "execution_count": 50,
   "id": "10255383-ae13-42c1-8d19-b5cf9eca4d17",
   "metadata": {},
   "outputs": [
    {
     "data": {
      "text/plain": [
       "(1400, 25)"
      ]
     },
     "execution_count": 50,
     "metadata": {},
     "output_type": "execute_result"
    }
   ],
   "source": [
    "df.shape"
   ]
  },
  {
   "cell_type": "code",
   "execution_count": 51,
   "id": "bf69c7f1-b10e-4b54-89ec-89dd5829ac42",
   "metadata": {},
   "outputs": [],
   "source": [
    "%%script false --no-raise-error\n",
    "\n",
    "import sweetviz as sv\n",
    "\n",
    "#EDA using Autoviz\n",
    "sweet_report = sv.analyze(df)\n",
    "\n",
    "#Saving results to HTML file\n",
    "sweet_report.show_html('sweet_report.html')"
   ]
  },
  {
   "cell_type": "markdown",
   "id": "c4ff48fa-d03b-435d-9343-67186c068b34",
   "metadata": {},
   "source": [
    "## IV - Modelisation"
   ]
  },
  {
   "cell_type": "markdown",
   "id": "3dbe1bb7-d7eb-412b-a291-bbeb654766f5",
   "metadata": {},
   "source": [
    "### Classical"
   ]
  },
  {
   "cell_type": "code",
   "execution_count": 52,
   "id": "d7f6037b-3b1c-4a2c-8a9e-df1d432cafa4",
   "metadata": {},
   "outputs": [],
   "source": [
    "df_labels = df['default.payment.next.month']\n",
    "df.drop(['default.payment.next.month'],axis = 1,inplace = True)"
   ]
  },
  {
   "cell_type": "code",
   "execution_count": 53,
   "id": "249ef3a0-7be3-4234-8be6-630db2cd267f",
   "metadata": {},
   "outputs": [],
   "source": [
    "X_train, X_test, y_train, y_test = train_test_split(df, df_labels, test_size=0.2, random_state=42)"
   ]
  },
  {
   "cell_type": "markdown",
   "id": "b1251e3e-c8ed-4e57-a790-1fa8003f8c31",
   "metadata": {},
   "source": [
    "## Quantum Approaches"
   ]
  },
  {
   "cell_type": "code",
   "execution_count": 54,
   "id": "12b4f425-f8b1-40b4-8c3f-4502a9a01a3c",
   "metadata": {},
   "outputs": [
    {
     "data": {
      "text/plain": [
       "tensor([0, 1], requires_grad=True)"
      ]
     },
     "execution_count": 54,
     "metadata": {},
     "output_type": "execute_result"
    }
   ],
   "source": [
    "np.unique(df_labels)"
   ]
  },
  {
   "cell_type": "code",
   "execution_count": 55,
   "id": "0dbfa6ef-34cd-4463-8aa3-a20e7a2ddbad",
   "metadata": {},
   "outputs": [
    {
     "data": {
      "text/plain": [
       "(1120, 24)"
      ]
     },
     "execution_count": 55,
     "metadata": {},
     "output_type": "execute_result"
    }
   ],
   "source": [
    "np.shape(X_train)"
   ]
  },
  {
   "cell_type": "code",
   "execution_count": 56,
   "id": "a948c1c2-cb55-49b2-bb4c-c2d2fdca527a",
   "metadata": {},
   "outputs": [],
   "source": [
    "skpp = ProjectionPursuitRegressor(r=2, fit_type='spline', opt_level='medium').fit(X_train, y_train)"
   ]
  },
  {
   "cell_type": "code",
   "execution_count": 57,
   "id": "b921a949-e3bd-45b6-b0e0-a84f96788811",
   "metadata": {},
   "outputs": [],
   "source": [
    "# SKPP validate transformation (using train fit)\n",
    "x_train_skpp = skpp.transform(X_train)\n",
    "x_test_skpp = skpp.transform(X_test)"
   ]
  },
  {
   "cell_type": "code",
   "execution_count": 58,
   "id": "38d2ce7a-6c7e-49d8-8bcc-fd22530bcf2b",
   "metadata": {},
   "outputs": [],
   "source": [
    "# Arrays to dataframe for join in a single df\n",
    "x_train_skpp = pd.DataFrame(x_train_skpp)\n",
    "x_test_skpp = pd.DataFrame(x_test_skpp)"
   ]
  },
  {
   "cell_type": "code",
   "execution_count": 59,
   "id": "bf9d1f27-ae3b-4bc2-90c7-40754d2728bc",
   "metadata": {},
   "outputs": [],
   "source": [
    "# Second standard scaler normalization (using train fit)\n",
    "std_scale = StandardScaler().fit(x_train_skpp)\n",
    "X_train_skpp_norm = std_scale.transform(x_train_skpp)\n",
    "x_test_skpp_norn = std_scale.transform(x_test_skpp)\n",
    "#x_validate_lda_n = std_scale.transform(x_validate_skpp)"
   ]
  },
  {
   "cell_type": "code",
   "execution_count": 60,
   "id": "8920e169-7d06-46a1-b30e-af7eee11539e",
   "metadata": {},
   "outputs": [
    {
     "data": {
      "text/plain": [
       "2"
      ]
     },
     "execution_count": 60,
     "metadata": {},
     "output_type": "execute_result"
    }
   ],
   "source": [
    "# Dimensions definition for QML\n",
    "n_dim = len(x_train_skpp.columns)\n",
    "n_dim"
   ]
  },
  {
   "cell_type": "code",
   "execution_count": 61,
   "id": "3141a967-8c2f-472e-a934-5ad8ac0d9237",
   "metadata": {},
   "outputs": [
    {
     "data": {
      "text/plain": [
       "[<matplotlib.lines.Line2D at 0x2a67a78e0>,\n",
       " <matplotlib.lines.Line2D at 0x2a67a4a60>]"
      ]
     },
     "execution_count": 61,
     "metadata": {},
     "output_type": "execute_result"
    },
    {
     "data": {
      "image/png": "[encoded data removed]",
      "text/plain": [
       "<Figure size 1000x800 with 1 Axes>"
      ]
     },
     "metadata": {},
     "output_type": "display_data"
    }
   ],
   "source": [
    "plt.figure(figsize=(10,8))\n",
    "plt.plot(x_train_skpp, '+')\n"
   ]
  },
  {
   "cell_type": "markdown",
   "id": "bd626d5c-ff6a-443a-9700-10a93c24dc74",
   "metadata": {},
   "source": [
    "## Split train test "
   ]
  },
  {
   "cell_type": "code",
   "execution_count": 62,
   "id": "afaf0912-bdbf-4460-ae4c-43016d1f5a57",
   "metadata": {},
   "outputs": [],
   "source": [
    "# Split dataset into train and test\n",
    "\n",
    "sample_train, sample_test, label_train, label_test = train_test_split(\n",
    "     X_train_skpp_norm, y_train, test_size=0.2, random_state=22)\n",
    "\n",
    "# Normalize\n",
    "\n",
    "# Select a sample for a better control of the research and wall time\n",
    "\n",
    "train_size = 800#160\n",
    "sample_train = sample_train[:train_size]\n",
    "label_train = label_train[:train_size]\n",
    "\n",
    "test_size = 200 #40\n",
    "sample_test = sample_test[:test_size]\n",
    "label_test = label_test[:test_size]"
   ]
  },
  {
   "cell_type": "code",
   "execution_count": 63,
   "id": "d815edbe-c5e7-42d6-9489-39ebb940cda4",
   "metadata": {},
   "outputs": [],
   "source": [
    "# Basic parameters for hybrid model\n",
    "\n",
    "seed = 8500\n",
    "feature_dim = n_dim\n",
    "num_reps = 2\n",
    "num_shots =256 \n"
   ]
  },
  {
   "cell_type": "markdown",
   "id": "a17bc9af-4a1c-453d-be99-d54b9e045628",
   "metadata": {},
   "source": [
    "## Hybrid"
   ]
  },
  {
   "cell_type": "code",
   "execution_count": 64,
   "id": "c2ce7078-9255-4913-b6aa-7f05a0e077c3",
   "metadata": {},
   "outputs": [],
   "source": [
    "# Define feature_map\n",
    "\n",
    "feature_map = ZZFeatureMap(feature_dimension=feature_dim, reps=num_reps)\n",
    "\n",
    "# Define the backend\n",
    "backend = QuantumInstance(\n",
    "    BasicAer.get_backend(\"qasm_simulator\"), shots=num_shots, seed_simulator=seed, seed_transpiler=seed\n",
    ")\n",
    "\n",
    "# Define the kernel\n",
    "\n",
    "kernel = QuantumKernel(feature_map=feature_map, quantum_instance=backend)\n",
    "\n",
    "# Model run\n",
    "svc = SVC(kernel=kernel.evaluate)\n",
    "#svc.fit(sample_train, label_train)\n",
    "#score = svc.score(sample_test, label_test)\n",
    "\n",
    "#print(f\"Callable kernel classification test score: {score}\")"
   ]
  },
  {
   "cell_type": "code",
   "execution_count": 65,
   "id": "b8fd86d8-bec9-42ac-8543-c69c973a7f01",
   "metadata": {},
   "outputs": [],
   "source": [
    "#result_predict = svc.predict(sample_test)"
   ]
  },
  {
   "cell_type": "code",
   "execution_count": 66,
   "id": "f8cffebe-cf70-4328-8b69-5b0da24914df",
   "metadata": {},
   "outputs": [],
   "source": [
    "from sklearn.model_selection import cross_validate\n",
    "from tqdm import tqdm\n",
    "def evaluate_ml_model(_models, X, y, n_fold=10, metric='precision'):\n",
    "    ''' Function to evaluate a ML and QML model with a list of metrics\n",
    "    \n",
    "    \n",
    "    '''\n",
    "    results = pd.DataFrame()\n",
    "    kfold = KFold(n_splits=n_fold)\n",
    "    columns = []\n",
    "    for name, model in tqdm(_models):\n",
    "        # -------------------\n",
    "        # Variables initialization \n",
    "        _df = pd.DataFrame()\n",
    "        names = []\n",
    "        means = []\n",
    "        stds = []\n",
    "        \n",
    "        # -------------------\n",
    "        # k-fold Cross validation\n",
    "        cv_results = cross_validate(model, X, y, cv=kfold, scoring=metric)\n",
    "        \n",
    "        # -------------------\n",
    "        # Compute the mean and standard deviation \n",
    "        for _name, _array in cv_results.items():\n",
    "            names.append(_name)\n",
    "            means.append(round(100*_array.mean(), 2))\n",
    "            stds.append(round(100*_array.std(), 2))\n",
    "        # -------------------\n",
    "        # Save the results in a dataframe \n",
    "        _df =  pd.DataFrame([means, stds], columns=names)\n",
    "        columns.extend([name+' mean (%)', name+' std (%)'])\n",
    "        #results = results.join(_df, on=_df.index)\n",
    "        results = results.append(_df)\n",
    "    results.index = columns\n",
    "    print(results)\n",
    "    return results"
   ]
  },
  {
   "cell_type": "code",
   "execution_count": 67,
   "id": "cdf4a1b8-99c3-4674-9ee9-f4f8177d11f8",
   "metadata": {},
   "outputs": [],
   "source": [
    "models = []\n",
    "models.append(('LR', LogisticRegression(max_iter=1000)))\n",
    "models.append(('KNN', KNeighborsClassifier()))\n",
    "models.append(('CART', DecisionTreeClassifier()))\n",
    "models.append(('NB', GaussianNB()))\n",
    "models.append(('SVM', SVC()))\n",
    "models.append(('QSVC', svc))\n",
    "_metrics = ['precision', 'recall', 'f1', 'accuracy',  'matthews_corrcoef','balanced_accuracy']"
   ]
  },
  {
   "cell_type": "code",
   "execution_count": 68,
   "id": "c3d9c241-b0b8-4730-8b2f-58e38c247ec7",
   "metadata": {},
   "outputs": [],
   "source": [
    "df_results = pd.DataFrame()"
   ]
  },
  {
   "cell_type": "code",
   "execution_count": 69,
   "id": "ed9d682b-6c17-452f-9625-adbf9abd8215",
   "metadata": {},
   "outputs": [
    {
     "name": "stderr",
     "output_type": "stream",
     "text": [
      "100%|██████████████████████████████████████████| 6/6 [1:05:26<00:00, 654.50s/it]"
     ]
    },
    {
     "name": "stdout",
     "output_type": "stream",
     "text": [
      "               fit_time  score_time  test_precision  test_recall  test_f1  \\\n",
      "LR mean (%)        0.23        0.17           74.12        28.58    40.66   \n",
      "LR std (%)         0.32        0.06           15.51         8.58    10.14   \n",
      "KNN mean (%)       0.04        0.23           59.37        36.18    43.85   \n",
      "KNN std (%)        0.01        0.05            9.33         9.87     8.48   \n",
      "CART mean (%)      0.16        0.15           34.40        36.70    35.13   \n",
      "CART std (%)       0.09        0.04            8.39        13.78    10.53   \n",
      "NB mean (%)        0.07        0.17           66.66        25.42    36.27   \n",
      "NB std (%)         0.08        0.06           14.72         9.45    11.71   \n",
      "SVM mean (%)       0.59        0.25           83.45        28.62    41.83   \n",
      "SVM std (%)        0.07        0.02           16.05         8.78    10.09   \n",
      "qsvc mean (%)  33149.72     6117.63            0.00         0.00     0.00   \n",
      "qsvc std (%)    7395.63      725.12            0.00         0.00     0.00   \n",
      "\n",
      "               test_accuracy  test_matthews_corrcoef  test_balanced_accuracy  \n",
      "LR mean (%)            80.62                   37.16                   62.64  \n",
      "LR std (%)              3.76                   11.54                    4.72  \n",
      "KNN mean (%)           78.62                   33.71                   63.97  \n",
      "KNN std (%)             3.85                    8.71                    4.67  \n",
      "CART mean (%)          69.00                   15.15                   57.94  \n",
      "CART std (%)            5.15                   13.59                    7.37  \n",
      "NB mean (%)            79.50                   31.74                   60.82  \n",
      "NB std (%)              3.59                   12.55                    5.00  \n",
      "SVM mean (%)           81.50                   41.00                   63.23  \n",
      "SVM std (%)             3.78                   11.03                    4.59  \n",
      "qsvc mean (%)          76.38                    0.00                   50.00  \n",
      "qsvc std (%)            2.71                    0.00                    0.00  \n"
     ]
    },
    {
     "name": "stderr",
     "output_type": "stream",
     "text": [
      "\n"
     ]
    }
   ],
   "source": [
    "df_results = evaluate_ml_model(models, sample_train, label_train, n_fold=10, metric=_metrics)"
   ]
  },
  {
   "cell_type": "code",
   "execution_count": 70,
   "id": "8561d92d-f3ee-4045-b6e5-98097a82f364",
   "metadata": {},
   "outputs": [
    {
     "data": {
      "text/html": [
       "<div>\n",
       "<style scoped>\n",
       "    .dataframe tbody tr th:only-of-type {\n",
       "        vertical-align: middle;\n",
       "    }\n",
       "\n",
       "    .dataframe tbody tr th {\n",
       "        vertical-align: top;\n",
       "    }\n",
       "\n",
       "    .dataframe thead th {\n",
       "        text-align: right;\n",
       "    }\n",
       "</style>\n",
       "<table border=\"1\" class=\"dataframe\">\n",
       "  <thead>\n",
       "    <tr style=\"text-align: right;\">\n",
       "      <th></th>\n",
       "      <th>fit_time</th>\n",
       "      <th>score_time</th>\n",
       "      <th>test_precision</th>\n",
       "      <th>test_recall</th>\n",
       "      <th>test_f1</th>\n",
       "      <th>test_accuracy</th>\n",
       "      <th>test_matthews_corrcoef</th>\n",
       "      <th>test_balanced_accuracy</th>\n",
       "    </tr>\n",
       "  </thead>\n",
       "  <tbody>\n",
       "    <tr>\n",
       "      <th>LR mean (%)</th>\n",
       "      <td>0.23</td>\n",
       "      <td>0.17</td>\n",
       "      <td>74.12</td>\n",
       "      <td>28.58</td>\n",
       "      <td>40.66</td>\n",
       "      <td>80.62</td>\n",
       "      <td>37.16</td>\n",
       "      <td>62.64</td>\n",
       "    </tr>\n",
       "    <tr>\n",
       "      <th>LR std (%)</th>\n",
       "      <td>0.32</td>\n",
       "      <td>0.06</td>\n",
       "      <td>15.51</td>\n",
       "      <td>8.58</td>\n",
       "      <td>10.14</td>\n",
       "      <td>3.76</td>\n",
       "      <td>11.54</td>\n",
       "      <td>4.72</td>\n",
       "    </tr>\n",
       "    <tr>\n",
       "      <th>KNN mean (%)</th>\n",
       "      <td>0.04</td>\n",
       "      <td>0.23</td>\n",
       "      <td>59.37</td>\n",
       "      <td>36.18</td>\n",
       "      <td>43.85</td>\n",
       "      <td>78.62</td>\n",
       "      <td>33.71</td>\n",
       "      <td>63.97</td>\n",
       "    </tr>\n",
       "    <tr>\n",
       "      <th>KNN std (%)</th>\n",
       "      <td>0.01</td>\n",
       "      <td>0.05</td>\n",
       "      <td>9.33</td>\n",
       "      <td>9.87</td>\n",
       "      <td>8.48</td>\n",
       "      <td>3.85</td>\n",
       "      <td>8.71</td>\n",
       "      <td>4.67</td>\n",
       "    </tr>\n",
       "    <tr>\n",
       "      <th>CART mean (%)</th>\n",
       "      <td>0.16</td>\n",
       "      <td>0.15</td>\n",
       "      <td>34.40</td>\n",
       "      <td>36.70</td>\n",
       "      <td>35.13</td>\n",
       "      <td>69.00</td>\n",
       "      <td>15.15</td>\n",
       "      <td>57.94</td>\n",
       "    </tr>\n",
       "    <tr>\n",
       "      <th>CART std (%)</th>\n",
       "      <td>0.09</td>\n",
       "      <td>0.04</td>\n",
       "      <td>8.39</td>\n",
       "      <td>13.78</td>\n",
       "      <td>10.53</td>\n",
       "      <td>5.15</td>\n",
       "      <td>13.59</td>\n",
       "      <td>7.37</td>\n",
       "    </tr>\n",
       "    <tr>\n",
       "      <th>NB mean (%)</th>\n",
       "      <td>0.07</td>\n",
       "      <td>0.17</td>\n",
       "      <td>66.66</td>\n",
       "      <td>25.42</td>\n",
       "      <td>36.27</td>\n",
       "      <td>79.50</td>\n",
       "      <td>31.74</td>\n",
       "      <td>60.82</td>\n",
       "    </tr>\n",
       "    <tr>\n",
       "      <th>NB std (%)</th>\n",
       "      <td>0.08</td>\n",
       "      <td>0.06</td>\n",
       "      <td>14.72</td>\n",
       "      <td>9.45</td>\n",
       "      <td>11.71</td>\n",
       "      <td>3.59</td>\n",
       "      <td>12.55</td>\n",
       "      <td>5.00</td>\n",
       "    </tr>\n",
       "    <tr>\n",
       "      <th>SVM mean (%)</th>\n",
       "      <td>0.59</td>\n",
       "      <td>0.25</td>\n",
       "      <td>83.45</td>\n",
       "      <td>28.62</td>\n",
       "      <td>41.83</td>\n",
       "      <td>81.50</td>\n",
       "      <td>41.00</td>\n",
       "      <td>63.23</td>\n",
       "    </tr>\n",
       "    <tr>\n",
       "      <th>SVM std (%)</th>\n",
       "      <td>0.07</td>\n",
       "      <td>0.02</td>\n",
       "      <td>16.05</td>\n",
       "      <td>8.78</td>\n",
       "      <td>10.09</td>\n",
       "      <td>3.78</td>\n",
       "      <td>11.03</td>\n",
       "      <td>4.59</td>\n",
       "    </tr>\n",
       "    <tr>\n",
       "      <th>qsvc mean (%)</th>\n",
       "      <td>33149.72</td>\n",
       "      <td>6117.63</td>\n",
       "      <td>0.00</td>\n",
       "      <td>0.00</td>\n",
       "      <td>0.00</td>\n",
       "      <td>76.38</td>\n",
       "      <td>0.00</td>\n",
       "      <td>50.00</td>\n",
       "    </tr>\n",
       "    <tr>\n",
       "      <th>qsvc std (%)</th>\n",
       "      <td>7395.63</td>\n",
       "      <td>725.12</td>\n",
       "      <td>0.00</td>\n",
       "      <td>0.00</td>\n",
       "      <td>0.00</td>\n",
       "      <td>2.71</td>\n",
       "      <td>0.00</td>\n",
       "      <td>0.00</td>\n",
       "    </tr>\n",
       "  </tbody>\n",
       "</table>\n",
       "</div>"
      ],
      "text/plain": [
       "               fit_time  score_time  test_precision  test_recall  test_f1  \\\n",
       "LR mean (%)        0.23        0.17           74.12        28.58    40.66   \n",
       "LR std (%)         0.32        0.06           15.51         8.58    10.14   \n",
       "KNN mean (%)       0.04        0.23           59.37        36.18    43.85   \n",
       "KNN std (%)        0.01        0.05            9.33         9.87     8.48   \n",
       "CART mean (%)      0.16        0.15           34.40        36.70    35.13   \n",
       "CART std (%)       0.09        0.04            8.39        13.78    10.53   \n",
       "NB mean (%)        0.07        0.17           66.66        25.42    36.27   \n",
       "NB std (%)         0.08        0.06           14.72         9.45    11.71   \n",
       "SVM mean (%)       0.59        0.25           83.45        28.62    41.83   \n",
       "SVM std (%)        0.07        0.02           16.05         8.78    10.09   \n",
       "qsvc mean (%)  33149.72     6117.63            0.00         0.00     0.00   \n",
       "qsvc std (%)    7395.63      725.12            0.00         0.00     0.00   \n",
       "\n",
       "               test_accuracy  test_matthews_corrcoef  test_balanced_accuracy  \n",
       "LR mean (%)            80.62                   37.16                   62.64  \n",
       "LR std (%)              3.76                   11.54                    4.72  \n",
       "KNN mean (%)           78.62                   33.71                   63.97  \n",
       "KNN std (%)             3.85                    8.71                    4.67  \n",
       "CART mean (%)          69.00                   15.15                   57.94  \n",
       "CART std (%)            5.15                   13.59                    7.37  \n",
       "NB mean (%)            79.50                   31.74                   60.82  \n",
       "NB std (%)              3.59                   12.55                    5.00  \n",
       "SVM mean (%)           81.50                   41.00                   63.23  \n",
       "SVM std (%)             3.78                   11.03                    4.59  \n",
       "qsvc mean (%)          76.38                    0.00                   50.00  \n",
       "qsvc std (%)            2.71                    0.00                    0.00  "
      ]
     },
     "execution_count": 70,
     "metadata": {},
     "output_type": "execute_result"
    }
   ],
   "source": [
    "df_results"
   ]
  },
  {
   "cell_type": "code",
   "execution_count": 88,
   "id": "6b11f5c7-2828-410a-8dcc-c8c316d0a460",
   "metadata": {},
   "outputs": [
    {
     "name": "stdout",
     "output_type": "stream",
     "text": [
      "LR & 74.12 (15.51) & 28.58 (8.58) &  40.66 (10.14) & 37.16 (11.54) & 62.64 (4.72) \\\n",
      "KNN & 59.37 (9.33) & 36.18 (9.87) &  43.85 (8.48) & 33.71 (8.71) & 63.97 (4.67) \\\n",
      "CART & 34.4 (8.39) & 36.7 (13.78) &  35.13 (10.53) & 15.15 (13.59) & 57.94 (7.37) \\\n",
      "NB & 66.66 (14.72) & 25.42 (9.45) &  36.27 (11.71) & 31.74 (12.55) & 60.82 (5.0) \\\n",
      "SVM & 83.45 (16.05) & 28.62 (8.78) &  41.83 (10.09) & 41.0 (11.03) & 63.23 (4.59) \\\n",
      "qsvc & 0.0 (0.0) & 0.0 (0.0) &  0.0 (0.0) & 0.0 (0.0) & 50.0 (0.0) \\\n"
     ]
    }
   ],
   "source": [
    "j = 0\n",
    "for i in range(int(len(df_results.index)/2)):\n",
    "\n",
    "    print(f'{df_results.iloc[j].name.split()[0]} & {df_results.iloc[j][2]} ({df_results.iloc[j+1][2]}) & {df_results.iloc[j][3]} ({df_results.iloc[j+1][3]}) &  {df_results.iloc[j][4]} ({df_results.iloc[j+1][4]}) & {df_results.iloc[j][6]} ({df_results.iloc[j+1][6]}) & {df_results.iloc[j][7]} ({df_results.iloc[j+1][7]}) \\\\')\n",
    "    \n",
    "    j+=2"
   ]
  },
  {
   "cell_type": "markdown",
   "id": "3b70b837-4e39-4b65-83ca-8e82fc83efa1",
   "metadata": {},
   "source": [
    "## Pennylane"
   ]
  },
  {
   "cell_type": "code",
   "execution_count": 71,
   "id": "ff1d5656-f2f2-4d96-b210-a75a161cdb39",
   "metadata": {},
   "outputs": [],
   "source": [
    "from pennylane import numpy as np"
   ]
  },
  {
   "cell_type": "code",
   "execution_count": 72,
   "id": "07ec49f5-c401-4c36-aae3-57aad3eaa0ba",
   "metadata": {},
   "outputs": [],
   "source": [
    "# Angle Encoding\n",
    "\n",
    "num_qubits = n_dim\n",
    "\n",
    "dev = qml.device('default.qubit', wires = num_qubits)\n",
    "\n",
    "@qml.qnode(dev)\n",
    "def circuit(parameters, data):\n",
    "    for i in range(num_qubits):\n",
    "        qml.Hadamard(wires = i)\n",
    "    \n",
    "    AngleEmbedding(features = data, wires = range(num_qubits), rotation = 'Y')\n",
    "    \n",
    "    qml.StronglyEntanglingLayers(weights = parameters, wires = range(num_qubits))\n",
    "    \n",
    "    return qml.expval(qml.PauliZ(0))"
   ]
  },
  {
   "cell_type": "code",
   "execution_count": 73,
   "id": "ffcf8fdb-37a0-4b64-b73c-76be553995e8",
   "metadata": {},
   "outputs": [],
   "source": [
    "num_layers = 5\n",
    "weights_init = 0.01 * np.random.randn(num_layers, num_qubits, 3, requires_grad=True)\n",
    "bias_init = np.array(0.0, requires_grad=True)\n",
    "\n",
    "#print(weights_init, bias_init)"
   ]
  },
  {
   "cell_type": "code",
   "execution_count": 74,
   "id": "49568595-37ec-4749-a230-dc4c6dae2500",
   "metadata": {},
   "outputs": [
    {
     "data": {
      "text/plain": [
       "tensor(-0.14378827, requires_grad=True)"
      ]
     },
     "execution_count": 74,
     "metadata": {},
     "output_type": "execute_result"
    }
   ],
   "source": [
    "circuit(weights_init, sample_train[0])"
   ]
  },
  {
   "cell_type": "code",
   "execution_count": 75,
   "id": "4febb380-0955-4f05-a872-326cc4e3a27c",
   "metadata": {},
   "outputs": [],
   "source": [
    "def variational_classifier(weights, bias, x):\n",
    "    return circuit(weights, x) + bias"
   ]
  },
  {
   "cell_type": "code",
   "execution_count": 76,
   "id": "c16a1f84-63e5-4fbb-a647-cba6db4c6c4c",
   "metadata": {},
   "outputs": [],
   "source": [
    "def square_loss(labels, predictions):\n",
    "    loss = 0\n",
    "    for l, p in zip(labels, predictions):\n",
    "        loss = loss + (l - p) ** 2\n",
    "\n",
    "    loss = loss / len(labels)\n",
    "    return loss"
   ]
  },
  {
   "cell_type": "code",
   "execution_count": 77,
   "id": "07412a53-c93b-4c73-bd0b-e7e144454435",
   "metadata": {},
   "outputs": [],
   "source": [
    "def accuracy(labels, predictions):\n",
    "\n",
    "    loss = 0\n",
    "    for l, p in zip(labels, predictions):\n",
    "        if abs(l - p) < 1e-5:\n",
    "            loss = loss + 1\n",
    "    loss = loss / len(labels)\n",
    "\n",
    "    return loss"
   ]
  },
  {
   "cell_type": "code",
   "execution_count": 78,
   "id": "1bf0b58e-38f3-4c45-a4d2-3d69af787ba3",
   "metadata": {},
   "outputs": [],
   "source": [
    "def cost(weights, bias, X, Y):\n",
    "    predictions = [variational_classifier(weights, bias, x) for x in X]\n",
    "    return square_loss(Y, predictions)"
   ]
  },
  {
   "cell_type": "code",
   "execution_count": 79,
   "id": "7543fccb-ef55-49cb-8508-5ae8fdfcbc58",
   "metadata": {},
   "outputs": [
    {
     "data": {
      "text/plain": [
       "0    157\n",
       "1     43\n",
       "Name: default.payment.next.month, dtype: int64"
      ]
     },
     "execution_count": 79,
     "metadata": {},
     "output_type": "execute_result"
    }
   ],
   "source": [
    "pd.Series(label_test).value_counts()"
   ]
  },
  {
   "cell_type": "code",
   "execution_count": 80,
   "id": "21ff4aa6-c15b-4a59-a718-67d8da2402dd",
   "metadata": {},
   "outputs": [
    {
     "name": "stdout",
     "output_type": "stream",
     "text": [
      "X = [tensor(0.61076316, requires_grad=True), tensor(-0.24207548, requires_grad=True)], Y = -1\n",
      "X = [tensor(-0.86344545, requires_grad=True), tensor(0.47640247, requires_grad=True)], Y = -1\n",
      "X = [tensor(-0.13239903, requires_grad=True), tensor(-0.37212894, requires_grad=True)], Y = -1\n",
      "X = [tensor(-0.28734614, requires_grad=True), tensor(-1.01208007, requires_grad=True)], Y = -1\n",
      "X = [tensor(1.42529853, requires_grad=True), tensor(0.17117937, requires_grad=True)], Y = -1\n"
     ]
    }
   ],
   "source": [
    "Y = np.array(label_train * 2 - np.ones(len(label_train)),requires_grad=True)  # shift label from {0, 1} to {-1, 1}\n",
    "X = np.array(sample_train, requires_grad=True)\n",
    "\n",
    "for i in range(5):\n",
    "    print(\"X = {}, Y = {: d}\".format(list(X[i]), int(Y[i])))"
   ]
  },
  {
   "cell_type": "code",
   "execution_count": 81,
   "id": "074f578a-1984-4814-9070-7b20063c8bd1",
   "metadata": {},
   "outputs": [],
   "source": [
    "opt = AdamOptimizer(stepsize=0.1, beta1=0.9, beta2=0.99, eps=1e-08)\n",
    "batch_size = 10"
   ]
  },
  {
   "cell_type": "code",
   "execution_count": null,
   "id": "a78e0005-464d-46c0-86f4-946291d7586c",
   "metadata": {},
   "outputs": [],
   "source": []
  },
  {
   "cell_type": "code",
   "execution_count": 82,
   "id": "2d31d6a7-74f4-4e63-b1cb-b92bfb610a5a",
   "metadata": {
    "tags": []
   },
   "outputs": [
    {
     "name": "stdout",
     "output_type": "stream",
     "text": [
      "New best\n",
      "Iter:     1 | Cost: 0.8920701 | f1: 0.2137931 \n",
      "Iter:     2 | Cost: 0.7812688 | f1: 0.1937984 \n",
      "Iter:     3 | Cost: 0.8073145 | f1: 0.1085973 \n",
      "Iter:     4 | Cost: 0.7685429 | f1: 0.1491228 \n",
      "New best\n",
      "Iter:     5 | Cost: 0.7339434 | f1: 0.2278481 \n",
      "New best\n",
      "Iter:     6 | Cost: 0.6527147 | f1: 0.3809524 \n",
      "New best\n",
      "Iter:     7 | Cost: 0.7276718 | f1: 0.4666667 \n",
      "New best\n",
      "Iter:     8 | Cost: 0.7930628 | f1: 0.4881210 \n",
      "Iter:     9 | Cost: 0.7675826 | f1: 0.4719626 \n",
      "Iter:    10 | Cost: 0.7309740 | f1: 0.4702842 \n",
      "Iter:    11 | Cost: 0.7108039 | f1: 0.4725275 \n",
      "Iter:    12 | Cost: 0.6874053 | f1: 0.4772727 \n",
      "Iter:    13 | Cost: 0.6609138 | f1: 0.4773414 \n",
      "Iter:    14 | Cost: 0.6384194 | f1: 0.4774194 \n",
      "Iter:    15 | Cost: 0.6357774 | f1: 0.3565891 \n",
      "Iter:    16 | Cost: 0.6536128 | f1: 0.1517857 \n",
      "Iter:    17 | Cost: 0.6835087 | f1: 0.0943396 \n",
      "Iter:    18 | Cost: 0.6746231 | f1: 0.1266968 \n",
      "Iter:    19 | Cost: 0.6592526 | f1: 0.2074689 \n",
      "Iter:    20 | Cost: 0.6371780 | f1: 0.3166023 \n",
      "New best\n",
      "Iter:    21 | Cost: 0.6570597 | f1: 0.5185185 \n",
      "Iter:    22 | Cost: 0.7356377 | f1: 0.5102506 \n",
      "Iter:    23 | Cost: 0.7333715 | f1: 0.5102506 \n",
      "Iter:    24 | Cost: 0.7004582 | f1: 0.4900990 \n",
      "Iter:    25 | Cost: 0.6721643 | f1: 0.4972973 \n",
      "Iter:    26 | Cost: 0.6474644 | f1: 0.4900285 \n",
      "Iter:    27 | Cost: 0.6243252 | f1: 0.4910180 \n",
      "Iter:    28 | Cost: 0.6114297 | f1: 0.4820847 \n",
      "Iter:    29 | Cost: 0.6021962 | f1: 0.4341637 \n",
      "Iter:    30 | Cost: 0.5995334 | f1: 0.3954373 \n",
      "Iter:    31 | Cost: 0.6125985 | f1: 0.2953586 \n",
      "Iter:    32 | Cost: 0.6259280 | f1: 0.2532751 \n",
      "Iter:    33 | Cost: 0.6569411 | f1: 0.2358079 \n",
      "Iter:    34 | Cost: 0.7077035 | f1: 0.2406639 \n",
      "Iter:    35 | Cost: 0.7767140 | f1: 0.2611684 \n",
      "Iter:    36 | Cost: 0.8377397 | f1: 0.2681564 \n",
      "Iter:    37 | Cost: 0.8823828 | f1: 0.2828784 \n",
      "Iter:    38 | Cost: 0.8817215 | f1: 0.2892768 \n",
      "Iter:    39 | Cost: 0.8490571 | f1: 0.2762431 \n",
      "Iter:    40 | Cost: 0.7924993 | f1: 0.2422145 \n",
      "Iter:    41 | Cost: 0.7495024 | f1: 0.2191781 \n",
      "Iter:    42 | Cost: 0.7335835 | f1: 0.1826923 \n",
      "Iter:    43 | Cost: 0.6911093 | f1: 0.2169811 \n",
      "Iter:    44 | Cost: 0.6285000 | f1: 0.2232558 \n",
      "Iter:    45 | Cost: 0.6174806 | f1: 0.2443439 \n",
      "Iter:    46 | Cost: 0.6970891 | f1: 0.3686275 \n",
      "Iter:    47 | Cost: 0.7797622 | f1: 0.4502370 \n",
      "Iter:    48 | Cost: 0.9075071 | f1: 0.4084507 \n",
      "Iter:    49 | Cost: 0.8932487 | f1: 0.4102564 \n",
      "Iter:    50 | Cost: 0.8076862 | f1: 0.3953488 \n",
      "Iter:    51 | Cost: 0.7338619 | f1: 0.3815029 \n",
      "Iter:    52 | Cost: 0.7053967 | f1: 0.3589744 \n",
      "Iter:    53 | Cost: 0.6579831 | f1: 0.2352941 \n",
      "Iter:    54 | Cost: 0.6564778 | f1: 0.1565217 \n",
      "Iter:    55 | Cost: 0.6940708 | f1: 0.1100917 \n",
      "Iter:    56 | Cost: 0.7105104 | f1: 0.1105991 \n",
      "Iter:    57 | Cost: 0.7134066 | f1: 0.1636364 \n",
      "Iter:    58 | Cost: 0.6989645 | f1: 0.2575107 \n",
      "Iter:    59 | Cost: 0.6846494 | f1: 0.2869198 \n",
      "Iter:    60 | Cost: 0.6582920 | f1: 0.3333333 \n",
      "Iter:    61 | Cost: 0.6207416 | f1: 0.3831418 \n",
      "Iter:    62 | Cost: 0.5956988 | f1: 0.4482759 \n",
      "Iter:    63 | Cost: 0.6080440 | f1: 0.5062500 \n",
      "New best\n",
      "Iter:    64 | Cost: 0.6530470 | f1: 0.5333333 \n",
      "Iter:    65 | Cost: 0.7241928 | f1: 0.5219512 \n",
      "New best\n",
      "Iter:    66 | Cost: 0.6593045 | f1: 0.5363128 \n",
      "Iter:    67 | Cost: 0.6099744 | f1: 0.4820847 \n",
      "Iter:    68 | Cost: 0.6138075 | f1: 0.3870968 \n",
      "Iter:    69 | Cost: 0.6318251 | f1: 0.3823529 \n",
      "Iter:    70 | Cost: 0.6204340 | f1: 0.4236111 \n",
      "Iter:    71 | Cost: 0.6169505 | f1: 0.4524590 \n",
      "Iter:    72 | Cost: 0.6219147 | f1: 0.4848485 \n",
      "Iter:    73 | Cost: 0.6235415 | f1: 0.5029586 \n",
      "Iter:    74 | Cost: 0.6215152 | f1: 0.4879518 \n",
      "Iter:    75 | Cost: 0.6229901 | f1: 0.4894260 \n",
      "Iter:    76 | Cost: 0.6187039 | f1: 0.4923077 \n",
      "Iter:    77 | Cost: 0.6175554 | f1: 0.4939024 \n",
      "Iter:    78 | Cost: 0.6166267 | f1: 0.5058824 \n",
      "Iter:    79 | Cost: 0.6211054 | f1: 0.5085714 \n",
      "Iter:    80 | Cost: 0.6314702 | f1: 0.5191257 \n",
      "Iter:    81 | Cost: 0.6692265 | f1: 0.5190840 \n",
      "Iter:    82 | Cost: 0.6492899 | f1: 0.5238095 \n",
      "Iter:    83 | Cost: 0.6112981 | f1: 0.5058140 \n",
      "Iter:    84 | Cost: 0.6062233 | f1: 0.4721311 \n",
      "Iter:    85 | Cost: 0.6324474 | f1: 0.4326241 \n",
      "Iter:    86 | Cost: 0.6613903 | f1: 0.4135338 \n",
      "Iter:    87 | Cost: 0.6972367 | f1: 0.3515625 \n",
      "Iter:    88 | Cost: 0.7359959 | f1: 0.3052209 \n",
      "Iter:    89 | Cost: 0.7510148 | f1: 0.2926829 \n",
      "Iter:    90 | Cost: 0.7477488 | f1: 0.2926829 \n",
      "Iter:    91 | Cost: 0.7337502 | f1: 0.2962963 \n",
      "Iter:    92 | Cost: 0.7012723 | f1: 0.3064516 \n",
      "Iter:    93 | Cost: 0.6551969 | f1: 0.3435115 \n",
      "Iter:    94 | Cost: 0.6087105 | f1: 0.4014599 \n",
      "Iter:    95 | Cost: 0.6369439 | f1: 0.4842767 \n",
      "Iter:    96 | Cost: 0.6700216 | f1: 0.5029240 \n",
      "Iter:    97 | Cost: 0.6963646 | f1: 0.4916201 \n",
      "Iter:    98 | Cost: 0.7179981 | f1: 0.4932976 \n",
      "Iter:    99 | Cost: 0.6979235 | f1: 0.4879357 \n",
      "Iter:   100 | Cost: 0.6733756 | f1: 0.4888889 \n",
      "Iter:   101 | Cost: 0.6540599 | f1: 0.4855491 \n",
      "Iter:   102 | Cost: 0.6176732 | f1: 0.4844720 \n",
      "Iter:   103 | Cost: 0.6042309 | f1: 0.4604811 \n",
      "Iter:   104 | Cost: 0.5999373 | f1: 0.4154930 \n",
      "Iter:   105 | Cost: 0.5996025 | f1: 0.3722628 \n",
      "Iter:   106 | Cost: 0.6052422 | f1: 0.3741007 \n",
      "Iter:   107 | Cost: 0.6202783 | f1: 0.3571429 \n",
      "Iter:   108 | Cost: 0.6347526 | f1: 0.3392226 \n",
      "Iter:   109 | Cost: 0.6717274 | f1: 0.3594771 \n",
      "Iter:   110 | Cost: 0.6801726 | f1: 0.3540984 \n",
      "Iter:   111 | Cost: 0.6699958 | f1: 0.3576159 \n",
      "Iter:   112 | Cost: 0.6497000 | f1: 0.3586207 \n",
      "Iter:   113 | Cost: 0.6296388 | f1: 0.3269962 \n",
      "Iter:   114 | Cost: 0.6485014 | f1: 0.2786885 \n",
      "Iter:   115 | Cost: 0.6959524 | f1: 0.2521739 \n",
      "Iter:   116 | Cost: 0.7418420 | f1: 0.2400000 \n",
      "Iter:   117 | Cost: 0.7555383 | f1: 0.2555066 \n",
      "Iter:   118 | Cost: 0.7274017 | f1: 0.2683983 \n",
      "Iter:   119 | Cost: 0.6686281 | f1: 0.3050847 \n",
      "Iter:   120 | Cost: 0.6175960 | f1: 0.3571429 \n",
      "Iter:   121 | Cost: 0.5942523 | f1: 0.4132841 \n",
      "Iter:   122 | Cost: 0.5924788 | f1: 0.4366197 \n",
      "Iter:   123 | Cost: 0.5996715 | f1: 0.4630872 \n",
      "Iter:   124 | Cost: 0.5940433 | f1: 0.4429066 \n",
      "Iter:   125 | Cost: 0.5908306 | f1: 0.4184397 \n",
      "Iter:   126 | Cost: 0.5955704 | f1: 0.4249084 \n",
      "Iter:   127 | Cost: 0.6073282 | f1: 0.4060150 \n",
      "Iter:   128 | Cost: 0.6227742 | f1: 0.3908046 \n",
      "Iter:   129 | Cost: 0.6158440 | f1: 0.3954373 \n",
      "Iter:   130 | Cost: 0.5987733 | f1: 0.4148148 \n",
      "Iter:   131 | Cost: 0.5945983 | f1: 0.4357143 \n",
      "Iter:   132 | Cost: 0.6011953 | f1: 0.4498270 \n",
      "Iter:   133 | Cost: 0.6032653 | f1: 0.4536082 \n",
      "Iter:   134 | Cost: 0.6082613 | f1: 0.4557823 \n",
      "Iter:   135 | Cost: 0.6373638 | f1: 0.4740260 \n",
      "Iter:   136 | Cost: 0.6432660 | f1: 0.4854369 \n",
      "Iter:   137 | Cost: 0.6369531 | f1: 0.4740260 \n",
      "Iter:   138 | Cost: 0.6432028 | f1: 0.4668770 \n",
      "Iter:   139 | Cost: 0.6448146 | f1: 0.4576803 \n",
      "Iter:   140 | Cost: 0.6286301 | f1: 0.4408946 \n",
      "Iter:   141 | Cost: 0.6144239 | f1: 0.4196721 \n",
      "Iter:   142 | Cost: 0.5968896 | f1: 0.4098940 \n",
      "Iter:   143 | Cost: 0.6011704 | f1: 0.3650190 \n",
      "Iter:   144 | Cost: 0.6195876 | f1: 0.3372549 \n",
      "Iter:   145 | Cost: 0.6412889 | f1: 0.3120000 \n",
      "Iter:   146 | Cost: 0.6548528 | f1: 0.3027888 \n",
      "Iter:   147 | Cost: 0.6703462 | f1: 0.2633745 \n",
      "Iter:   148 | Cost: 0.6963351 | f1: 0.2222222 \n",
      "Iter:   149 | Cost: 0.7209479 | f1: 0.1842105 \n",
      "Iter:   150 | Cost: 0.7446197 | f1: 0.1818182 \n"
     ]
    }
   ],
   "source": [
    "weights = weights_init\n",
    "bias = bias_init\n",
    "\n",
    "wbest = 0\n",
    "bbest = 0\n",
    "abest = 0\n",
    "ccost = 0 \n",
    "for it in range(150):\n",
    "\n",
    "    # weights update by one optimizer step\n",
    "\n",
    "    batch_index = np.random.randint(0, len(X), (batch_size,))\n",
    "    X_batch = X[batch_index]\n",
    "    Y_batch = Y[batch_index]\n",
    "    weights, bias, _, _ = opt.step(cost, weights, bias, X_batch, Y_batch)\n",
    "\n",
    "    # Compute the accuracy\n",
    "    predictions = [np.sign(variational_classifier(weights, bias, x)) for x in X]\n",
    "    \n",
    "    '''if accuracy(Y, predictions) > abest:\n",
    "        wbest = weights\n",
    "        bbest = bias\n",
    "        abest = accuracy(Y, predictions)\n",
    "        print('New best')\n",
    "\n",
    "    acc = accuracy(Y, predictions)\n",
    "\n",
    "    print(\n",
    "        \"Iter: {:5d} | Cost: {:0.7f} | Accuracy: {:0.7f} \".format(\n",
    "            it + 1, cost(weights, bias, X, Y), acc\n",
    "        )\n",
    "    )'''\n",
    "    prec = metrics.f1_score(Y, predictions, average='binary', pos_label=1)\n",
    "    if  prec > abest or ((prec == abest) and (cost(weights, bias, X, Y) < ccost)):\n",
    "        wbest = weights\n",
    "        bbest = bias\n",
    "        abest = prec\n",
    "        ccost = cost(weights, bias, X, Y)\n",
    "        print('New best')\n",
    "    #prec = metrics.precision_score(Y, predictions, average='binary')\n",
    "    print(\n",
    "        \"Iter: {:5d} | Cost: {:0.7f} | f1: {:0.7f} \".format(\n",
    "            it + 1, cost(weights, bias, X, Y), prec\n",
    "        )\n",
    "    )\n",
    "    \n",
    "    "
   ]
  },
  {
   "cell_type": "code",
   "execution_count": 83,
   "id": "ee2dceeb-5b76-4ec7-9ebb-efb9e562cf8a",
   "metadata": {},
   "outputs": [],
   "source": [
    "Yte = np.array(label_test * 2 - np.ones(len(label_test)))\n",
    "Xte = np.array(normalize(sample_test))"
   ]
  },
  {
   "cell_type": "code",
   "execution_count": 84,
   "id": "03ecd991-b560-4868-9e42-1dcfe09d58ac",
   "metadata": {},
   "outputs": [
    {
     "data": {
      "text/plain": [
       "-1.0    157\n",
       " 1.0     43\n",
       "dtype: int64"
      ]
     },
     "execution_count": 84,
     "metadata": {},
     "output_type": "execute_result"
    }
   ],
   "source": [
    "pd.Series(Yte).value_counts()"
   ]
  },
  {
   "cell_type": "code",
   "execution_count": 85,
   "id": "4416ed73-4c7d-44e3-a539-9dba3191327d",
   "metadata": {},
   "outputs": [
    {
     "name": "stdout",
     "output_type": "stream",
     "text": [
      "Cost: 0.7331843642036475, Accuracy: 70.0%\n"
     ]
    }
   ],
   "source": [
    "predictions = [np.sign(variational_classifier(wbest, bbest, x)) for x in Xte]\n",
    "pred = [np.sign(variational_classifier(wbest, bbest, x)) for x in X]\n",
    "acc = accuracy(Yte, predictions)\n",
    "\n",
    "print(f'Cost: {cost(wbest, bbest, Xte, Yte)}, Accuracy: {np.round(acc, 2) * 100}%')"
   ]
  },
  {
   "cell_type": "code",
   "execution_count": 86,
   "id": "8c50c097-603d-439b-84a9-cd649bcbeaa1",
   "metadata": {},
   "outputs": [
    {
     "name": "stdout",
     "output_type": "stream",
     "text": [
      "              precision    recall  f1-score   support\n",
      "\n",
      "        -1.0       0.80      0.82      0.81       157\n",
      "         1.0       0.28      0.26      0.27        43\n",
      "\n",
      "    accuracy                           0.69       200\n",
      "   macro avg       0.54      0.54      0.54       200\n",
      "weighted avg       0.69      0.69      0.69       200\n",
      "\n"
     ]
    }
   ],
   "source": [
    "print(metrics.classification_report(Yte,predictions))"
   ]
  },
  {
   "cell_type": "code",
   "execution_count": null,
   "id": "05505a13-877c-4335-9d90-ebd40cbfc6bd",
   "metadata": {},
   "outputs": [],
   "source": [
    "print(metrics.classification_report(Yte,predictions))"
   ]
  },
  {
   "cell_type": "code",
   "execution_count": 43,
   "id": "dcedeada-a82f-4e82-b738-6a862dc801c8",
   "metadata": {},
   "outputs": [
    {
     "name": "stdout",
     "output_type": "stream",
     "text": [
      "\n",
      "\n",
      "    Precision: 37.5%\n",
      "    Recall: 33.33%\n",
      "    f1: 35.29%\n",
      "    Accuracy: 72.5%\n",
      "    Matthew corcorref: 17.96%\n",
      "    Balanced accuracy: 58.6%\n",
      "    \n"
     ]
    }
   ],
   "source": [
    "print(f'''\n",
    "\n",
    "    Precision: {round(100*metrics.precision_score(predictions,Yte),2)}%\n",
    "    Recall: {round(100*metrics.recall_score(predictions,Yte),2)}%\n",
    "    f1: {round(100*metrics.f1_score(predictions,Yte),2)}%\n",
    "    Accuracy: {round(100*metrics.accuracy_score(predictions,Yte),2)}%\n",
    "    Matthew corcorref: {round(100*metrics.matthews_corrcoef(predictions,Yte),2)}%\n",
    "    Balanced accuracy: {round(100*metrics.balanced_accuracy_score(predictions,Yte),2)}%\n",
    "    ''')"
   ]
  },
  {
   "cell_type": "code",
   "execution_count": 87,
   "id": "161f3b01-ca4f-4150-b613-6cad6879c503",
   "metadata": {},
   "outputs": [
    {
     "name": "stdout",
     "output_type": "stream",
     "text": [
      "\n",
      "\n",
      "    Precision: 25.58%\n",
      "    Recall: 27.5%\n",
      "    f1: 26.51%\n",
      "    Accuracy: 69.5%\n",
      "    Matthew corcorref: 7.3%\n",
      "    Balanced accuracy: 53.75%\n",
      "    \n"
     ]
    }
   ],
   "source": [
    "print(f'''\n",
    "\n",
    "    Precision: {round(100*metrics.precision_score(predictions,Yte),2)}%\n",
    "    Recall: {round(100*metrics.recall_score(predictions,Yte),2)}%\n",
    "    f1: {round(100*metrics.f1_score(predictions,Yte),2)}%\n",
    "    Accuracy: {round(100*metrics.accuracy_score(predictions,Yte),2)}%\n",
    "    Matthew corcorref: {round(100*metrics.matthews_corrcoef(predictions,Yte),2)}%\n",
    "    Balanced accuracy: {round(100*metrics.balanced_accuracy_score(predictions,Yte),2)}%\n",
    "    ''')"
   ]
  },
  {
   "cell_type": "code",
   "execution_count": 44,
   "id": "77acf9e4-6362-4daa-829c-a5c70138be5c",
   "metadata": {
    "tags": []
   },
   "outputs": [
    {
     "name": "stdout",
     "output_type": "stream",
     "text": [
      "New best\n",
      "Iter:     1 | Cost: 0.9704825 | Accuracy: 0.6837500 \n",
      "New best\n",
      "Iter:     2 | Cost: 0.9061978 | Accuracy: 0.7287500 \n",
      "New best\n",
      "Iter:     3 | Cost: 0.8109473 | Accuracy: 0.7675000 \n",
      "New best\n",
      "Iter:     4 | Cost: 0.7620751 | Accuracy: 0.7737500 \n",
      "Iter:     5 | Cost: 0.7626517 | Accuracy: 0.7712500 \n",
      "Iter:     6 | Cost: 0.7759584 | Accuracy: 0.7725000 \n",
      "New best\n",
      "Iter:     7 | Cost: 0.7870926 | Accuracy: 0.7775000 \n",
      "New best\n",
      "Iter:     8 | Cost: 0.7953279 | Accuracy: 0.7812500 \n",
      "New best\n",
      "Iter:     9 | Cost: 0.7899940 | Accuracy: 0.7875000 \n",
      "New best\n",
      "Iter:    10 | Cost: 0.7661932 | Accuracy: 0.7962500 \n",
      "Iter:    11 | Cost: 0.7139245 | Accuracy: 0.7950000 \n",
      "New best\n",
      "Iter:    12 | Cost: 0.6770194 | Accuracy: 0.7962500 \n",
      "Iter:    13 | Cost: 0.7016225 | Accuracy: 0.7787500 \n",
      "Iter:    14 | Cost: 0.7375408 | Accuracy: 0.7737500 \n",
      "Iter:    15 | Cost: 0.7144126 | Accuracy: 0.7762500 \n",
      "Iter:    16 | Cost: 0.6924015 | Accuracy: 0.7862500 \n",
      "Iter:    17 | Cost: 0.6851140 | Accuracy: 0.7687500 \n",
      "Iter:    18 | Cost: 0.7103224 | Accuracy: 0.7400000 \n",
      "Iter:    19 | Cost: 0.7536561 | Accuracy: 0.7425000 \n",
      "Iter:    20 | Cost: 0.7854349 | Accuracy: 0.7412500 \n",
      "Iter:    21 | Cost: 0.7835886 | Accuracy: 0.7412500 \n",
      "Iter:    22 | Cost: 0.7619741 | Accuracy: 0.7637500 \n",
      "Iter:    23 | Cost: 0.7485770 | Accuracy: 0.7937500 \n",
      "Iter:    24 | Cost: 0.7604096 | Accuracy: 0.7950000 \n",
      "Iter:    25 | Cost: 0.7599579 | Accuracy: 0.7887500 \n",
      "Iter:    26 | Cost: 0.7541848 | Accuracy: 0.7887500 \n",
      "Iter:    27 | Cost: 0.7375096 | Accuracy: 0.7887500 \n",
      "Iter:    28 | Cost: 0.7158711 | Accuracy: 0.7900000 \n",
      "Iter:    29 | Cost: 0.6863947 | Accuracy: 0.7925000 \n",
      "New best\n",
      "Iter:    30 | Cost: 0.6628229 | Accuracy: 0.7975000 \n",
      "New best\n",
      "Iter:    31 | Cost: 0.6729913 | Accuracy: 0.7987500 \n",
      "Iter:    32 | Cost: 0.7315702 | Accuracy: 0.7425000 \n",
      "Iter:    33 | Cost: 0.7548336 | Accuracy: 0.7337500 \n",
      "Iter:    34 | Cost: 0.7636528 | Accuracy: 0.7350000 \n",
      "Iter:    35 | Cost: 0.7700093 | Accuracy: 0.7375000 \n",
      "Iter:    36 | Cost: 0.7664141 | Accuracy: 0.7387500 \n",
      "Iter:    37 | Cost: 0.7856236 | Accuracy: 0.7362500 \n",
      "Iter:    38 | Cost: 0.7818926 | Accuracy: 0.7362500 \n",
      "Iter:    39 | Cost: 0.7498347 | Accuracy: 0.7387500 \n",
      "Iter:    40 | Cost: 0.7036155 | Accuracy: 0.7387500 \n",
      "Iter:    41 | Cost: 0.6658375 | Accuracy: 0.7612500 \n",
      "New best\n",
      "Iter:    42 | Cost: 0.6538058 | Accuracy: 0.7987500 \n",
      "Iter:    43 | Cost: 0.6791957 | Accuracy: 0.7850000 \n",
      "Iter:    44 | Cost: 0.7168192 | Accuracy: 0.7787500 \n",
      "Iter:    45 | Cost: 0.7434917 | Accuracy: 0.7787500 \n",
      "Iter:    46 | Cost: 0.7608133 | Accuracy: 0.7662500 \n",
      "Iter:    47 | Cost: 0.7631242 | Accuracy: 0.7587500 \n",
      "Iter:    48 | Cost: 0.7468436 | Accuracy: 0.7625000 \n",
      "Iter:    49 | Cost: 0.7091643 | Accuracy: 0.7775000 \n",
      "Iter:    50 | Cost: 0.6913290 | Accuracy: 0.7825000 \n",
      "Iter:    51 | Cost: 0.6971641 | Accuracy: 0.7812500 \n",
      "Iter:    52 | Cost: 0.7097706 | Accuracy: 0.7775000 \n",
      "Iter:    53 | Cost: 0.7216819 | Accuracy: 0.7862500 \n",
      "Iter:    54 | Cost: 0.7193807 | Accuracy: 0.7925000 \n",
      "Iter:    55 | Cost: 0.7089102 | Accuracy: 0.7900000 \n",
      "Iter:    56 | Cost: 0.6997497 | Accuracy: 0.7937500 \n",
      "Iter:    57 | Cost: 0.6890186 | Accuracy: 0.7862500 \n",
      "Iter:    58 | Cost: 0.6767388 | Accuracy: 0.7850000 \n",
      "Iter:    59 | Cost: 0.7422735 | Accuracy: 0.7637500 \n",
      "Iter:    60 | Cost: 0.7984802 | Accuracy: 0.7637500 \n",
      "Iter:    61 | Cost: 0.7519082 | Accuracy: 0.7712500 \n",
      "Iter:    62 | Cost: 0.6614532 | Accuracy: 0.7900000 \n",
      "Iter:    63 | Cost: 0.6444433 | Accuracy: 0.7887500 \n",
      "Iter:    64 | Cost: 0.6640985 | Accuracy: 0.7987500 \n",
      "Iter:    65 | Cost: 0.6664880 | Accuracy: 0.7825000 \n",
      "Iter:    66 | Cost: 0.6632295 | Accuracy: 0.7850000 \n",
      "Iter:    67 | Cost: 0.6718382 | Accuracy: 0.7812500 \n",
      "Iter:    68 | Cost: 0.6841297 | Accuracy: 0.7825000 \n",
      "Iter:    69 | Cost: 0.7002093 | Accuracy: 0.7850000 \n",
      "Iter:    70 | Cost: 0.7188347 | Accuracy: 0.7900000 \n",
      "Iter:    71 | Cost: 0.7285226 | Accuracy: 0.7900000 \n",
      "Iter:    72 | Cost: 0.7389487 | Accuracy: 0.7900000 \n",
      "Iter:    73 | Cost: 0.7338366 | Accuracy: 0.7900000 \n",
      "Iter:    74 | Cost: 0.7280050 | Accuracy: 0.7900000 \n",
      "Iter:    75 | Cost: 0.7217514 | Accuracy: 0.7887500 \n",
      "Iter:    76 | Cost: 0.7149124 | Accuracy: 0.7925000 \n",
      "Iter:    77 | Cost: 0.7081510 | Accuracy: 0.7875000 \n",
      "Iter:    78 | Cost: 0.7001123 | Accuracy: 0.7850000 \n",
      "Iter:    79 | Cost: 0.6946747 | Accuracy: 0.7875000 \n",
      "Iter:    80 | Cost: 0.6924257 | Accuracy: 0.7875000 \n",
      "Iter:    81 | Cost: 0.6857456 | Accuracy: 0.7887500 \n",
      "Iter:    82 | Cost: 0.6789355 | Accuracy: 0.7887500 \n",
      "Iter:    83 | Cost: 0.6705695 | Accuracy: 0.7950000 \n",
      "Iter:    84 | Cost: 0.6588859 | Accuracy: 0.7962500 \n",
      "Iter:    85 | Cost: 0.6517526 | Accuracy: 0.7887500 \n",
      "Iter:    86 | Cost: 0.6593945 | Accuracy: 0.7762500 \n",
      "Iter:    87 | Cost: 0.6793904 | Accuracy: 0.7575000 \n",
      "Iter:    88 | Cost: 0.7075254 | Accuracy: 0.7437500 \n",
      "Iter:    89 | Cost: 0.7226095 | Accuracy: 0.7412500 \n",
      "Iter:    90 | Cost: 0.7389843 | Accuracy: 0.7400000 \n",
      "Iter:    91 | Cost: 0.7363257 | Accuracy: 0.7400000 \n",
      "Iter:    92 | Cost: 0.7285199 | Accuracy: 0.7375000 \n",
      "Iter:    93 | Cost: 0.7262321 | Accuracy: 0.7325000 \n",
      "Iter:    94 | Cost: 0.7041902 | Accuracy: 0.7425000 \n",
      "Iter:    95 | Cost: 0.6973511 | Accuracy: 0.7762500 \n",
      "Iter:    96 | Cost: 0.6987121 | Accuracy: 0.7812500 \n",
      "Iter:    97 | Cost: 0.7094924 | Accuracy: 0.7775000 \n",
      "Iter:    98 | Cost: 0.7147048 | Accuracy: 0.7787500 \n",
      "Iter:    99 | Cost: 0.7223660 | Accuracy: 0.7737500 \n",
      "Iter:   100 | Cost: 0.7155518 | Accuracy: 0.7762500 \n",
      "Iter:   101 | Cost: 0.7036484 | Accuracy: 0.7812500 \n",
      "Iter:   102 | Cost: 0.6924116 | Accuracy: 0.7825000 \n",
      "Iter:   103 | Cost: 0.6795914 | Accuracy: 0.7862500 \n",
      "Iter:   104 | Cost: 0.6683575 | Accuracy: 0.7925000 \n",
      "Iter:   105 | Cost: 0.6624127 | Accuracy: 0.7937500 \n",
      "Iter:   106 | Cost: 0.6671175 | Accuracy: 0.7837500 \n",
      "Iter:   107 | Cost: 0.6763090 | Accuracy: 0.7800000 \n",
      "Iter:   108 | Cost: 0.6833493 | Accuracy: 0.7700000 \n",
      "Iter:   109 | Cost: 0.6917573 | Accuracy: 0.7500000 \n",
      "Iter:   110 | Cost: 0.7049443 | Accuracy: 0.7337500 \n",
      "Iter:   111 | Cost: 0.7232812 | Accuracy: 0.7262500 \n",
      "Iter:   112 | Cost: 0.7729056 | Accuracy: 0.7112500 \n",
      "Iter:   113 | Cost: 0.8312344 | Accuracy: 0.6775000 \n",
      "Iter:   114 | Cost: 0.8572863 | Accuracy: 0.6587500 \n",
      "Iter:   115 | Cost: 0.8469261 | Accuracy: 0.6712500 \n",
      "Iter:   116 | Cost: 0.8004449 | Accuracy: 0.7100000 \n",
      "Iter:   117 | Cost: 0.7655079 | Accuracy: 0.7150000 \n",
      "Iter:   118 | Cost: 0.7489139 | Accuracy: 0.7200000 \n",
      "Iter:   119 | Cost: 0.7463152 | Accuracy: 0.7600000 \n",
      "Iter:   120 | Cost: 0.7441666 | Accuracy: 0.7787500 \n",
      "Iter:   121 | Cost: 0.7367905 | Accuracy: 0.7850000 \n",
      "Iter:   122 | Cost: 0.7260823 | Accuracy: 0.7937500 \n",
      "Iter:   123 | Cost: 0.7131680 | Accuracy: 0.7975000 \n",
      "Iter:   124 | Cost: 0.7049369 | Accuracy: 0.7937500 \n",
      "Iter:   125 | Cost: 0.6958857 | Accuracy: 0.7937500 \n",
      "Iter:   126 | Cost: 0.6878830 | Accuracy: 0.7962500 \n",
      "Iter:   127 | Cost: 0.6840597 | Accuracy: 0.7925000 \n",
      "Iter:   128 | Cost: 0.6826017 | Accuracy: 0.7850000 \n",
      "Iter:   129 | Cost: 0.6849800 | Accuracy: 0.7850000 \n",
      "Iter:   130 | Cost: 0.6965380 | Accuracy: 0.7837500 \n",
      "Iter:   131 | Cost: 0.7043688 | Accuracy: 0.7837500 \n",
      "Iter:   132 | Cost: 0.7051012 | Accuracy: 0.7825000 \n",
      "Iter:   133 | Cost: 0.7079171 | Accuracy: 0.7825000 \n",
      "Iter:   134 | Cost: 0.7070739 | Accuracy: 0.7837500 \n",
      "Iter:   135 | Cost: 0.7036570 | Accuracy: 0.7825000 \n",
      "Iter:   136 | Cost: 0.6999123 | Accuracy: 0.7825000 \n",
      "Iter:   137 | Cost: 0.7011263 | Accuracy: 0.7825000 \n",
      "Iter:   138 | Cost: 0.6946146 | Accuracy: 0.7812500 \n",
      "Iter:   139 | Cost: 0.6844924 | Accuracy: 0.7787500 \n",
      "Iter:   140 | Cost: 0.6789146 | Accuracy: 0.7825000 \n",
      "Iter:   141 | Cost: 0.6768201 | Accuracy: 0.7812500 \n",
      "Iter:   142 | Cost: 0.6819012 | Accuracy: 0.7837500 \n",
      "Iter:   143 | Cost: 0.6923455 | Accuracy: 0.7850000 \n",
      "Iter:   144 | Cost: 0.7064000 | Accuracy: 0.7912500 \n",
      "Iter:   145 | Cost: 0.7164091 | Accuracy: 0.7925000 \n",
      "Iter:   146 | Cost: 0.7223160 | Accuracy: 0.7925000 \n",
      "Iter:   147 | Cost: 0.7195528 | Accuracy: 0.7912500 \n",
      "Iter:   148 | Cost: 0.7055251 | Accuracy: 0.7925000 \n",
      "Iter:   149 | Cost: 0.6932840 | Accuracy: 0.7962500 \n",
      "Iter:   150 | Cost: 0.6801622 | Accuracy: 0.7925000 \n"
     ]
    }
   ],
   "source": [
    "weights = weights_init\n",
    "bias = bias_init\n",
    "\n",
    "wbest = 0\n",
    "bbest = 0\n",
    "abest = 0\n",
    "ccost = 1 \n",
    "for it in range(150):\n",
    "\n",
    "    # weights update by one optimizer step\n",
    "\n",
    "    batch_index = np.random.randint(0, len(X), (batch_size,))\n",
    "    X_batch = X[batch_index]\n",
    "    Y_batch = Y[batch_index]\n",
    "    weights, bias, _, _ = opt.step(cost, weights, bias, X_batch, Y_batch)\n",
    "\n",
    "    # Compute the accuracy\n",
    "    predictions = [np.sign(variational_classifier(weights, bias, x)) for x in X]\n",
    "    \n",
    "    '''if accuracy(Y, predictions) > abest:\n",
    "        wbest = weights\n",
    "        bbest = bias\n",
    "        abest = accuracy(Y, predictions)\n",
    "        print('New best')\n",
    "\n",
    "    acc = accuracy(Y, predictions)\n",
    "\n",
    "    print(\n",
    "        \"Iter: {:5d} | Cost: {:0.7f} | Accuracy: {:0.7f} \".format(\n",
    "            it + 1, cost(weights, bias, X, Y), acc\n",
    "        )\n",
    "    )'''\n",
    "    prec = accuracy(Y, predictions)\n",
    "    if  prec > abest or ((prec == abest) and (cost(weights, bias, X, Y) < ccost)):\n",
    "        wbest = weights\n",
    "        bbest = bias\n",
    "        abest = prec\n",
    "        ccost = cost(weights, bias, X, Y)\n",
    "        print('New best')\n",
    "    #prec = metrics.precision_score(Y, predictions, average='binary')\n",
    "    print(\n",
    "        \"Iter: {:5d} | Cost: {:0.7f} | Accuracy: {:0.7f} \".format(\n",
    "            it + 1, cost(weights, bias, X, Y), prec\n",
    "        )\n",
    "    )\n",
    "    \n",
    "    "
   ]
  },
  {
   "cell_type": "code",
   "execution_count": 45,
   "id": "615e6410-5955-469d-8ccd-32517ba8ec3f",
   "metadata": {},
   "outputs": [
    {
     "name": "stdout",
     "output_type": "stream",
     "text": [
      "Cost: 0.5575790059067254, Accuracy: 80.0%\n"
     ]
    }
   ],
   "source": [
    "predictions = [np.sign(variational_classifier(wbest, bbest, x)) for x in Xte]\n",
    "pred = [np.sign(variational_classifier(wbest, bbest, x)) for x in X]\n",
    "acc = accuracy(Yte, predictions)\n",
    "\n",
    "print(f'Cost: {cost(wbest, bbest, Xte, Yte)}, Accuracy: {np.round(acc, 2) * 100}%')"
   ]
  },
  {
   "cell_type": "code",
   "execution_count": 46,
   "id": "694c231f-ce47-4bdb-be6a-eb1308ebc00e",
   "metadata": {},
   "outputs": [
    {
     "name": "stdout",
     "output_type": "stream",
     "text": [
      "              precision    recall  f1-score   support\n",
      "\n",
      "        -1.0       0.80      1.00      0.89       160\n",
      "         1.0       0.00      0.00      0.00        40\n",
      "\n",
      "    accuracy                           0.80       200\n",
      "   macro avg       0.40      0.50      0.44       200\n",
      "weighted avg       0.64      0.80      0.71       200\n",
      "\n"
     ]
    }
   ],
   "source": [
    "print(metrics.classification_report(Yte, predictions))"
   ]
  },
  {
   "cell_type": "code",
   "execution_count": 47,
   "id": "660c69a6-87da-400e-99ba-739d49627088",
   "metadata": {},
   "outputs": [
    {
     "name": "stdout",
     "output_type": "stream",
     "text": [
      "\n",
      "\n",
      "    Precision: 0.0%\n",
      "    Recall: 0.0%\n",
      "    f1: 0.0%\n",
      "    Accuracy: 80.0%\n",
      "    Balanced accuracy: 80.0%\n",
      "    Matthew corcorref: 0.0%\n",
      "    \n"
     ]
    }
   ],
   "source": [
    "print(f'''\n",
    "\n",
    "    Precision: {round(100*metrics.precision_score(predictions,Yte),2)}%\n",
    "    Recall: {round(100*metrics.recall_score(predictions,Yte),2)}%\n",
    "    f1: {round(100*metrics.f1_score(predictions,Yte),2)}%\n",
    "    Accuracy: {round(100*metrics.accuracy_score(predictions,Yte),2)}%\n",
    "    Balanced accuracy: {round(100*metrics.balanced_accuracy_score(predictions,Yte),2)}%\n",
    "    Matthew corcorref: {round(100*metrics.matthews_corrcoef(predictions,Yte),2)}%\n",
    "    ''')"
   ]
  },
  {
   "cell_type": "code",
   "execution_count": null,
   "id": "5ee63f17-2adf-48b6-9106-fb542ed641d6",
   "metadata": {},
   "outputs": [],
   "source": []
  },
  {
   "cell_type": "code",
   "execution_count": null,
   "id": "b697c8a2-32ea-4488-a4a5-d40c89115e8d",
   "metadata": {},
   "outputs": [],
   "source": []
  },
  {
   "cell_type": "code",
   "execution_count": null,
   "id": "3733572a-30eb-4080-bb3e-7201605149c8",
   "metadata": {},
   "outputs": [],
   "source": []
  },
  {
   "cell_type": "code",
   "execution_count": null,
   "id": "8f19289f-ce71-4aa8-8504-ac6564f69660",
   "metadata": {},
   "outputs": [],
   "source": []
  },
  {
   "cell_type": "code",
   "execution_count": null,
   "id": "984d88c4-592e-44cc-8695-6032b16f7617",
   "metadata": {},
   "outputs": [],
   "source": []
  }
 ],
 "metadata": {
  "kernelspec": {
   "display_name": "Python 3 (ipykernel)",
   "language": "python",
   "name": "python3"
  },
  "language_info": {
   "codemirror_mode": {
    "name": "ipython",
    "version": 3
   },
   "file_extension": ".py",
   "mimetype": "text/x-python",
   "name": "python",
   "nbconvert_exporter": "python",
   "pygments_lexer": "ipython3",
   "version": "3.10.6"
  }
 },
 "nbformat": 4,
 "nbformat_minor": 5
}
