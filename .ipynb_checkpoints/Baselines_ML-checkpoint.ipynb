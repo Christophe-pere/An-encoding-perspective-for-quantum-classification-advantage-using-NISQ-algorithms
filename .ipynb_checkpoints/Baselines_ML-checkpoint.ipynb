{
 "cells": [
  {
   "cell_type": "markdown",
   "id": "53c0afa4-6ebc-47cb-b67c-d321254a77f5",
   "metadata": {},
   "source": [
    "# Baseline ML"
   ]
  },
  {
   "cell_type": "code",
   "execution_count": 1,
   "id": "cff21064-8f59-4ae8-8353-36c110472b97",
   "metadata": {},
   "outputs": [],
   "source": [
    "import pandas as pd\n",
    "import matplotlib.pyplot as plt\n",
    "import numpy as np\n",
    "from sklearn.svm import SVC\n",
    "from sklearn import metrics\n",
    "from sklearn.ensemble import RandomForestClassifier\n",
    "from sklearn.linear_model import LogisticRegression\n",
    "from sklearn.tree import DecisionTreeClassifier\n",
    "from sklearn.preprocessing import normalize\n",
    "from sklearn.model_selection import cross_val_score, KFold\n",
    "#Import classical libraries\n",
    "from sklearn.neighbors import KNeighborsClassifier\n",
    "from sklearn.naive_bayes import GaussianNB\n",
    "from sklearn.svm import SVC\n",
    "from sklearn.ensemble import RandomForestClassifier\n",
    "from sklearn.model_selection import train_test_split\n",
    "from sklearn import datasets\n",
    "import matplotlib.pyplot as plt\n",
    "\n",
    "plt.style.use('ggplot')\n",
    "\n"
   ]
  },
  {
   "cell_type": "code",
   "execution_count": 2,
   "id": "75d666e8-2583-46fe-ba44-58ee5c9b6da2",
   "metadata": {},
   "outputs": [],
   "source": [
    "import warnings\n",
    "warnings.filterwarnings('ignore')"
   ]
  },
  {
   "cell_type": "code",
   "execution_count": 3,
   "id": "942513ef-c1b1-442e-bed8-6bc445cfc062",
   "metadata": {},
   "outputs": [],
   "source": [
    "df = pd.read_csv('UCI_Credit_Card.csv', sep=',')"
   ]
  },
  {
   "cell_type": "code",
   "execution_count": 4,
   "id": "7bc8a276-b918-432a-8620-52ef6005fd3e",
   "metadata": {},
   "outputs": [],
   "source": [
    "df_labels = df['default.payment.next.month']\n",
    "df.drop(['default.payment.next.month'],axis = 1,inplace = True)"
   ]
  },
  {
   "cell_type": "code",
   "execution_count": 5,
   "id": "a1ce6804-937e-4318-af9c-7eb8cde6068d",
   "metadata": {},
   "outputs": [],
   "source": [
    "X_train, X_test, y_train, y_test = train_test_split(df, df_labels, test_size=0.2, random_state=42)"
   ]
  },
  {
   "cell_type": "code",
   "execution_count": 6,
   "id": "f94db46a-22a3-43d8-90f3-bd51174c1b00",
   "metadata": {},
   "outputs": [],
   "source": [
    "from sklearn.model_selection import cross_validate\n",
    "from tqdm import tqdm\n",
    "def evaluate_ml_model(_models, X, y, n_fold=10, metric='precision'):\n",
    "    ''' Function to evaluate a ML and QML model with a list of metrics\n",
    "    \n",
    "    \n",
    "    '''\n",
    "    results = pd.DataFrame()\n",
    "    kfold = KFold(n_splits=n_fold)\n",
    "    columns = []\n",
    "    for name, model in tqdm(_models):\n",
    "        # -------------------\n",
    "        # Variables initialization \n",
    "        _df = pd.DataFrame()\n",
    "        names = []\n",
    "        means = []\n",
    "        stds = []\n",
    "        \n",
    "        # -------------------\n",
    "        # k-fold Cross validation\n",
    "        cv_results = cross_validate(model, X, y, cv=kfold, scoring=metric)\n",
    "        \n",
    "        # -------------------\n",
    "        # Compute the mean and standard deviation \n",
    "        for _name, _array in cv_results.items():\n",
    "            names.append(_name)\n",
    "            means.append(round(100*_array.mean(), 2))\n",
    "            stds.append(round(100*_array.std(), 2))\n",
    "        # -------------------\n",
    "        # Save the results in a dataframe \n",
    "        _df =  pd.DataFrame([means, stds], columns=names)\n",
    "        columns.extend([name+' mean (%)', name+' std (%)'])\n",
    "        #results = results.join(_df, on=_df.index)\n",
    "        results = results.append(_df)\n",
    "    results.index = columns\n",
    "    print(results)\n",
    "    return results"
   ]
  },
  {
   "cell_type": "code",
   "execution_count": 7,
   "id": "155df77e-3cf3-4564-8102-bd7cc3fcac41",
   "metadata": {},
   "outputs": [],
   "source": [
    "models = []\n",
    "models.append(('LR', LogisticRegression(max_iter=1000, random_state=42)))\n",
    "models.append(('KNN', KNeighborsClassifier(n_neighbors=7)))\n",
    "models.append(('CART', DecisionTreeClassifier(random_state=42)))\n",
    "models.append(('NB', GaussianNB()))\n",
    "models.append(('SVM', SVC(random_state=42)))\n",
    "\n",
    "_metrics = ['precision', 'recall', 'f1', 'accuracy',  'matthews_corrcoef','balanced_accuracy']"
   ]
  },
  {
   "cell_type": "code",
   "execution_count": 8,
   "id": "ebba3ae9-31d6-475c-907b-dc53edffae57",
   "metadata": {},
   "outputs": [],
   "source": [
    "df_results = pd.DataFrame()"
   ]
  },
  {
   "cell_type": "code",
   "execution_count": 9,
   "id": "2006cd16-beed-4246-be32-b8faa61c1e0b",
   "metadata": {},
   "outputs": [
    {
     "name": "stderr",
     "output_type": "stream",
     "text": [
      "100%|█████████████████████████████████████████████| 5/5 [01:26<00:00, 17.30s/it]"
     ]
    },
    {
     "name": "stdout",
     "output_type": "stream",
     "text": [
      "               fit_time  score_time  test_precision  test_recall  test_f1  \\\n",
      "LR mean (%)       23.51        0.47            0.00         0.00     0.00   \n",
      "LR std (%)        12.02        0.22            0.00         0.00     0.00   \n",
      "KNN mean (%)       0.44        9.93           38.74        15.45    22.07   \n",
      "KNN std (%)        0.45        8.67            2.03         1.51     1.76   \n",
      "CART mean (%)     33.97        0.35           37.79        40.53    39.10   \n",
      "CART std (%)       1.19        0.03            1.51         1.51     1.34   \n",
      "NB mean (%)        0.56        0.35           24.71        88.41    38.62   \n",
      "NB std (%)         0.03        0.03            0.89         1.55     1.15   \n",
      "SVM mean (%)     695.94       98.88            0.00         0.00     0.00   \n",
      "SVM std (%)       13.41        0.63            0.00         0.00     0.00   \n",
      "\n",
      "               test_accuracy  test_matthews_corrcoef  test_balanced_accuracy  \n",
      "LR mean (%)            77.81                   -0.22                   49.99  \n",
      "LR std (%)              0.86                    0.44                    0.01  \n",
      "KNN mean (%)           75.84                   12.43                   54.26  \n",
      "KNN std (%)             0.76                    1.64                    0.65  \n",
      "CART mean (%)          72.02                   20.99                   60.76  \n",
      "CART std (%)            0.77                    1.45                    0.75  \n",
      "NB mean (%)            37.70                   11.94                   55.82  \n",
      "NB std (%)              0.81                    1.74                    0.88  \n",
      "SVM mean (%)           77.82                    0.00                   50.00  \n",
      "SVM std (%)             0.86                    0.00                    0.00  \n"
     ]
    },
    {
     "name": "stderr",
     "output_type": "stream",
     "text": [
      "\n"
     ]
    }
   ],
   "source": [
    "df_results = evaluate_ml_model(models, X_train, y_train, n_fold=10, metric=_metrics)"
   ]
  },
  {
   "cell_type": "code",
   "execution_count": 10,
   "id": "945e78cc-337b-4c86-b04b-247434129861",
   "metadata": {},
   "outputs": [
    {
     "data": {
      "text/html": [
       "<div>\n",
       "<style scoped>\n",
       "    .dataframe tbody tr th:only-of-type {\n",
       "        vertical-align: middle;\n",
       "    }\n",
       "\n",
       "    .dataframe tbody tr th {\n",
       "        vertical-align: top;\n",
       "    }\n",
       "\n",
       "    .dataframe thead th {\n",
       "        text-align: right;\n",
       "    }\n",
       "</style>\n",
       "<table border=\"1\" class=\"dataframe\">\n",
       "  <thead>\n",
       "    <tr style=\"text-align: right;\">\n",
       "      <th></th>\n",
       "      <th>fit_time</th>\n",
       "      <th>score_time</th>\n",
       "      <th>test_precision</th>\n",
       "      <th>test_recall</th>\n",
       "      <th>test_f1</th>\n",
       "      <th>test_accuracy</th>\n",
       "      <th>test_matthews_corrcoef</th>\n",
       "      <th>test_balanced_accuracy</th>\n",
       "    </tr>\n",
       "  </thead>\n",
       "  <tbody>\n",
       "    <tr>\n",
       "      <th>LR mean (%)</th>\n",
       "      <td>23.51</td>\n",
       "      <td>0.47</td>\n",
       "      <td>0.00</td>\n",
       "      <td>0.00</td>\n",
       "      <td>0.00</td>\n",
       "      <td>77.81</td>\n",
       "      <td>-0.22</td>\n",
       "      <td>49.99</td>\n",
       "    </tr>\n",
       "    <tr>\n",
       "      <th>LR std (%)</th>\n",
       "      <td>12.02</td>\n",
       "      <td>0.22</td>\n",
       "      <td>0.00</td>\n",
       "      <td>0.00</td>\n",
       "      <td>0.00</td>\n",
       "      <td>0.86</td>\n",
       "      <td>0.44</td>\n",
       "      <td>0.01</td>\n",
       "    </tr>\n",
       "    <tr>\n",
       "      <th>KNN mean (%)</th>\n",
       "      <td>0.44</td>\n",
       "      <td>9.93</td>\n",
       "      <td>38.74</td>\n",
       "      <td>15.45</td>\n",
       "      <td>22.07</td>\n",
       "      <td>75.84</td>\n",
       "      <td>12.43</td>\n",
       "      <td>54.26</td>\n",
       "    </tr>\n",
       "    <tr>\n",
       "      <th>KNN std (%)</th>\n",
       "      <td>0.45</td>\n",
       "      <td>8.67</td>\n",
       "      <td>2.03</td>\n",
       "      <td>1.51</td>\n",
       "      <td>1.76</td>\n",
       "      <td>0.76</td>\n",
       "      <td>1.64</td>\n",
       "      <td>0.65</td>\n",
       "    </tr>\n",
       "    <tr>\n",
       "      <th>CART mean (%)</th>\n",
       "      <td>33.97</td>\n",
       "      <td>0.35</td>\n",
       "      <td>37.79</td>\n",
       "      <td>40.53</td>\n",
       "      <td>39.10</td>\n",
       "      <td>72.02</td>\n",
       "      <td>20.99</td>\n",
       "      <td>60.76</td>\n",
       "    </tr>\n",
       "    <tr>\n",
       "      <th>CART std (%)</th>\n",
       "      <td>1.19</td>\n",
       "      <td>0.03</td>\n",
       "      <td>1.51</td>\n",
       "      <td>1.51</td>\n",
       "      <td>1.34</td>\n",
       "      <td>0.77</td>\n",
       "      <td>1.45</td>\n",
       "      <td>0.75</td>\n",
       "    </tr>\n",
       "    <tr>\n",
       "      <th>NB mean (%)</th>\n",
       "      <td>0.56</td>\n",
       "      <td>0.35</td>\n",
       "      <td>24.71</td>\n",
       "      <td>88.41</td>\n",
       "      <td>38.62</td>\n",
       "      <td>37.70</td>\n",
       "      <td>11.94</td>\n",
       "      <td>55.82</td>\n",
       "    </tr>\n",
       "    <tr>\n",
       "      <th>NB std (%)</th>\n",
       "      <td>0.03</td>\n",
       "      <td>0.03</td>\n",
       "      <td>0.89</td>\n",
       "      <td>1.55</td>\n",
       "      <td>1.15</td>\n",
       "      <td>0.81</td>\n",
       "      <td>1.74</td>\n",
       "      <td>0.88</td>\n",
       "    </tr>\n",
       "    <tr>\n",
       "      <th>SVM mean (%)</th>\n",
       "      <td>695.94</td>\n",
       "      <td>98.88</td>\n",
       "      <td>0.00</td>\n",
       "      <td>0.00</td>\n",
       "      <td>0.00</td>\n",
       "      <td>77.82</td>\n",
       "      <td>0.00</td>\n",
       "      <td>50.00</td>\n",
       "    </tr>\n",
       "    <tr>\n",
       "      <th>SVM std (%)</th>\n",
       "      <td>13.41</td>\n",
       "      <td>0.63</td>\n",
       "      <td>0.00</td>\n",
       "      <td>0.00</td>\n",
       "      <td>0.00</td>\n",
       "      <td>0.86</td>\n",
       "      <td>0.00</td>\n",
       "      <td>0.00</td>\n",
       "    </tr>\n",
       "  </tbody>\n",
       "</table>\n",
       "</div>"
      ],
      "text/plain": [
       "               fit_time  score_time  test_precision  test_recall  test_f1  \\\n",
       "LR mean (%)       23.51        0.47            0.00         0.00     0.00   \n",
       "LR std (%)        12.02        0.22            0.00         0.00     0.00   \n",
       "KNN mean (%)       0.44        9.93           38.74        15.45    22.07   \n",
       "KNN std (%)        0.45        8.67            2.03         1.51     1.76   \n",
       "CART mean (%)     33.97        0.35           37.79        40.53    39.10   \n",
       "CART std (%)       1.19        0.03            1.51         1.51     1.34   \n",
       "NB mean (%)        0.56        0.35           24.71        88.41    38.62   \n",
       "NB std (%)         0.03        0.03            0.89         1.55     1.15   \n",
       "SVM mean (%)     695.94       98.88            0.00         0.00     0.00   \n",
       "SVM std (%)       13.41        0.63            0.00         0.00     0.00   \n",
       "\n",
       "               test_accuracy  test_matthews_corrcoef  test_balanced_accuracy  \n",
       "LR mean (%)            77.81                   -0.22                   49.99  \n",
       "LR std (%)              0.86                    0.44                    0.01  \n",
       "KNN mean (%)           75.84                   12.43                   54.26  \n",
       "KNN std (%)             0.76                    1.64                    0.65  \n",
       "CART mean (%)          72.02                   20.99                   60.76  \n",
       "CART std (%)            0.77                    1.45                    0.75  \n",
       "NB mean (%)            37.70                   11.94                   55.82  \n",
       "NB std (%)              0.81                    1.74                    0.88  \n",
       "SVM mean (%)           77.82                    0.00                   50.00  \n",
       "SVM std (%)             0.86                    0.00                    0.00  "
      ]
     },
     "execution_count": 10,
     "metadata": {},
     "output_type": "execute_result"
    }
   ],
   "source": [
    "df_results"
   ]
  },
  {
   "cell_type": "markdown",
   "id": "4afb3821-fe42-470f-9aa4-8ff2e6fec45a",
   "metadata": {},
   "source": [
    "## Fraud Dataset"
   ]
  },
  {
   "cell_type": "markdown",
   "id": "52ef4a36-5f28-4e6d-bb26-cd0b9b5a95f0",
   "metadata": {},
   "source": [
    "## Full dataset"
   ]
  },
  {
   "cell_type": "code",
   "execution_count": 11,
   "id": "2c7528e8-e6c8-4da0-a3a4-c34d5606835c",
   "metadata": {},
   "outputs": [],
   "source": [
    "df = pd.read_csv('fraud_detection_bank_dataset.csv', sep=',')"
   ]
  },
  {
   "cell_type": "code",
   "execution_count": 12,
   "id": "14efc9df-311c-403b-b68a-0bd67fc1592a",
   "metadata": {},
   "outputs": [],
   "source": [
    "df = df.drop(['Unnamed: 0'], axis = 1)\n",
    "df_labels = df['targets']\n",
    "df.drop(['targets'],axis = 1,inplace = True)"
   ]
  },
  {
   "cell_type": "code",
   "execution_count": 13,
   "id": "36dc0f22-a253-4bad-b399-10f35e9acb1b",
   "metadata": {},
   "outputs": [],
   "source": [
    "X_train, X_test, y_train, y_test = train_test_split(df, df_labels, test_size=0.2, random_state=42)"
   ]
  },
  {
   "cell_type": "code",
   "execution_count": 14,
   "id": "91ca343c-d3a1-4c6d-a865-f9da2c1bae5f",
   "metadata": {},
   "outputs": [],
   "source": [
    "models = []\n",
    "models.append(('LR', LogisticRegression(max_iter=1000, random_state=42)))\n",
    "models.append(('KNN', KNeighborsClassifier(n_neighbors=7)))\n",
    "models.append(('CART', DecisionTreeClassifier(random_state=42)))\n",
    "models.append(('NB', GaussianNB()))\n",
    "models.append(('SVM', SVC(random_state=42)))\n",
    "\n",
    "_metrics = ['precision', 'recall', 'f1', 'accuracy',  'matthews_corrcoef','balanced_accuracy']"
   ]
  },
  {
   "cell_type": "code",
   "execution_count": 15,
   "id": "267c2e16-7ebb-474d-8532-8a045c11d976",
   "metadata": {},
   "outputs": [],
   "source": [
    "df_results2 = pd.DataFrame()"
   ]
  },
  {
   "cell_type": "code",
   "execution_count": null,
   "id": "3d691e71-1c4f-4a23-898b-65effc1e3fdb",
   "metadata": {},
   "outputs": [
    {
     "name": "stderr",
     "output_type": "stream",
     "text": [
      " 80%|████████████████████████████████████         | 4/5 [00:35<00:05,  5.16s/it]"
     ]
    }
   ],
   "source": [
    "df_results2 = evaluate_ml_model(models, X_train, y_train, n_fold=10, metric=_metrics)"
   ]
  },
  {
   "cell_type": "code",
   "execution_count": null,
   "id": "047da94f-2d2f-4d9f-bb88-c2800fd8c208",
   "metadata": {},
   "outputs": [],
   "source": [
    "df_results2"
   ]
  },
  {
   "cell_type": "markdown",
   "id": "235ce727-cc2e-4e36-846f-7b52279ee28a",
   "metadata": {},
   "source": [
    "## Without highly correlated features"
   ]
  },
  {
   "cell_type": "code",
   "execution_count": null,
   "id": "06cee635-55ad-4676-9813-96d92d18d551",
   "metadata": {},
   "outputs": [],
   "source": [
    "cols = ['col_8', 'col_9', 'col_10', 'col_11', 'col_12', 'col_18', 'col_19','col_20', 'col_21', 'col_35', \n",
    "        'col_51', 'col_52', 'col_53', 'col_70','col_71','col_7', 'col_22', 'col_54', 'col_56']\n",
    "\n",
    "X_train = X_train.drop(cols, axis=1)\n",
    "X_test = X_test.drop(cols, axis=1)"
   ]
  },
  {
   "cell_type": "code",
   "execution_count": null,
   "id": "4782b72b-9d4e-494b-976e-6d1ef37ec0ae",
   "metadata": {},
   "outputs": [],
   "source": [
    "models = []\n",
    "models.append(('LR', LogisticRegression(max_iter=1000, random_state=42)))\n",
    "models.append(('KNN', KNeighborsClassifier(n_neighbors=7)))\n",
    "models.append(('CART', DecisionTreeClassifier(random_state=42)))\n",
    "models.append(('NB', GaussianNB()))\n",
    "models.append(('SVM', SVC(random_state=42)))\n",
    "\n",
    "_metrics = ['precision', 'recall', 'f1', 'accuracy',  'matthews_corrcoef','balanced_accuracy']"
   ]
  },
  {
   "cell_type": "code",
   "execution_count": null,
   "id": "cfd003c9-9812-46d6-a408-bd3e813f38a2",
   "metadata": {},
   "outputs": [],
   "source": [
    "df_results3 = pd.DataFrame()"
   ]
  },
  {
   "cell_type": "code",
   "execution_count": null,
   "id": "da3d05bc-023c-43f0-aee5-652e24349399",
   "metadata": {},
   "outputs": [],
   "source": [
    "df_results3 = evaluate_ml_model(models, X_train, y_train, n_fold=10, metric=_metrics)"
   ]
  },
  {
   "cell_type": "code",
   "execution_count": null,
   "id": "524ef222-a13a-4c0a-82e1-387db66f24cb",
   "metadata": {},
   "outputs": [],
   "source": []
  }
 ],
 "metadata": {
  "kernelspec": {
   "display_name": "Python 3 (ipykernel)",
   "language": "python",
   "name": "python3"
  },
  "language_info": {
   "codemirror_mode": {
    "name": "ipython",
    "version": 3
   },
   "file_extension": ".py",
   "mimetype": "text/x-python",
   "name": "python",
   "nbconvert_exporter": "python",
   "pygments_lexer": "ipython3",
   "version": "3.10.6"
  }
 },
 "nbformat": 4,
 "nbformat_minor": 5
}
