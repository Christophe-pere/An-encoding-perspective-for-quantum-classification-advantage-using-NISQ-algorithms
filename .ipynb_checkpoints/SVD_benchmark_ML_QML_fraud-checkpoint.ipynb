{
 "cells": [
  {
   "cell_type": "markdown",
   "id": "d41d3fa6-0ae0-490d-a02b-0dbf81799488",
   "metadata": {},
   "source": [
    "# Quantum benchmark"
   ]
  },
  {
   "cell_type": "markdown",
   "id": "d6011e42-1fab-4f9f-ab99-f4f08607517e",
   "metadata": {},
   "source": [
    "## I - Introduction"
   ]
  },
  {
   "cell_type": "code",
   "execution_count": null,
   "id": "13b4f6b4-240b-4b7f-abe4-4e74b3b8cc8a",
   "metadata": {},
   "outputs": [],
   "source": []
  },
  {
   "cell_type": "markdown",
   "id": "bd5492ce-4f08-4755-b4c2-efd698139101",
   "metadata": {},
   "source": [
    "## II - Packages"
   ]
  },
  {
   "cell_type": "code",
   "execution_count": 1,
   "id": "90371200-0133-46ab-a205-d0f6b8858e55",
   "metadata": {},
   "outputs": [],
   "source": [
    "import pandas as pd\n",
    "import matplotlib.pyplot as plt\n",
    "import numpy as np\n",
    "from sklearn.model_selection import train_test_split\n",
    "from sklearn.preprocessing import StandardScaler\n",
    "from sklearn.decomposition import PCA\n",
    "from sklearn.discriminant_analysis import LinearDiscriminantAnalysis as LDA\n",
    "from sklearn.preprocessing import MinMaxScaler\n",
    "from sklearn.svm import SVC\n",
    "from sklearn import metrics\n",
    "from sklearn.ensemble import RandomForestClassifier\n",
    "from sklearn.linear_model import LogisticRegression\n",
    "from sklearn.tree import DecisionTreeClassifier\n",
    "from sklearn.preprocessing import normalize\n",
    "from sklearn.model_selection import cross_val_score, KFold\n",
    "#Import classical libraries\n",
    "from sklearn.neighbors import KNeighborsClassifier\n",
    "from sklearn.naive_bayes import GaussianNB\n",
    "from sklearn.svm import SVC\n",
    "from sklearn.ensemble import RandomForestClassifier\n",
    "from sklearn.model_selection import train_test_split\n",
    "from sklearn import datasets\n",
    "import matplotlib.pyplot as plt\n",
    "\n",
    "plt.style.use('ggplot')\n",
    "\n",
    "import functools\n",
    "\n",
    "from qiskit import BasicAer\n",
    "from qiskit.circuit.library import ZZFeatureMap\n",
    "from qiskit.utils import QuantumInstance, algorithm_globals\n",
    "from qiskit_machine_learning.algorithms import QSVC\n",
    "from qiskit_machine_learning.kernels import QuantumKernel\n",
    "from qiskit_machine_learning.datasets import ad_hoc_data\n",
    "import logging\n",
    "\n",
    "import pennylane as qml\n",
    "from pennylane.templates.embeddings import AngleEmbedding, AmplitudeEmbedding\n",
    "from pennylane.optimize import AdamOptimizer\n",
    "\n",
    "from qiskit.algorithms.optimizers import COBYLA\n",
    "from qiskit.circuit.library import TwoLocal, ZZFeatureMap\n",
    "import qiskit"
   ]
  },
  {
   "cell_type": "code",
   "execution_count": 2,
   "id": "20fe0c02-3bc3-4367-8958-920db81351ad",
   "metadata": {},
   "outputs": [],
   "source": [
    "import warnings\n",
    "warnings.filterwarnings('ignore')"
   ]
  },
  {
   "cell_type": "markdown",
   "id": "1598c94c-fdcf-41cd-a4ea-e262932c7e0f",
   "metadata": {},
   "source": [
    "## III - Data "
   ]
  },
  {
   "cell_type": "code",
   "execution_count": 3,
   "id": "e683f3b5-6021-4eb7-bc53-539a5cd79bfc",
   "metadata": {},
   "outputs": [],
   "source": [
    "# Read out CSV\n",
    "\n",
    "df = pd.read_csv('santander_transaction.csv', sep=',')"
   ]
  },
  {
   "cell_type": "code",
   "execution_count": 4,
   "id": "bf69c7f1-b10e-4b54-89ec-89dd5829ac42",
   "metadata": {},
   "outputs": [],
   "source": [
    "%%script false --no-raise-error\n",
    "\n",
    "import sweetviz as sv\n",
    "\n",
    "#EDA using Autoviz\n",
    "sweet_report = sv.analyze(df)\n",
    "\n",
    "#Saving results to HTML file\n",
    "sweet_report.show_html('sweet_report.html')"
   ]
  },
  {
   "cell_type": "markdown",
   "id": "c4ff48fa-d03b-435d-9343-67186c068b34",
   "metadata": {},
   "source": [
    "## IV - Modelisation"
   ]
  },
  {
   "cell_type": "markdown",
   "id": "b1251e3e-c8ed-4e57-a790-1fa8003f8c31",
   "metadata": {},
   "source": [
    "## Quantum Approaches"
   ]
  },
  {
   "cell_type": "code",
   "execution_count": 5,
   "id": "687e30e4-b09c-4bd1-8365-5fc49a22c661",
   "metadata": {},
   "outputs": [],
   "source": [
    "from sklearn.decomposition import TruncatedSVD"
   ]
  },
  {
   "cell_type": "code",
   "execution_count": 6,
   "id": "a48d4b60-5675-473e-88a1-77dcff67374d",
   "metadata": {},
   "outputs": [],
   "source": [
    "from sklearn.preprocessing import StandardScaler"
   ]
  },
  {
   "cell_type": "code",
   "execution_count": 7,
   "id": "42637c78-03cb-4549-9634-f18c6b7a7f41",
   "metadata": {},
   "outputs": [],
   "source": [
    "\n",
    "df_labels = df['target']\n",
    "df.drop(['target'],axis = 1,inplace = True)\n",
    "X_train, X_test, y_train, y_test = train_test_split(df, df_labels, test_size=0.2, random_state=42)"
   ]
  },
  {
   "cell_type": "code",
   "execution_count": 8,
   "id": "53c4b754-1ee5-42b6-a8ec-2d9f32b5762a",
   "metadata": {},
   "outputs": [],
   "source": [
    "# Standardizing the features\n",
    "std_scale = StandardScaler().fit(X_train)\n",
    "X_train = std_scale.transform(X_train)\n",
    "X_test = std_scale.transform(X_test)"
   ]
  },
  {
   "cell_type": "code",
   "execution_count": 9,
   "id": "a948c1c2-cb55-49b2-bb4c-c2d2fdca527a",
   "metadata": {},
   "outputs": [],
   "source": [
    "qla = TruncatedSVD(n_components=2)"
   ]
  },
  {
   "cell_type": "code",
   "execution_count": 10,
   "id": "b921a949-e3bd-45b6-b0e0-a84f96788811",
   "metadata": {},
   "outputs": [
    {
     "data": {
      "text/html": [
       "<style>#sk-container-id-1 {color: black;background-color: white;}#sk-container-id-1 pre{padding: 0;}#sk-container-id-1 div.sk-toggleable {background-color: white;}#sk-container-id-1 label.sk-toggleable__label {cursor: pointer;display: block;width: 100%;margin-bottom: 0;padding: 0.3em;box-sizing: border-box;text-align: center;}#sk-container-id-1 label.sk-toggleable__label-arrow:before {content: \"▸\";float: left;margin-right: 0.25em;color: #696969;}#sk-container-id-1 label.sk-toggleable__label-arrow:hover:before {color: black;}#sk-container-id-1 div.sk-estimator:hover label.sk-toggleable__label-arrow:before {color: black;}#sk-container-id-1 div.sk-toggleable__content {max-height: 0;max-width: 0;overflow: hidden;text-align: left;background-color: #f0f8ff;}#sk-container-id-1 div.sk-toggleable__content pre {margin: 0.2em;color: black;border-radius: 0.25em;background-color: #f0f8ff;}#sk-container-id-1 input.sk-toggleable__control:checked~div.sk-toggleable__content {max-height: 200px;max-width: 100%;overflow: auto;}#sk-container-id-1 input.sk-toggleable__control:checked~label.sk-toggleable__label-arrow:before {content: \"▾\";}#sk-container-id-1 div.sk-estimator input.sk-toggleable__control:checked~label.sk-toggleable__label {background-color: #d4ebff;}#sk-container-id-1 div.sk-label input.sk-toggleable__control:checked~label.sk-toggleable__label {background-color: #d4ebff;}#sk-container-id-1 input.sk-hidden--visually {border: 0;clip: rect(1px 1px 1px 1px);clip: rect(1px, 1px, 1px, 1px);height: 1px;margin: -1px;overflow: hidden;padding: 0;position: absolute;width: 1px;}#sk-container-id-1 div.sk-estimator {font-family: monospace;background-color: #f0f8ff;border: 1px dotted black;border-radius: 0.25em;box-sizing: border-box;margin-bottom: 0.5em;}#sk-container-id-1 div.sk-estimator:hover {background-color: #d4ebff;}#sk-container-id-1 div.sk-parallel-item::after {content: \"\";width: 100%;border-bottom: 1px solid gray;flex-grow: 1;}#sk-container-id-1 div.sk-label:hover label.sk-toggleable__label {background-color: #d4ebff;}#sk-container-id-1 div.sk-serial::before {content: \"\";position: absolute;border-left: 1px solid gray;box-sizing: border-box;top: 0;bottom: 0;left: 50%;z-index: 0;}#sk-container-id-1 div.sk-serial {display: flex;flex-direction: column;align-items: center;background-color: white;padding-right: 0.2em;padding-left: 0.2em;position: relative;}#sk-container-id-1 div.sk-item {position: relative;z-index: 1;}#sk-container-id-1 div.sk-parallel {display: flex;align-items: stretch;justify-content: center;background-color: white;position: relative;}#sk-container-id-1 div.sk-item::before, #sk-container-id-1 div.sk-parallel-item::before {content: \"\";position: absolute;border-left: 1px solid gray;box-sizing: border-box;top: 0;bottom: 0;left: 50%;z-index: -1;}#sk-container-id-1 div.sk-parallel-item {display: flex;flex-direction: column;z-index: 1;position: relative;background-color: white;}#sk-container-id-1 div.sk-parallel-item:first-child::after {align-self: flex-end;width: 50%;}#sk-container-id-1 div.sk-parallel-item:last-child::after {align-self: flex-start;width: 50%;}#sk-container-id-1 div.sk-parallel-item:only-child::after {width: 0;}#sk-container-id-1 div.sk-dashed-wrapped {border: 1px dashed gray;margin: 0 0.4em 0.5em 0.4em;box-sizing: border-box;padding-bottom: 0.4em;background-color: white;}#sk-container-id-1 div.sk-label label {font-family: monospace;font-weight: bold;display: inline-block;line-height: 1.2em;}#sk-container-id-1 div.sk-label-container {text-align: center;}#sk-container-id-1 div.sk-container {/* jupyter's `normalize.less` sets `[hidden] { display: none; }` but bootstrap.min.css set `[hidden] { display: none !important; }` so we also need the `!important` here to be able to override the default hidden behavior on the sphinx rendered scikit-learn.org. See: https://github.com/scikit-learn/scikit-learn/issues/21755 */display: inline-block !important;position: relative;}#sk-container-id-1 div.sk-text-repr-fallback {display: none;}</style><div id=\"sk-container-id-1\" class=\"sk-top-container\"><div class=\"sk-text-repr-fallback\"><pre>TruncatedSVD()</pre><b>In a Jupyter environment, please rerun this cell to show the HTML representation or trust the notebook. <br />On GitHub, the HTML representation is unable to render, please try loading this page with nbviewer.org.</b></div><div class=\"sk-container\" hidden><div class=\"sk-item\"><div class=\"sk-estimator sk-toggleable\"><input class=\"sk-toggleable__control sk-hidden--visually\" id=\"sk-estimator-id-1\" type=\"checkbox\" checked><label for=\"sk-estimator-id-1\" class=\"sk-toggleable__label sk-toggleable__label-arrow\">TruncatedSVD</label><div class=\"sk-toggleable__content\"><pre>TruncatedSVD()</pre></div></div></div></div></div>"
      ],
      "text/plain": [
       "TruncatedSVD()"
      ]
     },
     "execution_count": 10,
     "metadata": {},
     "output_type": "execute_result"
    }
   ],
   "source": [
    "qla.fit(X_train)"
   ]
  },
  {
   "cell_type": "code",
   "execution_count": 11,
   "id": "58737fde-c826-4acf-8c94-cb8f4df345bd",
   "metadata": {},
   "outputs": [],
   "source": [
    "df_qla = qla.transform(X_train)\n",
    "df_qla_test = qla.transform(X_test)"
   ]
  },
  {
   "cell_type": "code",
   "execution_count": 12,
   "id": "3228f8e5-9afe-4127-9b40-c70fbd78c63d",
   "metadata": {},
   "outputs": [],
   "source": [
    "svd_train = pd.DataFrame(data = df_qla\n",
    "             , columns = ['principal component 1', 'principal component 2'])\n",
    "svd_test = pd.DataFrame(data = df_qla_test\n",
    "             , columns = ['principal component 1', 'principal component 2'])\n"
   ]
  },
  {
   "cell_type": "code",
   "execution_count": 13,
   "id": "bb5a4c4a-13aa-4bcc-b388-f8641146ddca",
   "metadata": {},
   "outputs": [
    {
     "data": {
      "text/html": [
       "<div>\n",
       "<style scoped>\n",
       "    .dataframe tbody tr th:only-of-type {\n",
       "        vertical-align: middle;\n",
       "    }\n",
       "\n",
       "    .dataframe tbody tr th {\n",
       "        vertical-align: top;\n",
       "    }\n",
       "\n",
       "    .dataframe thead th {\n",
       "        text-align: right;\n",
       "    }\n",
       "</style>\n",
       "<table border=\"1\" class=\"dataframe\">\n",
       "  <thead>\n",
       "    <tr style=\"text-align: right;\">\n",
       "      <th></th>\n",
       "      <th>principal component 1</th>\n",
       "      <th>principal component 2</th>\n",
       "    </tr>\n",
       "  </thead>\n",
       "  <tbody>\n",
       "    <tr>\n",
       "      <th>0</th>\n",
       "      <td>2.036415</td>\n",
       "      <td>2.244663</td>\n",
       "    </tr>\n",
       "    <tr>\n",
       "      <th>1</th>\n",
       "      <td>-2.947736</td>\n",
       "      <td>-2.982036</td>\n",
       "    </tr>\n",
       "    <tr>\n",
       "      <th>2</th>\n",
       "      <td>1.418964</td>\n",
       "      <td>0.635732</td>\n",
       "    </tr>\n",
       "    <tr>\n",
       "      <th>3</th>\n",
       "      <td>0.497220</td>\n",
       "      <td>1.490918</td>\n",
       "    </tr>\n",
       "    <tr>\n",
       "      <th>4</th>\n",
       "      <td>1.900037</td>\n",
       "      <td>-0.551283</td>\n",
       "    </tr>\n",
       "  </tbody>\n",
       "</table>\n",
       "</div>"
      ],
      "text/plain": [
       "   principal component 1  principal component 2\n",
       "0               2.036415               2.244663\n",
       "1              -2.947736              -2.982036\n",
       "2               1.418964               0.635732\n",
       "3               0.497220               1.490918\n",
       "4               1.900037              -0.551283"
      ]
     },
     "execution_count": 13,
     "metadata": {},
     "output_type": "execute_result"
    }
   ],
   "source": [
    "svd_train.head()"
   ]
  },
  {
   "cell_type": "code",
   "execution_count": 14,
   "id": "3141a967-8c2f-472e-a934-5ad8ac0d9237",
   "metadata": {},
   "outputs": [
    {
     "data": {
      "text/plain": [
       "[<matplotlib.lines.Line2D at 0x17f7b4970>]"
      ]
     },
     "execution_count": 14,
     "metadata": {},
     "output_type": "execute_result"
    },
    {
     "data": {
      "image/png": "[encoded data removed]",
      "text/plain": [
       "<Figure size 1000x800 with 1 Axes>"
      ]
     },
     "metadata": {},
     "output_type": "display_data"
    }
   ],
   "source": [
    "plt.figure(figsize=(10,8))\n",
    "plt.plot(svd_train.iloc[:,0], svd_train.iloc[:,1], '+')\n",
    "#plt.plot(df.index, feature_2, 'g+')"
   ]
  },
  {
   "cell_type": "code",
   "execution_count": 16,
   "id": "a1de5099-55d4-4d2d-9ea4-eaf60c27b16c",
   "metadata": {},
   "outputs": [],
   "source": [
    "n_dim = len(svd_train.columns)"
   ]
  },
  {
   "cell_type": "markdown",
   "id": "bd626d5c-ff6a-443a-9700-10a93c24dc74",
   "metadata": {},
   "source": [
    "## Split train test "
   ]
  },
  {
   "cell_type": "code",
   "execution_count": 42,
   "id": "afaf0912-bdbf-4460-ae4c-43016d1f5a57",
   "metadata": {},
   "outputs": [],
   "source": [
    "# Split dataset into train and test\n",
    "\n",
    "#sample_train, sample_test, label_train, label_test = train_test_split(\n",
    "#     principalDf, y_train, test_size=0.2, random_state=22)\n",
    "\n",
    "sample_train = svd_train.to_numpy()\n",
    "sample_test = svd_test.to_numpy()\n",
    "label_train = y_train\n",
    "label_test = y_test\n",
    "# Normalize\n",
    "\n",
    "#std_scale = StandardScaler().fit(sample_train)\n",
    "#sample_train = std_scale.transform(sample_train)\n",
    "#sample_test = std_scale.transform(sample_test)\n",
    "\n",
    "# Scale for better fit within the feature map\n",
    "\n",
    "samples = np.append(sample_train, sample_test, axis=0)\n",
    "minmax_scale = MinMaxScaler((-1, 1)).fit(samples)\n",
    "sample_train = minmax_scale.transform(sample_train)\n",
    "sample_test = minmax_scale.transform(sample_test)\n",
    "\n",
    "# Select a sample for a better control of the research and wall time\n",
    "\n",
    "#train_size = 800#160\n",
    "#sample_train = sample_train[:train_size]\n",
    "#label_train = label_train[:train_size]\n",
    "\n",
    "#test_size = 200 #40\n",
    "#sample_test = sample_test[:test_size]\n",
    "#label_test = label_test[:test_size]"
   ]
  },
  {
   "cell_type": "code",
   "execution_count": 18,
   "id": "d815edbe-c5e7-42d6-9489-39ebb940cda4",
   "metadata": {},
   "outputs": [],
   "source": [
    "# Basic parameters for hybrid model\n",
    "\n",
    "seed = 8500\n",
    "feature_dim = 2#n_dim\n",
    "num_reps = 2\n",
    "num_shots =256 \n"
   ]
  },
  {
   "cell_type": "markdown",
   "id": "a17bc9af-4a1c-453d-be99-d54b9e045628",
   "metadata": {},
   "source": [
    "## Hybrid"
   ]
  },
  {
   "cell_type": "code",
   "execution_count": 19,
   "id": "c2ce7078-9255-4913-b6aa-7f05a0e077c3",
   "metadata": {},
   "outputs": [],
   "source": [
    "# Define feature_map\n",
    "\n",
    "feature_map = ZZFeatureMap(feature_dimension=feature_dim, reps=num_reps)\n",
    "\n",
    "# Define the backend\n",
    "backend = QuantumInstance(\n",
    "    BasicAer.get_backend(\"qasm_simulator\"), shots=num_shots, seed_simulator=seed, seed_transpiler=seed\n",
    ")\n",
    "\n",
    "# Define the kernel\n",
    "\n",
    "kernel = QuantumKernel(feature_map=feature_map, quantum_instance=backend)\n",
    "\n",
    "# Model run\n",
    "svc = SVC(kernel=kernel.evaluate)\n",
    "#svc.fit(sample_train, label_train)\n",
    "#score = svc.score(sample_test, label_test)\n",
    "\n",
    "#print(f\"Callable kernel classification test score: {score}\")"
   ]
  },
  {
   "cell_type": "code",
   "execution_count": 20,
   "id": "b8fd86d8-bec9-42ac-8543-c69c973a7f01",
   "metadata": {},
   "outputs": [],
   "source": [
    "#result_predict = svc.predict(sample_test)"
   ]
  },
  {
   "cell_type": "code",
   "execution_count": 21,
   "id": "ee71fc2a-46dc-46d1-8f51-8e3df5723407",
   "metadata": {},
   "outputs": [],
   "source": [
    "#print(metrics.classification_report(label_test,result_predict))"
   ]
  },
  {
   "cell_type": "markdown",
   "id": "5fc1d4e4-599e-47ea-b53c-dc200ee4dec0",
   "metadata": {},
   "source": [
    "## Classical Approaches"
   ]
  },
  {
   "cell_type": "code",
   "execution_count": 22,
   "id": "5bd332f9-cc4e-43eb-9cd9-0990b709ae83",
   "metadata": {},
   "outputs": [],
   "source": [
    "from sklearn.model_selection import cross_validate\n",
    "from tqdm import tqdm\n",
    "def evaluate_ml_model(_models, X, y, n_fold=10, metric='precision'):\n",
    "    ''' Function to evaluate a ML and QML model with a list of metrics\n",
    "    \n",
    "    \n",
    "    '''\n",
    "    results = pd.DataFrame()\n",
    "    kfold = KFold(n_splits=n_fold)\n",
    "    columns = []\n",
    "    for name, model in tqdm(_models):\n",
    "        # -------------------\n",
    "        # Variables initialization \n",
    "        _df = pd.DataFrame()\n",
    "        names = []\n",
    "        means = []\n",
    "        stds = []\n",
    "        \n",
    "        # -------------------\n",
    "        # k-fold Cross validation\n",
    "        cv_results = cross_validate(model, X, y, cv=kfold, scoring=metric)\n",
    "        \n",
    "        # -------------------\n",
    "        # Compute the mean and standard deviation \n",
    "        for _name, _array in cv_results.items():\n",
    "            names.append(_name)\n",
    "            means.append(round(100*_array.mean(), 2))\n",
    "            stds.append(round(100*_array.std(), 2))\n",
    "        # -------------------\n",
    "        # Save the results in a dataframe \n",
    "        _df =  pd.DataFrame([means, stds], columns=names)\n",
    "        columns.extend([name+' mean (%)', name+' std (%)'])\n",
    "        #results = results.join(_df, on=_df.index)\n",
    "        results = results.append(_df)\n",
    "    results.index = columns\n",
    "    print(results)\n",
    "    return results"
   ]
  },
  {
   "cell_type": "code",
   "execution_count": 47,
   "id": "d93f1b24-b419-4eb0-abb5-fd297fcec137",
   "metadata": {},
   "outputs": [],
   "source": [
    "models = []\n",
    "#models.append(('LR', LogisticRegression(max_iter=1000, random_state=42)))\n",
    "#models.append(('KNN', KNeighborsClassifier(n_neighbors=7)))\n",
    "#models.append(('CART', DecisionTreeClassifier(random_state=42)))\n",
    "#models.append(('NB', GaussianNB()))\n",
    "#models.append(('SVM', SVC(random_state=42)))\n",
    "models.append(('QSVC', svc))\n",
    "_metrics = ['precision', 'recall', 'f1', 'accuracy',  'matthews_corrcoef','balanced_accuracy']"
   ]
  },
  {
   "cell_type": "code",
   "execution_count": 48,
   "id": "a92689bc-07b9-4bdd-b25c-0b0bae45a976",
   "metadata": {},
   "outputs": [],
   "source": [
    "df_results = pd.DataFrame()"
   ]
  },
  {
   "cell_type": "code",
   "execution_count": 49,
   "id": "15d5c6b3-7172-430b-b803-f60126a12cdb",
   "metadata": {
    "tags": []
   },
   "outputs": [
    {
     "name": "stderr",
     "output_type": "stream",
     "text": [
      "100%|█████████████████████████████████████████| 1/1 [1:01:48<00:00, 3708.42s/it]"
     ]
    },
    {
     "name": "stdout",
     "output_type": "stream",
     "text": [
      "               fit_time  score_time  test_precision  test_recall  test_f1  \\\n",
      "QSVC mean (%)  29957.56     7126.42           57.34        33.81    41.79   \n",
      "QSVC std (%)    2093.50      582.80           12.18         5.55     4.86   \n",
      "\n",
      "               test_accuracy  test_matthews_corrcoef  test_balanced_accuracy  \n",
      "QSVC mean (%)          52.38                    7.21                   53.11  \n",
      "QSVC std (%)            4.89                   11.68                    5.15  \n"
     ]
    },
    {
     "name": "stderr",
     "output_type": "stream",
     "text": [
      "\n"
     ]
    }
   ],
   "source": [
    "df_results = evaluate_ml_model(models, sample_train, label_train, n_fold=10, metric=_metrics)"
   ]
  },
  {
   "cell_type": "code",
   "execution_count": 50,
   "id": "8561d92d-f3ee-4045-b6e5-98097a82f364",
   "metadata": {},
   "outputs": [
    {
     "data": {
      "text/html": [
       "<div>\n",
       "<style scoped>\n",
       "    .dataframe tbody tr th:only-of-type {\n",
       "        vertical-align: middle;\n",
       "    }\n",
       "\n",
       "    .dataframe tbody tr th {\n",
       "        vertical-align: top;\n",
       "    }\n",
       "\n",
       "    .dataframe thead th {\n",
       "        text-align: right;\n",
       "    }\n",
       "</style>\n",
       "<table border=\"1\" class=\"dataframe\">\n",
       "  <thead>\n",
       "    <tr style=\"text-align: right;\">\n",
       "      <th></th>\n",
       "      <th>fit_time</th>\n",
       "      <th>score_time</th>\n",
       "      <th>test_precision</th>\n",
       "      <th>test_recall</th>\n",
       "      <th>test_f1</th>\n",
       "      <th>test_accuracy</th>\n",
       "      <th>test_matthews_corrcoef</th>\n",
       "      <th>test_balanced_accuracy</th>\n",
       "    </tr>\n",
       "  </thead>\n",
       "  <tbody>\n",
       "    <tr>\n",
       "      <th>QSVC mean (%)</th>\n",
       "      <td>29957.56</td>\n",
       "      <td>7126.42</td>\n",
       "      <td>57.34</td>\n",
       "      <td>33.81</td>\n",
       "      <td>41.79</td>\n",
       "      <td>52.38</td>\n",
       "      <td>7.21</td>\n",
       "      <td>53.11</td>\n",
       "    </tr>\n",
       "    <tr>\n",
       "      <th>QSVC std (%)</th>\n",
       "      <td>2093.50</td>\n",
       "      <td>582.80</td>\n",
       "      <td>12.18</td>\n",
       "      <td>5.55</td>\n",
       "      <td>4.86</td>\n",
       "      <td>4.89</td>\n",
       "      <td>11.68</td>\n",
       "      <td>5.15</td>\n",
       "    </tr>\n",
       "  </tbody>\n",
       "</table>\n",
       "</div>"
      ],
      "text/plain": [
       "               fit_time  score_time  test_precision  test_recall  test_f1  \\\n",
       "QSVC mean (%)  29957.56     7126.42           57.34        33.81    41.79   \n",
       "QSVC std (%)    2093.50      582.80           12.18         5.55     4.86   \n",
       "\n",
       "               test_accuracy  test_matthews_corrcoef  test_balanced_accuracy  \n",
       "QSVC mean (%)          52.38                    7.21                   53.11  \n",
       "QSVC std (%)            4.89                   11.68                    5.15  "
      ]
     },
     "execution_count": 50,
     "metadata": {},
     "output_type": "execute_result"
    }
   ],
   "source": [
    "df_results"
   ]
  },
  {
   "cell_type": "code",
   "execution_count": 51,
   "id": "2e0e0b5b-9e06-48f7-aec8-7752afe15195",
   "metadata": {},
   "outputs": [
    {
     "name": "stdout",
     "output_type": "stream",
     "text": [
      "QSVC & 57.34 (12.18) & 33.81 (5.55) &  41.79 (4.86) & 7.21 (11.68) & 53.11 (5.15) \\\n"
     ]
    }
   ],
   "source": [
    "j = 0\n",
    "for i in range(int(len(df_results.index)/2)):\n",
    "\n",
    "    print(f'{df_results.iloc[j].name.split()[0]} & {df_results.iloc[j][2]} ({df_results.iloc[j+1][2]}) & {df_results.iloc[j][3]} ({df_results.iloc[j+1][3]}) &  {df_results.iloc[j][4]} ({df_results.iloc[j+1][4]}) & {df_results.iloc[j][6]} ({df_results.iloc[j+1][6]}) & {df_results.iloc[j][7]} ({df_results.iloc[j+1][7]}) \\\\')\n",
    "    \n",
    "    j+=2"
   ]
  },
  {
   "cell_type": "markdown",
   "id": "3b70b837-4e39-4b65-83ca-8e82fc83efa1",
   "metadata": {},
   "source": [
    "## Pennylane"
   ]
  },
  {
   "cell_type": "code",
   "execution_count": 30,
   "id": "ff1d5656-f2f2-4d96-b210-a75a161cdb39",
   "metadata": {},
   "outputs": [],
   "source": [
    "from pennylane import numpy as np"
   ]
  },
  {
   "cell_type": "code",
   "execution_count": 31,
   "id": "07ec49f5-c401-4c36-aae3-57aad3eaa0ba",
   "metadata": {},
   "outputs": [],
   "source": [
    "# Angle Encoding\n",
    "\n",
    "num_qubits = n_dim\n",
    "\n",
    "dev = qml.device('default.qubit', wires = num_qubits)\n",
    "\n",
    "@qml.qnode(dev)\n",
    "def circuit(parameters, data):\n",
    "    for i in range(num_qubits):\n",
    "        qml.Hadamard(wires = i)\n",
    "    \n",
    "    AngleEmbedding(features = data, wires = range(num_qubits), rotation = 'Y')\n",
    "    \n",
    "    qml.StronglyEntanglingLayers(weights = parameters, wires = range(num_qubits))\n",
    "    \n",
    "    return qml.expval(qml.PauliZ(0))"
   ]
  },
  {
   "cell_type": "code",
   "execution_count": 32,
   "id": "ffcf8fdb-37a0-4b64-b73c-76be553995e8",
   "metadata": {},
   "outputs": [],
   "source": [
    "num_layers = 5\n",
    "weights_init = 0.01 * np.random.randn(num_layers, num_qubits, 3, requires_grad=True)\n",
    "bias_init = np.array(0.0, requires_grad=True)\n",
    "\n",
    "#print(weights_init, bias_init)"
   ]
  },
  {
   "cell_type": "code",
   "execution_count": 33,
   "id": "49568595-37ec-4749-a230-dc4c6dae2500",
   "metadata": {},
   "outputs": [
    {
     "data": {
      "text/plain": [
       "tensor(0.20366172, requires_grad=True)"
      ]
     },
     "execution_count": 33,
     "metadata": {},
     "output_type": "execute_result"
    }
   ],
   "source": [
    "circuit(weights_init, sample_train[0])"
   ]
  },
  {
   "cell_type": "code",
   "execution_count": 34,
   "id": "4febb380-0955-4f05-a872-326cc4e3a27c",
   "metadata": {},
   "outputs": [],
   "source": [
    "def variational_classifier(weights, bias, x):\n",
    "    return circuit(weights, x) + bias"
   ]
  },
  {
   "cell_type": "code",
   "execution_count": 35,
   "id": "c16a1f84-63e5-4fbb-a647-cba6db4c6c4c",
   "metadata": {},
   "outputs": [],
   "source": [
    "def square_loss(labels, predictions):\n",
    "    loss = 0\n",
    "    for l, p in zip(labels, predictions):\n",
    "        loss = loss + (l - p) ** 2\n",
    "\n",
    "    loss = loss / len(labels)\n",
    "    return loss"
   ]
  },
  {
   "cell_type": "code",
   "execution_count": 36,
   "id": "07412a53-c93b-4c73-bd0b-e7e144454435",
   "metadata": {},
   "outputs": [],
   "source": [
    "def accuracy(labels, predictions):\n",
    "\n",
    "    loss = 0\n",
    "    for l, p in zip(labels, predictions):\n",
    "        if abs(l - p) < 1e-5:\n",
    "            loss = loss + 1\n",
    "    loss = loss / len(labels)\n",
    "\n",
    "    return loss"
   ]
  },
  {
   "cell_type": "code",
   "execution_count": 37,
   "id": "1bf0b58e-38f3-4c45-a4d2-3d69af787ba3",
   "metadata": {},
   "outputs": [],
   "source": [
    "def cost(weights, bias, X, Y):\n",
    "    predictions = [variational_classifier(weights, bias, x) for x in X]\n",
    "    return square_loss(Y, predictions)"
   ]
  },
  {
   "cell_type": "code",
   "execution_count": 38,
   "id": "21ff4aa6-c15b-4a59-a718-67d8da2402dd",
   "metadata": {},
   "outputs": [
    {
     "name": "stdout",
     "output_type": "stream",
     "text": [
      "X = [tensor(0.41744076, requires_grad=True), tensor(0.4798304, requires_grad=True)], Y = -1\n",
      "X = [tensor(-0.76956049, requires_grad=True), tensor(-0.70014358, requires_grad=True)], Y = -1\n",
      "X = [tensor(0.27039154, requires_grad=True), tensor(0.11659984, requires_grad=True)], Y =  1\n",
      "X = [tensor(0.0508736, requires_grad=True), tensor(0.30966573, requires_grad=True)], Y =  1\n",
      "X = [tensor(0.3849615, requires_grad=True), tensor(-0.15137934, requires_grad=True)], Y =  1\n"
     ]
    }
   ],
   "source": [
    "Y = np.array(label_train * 2 - np.ones(len(label_train)),requires_grad=True)  # shift label from {0, 1} to {-1, 1}\n",
    "X = np.array(sample_train, requires_grad=True)\n",
    "\n",
    "for i in range(5):\n",
    "    print(\"X = {}, Y = {: d}\".format(list(X[i]), int(Y[i])))"
   ]
  },
  {
   "cell_type": "code",
   "execution_count": 39,
   "id": "074f578a-1984-4814-9070-7b20063c8bd1",
   "metadata": {},
   "outputs": [],
   "source": [
    "opt = AdamOptimizer(stepsize=0.1, beta1=0.9, beta2=0.99, eps=1e-08)\n",
    "batch_size = 10"
   ]
  },
  {
   "cell_type": "code",
   "execution_count": 40,
   "id": "2d31d6a7-74f4-4e63-b1cb-b92bfb610a5a",
   "metadata": {},
   "outputs": [
    {
     "name": "stdout",
     "output_type": "stream",
     "text": [
      "New best\n",
      "Iter:     1 | Cost: 1.0631496 | f1: 0.1004566 \n",
      "New best\n",
      "Iter:     2 | Cost: 0.9802639 | f1: 0.6513761 \n",
      "New best\n",
      "Iter:     3 | Cost: 1.0637615 | f1: 0.6755853 \n",
      "Iter:     4 | Cost: 0.9871550 | f1: 0.6730938 \n",
      "Iter:     5 | Cost: 0.9518336 | f1: 0.6712062 \n",
      "Iter:     6 | Cost: 0.9385412 | f1: 0.5356125 \n",
      "Iter:     7 | Cost: 0.9722768 | f1: 0.3920863 \n",
      "Iter:     8 | Cost: 0.9811755 | f1: 0.3868613 \n",
      "Iter:     9 | Cost: 0.9558601 | f1: 0.4532020 \n",
      "Iter:    10 | Cost: 0.9322647 | f1: 0.5508475 \n",
      "Iter:    11 | Cost: 0.9272081 | f1: 0.5825503 \n",
      "Iter:    12 | Cost: 0.9228589 | f1: 0.6188679 \n",
      "Iter:    13 | Cost: 0.9233636 | f1: 0.6347032 \n",
      "Iter:    14 | Cost: 0.9241344 | f1: 0.6396396 \n",
      "Iter:    15 | Cost: 0.9234067 | f1: 0.6400000 \n",
      "Iter:    16 | Cost: 0.9368036 | f1: 0.6652632 \n",
      "Iter:    17 | Cost: 0.9537939 | f1: 0.6706949 \n",
      "Iter:    18 | Cost: 0.9539892 | f1: 0.6720484 \n",
      "Iter:    19 | Cost: 0.9462120 | f1: 0.6583333 \n",
      "Iter:    20 | Cost: 0.9342050 | f1: 0.6187717 \n",
      "Iter:    21 | Cost: 0.9353647 | f1: 0.6024390 \n",
      "Iter:    22 | Cost: 0.9373723 | f1: 0.6000000 \n",
      "Iter:    23 | Cost: 0.9390788 | f1: 0.6052632 \n",
      "Iter:    24 | Cost: 0.9605721 | f1: 0.6598150 \n",
      "Iter:    25 | Cost: 1.0316217 | f1: 0.6697588 \n",
      "Iter:    26 | Cost: 1.0960968 | f1: 0.6736842 \n",
      "Iter:    27 | Cost: 1.0656208 | f1: 0.6672646 \n",
      "Iter:    28 | Cost: 0.9987612 | f1: 0.6641148 \n",
      "Iter:    29 | Cost: 0.9547938 | f1: 0.6413868 \n",
      "Iter:    30 | Cost: 0.9482098 | f1: 0.5790139 \n",
      "Iter:    31 | Cost: 0.9932411 | f1: 0.4755700 \n",
      "Iter:    32 | Cost: 1.0632642 | f1: 0.2952756 \n",
      "Iter:    33 | Cost: 1.1244434 | f1: 0.2038217 \n",
      "Iter:    34 | Cost: 1.0852931 | f1: 0.2318841 \n",
      "Iter:    35 | Cost: 0.9990114 | f1: 0.4162257 \n",
      "Iter:    36 | Cost: 0.9452062 | f1: 0.5679348 \n",
      "Iter:    37 | Cost: 0.9402666 | f1: 0.6539683 \n",
      "Iter:    38 | Cost: 0.9298830 | f1: 0.6349206 \n",
      "Iter:    39 | Cost: 0.9570138 | f1: 0.5007924 \n",
      "Iter:    40 | Cost: 1.0493206 | f1: 0.2729124 \n",
      "Iter:    41 | Cost: 1.0907952 | f1: 0.2250531 \n",
      "Iter:    42 | Cost: 1.0190474 | f1: 0.3282443 \n",
      "Iter:    43 | Cost: 0.9843514 | f1: 0.4163701 \n",
      "Iter:    44 | Cost: 0.9493408 | f1: 0.4937107 \n",
      "Iter:    45 | Cost: 0.9214378 | f1: 0.5922975 \n",
      "Iter:    46 | Cost: 0.9208324 | f1: 0.6028834 \n",
      "Iter:    47 | Cost: 0.9177368 | f1: 0.6389850 \n",
      "Iter:    48 | Cost: 0.9178977 | f1: 0.6151899 \n",
      "Iter:    49 | Cost: 0.9176789 | f1: 0.6180905 \n",
      "Iter:    50 | Cost: 0.9215473 | f1: 0.5949535 \n",
      "Iter:    51 | Cost: 0.9264524 | f1: 0.5690608 \n",
      "Iter:    52 | Cost: 0.9171225 | f1: 0.6268293 \n",
      "Iter:    53 | Cost: 0.9348395 | f1: 0.6742035 \n",
      "Iter:    54 | Cost: 0.9224162 | f1: 0.6498353 \n",
      "Iter:    55 | Cost: 0.9243465 | f1: 0.6551351 \n",
      "Iter:    56 | Cost: 0.9302182 | f1: 0.6624473 \n",
      "Iter:    57 | Cost: 0.9503900 | f1: 0.6739130 \n",
      "New best\n",
      "Iter:    58 | Cost: 0.9591396 | f1: 0.6776379 \n",
      "Iter:    59 | Cost: 0.9597971 | f1: 0.6776379 \n",
      "Iter:    60 | Cost: 0.9275682 | f1: 0.6609808 \n",
      "Iter:    61 | Cost: 0.9206344 | f1: 0.6010363 \n",
      "Iter:    62 | Cost: 0.9361070 | f1: 0.5301915 \n",
      "Iter:    63 | Cost: 0.9700067 | f1: 0.4261168 \n",
      "Iter:    64 | Cost: 0.9476184 | f1: 0.4827586 \n",
      "Iter:    65 | Cost: 0.9203412 | f1: 0.6035806 \n",
      "Iter:    66 | Cost: 0.9321935 | f1: 0.6659686 \n",
      "New best\n",
      "Iter:    67 | Cost: 1.0043456 | f1: 0.6787659 \n",
      "New best\n",
      "Iter:    68 | Cost: 0.9910442 | f1: 0.6808118 \n",
      "Iter:    69 | Cost: 0.9227451 | f1: 0.6533776 \n",
      "Iter:    70 | Cost: 0.9405421 | f1: 0.5098634 \n",
      "Iter:    71 | Cost: 0.9809255 | f1: 0.4176991 \n",
      "Iter:    72 | Cost: 1.0427571 | f1: 0.2816901 \n",
      "Iter:    73 | Cost: 1.0639858 | f1: 0.2653061 \n",
      "Iter:    74 | Cost: 1.0992712 | f1: 0.2123142 \n",
      "Iter:    75 | Cost: 1.0594621 | f1: 0.2828283 \n",
      "Iter:    76 | Cost: 0.9946594 | f1: 0.4007220 \n",
      "Iter:    77 | Cost: 0.9304752 | f1: 0.5531915 \n",
      "Iter:    78 | Cost: 0.9226691 | f1: 0.6519337 \n",
      "Iter:    79 | Cost: 0.9472125 | f1: 0.6780684 \n",
      "Iter:    80 | Cost: 1.0068628 | f1: 0.6795225 \n",
      "Iter:    81 | Cost: 1.0389559 | f1: 0.6797502 \n",
      "Iter:    82 | Cost: 1.0365191 | f1: 0.6791778 \n",
      "Iter:    83 | Cost: 1.0185573 | f1: 0.6775956 \n",
      "Iter:    84 | Cost: 1.0159797 | f1: 0.6770073 \n",
      "New best\n",
      "Iter:    85 | Cost: 0.9946983 | f1: 0.6822430 \n",
      "Iter:    86 | Cost: 0.9543781 | f1: 0.6785361 \n",
      "Iter:    87 | Cost: 0.9182863 | f1: 0.6374134 \n",
      "Iter:    88 | Cost: 0.9261137 | f1: 0.5694635 \n",
      "Iter:    89 | Cost: 0.9332623 | f1: 0.5379113 \n",
      "Iter:    90 | Cost: 0.9261475 | f1: 0.5686813 \n",
      "Iter:    91 | Cost: 0.9246259 | f1: 0.5776567 \n",
      "Iter:    92 | Cost: 0.9182548 | f1: 0.6209476 \n",
      "Iter:    93 | Cost: 0.9185023 | f1: 0.6163366 \n",
      "Iter:    94 | Cost: 0.9190830 | f1: 0.6146096 \n",
      "Iter:    95 | Cost: 0.9222743 | f1: 0.5907285 \n",
      "Iter:    96 | Cost: 0.9216548 | f1: 0.5931759 \n",
      "Iter:    97 | Cost: 0.9196158 | f1: 0.6285714 \n",
      "Iter:    98 | Cost: 0.9204605 | f1: 0.6323185 \n",
      "Iter:    99 | Cost: 0.9235381 | f1: 0.6449438 \n",
      "Iter:   100 | Cost: 0.9265883 | f1: 0.6572052 \n",
      "Iter:   101 | Cost: 0.9247835 | f1: 0.6489480 \n",
      "Iter:   102 | Cost: 0.9259926 | f1: 0.6482911 \n",
      "Iter:   103 | Cost: 0.9253457 | f1: 0.6481687 \n",
      "Iter:   104 | Cost: 0.9292302 | f1: 0.6623517 \n",
      "Iter:   105 | Cost: 0.9328067 | f1: 0.6687697 \n",
      "Iter:   106 | Cost: 0.9338753 | f1: 0.6659708 \n",
      "Iter:   107 | Cost: 0.9340460 | f1: 0.6666667 \n",
      "Iter:   108 | Cost: 0.9316200 | f1: 0.6645367 \n",
      "Iter:   109 | Cost: 0.9347005 | f1: 0.6701571 \n",
      "Iter:   110 | Cost: 0.9549443 | f1: 0.6805970 \n",
      "New best\n",
      "Iter:   111 | Cost: 0.9809774 | f1: 0.6837121 \n",
      "Iter:   112 | Cost: 1.0200525 | f1: 0.6776256 \n",
      "Iter:   113 | Cost: 1.0310119 | f1: 0.6793135 \n",
      "Iter:   114 | Cost: 1.0592907 | f1: 0.6773050 \n",
      "New best\n",
      "Iter:   115 | Cost: 1.0876503 | f1: 0.6841645 \n",
      "New best\n",
      "Iter:   116 | Cost: 1.0973491 | f1: 0.6870096 \n",
      "Iter:   117 | Cost: 1.0242754 | f1: 0.6763902 \n",
      "Iter:   118 | Cost: 0.9877761 | f1: 0.6824645 \n",
      "Iter:   119 | Cost: 0.9531053 | f1: 0.6800401 \n",
      "Iter:   120 | Cost: 0.9206643 | f1: 0.6400000 \n",
      "Iter:   121 | Cost: 0.9185187 | f1: 0.6223338 \n",
      "Iter:   122 | Cost: 0.9254051 | f1: 0.5749319 \n",
      "Iter:   123 | Cost: 0.9296731 | f1: 0.5530726 \n",
      "Iter:   124 | Cost: 0.9255986 | f1: 0.5706447 \n",
      "Iter:   125 | Cost: 0.9302099 | f1: 0.5487977 \n",
      "Iter:   126 | Cost: 0.9391518 | f1: 0.5274074 \n",
      "Iter:   127 | Cost: 0.9512722 | f1: 0.5007874 \n",
      "Iter:   128 | Cost: 0.9426127 | f1: 0.5122699 \n",
      "Iter:   129 | Cost: 0.9238209 | f1: 0.5780190 \n",
      "Iter:   130 | Cost: 0.9191862 | f1: 0.6090323 \n",
      "Iter:   131 | Cost: 0.9182101 | f1: 0.6208651 \n",
      "Iter:   132 | Cost: 0.9248861 | f1: 0.5687075 \n",
      "Iter:   133 | Cost: 0.9485368 | f1: 0.5007825 \n",
      "Iter:   134 | Cost: 0.9456771 | f1: 0.5131376 \n",
      "Iter:   135 | Cost: 0.9237433 | f1: 0.5828877 \n",
      "Iter:   136 | Cost: 0.9217059 | f1: 0.6490649 \n",
      "Iter:   137 | Cost: 0.9269440 | f1: 0.6624068 \n",
      "Iter:   138 | Cost: 0.9481310 | f1: 0.6765579 \n",
      "Iter:   139 | Cost: 0.9536242 | f1: 0.6783285 \n",
      "Iter:   140 | Cost: 0.9697633 | f1: 0.6831589 \n",
      "Iter:   141 | Cost: 0.9521335 | f1: 0.6809339 \n",
      "Iter:   142 | Cost: 0.9444380 | f1: 0.6746269 \n",
      "Iter:   143 | Cost: 0.9447708 | f1: 0.6752988 \n",
      "Iter:   144 | Cost: 0.9274953 | f1: 0.6587729 \n",
      "Iter:   145 | Cost: 0.9225225 | f1: 0.6408210 \n",
      "Iter:   146 | Cost: 0.9351480 | f1: 0.5576102 \n",
      "Iter:   147 | Cost: 0.9636501 | f1: 0.4754098 \n",
      "Iter:   148 | Cost: 0.9760890 | f1: 0.4376068 \n",
      "Iter:   149 | Cost: 0.9761848 | f1: 0.4485666 \n",
      "Iter:   150 | Cost: 0.9715568 | f1: 0.4830918 \n"
     ]
    }
   ],
   "source": [
    "weights = weights_init\n",
    "bias = bias_init\n",
    "\n",
    "wbest = 0\n",
    "bbest = 0\n",
    "abest = 0\n",
    "ccost = 0 \n",
    "for it in range(150):\n",
    "\n",
    "    # weights update by one optimizer step\n",
    "\n",
    "    batch_index = np.random.randint(0, len(X), (batch_size,))\n",
    "    X_batch = X[batch_index]\n",
    "    Y_batch = Y[batch_index]\n",
    "    weights, bias, _, _ = opt.step(cost, weights, bias, X_batch, Y_batch)\n",
    "\n",
    "    # Compute the accuracy\n",
    "    predictions = [np.sign(variational_classifier(weights, bias, x)) for x in X]\n",
    "    \n",
    "    '''if accuracy(Y, predictions) > abest:\n",
    "        wbest = weights\n",
    "        bbest = bias\n",
    "        abest = accuracy(Y, predictions)\n",
    "        print('New best')\n",
    "\n",
    "    acc = accuracy(Y, predictions)\n",
    "\n",
    "    print(\n",
    "        \"Iter: {:5d} | Cost: {:0.7f} | Accuracy: {:0.7f} \".format(\n",
    "            it + 1, cost(weights, bias, X, Y), acc\n",
    "        )\n",
    "    )'''\n",
    "    prec = metrics.f1_score(Y, predictions, average='binary', pos_label=1)\n",
    "    if  prec > abest or ((prec == abest) and (cost(weights, bias, X, Y) < ccost)):\n",
    "        wbest = weights\n",
    "        bbest = bias\n",
    "        abest = prec\n",
    "        ccost = cost(weights, bias, X, Y)\n",
    "        print('New best')\n",
    "    #prec = metrics.precision_score(Y, predictions, average='binary')\n",
    "    print(\n",
    "        \"Iter: {:5d} | Cost: {:0.7f} | f1: {:0.7f} \".format(\n",
    "            it + 1, cost(weights, bias, X, Y), prec\n",
    "        )\n",
    "    )\n",
    "    \n",
    "    "
   ]
  },
  {
   "cell_type": "code",
   "execution_count": 43,
   "id": "ee2dceeb-5b76-4ec7-9ebb-efb9e562cf8a",
   "metadata": {},
   "outputs": [],
   "source": [
    "Yte = np.array(label_test * 2 - np.ones(len(label_test)))\n",
    "Xte = np.array(normalize(sample_test))"
   ]
  },
  {
   "cell_type": "code",
   "execution_count": 44,
   "id": "4416ed73-4c7d-44e3-a539-9dba3191327d",
   "metadata": {},
   "outputs": [
    {
     "name": "stdout",
     "output_type": "stream",
     "text": [
      "Cost: 1.0200114072838316, Accuracy: 55.00000000000001%\n"
     ]
    }
   ],
   "source": [
    "predictions = [np.sign(variational_classifier(wbest, bbest, x)) for x in Xte]\n",
    "pred = [np.sign(variational_classifier(wbest, bbest, x)) for x in X]\n",
    "acc = accuracy(Yte, predictions)\n",
    "\n",
    "print(f'Cost: {cost(wbest, bbest, Xte, Yte)}, Accuracy: {np.round(acc, 2) * 100}%')"
   ]
  },
  {
   "cell_type": "code",
   "execution_count": 45,
   "id": "a4a2955a-d877-4885-ad84-5f31458a7c94",
   "metadata": {},
   "outputs": [
    {
     "name": "stdout",
     "output_type": "stream",
     "text": [
      "              precision    recall  f1-score   support\n",
      "\n",
      "        -1.0       0.44      0.48      0.46        81\n",
      "         1.0       0.62      0.59      0.61       119\n",
      "\n",
      "    accuracy                           0.55       200\n",
      "   macro avg       0.53      0.53      0.53       200\n",
      "weighted avg       0.55      0.55      0.55       200\n",
      "\n"
     ]
    }
   ],
   "source": [
    "print(metrics.classification_report(predictions,Yte))"
   ]
  },
  {
   "cell_type": "code",
   "execution_count": 46,
   "id": "dcedeada-a82f-4e82-b738-6a862dc801c8",
   "metadata": {},
   "outputs": [
    {
     "name": "stdout",
     "output_type": "stream",
     "text": [
      "\n",
      "\n",
      "    Precision: 62.5%\n",
      "    Recall: 58.82%\n",
      "    f1: 60.61%\n",
      "    Accuracy: 54.5%\n",
      "    Balanced accuracy: 53.49%\n",
      "    Matthew corcorref: 6.89%\n",
      "    \n"
     ]
    }
   ],
   "source": [
    "print(f'''\n",
    "\n",
    "    Precision: {round(100*metrics.precision_score(predictions,Yte),2)}%\n",
    "    Recall: {round(100*metrics.recall_score(predictions,Yte),2)}%\n",
    "    f1: {round(100*metrics.f1_score(predictions,Yte),2)}%\n",
    "    Accuracy: {round(100*metrics.accuracy_score(predictions,Yte),2)}%\n",
    "    Balanced accuracy: {round(100*metrics.balanced_accuracy_score(predictions,Yte),2)}%\n",
    "    Matthew corcorref: {round(100*metrics.matthews_corrcoef(predictions,Yte),2)}%\n",
    "    ''')"
   ]
  },
  {
   "cell_type": "code",
   "execution_count": null,
   "id": "2e5308be-6630-4637-a387-b4f796aeb98d",
   "metadata": {},
   "outputs": [],
   "source": []
  },
  {
   "cell_type": "code",
   "execution_count": null,
   "id": "ec358b81-12a1-4f0d-8149-d30bdb49d51f",
   "metadata": {},
   "outputs": [],
   "source": []
  }
 ],
 "metadata": {
  "kernelspec": {
   "display_name": "Python 3 (ipykernel)",
   "language": "python",
   "name": "python3"
  },
  "language_info": {
   "codemirror_mode": {
    "name": "ipython",
    "version": 3
   },
   "file_extension": ".py",
   "mimetype": "text/x-python",
   "name": "python",
   "nbconvert_exporter": "python",
   "pygments_lexer": "ipython3",
   "version": "3.10.6"
  }
 },
 "nbformat": 4,
 "nbformat_minor": 5
}
